{
 "cells": [
  {
   "cell_type": "markdown",
   "metadata": {},
   "source": [
    "# Homework 4 - More trains (Part I & II)\n",
    "\n",
    "__Hand-in:__\n",
    "\n",
    "- __Due: 12.05.2020 23:59:59 CET__\n",
    "- `git push` your final verion to your group's Renku repository before the due\n",
    "- check if `Dockerfile`, `environment.yml` and `requirements.txt` are properly written\n",
    "- add necessary comments and discussion to make your codes readable\n",
    "\n",
    "For this homework, you will be working with the real-time streams of the NS, the train company of the Netherlands. You can see an example webpage that uses the same streams to display the train information on a map: https://spoorkaart.mwnn.nl/ . \n",
    "\n",
    "To help you and avoid having too many connections to the NS streaming servers, we have setup a service that collects the streams and pushes them to our Kafka instance. The related topics are: \n",
    "\n",
    "`ndovloketnl-arrivals`: For each arrival of a train in a station, describe the previous and next station, time of arrival (planned and actual), track number,...\n",
    "\n",
    "`ndovloketnl-departures`: For each departure of a train from a station, describe the previous and next station, time of departure (planned and actual), track number,...\n",
    "\n",
    "`ndovloketnl-gps`: For each train, describe the current location, speed, bearing.\n",
    "\n",
    "The events are serialized in JSON (actually converted from XML), with properties in their original language. Google translate could help you understand all of them, but we will provide you with some useful mappings."
   ]
  },
  {
   "cell_type": "markdown",
   "metadata": {},
   "source": [
    "---\n",
    "## Create a Kafka client"
   ]
  },
  {
   "cell_type": "code",
   "execution_count": null,
   "metadata": {},
   "outputs": [],
   "source": [
    "import os\n",
    "from pykafka import KafkaClient\n",
    "from pykafka.common import OffsetType\n",
    "\n",
    "username = os.environ['JUPYTERHUB_USER']\n",
    "\n",
    "ZOOKEEPER_QUORUM = 'iccluster044.iccluster.epfl.ch:2181,'\\\n",
    "                   'iccluster054.iccluster.epfl.ch:2181,'\\\n",
    "                   'iccluster059.iccluster.epfl.ch:2181'\n",
    "\n",
    "client = KafkaClient(zookeeper_hosts=ZOOKEEPER_QUORUM)"
   ]
  },
  {
   "cell_type": "markdown",
   "metadata": {},
   "source": [
    "---"
   ]
  },
  {
   "cell_type": "markdown",
   "metadata": {},
   "source": [
    "## Part I - Live Plot (20 points / 50)\n",
    "\n",
    "The goal of this part is to obtain an interactive plot use the train positions from the GPS stream. We encourage you to use the examples from last week to achieve the expected result."
   ]
  },
  {
   "cell_type": "markdown",
   "metadata": {},
   "source": [
    "First, let's write a function to decode the messages from the `ndovloketnl-gps` topic."
   ]
  },
  {
   "cell_type": "code",
   "execution_count": null,
   "metadata": {
    "scrolled": true
   },
   "outputs": [],
   "source": [
    "import json\n",
    "from pykafka.common import OffsetType\n",
    "\n",
    "example_gps = client.topics[b'ndovloketnl-gps'].get_simple_consumer(\n",
    "    auto_offset_reset=OffsetType.EARLIEST,\n",
    "    reset_offset_on_start=True\n",
    ").consume()\n",
    "json.loads(example_gps.value)"
   ]
  },
  {
   "cell_type": "markdown",
   "metadata": {},
   "source": [
    "We can see that the message has the following structure:\n",
    "\n",
    "```\n",
    "{\n",
    "  'tns3:ArrayOfTreinLocation': {\n",
    "    'tns3:TreinLocation': [\n",
    "      <train_info_1>,\n",
    "      <train_info_2>,\n",
    "      ...\n",
    "    ]\n",
    "  }\n",
    "}\n",
    "```\n",
    "\n",
    "With the `<train_info_x>` messages containing:\n",
    "- `tns3:TreinNummer`: the train number. This number is used in passenger information displays.\n",
    "- `tns3:MaterieelDeelNummer`: the train car number. It identifies the physical train car.\n",
    "- `tns3:Materieelvolgnummer`: the car position. 1 is the car in front of the train, 2 the next one, etc.\n",
    "- `tns3:GpsDatumTijd`: the datetime given by the GPS.\n",
    "- `tns3:Latitude`, `tns3:Longitude`, `tns3:Elevation`: 3D coordinates given by the GPS.\n",
    "- `tns3:Snelheid`: speed, most likely given by the GPS.\n",
    "- `tns3:Richting`: heading, most likely given by the GPS.\n",
    "- `tns3:AantalSatelieten`: number of GPS satellites in view.\n",
    "\n",
    "We also notice that when a train is composed of multiple cars, the position is given in an array, with the position of all individual cars."
   ]
  },
  {
   "cell_type": "markdown",
   "metadata": {},
   "source": [
    "**Question I.a. (5/20)** Write a function `extract_gps_data` which takes the message as input and extracts the train number, train car and GPS data from the source messages. Using this function, you should be able to obtain the example table, or something similar:\n",
    "\n",
    "| timestamp | train_number | car_number | car_position | longitude | latitude | elevation | heading | speed |\n",
    "|:---------:|:------------:|:----------:|:------------:|:---------:|:--------:|:---------:|:-------:|:-----:|\n",
    "|    ...    |      ...     |     ...    |      ...     |    ...    |    ...   |    ...    |   ...   |  ...  |"
   ]
  },
  {
   "cell_type": "markdown",
   "metadata": {},
   "source": [
    "__Hints:__\n",
    "- The messages can be occaionally are empty, for example, `tns3:ArrayOfTreinLocation` or `tns3:TreinLocation` can be empty.\n",
    "- Not every message shares exactly the same structure, for example, `tns3:TreinMaterieelDelen` may be a list but not always\n",
    "- You may find Python disctionary [get(key, default)](https://docs.python.org/3.7/library/stdtypes.html#dict.get) method helpful."
   ]
  },
  {
   "cell_type": "code",
   "execution_count": null,
   "metadata": {
    "scrolled": true
   },
   "outputs": [],
   "source": [
    "def extract_gps_data(msg):\n",
    "    <--TODO-->"
   ]
  },
  {
   "cell_type": "code",
   "execution_count": 4,
   "metadata": {
    "scrolled": true
   },
   "outputs": [
    {
     "data": {
      "text/html": [
       "<div>\n",
       "<style scoped>\n",
       "    .dataframe tbody tr th:only-of-type {\n",
       "        vertical-align: middle;\n",
       "    }\n",
       "\n",
       "    .dataframe tbody tr th {\n",
       "        vertical-align: top;\n",
       "    }\n",
       "\n",
       "    .dataframe thead th {\n",
       "        text-align: right;\n",
       "    }\n",
       "</style>\n",
       "<table border=\"1\" class=\"dataframe\">\n",
       "  <thead>\n",
       "    <tr style=\"text-align: right;\">\n",
       "      <th></th>\n",
       "      <th>timestamp</th>\n",
       "      <th>train_number</th>\n",
       "      <th>car_number</th>\n",
       "      <th>car_position</th>\n",
       "      <th>longitude</th>\n",
       "      <th>latitude</th>\n",
       "      <th>elevation</th>\n",
       "      <th>heading</th>\n",
       "      <th>speed</th>\n",
       "    </tr>\n",
       "  </thead>\n",
       "  <tbody>\n",
       "    <tr>\n",
       "      <th>0</th>\n",
       "      <td>2020-04-17T10:54:45Z</td>\n",
       "      <td>2253</td>\n",
       "      <td>8658</td>\n",
       "      <td>1</td>\n",
       "      <td>4.0380105</td>\n",
       "      <td>51.4648525</td>\n",
       "      <td>0.0</td>\n",
       "      <td>0.0</td>\n",
       "      <td>0</td>\n",
       "    </tr>\n",
       "    <tr>\n",
       "      <th>1</th>\n",
       "      <td>2020-04-17T10:54:48Z</td>\n",
       "      <td>5451</td>\n",
       "      <td>2939</td>\n",
       "      <td>1</td>\n",
       "      <td>4.5396635994124</td>\n",
       "      <td>52.374485813855</td>\n",
       "      <td>0.0</td>\n",
       "      <td>268.0</td>\n",
       "      <td>39.6</td>\n",
       "    </tr>\n",
       "    <tr>\n",
       "      <th>2</th>\n",
       "      <td>2020-04-17T10:54:40Z</td>\n",
       "      <td>5451</td>\n",
       "      <td>2985</td>\n",
       "      <td>2</td>\n",
       "      <td>4.541686919749</td>\n",
       "      <td>52.374542255335</td>\n",
       "      <td>0.0</td>\n",
       "      <td>267.4</td>\n",
       "      <td>39.6</td>\n",
       "    </tr>\n",
       "    <tr>\n",
       "      <th>3</th>\n",
       "      <td>2020-04-17T10:54:48Z</td>\n",
       "      <td>5434</td>\n",
       "      <td>2980</td>\n",
       "      <td>1</td>\n",
       "      <td>4.7549210692524</td>\n",
       "      <td>52.384401828139</td>\n",
       "      <td>0.0</td>\n",
       "      <td>95.6</td>\n",
       "      <td>82.8</td>\n",
       "    </tr>\n",
       "    <tr>\n",
       "      <th>4</th>\n",
       "      <td>2020-04-17T10:54:44Z</td>\n",
       "      <td>5434</td>\n",
       "      <td>2994</td>\n",
       "      <td>2</td>\n",
       "      <td>4.7528178171193</td>\n",
       "      <td>52.384679626375</td>\n",
       "      <td>0.0</td>\n",
       "      <td>105.8</td>\n",
       "      <td>79.2</td>\n",
       "    </tr>\n",
       "    <tr>\n",
       "      <th>5</th>\n",
       "      <td>2020-04-17T10:54:39Z</td>\n",
       "      <td>3347</td>\n",
       "      <td>2333</td>\n",
       "      <td>1</td>\n",
       "      <td>4.8917345</td>\n",
       "      <td>52.6786076667</td>\n",
       "      <td>0.0</td>\n",
       "      <td>90.93</td>\n",
       "      <td>95.0</td>\n",
       "    </tr>\n",
       "    <tr>\n",
       "      <th>6</th>\n",
       "      <td>2020-04-17T10:54:42Z</td>\n",
       "      <td>3347</td>\n",
       "      <td>2745</td>\n",
       "      <td>1</td>\n",
       "      <td>4.80994833333</td>\n",
       "      <td>52.4445896667</td>\n",
       "      <td>0.0</td>\n",
       "      <td>160.43</td>\n",
       "      <td>70.0</td>\n",
       "    </tr>\n",
       "    <tr>\n",
       "      <th>7</th>\n",
       "      <td>2020-04-17T10:54:46Z</td>\n",
       "      <td>3347</td>\n",
       "      <td>2737</td>\n",
       "      <td>2</td>\n",
       "      <td>4.80987116667</td>\n",
       "      <td>52.4447323333</td>\n",
       "      <td>0.0</td>\n",
       "      <td>160.38</td>\n",
       "      <td>69.0</td>\n",
       "    </tr>\n",
       "    <tr>\n",
       "      <th>8</th>\n",
       "      <td>2020-04-17T10:54:40Z</td>\n",
       "      <td>8845</td>\n",
       "      <td>4246</td>\n",
       "      <td>1</td>\n",
       "      <td>4.86512666667</td>\n",
       "      <td>52.0707221667</td>\n",
       "      <td>0.0</td>\n",
       "      <td>94.53</td>\n",
       "      <td>54.0</td>\n",
       "    </tr>\n",
       "    <tr>\n",
       "      <th>9</th>\n",
       "      <td>2020-04-17T10:54:39Z</td>\n",
       "      <td>8845</td>\n",
       "      <td>4084</td>\n",
       "      <td>2</td>\n",
       "      <td>4.86335633333</td>\n",
       "      <td>52.0708353333</td>\n",
       "      <td>0.0</td>\n",
       "      <td>96.14</td>\n",
       "      <td>53.0</td>\n",
       "    </tr>\n",
       "    <tr>\n",
       "      <th>10</th>\n",
       "      <td>2020-04-17T10:54:39Z</td>\n",
       "      <td>5642</td>\n",
       "      <td>2722</td>\n",
       "      <td>1</td>\n",
       "      <td>5.614247</td>\n",
       "      <td>52.300987</td>\n",
       "      <td>0.0</td>\n",
       "      <td>203.16</td>\n",
       "      <td>33.0</td>\n",
       "    </tr>\n",
       "    <tr>\n",
       "      <th>11</th>\n",
       "      <td>2020-04-17T10:54:46Z</td>\n",
       "      <td>5642</td>\n",
       "      <td>2329</td>\n",
       "      <td>2</td>\n",
       "      <td>5.6140935</td>\n",
       "      <td>52.3008036667</td>\n",
       "      <td>0.0</td>\n",
       "      <td>203.58</td>\n",
       "      <td>50.0</td>\n",
       "    </tr>\n",
       "    <tr>\n",
       "      <th>12</th>\n",
       "      <td>2020-04-17T10:54:40Z</td>\n",
       "      <td>1641</td>\n",
       "      <td>4080</td>\n",
       "      <td>1</td>\n",
       "      <td>6.14415</td>\n",
       "      <td>52.2542466667</td>\n",
       "      <td>0.0</td>\n",
       "      <td>41.93</td>\n",
       "      <td>80.0</td>\n",
       "    </tr>\n",
       "    <tr>\n",
       "      <th>13</th>\n",
       "      <td>2020-04-17T10:54:47Z</td>\n",
       "      <td>1641</td>\n",
       "      <td>4060</td>\n",
       "      <td>2</td>\n",
       "      <td>6.14451216667</td>\n",
       "      <td>52.2545173333</td>\n",
       "      <td>0.0</td>\n",
       "      <td>41.9</td>\n",
       "      <td>71.0</td>\n",
       "    </tr>\n",
       "    <tr>\n",
       "      <th>14</th>\n",
       "      <td>2020-04-17T10:54:48Z</td>\n",
       "      <td>7643</td>\n",
       "      <td>2122</td>\n",
       "      <td>1</td>\n",
       "      <td>5.8228832964418</td>\n",
       "      <td>51.827352147181</td>\n",
       "      <td>0.0</td>\n",
       "      <td>68.7</td>\n",
       "      <td>7.2</td>\n",
       "    </tr>\n",
       "    <tr>\n",
       "      <th>15</th>\n",
       "      <td>2020-04-17T10:54:45Z</td>\n",
       "      <td>7643</td>\n",
       "      <td>2971</td>\n",
       "      <td>2</td>\n",
       "      <td>5.8215932946887</td>\n",
       "      <td>51.827161341968</td>\n",
       "      <td>0.0</td>\n",
       "      <td>78.4</td>\n",
       "      <td>14.4</td>\n",
       "    </tr>\n",
       "    <tr>\n",
       "      <th>16</th>\n",
       "      <td>2020-04-17T10:54:43Z</td>\n",
       "      <td>7644</td>\n",
       "      <td>2943</td>\n",
       "      <td>1</td>\n",
       "      <td>6.0070944598101</td>\n",
       "      <td>52.003716132905</td>\n",
       "      <td>0.0</td>\n",
       "      <td>249.5</td>\n",
       "      <td>111.6</td>\n",
       "    </tr>\n",
       "    <tr>\n",
       "      <th>17</th>\n",
       "      <td>2020-04-17T10:54:46Z</td>\n",
       "      <td>7644</td>\n",
       "      <td>2138</td>\n",
       "      <td>2</td>\n",
       "      <td>6.0068542904319</td>\n",
       "      <td>52.003672815828</td>\n",
       "      <td>0.0</td>\n",
       "      <td>249.8</td>\n",
       "      <td>111.6</td>\n",
       "    </tr>\n",
       "    <tr>\n",
       "      <th>18</th>\n",
       "      <td>2020-04-05T20:29:04.85Z</td>\n",
       "      <td>4340</td>\n",
       "      <td>2444</td>\n",
       "      <td>1</td>\n",
       "      <td>0</td>\n",
       "      <td>0</td>\n",
       "      <td>0.0</td>\n",
       "      <td>0.0</td>\n",
       "      <td>0</td>\n",
       "    </tr>\n",
       "    <tr>\n",
       "      <th>19</th>\n",
       "      <td>2020-04-17T10:54:46Z</td>\n",
       "      <td>4340</td>\n",
       "      <td>2610</td>\n",
       "      <td>2</td>\n",
       "      <td>5.1506836716304</td>\n",
       "      <td>52.336733049109</td>\n",
       "      <td>0.0</td>\n",
       "      <td>191.3</td>\n",
       "      <td>82.8</td>\n",
       "    </tr>\n",
       "  </tbody>\n",
       "</table>\n",
       "</div>"
      ],
      "text/plain": [
       "                  timestamp train_number car_number car_position  \\\n",
       "0      2020-04-17T10:54:45Z         2253       8658            1   \n",
       "1      2020-04-17T10:54:48Z         5451       2939            1   \n",
       "2      2020-04-17T10:54:40Z         5451       2985            2   \n",
       "3      2020-04-17T10:54:48Z         5434       2980            1   \n",
       "4      2020-04-17T10:54:44Z         5434       2994            2   \n",
       "5      2020-04-17T10:54:39Z         3347       2333            1   \n",
       "6      2020-04-17T10:54:42Z         3347       2745            1   \n",
       "7      2020-04-17T10:54:46Z         3347       2737            2   \n",
       "8      2020-04-17T10:54:40Z         8845       4246            1   \n",
       "9      2020-04-17T10:54:39Z         8845       4084            2   \n",
       "10     2020-04-17T10:54:39Z         5642       2722            1   \n",
       "11     2020-04-17T10:54:46Z         5642       2329            2   \n",
       "12     2020-04-17T10:54:40Z         1641       4080            1   \n",
       "13     2020-04-17T10:54:47Z         1641       4060            2   \n",
       "14     2020-04-17T10:54:48Z         7643       2122            1   \n",
       "15     2020-04-17T10:54:45Z         7643       2971            2   \n",
       "16     2020-04-17T10:54:43Z         7644       2943            1   \n",
       "17     2020-04-17T10:54:46Z         7644       2138            2   \n",
       "18  2020-04-05T20:29:04.85Z         4340       2444            1   \n",
       "19     2020-04-17T10:54:46Z         4340       2610            2   \n",
       "\n",
       "          longitude         latitude elevation heading  speed  \n",
       "0         4.0380105       51.4648525       0.0     0.0      0  \n",
       "1   4.5396635994124  52.374485813855       0.0   268.0   39.6  \n",
       "2    4.541686919749  52.374542255335       0.0   267.4   39.6  \n",
       "3   4.7549210692524  52.384401828139       0.0    95.6   82.8  \n",
       "4   4.7528178171193  52.384679626375       0.0   105.8   79.2  \n",
       "5         4.8917345    52.6786076667       0.0   90.93   95.0  \n",
       "6     4.80994833333    52.4445896667       0.0  160.43   70.0  \n",
       "7     4.80987116667    52.4447323333       0.0  160.38   69.0  \n",
       "8     4.86512666667    52.0707221667       0.0   94.53   54.0  \n",
       "9     4.86335633333    52.0708353333       0.0   96.14   53.0  \n",
       "10         5.614247        52.300987       0.0  203.16   33.0  \n",
       "11        5.6140935    52.3008036667       0.0  203.58   50.0  \n",
       "12          6.14415    52.2542466667       0.0   41.93   80.0  \n",
       "13    6.14451216667    52.2545173333       0.0    41.9   71.0  \n",
       "14  5.8228832964418  51.827352147181       0.0    68.7    7.2  \n",
       "15  5.8215932946887  51.827161341968       0.0    78.4   14.4  \n",
       "16  6.0070944598101  52.003716132905       0.0   249.5  111.6  \n",
       "17  6.0068542904319  52.003672815828       0.0   249.8  111.6  \n",
       "18                0                0       0.0     0.0      0  \n",
       "19  5.1506836716304  52.336733049109       0.0   191.3   82.8  "
      ]
     },
     "execution_count": 4,
     "metadata": {},
     "output_type": "execute_result"
    }
   ],
   "source": [
    "# Example results from \"extract_gps_data\"\n",
    "import numpy as np\n",
    "import pandas as pd\n",
    "\n",
    "pd.DataFrame(\n",
    "    data=extract_gps_data(json.loads(example_gps.value)),\n",
    "    columns=['timestamp', 'train_number', 'car_number', 'car_position', \n",
    "             'longitude', 'latitude', 'elevation', 'heading', 'speed']\n",
    ").head(n=20)"
   ]
  },
  {
   "cell_type": "markdown",
   "metadata": {},
   "source": [
    "**Question I.b (15/20)** Make a live plot of the train positions.\n",
    "\n",
    "You can do so by using `bokeh`; use last week's lab as an example.\n",
    "\n",
    "See also: https://docs.bokeh.org/en/latest/docs/user_guide/geo.html#tile-provider-maps\n",
    "\n",
    "You can compare your plot to one of the live services: https://spoorkaart.mwnn.nl/, http://treinenradar.nl/"
   ]
  },
  {
   "cell_type": "markdown",
   "metadata": {},
   "source": [
    "__Q (1/15)__ To plot points with GPS location information on bokeh's map, we need a transoformer. What is the following transformer capable of? Check `bokeh`'s documenation on [Tile Provider Maps](https://docs.bokeh.org/en/latest/docs/user_guide/geo.html#tile-provider-maps)."
   ]
  },
  {
   "cell_type": "code",
   "execution_count": null,
   "metadata": {},
   "outputs": [],
   "source": [
    "from pyproj import Transformer\n",
    "transformer = Transformer.from_proj(\"EPSG:4326\", \"EPSG:3857\", always_xy=True)"
   ]
  },
  {
   "cell_type": "markdown",
   "metadata": {},
   "source": [
    "__Answer:__ Write your answer here."
   ]
  },
  {
   "cell_type": "markdown",
   "metadata": {},
   "source": [
    "To perform a transfromation, you need to use the method `Transfromer.transform`, please check [here](https://pyproj4.github.io/pyproj/stable/api/transformer.html?highlight=transformer#pyproj.transformer.Transformer.transform)."
   ]
  },
  {
   "cell_type": "markdown",
   "metadata": {},
   "source": [
    "__Q (14/15)__ Let's make the plot."
   ]
  },
  {
   "cell_type": "markdown",
   "metadata": {},
   "source": [
    "**Care should be taken for the following point:**\n",
    "- We expect the train positions to fall on rail tracks on the map. Showing each train as a circle is good enough. Check [Scatter Markers](https://docs.bokeh.org/en/2.0.2/docs/user_guide/plotting.html?highlight=scatter#scatter-markers).\n",
    "- One train may have many cars. You do not need to show every car on the map, please keep only car whose `car_position` equals to '1'.\n",
    "- Provide an interactive label with the train number (we do not expect train type, as this needs to be recovered from other sources). Check [Hovertool](https://docs.bokeh.org/en/2.0.1/docs/user_guide/tools.html#hovertool).\n",
    "\n",
    "**You can get bonus points if you make followings happen on your plot:**\n",
    "- Trains on the map should not appear/disappear when data is absent for a few messages.\n",
    "- Find a way to show where the train is heading.\n",
    "- Add any other pieces of information that may be of interest to users."
   ]
  },
  {
   "cell_type": "code",
   "execution_count": null,
   "metadata": {},
   "outputs": [],
   "source": [
    "from bokeh.io import push_notebook, show, output_notebook\n",
    "from bokeh.plotting import figure\n",
    "from bokeh.models import ColumnDataSource, Range1d\n",
    "from bokeh.tile_providers import get_provider, OSM\n",
    "\n",
    "import time\n",
    "\n",
    "output_notebook()"
   ]
  },
  {
   "cell_type": "code",
   "execution_count": null,
   "metadata": {},
   "outputs": [],
   "source": [
    "x = [] # longitude\n",
    "y = [] # latitude\n",
    "tn = [] # train_number\n",
    "source = ColumnDataSource(<--TODO-->)\n",
    "\n",
    "TOOLTIPS = [\n",
    "    <--TODO-->\n",
    "]\n",
    "\n",
    "# create the map\n",
    "tile_provider = get_provider(OSM)\n",
    "p = figure(x_axis_type=\"mercator\", y_axis_type=\"mercator\", tooltips=TOOLTIPS)\n",
    "p.add_tile(tile_provider)\n",
    "\n",
    "# add circle points\n",
    "p.circle('x', 'y', source=source, size=5, line_color=\"navy\", fill_color=\"orange\", alpha=0.8)\n",
    "\n",
    "# make the plot centered at Amsterdam\n",
    "x_min, y_min = transformer.transform(4.4, 52.2)\n",
    "x_max, y_max = transformer.transform(5.4, 52.6)\n",
    "p.x_range = Range1d(x_min, x_max)\n",
    "p.y_range = Range1d(y_min, y_max)\n",
    "\n",
    "t=show(p, notebook_handle=True)"
   ]
  },
  {
   "cell_type": "markdown",
   "metadata": {},
   "source": [
    "Create a simple consumer for `ndovloketnl-gps`, which consumes the latest information from the stream."
   ]
  },
  {
   "cell_type": "code",
   "execution_count": null,
   "metadata": {},
   "outputs": [],
   "source": [
    "consumer = <--TODO-->"
   ]
  },
  {
   "cell_type": "markdown",
   "metadata": {},
   "source": [
    "Make the plot alive. You can refer the exercise of week 9 for an idea."
   ]
  },
  {
   "cell_type": "code",
   "execution_count": null,
   "metadata": {},
   "outputs": [],
   "source": [
    "try:\n",
    "    for message in consumer:\n",
    "        if message is not None:\n",
    "            \n",
    "            <--TODO-->\n",
    "            \n",
    "            push_notebook(handle=t)\n",
    "            time.sleep(0.1)\n",
    "except:\n",
    "    print(\"Plot interrupted.\")"
   ]
  },
  {
   "cell_type": "markdown",
   "metadata": {},
   "source": [
    "---"
   ]
  },
  {
   "cell_type": "markdown",
   "metadata": {},
   "source": [
    "# Part II - Locate Message (10 points / 50)\n",
    "\n",
    "After you finish this part, you are able to locate the message given a specific timestamp.\n",
    "\n",
    "You can find below a helper function to read a message at a specific offset from a Kafka topic."
   ]
  },
  {
   "cell_type": "code",
   "execution_count": null,
   "metadata": {
    "scrolled": true
   },
   "outputs": [],
   "source": [
    "def fetch_message_at(topic, offset):\n",
    "    if isinstance(topic, str):\n",
    "        topic = topic.encode('utf-8')\n",
    "    t = client.topics[topic]\n",
    "    consumer = t.get_simple_consumer()\n",
    "    p = list(consumer.partitions.values())[0]\n",
    "    consumer.reset_offsets([(p,int(offset)-1)], )\n",
    "    return consumer.consume()"
   ]
  },
  {
   "cell_type": "code",
   "execution_count": null,
   "metadata": {
    "scrolled": true
   },
   "outputs": [],
   "source": [
    "msg = fetch_message_at(b'ndovloketnl-gps', 100)"
   ]
  },
  {
   "cell_type": "code",
   "execution_count": null,
   "metadata": {
    "scrolled": true
   },
   "outputs": [],
   "source": [
    "msg.offset"
   ]
  },
  {
   "cell_type": "code",
   "execution_count": null,
   "metadata": {
    "scrolled": true
   },
   "outputs": [],
   "source": [
    "msg.value"
   ]
  },
  {
   "cell_type": "markdown",
   "metadata": {},
   "source": [
    "**Question II.a (5/10)** Write a function to extract the median timestamp from a message of the `ndovloketnl-gps` topic. You can reuse the `extract_gps_data` function from part I."
   ]
  },
  {
   "cell_type": "code",
   "execution_count": null,
   "metadata": {
    "scrolled": true
   },
   "outputs": [],
   "source": [
    "example_gps = client.topics[b'ndovloketnl-gps'].get_simple_consumer(\n",
    "    auto_offset_reset=OffsetType.EARLIEST,\n",
    "    reset_offset_on_start=True\n",
    ").consume()"
   ]
  },
  {
   "cell_type": "code",
   "execution_count": null,
   "metadata": {
    "scrolled": true
   },
   "outputs": [],
   "source": [
    "# Answer II.a\n",
    "import pandas as pd\n",
    "import numpy as np\n",
    "def extract_gps_time_approx(msg):\n",
    "    <--TODO-->"
   ]
  },
  {
   "cell_type": "code",
   "execution_count": 12,
   "metadata": {
    "scrolled": true
   },
   "outputs": [
    {
     "data": {
      "text/plain": [
       "numpy.datetime64('2020-04-17T10:54:43.000000000')"
      ]
     },
     "execution_count": 12,
     "metadata": {},
     "output_type": "execute_result"
    }
   ],
   "source": [
    "# Example results from `extract_gps_time_approx`\n",
    "extract_gps_time_approx(json.loads(example_gps.value))"
   ]
  },
  {
   "cell_type": "markdown",
   "metadata": {},
   "source": [
    "**Question II.b (5/10)** Using `fetch_message_at` and `extract_gps_time_approx`, write a function named `search_gps` to find the \"first\" offset for a given timestamp in the `ndovloketnl-gps` topic. You function should use [Binary Search Algorithm](https://en.wikipedia.org/wiki/Binary_search_algorithm).\n",
    "\n",
    "More preciseley, if we note `offset = search_gps(ts)` where `ts` is a timestamp, then we have:\n",
    "```\n",
    "ts <= extract_gps_time_approx(fetch_message_at('ndovloketnl-gps', offset))\n",
    "\n",
    "extract_gps_time_approx(fetch_message_at('ndovloketnl-gps', offset - 1)) < ts\n",
    "```"
   ]
  },
  {
   "cell_type": "code",
   "execution_count": null,
   "metadata": {
    "scrolled": true
   },
   "outputs": [],
   "source": [
    "def search_gps(findTimeStr):\n",
    "    findTime = findTimeStr.to_datetime64()\n",
    "    <--TODO-->"
   ]
  },
  {
   "cell_type": "code",
   "execution_count": 14,
   "metadata": {
    "scrolled": true
   },
   "outputs": [
    {
     "data": {
      "text/plain": [
       "4763"
      ]
     },
     "execution_count": 14,
     "metadata": {},
     "output_type": "execute_result"
    }
   ],
   "source": [
    "# Example results from `search_gps`\n",
    "search_gps(pd.Timestamp('2020-04-23'))"
   ]
  },
  {
   "cell_type": "code",
   "execution_count": 15,
   "metadata": {
    "scrolled": true
   },
   "outputs": [
    {
     "data": {
      "text/plain": [
       "numpy.datetime64('2020-04-23T00:00:04.000000000')"
      ]
     },
     "execution_count": 15,
     "metadata": {},
     "output_type": "execute_result"
    }
   ],
   "source": [
    "# Verify that offset returned above returns a timestamp on or after 2020-04-23 (replace <--OFFSET-->)\n",
    "extract_gps_time_approx(json.loads(fetch_message_at('ndovloketnl-gps', <--OFFSET-->).value))"
   ]
  },
  {
   "cell_type": "code",
   "execution_count": 16,
   "metadata": {
    "scrolled": true
   },
   "outputs": [
    {
     "data": {
      "text/plain": [
       "numpy.datetime64('2020-04-22T23:59:54.000000000')"
      ]
     },
     "execution_count": 16,
     "metadata": {},
     "output_type": "execute_result"
    }
   ],
   "source": [
    "# Verify that offset returned above returns a timestamp before 2020-04-23 (replace <--OFFSET-->)\n",
    "extract_gps_time_approx(json.loads(fetch_message_at('ndovloketnl-gps', <--OFFSET--> - 1).value))"
   ]
  }
 ],
 "metadata": {
  "kernelspec": {
   "display_name": "Python 3",
   "language": "python",
   "name": "python3"
  },
  "language_info": {
   "codemirror_mode": {
    "name": "ipython",
    "version": 3
   },
   "file_extension": ".py",
   "mimetype": "text/x-python",
   "name": "python",
   "nbconvert_exporter": "python",
   "pygments_lexer": "ipython3",
   "version": "3.7.6"
  }
 },
 "nbformat": 4,
 "nbformat_minor": 4
}
