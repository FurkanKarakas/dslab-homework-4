{
 "cells": [
  {
   "cell_type": "markdown",
   "metadata": {},
   "source": [
    "# Homework 4 - More trains (Part I & II)\n",
    "\n",
    "__Hand-in:__\n",
    "\n",
    "- __Due: 12.05.2020 23:59:59 CET__\n",
    "- `git push` your final verion to your group's Renku repository before the due\n",
    "- check if `Dockerfile`, `environment.yml` and `requirements.txt` are properly written\n",
    "- add necessary comments and discussion to make your codes readable\n",
    "\n",
    "For this homework, you will be working with the real-time streams of the NS, the train company of the Netherlands. You can see an example webpage that uses the same streams to display the train information on a map: https://spoorkaart.mwnn.nl/ . \n",
    "\n",
    "To help you and avoid having too many connections to the NS streaming servers, we have setup a service that collects the streams and pushes them to our Kafka instance. The related topics are: \n",
    "\n",
    "`ndovloketnl-arrivals`: For each arrival of a train in a station, describe the previous and next station, time of arrival (planned and actual), track number,...\n",
    "\n",
    "`ndovloketnl-departures`: For each departure of a train from a station, describe the previous and next station, time of departure (planned and actual), track number,...\n",
    "\n",
    "`ndovloketnl-gps`: For each train, describe the current location, speed, bearing.\n",
    "\n",
    "The events are serialized in JSON (actually converted from XML), with properties in their original language. Google translate could help you understand all of them, but we will provide you with some useful mappings."
   ]
  },
  {
   "cell_type": "markdown",
   "metadata": {},
   "source": [
    "---\n",
    "## Create a Kafka client"
   ]
  },
  {
   "cell_type": "code",
   "execution_count": null,
   "metadata": {},
   "outputs": [],
   "source": [
    "import os\n",
    "from pykafka import KafkaClient\n",
    "from pykafka.common import OffsetType\n",
    "\n",
    "username = os.environ['JUPYTERHUB_USER']\n",
    "\n",
    "ZOOKEEPER_QUORUM = 'iccluster044.iccluster.epfl.ch:2181,'\\\n",
    "                   'iccluster054.iccluster.epfl.ch:2181,'\\\n",
    "                   'iccluster059.iccluster.epfl.ch:2181'\n",
    "\n",
    "client = KafkaClient(zookeeper_hosts=ZOOKEEPER_QUORUM)"
   ]
  },
  {
   "cell_type": "markdown",
   "metadata": {},
   "source": [
    "---"
   ]
  },
  {
   "cell_type": "markdown",
   "metadata": {},
   "source": [
    "## Part I - Live Plot (20 points / 50)\n",
    "\n",
    "The goal of this part is to obtain an interactive plot use the train positions from the GPS stream. We encourage you to use the examples from last week to achieve the expected result."
   ]
  },
  {
   "cell_type": "markdown",
   "metadata": {},
   "source": [
    "First, let's write a function to decode the messages from the `ndovloketnl-gps` topic."
   ]
  },
  {
   "cell_type": "code",
   "execution_count": null,
   "metadata": {
    "scrolled": true
   },
   "outputs": [],
   "source": [
    "import json\n",
    "from pykafka.common import OffsetType\n",
    "\n",
    "example_gps = client.topics[b'ndovloketnl-gps'].get_simple_consumer(\n",
    "    auto_offset_reset=OffsetType.EARLIEST,\n",
    "    reset_offset_on_start=True\n",
    ").consume()\n",
    "json.loads(example_gps.value)"
   ]
  },
  {
   "cell_type": "markdown",
   "metadata": {},
   "source": [
    "We can see that the message has the following structure:\n",
    "\n",
    "```\n",
    "{\n",
    "  'tns3:ArrayOfTreinLocation': {\n",
    "    'tns3:TreinLocation': [\n",
    "      <train_info_1>,\n",
    "      <train_info_2>,\n",
    "      ...\n",
    "    ]\n",
    "  }\n",
    "}\n",
    "```\n",
    "\n",
    "With the `<train_info_x>` messages containing:\n",
    "- `tns3:TreinNummer`: the train number. This number is used in passenger information displays.\n",
    "- `tns3:MaterieelDeelNummer`: the train car number. It identifies the physical train car.\n",
    "- `tns3:Materieelvolgnummer`: the car position. 1 is the car in front of the train, 2 the next one, etc.\n",
    "- `tns3:GpsDatumTijd`: the datetime given by the GPS.\n",
    "- `tns3:Latitude`, `tns3:Longitude`, `tns3:Elevation`: 3D coordinates given by the GPS.\n",
    "- `tns3:Snelheid`: speed, most likely given by the GPS.\n",
    "- `tns3:Richting`: heading, most likely given by the GPS.\n",
    "- `tns3:AantalSatelieten`: number of GPS satellites in view.\n",
    "\n",
    "We also notice that when a train is composed of multiple cars, the position is given in an array, with the position of all individual cars."
   ]
  },
  {
   "cell_type": "markdown",
   "metadata": {},
   "source": [
    "**Question I.a. (5/20)** Write a function `extract_gps_data` which takes the message as input and extracts the train number, train car and GPS data from the source messages. Using this function, you should be able to obtain the example table, or something similar:\n",
    "\n",
    "| timestamp | train_number | car_number | car_position | longitude | latitude | elevation | heading | speed |\n",
    "|:---------:|:------------:|:----------:|:------------:|:---------:|:--------:|:---------:|:-------:|:-----:|\n",
    "|    ...    |      ...     |     ...    |      ...     |    ...    |    ...   |    ...    |   ...   |  ...  |"
   ]
  },
  {
   "cell_type": "markdown",
   "metadata": {},
   "source": [
    "__Hints:__\n",
    "- The messages can be occaionally are empty, for example, `tns3:ArrayOfTreinLocation` or `tns3:TreinLocation` can be empty.\n",
    "- Not every message shares exactly the same structure, for example, `tns3:TreinMaterieelDelen` may be a list but not always\n",
    "- You may find Python disctionary [get(key, default)](https://docs.python.org/3.7/library/stdtypes.html#dict.get) method helpful."
   ]
  },
  {
   "cell_type": "code",
   "execution_count": null,
   "metadata": {
    "scrolled": true
   },
   "outputs": [],
   "source": [
    "def extract_gps_data(msg):\n",
    "    <--TODO-->"
   ]
  },
  {
   "cell_type": "code",
   "execution_count": 4,
   "metadata": {
    "scrolled": true
   },
   "outputs": [
    {
     "data": {
      "text/html": [
       "<div>\n",
       "<style scoped>\n",
       "    .dataframe tbody tr th:only-of-type {\n",
       "        vertical-align: middle;\n",
       "    }\n",
       "\n",
       "    .dataframe tbody tr th {\n",
       "        vertical-align: top;\n",
       "    }\n",
       "\n",
       "    .dataframe thead th {\n",
       "        text-align: right;\n",
       "    }\n",
       "</style>\n",
       "<table border=\"1\" class=\"dataframe\">\n",
       "  <thead>\n",
       "    <tr style=\"text-align: right;\">\n",
       "      <th></th>\n",
       "      <th>timestamp</th>\n",
       "      <th>train_number</th>\n",
       "      <th>car_number</th>\n",
       "      <th>car_position</th>\n",
       "      <th>longitude</th>\n",
       "      <th>latitude</th>\n",
       "      <th>elevation</th>\n",
       "      <th>heading</th>\n",
       "      <th>speed</th>\n",
       "    </tr>\n",
       "  </thead>\n",
       "  <tbody>\n",
       "    <tr>\n",
       "      <th>0</th>\n",
       "      <td>2020-04-23T17:06:31Z</td>\n",
       "      <td>15867</td>\n",
       "      <td>2451</td>\n",
       "      <td>1</td>\n",
       "      <td>5.1597604696057</td>\n",
       "      <td>52.273841159003</td>\n",
       "      <td>0.0</td>\n",
       "      <td>166.6</td>\n",
       "      <td>90.0</td>\n",
       "    </tr>\n",
       "    <tr>\n",
       "      <th>1</th>\n",
       "      <td>2020-04-23T17:06:34Z</td>\n",
       "      <td>15867</td>\n",
       "      <td>2430</td>\n",
       "      <td>2</td>\n",
       "      <td>5.1597830062141</td>\n",
       "      <td>52.273789073293</td>\n",
       "      <td>0.0</td>\n",
       "      <td>166.6</td>\n",
       "      <td>86.4</td>\n",
       "    </tr>\n",
       "    <tr>\n",
       "      <th>2</th>\n",
       "      <td>2020-04-23T17:06:36Z</td>\n",
       "      <td>14667</td>\n",
       "      <td>2728</td>\n",
       "      <td>1</td>\n",
       "      <td>5.322429</td>\n",
       "      <td>52.41208</td>\n",
       "      <td>0.62</td>\n",
       "      <td>61.88</td>\n",
       "      <td>133.789</td>\n",
       "    </tr>\n",
       "    <tr>\n",
       "      <th>3</th>\n",
       "      <td>2020-04-23T17:06:32Z</td>\n",
       "      <td>14667</td>\n",
       "      <td>2332</td>\n",
       "      <td>2</td>\n",
       "      <td>5.319623</td>\n",
       "      <td>52.411064</td>\n",
       "      <td>0.62</td>\n",
       "      <td>56.88</td>\n",
       "      <td>129.182</td>\n",
       "    </tr>\n",
       "    <tr>\n",
       "      <th>4</th>\n",
       "      <td>2020-04-23T17:06:36Z</td>\n",
       "      <td>14667</td>\n",
       "      <td>2740</td>\n",
       "      <td>3</td>\n",
       "      <td>5.320444</td>\n",
       "      <td>52.411377</td>\n",
       "      <td>0.58</td>\n",
       "      <td>58.44</td>\n",
       "      <td>133.808</td>\n",
       "    </tr>\n",
       "    <tr>\n",
       "      <th>5</th>\n",
       "      <td>2020-04-23T17:06:31Z</td>\n",
       "      <td>6662</td>\n",
       "      <td>2513</td>\n",
       "      <td>1</td>\n",
       "      <td>5.79994583333</td>\n",
       "      <td>51.8246003333</td>\n",
       "      <td>0.0</td>\n",
       "      <td>79.17</td>\n",
       "      <td>66.0</td>\n",
       "    </tr>\n",
       "    <tr>\n",
       "      <th>6</th>\n",
       "      <td>2020-04-23T17:06:35.8Z</td>\n",
       "      <td>6662</td>\n",
       "      <td>2507</td>\n",
       "      <td>2</td>\n",
       "      <td>5.799830330535919</td>\n",
       "      <td>51.82456617400802</td>\n",
       "      <td>14.0</td>\n",
       "      <td>79.11</td>\n",
       "      <td>76.0</td>\n",
       "    </tr>\n",
       "    <tr>\n",
       "      <th>7</th>\n",
       "      <td>2020-04-23T17:06:34Z</td>\n",
       "      <td>6966</td>\n",
       "      <td>2618</td>\n",
       "      <td>1</td>\n",
       "      <td>5.2605806017145</td>\n",
       "      <td>51.824128392772</td>\n",
       "      <td>0.0</td>\n",
       "      <td>353.6</td>\n",
       "      <td>104.4</td>\n",
       "    </tr>\n",
       "    <tr>\n",
       "      <th>8</th>\n",
       "      <td>2020-04-23T17:06:31Z</td>\n",
       "      <td>8161</td>\n",
       "      <td>8723</td>\n",
       "      <td>1</td>\n",
       "      <td>6.55242116667</td>\n",
       "      <td>52.9407786667</td>\n",
       "      <td>0.0</td>\n",
       "      <td>12.3</td>\n",
       "      <td>125.0</td>\n",
       "    </tr>\n",
       "    <tr>\n",
       "      <th>9</th>\n",
       "      <td>2020-04-23T17:06:31Z</td>\n",
       "      <td>5668</td>\n",
       "      <td>2710</td>\n",
       "      <td>1</td>\n",
       "      <td>5.892624</td>\n",
       "      <td>52.408997</td>\n",
       "      <td>0.63</td>\n",
       "      <td>232.0</td>\n",
       "      <td>11.646</td>\n",
       "    </tr>\n",
       "    <tr>\n",
       "      <th>10</th>\n",
       "      <td>2020-04-23T17:06:39Z</td>\n",
       "      <td>3567</td>\n",
       "      <td>9404</td>\n",
       "      <td>1</td>\n",
       "      <td>5.25382183333</td>\n",
       "      <td>51.913046</td>\n",
       "      <td>0.0</td>\n",
       "      <td>155.13</td>\n",
       "      <td>97.0</td>\n",
       "    </tr>\n",
       "    <tr>\n",
       "      <th>11</th>\n",
       "      <td>2020-04-23T17:06:32Z</td>\n",
       "      <td>3567</td>\n",
       "      <td>8736</td>\n",
       "      <td>2</td>\n",
       "      <td>5.25200233333</td>\n",
       "      <td>51.9154748333</td>\n",
       "      <td>0.0</td>\n",
       "      <td>154.99</td>\n",
       "      <td>97.0</td>\n",
       "    </tr>\n",
       "    <tr>\n",
       "      <th>12</th>\n",
       "      <td>2020-04-23T17:06:36Z</td>\n",
       "      <td>5073</td>\n",
       "      <td>2957</td>\n",
       "      <td>1</td>\n",
       "      <td>4.3252840256921</td>\n",
       "      <td>52.080124439712</td>\n",
       "      <td>0.0</td>\n",
       "      <td>0.0</td>\n",
       "      <td>0</td>\n",
       "    </tr>\n",
       "    <tr>\n",
       "      <th>13</th>\n",
       "      <td>2020-04-23T16:56:55Z</td>\n",
       "      <td>5073</td>\n",
       "      <td>2972</td>\n",
       "      <td>2</td>\n",
       "      <td>4.3191434665472</td>\n",
       "      <td>52.082072882691</td>\n",
       "      <td>0.0</td>\n",
       "      <td>0.0</td>\n",
       "      <td>0</td>\n",
       "    </tr>\n",
       "    <tr>\n",
       "      <th>14</th>\n",
       "      <td>2020-04-23T17:06:38Z</td>\n",
       "      <td>4066</td>\n",
       "      <td>2629</td>\n",
       "      <td>1</td>\n",
       "      <td>4.567569662642</td>\n",
       "      <td>51.952821112946</td>\n",
       "      <td>0.0</td>\n",
       "      <td>83.3</td>\n",
       "      <td>100.8</td>\n",
       "    </tr>\n",
       "    <tr>\n",
       "      <th>15</th>\n",
       "      <td>2020-04-23T17:06:33Z</td>\n",
       "      <td>4066</td>\n",
       "      <td>2454</td>\n",
       "      <td>2</td>\n",
       "      <td>4.5639927282804</td>\n",
       "      <td>51.952569436455</td>\n",
       "      <td>0.0</td>\n",
       "      <td>83.2</td>\n",
       "      <td>97.2</td>\n",
       "    </tr>\n",
       "    <tr>\n",
       "      <th>16</th>\n",
       "      <td>2020-04-23T17:06:32Z</td>\n",
       "      <td>6969</td>\n",
       "      <td>2631</td>\n",
       "      <td>1</td>\n",
       "      <td>5.1911787400561</td>\n",
       "      <td>51.992897511502</td>\n",
       "      <td>0.0</td>\n",
       "      <td>167.3</td>\n",
       "      <td>129.6</td>\n",
       "    </tr>\n",
       "    <tr>\n",
       "      <th>17</th>\n",
       "      <td>2020-04-23T17:06:30Z</td>\n",
       "      <td>15866</td>\n",
       "      <td>2421</td>\n",
       "      <td>1</td>\n",
       "      <td>5.2967253930844</td>\n",
       "      <td>52.198198871264</td>\n",
       "      <td>0.0</td>\n",
       "      <td>319.5</td>\n",
       "      <td>122.4</td>\n",
       "    </tr>\n",
       "    <tr>\n",
       "      <th>18</th>\n",
       "      <td>2020-04-23T17:06:29Z</td>\n",
       "      <td>15866</td>\n",
       "      <td>2608</td>\n",
       "      <td>2</td>\n",
       "      <td>5.2980171677611</td>\n",
       "      <td>52.19727428216</td>\n",
       "      <td>0.0</td>\n",
       "      <td>319.5</td>\n",
       "      <td>122.4</td>\n",
       "    </tr>\n",
       "    <tr>\n",
       "      <th>19</th>\n",
       "      <td>2020-04-23T17:06:36Z</td>\n",
       "      <td>14669</td>\n",
       "      <td>2318</td>\n",
       "      <td>1</td>\n",
       "      <td>5.019368</td>\n",
       "      <td>52.32381</td>\n",
       "      <td>0.62</td>\n",
       "      <td>124.48</td>\n",
       "      <td>131.332</td>\n",
       "    </tr>\n",
       "  </tbody>\n",
       "</table>\n",
       "</div>"
      ],
      "text/plain": [
       "                 timestamp train_number car_number car_position  \\\n",
       "0     2020-04-23T17:06:31Z        15867       2451            1   \n",
       "1     2020-04-23T17:06:34Z        15867       2430            2   \n",
       "2     2020-04-23T17:06:36Z        14667       2728            1   \n",
       "3     2020-04-23T17:06:32Z        14667       2332            2   \n",
       "4     2020-04-23T17:06:36Z        14667       2740            3   \n",
       "5     2020-04-23T17:06:31Z         6662       2513            1   \n",
       "6   2020-04-23T17:06:35.8Z         6662       2507            2   \n",
       "7     2020-04-23T17:06:34Z         6966       2618            1   \n",
       "8     2020-04-23T17:06:31Z         8161       8723            1   \n",
       "9     2020-04-23T17:06:31Z         5668       2710            1   \n",
       "10    2020-04-23T17:06:39Z         3567       9404            1   \n",
       "11    2020-04-23T17:06:32Z         3567       8736            2   \n",
       "12    2020-04-23T17:06:36Z         5073       2957            1   \n",
       "13    2020-04-23T16:56:55Z         5073       2972            2   \n",
       "14    2020-04-23T17:06:38Z         4066       2629            1   \n",
       "15    2020-04-23T17:06:33Z         4066       2454            2   \n",
       "16    2020-04-23T17:06:32Z         6969       2631            1   \n",
       "17    2020-04-23T17:06:30Z        15866       2421            1   \n",
       "18    2020-04-23T17:06:29Z        15866       2608            2   \n",
       "19    2020-04-23T17:06:36Z        14669       2318            1   \n",
       "\n",
       "            longitude           latitude elevation heading    speed  \n",
       "0     5.1597604696057    52.273841159003       0.0   166.6     90.0  \n",
       "1     5.1597830062141    52.273789073293       0.0   166.6     86.4  \n",
       "2            5.322429           52.41208      0.62   61.88  133.789  \n",
       "3            5.319623          52.411064      0.62   56.88  129.182  \n",
       "4            5.320444          52.411377      0.58   58.44  133.808  \n",
       "5       5.79994583333      51.8246003333       0.0   79.17     66.0  \n",
       "6   5.799830330535919  51.82456617400802      14.0   79.11     76.0  \n",
       "7     5.2605806017145    51.824128392772       0.0   353.6    104.4  \n",
       "8       6.55242116667      52.9407786667       0.0    12.3    125.0  \n",
       "9            5.892624          52.408997      0.63   232.0   11.646  \n",
       "10      5.25382183333          51.913046       0.0  155.13     97.0  \n",
       "11      5.25200233333      51.9154748333       0.0  154.99     97.0  \n",
       "12    4.3252840256921    52.080124439712       0.0     0.0        0  \n",
       "13    4.3191434665472    52.082072882691       0.0     0.0        0  \n",
       "14     4.567569662642    51.952821112946       0.0    83.3    100.8  \n",
       "15    4.5639927282804    51.952569436455       0.0    83.2     97.2  \n",
       "16    5.1911787400561    51.992897511502       0.0   167.3    129.6  \n",
       "17    5.2967253930844    52.198198871264       0.0   319.5    122.4  \n",
       "18    5.2980171677611     52.19727428216       0.0   319.5    122.4  \n",
       "19           5.019368           52.32381      0.62  124.48  131.332  "
      ]
     },
     "execution_count": 4,
     "metadata": {},
     "output_type": "execute_result"
    }
   ],
   "source": [
    "# Example results from \"extract_gps_data\"\n",
    "import numpy as np\n",
    "import pandas as pd\n",
    "\n",
    "pd.DataFrame(\n",
    "    data=extract_gps_data(json.loads(example_gps.value)),\n",
    "    columns=['timestamp', 'train_number', 'car_number', 'car_position', \n",
    "             'longitude', 'latitude', 'elevation', 'heading', 'speed']\n",
    ").head(n=20)"
   ]
  },
  {
   "cell_type": "markdown",
   "metadata": {},
   "source": [
    "**Question I.b (15/20)** Make a live plot of the train positions.\n",
    "\n",
    "You can do so by using `bokeh`; use last week's lab as an example.\n",
    "\n",
    "See also: https://docs.bokeh.org/en/latest/docs/user_guide/geo.html#tile-provider-maps\n",
    "\n",
    "You can compare your plot to one of the live services: https://spoorkaart.mwnn.nl/, http://treinenradar.nl/"
   ]
  },
  {
   "cell_type": "markdown",
   "metadata": {},
   "source": [
    "__Q (1/15)__ To plot points with GPS location information on bokeh's map, we need a transoformer. What is the following transformer capable of? Check `bokeh`'s documenation on [Tile Provider Maps](https://docs.bokeh.org/en/latest/docs/user_guide/geo.html#tile-provider-maps)."
   ]
  },
  {
   "cell_type": "code",
   "execution_count": null,
   "metadata": {},
   "outputs": [],
   "source": [
    "from pyproj import Transformer\n",
    "transformer = Transformer.from_proj(\"EPSG:4326\", \"EPSG:3857\", always_xy=True)"
   ]
  },
  {
   "cell_type": "markdown",
   "metadata": {},
   "source": [
    "__Answer:__ Write your answer here."
   ]
  },
  {
   "cell_type": "markdown",
   "metadata": {},
   "source": [
    "To perform a transfromation, you need to use the method `Transfromer.transform`, please check [here](https://pyproj4.github.io/pyproj/stable/api/transformer.html?highlight=transformer#pyproj.transformer.Transformer.transform)."
   ]
  },
  {
   "cell_type": "markdown",
   "metadata": {},
   "source": [
    "__Q (14/15)__ Let's make the plot."
   ]
  },
  {
   "cell_type": "markdown",
   "metadata": {},
   "source": [
    "**Care should be taken for the following point:**\n",
    "- We expect the train positions to fall on rail tracks on the map. Showing each train as a circle is good enough. Check [Scatter Markers](https://docs.bokeh.org/en/2.0.2/docs/user_guide/plotting.html?highlight=scatter#scatter-markers).\n",
    "- One train may have many cars. You do not need to show every car on the map, please keep only car whose `car_position` equals to '1'.\n",
    "- Provide an interactive label with the train number (we do not expect train type, as this needs to be recovered from other sources). Check [Hovertool](https://docs.bokeh.org/en/2.0.1/docs/user_guide/tools.html#hovertool).\n",
    "\n",
    "**You can get bonus points if you make followings happen on your plot:**\n",
    "- Trains on the map should not appear/disappear when data is absent for a few messages.\n",
    "- Find a way to show where the train is heading.\n",
    "- Add any other pieces of information that may be of interest to users."
   ]
  },
  {
   "cell_type": "code",
   "execution_count": null,
   "metadata": {},
   "outputs": [],
   "source": [
    "from bokeh.io import push_notebook, show, output_notebook\n",
    "from bokeh.plotting import figure\n",
    "from bokeh.models import ColumnDataSource, Range1d\n",
    "from bokeh.tile_providers import get_provider, OSM\n",
    "\n",
    "import time\n",
    "\n",
    "output_notebook()"
   ]
  },
  {
   "cell_type": "code",
   "execution_count": null,
   "metadata": {},
   "outputs": [],
   "source": [
    "x = [] # longitude\n",
    "y = [] # latitude\n",
    "tn = [] # train_number\n",
    "source = ColumnDataSource(<--TODO-->)\n",
    "\n",
    "TOOLTIPS = [\n",
    "    <--TODO-->\n",
    "]\n",
    "\n",
    "# create the map\n",
    "tile_provider = get_provider(OSM)\n",
    "p = figure(x_axis_type=\"mercator\", y_axis_type=\"mercator\", tooltips=TOOLTIPS)\n",
    "p.add_tile(tile_provider)\n",
    "\n",
    "# add circle points\n",
    "p.circle('x', 'y', source=source, size=5, line_color=\"navy\", fill_color=\"orange\", alpha=0.8)\n",
    "\n",
    "# make the plot centered at Amsterdam\n",
    "x_min, y_min = transformer.transform(4.4, 52.2)\n",
    "x_max, y_max = transformer.transform(5.4, 52.6)\n",
    "p.x_range = Range1d(x_min, x_max)\n",
    "p.y_range = Range1d(y_min, y_max)\n",
    "\n",
    "t=show(p, notebook_handle=True)"
   ]
  },
  {
   "cell_type": "markdown",
   "metadata": {},
   "source": [
    "Create a simple consumer for `ndovloketnl-gps`, which consumes the latest information from the stream."
   ]
  },
  {
   "cell_type": "code",
   "execution_count": null,
   "metadata": {},
   "outputs": [],
   "source": [
    "consumer = <--TODO-->"
   ]
  },
  {
   "cell_type": "markdown",
   "metadata": {},
   "source": [
    "Make the plot alive. You can refer the exercise of week 9 for an idea."
   ]
  },
  {
   "cell_type": "code",
   "execution_count": null,
   "metadata": {},
   "outputs": [],
   "source": [
    "try:\n",
    "    for message in consumer:\n",
    "        if message is not None:\n",
    "            \n",
    "            <--TODO-->\n",
    "            \n",
    "            push_notebook(handle=t)\n",
    "            time.sleep(0.1)\n",
    "except:\n",
    "    print(\"Plot interrupted.\")"
   ]
  },
  {
   "cell_type": "markdown",
   "metadata": {},
   "source": [
    "---"
   ]
  },
  {
   "cell_type": "markdown",
   "metadata": {},
   "source": [
    "# Part II - Locate Message (10 points / 50)\n",
    "\n",
    "After you finish this part, you are able to locate the message given a specific timestamp.\n",
    "\n",
    "You can find below a helper function to read a message at a specific offset from a Kafka topic."
   ]
  },
  {
   "cell_type": "code",
   "execution_count": null,
   "metadata": {
    "scrolled": true
   },
   "outputs": [],
   "source": [
    "def fetch_message_at(topic, offset):\n",
    "    if isinstance(topic, str):\n",
    "        topic = topic.encode('utf-8')\n",
    "    t = client.topics[topic]\n",
    "    consumer = t.get_simple_consumer()\n",
    "    p = list(consumer.partitions.values())[0]\n",
    "    consumer.reset_offsets([(p,int(offset)-1)], )\n",
    "    return consumer.consume()"
   ]
  },
  {
   "cell_type": "code",
   "execution_count": null,
   "metadata": {
    "scrolled": true
   },
   "outputs": [],
   "source": [
    "msg = fetch_message_at(b'ndovloketnl-gps', 31243)"
   ]
  },
  {
   "cell_type": "code",
   "execution_count": null,
   "metadata": {
    "scrolled": true
   },
   "outputs": [],
   "source": [
    "msg.offset"
   ]
  },
  {
   "cell_type": "code",
   "execution_count": null,
   "metadata": {
    "scrolled": true
   },
   "outputs": [],
   "source": [
    "msg.value"
   ]
  },
  {
   "cell_type": "markdown",
   "metadata": {},
   "source": [
    "**Question II.a (5/10)** Write a function to extract the median timestamp from a message of the `ndovloketnl-gps` topic. You can reuse the `extract_gps_data` function from part I."
   ]
  },
  {
   "cell_type": "code",
   "execution_count": null,
   "metadata": {
    "scrolled": true
   },
   "outputs": [],
   "source": [
    "example_gps = client.topics[b'ndovloketnl-gps'].get_simple_consumer(\n",
    "    auto_offset_reset=OffsetType.EARLIEST,\n",
    "    reset_offset_on_start=True\n",
    ").consume()"
   ]
  },
  {
   "cell_type": "code",
   "execution_count": null,
   "metadata": {
    "scrolled": true
   },
   "outputs": [],
   "source": [
    "# Answer II.a\n",
    "import pandas as pd\n",
    "import numpy as np\n",
    "def extract_gps_time_approx(msg):\n",
    "    <--TODO-->"
   ]
  },
  {
   "cell_type": "code",
   "execution_count": 11,
   "metadata": {
    "scrolled": true
   },
   "outputs": [
    {
     "data": {
      "text/plain": [
       "numpy.datetime64('2020-04-23T17:06:34.000000000')"
      ]
     },
     "execution_count": 11,
     "metadata": {},
     "output_type": "execute_result"
    }
   ],
   "source": [
    "# Example results from `extract_gps_time_approx`\n",
    "extract_gps_time_approx(json.loads(example_gps.value))"
   ]
  },
  {
   "cell_type": "markdown",
   "metadata": {},
   "source": [
    "**Question II.b (5/10)** Using `fetch_message_at` and `extract_gps_time_approx`, write a function named `search_gps` to find the \"first\" offset for a given timestamp in the `ndovloketnl-gps` topic. You function should use [Binary Search Algorithm](https://en.wikipedia.org/wiki/Binary_search_algorithm).\n",
    "\n",
    "More preciseley, if we note `offset = search_gps(ts)` where `ts` is a timestamp, then we have:\n",
    "```\n",
    "ts <= extract_gps_time_approx(fetch_message_at('ndovloketnl-gps', offset))\n",
    "\n",
    "extract_gps_time_approx(fetch_message_at('ndovloketnl-gps', offset - 1)) < ts\n",
    "```"
   ]
  },
  {
   "cell_type": "code",
   "execution_count": null,
   "metadata": {
    "scrolled": true
   },
   "outputs": [],
   "source": [
    "def search_gps(findTimeStr):\n",
    "    findTime = findTimeStr.to_datetime64()\n",
    "    <--TODO-->"
   ]
  },
  {
   "cell_type": "code",
   "execution_count": 14,
   "metadata": {
    "scrolled": true
   },
   "outputs": [
    {
     "data": {
      "text/plain": [
       "58197"
      ]
     },
     "execution_count": 14,
     "metadata": {},
     "output_type": "execute_result"
    }
   ],
   "source": [
    "# Example results from `search_gps`\n",
    "search_gps(pd.Timestamp('2020-04-30'))"
   ]
  },
  {
   "cell_type": "code",
   "execution_count": null,
   "metadata": {
    "scrolled": true
   },
   "outputs": [],
   "source": [
    "# Verify that offset returned above returns a timestamp on or after 2020-04-30 (replace <--OFFSET-->)\n",
    "extract_gps_time_approx(json.loads(fetch_message_at('ndovloketnl-gps', <--OFFSET-->).value))"
   ]
  },
  {
   "cell_type": "code",
   "execution_count": null,
   "metadata": {
    "scrolled": true
   },
   "outputs": [],
   "source": [
    "# Verify that offset returned above returns a timestamp before 2020-04-30 (replace <--OFFSET-->)\n",
    "extract_gps_time_approx(json.loads(fetch_message_at('ndovloketnl-gps', <--OFFSET--> - 1).value))"
   ]
  }
 ],
 "metadata": {
  "kernelspec": {
   "display_name": "Python 3",
   "language": "python",
   "name": "python3"
  },
  "language_info": {
   "codemirror_mode": {
    "name": "ipython",
    "version": 3
   },
   "file_extension": ".py",
   "mimetype": "text/x-python",
   "name": "python",
   "nbconvert_exporter": "python",
   "pygments_lexer": "ipython3",
   "version": "3.7.6"
  }
 },
 "nbformat": 4,
 "nbformat_minor": 4
}
