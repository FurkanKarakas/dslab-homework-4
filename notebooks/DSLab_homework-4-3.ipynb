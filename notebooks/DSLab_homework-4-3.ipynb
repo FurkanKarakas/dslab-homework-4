{
 "cells": [
  {
   "cell_type": "markdown",
   "metadata": {},
   "source": [
    "# Homework 4 - More trains (Part III)\n",
    "\n",
    "__Hand-in:__\n",
    "\n",
    "- __Due: 12.05.2020 23:59:59 CET__\n",
    "- `git push` your final verion to your group's Renku repository before the due\n",
    "- check if `Dockerfile`, `environment.yml` and `requirements.txt` are properly written\n",
    "- add necessary comments and discussion to make your codes readable\n",
    "\n",
    "For this homework, you will be working with the real-time streams of the NS, the train company of the Netherlands. You can see an example webpage that uses the same streams to display the train information on a map: https://spoorkaart.mwnn.nl/ . \n",
    "\n",
    "To help you and avoid having too many connections to the NS streaming servers, we have setup a service that collects the streams and pushes them to our Kafka instance. The related topics are: \n",
    "\n",
    "`ndovloketnl-arrivals`: For each arrival of a train in a station, describe the previous and next station, time of arrival (planned and actual), track number,...\n",
    "\n",
    "`ndovloketnl-departures`: For each departure of a train from a station, describe the previous and next station, time of departure (planned and actual), track number,...\n",
    "\n",
    "`ndovloketnl-gps`: For each train, describe the current location, speed, bearing.\n",
    "\n",
    "The events are serialized in JSON (actually converted from XML), with properties in their original language. Google translate could help you understand all of them, but we will provide you with some useful mappings."
   ]
  },
  {
   "cell_type": "markdown",
   "metadata": {},
   "source": [
    "---\n",
    "## Set up environment\n",
    "\n",
    "Run the following cells below before running the other cells of this notebook. Run them whenever you need to recreate a Spark context. Pay particular attention to your `username` settings, and make sure that it is properly set to your user name, both locally and on the remote Spark Driver.\n",
    "\n",
    "Configure your spark settings:\n",
    "1. name your spark application as `\"YOUR_GASPAR_homework_4\"`.\n",
    "2. make the required kafka jars available on the remote Spark driver.\n",
    "\n",
    "<div class=\"alert alert-block alert-warning\"><b>Any application without a proper name would be promptly killed.</b></div>"
   ]
  },
  {
   "cell_type": "code",
   "execution_count": 1,
   "metadata": {},
   "outputs": [
    {
     "data": {
      "text/html": [
       "Current session configs: <tt>{'conf': {'spark.app.name': 'boecuego_homework_4', 'spark.jars.packages': 'org.apache.spark:spark-streaming-kafka-0-8_2.11:2.3.1,org.apache.kafka:kafka_2.11:1.0.1'}, 'kind': 'pyspark'}</tt><br>"
      ],
      "text/plain": [
       "<IPython.core.display.HTML object>"
      ]
     },
     "metadata": {},
     "output_type": "display_data"
    },
    {
     "data": {
      "text/html": [
       "<table>\n",
       "<tr><th>ID</th><th>YARN Application ID</th><th>Kind</th><th>State</th><th>Spark UI</th><th>Driver log</th><th>Current session?</th></tr><tr><td>4102</td><td>application_1587988164357_0730</td><td>pyspark</td><td>idle</td><td><a target=\"_blank\" href=\"http://iccluster044.iccluster.epfl.ch:8088/proxy/application_1587988164357_0730/\">Link</a></td><td><a target=\"_blank\" href=\"http://iccluster070.iccluster.epfl.ch:8042/node/containerlogs/container_e05_1587988164357_0730_01_000001/ebouille\">Link</a></td><td></td></tr><tr><td>4103</td><td>application_1587988164357_0731</td><td>pyspark</td><td>idle</td><td><a target=\"_blank\" href=\"http://iccluster044.iccluster.epfl.ch:8088/proxy/application_1587988164357_0731/\">Link</a></td><td><a target=\"_blank\" href=\"http://iccluster072.iccluster.epfl.ch:8042/node/containerlogs/container_e05_1587988164357_0731_01_000001/ebouille\">Link</a></td><td></td></tr><tr><td>4105</td><td>application_1587988164357_0733</td><td>pyspark</td><td>idle</td><td><a target=\"_blank\" href=\"http://iccluster044.iccluster.epfl.ch:8088/proxy/application_1587988164357_0733/\">Link</a></td><td><a target=\"_blank\" href=\"http://iccluster069.iccluster.epfl.ch:8042/node/containerlogs/container_e05_1587988164357_0733_01_000001/ebouille\">Link</a></td><td></td></tr></table>"
      ],
      "text/plain": [
       "<IPython.core.display.HTML object>"
      ]
     },
     "metadata": {},
     "output_type": "display_data"
    }
   ],
   "source": [
    "%%configure\n",
    "{\"conf\": {\n",
    "    \"spark.app.name\": \"boecuego_homework_4\",\n",
    "    \"spark.jars.packages\": \"org.apache.spark:spark-streaming-kafka-0-8_2.11:2.3.1,org.apache.kafka:kafka_2.11:1.0.1\"\n",
    "}}"
   ]
  },
  {
   "cell_type": "markdown",
   "metadata": {},
   "source": [
    "Create a new session unless one was already created above (check for `✔` in current session)"
   ]
  },
  {
   "cell_type": "code",
   "execution_count": 2,
   "metadata": {},
   "outputs": [
    {
     "name": "stdout",
     "output_type": "stream",
     "text": [
      "Starting Spark application\n"
     ]
    },
    {
     "data": {
      "text/html": [
       "<table>\n",
       "<tr><th>ID</th><th>YARN Application ID</th><th>Kind</th><th>State</th><th>Spark UI</th><th>Driver log</th><th>Current session?</th></tr><tr><td>4106</td><td>application_1587988164357_0734</td><td>pyspark</td><td>idle</td><td><a target=\"_blank\" href=\"http://iccluster044.iccluster.epfl.ch:8088/proxy/application_1587988164357_0734/\">Link</a></td><td><a target=\"_blank\" href=\"http://iccluster065.iccluster.epfl.ch:8042/node/containerlogs/container_e05_1587988164357_0734_01_000001/ebouille\">Link</a></td><td>✔</td></tr></table>"
      ],
      "text/plain": [
       "<IPython.core.display.HTML object>"
      ]
     },
     "metadata": {},
     "output_type": "display_data"
    },
    {
     "data": {
      "application/vnd.jupyter.widget-view+json": {
       "model_id": "",
       "version_major": 2,
       "version_minor": 0
      },
      "text/plain": [
       "FloatProgress(value=0.0, bar_style='info', description='Progress:', layout=Layout(height='25px', width='50%'),…"
      ]
     },
     "metadata": {},
     "output_type": "display_data"
    },
    {
     "name": "stdout",
     "output_type": "stream",
     "text": [
      "SparkSession available as 'spark'.\n"
     ]
    },
    {
     "data": {
      "application/vnd.jupyter.widget-view+json": {
       "model_id": "",
       "version_major": 2,
       "version_minor": 0
      },
      "text/plain": [
       "FloatProgress(value=0.0, bar_style='info', description='Progress:', layout=Layout(height='25px', width='50%'),…"
      ]
     },
     "metadata": {},
     "output_type": "display_data"
    }
   ],
   "source": [
    "# Initialize spark application"
   ]
  },
  {
   "cell_type": "markdown",
   "metadata": {},
   "source": [
    "Set `username` to your GASPAR both locally and on the Spark driver."
   ]
  },
  {
   "cell_type": "code",
   "execution_count": 3,
   "metadata": {},
   "outputs": [],
   "source": [
    "%%local\n",
    "import os\n",
    "username = os.environ['JUPYTERHUB_USER']"
   ]
  },
  {
   "cell_type": "code",
   "execution_count": 4,
   "metadata": {},
   "outputs": [
    {
     "data": {
      "application/vnd.jupyter.widget-view+json": {
       "model_id": "",
       "version_major": 2,
       "version_minor": 0
      },
      "text/plain": [
       "FloatProgress(value=0.0, bar_style='info', description='Progress:', layout=Layout(height='25px', width='50%'),…"
      ]
     },
     "metadata": {},
     "output_type": "display_data"
    },
    {
     "name": "stdout",
     "output_type": "stream",
     "text": [
      "Successfully passed 'username' as 'username' to Spark kernel"
     ]
    }
   ],
   "source": [
    "%%send_to_spark -i username -t str -n username"
   ]
  },
  {
   "cell_type": "code",
   "execution_count": 5,
   "metadata": {},
   "outputs": [
    {
     "data": {
      "application/vnd.jupyter.widget-view+json": {
       "model_id": "",
       "version_major": 2,
       "version_minor": 0
      },
      "text/plain": [
       "FloatProgress(value=0.0, bar_style='info', description='Progress:', layout=Layout(height='25px', width='50%'),…"
      ]
     },
     "metadata": {},
     "output_type": "display_data"
    },
    {
     "name": "stdout",
     "output_type": "stream",
     "text": [
      "'boecuego'"
     ]
    }
   ],
   "source": [
    "username"
   ]
  },
  {
   "cell_type": "markdown",
   "metadata": {},
   "source": [
    "---"
   ]
  },
  {
   "cell_type": "markdown",
   "metadata": {},
   "source": [
    "## Create a Kafka client"
   ]
  },
  {
   "cell_type": "code",
   "execution_count": 6,
   "metadata": {
    "scrolled": true
   },
   "outputs": [
    {
     "data": {
      "application/vnd.jupyter.widget-view+json": {
       "model_id": "",
       "version_major": 2,
       "version_minor": 0
      },
      "text/plain": [
       "FloatProgress(value=0.0, bar_style='info', description='Progress:', layout=Layout(height='25px', width='50%'),…"
      ]
     },
     "metadata": {},
     "output_type": "display_data"
    }
   ],
   "source": [
    "from pykafka import KafkaClient\n",
    "from pykafka.common import OffsetType\n",
    "\n",
    "ZOOKEEPER_QUORUM = 'iccluster044.iccluster.epfl.ch:2181,'\\\n",
    "                   'iccluster054.iccluster.epfl.ch:2181,'\\\n",
    "                   'iccluster059.iccluster.epfl.ch:2181'\n",
    "\n",
    "client = KafkaClient(zookeeper_hosts=ZOOKEEPER_QUORUM)"
   ]
  },
  {
   "cell_type": "markdown",
   "metadata": {},
   "source": [
    "## Streams from Kafka"
   ]
  },
  {
   "cell_type": "code",
   "execution_count": 7,
   "metadata": {
    "scrolled": true
   },
   "outputs": [
    {
     "data": {
      "application/vnd.jupyter.widget-view+json": {
       "model_id": "",
       "version_major": 2,
       "version_minor": 0
      },
      "text/plain": [
       "FloatProgress(value=0.0, bar_style='info', description='Progress:', layout=Layout(height='25px', width='50%'),…"
      ]
     },
     "metadata": {},
     "output_type": "display_data"
    },
    {
     "name": "stdout",
     "output_type": "stream",
     "text": [
      "checkpoint created at hdfs:///user/boecuego/checkpoint/"
     ]
    }
   ],
   "source": [
    "# Define the checkpoint folder\n",
    "checkpoint = 'hdfs:///user/{}/checkpoint/'.format(username)\n",
    "print('checkpoint created at hdfs:///user/{}/checkpoint/'.format(username))"
   ]
  },
  {
   "cell_type": "code",
   "execution_count": 8,
   "metadata": {
    "scrolled": true
   },
   "outputs": [
    {
     "data": {
      "application/vnd.jupyter.widget-view+json": {
       "model_id": "",
       "version_major": 2,
       "version_minor": 0
      },
      "text/plain": [
       "FloatProgress(value=0.0, bar_style='info', description='Progress:', layout=Layout(height='25px', width='50%'),…"
      ]
     },
     "metadata": {},
     "output_type": "display_data"
    }
   ],
   "source": [
    "from pyspark.streaming import StreamingContext\n",
    "from pyspark.streaming.kafka import KafkaUtils\n",
    "\n",
    "# Create a StreamingContext with two working thread and batch interval of 10 seconds.\n",
    "# Each time you stop a StreamingContext, you will need to recreate it.\n",
    "ssc = StreamingContext(sc, 10)\n",
    "ssc.checkpoint(checkpoint)\n",
    "\n",
    "group_id = 'ns-{0}'.format(username)\n",
    "\n",
    "# Input streams\n",
    "arrival_stream = KafkaUtils.createStream(ssc, ZOOKEEPER_QUORUM, group_id, { 'ndovloketnl-arrivals': 1})\n",
    "departure_stream = KafkaUtils.createStream(ssc, ZOOKEEPER_QUORUM, group_id, { 'ndovloketnl-departures': 1})"
   ]
  },
  {
   "cell_type": "markdown",
   "metadata": {},
   "source": [
    "For now, let's just print the content of the streams. Note: the output may be shown after you run `ssc.stop`."
   ]
  },
  {
   "cell_type": "code",
   "execution_count": 9,
   "metadata": {
    "scrolled": true
   },
   "outputs": [
    {
     "data": {
      "application/vnd.jupyter.widget-view+json": {
       "model_id": "",
       "version_major": 2,
       "version_minor": 0
      },
      "text/plain": [
       "FloatProgress(value=0.0, bar_style='info', description='Progress:', layout=Layout(height='25px', width='50%'),…"
      ]
     },
     "metadata": {},
     "output_type": "display_data"
    }
   ],
   "source": [
    "arrival_stream.pprint()\n",
    "departure_stream.pprint()\n",
    "\n",
    "ssc.start()\n",
    "ssc.awaitTermination(timeout=10)"
   ]
  },
  {
   "cell_type": "code",
   "execution_count": 10,
   "metadata": {
    "scrolled": true
   },
   "outputs": [
    {
     "data": {
      "application/vnd.jupyter.widget-view+json": {
       "model_id": "",
       "version_major": 2,
       "version_minor": 0
      },
      "text/plain": [
       "FloatProgress(value=0.0, bar_style='info', description='Progress:', layout=Layout(height='25px', width='50%'),…"
      ]
     },
     "metadata": {},
     "output_type": "display_data"
    },
    {
     "name": "stdout",
     "output_type": "stream",
     "text": [
      "-------------------------------------------\n",
      "Time: 2020-05-05 13:15:10\n",
      "-------------------------------------------\n",
      "(None, u'{\"ns1:PutReisInformatieBoodschapIn\": {\"@xmlns:ns1\": \"urn:ndov:cdm:trein:reisinformatie:messages:dynamischeaankomststaat:1\", \"@xmlns:ns2\": \"urn:ndov:cdm:trein:reisinformatie:data:4\", \"ns2:ReisInformatieProductDAS\": {\"@TimeStamp\": \"2020-05-04T23:15:12.935Z\", \"@Versie\": \"6.1\", \"ns2:RIPAdministratie\": {\"ns2:ReisInformatieProductID\": \"2005050115122100010\", \"ns2:AbonnementId\": \"55\", \"ns2:ReisInformatieTijdstip\": \"2020-05-04T23:10:00.000Z\"}, \"ns2:DynamischeAankomstStaat\": {\"ns2:RitId\": \"4491\", \"ns2:RitDatum\": \"2020-05-04\", \"ns2:RitStation\": {\"ns2:StationCode\": \"EHV\", \"ns2:Type\": \"6\", \"ns2:KorteNaam\": \"Eindhovn C\", \"ns2:MiddelNaam\": \"Eindhoven C.\", \"ns2:LangeNaam\": \"Eindhoven Centraal\", \"ns2:UICCode\": \"8400206\"}, \"ns2:TreinAankomst\": {\"ns2:TreinNummer\": \"4491\", \"ns2:TreinSoort\": {\"@Code\": \"SPR\", \"#text\": \"Sprinter\"}, \"ns2:TreinStatus\": \"0\", \"ns2:Vervoerder\": \"NS\", \"ns2:TreinHerkomst\": [{\"@InfoStatus\": \"Gepland\", \"ns2:StationCode\": \"HT\", \"ns2:Type\": \"5\", \"ns2:KorteNaam\": \"Den Bosch\", \"ns2:MiddelNaam\": \"\\'s-Hertogenbosch\", \"ns2:LangeNaam\": \"\\'s-Hertogenbosch\", \"ns2:UICCode\": \"8400319\"}, {\"@InfoStatus\": \"Actueel\", \"ns2:StationCode\": \"HT\", \"ns2:Type\": \"5\", \"ns2:KorteNaam\": \"Den Bosch\", \"ns2:MiddelNaam\": \"\\'s-Hertogenbosch\", \"ns2:LangeNaam\": \"\\'s-Hertogenbosch\", \"ns2:UICCode\": \"8400319\"}], \"ns2:PresentatieTreinHerkomst\": {\"ns2:Uitingen\": {\"ns2:Uiting\": \"\\'s-Hertogenbosch\"}}, \"ns2:AankomstTijd\": [{\"@InfoStatus\": \"Gepland\", \"#text\": \"2020-05-04T23:10:00.000Z\"}, {\"@InfoStatus\": \"Actueel\", \"#text\": \"2020-05-04T23:43:41.000Z\"}], \"ns2:ExacteAankomstVertraging\": \"PT33M41S\", \"ns2:PresentatieAankomstVertraging\": {\"ns2:Uitingen\": {\"ns2:Uiting\": \"+33 min.\"}}, \"ns2:GedempteAankomstVertraging\": \"PT35M\", \"ns2:TreinAankomstSpoor\": [{\"@InfoStatus\": \"Gepland\", \"ns2:SpoorNummer\": \"1\"}, {\"@InfoStatus\": \"Actueel\", \"ns2:SpoorNummer\": \"1\"}], \"ns2:PresentatieTreinAankomstSpoor\": {\"ns2:Uitingen\": {\"ns2:Uiting\": \"1\"}}, \"ns2:VerkorteRouteHerkomst\": [{\"@InfoStatus\": \"Gepland\", \"ns2:Station\": {\"ns2:StationCode\": \"BTL\", \"ns2:Type\": \"1\", \"ns2:KorteNaam\": \"Boxtel\", \"ns2:MiddelNaam\": \"Boxtel\", \"ns2:LangeNaam\": \"Boxtel\", \"ns2:UICCode\": \"8400129\"}}, {\"@InfoStatus\": \"Actueel\", \"ns2:Station\": {\"ns2:StationCode\": \"BTL\", \"ns2:Type\": \"1\", \"ns2:KorteNaam\": \"Boxtel\", \"ns2:MiddelNaam\": \"Boxtel\", \"ns2:LangeNaam\": \"Boxtel\", \"ns2:UICCode\": \"8400129\"}}], \"ns2:PresentatieVerkorteRouteHerkomst\": {\"ns2:Uitingen\": {\"ns2:Uiting\": \"Boxtel\"}}, \"ns2:WijzigingHerkomst\": {\"ns2:WijzigingType\": \"11\", \"ns2:WijzigingOorzaakKort\": \"hulpdiensten\", \"ns2:WijzigingOorzaakLang\": \"door inzet van hulpdiensten\"}}}}}}')\n",
      "(None, u'{\"ns1:PutReisInformatieBoodschapIn\": {\"@xmlns:ns1\": \"urn:ndov:cdm:trein:reisinformatie:messages:dynamischeaankomststaat:1\", \"@xmlns:ns2\": \"urn:ndov:cdm:trein:reisinformatie:data:4\", \"ns2:ReisInformatieProductDAS\": {\"@TimeStamp\": \"2020-05-04T23:15:12.943Z\", \"@Versie\": \"6.1\", \"ns2:RIPAdministratie\": {\"ns2:ReisInformatieProductID\": \"2005050115122100011\", \"ns2:AbonnementId\": \"55\", \"ns2:ReisInformatieTijdstip\": \"2020-05-04T23:06:00.000Z\"}, \"ns2:DynamischeAankomstStaat\": {\"ns2:RitId\": \"4491\", \"ns2:RitDatum\": \"2020-05-04\", \"ns2:RitStation\": {\"ns2:StationCode\": \"EHS\", \"ns2:Type\": \"0\", \"ns2:KorteNaam\": \"Strijp-S\", \"ns2:MiddelNaam\": \"Strijp-S\", \"ns2:LangeNaam\": \"Eindhoven Strijp-S\", \"ns2:UICCode\": \"8400196\"}, \"ns2:TreinAankomst\": {\"ns2:TreinNummer\": \"4491\", \"ns2:TreinSoort\": {\"@Code\": \"SPR\", \"#text\": \"Sprinter\"}, \"ns2:TreinStatus\": \"0\", \"ns2:Vervoerder\": \"NS\", \"ns2:TreinHerkomst\": [{\"@InfoStatus\": \"Gepland\", \"ns2:StationCode\": \"HT\", \"ns2:Type\": \"5\", \"ns2:KorteNaam\": \"Den Bosch\", \"ns2:MiddelNaam\": \"\\'s-Hertogenbosch\", \"ns2:LangeNaam\": \"\\'s-Hertogenbosch\", \"ns2:UICCode\": \"8400319\"}, {\"@InfoStatus\": \"Actueel\", \"ns2:StationCode\": \"HT\", \"ns2:Type\": \"5\", \"ns2:KorteNaam\": \"Den Bosch\", \"ns2:MiddelNaam\": \"\\'s-Hertogenbosch\", \"ns2:LangeNaam\": \"\\'s-Hertogenbosch\", \"ns2:UICCode\": \"8400319\"}], \"ns2:PresentatieTreinHerkomst\": {\"ns2:Uitingen\": {\"ns2:Uiting\": \"\\'s-Hertogenbosch\"}}, \"ns2:AankomstTijd\": [{\"@InfoStatus\": \"Gepland\", \"#text\": \"2020-05-04T23:06:00.000Z\"}, {\"@InfoStatus\": \"Actueel\", \"#text\": \"2020-05-04T23:40:00.000Z\"}], \"ns2:ExacteAankomstVertraging\": \"PT34M\", \"ns2:PresentatieAankomstVertraging\": {\"ns2:Uitingen\": {\"ns2:Uiting\": \"+34 min.\"}}, \"ns2:GedempteAankomstVertraging\": \"PT35M\", \"ns2:TreinAankomstSpoor\": [{\"@InfoStatus\": \"Gepland\", \"ns2:SpoorNummer\": \"4\"}, {\"@InfoStatus\": \"Actueel\", \"ns2:SpoorNummer\": \"4\"}], \"ns2:PresentatieTreinAankomstSpoor\": {\"ns2:Uitingen\": {\"ns2:Uiting\": \"4\"}}, \"ns2:VerkorteRouteHerkomst\": [{\"@InfoStatus\": \"Gepland\", \"ns2:Station\": {\"ns2:StationCode\": \"BTL\", \"ns2:Type\": \"1\", \"ns2:KorteNaam\": \"Boxtel\", \"ns2:MiddelNaam\": \"Boxtel\", \"ns2:LangeNaam\": \"Boxtel\", \"ns2:UICCode\": \"8400129\"}}, {\"@InfoStatus\": \"Actueel\", \"ns2:Station\": {\"ns2:StationCode\": \"BTL\", \"ns2:Type\": \"1\", \"ns2:KorteNaam\": \"Boxtel\", \"ns2:MiddelNaam\": \"Boxtel\", \"ns2:LangeNaam\": \"Boxtel\", \"ns2:UICCode\": \"8400129\"}}], \"ns2:PresentatieVerkorteRouteHerkomst\": {\"ns2:Uitingen\": {\"ns2:Uiting\": \"Boxtel\"}}, \"ns2:WijzigingHerkomst\": {\"ns2:WijzigingType\": \"11\", \"ns2:WijzigingOorzaakKort\": \"hulpdiensten\", \"ns2:WijzigingOorzaakLang\": \"door inzet van hulpdiensten\"}}}}}}')\n",
      "(None, u'{\"ns1:PutReisInformatieBoodschapIn\": {\"@xmlns:ns1\": \"urn:ndov:cdm:trein:reisinformatie:messages:dynamischeaankomststaat:1\", \"@xmlns:ns2\": \"urn:ndov:cdm:trein:reisinformatie:data:4\", \"ns2:ReisInformatieProductDAS\": {\"@TimeStamp\": \"2020-05-04T23:15:12.480Z\", \"@Versie\": \"6.1\", \"ns2:RIPAdministratie\": {\"ns2:ReisInformatieProductID\": \"2005050115122100002\", \"ns2:AbonnementId\": \"55\", \"ns2:ReisInformatieTijdstip\": \"2020-05-04T23:14:00.000Z\"}, \"ns2:DynamischeAankomstStaat\": {\"ns2:RitId\": \"2284\", \"ns2:RitDatum\": \"2020-05-04\", \"ns2:RitStation\": {\"ns2:StationCode\": \"SDM\", \"ns2:Type\": \"0\", \"ns2:KorteNaam\": \"Schiedam C\", \"ns2:MiddelNaam\": \"Schiedam C.\", \"ns2:LangeNaam\": \"Schiedam Centrum\", \"ns2:UICCode\": \"8400553\"}, \"ns2:TreinAankomst\": {\"ns2:TreinNummer\": \"2284\", \"ns2:TreinSoort\": {\"@Code\": \"IC\", \"#text\": \"Intercity\"}, \"ns2:TreinStatus\": \"5\", \"ns2:Vervoerder\": \"NS\", \"ns2:TreinHerkomst\": [{\"@InfoStatus\": \"Gepland\", \"ns2:StationCode\": \"ASD\", \"ns2:Type\": \"6\", \"ns2:KorteNaam\": \"Amsterdm C\", \"ns2:MiddelNaam\": \"Amsterdam C.\", \"ns2:LangeNaam\": \"Amsterdam Centraal\", \"ns2:UICCode\": \"8400058\"}, {\"@InfoStatus\": \"Actueel\", \"ns2:StationCode\": \"ASD\", \"ns2:Type\": \"6\", \"ns2:KorteNaam\": \"Amsterdm C\", \"ns2:MiddelNaam\": \"Amsterdam C.\", \"ns2:LangeNaam\": \"Amsterdam Centraal\", \"ns2:UICCode\": \"8400058\"}], \"ns2:PresentatieTreinHerkomst\": {\"ns2:Uitingen\": {\"ns2:Uiting\": \"Amsterdam C.\"}}, \"ns2:AankomstTijd\": [{\"@InfoStatus\": \"Gepland\", \"#text\": \"2020-05-04T23:14:00.000Z\"}, {\"@InfoStatus\": \"Actueel\", \"#text\": \"2020-05-04T23:14:00.000Z\"}], \"ns2:ExacteAankomstVertraging\": \"PT0S\", \"ns2:GedempteAankomstVertraging\": \"PT0S\", \"ns2:TreinAankomstSpoor\": [{\"@InfoStatus\": \"Gepland\", \"ns2:SpoorNummer\": \"2\"}, {\"@InfoStatus\": \"Actueel\", \"ns2:SpoorNummer\": \"2\"}], \"ns2:PresentatieTreinAankomstSpoor\": {\"ns2:Uitingen\": {\"ns2:Uiting\": \"2\"}}, \"ns2:VerkorteRouteHerkomst\": [{\"@InfoStatus\": \"Gepland\", \"ns2:Station\": [{\"ns2:StationCode\": \"HAD\", \"ns2:Type\": \"4\", \"ns2:KorteNaam\": \"Heemstede\", \"ns2:MiddelNaam\": \"Heemstede-A.\", \"ns2:LangeNaam\": \"Heemstede-Aerdenhout\", \"ns2:UICCode\": \"8400302\"}, {\"ns2:StationCode\": \"LEDN\", \"ns2:Type\": \"5\", \"ns2:KorteNaam\": \"Leiden C\", \"ns2:MiddelNaam\": \"Leiden C.\", \"ns2:LangeNaam\": \"Leiden Centraal\", \"ns2:UICCode\": \"8400390\"}, {\"ns2:StationCode\": \"GV\", \"ns2:Type\": \"5\", \"ns2:KorteNaam\": \"Dn Haag HS\", \"ns2:MiddelNaam\": \"Den Haag HS\", \"ns2:LangeNaam\": \"Den Haag HS\", \"ns2:UICCode\": \"8400280\"}, {\"ns2:StationCode\": \"DT\", \"ns2:Type\": \"5\", \"ns2:KorteNaam\": \"Delft\", \"ns2:MiddelNaam\": \"Delft\", \"ns2:LangeNaam\": \"Delft\", \"ns2:UICCode\": \"8400170\"}]}, {\"@InfoStatus\": \"Actueel\", \"ns2:Station\": [{\"ns2:StationCode\": \"HAD\", \"ns2:Type\": \"4\", \"ns2:KorteNaam\": \"Heemstede\", \"ns2:MiddelNaam\": \"Heemstede-A.\", \"ns2:LangeNaam\": \"Heemstede-Aerdenhout\", \"ns2:UICCode\": \"8400302\"}, {\"ns2:StationCode\": \"LEDN\", \"ns2:Type\": \"5\", \"ns2:KorteNaam\": \"Leiden C\", \"ns2:MiddelNaam\": \"Leiden C.\", \"ns2:LangeNaam\": \"Leiden Centraal\", \"ns2:UICCode\": \"8400390\"}, {\"ns2:StationCode\": \"GV\", \"ns2:Type\": \"5\", \"ns2:KorteNaam\": \"Dn Haag HS\", \"ns2:MiddelNaam\": \"Den Haag HS\", \"ns2:LangeNaam\": \"Den Haag HS\", \"ns2:UICCode\": \"8400280\"}, {\"ns2:StationCode\": \"DT\", \"ns2:Type\": \"5\", \"ns2:KorteNaam\": \"Delft\", \"ns2:MiddelNaam\": \"Delft\", \"ns2:LangeNaam\": \"Delft\", \"ns2:UICCode\": \"8400170\"}]}], \"ns2:PresentatieVerkorteRouteHerkomst\": {\"ns2:Uitingen\": {\"ns2:Uiting\": \"Heemstede-A., Leiden C., Den Haag HS, Delft\"}}, \"ns2:WijzigingHerkomst\": {\"ns2:WijzigingType\": \"40\"}}}}}}')\n",
      "(None, u'{\"ns1:PutReisInformatieBoodschapIn\": {\"@xmlns:ns1\": \"urn:ndov:cdm:trein:reisinformatie:messages:dynamischeaankomststaat:1\", \"@xmlns:ns2\": \"urn:ndov:cdm:trein:reisinformatie:data:4\", \"ns2:ReisInformatieProductDAS\": {\"@TimeStamp\": \"2020-05-04T23:15:12.925Z\", \"@Versie\": \"6.1\", \"ns2:RIPAdministratie\": {\"ns2:ReisInformatieProductID\": \"2005050115122100009\", \"ns2:AbonnementId\": \"55\", \"ns2:ReisInformatieTijdstip\": \"2020-05-04T23:00:00.000Z\"}, \"ns2:DynamischeAankomstStaat\": {\"ns2:RitId\": \"4491\", \"ns2:RitDatum\": \"2020-05-04\", \"ns2:RitStation\": {\"ns2:StationCode\": \"BET\", \"ns2:Type\": \"0\", \"ns2:KorteNaam\": \"Best\", \"ns2:MiddelNaam\": \"Best\", \"ns2:LangeNaam\": \"Best\", \"ns2:UICCode\": \"8400112\"}, \"ns2:TreinAankomst\": {\"ns2:TreinNummer\": \"4491\", \"ns2:TreinSoort\": {\"@Code\": \"SPR\", \"#text\": \"Sprinter\"}, \"ns2:TreinStatus\": \"0\", \"ns2:Vervoerder\": \"NS\", \"ns2:TreinHerkomst\": [{\"@InfoStatus\": \"Gepland\", \"ns2:StationCode\": \"HT\", \"ns2:Type\": \"5\", \"ns2:KorteNaam\": \"Den Bosch\", \"ns2:MiddelNaam\": \"\\'s-Hertogenbosch\", \"ns2:LangeNaam\": \"\\'s-Hertogenbosch\", \"ns2:UICCode\": \"8400319\"}, {\"@InfoStatus\": \"Actueel\", \"ns2:StationCode\": \"HT\", \"ns2:Type\": \"5\", \"ns2:KorteNaam\": \"Den Bosch\", \"ns2:MiddelNaam\": \"\\'s-Hertogenbosch\", \"ns2:LangeNaam\": \"\\'s-Hertogenbosch\", \"ns2:UICCode\": \"8400319\"}], \"ns2:PresentatieTreinHerkomst\": {\"ns2:Uitingen\": {\"ns2:Uiting\": \"\\'s-Hertogenbosch\"}}, \"ns2:AankomstTijd\": [{\"@InfoStatus\": \"Gepland\", \"#text\": \"2020-05-04T23:00:00.000Z\"}, {\"@InfoStatus\": \"Actueel\", \"#text\": \"2020-05-04T23:34:28.000Z\"}], \"ns2:ExacteAankomstVertraging\": \"PT34M28S\", \"ns2:PresentatieAankomstVertraging\": {\"ns2:Uitingen\": {\"ns2:Uiting\": \"+34 min.\"}}, \"ns2:GedempteAankomstVertraging\": \"PT35M\", \"ns2:TreinAankomstSpoor\": [{\"@InfoStatus\": \"Gepland\", \"ns2:SpoorNummer\": \"4\"}, {\"@InfoStatus\": \"Actueel\", \"ns2:SpoorNummer\": \"4\"}], \"ns2:PresentatieTreinAankomstSpoor\": {\"ns2:Uitingen\": {\"ns2:Uiting\": \"4\"}}, \"ns2:VerkorteRouteHerkomst\": [{\"@InfoStatus\": \"Gepland\", \"ns2:Station\": {\"ns2:StationCode\": \"BTL\", \"ns2:Type\": \"1\", \"ns2:KorteNaam\": \"Boxtel\", \"ns2:MiddelNaam\": \"Boxtel\", \"ns2:LangeNaam\": \"Boxtel\", \"ns2:UICCode\": \"8400129\"}}, {\"@InfoStatus\": \"Actueel\", \"ns2:Station\": {\"ns2:StationCode\": \"BTL\", \"ns2:Type\": \"1\", \"ns2:KorteNaam\": \"Boxtel\", \"ns2:MiddelNaam\": \"Boxtel\", \"ns2:LangeNaam\": \"Boxtel\", \"ns2:UICCode\": \"8400129\"}}], \"ns2:PresentatieVerkorteRouteHerkomst\": {\"ns2:Uitingen\": {\"ns2:Uiting\": \"Boxtel\"}}, \"ns2:WijzigingHerkomst\": {\"ns2:WijzigingType\": \"11\", \"ns2:WijzigingOorzaakKort\": \"hulpdiensten\", \"ns2:WijzigingOorzaakLang\": \"door inzet van hulpdiensten\"}}}}}}')\n",
      "(None, u'{\"ns1:PutReisInformatieBoodschapIn\": {\"@xmlns:ns1\": \"urn:ndov:cdm:trein:reisinformatie:messages:dynamischeaankomststaat:1\", \"@xmlns:ns2\": \"urn:ndov:cdm:trein:reisinformatie:data:4\", \"ns2:ReisInformatieProductDAS\": {\"@TimeStamp\": \"2020-05-04T23:15:17.475Z\", \"@Versie\": \"6.1\", \"ns2:RIPAdministratie\": {\"ns2:ReisInformatieProductID\": \"2005050115172500002\", \"ns2:AbonnementId\": \"55\", \"ns2:ReisInformatieTijdstip\": \"2020-05-04T23:14:00.000Z\"}, \"ns2:DynamischeAankomstStaat\": {\"ns2:RitId\": \"6399\", \"ns2:RitDatum\": \"2020-05-04\", \"ns2:RitStation\": {\"ns2:StationCode\": \"HIL\", \"ns2:Type\": \"0\", \"ns2:KorteNaam\": \"Hillegom\", \"ns2:MiddelNaam\": \"Hillegom\", \"ns2:LangeNaam\": \"Hillegom\", \"ns2:UICCode\": \"8400329\"}, \"ns2:TreinAankomst\": {\"ns2:TreinNummer\": \"6399\", \"ns2:TreinSoort\": {\"@Code\": \"SPR\", \"#text\": \"Sprinter\"}, \"ns2:TreinStatus\": \"2\", \"ns2:Vervoerder\": \"NS\", \"ns2:TreinHerkomst\": [{\"@InfoStatus\": \"Gepland\", \"ns2:StationCode\": \"HLM\", \"ns2:Type\": \"5\", \"ns2:KorteNaam\": \"Haarlem\", \"ns2:MiddelNaam\": \"Haarlem\", \"ns2:LangeNaam\": \"Haarlem\", \"ns2:UICCode\": \"8400285\"}, {\"@InfoStatus\": \"Actueel\", \"ns2:StationCode\": \"HLM\", \"ns2:Type\": \"5\", \"ns2:KorteNaam\": \"Haarlem\", \"ns2:MiddelNaam\": \"Haarlem\", \"ns2:LangeNaam\": \"Haarlem\", \"ns2:UICCode\": \"8400285\"}], \"ns2:PresentatieTreinHerkomst\": {\"ns2:Uitingen\": {\"ns2:Uiting\": \"Haarlem\"}}, \"ns2:AankomstTijd\": [{\"@InfoStatus\": \"Gepland\", \"#text\": \"2020-05-04T23:14:00.000Z\"}, {\"@InfoStatus\": \"Actueel\", \"#text\": \"2020-05-04T23:15:13.000Z\"}], \"ns2:ExacteAankomstVertraging\": \"PT1M13S\", \"ns2:PresentatieAankomstVertraging\": {\"ns2:Uitingen\": {\"ns2:Uiting\": \"+1 min.\"}}, \"ns2:GedempteAankomstVertraging\": \"PT0S\", \"ns2:TreinAankomstSpoor\": [{\"@InfoStatus\": \"Gepland\", \"ns2:SpoorNummer\": \"2\"}, {\"@InfoStatus\": \"Actueel\", \"ns2:SpoorNummer\": \"2\"}], \"ns2:PresentatieTreinAankomstSpoor\": {\"ns2:Uitingen\": {\"ns2:Uiting\": \"2\"}}, \"ns2:WijzigingHerkomst\": [{\"ns2:WijzigingType\": \"11\"}, {\"ns2:WijzigingType\": \"40\"}]}}}}}')\n",
      "(None, u'{\"ns1:PutReisInformatieBoodschapIn\": {\"@xmlns:ns1\": \"urn:ndov:cdm:trein:reisinformatie:messages:dynamischeaankomststaat:1\", \"@xmlns:ns2\": \"urn:ndov:cdm:trein:reisinformatie:data:4\", \"ns2:ReisInformatieProductDAS\": {\"@TimeStamp\": \"2020-05-04T23:15:20.954Z\", \"@Versie\": \"6.1\", \"ns2:RIPAdministratie\": {\"ns2:ReisInformatieProductID\": \"2005050115202500006\", \"ns2:AbonnementId\": \"55\", \"ns2:ReisInformatieTijdstip\": \"2020-05-04T23:11:00.000Z\"}, \"ns2:DynamischeAankomstStaat\": {\"ns2:RitId\": \"7290\", \"ns2:RitDatum\": \"2020-05-04\", \"ns2:RitStation\": {\"ns2:StationCode\": \"BSD\", \"ns2:Type\": \"0\", \"ns2:KorteNaam\": \"Beesd\", \"ns2:MiddelNaam\": \"Beesd\", \"ns2:LangeNaam\": \"Beesd\", \"ns2:UICCode\": \"8400097\"}, \"ns2:TreinAankomst\": {\"ns2:TreinNummer\": \"7290\", \"ns2:TreinSoort\": {\"@Code\": \"ST\", \"#text\": \"Stoptrein\"}, \"ns2:TreinStatus\": \"5\", \"ns2:Vervoerder\": \"R-net\", \"ns2:TreinHerkomst\": [{\"@InfoStatus\": \"Gepland\", \"ns2:StationCode\": \"GDM\", \"ns2:Type\": \"1\", \"ns2:KorteNaam\": \"Geldermlsn\", \"ns2:MiddelNaam\": \"Geldermalsen\", \"ns2:LangeNaam\": \"Geldermalsen\", \"ns2:UICCode\": \"8400244\"}, {\"@InfoStatus\": \"Actueel\", \"ns2:StationCode\": \"GDM\", \"ns2:Type\": \"1\", \"ns2:KorteNaam\": \"Geldermlsn\", \"ns2:MiddelNaam\": \"Geldermalsen\", \"ns2:LangeNaam\": \"Geldermalsen\", \"ns2:UICCode\": \"8400244\"}], \"ns2:PresentatieTreinHerkomst\": {\"ns2:Uitingen\": {\"ns2:Uiting\": \"Geldermalsen\"}}, \"ns2:AankomstTijd\": [{\"@InfoStatus\": \"Gepland\", \"#text\": \"2020-05-04T23:11:00.000Z\"}, {\"@InfoStatus\": \"Actueel\", \"#text\": \"2020-05-04T23:11:00.000Z\"}], \"ns2:ExacteAankomstVertraging\": \"PT0S\", \"ns2:GedempteAankomstVertraging\": \"PT0S\", \"ns2:TreinAankomstSpoor\": [{\"@InfoStatus\": \"Gepland\", \"ns2:SpoorNummer\": \"2\"}, {\"@InfoStatus\": \"Actueel\", \"ns2:SpoorNummer\": \"2\"}], \"ns2:PresentatieTreinAankomstSpoor\": {\"ns2:Uitingen\": {\"ns2:Uiting\": \"2\"}}, \"ns2:WijzigingHerkomst\": {\"ns2:WijzigingType\": \"40\"}}}}}}')\n",
      "(None, u'{\"ns1:PutReisInformatieBoodschapIn\": {\"@xmlns:ns1\": \"urn:ndov:cdm:trein:reisinformatie:messages:dynamischeaankomststaat:1\", \"@xmlns:ns2\": \"urn:ndov:cdm:trein:reisinformatie:data:4\", \"ns2:ReisInformatieProductDAS\": {\"@TimeStamp\": \"2020-05-04T23:15:21.598Z\", \"@Versie\": \"6.1\", \"ns2:RIPAdministratie\": {\"ns2:ReisInformatieProductID\": \"2005050115212200004\", \"ns2:AbonnementId\": \"55\", \"ns2:ReisInformatieTijdstip\": \"2020-05-04T23:20:00.000Z\"}, \"ns2:DynamischeAankomstStaat\": {\"ns2:RitId\": \"5195\", \"ns2:RitDatum\": \"2020-05-04\", \"ns2:RitStation\": {\"ns2:StationCode\": \"ZWD\", \"ns2:Type\": \"0\", \"ns2:KorteNaam\": \"Zwijndrcht\", \"ns2:MiddelNaam\": \"Zwijndrecht\", \"ns2:LangeNaam\": \"Zwijndrecht\", \"ns2:UICCode\": \"8400752\"}, \"ns2:TreinAankomst\": {\"ns2:TreinNummer\": \"5195\", \"ns2:TreinSoort\": {\"@Code\": \"SPR\", \"#text\": \"Sprinter\"}, \"ns2:TreinStatus\": \"0\", \"ns2:Vervoerder\": \"NS\", \"ns2:TreinHerkomst\": [{\"@InfoStatus\": \"Gepland\", \"ns2:StationCode\": \"GVC\", \"ns2:Type\": \"6\", \"ns2:KorteNaam\": \"Den Haag C\", \"ns2:MiddelNaam\": \"Den Haag C.\", \"ns2:LangeNaam\": \"Den Haag Centraal\", \"ns2:UICCode\": \"8400282\"}, {\"@InfoStatus\": \"Actueel\", \"ns2:StationCode\": \"GVC\", \"ns2:Type\": \"6\", \"ns2:KorteNaam\": \"Den Haag C\", \"ns2:MiddelNaam\": \"Den Haag C.\", \"ns2:LangeNaam\": \"Den Haag Centraal\", \"ns2:UICCode\": \"8400282\"}], \"ns2:PresentatieTreinHerkomst\": {\"ns2:Uitingen\": {\"ns2:Uiting\": \"Den Haag C.\"}}, \"ns2:AankomstTijd\": [{\"@InfoStatus\": \"Gepland\", \"#text\": \"2020-05-04T23:20:00.000Z\"}, {\"@InfoStatus\": \"Actueel\", \"#text\": \"2020-05-04T23:20:00.000Z\"}], \"ns2:ExacteAankomstVertraging\": \"PT0S\", \"ns2:GedempteAankomstVertraging\": \"PT0S\", \"ns2:TreinAankomstSpoor\": [{\"@InfoStatus\": \"Gepland\", \"ns2:SpoorNummer\": \"4\"}, {\"@InfoStatus\": \"Actueel\", \"ns2:SpoorNummer\": \"3\"}], \"ns2:PresentatieTreinAankomstSpoor\": {\"ns2:Uitingen\": {\"ns2:Uiting\": \"3\"}}, \"ns2:VerkorteRouteHerkomst\": [{\"@InfoStatus\": \"Gepland\", \"ns2:Station\": [{\"ns2:StationCode\": \"GV\", \"ns2:Type\": \"5\", \"ns2:KorteNaam\": \"Dn Haag HS\", \"ns2:MiddelNaam\": \"Den Haag HS\", \"ns2:LangeNaam\": \"Den Haag HS\", \"ns2:UICCode\": \"8400280\"}, {\"ns2:StationCode\": \"DT\", \"ns2:Type\": \"5\", \"ns2:KorteNaam\": \"Delft\", \"ns2:MiddelNaam\": \"Delft\", \"ns2:LangeNaam\": \"Delft\", \"ns2:UICCode\": \"8400170\"}, {\"ns2:StationCode\": \"RTD\", \"ns2:Type\": \"6\", \"ns2:KorteNaam\": \"Rotterdm C\", \"ns2:MiddelNaam\": \"Rotterdam C.\", \"ns2:LangeNaam\": \"Rotterdam Centraal\", \"ns2:UICCode\": \"8400530\"}]}, {\"@InfoStatus\": \"Actueel\", \"ns2:Station\": [{\"ns2:StationCode\": \"GV\", \"ns2:Type\": \"5\", \"ns2:KorteNaam\": \"Dn Haag HS\", \"ns2:MiddelNaam\": \"Den Haag HS\", \"ns2:LangeNaam\": \"Den Haag HS\", \"ns2:UICCode\": \"8400280\"}, {\"ns2:StationCode\": \"DT\", \"ns2:Type\": \"5\", \"ns2:KorteNaam\": \"Delft\", \"ns2:MiddelNaam\": \"Delft\", \"ns2:LangeNaam\": \"Delft\", \"ns2:UICCode\": \"8400170\"}, {\"ns2:StationCode\": \"RTD\", \"ns2:Type\": \"6\", \"ns2:KorteNaam\": \"Rotterdm C\", \"ns2:MiddelNaam\": \"Rotterdam C.\", \"ns2:LangeNaam\": \"Rotterdam Centraal\", \"ns2:UICCode\": \"8400530\"}]}], \"ns2:PresentatieVerkorteRouteHerkomst\": {\"ns2:Uitingen\": {\"ns2:Uiting\": \"Den Haag HS, Delft, Rotterdam C.\"}}, \"ns2:WijzigingHerkomst\": {\"ns2:WijzigingType\": \"21\", \"ns2:PresentatieWijzigingHerkomst\": {\"ns2:Uitingen\": [{\"@Taal\": \"nl\", \"ns2:Uiting\": {\"@Prioriteit\": \"61\", \"#text\": \"Dit is een gewijzigd aankomstspoor\"}}, {\"@Taal\": \"en\", \"ns2:Uiting\": {\"@Prioriteit\": \"61\", \"#text\": \"Arrival platform changed\"}}]}}}, \"ns2:PresentatieOpmerkingen\": {\"ns2:Uitingen\": [{\"@Taal\": \"nl\", \"ns2:Uiting\": {\"@Prioriteit\": \"61\", \"@ReferentieType\": \"Wijziging\", \"@ReferentieWaarde\": \"21\", \"#text\": \"Dit is een gewijzigd aankomstspoor\"}}, {\"@Taal\": \"en\", \"ns2:Uiting\": {\"@Prioriteit\": \"61\", \"@ReferentieType\": \"Wijziging\", \"@ReferentieWaarde\": \"21\", \"#text\": \"Arrival platform changed\"}}]}}}}}')\n",
      "(None, u'{\"ns1:PutReisInformatieBoodschapIn\": {\"@xmlns:ns1\": \"urn:ndov:cdm:trein:reisinformatie:messages:dynamischeaankomststaat:1\", \"@xmlns:ns2\": \"urn:ndov:cdm:trein:reisinformatie:data:4\", \"ns2:ReisInformatieProductDAS\": {\"@TimeStamp\": \"2020-05-04T23:15:22.721Z\", \"@Versie\": \"6.1\", \"ns2:RIPAdministratie\": {\"ns2:ReisInformatieProductID\": \"2005050115222500002\", \"ns2:AbonnementId\": \"55\", \"ns2:ReisInformatieTijdstip\": \"2020-05-04T23:15:00.000Z\"}, \"ns2:DynamischeAankomstStaat\": {\"ns2:RitId\": \"37798\", \"ns2:RitDatum\": \"2020-05-04\", \"ns2:RitStation\": {\"ns2:StationCode\": \"DZW\", \"ns2:Type\": \"0\", \"ns2:KorteNaam\": \"Delfzijl W\", \"ns2:MiddelNaam\": \"Delfzijl W.\", \"ns2:LangeNaam\": \"Delfzijl West\", \"ns2:UICCode\": \"8400175\"}, \"ns2:TreinAankomst\": {\"ns2:TreinNummer\": \"37798\", \"ns2:TreinSoort\": {\"@Code\": \"ST\", \"#text\": \"Stoptrein\"}, \"ns2:TreinStatus\": \"2\", \"ns2:Vervoerder\": \"Arriva\", \"ns2:TreinHerkomst\": [{\"@InfoStatus\": \"Gepland\", \"ns2:StationCode\": \"DZ\", \"ns2:Type\": \"0\", \"ns2:KorteNaam\": \"Delfzijl\", \"ns2:MiddelNaam\": \"Delfzijl\", \"ns2:LangeNaam\": \"Delfzijl\", \"ns2:UICCode\": \"8400171\"}, {\"@InfoStatus\": \"Actueel\", \"ns2:StationCode\": \"DZ\", \"ns2:Type\": \"0\", \"ns2:KorteNaam\": \"Delfzijl\", \"ns2:MiddelNaam\": \"Delfzijl\", \"ns2:LangeNaam\": \"Delfzijl\", \"ns2:UICCode\": \"8400171\"}], \"ns2:PresentatieTreinHerkomst\": {\"ns2:Uitingen\": {\"ns2:Uiting\": \"Delfzijl\"}}, \"ns2:AankomstTijd\": [{\"@InfoStatus\": \"Gepland\", \"#text\": \"2020-05-04T23:15:00.000Z\"}, {\"@InfoStatus\": \"Actueel\", \"#text\": \"2020-05-04T23:15:00.000Z\"}], \"ns2:ExacteAankomstVertraging\": \"PT0S\", \"ns2:GedempteAankomstVertraging\": \"PT0S\", \"ns2:TreinAankomstSpoor\": [{\"@InfoStatus\": \"Gepland\", \"ns2:SpoorNummer\": \"1\"}, {\"@InfoStatus\": \"Actueel\", \"ns2:SpoorNummer\": \"1\"}], \"ns2:PresentatieTreinAankomstSpoor\": {\"ns2:Uitingen\": {\"ns2:Uiting\": \"1\"}}, \"ns2:WijzigingHerkomst\": {\"ns2:WijzigingType\": \"40\"}}}}}}')\n",
      "(None, u'{\"ns1:PutReisInformatieBoodschapIn\": {\"@xmlns:ns1\": \"urn:ndov:cdm:trein:reisinformatie:messages:dynamischeaankomststaat:1\", \"@xmlns:ns2\": \"urn:ndov:cdm:trein:reisinformatie:data:4\", \"ns2:ReisInformatieProductDAS\": {\"@TimeStamp\": \"2020-05-04T23:15:45.164Z\", \"@Versie\": \"6.1\", \"ns2:RIPAdministratie\": {\"ns2:ReisInformatieProductID\": \"2005050115452500007\", \"ns2:AbonnementId\": \"55\", \"ns2:ReisInformatieTijdstip\": \"2020-05-04T23:17:00.000Z\"}, \"ns2:DynamischeAankomstStaat\": {\"ns2:RitId\": \"8685\", \"ns2:RitDatum\": \"2020-05-04\", \"ns2:RitStation\": {\"ns2:StationCode\": \"WADN\", \"ns2:Type\": \"0\", \"ns2:KorteNaam\": \"Waddinxv N\", \"ns2:MiddelNaam\": \"Waddinxveen N.\", \"ns2:LangeNaam\": \"Waddinxveen Noord\", \"ns2:UICCode\": \"8400674\"}, \"ns2:TreinAankomst\": {\"ns2:TreinNummer\": \"8685\", \"ns2:TreinSoort\": {\"@Code\": \"SPR\", \"#text\": \"Sprinter\"}, \"ns2:TreinStatus\": \"0\", \"ns2:Vervoerder\": \"R-net\", \"ns2:TreinHerkomst\": [{\"@InfoStatus\": \"Gepland\", \"ns2:StationCode\": \"APN\", \"ns2:Type\": \"5\", \"ns2:KorteNaam\": \"Alphen\", \"ns2:MiddelNaam\": \"Alphen a/d Rijn\", \"ns2:LangeNaam\": \"Alphen a/d Rijn\", \"ns2:UICCode\": \"8400053\"}, {\"@InfoStatus\": \"Actueel\", \"ns2:StationCode\": \"APN\", \"ns2:Type\": \"5\", \"ns2:KorteNaam\": \"Alphen\", \"ns2:MiddelNaam\": \"Alphen a/d Rijn\", \"ns2:LangeNaam\": \"Alphen a/d Rijn\", \"ns2:UICCode\": \"8400053\"}], \"ns2:PresentatieTreinHerkomst\": {\"ns2:Uitingen\": {\"ns2:Uiting\": \"Alphen a/d Rijn\"}}, \"ns2:AankomstTijd\": [{\"@InfoStatus\": \"Gepland\", \"#text\": \"2020-05-04T23:17:00.000Z\"}, {\"@InfoStatus\": \"Actueel\", \"#text\": \"2020-05-04T23:17:28.000Z\"}], \"ns2:ExacteAankomstVertraging\": \"PT28S\", \"ns2:GedempteAankomstVertraging\": \"PT0S\", \"ns2:TreinAankomstSpoor\": [{\"@InfoStatus\": \"Gepland\", \"ns2:SpoorNummer\": \"1\"}, {\"@InfoStatus\": \"Actueel\", \"ns2:SpoorNummer\": \"1\"}], \"ns2:PresentatieTreinAankomstSpoor\": {\"ns2:Uitingen\": {\"ns2:Uiting\": \"1\"}}, \"ns2:WijzigingHerkomst\": {\"ns2:WijzigingType\": \"11\"}}}}}}')\n",
      "(None, u'{\"ns1:PutReisInformatieBoodschapIn\": {\"@xmlns:ns1\": \"urn:ndov:cdm:trein:reisinformatie:messages:dynamischeaankomststaat:1\", \"@xmlns:ns2\": \"urn:ndov:cdm:trein:reisinformatie:data:4\", \"ns2:ReisInformatieProductDAS\": {\"@TimeStamp\": \"2020-05-04T23:15:45.157Z\", \"@Versie\": \"6.1\", \"ns2:RIPAdministratie\": {\"ns2:ReisInformatieProductID\": \"2005050115452500006\", \"ns2:AbonnementId\": \"55\", \"ns2:ReisInformatieTijdstip\": \"2020-05-04T23:19:00.000Z\"}, \"ns2:DynamischeAankomstStaat\": {\"ns2:RitId\": \"8685\", \"ns2:RitDatum\": \"2020-05-04\", \"ns2:RitStation\": {\"ns2:StationCode\": \"WAD\", \"ns2:Type\": \"0\", \"ns2:KorteNaam\": \"Waddinxvn\", \"ns2:MiddelNaam\": \"Waddinxveen\", \"ns2:LangeNaam\": \"Waddinxveen\", \"ns2:UICCode\": \"8400675\"}, \"ns2:TreinAankomst\": {\"ns2:TreinNummer\": \"8685\", \"ns2:TreinSoort\": {\"@Code\": \"SPR\", \"#text\": \"Sprinter\"}, \"ns2:TreinStatus\": \"0\", \"ns2:Vervoerder\": \"R-net\", \"ns2:TreinHerkomst\": [{\"@InfoStatus\": \"Gepland\", \"ns2:StationCode\": \"APN\", \"ns2:Type\": \"5\", \"ns2:KorteNaam\": \"Alphen\", \"ns2:MiddelNaam\": \"Alphen a/d Rijn\", \"ns2:LangeNaam\": \"Alphen a/d Rijn\", \"ns2:UICCode\": \"8400053\"}, {\"@InfoStatus\": \"Actueel\", \"ns2:StationCode\": \"APN\", \"ns2:Type\": \"5\", \"ns2:KorteNaam\": \"Alphen\", \"ns2:MiddelNaam\": \"Alphen a/d Rijn\", \"ns2:LangeNaam\": \"Alphen a/d Rijn\", \"ns2:UICCode\": \"8400053\"}], \"ns2:PresentatieTreinHerkomst\": {\"ns2:Uitingen\": {\"ns2:Uiting\": \"Alphen a/d Rijn\"}}, \"ns2:AankomstTijd\": [{\"@InfoStatus\": \"Gepland\", \"#text\": \"2020-05-04T23:19:00.000Z\"}, {\"@InfoStatus\": \"Actueel\", \"#text\": \"2020-05-04T23:19:19.000Z\"}], \"ns2:ExacteAankomstVertraging\": \"PT19S\", \"ns2:GedempteAankomstVertraging\": \"PT0S\", \"ns2:TreinAankomstSpoor\": [{\"@InfoStatus\": \"Gepland\", \"ns2:SpoorNummer\": \"1\"}, {\"@InfoStatus\": \"Actueel\", \"ns2:SpoorNummer\": \"1\"}], \"ns2:PresentatieTreinAankomstSpoor\": {\"ns2:Uitingen\": {\"ns2:Uiting\": \"1\"}}, \"ns2:WijzigingHerkomst\": {\"ns2:WijzigingType\": \"11\"}}}}}}')\n",
      "...\n",
      "\n",
      "-------------------------------------------\n",
      "Time: 2020-05-05 13:15:10\n",
      "-------------------------------------------\n",
      "(None, u'{\"ns1:PutReisInformatieBoodschapIn\": {\"@xmlns:ns1\": \"urn:ndov:cdm:trein:reisinformatie:messages:5\", \"@xmlns:ns2\": \"urn:ndov:cdm:trein:reisinformatie:data:4\", \"ns2:ReisInformatieProductDVS\": {\"@TimeStamp\": \"2020-05-04T23:15:12.459Z\", \"@Versie\": \"6.2\", \"ns2:RIPAdministratie\": {\"ns2:ReisInformatieProductID\": \"2005050115122100001\", \"ns2:AbonnementId\": \"54\", \"ns2:ReisInformatieTijdstip\": \"2020-05-04T23:14:00.000Z\"}, \"ns2:DynamischeVertrekStaat\": {\"ns2:RitId\": \"2284\", \"ns2:RitDatum\": \"2020-05-04\", \"ns2:RitStation\": {\"ns2:StationCode\": \"SDM\", \"ns2:Type\": \"0\", \"ns2:KorteNaam\": \"Schiedam C\", \"ns2:MiddelNaam\": \"Schiedam C.\", \"ns2:LangeNaam\": \"Schiedam Centrum\", \"ns2:UICCode\": \"8400553\"}, \"ns2:Trein\": {\"ns2:TreinNummer\": \"2284\", \"ns2:TreinSoort\": {\"@Code\": \"IC\", \"#text\": \"Intercity\"}, \"ns2:TreinFormule\": \"3\", \"ns2:TreinStatus\": \"5\", \"ns2:Vervoerder\": \"NS\", \"ns2:Reserveren\": \"N\", \"ns2:Toeslag\": \"N\", \"ns2:NietInstappen\": \"N\", \"ns2:AchterBlijvenAchtersteTreinDeel\": \"N\", \"ns2:RangeerBeweging\": \"N\", \"ns2:SpeciaalKaartje\": \"N\", \"ns2:TreinEindBestemming\": [{\"@InfoStatus\": \"Gepland\", \"ns2:StationCode\": \"RTD\", \"ns2:Type\": \"6\", \"ns2:KorteNaam\": \"Rotterdm C\", \"ns2:MiddelNaam\": \"Rotterdam C.\", \"ns2:LangeNaam\": \"Rotterdam Centraal\", \"ns2:UICCode\": \"8400530\"}, {\"@InfoStatus\": \"Actueel\", \"ns2:StationCode\": \"RTD\", \"ns2:Type\": \"6\", \"ns2:KorteNaam\": \"Rotterdm C\", \"ns2:MiddelNaam\": \"Rotterdam C.\", \"ns2:LangeNaam\": \"Rotterdam Centraal\", \"ns2:UICCode\": \"8400530\"}], \"ns2:PresentatieTreinEindBestemming\": {\"ns2:Uitingen\": {\"ns2:Uiting\": \"Rotterdam Centraal\"}}, \"ns2:VertrekTijd\": [{\"@InfoStatus\": \"Gepland\", \"#text\": \"2020-05-04T23:14:00.000Z\"}, {\"@InfoStatus\": \"Actueel\", \"#text\": \"2020-05-04T23:14:00.000Z\"}], \"ns2:ExacteVertrekVertraging\": \"PT0S\", \"ns2:GedempteVertrekVertraging\": \"PT0S\", \"ns2:TreinVertrekSpoor\": [{\"@InfoStatus\": \"Gepland\", \"ns2:SpoorNummer\": \"2\"}, {\"@InfoStatus\": \"Actueel\", \"ns2:SpoorNummer\": \"2\"}], \"ns2:PresentatieTreinVertrekSpoor\": {\"ns2:Uitingen\": {\"ns2:Uiting\": \"2\"}}, \"ns2:VertrekRichting\": \"B\", \"ns2:AfstandPerronEindKopVertrekTrein\": \"0\", \"ns2:TreinVleugel\": {\"ns2:TreinVleugelVertrekSpoor\": [{\"@InfoStatus\": \"Gepland\", \"ns2:SpoorNummer\": \"2\"}, {\"@InfoStatus\": \"Actueel\", \"ns2:SpoorNummer\": \"2\"}], \"ns2:PresentatieTreinVleugelVertrekSpoor\": {\"ns2:Uitingen\": {\"ns2:Uiting\": \"2\"}}, \"ns2:TreinVleugelEindBestemming\": [{\"@InfoStatus\": \"Gepland\", \"ns2:StationCode\": \"RTD\", \"ns2:Type\": \"6\", \"ns2:KorteNaam\": \"Rotterdm C\", \"ns2:MiddelNaam\": \"Rotterdam C.\", \"ns2:LangeNaam\": \"Rotterdam Centraal\", \"ns2:UICCode\": \"8400530\"}, {\"@InfoStatus\": \"Actueel\", \"ns2:StationCode\": \"RTD\", \"ns2:Type\": \"6\", \"ns2:KorteNaam\": \"Rotterdm C\", \"ns2:MiddelNaam\": \"Rotterdam C.\", \"ns2:LangeNaam\": \"Rotterdam Centraal\", \"ns2:UICCode\": \"8400530\"}], \"ns2:PresentatieTreinVleugelEindBestemming\": {\"ns2:Uitingen\": {\"ns2:Uiting\": \"Rotterdam Centraal\"}}, \"ns2:StopStations\": [{\"@InfoStatus\": \"Gepland\", \"ns2:Station\": {\"ns2:StationCode\": \"RTD\", \"ns2:Type\": \"6\", \"ns2:KorteNaam\": \"Rotterdm C\", \"ns2:MiddelNaam\": \"Rotterdam C.\", \"ns2:LangeNaam\": \"Rotterdam Centraal\", \"ns2:UICCode\": \"8400530\"}}, {\"@InfoStatus\": \"Actueel\", \"ns2:Station\": {\"ns2:StationCode\": \"RTD\", \"ns2:Type\": \"6\", \"ns2:KorteNaam\": \"Rotterdm C\", \"ns2:MiddelNaam\": \"Rotterdam C.\", \"ns2:LangeNaam\": \"Rotterdam Centraal\", \"ns2:UICCode\": \"8400530\"}}], \"ns2:MaterieelDeelDVS\": [{\"ns2:MaterieelSoort\": \"VIRM\", \"ns2:MaterieelAanduiding\": \"6\", \"ns2:MaterieelLengte\": \"16210\", \"ns2:MaterieelDeelVertrekPositie\": \"1\", \"ns2:MaterieelDeelVolgordeVertrek\": \"1\", \"ns2:MaterieelNummer\": \"000000-08705-0\", \"ns2:MaterieelDeelEindBestemming\": [{\"@InfoStatus\": \"Gepland\", \"ns2:StationCode\": \"RTD\", \"ns2:Type\": \"6\", \"ns2:KorteNaam\": \"Rotterdm C\", \"ns2:MiddelNaam\": \"Rotterdam C.\", \"ns2:LangeNaam\": \"Rotterdam Centraal\", \"ns2:UICCode\": \"8400530\"}, {\"@InfoStatus\": \"Actueel\", \"ns2:StationCode\": \"RTD\", \"ns2:Type\": \"6\", \"ns2:KorteNaam\": \"Rotterdm C\", \"ns2:MiddelNaam\": \"Rotterdam C.\", \"ns2:LangeNaam\": \"Rotterdam Centraal\", \"ns2:UICCode\": \"8400530\"}], \"ns2:PresentatieMaterieelDeelEindBestemming\": {\"ns2:Uitingen\": {\"ns2:Uiting\": \"Rotterdam Centraal\"}}}, {\"ns2:MaterieelSoort\": \"VIRM\", \"ns2:MaterieelAanduiding\": \"4\", \"ns2:MaterieelLengte\": \"10860\", \"ns2:MaterieelDeelVertrekPositie\": \"3\", \"ns2:MaterieelDeelVolgordeVertrek\": \"2\", \"ns2:MaterieelNummer\": \"000000-09586-0\", \"ns2:MaterieelDeelEindBestemming\": [{\"@InfoStatus\": \"Gepland\", \"ns2:StationCode\": \"RTD\", \"ns2:Type\": \"6\", \"ns2:KorteNaam\": \"Rotterdm C\", \"ns2:MiddelNaam\": \"Rotterdam C.\", \"ns2:LangeNaam\": \"Rotterdam Centraal\", \"ns2:UICCode\": \"8400530\"}, {\"@InfoStatus\": \"Actueel\", \"ns2:StationCode\": \"RTD\", \"ns2:Type\": \"6\", \"ns2:KorteNaam\": \"Rotterdm C\", \"ns2:MiddelNaam\": \"Rotterdam C.\", \"ns2:LangeNaam\": \"Rotterdam Centraal\", \"ns2:UICCode\": \"8400530\"}], \"ns2:PresentatieMaterieelDeelEindBestemming\": {\"ns2:Uitingen\": {\"ns2:Uiting\": \"Rotterdam Centraal\"}}}]}, \"ns2:Wijziging\": {\"ns2:WijzigingType\": \"40\"}}}}}}')\n",
      "(None, u'{\"ns1:PutReisInformatieBoodschapIn\": {\"@xmlns:ns1\": \"urn:ndov:cdm:trein:reisinformatie:messages:5\", \"@xmlns:ns2\": \"urn:ndov:cdm:trein:reisinformatie:data:4\", \"ns2:ReisInformatieProductDVS\": {\"@TimeStamp\": \"2020-05-04T23:15:12.853Z\", \"@Versie\": \"6.2\", \"ns2:RIPAdministratie\": {\"ns2:ReisInformatieProductID\": \"2005050115122100005\", \"ns2:AbonnementId\": \"54\", \"ns2:ReisInformatieTijdstip\": \"2020-05-04T22:53:00.000Z\"}, \"ns2:DynamischeVertrekStaat\": {\"ns2:RitId\": \"4491\", \"ns2:RitDatum\": \"2020-05-04\", \"ns2:RitStation\": {\"ns2:StationCode\": \"BTL\", \"ns2:Type\": \"1\", \"ns2:KorteNaam\": \"Boxtel\", \"ns2:MiddelNaam\": \"Boxtel\", \"ns2:LangeNaam\": \"Boxtel\", \"ns2:UICCode\": \"8400129\"}, \"ns2:Trein\": {\"ns2:TreinNummer\": \"4491\", \"ns2:TreinSoort\": {\"@Code\": \"SPR\", \"#text\": \"Sprinter\"}, \"ns2:TreinFormule\": \"1\", \"ns2:TreinStatus\": \"2\", \"ns2:Vervoerder\": \"NS\", \"ns2:Reserveren\": \"N\", \"ns2:Toeslag\": \"N\", \"ns2:NietInstappen\": \"N\", \"ns2:AchterBlijvenAchtersteTreinDeel\": \"N\", \"ns2:RangeerBeweging\": \"N\", \"ns2:SpeciaalKaartje\": \"N\", \"ns2:TreinEindBestemming\": [{\"@InfoStatus\": \"Gepland\", \"ns2:StationCode\": \"EHV\", \"ns2:Type\": \"6\", \"ns2:KorteNaam\": \"Eindhovn C\", \"ns2:MiddelNaam\": \"Eindhoven C.\", \"ns2:LangeNaam\": \"Eindhoven Centraal\", \"ns2:UICCode\": \"8400206\"}, {\"@InfoStatus\": \"Actueel\", \"ns2:StationCode\": \"EHV\", \"ns2:Type\": \"6\", \"ns2:KorteNaam\": \"Eindhovn C\", \"ns2:MiddelNaam\": \"Eindhoven C.\", \"ns2:LangeNaam\": \"Eindhoven Centraal\", \"ns2:UICCode\": \"8400206\"}], \"ns2:PresentatieTreinEindBestemming\": {\"ns2:Uitingen\": {\"ns2:Uiting\": \"Eindhoven Centraal\"}}, \"ns2:VertrekTijd\": [{\"@InfoStatus\": \"Gepland\", \"#text\": \"2020-05-04T22:53:00.000Z\"}, {\"@InfoStatus\": \"Actueel\", \"#text\": \"2020-05-04T23:28:00.000Z\"}], \"ns2:ExacteVertrekVertraging\": \"PT35M\", \"ns2:PresentatieVertrekVertraging\": {\"ns2:Uitingen\": {\"ns2:Uiting\": \"+35 min.\"}}, \"ns2:GedempteVertrekVertraging\": \"PT35M\", \"ns2:TreinVertrekSpoor\": [{\"@InfoStatus\": \"Gepland\", \"ns2:SpoorNummer\": \"3\"}, {\"@InfoStatus\": \"Actueel\", \"ns2:SpoorNummer\": \"3\"}], \"ns2:PresentatieTreinVertrekSpoor\": {\"ns2:Uitingen\": {\"ns2:Uiting\": \"3\"}}, \"ns2:VertrekRichting\": \"B\", \"ns2:AfstandPerronEindKopVertrekTrein\": \"0\", \"ns2:TreinVleugel\": {\"ns2:TreinVleugelVertrekSpoor\": [{\"@InfoStatus\": \"Gepland\", \"ns2:SpoorNummer\": \"3\"}, {\"@InfoStatus\": \"Actueel\", \"ns2:SpoorNummer\": \"3\"}], \"ns2:PresentatieTreinVleugelVertrekSpoor\": {\"ns2:Uitingen\": {\"ns2:Uiting\": \"3\"}}, \"ns2:TreinVleugelEindBestemming\": [{\"@InfoStatus\": \"Gepland\", \"ns2:StationCode\": \"EHV\", \"ns2:Type\": \"6\", \"ns2:KorteNaam\": \"Eindhovn C\", \"ns2:MiddelNaam\": \"Eindhoven C.\", \"ns2:LangeNaam\": \"Eindhoven Centraal\", \"ns2:UICCode\": \"8400206\"}, {\"@InfoStatus\": \"Actueel\", \"ns2:StationCode\": \"EHV\", \"ns2:Type\": \"6\", \"ns2:KorteNaam\": \"Eindhovn C\", \"ns2:MiddelNaam\": \"Eindhoven C.\", \"ns2:LangeNaam\": \"Eindhoven Centraal\", \"ns2:UICCode\": \"8400206\"}], \"ns2:PresentatieTreinVleugelEindBestemming\": {\"ns2:Uitingen\": {\"ns2:Uiting\": \"Eindhoven Centraal\"}}, \"ns2:StopStations\": [{\"@InfoStatus\": \"Gepland\", \"ns2:Station\": [{\"ns2:StationCode\": \"BET\", \"ns2:Type\": \"0\", \"ns2:KorteNaam\": \"Best\", \"ns2:MiddelNaam\": \"Best\", \"ns2:LangeNaam\": \"Best\", \"ns2:UICCode\": \"8400112\"}, {\"ns2:StationCode\": \"EHS\", \"ns2:Type\": \"0\", \"ns2:KorteNaam\": \"Strijp-S\", \"ns2:MiddelNaam\": \"Strijp-S\", \"ns2:LangeNaam\": \"Eindhoven Strijp-S\", \"ns2:UICCode\": \"8400196\"}, {\"ns2:StationCode\": \"EHV\", \"ns2:Type\": \"6\", \"ns2:KorteNaam\": \"Eindhovn C\", \"ns2:MiddelNaam\": \"Eindhoven C.\", \"ns2:LangeNaam\": \"Eindhoven Centraal\", \"ns2:UICCode\": \"8400206\"}]}, {\"@InfoStatus\": \"Actueel\", \"ns2:Station\": [{\"ns2:StationCode\": \"BET\", \"ns2:Type\": \"0\", \"ns2:KorteNaam\": \"Best\", \"ns2:MiddelNaam\": \"Best\", \"ns2:LangeNaam\": \"Best\", \"ns2:UICCode\": \"8400112\"}, {\"ns2:StationCode\": \"EHS\", \"ns2:Type\": \"0\", \"ns2:KorteNaam\": \"Strijp-S\", \"ns2:MiddelNaam\": \"Strijp-S\", \"ns2:LangeNaam\": \"Eindhoven Strijp-S\", \"ns2:UICCode\": \"8400196\"}, {\"ns2:StationCode\": \"EHV\", \"ns2:Type\": \"6\", \"ns2:KorteNaam\": \"Eindhovn C\", \"ns2:MiddelNaam\": \"Eindhoven C.\", \"ns2:LangeNaam\": \"Eindhoven Centraal\", \"ns2:UICCode\": \"8400206\"}]}], \"ns2:MaterieelDeelDVS\": {\"ns2:MaterieelSoort\": \"FLIRT FFF\", \"ns2:MaterieelAanduiding\": \"3\", \"ns2:MaterieelLengte\": \"6320\", \"ns2:MaterieelNummer\": \"000000-02212-0\", \"ns2:MaterieelDeelEindBestemming\": [{\"@InfoStatus\": \"Gepland\", \"ns2:StationCode\": \"EHV\", \"ns2:Type\": \"6\", \"ns2:KorteNaam\": \"Eindhovn C\", \"ns2:MiddelNaam\": \"Eindhoven C.\", \"ns2:LangeNaam\": \"Eindhoven Centraal\", \"ns2:UICCode\": \"8400206\"}, {\"@InfoStatus\": \"Actueel\", \"ns2:StationCode\": \"EHV\", \"ns2:Type\": \"6\", \"ns2:KorteNaam\": \"Eindhovn C\", \"ns2:MiddelNaam\": \"Eindhoven C.\", \"ns2:LangeNaam\": \"Eindhoven Centraal\", \"ns2:UICCode\": \"8400206\"}], \"ns2:PresentatieMaterieelDeelEindBestemming\": {\"ns2:Uitingen\": {\"ns2:Uiting\": \"Eindhoven Centraal\"}}}}, \"ns2:Wijziging\": {\"ns2:WijzigingType\": \"10\", \"ns2:WijzigingOorzaakKort\": \"hulpdiensten\", \"ns2:WijzigingOorzaakLang\": \"door inzet van hulpdiensten\", \"ns2:PresentatieWijziging\": {\"ns2:Uitingen\": [{\"@Taal\": \"nl\", \"ns2:Uiting\": {\"@Prioriteit\": \"10\", \"#text\": \"Later vertrek door inzet van hulpdiensten\"}}, {\"@Taal\": \"en\", \"ns2:Uiting\": {\"@Prioriteit\": \"10\", \"#text\": \"Delayed\"}}]}}}, \"ns2:PresentatieOpmerkingen\": {\"ns2:Uitingen\": [{\"@Taal\": \"nl\", \"ns2:Uiting\": {\"@Prioriteit\": \"20\", \"@ReferentieType\": \"Wijziging\", \"@ReferentieWaarde\": \"10\", \"#text\": \"Later vertrek door inzet van hulpdiensten\"}}, {\"@Taal\": \"en\", \"ns2:Uiting\": {\"@Prioriteit\": \"20\", \"@ReferentieType\": \"Wijziging\", \"@ReferentieWaarde\": \"10\", \"#text\": \"Delayed\"}}]}}}}}')\n",
      "(None, u'{\"ns1:PutReisInformatieBoodschapIn\": {\"@xmlns:ns1\": \"urn:ndov:cdm:trein:reisinformatie:messages:5\", \"@xmlns:ns2\": \"urn:ndov:cdm:trein:reisinformatie:data:4\", \"ns2:ReisInformatieProductDVS\": {\"@TimeStamp\": \"2020-05-04T23:15:12.874Z\", \"@Versie\": \"6.2\", \"ns2:RIPAdministratie\": {\"ns2:ReisInformatieProductID\": \"2005050115122100006\", \"ns2:AbonnementId\": \"54\", \"ns2:ReisInformatieTijdstip\": \"2020-05-04T23:06:00.000Z\"}, \"ns2:DynamischeVertrekStaat\": {\"ns2:RitId\": \"4491\", \"ns2:RitDatum\": \"2020-05-04\", \"ns2:RitStation\": {\"ns2:StationCode\": \"EHS\", \"ns2:Type\": \"0\", \"ns2:KorteNaam\": \"Strijp-S\", \"ns2:MiddelNaam\": \"Strijp-S\", \"ns2:LangeNaam\": \"Eindhoven Strijp-S\", \"ns2:UICCode\": \"8400196\"}, \"ns2:Trein\": {\"ns2:TreinNummer\": \"4491\", \"ns2:TreinSoort\": {\"@Code\": \"SPR\", \"#text\": \"Sprinter\"}, \"ns2:TreinFormule\": \"1\", \"ns2:TreinStatus\": \"0\", \"ns2:Vervoerder\": \"NS\", \"ns2:Reserveren\": \"N\", \"ns2:Toeslag\": \"N\", \"ns2:NietInstappen\": \"N\", \"ns2:AchterBlijvenAchtersteTreinDeel\": \"N\", \"ns2:RangeerBeweging\": \"N\", \"ns2:SpeciaalKaartje\": \"N\", \"ns2:TreinEindBestemming\": [{\"@InfoStatus\": \"Gepland\", \"ns2:StationCode\": \"EHV\", \"ns2:Type\": \"6\", \"ns2:KorteNaam\": \"Eindhovn C\", \"ns2:MiddelNaam\": \"Eindhoven C.\", \"ns2:LangeNaam\": \"Eindhoven Centraal\", \"ns2:UICCode\": \"8400206\"}, {\"@InfoStatus\": \"Actueel\", \"ns2:StationCode\": \"EHV\", \"ns2:Type\": \"6\", \"ns2:KorteNaam\": \"Eindhovn C\", \"ns2:MiddelNaam\": \"Eindhoven C.\", \"ns2:LangeNaam\": \"Eindhoven Centraal\", \"ns2:UICCode\": \"8400206\"}], \"ns2:PresentatieTreinEindBestemming\": {\"ns2:Uitingen\": {\"ns2:Uiting\": \"Eindhoven Centraal\"}}, \"ns2:VertrekTijd\": [{\"@InfoStatus\": \"Gepland\", \"#text\": \"2020-05-04T23:06:00.000Z\"}, {\"@InfoStatus\": \"Actueel\", \"#text\": \"2020-05-04T23:40:00.000Z\"}], \"ns2:ExacteVertrekVertraging\": \"PT34M\", \"ns2:PresentatieVertrekVertraging\": {\"ns2:Uitingen\": {\"ns2:Uiting\": \"+34 min.\"}}, \"ns2:GedempteVertrekVertraging\": \"PT35M\", \"ns2:TreinVertrekSpoor\": [{\"@InfoStatus\": \"Gepland\", \"ns2:SpoorNummer\": \"4\"}, {\"@InfoStatus\": \"Actueel\", \"ns2:SpoorNummer\": \"4\"}], \"ns2:PresentatieTreinVertrekSpoor\": {\"ns2:Uitingen\": {\"ns2:Uiting\": \"4\"}}, \"ns2:VertrekRichting\": \"B\", \"ns2:AfstandPerronEindKopVertrekTrein\": \"0\", \"ns2:TreinVleugel\": {\"ns2:TreinVleugelVertrekSpoor\": [{\"@InfoStatus\": \"Gepland\", \"ns2:SpoorNummer\": \"4\"}, {\"@InfoStatus\": \"Actueel\", \"ns2:SpoorNummer\": \"4\"}], \"ns2:PresentatieTreinVleugelVertrekSpoor\": {\"ns2:Uitingen\": {\"ns2:Uiting\": \"4\"}}, \"ns2:TreinVleugelEindBestemming\": [{\"@InfoStatus\": \"Gepland\", \"ns2:StationCode\": \"EHV\", \"ns2:Type\": \"6\", \"ns2:KorteNaam\": \"Eindhovn C\", \"ns2:MiddelNaam\": \"Eindhoven C.\", \"ns2:LangeNaam\": \"Eindhoven Centraal\", \"ns2:UICCode\": \"8400206\"}, {\"@InfoStatus\": \"Actueel\", \"ns2:StationCode\": \"EHV\", \"ns2:Type\": \"6\", \"ns2:KorteNaam\": \"Eindhovn C\", \"ns2:MiddelNaam\": \"Eindhoven C.\", \"ns2:LangeNaam\": \"Eindhoven Centraal\", \"ns2:UICCode\": \"8400206\"}], \"ns2:PresentatieTreinVleugelEindBestemming\": {\"ns2:Uitingen\": {\"ns2:Uiting\": \"Eindhoven Centraal\"}}, \"ns2:StopStations\": [{\"@InfoStatus\": \"Gepland\", \"ns2:Station\": {\"ns2:StationCode\": \"EHV\", \"ns2:Type\": \"6\", \"ns2:KorteNaam\": \"Eindhovn C\", \"ns2:MiddelNaam\": \"Eindhoven C.\", \"ns2:LangeNaam\": \"Eindhoven Centraal\", \"ns2:UICCode\": \"8400206\"}}, {\"@InfoStatus\": \"Actueel\", \"ns2:Station\": {\"ns2:StationCode\": \"EHV\", \"ns2:Type\": \"6\", \"ns2:KorteNaam\": \"Eindhovn C\", \"ns2:MiddelNaam\": \"Eindhoven C.\", \"ns2:LangeNaam\": \"Eindhoven Centraal\", \"ns2:UICCode\": \"8400206\"}}], \"ns2:MaterieelDeelDVS\": {\"ns2:MaterieelSoort\": \"FLIRT FFF\", \"ns2:MaterieelAanduiding\": \"3\", \"ns2:MaterieelLengte\": \"6320\", \"ns2:MaterieelNummer\": \"000000-02212-0\", \"ns2:MaterieelDeelEindBestemming\": [{\"@InfoStatus\": \"Gepland\", \"ns2:StationCode\": \"EHV\", \"ns2:Type\": \"6\", \"ns2:KorteNaam\": \"Eindhovn C\", \"ns2:MiddelNaam\": \"Eindhoven C.\", \"ns2:LangeNaam\": \"Eindhoven Centraal\", \"ns2:UICCode\": \"8400206\"}, {\"@InfoStatus\": \"Actueel\", \"ns2:StationCode\": \"EHV\", \"ns2:Type\": \"6\", \"ns2:KorteNaam\": \"Eindhovn C\", \"ns2:MiddelNaam\": \"Eindhoven C.\", \"ns2:LangeNaam\": \"Eindhoven Centraal\", \"ns2:UICCode\": \"8400206\"}], \"ns2:PresentatieMaterieelDeelEindBestemming\": {\"ns2:Uitingen\": {\"ns2:Uiting\": \"Eindhoven Centraal\"}}}}, \"ns2:Wijziging\": {\"ns2:WijzigingType\": \"10\", \"ns2:WijzigingOorzaakKort\": \"hulpdiensten\", \"ns2:WijzigingOorzaakLang\": \"door inzet van hulpdiensten\", \"ns2:PresentatieWijziging\": {\"ns2:Uitingen\": [{\"@Taal\": \"nl\", \"ns2:Uiting\": {\"@Prioriteit\": \"10\", \"#text\": \"Later vertrek door inzet van hulpdiensten\"}}, {\"@Taal\": \"en\", \"ns2:Uiting\": {\"@Prioriteit\": \"10\", \"#text\": \"Delayed\"}}]}}}, \"ns2:PresentatieOpmerkingen\": {\"ns2:Uitingen\": [{\"@Taal\": \"nl\", \"ns2:Uiting\": {\"@Prioriteit\": \"20\", \"@ReferentieType\": \"Wijziging\", \"@ReferentieWaarde\": \"10\", \"#text\": \"Later vertrek door inzet van hulpdiensten\"}}, {\"@Taal\": \"en\", \"ns2:Uiting\": {\"@Prioriteit\": \"20\", \"@ReferentieType\": \"Wijziging\", \"@ReferentieWaarde\": \"10\", \"#text\": \"Delayed\"}}]}}}}}')\n",
      "(None, u'{\"ns1:PutReisInformatieBoodschapIn\": {\"@xmlns:ns1\": \"urn:ndov:cdm:trein:reisinformatie:messages:5\", \"@xmlns:ns2\": \"urn:ndov:cdm:trein:reisinformatie:data:4\", \"ns2:ReisInformatieProductDVS\": {\"@TimeStamp\": \"2020-05-04T23:15:12.833Z\", \"@Versie\": \"6.2\", \"ns2:RIPAdministratie\": {\"ns2:ReisInformatieProductID\": \"2005050115122100004\", \"ns2:AbonnementId\": \"54\", \"ns2:ReisInformatieTijdstip\": \"2020-05-04T23:00:00.000Z\"}, \"ns2:DynamischeVertrekStaat\": {\"ns2:RitId\": \"4491\", \"ns2:RitDatum\": \"2020-05-04\", \"ns2:RitStation\": {\"ns2:StationCode\": \"BET\", \"ns2:Type\": \"0\", \"ns2:KorteNaam\": \"Best\", \"ns2:MiddelNaam\": \"Best\", \"ns2:LangeNaam\": \"Best\", \"ns2:UICCode\": \"8400112\"}, \"ns2:Trein\": {\"ns2:TreinNummer\": \"4491\", \"ns2:TreinSoort\": {\"@Code\": \"SPR\", \"#text\": \"Sprinter\"}, \"ns2:TreinFormule\": \"1\", \"ns2:TreinStatus\": \"0\", \"ns2:Vervoerder\": \"NS\", \"ns2:Reserveren\": \"N\", \"ns2:Toeslag\": \"N\", \"ns2:NietInstappen\": \"N\", \"ns2:AchterBlijvenAchtersteTreinDeel\": \"N\", \"ns2:RangeerBeweging\": \"N\", \"ns2:SpeciaalKaartje\": \"N\", \"ns2:TreinEindBestemming\": [{\"@InfoStatus\": \"Gepland\", \"ns2:StationCode\": \"EHV\", \"ns2:Type\": \"6\", \"ns2:KorteNaam\": \"Eindhovn C\", \"ns2:MiddelNaam\": \"Eindhoven C.\", \"ns2:LangeNaam\": \"Eindhoven Centraal\", \"ns2:UICCode\": \"8400206\"}, {\"@InfoStatus\": \"Actueel\", \"ns2:StationCode\": \"EHV\", \"ns2:Type\": \"6\", \"ns2:KorteNaam\": \"Eindhovn C\", \"ns2:MiddelNaam\": \"Eindhoven C.\", \"ns2:LangeNaam\": \"Eindhoven Centraal\", \"ns2:UICCode\": \"8400206\"}], \"ns2:PresentatieTreinEindBestemming\": {\"ns2:Uitingen\": {\"ns2:Uiting\": \"Eindhoven Centraal\"}}, \"ns2:VertrekTijd\": [{\"@InfoStatus\": \"Gepland\", \"#text\": \"2020-05-04T23:00:00.000Z\"}, {\"@InfoStatus\": \"Actueel\", \"#text\": \"2020-05-04T23:34:28.000Z\"}], \"ns2:ExacteVertrekVertraging\": \"PT34M28S\", \"ns2:PresentatieVertrekVertraging\": {\"ns2:Uitingen\": {\"ns2:Uiting\": \"+34 min.\"}}, \"ns2:GedempteVertrekVertraging\": \"PT35M\", \"ns2:TreinVertrekSpoor\": [{\"@InfoStatus\": \"Gepland\", \"ns2:SpoorNummer\": \"4\"}, {\"@InfoStatus\": \"Actueel\", \"ns2:SpoorNummer\": \"4\"}], \"ns2:PresentatieTreinVertrekSpoor\": {\"ns2:Uitingen\": {\"ns2:Uiting\": \"4\"}}, \"ns2:VertrekRichting\": \"B\", \"ns2:AfstandPerronEindKopVertrekTrein\": \"0\", \"ns2:TreinVleugel\": {\"ns2:TreinVleugelVertrekSpoor\": [{\"@InfoStatus\": \"Gepland\", \"ns2:SpoorNummer\": \"4\"}, {\"@InfoStatus\": \"Actueel\", \"ns2:SpoorNummer\": \"4\"}], \"ns2:PresentatieTreinVleugelVertrekSpoor\": {\"ns2:Uitingen\": {\"ns2:Uiting\": \"4\"}}, \"ns2:TreinVleugelEindBestemming\": [{\"@InfoStatus\": \"Gepland\", \"ns2:StationCode\": \"EHV\", \"ns2:Type\": \"6\", \"ns2:KorteNaam\": \"Eindhovn C\", \"ns2:MiddelNaam\": \"Eindhoven C.\", \"ns2:LangeNaam\": \"Eindhoven Centraal\", \"ns2:UICCode\": \"8400206\"}, {\"@InfoStatus\": \"Actueel\", \"ns2:StationCode\": \"EHV\", \"ns2:Type\": \"6\", \"ns2:KorteNaam\": \"Eindhovn C\", \"ns2:MiddelNaam\": \"Eindhoven C.\", \"ns2:LangeNaam\": \"Eindhoven Centraal\", \"ns2:UICCode\": \"8400206\"}], \"ns2:PresentatieTreinVleugelEindBestemming\": {\"ns2:Uitingen\": {\"ns2:Uiting\": \"Eindhoven Centraal\"}}, \"ns2:StopStations\": [{\"@InfoStatus\": \"Gepland\", \"ns2:Station\": [{\"ns2:StationCode\": \"EHS\", \"ns2:Type\": \"0\", \"ns2:KorteNaam\": \"Strijp-S\", \"ns2:MiddelNaam\": \"Strijp-S\", \"ns2:LangeNaam\": \"Eindhoven Strijp-S\", \"ns2:UICCode\": \"8400196\"}, {\"ns2:StationCode\": \"EHV\", \"ns2:Type\": \"6\", \"ns2:KorteNaam\": \"Eindhovn C\", \"ns2:MiddelNaam\": \"Eindhoven C.\", \"ns2:LangeNaam\": \"Eindhoven Centraal\", \"ns2:UICCode\": \"8400206\"}]}, {\"@InfoStatus\": \"Actueel\", \"ns2:Station\": [{\"ns2:StationCode\": \"EHS\", \"ns2:Type\": \"0\", \"ns2:KorteNaam\": \"Strijp-S\", \"ns2:MiddelNaam\": \"Strijp-S\", \"ns2:LangeNaam\": \"Eindhoven Strijp-S\", \"ns2:UICCode\": \"8400196\"}, {\"ns2:StationCode\": \"EHV\", \"ns2:Type\": \"6\", \"ns2:KorteNaam\": \"Eindhovn C\", \"ns2:MiddelNaam\": \"Eindhoven C.\", \"ns2:LangeNaam\": \"Eindhoven Centraal\", \"ns2:UICCode\": \"8400206\"}]}], \"ns2:MaterieelDeelDVS\": {\"ns2:MaterieelSoort\": \"FLIRT FFF\", \"ns2:MaterieelAanduiding\": \"3\", \"ns2:MaterieelLengte\": \"6320\", \"ns2:MaterieelNummer\": \"000000-02212-0\", \"ns2:MaterieelDeelEindBestemming\": [{\"@InfoStatus\": \"Gepland\", \"ns2:StationCode\": \"EHV\", \"ns2:Type\": \"6\", \"ns2:KorteNaam\": \"Eindhovn C\", \"ns2:MiddelNaam\": \"Eindhoven C.\", \"ns2:LangeNaam\": \"Eindhoven Centraal\", \"ns2:UICCode\": \"8400206\"}, {\"@InfoStatus\": \"Actueel\", \"ns2:StationCode\": \"EHV\", \"ns2:Type\": \"6\", \"ns2:KorteNaam\": \"Eindhovn C\", \"ns2:MiddelNaam\": \"Eindhoven C.\", \"ns2:LangeNaam\": \"Eindhoven Centraal\", \"ns2:UICCode\": \"8400206\"}], \"ns2:PresentatieMaterieelDeelEindBestemming\": {\"ns2:Uitingen\": {\"ns2:Uiting\": \"Eindhoven Centraal\"}}}}, \"ns2:Wijziging\": {\"ns2:WijzigingType\": \"10\", \"ns2:WijzigingOorzaakKort\": \"hulpdiensten\", \"ns2:WijzigingOorzaakLang\": \"door inzet van hulpdiensten\", \"ns2:PresentatieWijziging\": {\"ns2:Uitingen\": [{\"@Taal\": \"nl\", \"ns2:Uiting\": {\"@Prioriteit\": \"10\", \"#text\": \"Later vertrek door inzet van hulpdiensten\"}}, {\"@Taal\": \"en\", \"ns2:Uiting\": {\"@Prioriteit\": \"10\", \"#text\": \"Delayed\"}}]}}}, \"ns2:PresentatieOpmerkingen\": {\"ns2:Uitingen\": [{\"@Taal\": \"nl\", \"ns2:Uiting\": {\"@Prioriteit\": \"20\", \"@ReferentieType\": \"Wijziging\", \"@ReferentieWaarde\": \"10\", \"#text\": \"Later vertrek door inzet van hulpdiensten\"}}, {\"@Taal\": \"en\", \"ns2:Uiting\": {\"@Prioriteit\": \"20\", \"@ReferentieType\": \"Wijziging\", \"@ReferentieWaarde\": \"10\", \"#text\": \"Delayed\"}}]}}}}}')\n",
      "(None, u'{\"ns1:PutReisInformatieBoodschapIn\": {\"@xmlns:ns1\": \"urn:ndov:cdm:trein:reisinformatie:messages:5\", \"@xmlns:ns2\": \"urn:ndov:cdm:trein:reisinformatie:data:4\", \"ns2:ReisInformatieProductDVS\": {\"@TimeStamp\": \"2020-05-04T23:15:17.461Z\", \"@Versie\": \"6.2\", \"ns2:RIPAdministratie\": {\"ns2:ReisInformatieProductID\": \"2005050115172500001\", \"ns2:AbonnementId\": \"54\", \"ns2:ReisInformatieTijdstip\": \"2020-05-04T23:14:00.000Z\"}, \"ns2:DynamischeVertrekStaat\": {\"ns2:RitId\": \"6399\", \"ns2:RitDatum\": \"2020-05-04\", \"ns2:RitStation\": {\"ns2:StationCode\": \"HIL\", \"ns2:Type\": \"0\", \"ns2:KorteNaam\": \"Hillegom\", \"ns2:MiddelNaam\": \"Hillegom\", \"ns2:LangeNaam\": \"Hillegom\", \"ns2:UICCode\": \"8400329\"}, \"ns2:Trein\": {\"ns2:TreinNummer\": \"6399\", \"ns2:TreinSoort\": {\"@Code\": \"SPR\", \"#text\": \"Sprinter\"}, \"ns2:TreinFormule\": \"1\", \"ns2:TreinStatus\": \"2\", \"ns2:Vervoerder\": \"NS\", \"ns2:Reserveren\": \"N\", \"ns2:Toeslag\": \"N\", \"ns2:NietInstappen\": \"N\", \"ns2:AchterBlijvenAchtersteTreinDeel\": \"N\", \"ns2:RangeerBeweging\": \"N\", \"ns2:SpeciaalKaartje\": \"N\", \"ns2:TreinEindBestemming\": [{\"@InfoStatus\": \"Gepland\", \"ns2:StationCode\": \"GV\", \"ns2:Type\": \"5\", \"ns2:KorteNaam\": \"Dn Haag HS\", \"ns2:MiddelNaam\": \"Den Haag HS\", \"ns2:LangeNaam\": \"Den Haag HS\", \"ns2:UICCode\": \"8400280\"}, {\"@InfoStatus\": \"Actueel\", \"ns2:StationCode\": \"GV\", \"ns2:Type\": \"5\", \"ns2:KorteNaam\": \"Dn Haag HS\", \"ns2:MiddelNaam\": \"Den Haag HS\", \"ns2:LangeNaam\": \"Den Haag HS\", \"ns2:UICCode\": \"8400280\"}], \"ns2:PresentatieTreinEindBestemming\": {\"ns2:Uitingen\": {\"ns2:Uiting\": \"Den Haag HS\"}}, \"ns2:VertrekTijd\": [{\"@InfoStatus\": \"Gepland\", \"#text\": \"2020-05-04T23:14:00.000Z\"}, {\"@InfoStatus\": \"Actueel\", \"#text\": \"2020-05-04T23:15:13.000Z\"}], \"ns2:ExacteVertrekVertraging\": \"PT1M13S\", \"ns2:PresentatieVertrekVertraging\": {\"ns2:Uitingen\": {\"ns2:Uiting\": \"+1 min.\"}}, \"ns2:GedempteVertrekVertraging\": \"PT0S\", \"ns2:TreinVertrekSpoor\": [{\"@InfoStatus\": \"Gepland\", \"ns2:SpoorNummer\": \"2\"}, {\"@InfoStatus\": \"Actueel\", \"ns2:SpoorNummer\": \"2\"}], \"ns2:PresentatieTreinVertrekSpoor\": {\"ns2:Uitingen\": {\"ns2:Uiting\": \"2\"}}, \"ns2:VertrekRichting\": \"B\", \"ns2:AfstandPerronEindKopVertrekTrein\": \"0\", \"ns2:VerkorteRoute\": [{\"@InfoStatus\": \"Gepland\", \"ns2:Station\": [{\"ns2:StationCode\": \"LEDN\", \"ns2:Type\": \"5\", \"ns2:KorteNaam\": \"Leiden C\", \"ns2:MiddelNaam\": \"Leiden C.\", \"ns2:LangeNaam\": \"Leiden Centraal\", \"ns2:UICCode\": \"8400390\"}, {\"ns2:StationCode\": \"LAA\", \"ns2:Type\": \"1\", \"ns2:KorteNaam\": \"Laan v NOI\", \"ns2:MiddelNaam\": \"Laan v NOI\", \"ns2:LangeNaam\": \"Den Haag Laan v NOI\", \"ns2:UICCode\": \"8400380\"}]}, {\"@InfoStatus\": \"Actueel\", \"ns2:Station\": [{\"ns2:StationCode\": \"LEDN\", \"ns2:Type\": \"5\", \"ns2:KorteNaam\": \"Leiden C\", \"ns2:MiddelNaam\": \"Leiden C.\", \"ns2:LangeNaam\": \"Leiden Centraal\", \"ns2:UICCode\": \"8400390\"}, {\"ns2:StationCode\": \"LAA\", \"ns2:Type\": \"1\", \"ns2:KorteNaam\": \"Laan v NOI\", \"ns2:MiddelNaam\": \"Laan v NOI\", \"ns2:LangeNaam\": \"Den Haag Laan v NOI\", \"ns2:UICCode\": \"8400380\"}]}], \"ns2:PresentatieVerkorteRoute\": {\"ns2:Uitingen\": {\"ns2:Uiting\": \"Leiden C., Laan v NOI\"}}, \"ns2:TreinVleugel\": {\"ns2:TreinVleugelVertrekSpoor\": [{\"@InfoStatus\": \"Gepland\", \"ns2:SpoorNummer\": \"2\"}, {\"@InfoStatus\": \"Actueel\", \"ns2:SpoorNummer\": \"2\"}], \"ns2:PresentatieTreinVleugelVertrekSpoor\": {\"ns2:Uitingen\": {\"ns2:Uiting\": \"2\"}}, \"ns2:TreinVleugelEindBestemming\": [{\"@InfoStatus\": \"Gepland\", \"ns2:StationCode\": \"GV\", \"ns2:Type\": \"5\", \"ns2:KorteNaam\": \"Dn Haag HS\", \"ns2:MiddelNaam\": \"Den Haag HS\", \"ns2:LangeNaam\": \"Den Haag HS\", \"ns2:UICCode\": \"8400280\"}, {\"@InfoStatus\": \"Actueel\", \"ns2:StationCode\": \"GV\", \"ns2:Type\": \"5\", \"ns2:KorteNaam\": \"Dn Haag HS\", \"ns2:MiddelNaam\": \"Den Haag HS\", \"ns2:LangeNaam\": \"Den Haag HS\", \"ns2:UICCode\": \"8400280\"}], \"ns2:PresentatieTreinVleugelEindBestemming\": {\"ns2:Uitingen\": {\"ns2:Uiting\": \"Den Haag HS\"}}, \"ns2:StopStations\": [{\"@InfoStatus\": \"Gepland\", \"ns2:Station\": [{\"ns2:StationCode\": \"VH\", \"ns2:Type\": \"0\", \"ns2:KorteNaam\": \"Voorhout\", \"ns2:MiddelNaam\": \"Voorhout\", \"ns2:LangeNaam\": \"Voorhout\", \"ns2:UICCode\": \"8400655\"}, {\"ns2:StationCode\": \"LEDN\", \"ns2:Type\": \"5\", \"ns2:KorteNaam\": \"Leiden C\", \"ns2:MiddelNaam\": \"Leiden C.\", \"ns2:LangeNaam\": \"Leiden Centraal\", \"ns2:UICCode\": \"8400390\"}, {\"ns2:StationCode\": \"DVNK\", \"ns2:Type\": \"0\", \"ns2:KorteNaam\": \"De Vink\", \"ns2:MiddelNaam\": \"De Vink\", \"ns2:LangeNaam\": \"De Vink\", \"ns2:UICCode\": \"8400188\"}, {\"ns2:StationCode\": \"VST\", \"ns2:Type\": \"0\", \"ns2:KorteNaam\": \"Voorschtn\", \"ns2:MiddelNaam\": \"Voorschoten\", \"ns2:LangeNaam\": \"Voorschoten\", \"ns2:UICCode\": \"8400659\"}, {\"ns2:StationCode\": \"GVM\", \"ns2:Type\": \"0\", \"ns2:KorteNaam\": \"Mariahoeve\", \"ns2:MiddelNaam\": \"Mariahoeve\", \"ns2:LangeNaam\": \"Den Haag Mariahoeve\", \"ns2:UICCode\": \"8400278\"}, {\"ns2:StationCode\": \"LAA\", \"ns2:Type\": \"1\", \"ns2:KorteNaam\": \"Laan v NOI\", \"ns2:MiddelNaam\": \"Laan v NOI\", \"ns2:LangeNaam\": \"Den Haag Laan v NOI\", \"ns2:UICCode\": \"8400380\"}, {\"ns2:StationCode\": \"GV\", \"ns2:Type\": \"5\", \"ns2:KorteNaam\": \"Dn Haag HS\", \"ns2:MiddelNaam\": \"Den Haag HS\", \"ns2:LangeNaam\": \"Den Haag HS\", \"ns2:UICCode\": \"8400280\"}]}, {\"@InfoStatus\": \"Actueel\", \"ns2:Station\": [{\"ns2:StationCode\": \"VH\", \"ns2:Type\": \"0\", \"ns2:KorteNaam\": \"Voorhout\", \"ns2:MiddelNaam\": \"Voorhout\", \"ns2:LangeNaam\": \"Voorhout\", \"ns2:UICCode\": \"8400655\"}, {\"ns2:StationCode\": \"LEDN\", \"ns2:Type\": \"5\", \"ns2:KorteNaam\": \"Leiden C\", \"ns2:MiddelNaam\": \"Leiden C.\", \"ns2:LangeNaam\": \"Leiden Centraal\", \"ns2:UICCode\": \"8400390\"}, {\"ns2:StationCode\": \"DVNK\", \"ns2:Type\": \"0\", \"ns2:KorteNaam\": \"De Vink\", \"ns2:MiddelNaam\": \"De Vink\", \"ns2:LangeNaam\": \"De Vink\", \"ns2:UICCode\": \"8400188\"}, {\"ns2:StationCode\": \"VST\", \"ns2:Type\": \"0\", \"ns2:KorteNaam\": \"Voorschtn\", \"ns2:MiddelNaam\": \"Voorschoten\", \"ns2:LangeNaam\": \"Voorschoten\", \"ns2:UICCode\": \"8400659\"}, {\"ns2:StationCode\": \"GVM\", \"ns2:Type\": \"0\", \"ns2:KorteNaam\": \"Mariahoeve\", \"ns2:MiddelNaam\": \"Mariahoeve\", \"ns2:LangeNaam\": \"Den Haag Mariahoeve\", \"ns2:UICCode\": \"8400278\"}, {\"ns2:StationCode\": \"LAA\", \"ns2:Type\": \"1\", \"ns2:KorteNaam\": \"Laan v NOI\", \"ns2:MiddelNaam\": \"Laan v NOI\", \"ns2:LangeNaam\": \"Den Haag Laan v NOI\", \"ns2:UICCode\": \"8400380\"}, {\"ns2:StationCode\": \"GV\", \"ns2:Type\": \"5\", \"ns2:KorteNaam\": \"Dn Haag HS\", \"ns2:MiddelNaam\": \"Den Haag HS\", \"ns2:LangeNaam\": \"Den Haag HS\", \"ns2:UICCode\": \"8400280\"}]}], \"ns2:MaterieelDeelDVS\": {\"ns2:MaterieelSoort\": \"SNG\", \"ns2:MaterieelAanduiding\": \"4\", \"ns2:MaterieelLengte\": \"7576\", \"ns2:MaterieelNummer\": \"000000-02723-0\", \"ns2:MaterieelDeelEindBestemming\": [{\"@InfoStatus\": \"Gepland\", \"ns2:StationCode\": \"GV\", \"ns2:Type\": \"5\", \"ns2:KorteNaam\": \"Dn Haag HS\", \"ns2:MiddelNaam\": \"Den Haag HS\", \"ns2:LangeNaam\": \"Den Haag HS\", \"ns2:UICCode\": \"8400280\"}, {\"@InfoStatus\": \"Actueel\", \"ns2:StationCode\": \"GV\", \"ns2:Type\": \"5\", \"ns2:KorteNaam\": \"Dn Haag HS\", \"ns2:MiddelNaam\": \"Den Haag HS\", \"ns2:LangeNaam\": \"Den Haag HS\", \"ns2:UICCode\": \"8400280\"}], \"ns2:PresentatieMaterieelDeelEindBestemming\": {\"ns2:Uitingen\": {\"ns2:Uiting\": \"Den Haag HS\"}}}}, \"ns2:Wijziging\": [{\"ns2:WijzigingType\": \"10\", \"ns2:PresentatieWijziging\": {\"ns2:Uitingen\": [{\"@Taal\": \"nl\", \"ns2:Uiting\": {\"@Prioriteit\": \"10\", \"#text\": \"Later vertrek\"}}, {\"@Taal\": \"en\", \"ns2:Uiting\": {\"@Prioriteit\": \"10\", \"#text\": \"Delayed\"}}]}}, {\"ns2:WijzigingType\": \"40\"}]}, \"ns2:PresentatieOpmerkingen\": {\"ns2:Uitingen\": [{\"@Taal\": \"nl\", \"ns2:Uiting\": {\"@Prioriteit\": \"20\", \"@ReferentieType\": \"Wijziging\", \"@ReferentieWaarde\": \"10\", \"#text\": \"Later vertrek\"}}, {\"@Taal\": \"en\", \"ns2:Uiting\": {\"@Prioriteit\": \"20\", \"@ReferentieType\": \"Wijziging\", \"@ReferentieWaarde\": \"10\", \"#text\": \"Delayed\"}}]}}}}}')\n",
      "(None, u'{\"ns1:PutReisInformatieBoodschapIn\": {\"@xmlns:ns1\": \"urn:ndov:cdm:trein:reisinformatie:messages:5\", \"@xmlns:ns2\": \"urn:ndov:cdm:trein:reisinformatie:data:4\", \"ns2:ReisInformatieProductDVS\": {\"@TimeStamp\": \"2020-05-04T23:15:20.937Z\", \"@Versie\": \"6.2\", \"ns2:RIPAdministratie\": {\"ns2:ReisInformatieProductID\": \"2005050115202500005\", \"ns2:AbonnementId\": \"54\", \"ns2:ReisInformatieTijdstip\": \"2020-05-04T23:11:00.000Z\"}, \"ns2:DynamischeVertrekStaat\": {\"ns2:RitId\": \"7290\", \"ns2:RitDatum\": \"2020-05-04\", \"ns2:RitStation\": {\"ns2:StationCode\": \"BSD\", \"ns2:Type\": \"0\", \"ns2:KorteNaam\": \"Beesd\", \"ns2:MiddelNaam\": \"Beesd\", \"ns2:LangeNaam\": \"Beesd\", \"ns2:UICCode\": \"8400097\"}, \"ns2:Trein\": {\"ns2:TreinNummer\": \"7290\", \"ns2:TreinSoort\": {\"@Code\": \"ST\", \"#text\": \"Stoptrein\"}, \"ns2:TreinFormule\": \"1\", \"ns2:TreinStatus\": \"5\", \"ns2:Vervoerder\": \"R-net\", \"ns2:Reserveren\": \"N\", \"ns2:Toeslag\": \"N\", \"ns2:NietInstappen\": \"N\", \"ns2:AchterBlijvenAchtersteTreinDeel\": \"N\", \"ns2:RangeerBeweging\": \"N\", \"ns2:SpeciaalKaartje\": \"N\", \"ns2:TreinEindBestemming\": [{\"@InfoStatus\": \"Gepland\", \"ns2:StationCode\": \"DDR\", \"ns2:Type\": \"5\", \"ns2:KorteNaam\": \"Dordrecht\", \"ns2:MiddelNaam\": \"Dordrecht\", \"ns2:LangeNaam\": \"Dordrecht\", \"ns2:UICCode\": \"8400180\"}, {\"@InfoStatus\": \"Actueel\", \"ns2:StationCode\": \"DDR\", \"ns2:Type\": \"5\", \"ns2:KorteNaam\": \"Dordrecht\", \"ns2:MiddelNaam\": \"Dordrecht\", \"ns2:LangeNaam\": \"Dordrecht\", \"ns2:UICCode\": \"8400180\"}], \"ns2:PresentatieTreinEindBestemming\": {\"ns2:Uitingen\": {\"ns2:Uiting\": \"Dordrecht\"}}, \"ns2:VertrekTijd\": [{\"@InfoStatus\": \"Gepland\", \"#text\": \"2020-05-04T23:11:00.000Z\"}, {\"@InfoStatus\": \"Actueel\", \"#text\": \"2020-05-04T23:12:22.000Z\"}], \"ns2:ExacteVertrekVertraging\": \"PT1M22S\", \"ns2:PresentatieVertrekVertraging\": {\"ns2:Uitingen\": {\"ns2:Uiting\": \"+1 min.\"}}, \"ns2:GedempteVertrekVertraging\": \"PT0S\", \"ns2:TreinVertrekSpoor\": [{\"@InfoStatus\": \"Gepland\", \"ns2:SpoorNummer\": \"2\"}, {\"@InfoStatus\": \"Actueel\", \"ns2:SpoorNummer\": \"2\"}], \"ns2:PresentatieTreinVertrekSpoor\": {\"ns2:Uitingen\": {\"ns2:Uiting\": \"2\"}}, \"ns2:VertrekRichting\": \"A\", \"ns2:AfstandPerronEindKopVertrekTrein\": \"0\", \"ns2:VerkorteRoute\": [{\"@InfoStatus\": \"Gepland\", \"ns2:Station\": {\"ns2:StationCode\": \"GR\", \"ns2:Type\": \"1\", \"ns2:KorteNaam\": \"Gorinchem\", \"ns2:MiddelNaam\": \"Gorinchem\", \"ns2:LangeNaam\": \"Gorinchem\", \"ns2:UICCode\": \"8400256\"}}, {\"@InfoStatus\": \"Actueel\", \"ns2:Station\": {\"ns2:StationCode\": \"GR\", \"ns2:Type\": \"1\", \"ns2:KorteNaam\": \"Gorinchem\", \"ns2:MiddelNaam\": \"Gorinchem\", \"ns2:LangeNaam\": \"Gorinchem\", \"ns2:UICCode\": \"8400256\"}}], \"ns2:PresentatieVerkorteRoute\": {\"ns2:Uitingen\": {\"ns2:Uiting\": \"Gorinchem\"}}, \"ns2:TreinVleugel\": {\"ns2:TreinVleugelVertrekSpoor\": [{\"@InfoStatus\": \"Gepland\", \"ns2:SpoorNummer\": \"2\"}, {\"@InfoStatus\": \"Actueel\", \"ns2:SpoorNummer\": \"2\"}], \"ns2:PresentatieTreinVleugelVertrekSpoor\": {\"ns2:Uitingen\": {\"ns2:Uiting\": \"2\"}}, \"ns2:TreinVleugelEindBestemming\": [{\"@InfoStatus\": \"Gepland\", \"ns2:StationCode\": \"DDR\", \"ns2:Type\": \"5\", \"ns2:KorteNaam\": \"Dordrecht\", \"ns2:MiddelNaam\": \"Dordrecht\", \"ns2:LangeNaam\": \"Dordrecht\", \"ns2:UICCode\": \"8400180\"}, {\"@InfoStatus\": \"Actueel\", \"ns2:StationCode\": \"DDR\", \"ns2:Type\": \"5\", \"ns2:KorteNaam\": \"Dordrecht\", \"ns2:MiddelNaam\": \"Dordrecht\", \"ns2:LangeNaam\": \"Dordrecht\", \"ns2:UICCode\": \"8400180\"}], \"ns2:PresentatieTreinVleugelEindBestemming\": {\"ns2:Uitingen\": {\"ns2:Uiting\": \"Dordrecht\"}}, \"ns2:StopStations\": [{\"@InfoStatus\": \"Gepland\", \"ns2:Station\": [{\"ns2:StationCode\": \"LDM\", \"ns2:Type\": \"0\", \"ns2:KorteNaam\": \"Leerdam\", \"ns2:MiddelNaam\": \"Leerdam\", \"ns2:LangeNaam\": \"Leerdam\", \"ns2:UICCode\": \"8400386\"}, {\"ns2:StationCode\": \"AKL\", \"ns2:Type\": \"0\", \"ns2:KorteNaam\": \"Arkel\", \"ns2:MiddelNaam\": \"Arkel\", \"ns2:LangeNaam\": \"Arkel\", \"ns2:UICCode\": \"8400068\"}, {\"ns2:StationCode\": \"GR\", \"ns2:Type\": \"1\", \"ns2:KorteNaam\": \"Gorinchem\", \"ns2:MiddelNaam\": \"Gorinchem\", \"ns2:LangeNaam\": \"Gorinchem\", \"ns2:UICCode\": \"8400256\"}, {\"ns2:StationCode\": \"BHDV\", \"ns2:Type\": \"0\", \"ns2:KorteNaam\": \"Boven-Har\", \"ns2:MiddelNaam\": \"Boven-Hardinxv.\", \"ns2:LangeNaam\": \"Boven-Hardinxveld\", \"ns2:UICCode\": \"8400236\"}, {\"ns2:StationCode\": \"GND\", \"ns2:Type\": \"0\", \"ns2:KorteNaam\": \"Hardinxvld\", \"ns2:MiddelNaam\": \"Hardinxveld-G.\", \"ns2:LangeNaam\": \"Hardinxveld-Giessendam\", \"ns2:UICCode\": \"8400295\"}, {\"ns2:StationCode\": \"HBZM\", \"ns2:Type\": \"0\", \"ns2:KorteNaam\": \"Blauwe Zm\", \"ns2:MiddelNaam\": \"Blauwe Zoom\", \"ns2:LangeNaam\": \"Hardinxveld Blauwe Zoom\", \"ns2:UICCode\": \"8400438\"}, {\"ns2:StationCode\": \"SDT\", \"ns2:Type\": \"0\", \"ns2:KorteNaam\": \"Sliedrecht\", \"ns2:MiddelNaam\": \"Sliedrecht\", \"ns2:LangeNaam\": \"Sliedrecht\", \"ns2:UICCode\": \"8400565\"}, {\"ns2:StationCode\": \"SDTB\", \"ns2:Type\": \"0\", \"ns2:KorteNaam\": \"Baanhoek\", \"ns2:MiddelNaam\": \"Baanhoek\", \"ns2:LangeNaam\": \"Sliedrecht Baanhoek\", \"ns2:UICCode\": \"8400497\"}, {\"ns2:StationCode\": \"DDRS\", \"ns2:Type\": \"0\", \"ns2:KorteNaam\": \"Stadspldrs\", \"ns2:MiddelNaam\": \"Stadspolders\", \"ns2:LangeNaam\": \"Dordrecht Stadspolders\", \"ns2:UICCode\": \"8400186\"}, {\"ns2:StationCode\": \"DDR\", \"ns2:Type\": \"5\", \"ns2:KorteNaam\": \"Dordrecht\", \"ns2:MiddelNaam\": \"Dordrecht\", \"ns2:LangeNaam\": \"Dordrecht\", \"ns2:UICCode\": \"8400180\"}]}, {\"@InfoStatus\": \"Actueel\", \"ns2:Station\": [{\"ns2:StationCode\": \"LDM\", \"ns2:Type\": \"0\", \"ns2:KorteNaam\": \"Leerdam\", \"ns2:MiddelNaam\": \"Leerdam\", \"ns2:LangeNaam\": \"Leerdam\", \"ns2:UICCode\": \"8400386\"}, {\"ns2:StationCode\": \"AKL\", \"ns2:Type\": \"0\", \"ns2:KorteNaam\": \"Arkel\", \"ns2:MiddelNaam\": \"Arkel\", \"ns2:LangeNaam\": \"Arkel\", \"ns2:UICCode\": \"8400068\"}, {\"ns2:StationCode\": \"GR\", \"ns2:Type\": \"1\", \"ns2:KorteNaam\": \"Gorinchem\", \"ns2:MiddelNaam\": \"Gorinchem\", \"ns2:LangeNaam\": \"Gorinchem\", \"ns2:UICCode\": \"8400256\"}, {\"ns2:StationCode\": \"BHDV\", \"ns2:Type\": \"0\", \"ns2:KorteNaam\": \"Boven-Har\", \"ns2:MiddelNaam\": \"Boven-Hardinxv.\", \"ns2:LangeNaam\": \"Boven-Hardinxveld\", \"ns2:UICCode\": \"8400236\"}, {\"ns2:StationCode\": \"GND\", \"ns2:Type\": \"0\", \"ns2:KorteNaam\": \"Hardinxvld\", \"ns2:MiddelNaam\": \"Hardinxveld-G.\", \"ns2:LangeNaam\": \"Hardinxveld-Giessendam\", \"ns2:UICCode\": \"8400295\"}, {\"ns2:StationCode\": \"HBZM\", \"ns2:Type\": \"0\", \"ns2:KorteNaam\": \"Blauwe Zm\", \"ns2:MiddelNaam\": \"Blauwe Zoom\", \"ns2:LangeNaam\": \"Hardinxveld Blauwe Zoom\", \"ns2:UICCode\": \"8400438\"}, {\"ns2:StationCode\": \"SDT\", \"ns2:Type\": \"0\", \"ns2:KorteNaam\": \"Sliedrecht\", \"ns2:MiddelNaam\": \"Sliedrecht\", \"ns2:LangeNaam\": \"Sliedrecht\", \"ns2:UICCode\": \"8400565\"}, {\"ns2:StationCode\": \"SDTB\", \"ns2:Type\": \"0\", \"ns2:KorteNaam\": \"Baanhoek\", \"ns2:MiddelNaam\": \"Baanhoek\", \"ns2:LangeNaam\": \"Sliedrecht Baanhoek\", \"ns2:UICCode\": \"8400497\"}, {\"ns2:StationCode\": \"DDRS\", \"ns2:Type\": \"0\", \"ns2:KorteNaam\": \"Stadspldrs\", \"ns2:MiddelNaam\": \"Stadspolders\", \"ns2:LangeNaam\": \"Dordrecht Stadspolders\", \"ns2:UICCode\": \"8400186\"}, {\"ns2:StationCode\": \"DDR\", \"ns2:Type\": \"5\", \"ns2:KorteNaam\": \"Dordrecht\", \"ns2:MiddelNaam\": \"Dordrecht\", \"ns2:LangeNaam\": \"Dordrecht\", \"ns2:UICCode\": \"8400180\"}]}], \"ns2:MaterieelDeelDVS\": {\"ns2:MaterieelSoort\": \"GTW-E-QB\", \"ns2:MaterieelAanduiding\": \"2/8\", \"ns2:MaterieelLengte\": \"5600\", \"ns2:MaterieelDeelEindBestemming\": [{\"@InfoStatus\": \"Gepland\", \"ns2:StationCode\": \"DDR\", \"ns2:Type\": \"5\", \"ns2:KorteNaam\": \"Dordrecht\", \"ns2:MiddelNaam\": \"Dordrecht\", \"ns2:LangeNaam\": \"Dordrecht\", \"ns2:UICCode\": \"8400180\"}, {\"@InfoStatus\": \"Actueel\", \"ns2:StationCode\": \"DDR\", \"ns2:Type\": \"5\", \"ns2:KorteNaam\": \"Dordrecht\", \"ns2:MiddelNaam\": \"Dordrecht\", \"ns2:LangeNaam\": \"Dordrecht\", \"ns2:UICCode\": \"8400180\"}], \"ns2:PresentatieMaterieelDeelEindBestemming\": {\"ns2:Uitingen\": {\"ns2:Uiting\": \"Dordrecht\"}}}}, \"ns2:Wijziging\": [{\"ns2:WijzigingType\": \"10\", \"ns2:PresentatieWijziging\": {\"ns2:Uitingen\": [{\"@Taal\": \"nl\", \"ns2:Uiting\": {\"@Prioriteit\": \"10\", \"#text\": \"Later vertrek\"}}, {\"@Taal\": \"en\", \"ns2:Uiting\": {\"@Prioriteit\": \"10\", \"#text\": \"Delayed\"}}]}}, {\"ns2:WijzigingType\": \"40\"}]}, \"ns2:PresentatieOpmerkingen\": {\"ns2:Uitingen\": [{\"@Taal\": \"nl\", \"ns2:Uiting\": {\"@Prioriteit\": \"20\", \"@ReferentieType\": \"Wijziging\", \"@ReferentieWaarde\": \"10\", \"#text\": \"Later vertrek\"}}, {\"@Taal\": \"en\", \"ns2:Uiting\": {\"@Prioriteit\": \"20\", \"@ReferentieType\": \"Wijziging\", \"@ReferentieWaarde\": \"10\", \"#text\": \"Delayed\"}}]}}}}}')\n",
      "(None, u'{\"ns1:PutReisInformatieBoodschapIn\": {\"@xmlns:ns1\": \"urn:ndov:cdm:trein:reisinformatie:messages:5\", \"@xmlns:ns2\": \"urn:ndov:cdm:trein:reisinformatie:data:4\", \"ns2:ReisInformatieProductDVS\": {\"@TimeStamp\": \"2020-05-04T23:15:21.466Z\", \"@Versie\": \"6.2\", \"ns2:RIPAdministratie\": {\"ns2:ReisInformatieProductID\": \"2005050115212200001\", \"ns2:AbonnementId\": \"54\", \"ns2:ReisInformatieTijdstip\": \"2020-05-04T23:20:00.000Z\"}, \"ns2:DynamischeVertrekStaat\": {\"ns2:RitId\": \"5195\", \"ns2:RitDatum\": \"2020-05-04\", \"ns2:RitStation\": {\"ns2:StationCode\": \"ZWD\", \"ns2:Type\": \"0\", \"ns2:KorteNaam\": \"Zwijndrcht\", \"ns2:MiddelNaam\": \"Zwijndrecht\", \"ns2:LangeNaam\": \"Zwijndrecht\", \"ns2:UICCode\": \"8400752\"}, \"ns2:Trein\": {\"ns2:TreinNummer\": \"5195\", \"ns2:TreinSoort\": {\"@Code\": \"SPR\", \"#text\": \"Sprinter\"}, \"ns2:TreinFormule\": \"1\", \"ns2:TreinStatus\": \"0\", \"ns2:Vervoerder\": \"NS\", \"ns2:Reserveren\": \"N\", \"ns2:Toeslag\": \"N\", \"ns2:NietInstappen\": \"N\", \"ns2:AchterBlijvenAchtersteTreinDeel\": \"N\", \"ns2:RangeerBeweging\": \"N\", \"ns2:SpeciaalKaartje\": \"N\", \"ns2:TreinEindBestemming\": [{\"@InfoStatus\": \"Gepland\", \"ns2:StationCode\": \"DDR\", \"ns2:Type\": \"5\", \"ns2:KorteNaam\": \"Dordrecht\", \"ns2:MiddelNaam\": \"Dordrecht\", \"ns2:LangeNaam\": \"Dordrecht\", \"ns2:UICCode\": \"8400180\"}, {\"@InfoStatus\": \"Actueel\", \"ns2:StationCode\": \"DDR\", \"ns2:Type\": \"5\", \"ns2:KorteNaam\": \"Dordrecht\", \"ns2:MiddelNaam\": \"Dordrecht\", \"ns2:LangeNaam\": \"Dordrecht\", \"ns2:UICCode\": \"8400180\"}], \"ns2:PresentatieTreinEindBestemming\": {\"ns2:Uitingen\": {\"ns2:Uiting\": \"Dordrecht\"}}, \"ns2:VertrekTijd\": [{\"@InfoStatus\": \"Gepland\", \"#text\": \"2020-05-04T23:20:00.000Z\"}, {\"@InfoStatus\": \"Actueel\", \"#text\": \"2020-05-04T23:20:00.000Z\"}], \"ns2:ExacteVertrekVertraging\": \"PT0S\", \"ns2:GedempteVertrekVertraging\": \"PT0S\", \"ns2:TreinVertrekSpoor\": [{\"@InfoStatus\": \"Gepland\", \"ns2:SpoorNummer\": \"4\"}, {\"@InfoStatus\": \"Actueel\", \"ns2:SpoorNummer\": \"3\"}], \"ns2:PresentatieTreinVertrekSpoor\": {\"ns2:Uitingen\": {\"ns2:Uiting\": \"3\"}}, \"ns2:VertrekRichting\": \"B\", \"ns2:AfstandPerronEindKopVertrekTrein\": \"0\", \"ns2:TreinVleugel\": {\"ns2:TreinVleugelVertrekSpoor\": [{\"@InfoStatus\": \"Gepland\", \"ns2:SpoorNummer\": \"4\"}, {\"@InfoStatus\": \"Actueel\", \"ns2:SpoorNummer\": \"3\"}], \"ns2:PresentatieTreinVleugelVertrekSpoor\": {\"ns2:Uitingen\": {\"ns2:Uiting\": \"3\"}}, \"ns2:TreinVleugelEindBestemming\": [{\"@InfoStatus\": \"Gepland\", \"ns2:StationCode\": \"DDR\", \"ns2:Type\": \"5\", \"ns2:KorteNaam\": \"Dordrecht\", \"ns2:MiddelNaam\": \"Dordrecht\", \"ns2:LangeNaam\": \"Dordrecht\", \"ns2:UICCode\": \"8400180\"}, {\"@InfoStatus\": \"Actueel\", \"ns2:StationCode\": \"DDR\", \"ns2:Type\": \"5\", \"ns2:KorteNaam\": \"Dordrecht\", \"ns2:MiddelNaam\": \"Dordrecht\", \"ns2:LangeNaam\": \"Dordrecht\", \"ns2:UICCode\": \"8400180\"}], \"ns2:PresentatieTreinVleugelEindBestemming\": {\"ns2:Uitingen\": {\"ns2:Uiting\": \"Dordrecht\"}}, \"ns2:StopStations\": [{\"@InfoStatus\": \"Gepland\", \"ns2:Station\": {\"ns2:StationCode\": \"DDR\", \"ns2:Type\": \"5\", \"ns2:KorteNaam\": \"Dordrecht\", \"ns2:MiddelNaam\": \"Dordrecht\", \"ns2:LangeNaam\": \"Dordrecht\", \"ns2:UICCode\": \"8400180\"}}, {\"@InfoStatus\": \"Actueel\", \"ns2:Station\": {\"ns2:StationCode\": \"DDR\", \"ns2:Type\": \"5\", \"ns2:KorteNaam\": \"Dordrecht\", \"ns2:MiddelNaam\": \"Dordrecht\", \"ns2:LangeNaam\": \"Dordrecht\", \"ns2:UICCode\": \"8400180\"}}], \"ns2:Wijziging\": {\"ns2:WijzigingType\": \"20\", \"ns2:PresentatieWijziging\": {\"ns2:Uitingen\": [{\"@Taal\": \"nl\", \"ns2:Uiting\": {\"@Prioriteit\": \"9\", \"#text\": \"Dit is een gewijzigd vertrekspoor\"}}, {\"@Taal\": \"en\", \"ns2:Uiting\": {\"@Prioriteit\": \"9\", \"#text\": \"Departure platform changed\"}}]}}, \"ns2:MaterieelDeelDVS\": {\"ns2:MaterieelSoort\": \"SGMM\", \"ns2:MaterieelAanduiding\": \"3\", \"ns2:MaterieelLengte\": \"7860\", \"ns2:MaterieelNummer\": \"000000-02992-0\", \"ns2:MaterieelDeelEindBestemming\": [{\"@InfoStatus\": \"Gepland\", \"ns2:StationCode\": \"DDR\", \"ns2:Type\": \"5\", \"ns2:KorteNaam\": \"Dordrecht\", \"ns2:MiddelNaam\": \"Dordrecht\", \"ns2:LangeNaam\": \"Dordrecht\", \"ns2:UICCode\": \"8400180\"}, {\"@InfoStatus\": \"Actueel\", \"ns2:StationCode\": \"DDR\", \"ns2:Type\": \"5\", \"ns2:KorteNaam\": \"Dordrecht\", \"ns2:MiddelNaam\": \"Dordrecht\", \"ns2:LangeNaam\": \"Dordrecht\", \"ns2:UICCode\": \"8400180\"}], \"ns2:PresentatieMaterieelDeelEindBestemming\": {\"ns2:Uitingen\": {\"ns2:Uiting\": \"Dordrecht\"}}}}, \"ns2:Wijziging\": {\"ns2:WijzigingType\": \"20\", \"ns2:PresentatieWijziging\": {\"ns2:Uitingen\": [{\"@Taal\": \"nl\", \"ns2:Uiting\": {\"@Prioriteit\": \"9\", \"#text\": \"Dit is een gewijzigd vertrekspoor\"}}, {\"@Taal\": \"en\", \"ns2:Uiting\": {\"@Prioriteit\": \"9\", \"#text\": \"Departure platform changed\"}}]}}}, \"ns2:PresentatieOpmerkingen\": {\"ns2:Uitingen\": [{\"@Taal\": \"nl\", \"ns2:Uiting\": {\"@Prioriteit\": \"19\", \"@ReferentieType\": \"Wijziging\", \"@ReferentieWaarde\": \"20\", \"#text\": \"Dit is een gewijzigd vertrekspoor\"}}, {\"@Taal\": \"en\", \"ns2:Uiting\": {\"@Prioriteit\": \"19\", \"@ReferentieType\": \"Wijziging\", \"@ReferentieWaarde\": \"20\", \"#text\": \"Departure platform changed\"}}]}}}}}')\n",
      "(None, u'{\"ns1:PutReisInformatieBoodschapIn\": {\"@xmlns:ns1\": \"urn:ndov:cdm:trein:reisinformatie:messages:5\", \"@xmlns:ns2\": \"urn:ndov:cdm:trein:reisinformatie:data:4\", \"ns2:ReisInformatieProductDVS\": {\"@TimeStamp\": \"2020-05-04T23:15:22.704Z\", \"@Versie\": \"6.2\", \"ns2:RIPAdministratie\": {\"ns2:ReisInformatieProductID\": \"2005050115222500001\", \"ns2:AbonnementId\": \"54\", \"ns2:ReisInformatieTijdstip\": \"2020-05-04T23:15:00.000Z\"}, \"ns2:DynamischeVertrekStaat\": {\"ns2:RitId\": \"37798\", \"ns2:RitDatum\": \"2020-05-04\", \"ns2:RitStation\": {\"ns2:StationCode\": \"DZW\", \"ns2:Type\": \"0\", \"ns2:KorteNaam\": \"Delfzijl W\", \"ns2:MiddelNaam\": \"Delfzijl W.\", \"ns2:LangeNaam\": \"Delfzijl West\", \"ns2:UICCode\": \"8400175\"}, \"ns2:Trein\": {\"ns2:TreinNummer\": \"37798\", \"ns2:TreinSoort\": {\"@Code\": \"ST\", \"#text\": \"Stoptrein\"}, \"ns2:TreinFormule\": \"1\", \"ns2:TreinStatus\": \"2\", \"ns2:Vervoerder\": \"Arriva\", \"ns2:Reserveren\": \"N\", \"ns2:Toeslag\": \"N\", \"ns2:NietInstappen\": \"N\", \"ns2:AchterBlijvenAchtersteTreinDeel\": \"N\", \"ns2:RangeerBeweging\": \"N\", \"ns2:SpeciaalKaartje\": \"N\", \"ns2:TreinEindBestemming\": [{\"@InfoStatus\": \"Gepland\", \"ns2:StationCode\": \"GN\", \"ns2:Type\": \"5\", \"ns2:KorteNaam\": \"Groningen\", \"ns2:MiddelNaam\": \"Groningen\", \"ns2:LangeNaam\": \"Groningen\", \"ns2:UICCode\": \"8400263\"}, {\"@InfoStatus\": \"Actueel\", \"ns2:StationCode\": \"GN\", \"ns2:Type\": \"5\", \"ns2:KorteNaam\": \"Groningen\", \"ns2:MiddelNaam\": \"Groningen\", \"ns2:LangeNaam\": \"Groningen\", \"ns2:UICCode\": \"8400263\"}], \"ns2:PresentatieTreinEindBestemming\": {\"ns2:Uitingen\": {\"ns2:Uiting\": \"Groningen\"}}, \"ns2:VertrekTijd\": [{\"@InfoStatus\": \"Gepland\", \"#text\": \"2020-05-04T23:15:00.000Z\"}, {\"@InfoStatus\": \"Actueel\", \"#text\": \"2020-05-04T23:15:00.000Z\"}], \"ns2:ExacteVertrekVertraging\": \"PT0S\", \"ns2:GedempteVertrekVertraging\": \"PT0S\", \"ns2:TreinVertrekSpoor\": [{\"@InfoStatus\": \"Gepland\", \"ns2:SpoorNummer\": \"1\"}, {\"@InfoStatus\": \"Actueel\", \"ns2:SpoorNummer\": \"1\"}], \"ns2:PresentatieTreinVertrekSpoor\": {\"ns2:Uitingen\": {\"ns2:Uiting\": \"1\"}}, \"ns2:VertrekRichting\": \"A\", \"ns2:AfstandPerronEindKopVertrekTrein\": \"0\", \"ns2:TreinVleugel\": {\"ns2:TreinVleugelVertrekSpoor\": [{\"@InfoStatus\": \"Gepland\", \"ns2:SpoorNummer\": \"1\"}, {\"@InfoStatus\": \"Actueel\", \"ns2:SpoorNummer\": \"1\"}], \"ns2:PresentatieTreinVleugelVertrekSpoor\": {\"ns2:Uitingen\": {\"ns2:Uiting\": \"1\"}}, \"ns2:TreinVleugelEindBestemming\": [{\"@InfoStatus\": \"Gepland\", \"ns2:StationCode\": \"GN\", \"ns2:Type\": \"5\", \"ns2:KorteNaam\": \"Groningen\", \"ns2:MiddelNaam\": \"Groningen\", \"ns2:LangeNaam\": \"Groningen\", \"ns2:UICCode\": \"8400263\"}, {\"@InfoStatus\": \"Actueel\", \"ns2:StationCode\": \"GN\", \"ns2:Type\": \"5\", \"ns2:KorteNaam\": \"Groningen\", \"ns2:MiddelNaam\": \"Groningen\", \"ns2:LangeNaam\": \"Groningen\", \"ns2:UICCode\": \"8400263\"}], \"ns2:PresentatieTreinVleugelEindBestemming\": {\"ns2:Uitingen\": {\"ns2:Uiting\": \"Groningen\"}}, \"ns2:StopStations\": [{\"@InfoStatus\": \"Gepland\", \"ns2:Station\": [{\"ns2:StationCode\": \"APG\", \"ns2:Type\": \"0\", \"ns2:KorteNaam\": \"Appingedam\", \"ns2:MiddelNaam\": \"Appingedam\", \"ns2:LangeNaam\": \"Appingedam\", \"ns2:UICCode\": \"8400067\"}, {\"ns2:StationCode\": \"LP\", \"ns2:Type\": \"0\", \"ns2:KorteNaam\": \"Loppersum\", \"ns2:MiddelNaam\": \"Loppersum\", \"ns2:LangeNaam\": \"Loppersum\", \"ns2:UICCode\": \"8400403\"}, {\"ns2:StationCode\": \"STM\", \"ns2:Type\": \"0\", \"ns2:KorteNaam\": \"Stedum\", \"ns2:MiddelNaam\": \"Stedum\", \"ns2:LangeNaam\": \"Stedum\", \"ns2:UICCode\": \"8400576\"}, {\"ns2:StationCode\": \"BDM\", \"ns2:Type\": \"0\", \"ns2:KorteNaam\": \"Bedum\", \"ns2:MiddelNaam\": \"Bedum\", \"ns2:LangeNaam\": \"Bedum\", \"ns2:UICCode\": \"8400094\"}, {\"ns2:StationCode\": \"SWD\", \"ns2:Type\": \"0\", \"ns2:KorteNaam\": \"Sauwerd\", \"ns2:MiddelNaam\": \"Sauwerd\", \"ns2:LangeNaam\": \"Sauwerd\", \"ns2:UICCode\": \"8400547\"}, {\"ns2:StationCode\": \"GNN\", \"ns2:Type\": \"0\", \"ns2:KorteNaam\": \"Groningn N\", \"ns2:MiddelNaam\": \"Groningen N.\", \"ns2:LangeNaam\": \"Groningen Noord\", \"ns2:UICCode\": \"8400264\"}, {\"ns2:StationCode\": \"GN\", \"ns2:Type\": \"5\", \"ns2:KorteNaam\": \"Groningen\", \"ns2:MiddelNaam\": \"Groningen\", \"ns2:LangeNaam\": \"Groningen\", \"ns2:UICCode\": \"8400263\"}]}, {\"@InfoStatus\": \"Actueel\", \"ns2:Station\": [{\"ns2:StationCode\": \"APG\", \"ns2:Type\": \"0\", \"ns2:KorteNaam\": \"Appingedam\", \"ns2:MiddelNaam\": \"Appingedam\", \"ns2:LangeNaam\": \"Appingedam\", \"ns2:UICCode\": \"8400067\"}, {\"ns2:StationCode\": \"LP\", \"ns2:Type\": \"0\", \"ns2:KorteNaam\": \"Loppersum\", \"ns2:MiddelNaam\": \"Loppersum\", \"ns2:LangeNaam\": \"Loppersum\", \"ns2:UICCode\": \"8400403\"}, {\"ns2:StationCode\": \"STM\", \"ns2:Type\": \"0\", \"ns2:KorteNaam\": \"Stedum\", \"ns2:MiddelNaam\": \"Stedum\", \"ns2:LangeNaam\": \"Stedum\", \"ns2:UICCode\": \"8400576\"}, {\"ns2:StationCode\": \"BDM\", \"ns2:Type\": \"0\", \"ns2:KorteNaam\": \"Bedum\", \"ns2:MiddelNaam\": \"Bedum\", \"ns2:LangeNaam\": \"Bedum\", \"ns2:UICCode\": \"8400094\"}, {\"ns2:StationCode\": \"SWD\", \"ns2:Type\": \"0\", \"ns2:KorteNaam\": \"Sauwerd\", \"ns2:MiddelNaam\": \"Sauwerd\", \"ns2:LangeNaam\": \"Sauwerd\", \"ns2:UICCode\": \"8400547\"}, {\"ns2:StationCode\": \"GNN\", \"ns2:Type\": \"0\", \"ns2:KorteNaam\": \"Groningn N\", \"ns2:MiddelNaam\": \"Groningen N.\", \"ns2:LangeNaam\": \"Groningen Noord\", \"ns2:UICCode\": \"8400264\"}, {\"ns2:StationCode\": \"GN\", \"ns2:Type\": \"5\", \"ns2:KorteNaam\": \"Groningen\", \"ns2:MiddelNaam\": \"Groningen\", \"ns2:LangeNaam\": \"Groningen\", \"ns2:UICCode\": \"8400263\"}]}], \"ns2:MaterieelDeelDVS\": {\"ns2:MaterieelSoort\": \"GTW-D-ARR\", \"ns2:MaterieelAanduiding\": \"2/8\", \"ns2:MaterieelLengte\": \"5600\", \"ns2:MaterieelDeelEindBestemming\": [{\"@InfoStatus\": \"Gepland\", \"ns2:StationCode\": \"GN\", \"ns2:Type\": \"5\", \"ns2:KorteNaam\": \"Groningen\", \"ns2:MiddelNaam\": \"Groningen\", \"ns2:LangeNaam\": \"Groningen\", \"ns2:UICCode\": \"8400263\"}, {\"@InfoStatus\": \"Actueel\", \"ns2:StationCode\": \"GN\", \"ns2:Type\": \"5\", \"ns2:KorteNaam\": \"Groningen\", \"ns2:MiddelNaam\": \"Groningen\", \"ns2:LangeNaam\": \"Groningen\", \"ns2:UICCode\": \"8400263\"}], \"ns2:PresentatieMaterieelDeelEindBestemming\": {\"ns2:Uitingen\": {\"ns2:Uiting\": \"Groningen\"}}}}, \"ns2:Wijziging\": {\"ns2:WijzigingType\": \"40\"}}}}}}')\n",
      "(None, u'{\"ns1:PutReisInformatieBoodschapIn\": {\"@xmlns:ns1\": \"urn:ndov:cdm:trein:reisinformatie:messages:5\", \"@xmlns:ns2\": \"urn:ndov:cdm:trein:reisinformatie:data:4\", \"ns2:ReisInformatieProductDVS\": {\"@TimeStamp\": \"2020-05-04T23:15:43.421Z\", \"@Versie\": \"6.2\", \"ns2:RIPAdministratie\": {\"ns2:ReisInformatieProductID\": \"2005050115432100001\", \"ns2:AbonnementId\": \"54\", \"ns2:ReisInformatieTijdstip\": \"2020-05-04T23:15:00.000Z\"}, \"ns2:DynamischeVertrekStaat\": {\"ns2:RitId\": \"37698\", \"ns2:RitDatum\": \"2020-05-04\", \"ns2:RitStation\": {\"ns2:StationCode\": \"RD\", \"ns2:Type\": \"0\", \"ns2:KorteNaam\": \"Roodeschl\", \"ns2:MiddelNaam\": \"Roodeschool\", \"ns2:LangeNaam\": \"Roodeschool\", \"ns2:UICCode\": \"8400525\"}, \"ns2:Trein\": {\"ns2:TreinNummer\": \"37698\", \"ns2:TreinSoort\": {\"@Code\": \"ST\", \"#text\": \"Stoptrein\"}, \"ns2:TreinFormule\": \"1\", \"ns2:TreinStatus\": \"5\", \"ns2:Vervoerder\": \"Arriva\", \"ns2:Reserveren\": \"N\", \"ns2:Toeslag\": \"N\", \"ns2:NietInstappen\": \"N\", \"ns2:AchterBlijvenAchtersteTreinDeel\": \"N\", \"ns2:RangeerBeweging\": \"N\", \"ns2:SpeciaalKaartje\": \"N\", \"ns2:ReisTip\": {\"ns2:ReisTipStation\": [{\"ns2:StationCode\": \"UHM\", \"ns2:Type\": \"0\", \"ns2:KorteNaam\": \"Uithuizerm\", \"ns2:MiddelNaam\": \"Uithuizermeeden\", \"ns2:LangeNaam\": \"Uithuizermeeden\", \"ns2:UICCode\": \"8400618\"}, {\"ns2:StationCode\": \"UHZ\", \"ns2:Type\": \"0\", \"ns2:KorteNaam\": \"Uithuizen\", \"ns2:MiddelNaam\": \"Uithuizen\", \"ns2:LangeNaam\": \"Uithuizen\", \"ns2:UICCode\": \"8400617\"}, {\"ns2:StationCode\": \"UST\", \"ns2:Type\": \"0\", \"ns2:KorteNaam\": \"Usquert\", \"ns2:MiddelNaam\": \"Usquert\", \"ns2:LangeNaam\": \"Usquert\", \"ns2:UICCode\": \"8400619\"}], \"ns2:ReisTipCode\": \"STNS\", \"ns2:PresentatieReisTip\": {\"ns2:Uitingen\": [{\"@Taal\": \"nl\", \"ns2:Uiting\": {\"@Prioriteit\": \"2\", \"#text\": \"Stopt niet in Uithuizermeeden, Uithuizen, Usquert\"}}, {\"@Taal\": \"en\", \"ns2:Uiting\": {\"@Prioriteit\": \"2\", \"#text\": \"Not stopping in Uithuizermeeden, Uithuizen, Usquert\"}}]}}, \"ns2:TreinEindBestemming\": [{\"@InfoStatus\": \"Gepland\", \"ns2:StationCode\": \"GN\", \"ns2:Type\": \"5\", \"ns2:KorteNaam\": \"Groningen\", \"ns2:MiddelNaam\": \"Groningen\", \"ns2:LangeNaam\": \"Groningen\", \"ns2:UICCode\": \"8400263\"}, {\"@InfoStatus\": \"Actueel\", \"ns2:StationCode\": \"GN\", \"ns2:Type\": \"5\", \"ns2:KorteNaam\": \"Groningen\", \"ns2:MiddelNaam\": \"Groningen\", \"ns2:LangeNaam\": \"Groningen\", \"ns2:UICCode\": \"8400263\"}], \"ns2:PresentatieTreinEindBestemming\": {\"ns2:Uitingen\": {\"ns2:Uiting\": \"Groningen\"}}, \"ns2:VertrekTijd\": [{\"@InfoStatus\": \"Gepland\", \"#text\": \"2020-05-04T23:15:00.000Z\"}, {\"@InfoStatus\": \"Actueel\", \"#text\": \"2020-05-04T23:15:00.000Z\"}], \"ns2:ExacteVertrekVertraging\": \"PT0S\", \"ns2:GedempteVertrekVertraging\": \"PT0S\", \"ns2:TreinVertrekSpoor\": [{\"@InfoStatus\": \"Gepland\", \"ns2:SpoorNummer\": \"1\"}, {\"@InfoStatus\": \"Actueel\", \"ns2:SpoorNummer\": \"1\"}], \"ns2:PresentatieTreinVertrekSpoor\": {\"ns2:Uitingen\": {\"ns2:Uiting\": \"1\"}}, \"ns2:VertrekRichting\": \"A\", \"ns2:AfstandPerronEindKopVertrekTrein\": \"0\", \"ns2:TreinVleugel\": {\"ns2:TreinVleugelVertrekSpoor\": [{\"@InfoStatus\": \"Gepland\", \"ns2:SpoorNummer\": \"1\"}, {\"@InfoStatus\": \"Actueel\", \"ns2:SpoorNummer\": \"1\"}], \"ns2:PresentatieTreinVleugelVertrekSpoor\": {\"ns2:Uitingen\": {\"ns2:Uiting\": \"1\"}}, \"ns2:TreinVleugelEindBestemming\": [{\"@InfoStatus\": \"Gepland\", \"ns2:StationCode\": \"GN\", \"ns2:Type\": \"5\", \"ns2:KorteNaam\": \"Groningen\", \"ns2:MiddelNaam\": \"Groningen\", \"ns2:LangeNaam\": \"Groningen\", \"ns2:UICCode\": \"8400263\"}, {\"@InfoStatus\": \"Actueel\", \"ns2:StationCode\": \"GN\", \"ns2:Type\": \"5\", \"ns2:KorteNaam\": \"Groningen\", \"ns2:MiddelNaam\": \"Groningen\", \"ns2:LangeNaam\": \"Groningen\", \"ns2:UICCode\": \"8400263\"}], \"ns2:PresentatieTreinVleugelEindBestemming\": {\"ns2:Uitingen\": {\"ns2:Uiting\": \"Groningen\"}}, \"ns2:StopStations\": [{\"@InfoStatus\": \"Gepland\", \"ns2:Station\": [{\"ns2:StationCode\": \"WFM\", \"ns2:Type\": \"0\", \"ns2:KorteNaam\": \"Warffum\", \"ns2:MiddelNaam\": \"Warffum\", \"ns2:LangeNaam\": \"Warffum\", \"ns2:UICCode\": \"8400679\"}, {\"ns2:StationCode\": \"WSM\", \"ns2:Type\": \"0\", \"ns2:KorteNaam\": \"Winsum\", \"ns2:MiddelNaam\": \"Winsum\", \"ns2:LangeNaam\": \"Winsum\", \"ns2:UICCode\": \"8400697\"}, {\"ns2:StationCode\": \"SWD\", \"ns2:Type\": \"0\", \"ns2:KorteNaam\": \"Sauwerd\", \"ns2:MiddelNaam\": \"Sauwerd\", \"ns2:LangeNaam\": \"Sauwerd\", \"ns2:UICCode\": \"8400547\"}, {\"ns2:StationCode\": \"GNN\", \"ns2:Type\": \"0\", \"ns2:KorteNaam\": \"Groningn N\", \"ns2:MiddelNaam\": \"Groningen N.\", \"ns2:LangeNaam\": \"Groningen Noord\", \"ns2:UICCode\": \"8400264\"}, {\"ns2:StationCode\": \"GN\", \"ns2:Type\": \"5\", \"ns2:KorteNaam\": \"Groningen\", \"ns2:MiddelNaam\": \"Groningen\", \"ns2:LangeNaam\": \"Groningen\", \"ns2:UICCode\": \"8400263\"}]}, {\"@InfoStatus\": \"Actueel\", \"ns2:Station\": [{\"ns2:StationCode\": \"WFM\", \"ns2:Type\": \"0\", \"ns2:KorteNaam\": \"Warffum\", \"ns2:MiddelNaam\": \"Warffum\", \"ns2:LangeNaam\": \"Warffum\", \"ns2:UICCode\": \"8400679\"}, {\"ns2:StationCode\": \"WSM\", \"ns2:Type\": \"0\", \"ns2:KorteNaam\": \"Winsum\", \"ns2:MiddelNaam\": \"Winsum\", \"ns2:LangeNaam\": \"Winsum\", \"ns2:UICCode\": \"8400697\"}, {\"ns2:StationCode\": \"SWD\", \"ns2:Type\": \"0\", \"ns2:KorteNaam\": \"Sauwerd\", \"ns2:MiddelNaam\": \"Sauwerd\", \"ns2:LangeNaam\": \"Sauwerd\", \"ns2:UICCode\": \"8400547\"}, {\"ns2:StationCode\": \"GNN\", \"ns2:Type\": \"0\", \"ns2:KorteNaam\": \"Groningn N\", \"ns2:MiddelNaam\": \"Groningen N.\", \"ns2:LangeNaam\": \"Groningen Noord\", \"ns2:UICCode\": \"8400264\"}, {\"ns2:StationCode\": \"GN\", \"ns2:Type\": \"5\", \"ns2:KorteNaam\": \"Groningen\", \"ns2:MiddelNaam\": \"Groningen\", \"ns2:LangeNaam\": \"Groningen\", \"ns2:UICCode\": \"8400263\"}]}], \"ns2:MaterieelDeelDVS\": {\"ns2:MaterieelSoort\": \"GTW-D-ARR\", \"ns2:MaterieelAanduiding\": \"2/6\", \"ns2:MaterieelLengte\": \"4100\", \"ns2:MaterieelDeelEindBestemming\": [{\"@InfoStatus\": \"Gepland\", \"ns2:StationCode\": \"GN\", \"ns2:Type\": \"5\", \"ns2:KorteNaam\": \"Groningen\", \"ns2:MiddelNaam\": \"Groningen\", \"ns2:LangeNaam\": \"Groningen\", \"ns2:UICCode\": \"8400263\"}, {\"@InfoStatus\": \"Actueel\", \"ns2:StationCode\": \"GN\", \"ns2:Type\": \"5\", \"ns2:KorteNaam\": \"Groningen\", \"ns2:MiddelNaam\": \"Groningen\", \"ns2:LangeNaam\": \"Groningen\", \"ns2:UICCode\": \"8400263\"}], \"ns2:PresentatieMaterieelDeelEindBestemming\": {\"ns2:Uitingen\": {\"ns2:Uiting\": \"Groningen\"}}}}, \"ns2:Wijziging\": {\"ns2:WijzigingType\": \"40\"}}, \"ns2:PresentatieOpmerkingen\": {\"ns2:Uitingen\": [{\"@Taal\": \"nl\", \"ns2:Uiting\": {\"@Prioriteit\": \"8\", \"@ReferentieType\": \"ReisTip\", \"@ReferentieWaarde\": \"STNS\", \"#text\": \"Stopt niet in Uithuizermeeden, Uithuizen, Usquert\"}}, {\"@Taal\": \"en\", \"ns2:Uiting\": {\"@Prioriteit\": \"8\", \"@ReferentieType\": \"ReisTip\", \"@ReferentieWaarde\": \"STNS\", \"#text\": \"Not stopping in Uithuizermeeden, Uithuizen, Usquert\"}}]}}}}}')\n",
      "(None, u'{\"ns1:PutReisInformatieBoodschapIn\": {\"@xmlns:ns1\": \"urn:ndov:cdm:trein:reisinformatie:messages:5\", \"@xmlns:ns2\": \"urn:ndov:cdm:trein:reisinformatie:data:4\", \"ns2:ReisInformatieProductDVS\": {\"@TimeStamp\": \"2020-05-04T23:15:45.097Z\", \"@Versie\": \"6.2\", \"ns2:RIPAdministratie\": {\"ns2:ReisInformatieProductID\": \"2005050115452500001\", \"ns2:AbonnementId\": \"54\", \"ns2:ReisInformatieTijdstip\": \"2020-05-04T23:15:00.000Z\"}, \"ns2:DynamischeVertrekStaat\": {\"ns2:RitId\": \"8685\", \"ns2:RitDatum\": \"2020-05-04\", \"ns2:RitStation\": {\"ns2:StationCode\": \"BSKS\", \"ns2:Type\": \"0\", \"ns2:KorteNaam\": \"Snijdelwk\", \"ns2:MiddelNaam\": \"Snijdelwijk\", \"ns2:LangeNaam\": \"Boskoop Snijdelwijk\", \"ns2:UICCode\": \"8400126\"}, \"ns2:Trein\": {\"ns2:TreinNummer\": \"8685\", \"ns2:TreinSoort\": {\"@Code\": \"SPR\", \"#text\": \"Sprinter\"}, \"ns2:TreinFormule\": \"1\", \"ns2:TreinStatus\": \"2\", \"ns2:Vervoerder\": \"R-net\", \"ns2:Reserveren\": \"N\", \"ns2:Toeslag\": \"N\", \"ns2:NietInstappen\": \"N\", \"ns2:AchterBlijvenAchtersteTreinDeel\": \"N\", \"ns2:RangeerBeweging\": \"N\", \"ns2:SpeciaalKaartje\": \"N\", \"ns2:TreinEindBestemming\": [{\"@InfoStatus\": \"Gepland\", \"ns2:StationCode\": \"GD\", \"ns2:Type\": \"5\", \"ns2:KorteNaam\": \"Gouda\", \"ns2:MiddelNaam\": \"Gouda\", \"ns2:LangeNaam\": \"Gouda\", \"ns2:UICCode\": \"8400258\"}, {\"@InfoStatus\": \"Actueel\", \"ns2:StationCode\": \"GD\", \"ns2:Type\": \"5\", \"ns2:KorteNaam\": \"Gouda\", \"ns2:MiddelNaam\": \"Gouda\", \"ns2:LangeNaam\": \"Gouda\", \"ns2:UICCode\": \"8400258\"}], \"ns2:PresentatieTreinEindBestemming\": {\"ns2:Uitingen\": {\"ns2:Uiting\": \"Gouda\"}}, \"ns2:VertrekTijd\": [{\"@InfoStatus\": \"Gepland\", \"#text\": \"2020-05-04T23:15:00.000Z\"}, {\"@InfoStatus\": \"Actueel\", \"#text\": \"2020-05-04T23:15:37.000Z\"}], \"ns2:ExacteVertrekVertraging\": \"PT37S\", \"ns2:GedempteVertrekVertraging\": \"PT0S\", \"ns2:TreinVertrekSpoor\": [{\"@InfoStatus\": \"Gepland\", \"ns2:SpoorNummer\": \"1\"}, {\"@InfoStatus\": \"Actueel\", \"ns2:SpoorNummer\": \"1\"}], \"ns2:PresentatieTreinVertrekSpoor\": {\"ns2:Uitingen\": {\"ns2:Uiting\": \"1\"}}, \"ns2:VertrekRichting\": \"B\", \"ns2:AfstandPerronEindKopVertrekTrein\": \"0\", \"ns2:TreinVleugel\": {\"ns2:TreinVleugelVertrekSpoor\": [{\"@InfoStatus\": \"Gepland\", \"ns2:SpoorNummer\": \"1\"}, {\"@InfoStatus\": \"Actueel\", \"ns2:SpoorNummer\": \"1\"}], \"ns2:PresentatieTreinVleugelVertrekSpoor\": {\"ns2:Uitingen\": {\"ns2:Uiting\": \"1\"}}, \"ns2:TreinVleugelEindBestemming\": [{\"@InfoStatus\": \"Gepland\", \"ns2:StationCode\": \"GD\", \"ns2:Type\": \"5\", \"ns2:KorteNaam\": \"Gouda\", \"ns2:MiddelNaam\": \"Gouda\", \"ns2:LangeNaam\": \"Gouda\", \"ns2:UICCode\": \"8400258\"}, {\"@InfoStatus\": \"Actueel\", \"ns2:StationCode\": \"GD\", \"ns2:Type\": \"5\", \"ns2:KorteNaam\": \"Gouda\", \"ns2:MiddelNaam\": \"Gouda\", \"ns2:LangeNaam\": \"Gouda\", \"ns2:UICCode\": \"8400258\"}], \"ns2:PresentatieTreinVleugelEindBestemming\": {\"ns2:Uitingen\": {\"ns2:Uiting\": \"Gouda\"}}, \"ns2:StopStations\": [{\"@InfoStatus\": \"Gepland\", \"ns2:Station\": [{\"ns2:StationCode\": \"WADN\", \"ns2:Type\": \"0\", \"ns2:KorteNaam\": \"Waddinxv N\", \"ns2:MiddelNaam\": \"Waddinxveen N.\", \"ns2:LangeNaam\": \"Waddinxveen Noord\", \"ns2:UICCode\": \"8400674\"}, {\"ns2:StationCode\": \"WAD\", \"ns2:Type\": \"0\", \"ns2:KorteNaam\": \"Waddinxvn\", \"ns2:MiddelNaam\": \"Waddinxveen\", \"ns2:LangeNaam\": \"Waddinxveen\", \"ns2:UICCode\": \"8400675\"}, {\"ns2:StationCode\": \"WADT\", \"ns2:Type\": \"0\", \"ns2:KorteNaam\": \"Triangel\", \"ns2:MiddelNaam\": \"Triangel\", \"ns2:LangeNaam\": \"Waddinxveen Triangel\", \"ns2:UICCode\": \"8400677\"}, {\"ns2:StationCode\": \"GD\", \"ns2:Type\": \"5\", \"ns2:KorteNaam\": \"Gouda\", \"ns2:MiddelNaam\": \"Gouda\", \"ns2:LangeNaam\": \"Gouda\", \"ns2:UICCode\": \"8400258\"}]}, {\"@InfoStatus\": \"Actueel\", \"ns2:Station\": [{\"ns2:StationCode\": \"WADN\", \"ns2:Type\": \"0\", \"ns2:KorteNaam\": \"Waddinxv N\", \"ns2:MiddelNaam\": \"Waddinxveen N.\", \"ns2:LangeNaam\": \"Waddinxveen Noord\", \"ns2:UICCode\": \"8400674\"}, {\"ns2:StationCode\": \"WAD\", \"ns2:Type\": \"0\", \"ns2:KorteNaam\": \"Waddinxvn\", \"ns2:MiddelNaam\": \"Waddinxveen\", \"ns2:LangeNaam\": \"Waddinxveen\", \"ns2:UICCode\": \"8400675\"}, {\"ns2:StationCode\": \"WADT\", \"ns2:Type\": \"0\", \"ns2:KorteNaam\": \"Triangel\", \"ns2:MiddelNaam\": \"Triangel\", \"ns2:LangeNaam\": \"Waddinxveen Triangel\", \"ns2:UICCode\": \"8400677\"}, {\"ns2:StationCode\": \"GD\", \"ns2:Type\": \"5\", \"ns2:KorteNaam\": \"Gouda\", \"ns2:MiddelNaam\": \"Gouda\", \"ns2:LangeNaam\": \"Gouda\", \"ns2:UICCode\": \"8400258\"}]}], \"ns2:MaterieelDeelDVS\": {\"ns2:MaterieelSoort\": \"FLIRT TAG\", \"ns2:MaterieelAanduiding\": \"2\", \"ns2:MaterieelLengte\": \"4570\", \"ns2:MaterieelNummer\": \"000000-02010-0\", \"ns2:MaterieelDeelEindBestemming\": [{\"@InfoStatus\": \"Gepland\", \"ns2:StationCode\": \"GD\", \"ns2:Type\": \"5\", \"ns2:KorteNaam\": \"Gouda\", \"ns2:MiddelNaam\": \"Gouda\", \"ns2:LangeNaam\": \"Gouda\", \"ns2:UICCode\": \"8400258\"}, {\"@InfoStatus\": \"Actueel\", \"ns2:StationCode\": \"GD\", \"ns2:Type\": \"5\", \"ns2:KorteNaam\": \"Gouda\", \"ns2:MiddelNaam\": \"Gouda\", \"ns2:LangeNaam\": \"Gouda\", \"ns2:UICCode\": \"8400258\"}], \"ns2:PresentatieMaterieelDeelEindBestemming\": {\"ns2:Uitingen\": {\"ns2:Uiting\": \"Gouda\"}}}}, \"ns2:Wijziging\": {\"ns2:WijzigingType\": \"10\", \"ns2:PresentatieWijziging\": {\"ns2:Uitingen\": [{\"@Taal\": \"nl\", \"ns2:Uiting\": {\"@Prioriteit\": \"10\", \"#text\": \"Later vertrek\"}}, {\"@Taal\": \"en\", \"ns2:Uiting\": {\"@Prioriteit\": \"10\", \"#text\": \"Delayed\"}}]}}}, \"ns2:PresentatieOpmerkingen\": {\"ns2:Uitingen\": [{\"@Taal\": \"nl\", \"ns2:Uiting\": {\"@Prioriteit\": \"20\", \"@ReferentieType\": \"Wijziging\", \"@ReferentieWaarde\": \"10\", \"#text\": \"Later vertrek\"}}, {\"@Taal\": \"en\", \"ns2:Uiting\": {\"@Prioriteit\": \"20\", \"@ReferentieType\": \"Wijziging\", \"@ReferentieWaarde\": \"10\", \"#text\": \"Delayed\"}}]}}}}}')\n",
      "..."
     ]
    }
   ],
   "source": [
    "ssc.stop(stopSparkContext=False)"
   ]
  },
  {
   "cell_type": "markdown",
   "metadata": {},
   "source": [
    "You will need to adjust the batch interval (10 seconds here) in accordance with the processing times. Use the spark UI to check if batches are not accumulating."
   ]
  },
  {
   "cell_type": "markdown",
   "metadata": {},
   "source": [
    "---"
   ]
  },
  {
   "cell_type": "markdown",
   "metadata": {},
   "source": [
    "# Part III - Live stopping time (20 points / 50)"
   ]
  },
  {
   "cell_type": "markdown",
   "metadata": {},
   "source": [
    "In this part, we will have a look at the two other streams, namely `ndovloketnl-arrivals` and `ndovloketnl-departures`. Each time a train arrives at or leaves a station, a message is generated. Let's have a look at the content."
   ]
  },
  {
   "cell_type": "code",
   "execution_count": 11,
   "metadata": {
    "scrolled": true
   },
   "outputs": [
    {
     "data": {
      "application/vnd.jupyter.widget-view+json": {
       "model_id": "",
       "version_major": 2,
       "version_minor": 0
      },
      "text/plain": [
       "FloatProgress(value=0.0, bar_style='info', description='Progress:', layout=Layout(height='25px', width='50%'),…"
      ]
     },
     "metadata": {},
     "output_type": "display_data"
    },
    {
     "name": "stdout",
     "output_type": "stream",
     "text": [
      "{\n",
      "  \"ns1:PutReisInformatieBoodschapIn\": {\n",
      "    \"@xmlns:ns1\": \"urn:ndov:cdm:trein:reisinformatie:messages:dynamischeaankomststaat:1\", \n",
      "    \"@xmlns:ns2\": \"urn:ndov:cdm:trein:reisinformatie:data:4\", \n",
      "    \"ns2:ReisInformatieProductDAS\": {\n",
      "      \"ns2:RIPAdministratie\": {\n",
      "        \"ns2:ReisInformatieTijdstip\": \"2020-04-17T10:54:00.000Z\", \n",
      "        \"ns2:ReisInformatieProductID\": \"2004171254422300001\", \n",
      "        \"ns2:AbonnementId\": \"55\"\n",
      "      }, \n",
      "      \"@TimeStamp\": \"2020-04-17T10:54:42.098Z\", \n",
      "      \"@Versie\": \"6.1\", \n",
      "      \"ns2:DynamischeAankomstStaat\": {\n",
      "        \"ns2:RitId\": \"6945\", \n",
      "        \"ns2:RitStation\": {\n",
      "          \"ns2:LangeNaam\": \"Utrecht Vaartsche Rijn\", \n",
      "          \"ns2:MiddelNaam\": \"Vaartsche Rijn\", \n",
      "          \"ns2:StationCode\": \"UTVR\", \n",
      "          \"ns2:Type\": \"1\", \n",
      "          \"ns2:UICCode\": \"8400606\", \n",
      "          \"ns2:KorteNaam\": \"VaartscheR\"\n",
      "        }, \n",
      "        \"ns2:TreinAankomst\": {\n",
      "          \"ns2:TreinHerkomst\": [\n",
      "            {\n",
      "              \"ns2:LangeNaam\": \"Den Haag Centraal\", \n",
      "              \"@InfoStatus\": \"Gepland\", \n",
      "              \"ns2:MiddelNaam\": \"Den Haag C.\", \n",
      "              \"ns2:StationCode\": \"GVC\", \n",
      "              \"ns2:Type\": \"6\", \n",
      "              \"ns2:UICCode\": \"8400282\", \n",
      "              \"ns2:KorteNaam\": \"Den Haag C\"\n",
      "            }, \n",
      "            {\n",
      "              \"ns2:LangeNaam\": \"Den Haag Centraal\", \n",
      "              \"@InfoStatus\": \"Actueel\", \n",
      "              \"ns2:MiddelNaam\": \"Den Haag C.\", \n",
      "              \"ns2:StationCode\": \"GVC\", \n",
      "              \"ns2:Type\": \"6\", \n",
      "              \"ns2:UICCode\": \"8400282\", \n",
      "              \"ns2:KorteNaam\": \"Den Haag C\"\n",
      "            }\n",
      "          ], \n",
      "          \"ns2:TreinSoort\": {\n",
      "            \"@Code\": \"SPR\", \n",
      "            \"#text\": \"Sprinter\"\n",
      "          }, \n",
      "          \"ns2:WijzigingHerkomst\": {\n",
      "            \"ns2:WijzigingType\": \"40\"\n",
      "          }, \n",
      "          \"ns2:VerkorteRouteHerkomst\": [\n",
      "            {\n",
      "              \"ns2:Station\": [\n",
      "                {\n",
      "                  \"ns2:LangeNaam\": \"Zoetermeer\", \n",
      "                  \"ns2:MiddelNaam\": \"Zoetermeer\", \n",
      "                  \"ns2:StationCode\": \"ZTM\", \n",
      "                  \"ns2:Type\": \"1\", \n",
      "                  \"ns2:UICCode\": \"8400741\", \n",
      "                  \"ns2:KorteNaam\": \"Zoetermeer\"\n",
      "                }, \n",
      "                {\n",
      "                  \"ns2:LangeNaam\": \"Gouda\", \n",
      "                  \"ns2:MiddelNaam\": \"Gouda\", \n",
      "                  \"ns2:StationCode\": \"GD\", \n",
      "                  \"ns2:Type\": \"5\", \n",
      "                  \"ns2:UICCode\": \"8400258\", \n",
      "                  \"ns2:KorteNaam\": \"Gouda\"\n",
      "                }, \n",
      "                {\n",
      "                  \"ns2:LangeNaam\": \"Woerden\", \n",
      "                  \"ns2:MiddelNaam\": \"Woerden\", \n",
      "                  \"ns2:StationCode\": \"WD\", \n",
      "                  \"ns2:Type\": \"1\", \n",
      "                  \"ns2:UICCode\": \"8400702\", \n",
      "                  \"ns2:KorteNaam\": \"Woerden\"\n",
      "                }, \n",
      "                {\n",
      "                  \"ns2:LangeNaam\": \"Utrecht Centraal\", \n",
      "                  \"ns2:MiddelNaam\": \"Utrecht C.\", \n",
      "                  \"ns2:StationCode\": \"UT\", \n",
      "                  \"ns2:Type\": \"6\", \n",
      "                  \"ns2:UICCode\": \"8400621\", \n",
      "                  \"ns2:KorteNaam\": \"Utrecht C\"\n",
      "                }\n",
      "              ], \n",
      "              \"@InfoStatus\": \"Gepland\"\n",
      "            }, \n",
      "            {\n",
      "              \"ns2:Station\": [\n",
      "                {\n",
      "                  \"ns2:LangeNaam\": \"Zoetermeer\", \n",
      "                  \"ns2:MiddelNaam\": \"Zoetermeer\", \n",
      "                  \"ns2:StationCode\": \"ZTM\", \n",
      "                  \"ns2:Type\": \"1\", \n",
      "                  \"ns2:UICCode\": \"8400741\", \n",
      "                  \"ns2:KorteNaam\": \"Zoetermeer\"\n",
      "                }, \n",
      "                {\n",
      "                  \"ns2:LangeNaam\": \"Gouda\", \n",
      "                  \"ns2:MiddelNaam\": \"Gouda\", \n",
      "                  \"ns2:StationCode\": \"GD\", \n",
      "                  \"ns2:Type\": \"5\", \n",
      "                  \"ns2:UICCode\": \"8400258\", \n",
      "                  \"ns2:KorteNaam\": \"Gouda\"\n",
      "                }, \n",
      "                {\n",
      "                  \"ns2:LangeNaam\": \"Woerden\", \n",
      "                  \"ns2:MiddelNaam\": \"Woerden\", \n",
      "                  \"ns2:StationCode\": \"WD\", \n",
      "                  \"ns2:Type\": \"1\", \n",
      "                  \"ns2:UICCode\": \"8400702\", \n",
      "                  \"ns2:KorteNaam\": \"Woerden\"\n",
      "                }, \n",
      "                {\n",
      "                  \"ns2:LangeNaam\": \"Utrecht Centraal\", \n",
      "                  \"ns2:MiddelNaam\": \"Utrecht C.\", \n",
      "                  \"ns2:StationCode\": \"UT\", \n",
      "                  \"ns2:Type\": \"6\", \n",
      "                  \"ns2:UICCode\": \"8400621\", \n",
      "                  \"ns2:KorteNaam\": \"Utrecht C\"\n",
      "                }\n",
      "              ], \n",
      "              \"@InfoStatus\": \"Actueel\"\n",
      "            }\n",
      "          ], \n",
      "          \"ns2:PresentatieTreinAankomstSpoor\": {\n",
      "            \"ns2:Uitingen\": {\n",
      "              \"ns2:Uiting\": \"4\"\n",
      "            }\n",
      "          }, \n",
      "          \"ns2:TreinStatus\": \"5\", \n",
      "          \"ns2:PresentatieVerkorteRouteHerkomst\": {\n",
      "            \"ns2:Uitingen\": {\n",
      "              \"ns2:Uiting\": \"Zoetermeer, Gouda, Woerden, Utrecht C.\"\n",
      "            }\n",
      "          }, \n",
      "          \"ns2:AankomstTijd\": [\n",
      "            {\n",
      "              \"@InfoStatus\": \"Gepland\", \n",
      "              \"#text\": \"2020-04-17T10:54:00.000Z\"\n",
      "            }, \n",
      "            {\n",
      "              \"@InfoStatus\": \"Actueel\", \n",
      "              \"#text\": \"2020-04-17T10:54:00.000Z\"\n",
      "            }\n",
      "          ], \n",
      "          \"ns2:TreinNummer\": \"6945\", \n",
      "          \"ns2:TreinAankomstSpoor\": [\n",
      "            {\n",
      "              \"@InfoStatus\": \"Gepland\", \n",
      "              \"ns2:SpoorNummer\": \"4\"\n",
      "            }, \n",
      "            {\n",
      "              \"@InfoStatus\": \"Actueel\", \n",
      "              \"ns2:SpoorNummer\": \"4\"\n",
      "            }\n",
      "          ], \n",
      "          \"ns2:PresentatieTreinHerkomst\": {\n",
      "            \"ns2:Uitingen\": {\n",
      "              \"ns2:Uiting\": \"Den Haag C.\"\n",
      "            }\n",
      "          }, \n",
      "          \"ns2:GedempteAankomstVertraging\": \"PT0S\", \n",
      "          \"ns2:ExacteAankomstVertraging\": \"PT0S\", \n",
      "          \"ns2:Vervoerder\": \"NS\"\n",
      "        }, \n",
      "        \"ns2:RitDatum\": \"2020-04-17\"\n",
      "      }\n",
      "    }\n",
      "  }\n",
      "}"
     ]
    }
   ],
   "source": [
    "import json\n",
    "from pykafka.common import OffsetType\n",
    "\n",
    "example_arrivals = client.topics[b'ndovloketnl-arrivals'].get_simple_consumer(\n",
    "    auto_offset_reset=OffsetType.EARLIEST,\n",
    "    reset_offset_on_start=True\n",
    ").consume()\n",
    "print(json.dumps(json.loads(example_arrivals.value), indent=2))"
   ]
  },
  {
   "cell_type": "code",
   "execution_count": 12,
   "metadata": {
    "scrolled": true
   },
   "outputs": [
    {
     "data": {
      "application/vnd.jupyter.widget-view+json": {
       "model_id": "",
       "version_major": 2,
       "version_minor": 0
      },
      "text/plain": [
       "FloatProgress(value=0.0, bar_style='info', description='Progress:', layout=Layout(height='25px', width='50%'),…"
      ]
     },
     "metadata": {},
     "output_type": "display_data"
    },
    {
     "name": "stdout",
     "output_type": "stream",
     "text": [
      "{\n",
      "  \"ns1:PutReisInformatieBoodschapIn\": {\n",
      "    \"@xmlns:ns1\": \"urn:ndov:cdm:trein:reisinformatie:messages:5\", \n",
      "    \"ns2:ReisInformatieProductDVS\": {\n",
      "      \"ns2:RIPAdministratie\": {\n",
      "        \"ns2:ReisInformatieTijdstip\": \"2020-04-23T15:32:00.000Z\", \n",
      "        \"ns2:ReisInformatieProductID\": \"2004231730412200003\", \n",
      "        \"ns2:AbonnementId\": \"54\"\n",
      "      }, \n",
      "      \"@TimeStamp\": \"2020-04-23T15:30:41.815Z\", \n",
      "      \"@Versie\": \"6.2\", \n",
      "      \"ns2:DynamischeVertrekStaat\": {\n",
      "        \"ns2:RitId\": \"7363\", \n",
      "        \"ns2:RitStation\": {\n",
      "          \"ns2:LangeNaam\": \"Maarssen\", \n",
      "          \"ns2:MiddelNaam\": \"Maarssen\", \n",
      "          \"ns2:StationCode\": \"MAS\", \n",
      "          \"ns2:Type\": \"0\", \n",
      "          \"ns2:UICCode\": \"8400419\", \n",
      "          \"ns2:KorteNaam\": \"Maarssen\"\n",
      "        }, \n",
      "        \"ns2:RitDatum\": \"2020-04-23\", \n",
      "        \"ns2:Trein\": {\n",
      "          \"ns2:VertrekRichting\": \"B\", \n",
      "          \"ns2:VertrekTijd\": [\n",
      "            {\n",
      "              \"@InfoStatus\": \"Gepland\", \n",
      "              \"#text\": \"2020-04-23T15:32:00.000Z\"\n",
      "            }, \n",
      "            {\n",
      "              \"@InfoStatus\": \"Actueel\", \n",
      "              \"#text\": \"2020-04-23T15:32:00.000Z\"\n",
      "            }\n",
      "          ], \n",
      "          \"ns2:RangeerBeweging\": \"N\", \n",
      "          \"ns2:PresentatieTreinVertrekSpoor\": {\n",
      "            \"ns2:Uitingen\": {\n",
      "              \"ns2:Uiting\": \"3\"\n",
      "            }\n",
      "          }, \n",
      "          \"ns2:NietInstappen\": \"N\", \n",
      "          \"ns2:PresentatieVerkorteRoute\": {\n",
      "            \"ns2:Uitingen\": {\n",
      "              \"ns2:Uiting\": \"Utrecht C., Vaartsche Rijn, Driebergen-Zeist, Maarn\"\n",
      "            }\n",
      "          }, \n",
      "          \"ns2:TreinStatus\": \"2\", \n",
      "          \"ns2:TreinNummer\": \"7363\", \n",
      "          \"ns2:ExacteVertrekVertraging\": \"PT0S\", \n",
      "          \"ns2:Wijziging\": {\n",
      "            \"ns2:WijzigingType\": \"40\"\n",
      "          }, \n",
      "          \"ns2:TreinVleugel\": {\n",
      "            \"ns2:PresentatieTreinVleugelVertrekSpoor\": {\n",
      "              \"ns2:Uitingen\": {\n",
      "                \"ns2:Uiting\": \"3\"\n",
      "              }\n",
      "            }, \n",
      "            \"ns2:TreinVleugelVertrekSpoor\": [\n",
      "              {\n",
      "                \"@InfoStatus\": \"Gepland\", \n",
      "                \"ns2:SpoorNummer\": \"3\"\n",
      "              }, \n",
      "              {\n",
      "                \"@InfoStatus\": \"Actueel\", \n",
      "                \"ns2:SpoorNummer\": \"3\"\n",
      "              }\n",
      "            ], \n",
      "            \"ns2:StopStations\": [\n",
      "              {\n",
      "                \"ns2:Station\": [\n",
      "                  {\n",
      "                    \"ns2:LangeNaam\": \"Utrecht Zuilen\", \n",
      "                    \"ns2:MiddelNaam\": \"Zuilen\", \n",
      "                    \"ns2:StationCode\": \"UTZL\", \n",
      "                    \"ns2:Type\": \"0\", \n",
      "                    \"ns2:UICCode\": \"8400613\", \n",
      "                    \"ns2:KorteNaam\": \"Zuilen\"\n",
      "                  }, \n",
      "                  {\n",
      "                    \"ns2:LangeNaam\": \"Utrecht Centraal\", \n",
      "                    \"ns2:MiddelNaam\": \"Utrecht C.\", \n",
      "                    \"ns2:StationCode\": \"UT\", \n",
      "                    \"ns2:Type\": \"6\", \n",
      "                    \"ns2:UICCode\": \"8400621\", \n",
      "                    \"ns2:KorteNaam\": \"Utrecht C\"\n",
      "                  }, \n",
      "                  {\n",
      "                    \"ns2:LangeNaam\": \"Utrecht Vaartsche Rijn\", \n",
      "                    \"ns2:MiddelNaam\": \"Vaartsche Rijn\", \n",
      "                    \"ns2:StationCode\": \"UTVR\", \n",
      "                    \"ns2:Type\": \"1\", \n",
      "                    \"ns2:UICCode\": \"8400606\", \n",
      "                    \"ns2:KorteNaam\": \"VaartscheR\"\n",
      "                  }, \n",
      "                  {\n",
      "                    \"ns2:LangeNaam\": \"Bunnik\", \n",
      "                    \"ns2:MiddelNaam\": \"Bunnik\", \n",
      "                    \"ns2:StationCode\": \"BNK\", \n",
      "                    \"ns2:Type\": \"0\", \n",
      "                    \"ns2:UICCode\": \"8400141\", \n",
      "                    \"ns2:KorteNaam\": \"Bunnik\"\n",
      "                  }, \n",
      "                  {\n",
      "                    \"ns2:LangeNaam\": \"Driebergen-Zeist\", \n",
      "                    \"ns2:MiddelNaam\": \"Driebergen-Zeist\", \n",
      "                    \"ns2:StationCode\": \"DB\", \n",
      "                    \"ns2:Type\": \"1\", \n",
      "                    \"ns2:UICCode\": \"8400182\", \n",
      "                    \"ns2:KorteNaam\": \"Driebergen\"\n",
      "                  }, \n",
      "                  {\n",
      "                    \"ns2:LangeNaam\": \"Maarn\", \n",
      "                    \"ns2:MiddelNaam\": \"Maarn\", \n",
      "                    \"ns2:StationCode\": \"MRN\", \n",
      "                    \"ns2:Type\": \"1\", \n",
      "                    \"ns2:UICCode\": \"8400417\", \n",
      "                    \"ns2:KorteNaam\": \"Maarn\"\n",
      "                  }, \n",
      "                  {\n",
      "                    \"ns2:LangeNaam\": \"Veenendaal West\", \n",
      "                    \"ns2:MiddelNaam\": \"Veenendaal W.\", \n",
      "                    \"ns2:StationCode\": \"VNDW\", \n",
      "                    \"ns2:Type\": \"0\", \n",
      "                    \"ns2:UICCode\": \"8400628\", \n",
      "                    \"ns2:KorteNaam\": \"Veenendl W\"\n",
      "                  }, \n",
      "                  {\n",
      "                    \"ns2:LangeNaam\": \"Veenendaal Centrum\", \n",
      "                    \"ns2:MiddelNaam\": \"Veenendaal C.\", \n",
      "                    \"ns2:StationCode\": \"VNDC\", \n",
      "                    \"ns2:Type\": \"1\", \n",
      "                    \"ns2:UICCode\": \"8400627\", \n",
      "                    \"ns2:KorteNaam\": \"Veenendl C\"\n",
      "                  }, \n",
      "                  {\n",
      "                    \"ns2:LangeNaam\": \"Rhenen\", \n",
      "                    \"ns2:MiddelNaam\": \"Rhenen\", \n",
      "                    \"ns2:StationCode\": \"RHN\", \n",
      "                    \"ns2:Type\": \"1\", \n",
      "                    \"ns2:UICCode\": \"8400517\", \n",
      "                    \"ns2:KorteNaam\": \"Rhenen\"\n",
      "                  }\n",
      "                ], \n",
      "                \"@InfoStatus\": \"Gepland\"\n",
      "              }, \n",
      "              {\n",
      "                \"ns2:Station\": [\n",
      "                  {\n",
      "                    \"ns2:LangeNaam\": \"Utrecht Zuilen\", \n",
      "                    \"ns2:MiddelNaam\": \"Zuilen\", \n",
      "                    \"ns2:StationCode\": \"UTZL\", \n",
      "                    \"ns2:Type\": \"0\", \n",
      "                    \"ns2:UICCode\": \"8400613\", \n",
      "                    \"ns2:KorteNaam\": \"Zuilen\"\n",
      "                  }, \n",
      "                  {\n",
      "                    \"ns2:LangeNaam\": \"Utrecht Centraal\", \n",
      "                    \"ns2:MiddelNaam\": \"Utrecht C.\", \n",
      "                    \"ns2:StationCode\": \"UT\", \n",
      "                    \"ns2:Type\": \"6\", \n",
      "                    \"ns2:UICCode\": \"8400621\", \n",
      "                    \"ns2:KorteNaam\": \"Utrecht C\"\n",
      "                  }, \n",
      "                  {\n",
      "                    \"ns2:LangeNaam\": \"Utrecht Vaartsche Rijn\", \n",
      "                    \"ns2:MiddelNaam\": \"Vaartsche Rijn\", \n",
      "                    \"ns2:StationCode\": \"UTVR\", \n",
      "                    \"ns2:Type\": \"1\", \n",
      "                    \"ns2:UICCode\": \"8400606\", \n",
      "                    \"ns2:KorteNaam\": \"VaartscheR\"\n",
      "                  }, \n",
      "                  {\n",
      "                    \"ns2:LangeNaam\": \"Bunnik\", \n",
      "                    \"ns2:MiddelNaam\": \"Bunnik\", \n",
      "                    \"ns2:StationCode\": \"BNK\", \n",
      "                    \"ns2:Type\": \"0\", \n",
      "                    \"ns2:UICCode\": \"8400141\", \n",
      "                    \"ns2:KorteNaam\": \"Bunnik\"\n",
      "                  }, \n",
      "                  {\n",
      "                    \"ns2:LangeNaam\": \"Driebergen-Zeist\", \n",
      "                    \"ns2:MiddelNaam\": \"Driebergen-Zeist\", \n",
      "                    \"ns2:StationCode\": \"DB\", \n",
      "                    \"ns2:Type\": \"1\", \n",
      "                    \"ns2:UICCode\": \"8400182\", \n",
      "                    \"ns2:KorteNaam\": \"Driebergen\"\n",
      "                  }, \n",
      "                  {\n",
      "                    \"ns2:LangeNaam\": \"Maarn\", \n",
      "                    \"ns2:MiddelNaam\": \"Maarn\", \n",
      "                    \"ns2:StationCode\": \"MRN\", \n",
      "                    \"ns2:Type\": \"1\", \n",
      "                    \"ns2:UICCode\": \"8400417\", \n",
      "                    \"ns2:KorteNaam\": \"Maarn\"\n",
      "                  }, \n",
      "                  {\n",
      "                    \"ns2:LangeNaam\": \"Veenendaal West\", \n",
      "                    \"ns2:MiddelNaam\": \"Veenendaal W.\", \n",
      "                    \"ns2:StationCode\": \"VNDW\", \n",
      "                    \"ns2:Type\": \"0\", \n",
      "                    \"ns2:UICCode\": \"8400628\", \n",
      "                    \"ns2:KorteNaam\": \"Veenendl W\"\n",
      "                  }, \n",
      "                  {\n",
      "                    \"ns2:LangeNaam\": \"Veenendaal Centrum\", \n",
      "                    \"ns2:MiddelNaam\": \"Veenendaal C.\", \n",
      "                    \"ns2:StationCode\": \"VNDC\", \n",
      "                    \"ns2:Type\": \"1\", \n",
      "                    \"ns2:UICCode\": \"8400627\", \n",
      "                    \"ns2:KorteNaam\": \"Veenendl C\"\n",
      "                  }, \n",
      "                  {\n",
      "                    \"ns2:LangeNaam\": \"Rhenen\", \n",
      "                    \"ns2:MiddelNaam\": \"Rhenen\", \n",
      "                    \"ns2:StationCode\": \"RHN\", \n",
      "                    \"ns2:Type\": \"1\", \n",
      "                    \"ns2:UICCode\": \"8400517\", \n",
      "                    \"ns2:KorteNaam\": \"Rhenen\"\n",
      "                  }\n",
      "                ], \n",
      "                \"@InfoStatus\": \"Actueel\"\n",
      "              }\n",
      "            ], \n",
      "            \"ns2:TreinVleugelEindBestemming\": [\n",
      "              {\n",
      "                \"ns2:LangeNaam\": \"Rhenen\", \n",
      "                \"@InfoStatus\": \"Gepland\", \n",
      "                \"ns2:MiddelNaam\": \"Rhenen\", \n",
      "                \"ns2:StationCode\": \"RHN\", \n",
      "                \"ns2:Type\": \"1\", \n",
      "                \"ns2:UICCode\": \"8400517\", \n",
      "                \"ns2:KorteNaam\": \"Rhenen\"\n",
      "              }, \n",
      "              {\n",
      "                \"ns2:LangeNaam\": \"Rhenen\", \n",
      "                \"@InfoStatus\": \"Actueel\", \n",
      "                \"ns2:MiddelNaam\": \"Rhenen\", \n",
      "                \"ns2:StationCode\": \"RHN\", \n",
      "                \"ns2:Type\": \"1\", \n",
      "                \"ns2:UICCode\": \"8400517\", \n",
      "                \"ns2:KorteNaam\": \"Rhenen\"\n",
      "              }\n",
      "            ], \n",
      "            \"ns2:MaterieelDeelDVS\": {\n",
      "              \"ns2:MaterieelLengte\": \"10050\", \n",
      "              \"ns2:MaterieelNummer\": \"000000-02656-0\", \n",
      "              \"ns2:PresentatieMaterieelDeelEindBestemming\": {\n",
      "                \"ns2:Uitingen\": {\n",
      "                  \"ns2:Uiting\": \"Rhenen\"\n",
      "                }\n",
      "              }, \n",
      "              \"ns2:MaterieelDeelEindBestemming\": [\n",
      "                {\n",
      "                  \"ns2:LangeNaam\": \"Rhenen\", \n",
      "                  \"@InfoStatus\": \"Gepland\", \n",
      "                  \"ns2:MiddelNaam\": \"Rhenen\", \n",
      "                  \"ns2:StationCode\": \"RHN\", \n",
      "                  \"ns2:Type\": \"1\", \n",
      "                  \"ns2:UICCode\": \"8400517\", \n",
      "                  \"ns2:KorteNaam\": \"Rhenen\"\n",
      "                }, \n",
      "                {\n",
      "                  \"ns2:LangeNaam\": \"Rhenen\", \n",
      "                  \"@InfoStatus\": \"Actueel\", \n",
      "                  \"ns2:MiddelNaam\": \"Rhenen\", \n",
      "                  \"ns2:StationCode\": \"RHN\", \n",
      "                  \"ns2:Type\": \"1\", \n",
      "                  \"ns2:UICCode\": \"8400517\", \n",
      "                  \"ns2:KorteNaam\": \"Rhenen\"\n",
      "                }\n",
      "              ], \n",
      "              \"ns2:MaterieelAanduiding\": \"6\", \n",
      "              \"ns2:MaterieelSoort\": \"SLT\"\n",
      "            }, \n",
      "            \"ns2:PresentatieTreinVleugelEindBestemming\": {\n",
      "              \"ns2:Uitingen\": {\n",
      "                \"ns2:Uiting\": \"Rhenen\"\n",
      "              }\n",
      "            }\n",
      "          }, \n",
      "          \"ns2:TreinEindBestemming\": [\n",
      "            {\n",
      "              \"ns2:LangeNaam\": \"Rhenen\", \n",
      "              \"@InfoStatus\": \"Gepland\", \n",
      "              \"ns2:MiddelNaam\": \"Rhenen\", \n",
      "              \"ns2:StationCode\": \"RHN\", \n",
      "              \"ns2:Type\": \"1\", \n",
      "              \"ns2:UICCode\": \"8400517\", \n",
      "              \"ns2:KorteNaam\": \"Rhenen\"\n",
      "            }, \n",
      "            {\n",
      "              \"ns2:LangeNaam\": \"Rhenen\", \n",
      "              \"@InfoStatus\": \"Actueel\", \n",
      "              \"ns2:MiddelNaam\": \"Rhenen\", \n",
      "              \"ns2:StationCode\": \"RHN\", \n",
      "              \"ns2:Type\": \"1\", \n",
      "              \"ns2:UICCode\": \"8400517\", \n",
      "              \"ns2:KorteNaam\": \"Rhenen\"\n",
      "            }\n",
      "          ], \n",
      "          \"ns2:AchterBlijvenAchtersteTreinDeel\": \"N\", \n",
      "          \"ns2:Reserveren\": \"N\", \n",
      "          \"ns2:AfstandPerronEindKopVertrekTrein\": \"0\", \n",
      "          \"ns2:VerkorteRoute\": [\n",
      "            {\n",
      "              \"ns2:Station\": [\n",
      "                {\n",
      "                  \"ns2:LangeNaam\": \"Utrecht Centraal\", \n",
      "                  \"ns2:MiddelNaam\": \"Utrecht C.\", \n",
      "                  \"ns2:StationCode\": \"UT\", \n",
      "                  \"ns2:Type\": \"6\", \n",
      "                  \"ns2:UICCode\": \"8400621\", \n",
      "                  \"ns2:KorteNaam\": \"Utrecht C\"\n",
      "                }, \n",
      "                {\n",
      "                  \"ns2:LangeNaam\": \"Utrecht Vaartsche Rijn\", \n",
      "                  \"ns2:MiddelNaam\": \"Vaartsche Rijn\", \n",
      "                  \"ns2:StationCode\": \"UTVR\", \n",
      "                  \"ns2:Type\": \"1\", \n",
      "                  \"ns2:UICCode\": \"8400606\", \n",
      "                  \"ns2:KorteNaam\": \"VaartscheR\"\n",
      "                }, \n",
      "                {\n",
      "                  \"ns2:LangeNaam\": \"Driebergen-Zeist\", \n",
      "                  \"ns2:MiddelNaam\": \"Driebergen-Zeist\", \n",
      "                  \"ns2:StationCode\": \"DB\", \n",
      "                  \"ns2:Type\": \"1\", \n",
      "                  \"ns2:UICCode\": \"8400182\", \n",
      "                  \"ns2:KorteNaam\": \"Driebergen\"\n",
      "                }, \n",
      "                {\n",
      "                  \"ns2:LangeNaam\": \"Maarn\", \n",
      "                  \"ns2:MiddelNaam\": \"Maarn\", \n",
      "                  \"ns2:StationCode\": \"MRN\", \n",
      "                  \"ns2:Type\": \"1\", \n",
      "                  \"ns2:UICCode\": \"8400417\", \n",
      "                  \"ns2:KorteNaam\": \"Maarn\"\n",
      "                }\n",
      "              ], \n",
      "              \"@InfoStatus\": \"Gepland\"\n",
      "            }, \n",
      "            {\n",
      "              \"ns2:Station\": [\n",
      "                {\n",
      "                  \"ns2:LangeNaam\": \"Utrecht Centraal\", \n",
      "                  \"ns2:MiddelNaam\": \"Utrecht C.\", \n",
      "                  \"ns2:StationCode\": \"UT\", \n",
      "                  \"ns2:Type\": \"6\", \n",
      "                  \"ns2:UICCode\": \"8400621\", \n",
      "                  \"ns2:KorteNaam\": \"Utrecht C\"\n",
      "                }, \n",
      "                {\n",
      "                  \"ns2:LangeNaam\": \"Utrecht Vaartsche Rijn\", \n",
      "                  \"ns2:MiddelNaam\": \"Vaartsche Rijn\", \n",
      "                  \"ns2:StationCode\": \"UTVR\", \n",
      "                  \"ns2:Type\": \"1\", \n",
      "                  \"ns2:UICCode\": \"8400606\", \n",
      "                  \"ns2:KorteNaam\": \"VaartscheR\"\n",
      "                }, \n",
      "                {\n",
      "                  \"ns2:LangeNaam\": \"Driebergen-Zeist\", \n",
      "                  \"ns2:MiddelNaam\": \"Driebergen-Zeist\", \n",
      "                  \"ns2:StationCode\": \"DB\", \n",
      "                  \"ns2:Type\": \"1\", \n",
      "                  \"ns2:UICCode\": \"8400182\", \n",
      "                  \"ns2:KorteNaam\": \"Driebergen\"\n",
      "                }, \n",
      "                {\n",
      "                  \"ns2:LangeNaam\": \"Maarn\", \n",
      "                  \"ns2:MiddelNaam\": \"Maarn\", \n",
      "                  \"ns2:StationCode\": \"MRN\", \n",
      "                  \"ns2:Type\": \"1\", \n",
      "                  \"ns2:UICCode\": \"8400417\", \n",
      "                  \"ns2:KorteNaam\": \"Maarn\"\n",
      "                }\n",
      "              ], \n",
      "              \"@InfoStatus\": \"Actueel\"\n",
      "            }\n",
      "          ], \n",
      "          \"ns2:TreinVertrekSpoor\": [\n",
      "            {\n",
      "              \"@InfoStatus\": \"Gepland\", \n",
      "              \"ns2:SpoorNummer\": \"3\"\n",
      "            }, \n",
      "            {\n",
      "              \"@InfoStatus\": \"Actueel\", \n",
      "              \"ns2:SpoorNummer\": \"3\"\n",
      "            }\n",
      "          ], \n",
      "          \"ns2:Toeslag\": \"N\", \n",
      "          \"ns2:TreinSoort\": {\n",
      "            \"@Code\": \"SPR\", \n",
      "            \"#text\": \"Sprinter\"\n",
      "          }, \n",
      "          \"ns2:TreinFormule\": \"1\", \n",
      "          \"ns2:PresentatieTreinEindBestemming\": {\n",
      "            \"ns2:Uitingen\": {\n",
      "              \"ns2:Uiting\": \"Rhenen\"\n",
      "            }\n",
      "          }, \n",
      "          \"ns2:SpeciaalKaartje\": \"N\", \n",
      "          \"ns2:Vervoerder\": \"NS\", \n",
      "          \"ns2:GedempteVertrekVertraging\": \"PT0S\"\n",
      "        }\n",
      "      }\n",
      "    }, \n",
      "    \"@xmlns:ns2\": \"urn:ndov:cdm:trein:reisinformatie:data:4\"\n",
      "  }\n",
      "}"
     ]
    }
   ],
   "source": [
    "example_departures = client.topics[b'ndovloketnl-departures'].get_simple_consumer(\n",
    "    auto_offset_reset=OffsetType.EARLIEST,\n",
    "    reset_offset_on_start=True\n",
    ").consume()\n",
    "print(json.dumps(json.loads(example_departures.value), indent=2))"
   ]
  },
  {
   "cell_type": "markdown",
   "metadata": {},
   "source": [
    "We can see that the messages have the following structure:\n",
    "\n",
    "```\n",
    "{\n",
    "  'ns1:PutReisInformatieBoodschapIn': {\n",
    "    'ns2:ReisInformatieProductDVS' or 'ns2:ReisInformatieProductDAS': {\n",
    "      'ns2:DynamischeVertrekStaat' or 'ns2:DynamischeAankomstStaat': {\n",
    "          'ns2:RitStation': <station_info>,\n",
    "          'ns2:Trein' or 'ns2:TreinAankomst': {\n",
    "              'ns2:VertrekTijd' or 'ns2:AankomstTijd': [<planned_and_actual_times>],\n",
    "              'ns2:TreinNummer': <train_number>,\n",
    "              'ns2:TreinSoort': <kind_of_train>,\n",
    "              ...\n",
    "          }\n",
    "           \n",
    "      }\n",
    "    }\n",
    "  }\n",
    "}\n",
    "```\n",
    "\n",
    "We can see also that the train stations have a long name `ns2:LangeNaam`, a medium name `ns2:MiddelNaam`, a short name `ns2:KorteNaam`, a station code `ns2:StationCode` and a kind of nummerical ID `ns2:UICCode`. When giving information about times, tracks, direction,... you will find sometimes the information twice with the status `Gepland` (which means planned, according to the schedule) and `Actueel`(which means the actual measured value). "
   ]
  },
  {
   "cell_type": "markdown",
   "metadata": {},
   "source": [
    "**Question III.a. (5/20)** We want to compute the time a train stays at a station and get a real-time histogram for a given time window. To begin with, you need to write some parsing functions that will allow you to get information from the data streams. We have prepare one function `parse_train_dep` for the stream `ndovloketnl-departures`, which returns a Key-Value pair."
   ]
  },
  {
   "cell_type": "code",
   "execution_count": 13,
   "metadata": {
    "scrolled": true
   },
   "outputs": [
    {
     "data": {
      "application/vnd.jupyter.widget-view+json": {
       "model_id": "",
       "version_major": 2,
       "version_minor": 0
      },
      "text/plain": [
       "FloatProgress(value=0.0, bar_style='info', description='Progress:', layout=Layout(height='25px', width='50%'),…"
      ]
     },
     "metadata": {},
     "output_type": "display_data"
    }
   ],
   "source": [
    "import json\n",
    "\n",
    "def parse_train_dep(s):\n",
    "    obj = json.loads(s)\n",
    "    tn = obj.get('ns1:PutReisInformatieBoodschapIn', {}).get('ns2:ReisInformatieProductDVS', {}).get('ns2:DynamischeVertrekStaat', {}).get('ns2:Trein', {}).get(\"ns2:TreinNummer\")\n",
    "    st = obj.get('ns1:PutReisInformatieBoodschapIn', {}).get('ns2:ReisInformatieProductDVS', {}).get('ns2:DynamischeVertrekStaat', {}).get('ns2:RitStation', {}).get(\"ns2:UICCode\")\n",
    "    if tn and st:\n",
    "        return [(\"{}-{}\".format(tn, st), obj)]\n",
    "    else:\n",
    "        return []"
   ]
  },
  {
   "cell_type": "markdown",
   "metadata": {},
   "source": [
    "__Q (1/5)__  Please check the function `parse_train_dep` above. Explain how we construct the Key and the Value, and why we construct them in this way."
   ]
  },
  {
   "cell_type": "markdown",
   "metadata": {},
   "source": [
    "__Answer__: For the key, you selected train number(TreinNummer) and Station Id (UICCode) and combined them such that TreinNummer-UICCode.Value is the object itself. So (Key,Value) is (TreinNummer-UICCode, json_object).\n",
    "For the keys you extracted the value from their nested positions.\n",
    "\n",
    "For example TreinNummer is nested like this:\n",
    "```\n",
    "{'ns1:PutReisInformatieBoodschapIn':\n",
    "                {..\n",
    "                   'ns2:ReisInformatieProductDVS':\n",
    "                       {...\n",
    "                           'ns2:DynamischeVertrekStaat':\n",
    "                               {...\n",
    "                                   'ns2:Trein':\n",
    "                                       {...\n",
    "                                           **\"ns2:TreinNummer\"**:...\n",
    "                                          ...\n",
    "```"
   ]
  },
  {
   "cell_type": "markdown",
   "metadata": {},
   "source": [
    "__Q (2/5)__ Take `parse_train_dep` as an example and write the function `parse_train_arr` for the stream `ndovloketnl-arrivals`. Make sure they have the same output format."
   ]
  },
  {
   "cell_type": "code",
   "execution_count": 14,
   "metadata": {
    "scrolled": true
   },
   "outputs": [
    {
     "data": {
      "application/vnd.jupyter.widget-view+json": {
       "model_id": "",
       "version_major": 2,
       "version_minor": 0
      },
      "text/plain": [
       "FloatProgress(value=0.0, bar_style='info', description='Progress:', layout=Layout(height='25px', width='50%'),…"
      ]
     },
     "metadata": {},
     "output_type": "display_data"
    }
   ],
   "source": [
    "def parse_train_arr(s):\n",
    "    obj = json.loads(s)\n",
    "    tn = obj.get('ns1:PutReisInformatieBoodschapIn', {}).get('ns2:ReisInformatieProductDAS', {}).get('ns2:DynamischeAankomstStaat', {}).get('ns2:TreinAankomst', {}).get(\"ns2:TreinNummer\")\n",
    "    st = obj.get('ns1:PutReisInformatieBoodschapIn', {}).get('ns2:ReisInformatieProductDAS', {}).get('ns2:DynamischeAankomstStaat', {}).get('ns2:RitStation', {}).get(\"ns2:UICCode\")\n",
    "    if tn and st:\n",
    "        return [(\"{}-{}\".format(tn, st), obj)]\n",
    "    else:\n",
    "        return []"
   ]
  },
  {
   "cell_type": "markdown",
   "metadata": {},
   "source": [
    "__Q (2/5)__ Another parsing function you may need is `get_actual_time`, which will allow you to extract the actual time from the fields of time information, which are `ns2:AankomstTijd` in the arrival stream and `ns2:VertrekTijd` in the departure stream. \n",
    "\n",
    "__Note:__ These two fields may be empty and they may not contain the actual time information. In both cases the function should return `None`."
   ]
  },
  {
   "cell_type": "code",
   "execution_count": 15,
   "metadata": {
    "scrolled": true
   },
   "outputs": [
    {
     "data": {
      "application/vnd.jupyter.widget-view+json": {
       "model_id": "",
       "version_major": 2,
       "version_minor": 0
      },
      "text/plain": [
       "FloatProgress(value=0.0, bar_style='info', description='Progress:', layout=Layout(height='25px', width='50%'),…"
      ]
     },
     "metadata": {},
     "output_type": "display_data"
    }
   ],
   "source": [
    "import datetime\n",
    "def get_actual_time(tab):\n",
    "    for t in tab:\n",
    "        try:\n",
    "            if t[\"@InfoStatus\"] == \"Actueel\":\n",
    "                \n",
    "                at = datetime.datetime.strptime(t[\"#text\"][:-5], \"%Y-%m-%dT%H:%M:%S\") \n",
    "                return at\n",
    "        except:\n",
    "            return None\n",
    "        \n",
    "#Create function to seperate arrival and departure\n",
    "def get_actual_time_helper(s,t):\n",
    "    js = json.loads(s)\n",
    "    if t == \"departures\":\n",
    "        tab  = js.get('ns1:PutReisInformatieBoodschapIn', {}).get(\"ns2:ReisInformatieProductDVS\", {}).get(\"ns2:DynamischeVertrekStaat\", {}).get(\"ns2:Trein\", {}).get(\"ns2:VertrekTijd\",{})\n",
    "    else:\n",
    "        tab  = js.get('ns1:PutReisInformatieBoodschapIn', {}).get(\"ns2:ReisInformatieProductDAS\", {}).get(\"ns2:DynamischeAankomstStaat\", {}).get(\"ns2:TreinAankomst\", {}).get(\"ns2:AankomstTijd\",{})\n",
    "\n",
    "    return get_actual_time(tab)"
   ]
  },
  {
   "cell_type": "code",
   "execution_count": 16,
   "metadata": {},
   "outputs": [
    {
     "data": {
      "application/vnd.jupyter.widget-view+json": {
       "model_id": "",
       "version_major": 2,
       "version_minor": 0
      },
      "text/plain": [
       "FloatProgress(value=0.0, bar_style='info', description='Progress:', layout=Layout(height='25px', width='50%'),…"
      ]
     },
     "metadata": {},
     "output_type": "display_data"
    }
   ],
   "source": [
    "# Get the field of time in the departure stream\n",
    "example_json = json.loads(example_departures.value)\n",
    "tab = example_json.get('ns1:PutReisInformatieBoodschapIn', {}).get(\"ns2:ReisInformatieProductDVS\", {}).get(\"ns2:DynamischeVertrekStaat\", {}).get(\"ns2:Trein\", {}).get(\"ns2:VertrekTijd\",{})"
   ]
  },
  {
   "cell_type": "code",
   "execution_count": 17,
   "metadata": {},
   "outputs": [
    {
     "data": {
      "application/vnd.jupyter.widget-view+json": {
       "model_id": "",
       "version_major": 2,
       "version_minor": 0
      },
      "text/plain": [
       "FloatProgress(value=0.0, bar_style='info', description='Progress:', layout=Layout(height='25px', width='50%'),…"
      ]
     },
     "metadata": {},
     "output_type": "display_data"
    },
    {
     "name": "stdout",
     "output_type": "stream",
     "text": [
      "datetime.datetime(2020, 4, 23, 15, 32)"
     ]
    }
   ],
   "source": [
    "# Example results from `get_actual_time`\n",
    "get_actual_time(tab)"
   ]
  },
  {
   "cell_type": "markdown",
   "metadata": {},
   "source": [
    "**Question III.b. (5/20)** Create two Spark streams from the arrivals and departures where the records are in the form (Key, Value) using `parse_train_dep` and  `parse_train_arr`. "
   ]
  },
  {
   "cell_type": "code",
   "execution_count": 29,
   "metadata": {
    "scrolled": true
   },
   "outputs": [
    {
     "data": {
      "application/vnd.jupyter.widget-view+json": {
       "model_id": "",
       "version_major": 2,
       "version_minor": 0
      },
      "text/plain": [
       "FloatProgress(value=0.0, bar_style='info', description='Progress:', layout=Layout(height='25px', width='50%'),…"
      ]
     },
     "metadata": {},
     "output_type": "display_data"
    }
   ],
   "source": [
    "from pyspark.streaming import StreamingContext\n",
    "from pyspark.streaming.kafka import KafkaUtils\n",
    "\n",
    "# recreate the streaming context\n",
    "ssc = StreamingContext(sc, 10)\n",
    "ssc.checkpoint(checkpoint)\n",
    "\n",
    "group_id = 'ns-{0}'.format(username)\n",
    "\n",
    "# Input streams\n",
    "arrival_stream = KafkaUtils.createStream(ssc, ZOOKEEPER_QUORUM, group_id, { 'ndovloketnl-arrivals': 1})\n",
    "departure_stream = KafkaUtils.createStream(ssc, ZOOKEEPER_QUORUM, group_id, { 'ndovloketnl-departures': 1})"
   ]
  },
  {
   "cell_type": "code",
   "execution_count": 30,
   "metadata": {},
   "outputs": [
    {
     "data": {
      "application/vnd.jupyter.widget-view+json": {
       "model_id": "",
       "version_major": 2,
       "version_minor": 0
      },
      "text/plain": [
       "FloatProgress(value=0.0, bar_style='info', description='Progress:', layout=Layout(height='25px', width='50%'),…"
      ]
     },
     "metadata": {},
     "output_type": "display_data"
    }
   ],
   "source": [
    "arrival_stream_m = arrival_stream.map(lambda x :(parse_train_arr(x[1])[0][0],get_actual_time_helper(x[1],\"arrival\")))\n",
    "\n",
    "departure_stream_m = departure_stream.map(lambda x :(parse_train_dep(x[1])[0][0],get_actual_time_helper(x[1],\"departures\")))\n",
    "                                                     \n",
    "                                                     \n"
   ]
  },
  {
   "cell_type": "markdown",
   "metadata": {},
   "source": [
    "**Question III.c. (5/20)** \n",
    "Every 20 seconds, we want to have a list of trains that had departed from any train station after staying for 5 minutes or less at the station. Apply a window of 20s sliding interval on arrival and departure streams. Join two streams such that trains staying for 5 minutes or less (± 20 seconds error due to sliding interval) at any station are caught by the join in the RDD window of the joined stream (you can ignore late messages). \n",
    "\n",
    "__Hint:__\n",
    "- Check [here](https://spark.apache.org/docs/2.3.1/streaming-programming-guide.html#window-operations) for windowed computations in Spark Streaming.\n",
    "- Use the methods [reduceByKeyAndWindow](https://spark.apache.org/docs/2.3.1/api/python/pyspark.streaming.html?highlight=reducebykey#pyspark.streaming.DStream.reduceByKeyAndWindow) and [join](https://spark.apache.org/docs/2.3.1/api/python/pyspark.streaming.html?highlight=reducebykey#pyspark.streaming.DStream.join) on DStream objects.\n",
    "- Both windows should have `slideDuration` of 20s\n",
    "- You have to pick the sizes of windows `windowDuration` carefully. The sizes can be different: \n",
    "    - The trains staying for 5 minutes or less (± 20 seconds error due to sliding interval) must be in the joined stream.\n",
    "    - A same stay (i.e. one train at one station) is caught in the joined stream once and only once."
   ]
  },
  {
   "cell_type": "code",
   "execution_count": 31,
   "metadata": {
    "scrolled": true
   },
   "outputs": [
    {
     "data": {
      "application/vnd.jupyter.widget-view+json": {
       "model_id": "",
       "version_major": 2,
       "version_minor": 0
      },
      "text/plain": [
       "FloatProgress(value=0.0, bar_style='info', description='Progress:', layout=Layout(height='25px', width='50%'),…"
      ]
     },
     "metadata": {},
     "output_type": "display_data"
    }
   ],
   "source": [
    "#create arrival and departure stream, reducebykey so we have only one train for each window\n",
    "arrival_stream_windowr = arrival_stream_m.reduceByKeyAndWindow(lambda x,y:x,20, 20)\n",
    "departure_stream_windowr = departure_stream_m.reduceByKeyAndWindow(lambda x,y:x,60*5+20, 20)\n",
    "\n",
    "#join them\n",
    "joinedstream = arrival_stream_windowr.join(departure_stream_windowr)\n",
    "\n"
   ]
  },
  {
   "cell_type": "markdown",
   "metadata": {},
   "source": [
    "**Question III.d. (5/20)** On the joined stream, compute the length of each stay (you can round to the minute) and produce a stream of histograms. You don't need to plot them, a value/count array is enough, like:\n",
    "```\n",
    "-------------------------------------------\n",
    "Time: 2018-05-17 11:10:00\n",
    "-------------------------------------------\n",
    "(0.0, 110)\n",
    "(8.0, 2)\n",
    "(4.0, 3)\n",
    "\n",
    "-------------------------------------------\n",
    "Time: 2018-05-17 11:10:20\n",
    "-------------------------------------------\n",
    "(0.0, 46)\n",
    "(4.0, 2)\n",
    "(1.0, 5)\n",
    "```"
   ]
  },
  {
   "cell_type": "code",
   "execution_count": 32,
   "metadata": {
    "scrolled": true
   },
   "outputs": [
    {
     "data": {
      "application/vnd.jupyter.widget-view+json": {
       "model_id": "",
       "version_major": 2,
       "version_minor": 0
      },
      "text/plain": [
       "FloatProgress(value=0.0, bar_style='info', description='Progress:', layout=Layout(height='25px', width='50%'),…"
      ]
     },
     "metadata": {},
     "output_type": "display_data"
    }
   ],
   "source": [
    "def stay_min(x):\n",
    "    \n",
    "    return round((x[1][1] - x[1][0]).total_seconds()/60)\n",
    "staystream = joinedstream.map(lambda x:(x[0],stay_min(x)))\n",
    "histograms_stream = staystream.map(lambda x : x[1]).countByValue()\n",
    "\n",
    "histograms_stream.pprint()"
   ]
  },
  {
   "cell_type": "code",
   "execution_count": 34,
   "metadata": {
    "scrolled": true
   },
   "outputs": [
    {
     "data": {
      "application/vnd.jupyter.widget-view+json": {
       "model_id": "",
       "version_major": 2,
       "version_minor": 0
      },
      "text/plain": [
       "FloatProgress(value=0.0, bar_style='info', description='Progress:', layout=Layout(height='25px', width='50%'),…"
      ]
     },
     "metadata": {},
     "output_type": "display_data"
    }
   ],
   "source": [
    "ssc.start() \n",
    "ssc.awaitTermination(timeout=200)#200"
   ]
  },
  {
   "cell_type": "code",
   "execution_count": 35,
   "metadata": {
    "scrolled": true
   },
   "outputs": [
    {
     "data": {
      "application/vnd.jupyter.widget-view+json": {
       "model_id": "",
       "version_major": 2,
       "version_minor": 0
      },
      "text/plain": [
       "FloatProgress(value=0.0, bar_style='info', description='Progress:', layout=Layout(height='25px', width='50%'),…"
      ]
     },
     "metadata": {},
     "output_type": "display_data"
    },
    {
     "name": "stdout",
     "output_type": "stream",
     "text": [
      "-------------------------------------------\n",
      "Time: 2020-05-05 13:23:20\n",
      "-------------------------------------------\n",
      "(0.0, 280)\n",
      "(2.0, 35)\n",
      "(4.0, 7)\n",
      "(6.0, 2)\n",
      "(8.0, 1)\n",
      "(12.0, 1)\n",
      "(1.0, 71)\n",
      "(3.0, 12)\n",
      "(5.0, 9)\n",
      "\n",
      "-------------------------------------------\n",
      "Time: 2020-05-05 13:23:30\n",
      "-------------------------------------------\n",
      "(0.0, 291)\n",
      "(2.0, 35)\n",
      "(4.0, 7)\n",
      "(6.0, 2)\n",
      "(8.0, 1)\n",
      "(12.0, 1)\n",
      "(1.0, 71)\n",
      "(3.0, 12)\n",
      "(5.0, 9)\n",
      "\n",
      "-------------------------------------------\n",
      "Time: 2020-05-05 13:23:40\n",
      "-------------------------------------------\n",
      "(0.0, 17)\n",
      "(2.0, 2)\n",
      "(1.0, 5)\n",
      "(7.0, 1)\n",
      "\n",
      "-------------------------------------------\n",
      "Time: 2020-05-05 13:23:50\n",
      "-------------------------------------------\n",
      "(0.0, 14)\n",
      "(2.0, 3)\n",
      "(10.0, 1)\n",
      "(-1.0, 1)\n",
      "(1.0, 3)\n",
      "\n",
      "-------------------------------------------\n",
      "Time: 2020-05-05 13:24:00\n",
      "-------------------------------------------\n",
      "(0.0, 16)\n",
      "(2.0, 2)\n",
      "(4.0, 1)\n",
      "(10.0, 1)\n",
      "(-1.0, 1)\n",
      "(1.0, 3)\n",
      "\n",
      "-------------------------------------------\n",
      "Time: 2020-05-05 13:24:10\n",
      "-------------------------------------------\n",
      "(0.0, 14)\n",
      "(2.0, 1)\n",
      "(4.0, 1)\n",
      "(6.0, 1)\n",
      "(1.0, 3)\n",
      "\n",
      "-------------------------------------------\n",
      "Time: 2020-05-05 13:24:20\n",
      "-------------------------------------------\n",
      "(0.0, 38)\n",
      "(6.0, 1)\n",
      "(1.0, 4)\n",
      "\n",
      "-------------------------------------------\n",
      "Time: 2020-05-05 13:24:30\n",
      "-------------------------------------------\n",
      "(0.0, 16)\n",
      "(1.0, 6)\n",
      "(3.0, 1)\n",
      "\n",
      "-------------------------------------------\n",
      "Time: 2020-05-05 13:24:40\n",
      "-------------------------------------------\n",
      "(0.0, 8)\n",
      "(4.0, 1)\n",
      "(1.0, 7)\n",
      "(3.0, 1)\n",
      "(5.0, 1)\n",
      "\n",
      "-------------------------------------------\n",
      "Time: 2020-05-05 13:24:50\n",
      "-------------------------------------------\n",
      "(0.0, 11)\n",
      "(4.0, 2)\n",
      "(1.0, 3)\n",
      "(5.0, 1)\n",
      "\n",
      "-------------------------------------------\n",
      "Time: 2020-05-05 13:25:00\n",
      "-------------------------------------------\n",
      "(0.0, 15)\n",
      "(2.0, 2)\n",
      "(4.0, 1)\n",
      "(1.0, 2)\n",
      "\n",
      "-------------------------------------------\n",
      "Time: 2020-05-05 13:25:10\n",
      "-------------------------------------------\n",
      "(0.0, 27)\n",
      "(2.0, 2)\n",
      "(1.0, 1)\n",
      "(3.0, 1)\n",
      "\n",
      "-------------------------------------------\n",
      "Time: 2020-05-05 13:25:20\n",
      "-------------------------------------------\n",
      "(0.0, 44)\n",
      "(2.0, 2)\n",
      "(1.0, 1)\n",
      "(3.0, 1)\n",
      "(5.0, 1)\n",
      "\n",
      "-------------------------------------------\n",
      "Time: 2020-05-05 13:25:30\n",
      "-------------------------------------------\n",
      "(0.0, 19)\n",
      "(2.0, 2)\n",
      "(6.0, 2)\n",
      "(1.0, 4)\n",
      "(5.0, 2)\n",
      "\n",
      "-------------------------------------------\n",
      "Time: 2020-05-05 13:25:40\n",
      "-------------------------------------------\n",
      "(0.0, 14)\n",
      "(2.0, 1)\n",
      "(6.0, 2)\n",
      "(1.0, 3)\n",
      "(5.0, 2)\n",
      "\n",
      "-------------------------------------------\n",
      "Time: 2020-05-05 13:25:50\n",
      "-------------------------------------------\n",
      "(0.0, 13)\n",
      "(4.0, 1)\n",
      "(2.0, 3)\n",
      "(12.0, 1)\n",
      "(1.0, 3)\n",
      "(5.0, 1)\n",
      "\n",
      "-------------------------------------------\n",
      "Time: 2020-05-05 13:26:00\n",
      "-------------------------------------------\n",
      "(0.0, 22)\n",
      "(12.0, 1)\n",
      "(2.0, 4)\n",
      "(4.0, 1)\n",
      "(1.0, 5)\n",
      "(9.0, 1)\n",
      "\n",
      "-------------------------------------------\n",
      "Time: 2020-05-05 13:26:10\n",
      "-------------------------------------------\n",
      "(0.0, 29)\n",
      "(2.0, 4)\n",
      "(1.0, 3)\n",
      "(3.0, 1)\n",
      "\n",
      "-------------------------------------------\n",
      "Time: 2020-05-05 13:26:20\n",
      "-------------------------------------------\n",
      "(0.0, 45)\n",
      "(2.0, 2)\n",
      "(1.0, 3)\n",
      "(3.0, 1)\n",
      "\n",
      "-------------------------------------------\n",
      "Time: 2020-05-05 13:26:30\n",
      "-------------------------------------------\n",
      "(0.0, 21)\n",
      "(2.0, 3)\n",
      "(1.0, 5)\n",
      "\n",
      "-------------------------------------------\n",
      "Time: 2020-05-05 13:26:40\n",
      "-------------------------------------------\n",
      "(0.0, 3)\n",
      "(2.0, 3)\n",
      "(1.0, 3)\n",
      "\n",
      "-------------------------------------------\n",
      "Time: 2020-05-05 13:26:50\n",
      "-------------------------------------------\n",
      "\n",
      "-------------------------------------------\n",
      "Time: 2020-05-05 13:27:00\n",
      "-------------------------------------------\n",
      "\n",
      "-------------------------------------------\n",
      "Time: 2020-05-05 13:27:10\n",
      "-------------------------------------------\n",
      "\n",
      "-------------------------------------------\n",
      "Time: 2020-05-05 13:27:20\n",
      "-------------------------------------------\n",
      "\n",
      "-------------------------------------------\n",
      "Time: 2020-05-05 13:27:30\n",
      "-------------------------------------------\n",
      "\n",
      "-------------------------------------------\n",
      "Time: 2020-05-05 13:27:40\n",
      "-------------------------------------------\n",
      "\n",
      "-------------------------------------------\n",
      "Time: 2020-05-05 13:27:50\n",
      "-------------------------------------------\n",
      "\n",
      "-------------------------------------------\n",
      "Time: 2020-05-05 13:28:00\n",
      "-------------------------------------------\n",
      "\n",
      "-------------------------------------------\n",
      "Time: 2020-05-05 13:28:10\n",
      "-------------------------------------------\n",
      "\n",
      "-------------------------------------------\n",
      "Time: 2020-05-05 13:28:20\n",
      "-------------------------------------------\n",
      "\n",
      "-------------------------------------------\n",
      "Time: 2020-05-05 13:28:30\n",
      "-------------------------------------------"
     ]
    }
   ],
   "source": [
    "ssc.stop(stopSparkContext=False, stopGraceFully=True)"
   ]
  },
  {
   "cell_type": "code",
   "execution_count": null,
   "metadata": {},
   "outputs": [],
   "source": []
  }
 ],
 "metadata": {
  "kernelspec": {
   "display_name": "PySpark",
   "language": "",
   "name": "pysparkkernel"
  },
  "language_info": {
   "codemirror_mode": {
    "name": "python",
    "version": 3
   },
   "mimetype": "text/x-python",
   "name": "pyspark",
   "pygments_lexer": "python3"
  }
 },
 "nbformat": 4,
 "nbformat_minor": 4
}
