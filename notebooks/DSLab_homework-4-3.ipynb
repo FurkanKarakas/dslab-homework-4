{
 "cells": [
  {
   "cell_type": "markdown",
   "metadata": {},
   "source": [
    "# Homework 4 - More trains (Part III)\n",
    "\n",
    "__Hand-in:__\n",
    "\n",
    "- __Due: 12.05.2020 23:59:59 CET__\n",
    "- `git push` your final verion to your group's Renku repository before the due\n",
    "- check if `Dockerfile`, `environment.yml` and `requirements.txt` are properly written\n",
    "- add necessary comments and discussion to make your codes readable\n",
    "\n",
    "For this homework, you will be working with the real-time streams of the NS, the train company of the Netherlands. You can see an example webpage that uses the same streams to display the train information on a map: https://spoorkaart.mwnn.nl/ . \n",
    "\n",
    "To help you and avoid having too many connections to the NS streaming servers, we have setup a service that collects the streams and pushes them to our Kafka instance. The related topics are: \n",
    "\n",
    "`ndovloketnl-arrivals`: For each arrival of a train in a station, describe the previous and next station, time of arrival (planned and actual), track number,...\n",
    "\n",
    "`ndovloketnl-departures`: For each departure of a train from a station, describe the previous and next station, time of departure (planned and actual), track number,...\n",
    "\n",
    "`ndovloketnl-gps`: For each train, describe the current location, speed, bearing.\n",
    "\n",
    "The events are serialized in JSON (actually converted from XML), with properties in their original language. Google translate could help you understand all of them, but we will provide you with some useful mappings."
   ]
  },
  {
   "cell_type": "markdown",
   "metadata": {},
   "source": [
    "---\n",
    "## Set up environment\n",
    "\n",
    "Run the following cells below before running the other cells of this notebook. Run them whenever you need to recreate a Spark context. Pay particular attention to your `username` settings, and make sure that it is properly set to your user name, both locally and on the remote Spark Driver.\n",
    "\n",
    "Configure your spark settings:\n",
    "1. name your spark application as `\"YOUR_GASPAR_homework_4\"`.\n",
    "2. make the required kafka jars available on the remote Spark driver.\n",
    "\n",
    "<div class=\"alert alert-block alert-warning\"><b>Any application without a proper name would be promptly killed.</b></div>"
   ]
  },
  {
   "cell_type": "code",
   "execution_count": 1,
   "metadata": {},
   "outputs": [
    {
     "data": {
      "text/html": [
       "Current session configs: <tt>{'conf': {'spark.app.name': 'boecuego_homework_4', 'spark.jars.packages': 'org.apache.spark:spark-streaming-kafka-0-8_2.11:2.3.1,org.apache.kafka:kafka_2.11:1.0.1'}, 'kind': 'pyspark'}</tt><br>"
      ],
      "text/plain": [
       "<IPython.core.display.HTML object>"
      ]
     },
     "metadata": {},
     "output_type": "display_data"
    },
    {
     "data": {
      "text/html": [
       "<table>\n",
       "<tr><th>ID</th><th>YARN Application ID</th><th>Kind</th><th>State</th><th>Spark UI</th><th>Driver log</th><th>Current session?</th></tr><tr><td>5598</td><td>application_1589299642358_0086</td><td>pyspark</td><td>idle</td><td><a target=\"_blank\" href=\"http://iccluster044.iccluster.epfl.ch:8088/proxy/application_1589299642358_0086/\">Link</a></td><td><a target=\"_blank\" href=\"http://iccluster069.iccluster.epfl.ch:8042/node/containerlogs/container_e06_1589299642358_0086_01_000001/ebouille\">Link</a></td><td></td></tr><tr><td>5599</td><td>application_1589299642358_0087</td><td>pyspark</td><td>busy</td><td><a target=\"_blank\" href=\"http://iccluster044.iccluster.epfl.ch:8088/proxy/application_1589299642358_0087/\">Link</a></td><td><a target=\"_blank\" href=\"http://iccluster069.iccluster.epfl.ch:8042/node/containerlogs/container_e06_1589299642358_0087_01_000001/ebouille\">Link</a></td><td></td></tr><tr><td>5602</td><td>application_1589299642358_0090</td><td>pyspark</td><td>idle</td><td><a target=\"_blank\" href=\"http://iccluster044.iccluster.epfl.ch:8088/proxy/application_1589299642358_0090/\">Link</a></td><td><a target=\"_blank\" href=\"http://iccluster070.iccluster.epfl.ch:8042/node/containerlogs/container_e06_1589299642358_0090_01_000001/ebouille\">Link</a></td><td></td></tr><tr><td>5603</td><td>application_1589299642358_0091</td><td>pyspark</td><td>idle</td><td><a target=\"_blank\" href=\"http://iccluster044.iccluster.epfl.ch:8088/proxy/application_1589299642358_0091/\">Link</a></td><td><a target=\"_blank\" href=\"http://iccluster068.iccluster.epfl.ch:8042/node/containerlogs/container_e06_1589299642358_0091_01_000001/ebouille\">Link</a></td><td></td></tr><tr><td>5605</td><td>application_1589299642358_0093</td><td>pyspark</td><td>idle</td><td><a target=\"_blank\" href=\"http://iccluster044.iccluster.epfl.ch:8088/proxy/application_1589299642358_0093/\">Link</a></td><td><a target=\"_blank\" href=\"http://iccluster065.iccluster.epfl.ch:8042/node/containerlogs/container_e06_1589299642358_0093_01_000001/ebouille\">Link</a></td><td></td></tr><tr><td>5606</td><td>application_1589299642358_0094</td><td>pyspark</td><td>idle</td><td><a target=\"_blank\" href=\"http://iccluster044.iccluster.epfl.ch:8088/proxy/application_1589299642358_0094/\">Link</a></td><td><a target=\"_blank\" href=\"http://iccluster069.iccluster.epfl.ch:8042/node/containerlogs/container_e06_1589299642358_0094_01_000001/ebouille\">Link</a></td><td></td></tr><tr><td>5607</td><td>application_1589299642358_0095</td><td>pyspark</td><td>idle</td><td><a target=\"_blank\" href=\"http://iccluster044.iccluster.epfl.ch:8088/proxy/application_1589299642358_0095/\">Link</a></td><td><a target=\"_blank\" href=\"http://iccluster069.iccluster.epfl.ch:8042/node/containerlogs/container_e06_1589299642358_0095_01_000001/ebouille\">Link</a></td><td></td></tr><tr><td>5608</td><td>application_1589299642358_0096</td><td>pyspark</td><td>idle</td><td><a target=\"_blank\" href=\"http://iccluster044.iccluster.epfl.ch:8088/proxy/application_1589299642358_0096/\">Link</a></td><td><a target=\"_blank\" href=\"http://iccluster069.iccluster.epfl.ch:8042/node/containerlogs/container_e06_1589299642358_0096_01_000001/ebouille\">Link</a></td><td></td></tr><tr><td>5609</td><td>application_1589299642358_0097</td><td>pyspark</td><td>idle</td><td><a target=\"_blank\" href=\"http://iccluster044.iccluster.epfl.ch:8088/proxy/application_1589299642358_0097/\">Link</a></td><td><a target=\"_blank\" href=\"http://iccluster072.iccluster.epfl.ch:8042/node/containerlogs/container_e06_1589299642358_0097_01_000001/ebouille\">Link</a></td><td></td></tr><tr><td>5611</td><td>application_1589299642358_0099</td><td>pyspark</td><td>idle</td><td><a target=\"_blank\" href=\"http://iccluster044.iccluster.epfl.ch:8088/proxy/application_1589299642358_0099/\">Link</a></td><td><a target=\"_blank\" href=\"http://iccluster072.iccluster.epfl.ch:8042/node/containerlogs/container_e06_1589299642358_0099_01_000001/ebouille\">Link</a></td><td></td></tr><tr><td>5612</td><td>application_1589299642358_0100</td><td>pyspark</td><td>idle</td><td><a target=\"_blank\" href=\"http://iccluster044.iccluster.epfl.ch:8088/proxy/application_1589299642358_0100/\">Link</a></td><td><a target=\"_blank\" href=\"http://iccluster069.iccluster.epfl.ch:8042/node/containerlogs/container_e06_1589299642358_0100_01_000001/ebouille\">Link</a></td><td></td></tr></table>"
      ],
      "text/plain": [
       "<IPython.core.display.HTML object>"
      ]
     },
     "metadata": {},
     "output_type": "display_data"
    }
   ],
   "source": [
    "%%configure\n",
    "{\"conf\": {\n",
    "    \"spark.app.name\": \"boecuego_homework_4\",\n",
    "    \"spark.jars.packages\": \"org.apache.spark:spark-streaming-kafka-0-8_2.11:2.3.1,org.apache.kafka:kafka_2.11:1.0.1\"\n",
    "}}"
   ]
  },
  {
   "cell_type": "markdown",
   "metadata": {},
   "source": [
    "Create a new session unless one was already created above (check for `✔` in current session)"
   ]
  },
  {
   "cell_type": "code",
   "execution_count": 2,
   "metadata": {},
   "outputs": [
    {
     "name": "stdout",
     "output_type": "stream",
     "text": [
      "Starting Spark application\n"
     ]
    },
    {
     "data": {
      "text/html": [
       "<table>\n",
       "<tr><th>ID</th><th>YARN Application ID</th><th>Kind</th><th>State</th><th>Spark UI</th><th>Driver log</th><th>Current session?</th></tr><tr><td>5613</td><td>application_1589299642358_0101</td><td>pyspark</td><td>idle</td><td><a target=\"_blank\" href=\"http://iccluster044.iccluster.epfl.ch:8088/proxy/application_1589299642358_0101/\">Link</a></td><td><a target=\"_blank\" href=\"http://iccluster067.iccluster.epfl.ch:8042/node/containerlogs/container_e06_1589299642358_0101_01_000001/ebouille\">Link</a></td><td>✔</td></tr></table>"
      ],
      "text/plain": [
       "<IPython.core.display.HTML object>"
      ]
     },
     "metadata": {},
     "output_type": "display_data"
    },
    {
     "data": {
      "application/vnd.jupyter.widget-view+json": {
       "model_id": "",
       "version_major": 2,
       "version_minor": 0
      },
      "text/plain": [
       "FloatProgress(value=0.0, bar_style='info', description='Progress:', layout=Layout(height='25px', width='50%'),…"
      ]
     },
     "metadata": {},
     "output_type": "display_data"
    },
    {
     "name": "stdout",
     "output_type": "stream",
     "text": [
      "SparkSession available as 'spark'.\n"
     ]
    },
    {
     "data": {
      "application/vnd.jupyter.widget-view+json": {
       "model_id": "",
       "version_major": 2,
       "version_minor": 0
      },
      "text/plain": [
       "FloatProgress(value=0.0, bar_style='info', description='Progress:', layout=Layout(height='25px', width='50%'),…"
      ]
     },
     "metadata": {},
     "output_type": "display_data"
    }
   ],
   "source": [
    "# Initialize spark application"
   ]
  },
  {
   "cell_type": "markdown",
   "metadata": {},
   "source": [
    "Set `username` to your GASPAR both locally and on the Spark driver."
   ]
  },
  {
   "cell_type": "code",
   "execution_count": 3,
   "metadata": {},
   "outputs": [],
   "source": [
    "%%local\n",
    "import os\n",
    "username = os.environ['JUPYTERHUB_USER']"
   ]
  },
  {
   "cell_type": "code",
   "execution_count": 4,
   "metadata": {},
   "outputs": [
    {
     "data": {
      "application/vnd.jupyter.widget-view+json": {
       "model_id": "",
       "version_major": 2,
       "version_minor": 0
      },
      "text/plain": [
       "FloatProgress(value=0.0, bar_style='info', description='Progress:', layout=Layout(height='25px', width='50%'),…"
      ]
     },
     "metadata": {},
     "output_type": "display_data"
    },
    {
     "name": "stdout",
     "output_type": "stream",
     "text": [
      "Successfully passed 'username' as 'username' to Spark kernel"
     ]
    }
   ],
   "source": [
    "%%send_to_spark -i username -t str -n username"
   ]
  },
  {
   "cell_type": "code",
   "execution_count": 5,
   "metadata": {},
   "outputs": [
    {
     "data": {
      "application/vnd.jupyter.widget-view+json": {
       "model_id": "",
       "version_major": 2,
       "version_minor": 0
      },
      "text/plain": [
       "FloatProgress(value=0.0, bar_style='info', description='Progress:', layout=Layout(height='25px', width='50%'),…"
      ]
     },
     "metadata": {},
     "output_type": "display_data"
    },
    {
     "name": "stdout",
     "output_type": "stream",
     "text": [
      "'boecuego'"
     ]
    }
   ],
   "source": [
    "username"
   ]
  },
  {
   "cell_type": "markdown",
   "metadata": {},
   "source": [
    "---"
   ]
  },
  {
   "cell_type": "markdown",
   "metadata": {},
   "source": [
    "## Create a Kafka client"
   ]
  },
  {
   "cell_type": "code",
   "execution_count": 6,
   "metadata": {
    "scrolled": true
   },
   "outputs": [
    {
     "data": {
      "application/vnd.jupyter.widget-view+json": {
       "model_id": "",
       "version_major": 2,
       "version_minor": 0
      },
      "text/plain": [
       "FloatProgress(value=0.0, bar_style='info', description='Progress:', layout=Layout(height='25px', width='50%'),…"
      ]
     },
     "metadata": {},
     "output_type": "display_data"
    }
   ],
   "source": [
    "from pykafka import KafkaClient\n",
    "from pykafka.common import OffsetType\n",
    "\n",
    "ZOOKEEPER_QUORUM = 'iccluster044.iccluster.epfl.ch:2181,'\\\n",
    "                   'iccluster054.iccluster.epfl.ch:2181,'\\\n",
    "                   'iccluster059.iccluster.epfl.ch:2181'\n",
    "\n",
    "client = KafkaClient(zookeeper_hosts=ZOOKEEPER_QUORUM)"
   ]
  },
  {
   "cell_type": "markdown",
   "metadata": {},
   "source": [
    "## Streams from Kafka"
   ]
  },
  {
   "cell_type": "code",
   "execution_count": 7,
   "metadata": {
    "scrolled": true
   },
   "outputs": [
    {
     "data": {
      "application/vnd.jupyter.widget-view+json": {
       "model_id": "",
       "version_major": 2,
       "version_minor": 0
      },
      "text/plain": [
       "FloatProgress(value=0.0, bar_style='info', description='Progress:', layout=Layout(height='25px', width='50%'),…"
      ]
     },
     "metadata": {},
     "output_type": "display_data"
    },
    {
     "name": "stdout",
     "output_type": "stream",
     "text": [
      "checkpoint created at hdfs:///user/boecuego/checkpoint/"
     ]
    }
   ],
   "source": [
    "# Define the checkpoint folder\n",
    "checkpoint = 'hdfs:///user/{}/checkpoint/'.format(username)\n",
    "print('checkpoint created at hdfs:///user/{}/checkpoint/'.format(username))"
   ]
  },
  {
   "cell_type": "code",
   "execution_count": 19,
   "metadata": {
    "scrolled": true
   },
   "outputs": [
    {
     "data": {
      "application/vnd.jupyter.widget-view+json": {
       "model_id": "",
       "version_major": 2,
       "version_minor": 0
      },
      "text/plain": [
       "FloatProgress(value=0.0, bar_style='info', description='Progress:', layout=Layout(height='25px', width='50%'),…"
      ]
     },
     "metadata": {},
     "output_type": "display_data"
    }
   ],
   "source": [
    "from pyspark.streaming import StreamingContext\n",
    "from pyspark.streaming.kafka import KafkaUtils\n",
    "\n",
    "# Create a StreamingContext with two working thread and batch interval of 10 seconds.\n",
    "# Each time you stop a StreamingContext, you will need to recreate it.\n",
    "ssc = StreamingContext(sc, 10)\n",
    "ssc.checkpoint(checkpoint)\n",
    "\n",
    "group_id = 'ns-{0}'.format(username)\n",
    "\n",
    "# Input streams\n",
    "arrival_stream = KafkaUtils.createStream(ssc, ZOOKEEPER_QUORUM, group_id, { 'ndovloketnl-arrivals': 1})\n",
    "departure_stream = KafkaUtils.createStream(ssc, ZOOKEEPER_QUORUM, group_id, { 'ndovloketnl-departures': 1})"
   ]
  },
  {
   "cell_type": "markdown",
   "metadata": {},
   "source": [
    "For now, let's just print the content of the streams. Note: the output may be shown after you run `ssc.stop`."
   ]
  },
  {
   "cell_type": "code",
   "execution_count": 20,
   "metadata": {
    "scrolled": true
   },
   "outputs": [
    {
     "data": {
      "application/vnd.jupyter.widget-view+json": {
       "model_id": "",
       "version_major": 2,
       "version_minor": 0
      },
      "text/plain": [
       "FloatProgress(value=0.0, bar_style='info', description='Progress:', layout=Layout(height='25px', width='50%'),…"
      ]
     },
     "metadata": {},
     "output_type": "display_data"
    }
   ],
   "source": [
    "arrival_stream.pprint()\n",
    "departure_stream.pprint()\n",
    "\n",
    "ssc.start()\n",
    "ssc.awaitTermination(timeout=10)"
   ]
  },
  {
   "cell_type": "code",
   "execution_count": 21,
   "metadata": {
    "scrolled": true
   },
   "outputs": [
    {
     "data": {
      "application/vnd.jupyter.widget-view+json": {
       "model_id": "",
       "version_major": 2,
       "version_minor": 0
      },
      "text/plain": [
       "FloatProgress(value=0.0, bar_style='info', description='Progress:', layout=Layout(height='25px', width='50%'),…"
      ]
     },
     "metadata": {},
     "output_type": "display_data"
    },
    {
     "name": "stdout",
     "output_type": "stream",
     "text": [
      "-------------------------------------------\n",
      "Time: 2020-05-13 12:51:30\n",
      "-------------------------------------------\n",
      "(None, u'{\"ns1:PutReisInformatieBoodschapIn\": {\"@xmlns:ns1\": \"urn:ndov:cdm:trein:reisinformatie:messages:dynamischeaankomststaat:1\", \"@xmlns:ns2\": \"urn:ndov:cdm:trein:reisinformatie:data:4\", \"ns2:ReisInformatieProductDAS\": {\"@TimeStamp\": \"2020-05-13T10:51:02.973Z\", \"@Versie\": \"6.1\", \"ns2:RIPAdministratie\": {\"ns2:ReisInformatieProductID\": \"2005131251022400002\", \"ns2:AbonnementId\": \"55\", \"ns2:ReisInformatieTijdstip\": \"2020-05-13T10:50:00.000Z\"}, \"ns2:DynamischeAankomstStaat\": {\"ns2:RitId\": \"4340\", \"ns2:RitDatum\": \"2020-05-13\", \"ns2:RitStation\": {\"ns2:StationCode\": \"ALMM\", \"ns2:Type\": \"0\", \"ns2:KorteNaam\": \"Muziekwijk\", \"ns2:MiddelNaam\": \"Muziekwijk\", \"ns2:LangeNaam\": \"Almere Muziekwijk\", \"ns2:UICCode\": \"8400082\"}, \"ns2:TreinAankomst\": {\"ns2:TreinNummer\": \"4340\", \"ns2:TreinSoort\": {\"@Code\": \"SPR\", \"#text\": \"Sprinter\"}, \"ns2:TreinStatus\": \"5\", \"ns2:Vervoerder\": \"NS\", \"ns2:TreinHerkomst\": [{\"@InfoStatus\": \"Gepland\", \"ns2:StationCode\": \"ALMO\", \"ns2:Type\": \"0\", \"ns2:KorteNaam\": \"Oostvaard\", \"ns2:MiddelNaam\": \"Oostvaarders\", \"ns2:LangeNaam\": \"Almere Oostvaarders\", \"ns2:UICCode\": \"8400226\"}, {\"@InfoStatus\": \"Actueel\", \"ns2:StationCode\": \"ALMO\", \"ns2:Type\": \"0\", \"ns2:KorteNaam\": \"Oostvaard\", \"ns2:MiddelNaam\": \"Oostvaarders\", \"ns2:LangeNaam\": \"Almere Oostvaarders\", \"ns2:UICCode\": \"8400226\"}], \"ns2:PresentatieTreinHerkomst\": {\"ns2:Uitingen\": {\"ns2:Uiting\": \"Oostvaarders\"}}, \"ns2:AankomstTijd\": [{\"@InfoStatus\": \"Gepland\", \"#text\": \"2020-05-13T10:50:00.000Z\"}, {\"@InfoStatus\": \"Actueel\", \"#text\": \"2020-05-13T10:50:00.000Z\"}], \"ns2:ExacteAankomstVertraging\": \"PT0S\", \"ns2:GedempteAankomstVertraging\": \"PT0S\", \"ns2:TreinAankomstSpoor\": [{\"@InfoStatus\": \"Gepland\", \"ns2:SpoorNummer\": \"1\"}, {\"@InfoStatus\": \"Actueel\", \"ns2:SpoorNummer\": \"1\"}], \"ns2:PresentatieTreinAankomstSpoor\": {\"ns2:Uitingen\": {\"ns2:Uiting\": \"1\"}}, \"ns2:VerkorteRouteHerkomst\": [{\"@InfoStatus\": \"Gepland\", \"ns2:Station\": {\"ns2:StationCode\": \"ALM\", \"ns2:Type\": \"5\", \"ns2:KorteNaam\": \"Almere C\", \"ns2:MiddelNaam\": \"Almere C.\", \"ns2:LangeNaam\": \"Almere Centrum\", \"ns2:UICCode\": \"8400080\"}}, {\"@InfoStatus\": \"Actueel\", \"ns2:Station\": {\"ns2:StationCode\": \"ALM\", \"ns2:Type\": \"5\", \"ns2:KorteNaam\": \"Almere C\", \"ns2:MiddelNaam\": \"Almere C.\", \"ns2:LangeNaam\": \"Almere Centrum\", \"ns2:UICCode\": \"8400080\"}}], \"ns2:PresentatieVerkorteRouteHerkomst\": {\"ns2:Uitingen\": {\"ns2:Uiting\": \"Almere C.\"}}, \"ns2:WijzigingHerkomst\": {\"ns2:WijzigingType\": \"40\"}}}}}}')\n",
      "(None, u'{\"ns1:PutReisInformatieBoodschapIn\": {\"@xmlns:ns1\": \"urn:ndov:cdm:trein:reisinformatie:messages:dynamischeaankomststaat:1\", \"@xmlns:ns2\": \"urn:ndov:cdm:trein:reisinformatie:data:4\", \"ns2:ReisInformatieProductDAS\": {\"@TimeStamp\": \"2020-05-13T10:51:05.007Z\", \"@Versie\": \"6.1\", \"ns2:RIPAdministratie\": {\"ns2:ReisInformatieProductID\": \"2005131251052300000\", \"ns2:AbonnementId\": \"55\", \"ns2:ReisInformatieTijdstip\": \"2020-05-13T10:50:00.000Z\"}, \"ns2:DynamischeAankomstStaat\": {\"ns2:RitId\": \"1645\", \"ns2:RitDatum\": \"2020-05-13\", \"ns2:RitStation\": {\"ns2:StationCode\": \"DVD\", \"ns2:Type\": \"1\", \"ns2:KorteNaam\": \"Duivendrt\", \"ns2:MiddelNaam\": \"Duivendrecht\", \"ns2:LangeNaam\": \"Duivendrecht\", \"ns2:UICCode\": \"8400194\"}, \"ns2:TreinAankomst\": {\"ns2:TreinNummer\": \"1645\", \"ns2:TreinSoort\": {\"@Code\": \"IC\", \"#text\": \"Intercity\"}, \"ns2:TreinStatus\": \"5\", \"ns2:Vervoerder\": \"NS\", \"ns2:TreinHerkomst\": [{\"@InfoStatus\": \"Gepland\", \"ns2:StationCode\": \"SHL\", \"ns2:Type\": \"6\", \"ns2:KorteNaam\": \"Schiphol\", \"ns2:MiddelNaam\": \"Schiphol Airport\", \"ns2:LangeNaam\": \"Schiphol Airport\", \"ns2:UICCode\": \"8400561\"}, {\"@InfoStatus\": \"Actueel\", \"ns2:StationCode\": \"SHL\", \"ns2:Type\": \"6\", \"ns2:KorteNaam\": \"Schiphol\", \"ns2:MiddelNaam\": \"Schiphol Airport\", \"ns2:LangeNaam\": \"Schiphol Airport\", \"ns2:UICCode\": \"8400561\"}], \"ns2:PresentatieTreinHerkomst\": {\"ns2:Uitingen\": {\"ns2:Uiting\": \"Schiphol Airport\"}}, \"ns2:AankomstTijd\": [{\"@InfoStatus\": \"Gepland\", \"#text\": \"2020-05-13T10:50:00.000Z\"}, {\"@InfoStatus\": \"Actueel\", \"#text\": \"2020-05-13T10:50:00.000Z\"}], \"ns2:ExacteAankomstVertraging\": \"PT0S\", \"ns2:GedempteAankomstVertraging\": \"PT0S\", \"ns2:TreinAankomstSpoor\": [{\"@InfoStatus\": \"Gepland\", \"ns2:SpoorNummer\": \"1\"}, {\"@InfoStatus\": \"Actueel\", \"ns2:SpoorNummer\": \"1\"}], \"ns2:PresentatieTreinAankomstSpoor\": {\"ns2:Uitingen\": {\"ns2:Uiting\": \"1\"}}, \"ns2:VerkorteRouteHerkomst\": [{\"@InfoStatus\": \"Gepland\", \"ns2:Station\": {\"ns2:StationCode\": \"ASDZ\", \"ns2:Type\": \"4\", \"ns2:KorteNaam\": \"Amsterdm Z\", \"ns2:MiddelNaam\": \"Amsterdam Z.\", \"ns2:LangeNaam\": \"Amsterdam Zuid\", \"ns2:UICCode\": \"8400061\"}}, {\"@InfoStatus\": \"Actueel\", \"ns2:Station\": {\"ns2:StationCode\": \"ASDZ\", \"ns2:Type\": \"4\", \"ns2:KorteNaam\": \"Amsterdm Z\", \"ns2:MiddelNaam\": \"Amsterdam Z.\", \"ns2:LangeNaam\": \"Amsterdam Zuid\", \"ns2:UICCode\": \"8400061\"}}], \"ns2:PresentatieVerkorteRouteHerkomst\": {\"ns2:Uitingen\": {\"ns2:Uiting\": \"Amsterdam Z.\"}}, \"ns2:WijzigingHerkomst\": {\"ns2:WijzigingType\": \"40\"}}}}}}')\n",
      "(None, u'{\"ns1:PutReisInformatieBoodschapIn\": {\"@xmlns:ns1\": \"urn:ndov:cdm:trein:reisinformatie:messages:dynamischeaankomststaat:1\", \"@xmlns:ns2\": \"urn:ndov:cdm:trein:reisinformatie:data:4\", \"ns2:ReisInformatieProductDAS\": {\"@TimeStamp\": \"2020-05-13T10:51:07.723Z\", \"@Versie\": \"6.1\", \"ns2:RIPAdministratie\": {\"ns2:ReisInformatieProductID\": \"2005131251072400032\", \"ns2:AbonnementId\": \"55\", \"ns2:ReisInformatieTijdstip\": \"2020-05-13T12:01:00.000Z\"}, \"ns2:DynamischeAankomstStaat\": {\"ns2:RitId\": \"7249\", \"ns2:RitDatum\": \"2020-05-13\", \"ns2:RitStation\": {\"ns2:StationCode\": \"BHDV\", \"ns2:Type\": \"0\", \"ns2:KorteNaam\": \"Boven-Har\", \"ns2:MiddelNaam\": \"Boven-Hardinxv.\", \"ns2:LangeNaam\": \"Boven-Hardinxveld\", \"ns2:UICCode\": \"8400236\"}, \"ns2:TreinAankomst\": {\"ns2:TreinNummer\": \"7249\", \"ns2:TreinSoort\": {\"@Code\": \"ST\", \"#text\": \"Stoptrein\"}, \"ns2:TreinStatus\": \"0\", \"ns2:Vervoerder\": \"R-net\", \"ns2:TreinHerkomst\": [{\"@InfoStatus\": \"Gepland\", \"ns2:StationCode\": \"DDR\", \"ns2:Type\": \"5\", \"ns2:KorteNaam\": \"Dordrecht\", \"ns2:MiddelNaam\": \"Dordrecht\", \"ns2:LangeNaam\": \"Dordrecht\", \"ns2:UICCode\": \"8400180\"}, {\"@InfoStatus\": \"Actueel\", \"ns2:StationCode\": \"DDR\", \"ns2:Type\": \"5\", \"ns2:KorteNaam\": \"Dordrecht\", \"ns2:MiddelNaam\": \"Dordrecht\", \"ns2:LangeNaam\": \"Dordrecht\", \"ns2:UICCode\": \"8400180\"}], \"ns2:PresentatieTreinHerkomst\": {\"ns2:Uitingen\": {\"ns2:Uiting\": \"Dordrecht\"}}, \"ns2:AankomstTijd\": [{\"@InfoStatus\": \"Gepland\", \"#text\": \"2020-05-13T12:01:00.000Z\"}, {\"@InfoStatus\": \"Actueel\", \"#text\": \"2020-05-13T12:01:00.000Z\"}], \"ns2:ExacteAankomstVertraging\": \"PT0S\", \"ns2:GedempteAankomstVertraging\": \"PT0S\", \"ns2:TreinAankomstSpoor\": [{\"@InfoStatus\": \"Gepland\", \"ns2:SpoorNummer\": \"2\"}, {\"@InfoStatus\": \"Actueel\", \"ns2:SpoorNummer\": \"2\"}], \"ns2:PresentatieTreinAankomstSpoor\": {\"ns2:Uitingen\": {\"ns2:Uiting\": \"2\"}}}}}}}')\n",
      "(None, u'{\"ns1:PutReisInformatieBoodschapIn\": {\"@xmlns:ns1\": \"urn:ndov:cdm:trein:reisinformatie:messages:dynamischeaankomststaat:1\", \"@xmlns:ns2\": \"urn:ndov:cdm:trein:reisinformatie:data:4\", \"ns2:ReisInformatieProductDAS\": {\"@TimeStamp\": \"2020-05-13T10:51:07.654Z\", \"@Versie\": \"6.1\", \"ns2:RIPAdministratie\": {\"ns2:ReisInformatieProductID\": \"2005131251072400006\", \"ns2:AbonnementId\": \"55\", \"ns2:ReisInformatieTijdstip\": \"2020-05-13T12:01:00.000Z\"}, \"ns2:DynamischeAankomstStaat\": {\"ns2:RitId\": \"2442\", \"ns2:RitDatum\": \"2020-05-13\", \"ns2:RitStation\": {\"ns2:StationCode\": \"SDM\", \"ns2:Type\": \"0\", \"ns2:KorteNaam\": \"Schiedam C\", \"ns2:MiddelNaam\": \"Schiedam C.\", \"ns2:LangeNaam\": \"Schiedam Centrum\", \"ns2:UICCode\": \"8400553\"}, \"ns2:TreinAankomst\": {\"ns2:TreinNummer\": \"2442\", \"ns2:TreinSoort\": {\"@Code\": \"IC\", \"#text\": \"Intercity\"}, \"ns2:TreinStatus\": \"0\", \"ns2:Vervoerder\": \"NS\", \"ns2:TreinHerkomst\": [{\"@InfoStatus\": \"Gepland\", \"ns2:StationCode\": \"DDR\", \"ns2:Type\": \"5\", \"ns2:KorteNaam\": \"Dordrecht\", \"ns2:MiddelNaam\": \"Dordrecht\", \"ns2:LangeNaam\": \"Dordrecht\", \"ns2:UICCode\": \"8400180\"}, {\"@InfoStatus\": \"Actueel\", \"ns2:StationCode\": \"DDR\", \"ns2:Type\": \"5\", \"ns2:KorteNaam\": \"Dordrecht\", \"ns2:MiddelNaam\": \"Dordrecht\", \"ns2:LangeNaam\": \"Dordrecht\", \"ns2:UICCode\": \"8400180\"}], \"ns2:PresentatieTreinHerkomst\": {\"ns2:Uitingen\": {\"ns2:Uiting\": \"Dordrecht\"}}, \"ns2:AankomstTijd\": [{\"@InfoStatus\": \"Gepland\", \"#text\": \"2020-05-13T12:01:00.000Z\"}, {\"@InfoStatus\": \"Actueel\", \"#text\": \"2020-05-13T12:01:00.000Z\"}], \"ns2:ExacteAankomstVertraging\": \"PT0S\", \"ns2:GedempteAankomstVertraging\": \"PT0S\", \"ns2:TreinAankomstSpoor\": [{\"@InfoStatus\": \"Gepland\", \"ns2:SpoorNummer\": \"5\"}, {\"@InfoStatus\": \"Actueel\", \"ns2:SpoorNummer\": \"5\"}], \"ns2:PresentatieTreinAankomstSpoor\": {\"ns2:Uitingen\": {\"ns2:Uiting\": \"5\"}}, \"ns2:VerkorteRouteHerkomst\": [{\"@InfoStatus\": \"Gepland\", \"ns2:Station\": {\"ns2:StationCode\": \"RTD\", \"ns2:Type\": \"6\", \"ns2:KorteNaam\": \"Rotterdm C\", \"ns2:MiddelNaam\": \"Rotterdam C.\", \"ns2:LangeNaam\": \"Rotterdam Centraal\", \"ns2:UICCode\": \"8400530\"}}, {\"@InfoStatus\": \"Actueel\", \"ns2:Station\": {\"ns2:StationCode\": \"RTD\", \"ns2:Type\": \"6\", \"ns2:KorteNaam\": \"Rotterdm C\", \"ns2:MiddelNaam\": \"Rotterdam C.\", \"ns2:LangeNaam\": \"Rotterdam Centraal\", \"ns2:UICCode\": \"8400530\"}}], \"ns2:PresentatieVerkorteRouteHerkomst\": {\"ns2:Uitingen\": {\"ns2:Uiting\": \"Rotterdam C.\"}}}}}}}')\n",
      "(None, u'{\"ns1:PutReisInformatieBoodschapIn\": {\"@xmlns:ns1\": \"urn:ndov:cdm:trein:reisinformatie:messages:dynamischeaankomststaat:1\", \"@xmlns:ns2\": \"urn:ndov:cdm:trein:reisinformatie:data:4\", \"ns2:ReisInformatieProductDAS\": {\"@TimeStamp\": \"2020-05-13T10:51:07.659Z\", \"@Versie\": \"6.1\", \"ns2:RIPAdministratie\": {\"ns2:ReisInformatieProductID\": \"2005131251072400008\", \"ns2:AbonnementId\": \"55\", \"ns2:ReisInformatieTijdstip\": \"2020-05-13T12:01:00.000Z\"}, \"ns2:DynamischeAankomstStaat\": {\"ns2:RitId\": \"14649\", \"ns2:RitDatum\": \"2020-05-13\", \"ns2:RitStation\": {\"ns2:StationCode\": \"ASSP\", \"ns2:Type\": \"0\", \"ns2:KorteNaam\": \"Scienceprk\", \"ns2:MiddelNaam\": \"Science Park\", \"ns2:LangeNaam\": \"Amsterdam Science Park\", \"ns2:UICCode\": \"8400235\"}, \"ns2:TreinAankomst\": {\"ns2:TreinNummer\": \"14649\", \"ns2:TreinSoort\": {\"@Code\": \"SPR\", \"#text\": \"Sprinter\"}, \"ns2:TreinStatus\": \"0\", \"ns2:Vervoerder\": \"NS\", \"ns2:TreinHerkomst\": [{\"@InfoStatus\": \"Gepland\", \"ns2:StationCode\": \"ASD\", \"ns2:Type\": \"6\", \"ns2:KorteNaam\": \"Amsterdm C\", \"ns2:MiddelNaam\": \"Amsterdam C.\", \"ns2:LangeNaam\": \"Amsterdam Centraal\", \"ns2:UICCode\": \"8400058\"}, {\"@InfoStatus\": \"Actueel\", \"ns2:StationCode\": \"ASD\", \"ns2:Type\": \"6\", \"ns2:KorteNaam\": \"Amsterdm C\", \"ns2:MiddelNaam\": \"Amsterdam C.\", \"ns2:LangeNaam\": \"Amsterdam Centraal\", \"ns2:UICCode\": \"8400058\"}], \"ns2:PresentatieTreinHerkomst\": {\"ns2:Uitingen\": {\"ns2:Uiting\": \"Amsterdam C.\"}}, \"ns2:AankomstTijd\": [{\"@InfoStatus\": \"Gepland\", \"#text\": \"2020-05-13T12:01:00.000Z\"}, {\"@InfoStatus\": \"Actueel\", \"#text\": \"2020-05-13T12:01:00.000Z\"}], \"ns2:ExacteAankomstVertraging\": \"PT0S\", \"ns2:GedempteAankomstVertraging\": \"PT0S\", \"ns2:TreinAankomstSpoor\": [{\"@InfoStatus\": \"Gepland\", \"ns2:SpoorNummer\": \"1\"}, {\"@InfoStatus\": \"Actueel\", \"ns2:SpoorNummer\": \"1\"}], \"ns2:PresentatieTreinAankomstSpoor\": {\"ns2:Uitingen\": {\"ns2:Uiting\": \"1\"}}}}}}}')\n",
      "(None, u'{\"ns1:PutReisInformatieBoodschapIn\": {\"@xmlns:ns1\": \"urn:ndov:cdm:trein:reisinformatie:messages:dynamischeaankomststaat:1\", \"@xmlns:ns2\": \"urn:ndov:cdm:trein:reisinformatie:data:4\", \"ns2:ReisInformatieProductDAS\": {\"@TimeStamp\": \"2020-05-13T10:51:07.689Z\", \"@Versie\": \"6.1\", \"ns2:RIPAdministratie\": {\"ns2:ReisInformatieProductID\": \"2005131251072400020\", \"ns2:AbonnementId\": \"55\", \"ns2:ReisInformatieTijdstip\": \"2020-05-13T12:01:00.000Z\"}, \"ns2:DynamischeAankomstStaat\": {\"ns2:RitId\": \"6642\", \"ns2:RitDatum\": \"2020-05-13\", \"ns2:RitStation\": {\"ns2:StationCode\": \"WC\", \"ns2:Type\": \"0\", \"ns2:KorteNaam\": \"Wijchen\", \"ns2:MiddelNaam\": \"Wijchen\", \"ns2:LangeNaam\": \"Wijchen\", \"ns2:UICCode\": \"8400710\"}, \"ns2:TreinAankomst\": {\"ns2:TreinNummer\": \"6642\", \"ns2:TreinSoort\": {\"@Code\": \"SPR\", \"#text\": \"Sprinter\"}, \"ns2:TreinStatus\": \"0\", \"ns2:Vervoerder\": \"NS\", \"ns2:TreinHerkomst\": [{\"@InfoStatus\": \"Gepland\", \"ns2:StationCode\": \"DDR\", \"ns2:Type\": \"5\", \"ns2:KorteNaam\": \"Dordrecht\", \"ns2:MiddelNaam\": \"Dordrecht\", \"ns2:LangeNaam\": \"Dordrecht\", \"ns2:UICCode\": \"8400180\"}, {\"@InfoStatus\": \"Actueel\", \"ns2:StationCode\": \"DDR\", \"ns2:Type\": \"5\", \"ns2:KorteNaam\": \"Dordrecht\", \"ns2:MiddelNaam\": \"Dordrecht\", \"ns2:LangeNaam\": \"Dordrecht\", \"ns2:UICCode\": \"8400180\"}], \"ns2:PresentatieTreinHerkomst\": {\"ns2:Uitingen\": {\"ns2:Uiting\": \"Dordrecht\"}}, \"ns2:AankomstTijd\": [{\"@InfoStatus\": \"Gepland\", \"#text\": \"2020-05-13T12:01:00.000Z\"}, {\"@InfoStatus\": \"Actueel\", \"#text\": \"2020-05-13T12:01:00.000Z\"}], \"ns2:ExacteAankomstVertraging\": \"PT0S\", \"ns2:GedempteAankomstVertraging\": \"PT0S\", \"ns2:TreinAankomstSpoor\": [{\"@InfoStatus\": \"Gepland\", \"ns2:SpoorNummer\": \"3\"}, {\"@InfoStatus\": \"Actueel\", \"ns2:SpoorNummer\": \"3\"}], \"ns2:PresentatieTreinAankomstSpoor\": {\"ns2:Uitingen\": {\"ns2:Uiting\": \"3\"}}, \"ns2:VerkorteRouteHerkomst\": [{\"@InfoStatus\": \"Gepland\", \"ns2:Station\": [{\"ns2:StationCode\": \"BD\", \"ns2:Type\": \"5\", \"ns2:KorteNaam\": \"Breda\", \"ns2:MiddelNaam\": \"Breda\", \"ns2:LangeNaam\": \"Breda\", \"ns2:UICCode\": \"8400131\"}, {\"ns2:StationCode\": \"TB\", \"ns2:Type\": \"5\", \"ns2:KorteNaam\": \"Tilburg\", \"ns2:MiddelNaam\": \"Tilburg\", \"ns2:LangeNaam\": \"Tilburg\", \"ns2:UICCode\": \"8400597\"}, {\"ns2:StationCode\": \"HT\", \"ns2:Type\": \"5\", \"ns2:KorteNaam\": \"Den Bosch\", \"ns2:MiddelNaam\": \"\\'s-Hertogenbosch\", \"ns2:LangeNaam\": \"\\'s-Hertogenbosch\", \"ns2:UICCode\": \"8400319\"}, {\"ns2:StationCode\": \"O\", \"ns2:Type\": \"5\", \"ns2:KorteNaam\": \"Oss\", \"ns2:MiddelNaam\": \"Oss\", \"ns2:LangeNaam\": \"Oss\", \"ns2:UICCode\": \"8400495\"}]}, {\"@InfoStatus\": \"Actueel\", \"ns2:Station\": [{\"ns2:StationCode\": \"BD\", \"ns2:Type\": \"5\", \"ns2:KorteNaam\": \"Breda\", \"ns2:MiddelNaam\": \"Breda\", \"ns2:LangeNaam\": \"Breda\", \"ns2:UICCode\": \"8400131\"}, {\"ns2:StationCode\": \"TB\", \"ns2:Type\": \"5\", \"ns2:KorteNaam\": \"Tilburg\", \"ns2:MiddelNaam\": \"Tilburg\", \"ns2:LangeNaam\": \"Tilburg\", \"ns2:UICCode\": \"8400597\"}, {\"ns2:StationCode\": \"HT\", \"ns2:Type\": \"5\", \"ns2:KorteNaam\": \"Den Bosch\", \"ns2:MiddelNaam\": \"\\'s-Hertogenbosch\", \"ns2:LangeNaam\": \"\\'s-Hertogenbosch\", \"ns2:UICCode\": \"8400319\"}, {\"ns2:StationCode\": \"O\", \"ns2:Type\": \"5\", \"ns2:KorteNaam\": \"Oss\", \"ns2:MiddelNaam\": \"Oss\", \"ns2:LangeNaam\": \"Oss\", \"ns2:UICCode\": \"8400495\"}]}], \"ns2:PresentatieVerkorteRouteHerkomst\": {\"ns2:Uitingen\": {\"ns2:Uiting\": \"Breda, Tilburg, \\'s-Hertogenbosch, Oss\"}}}}}}}')\n",
      "(None, u'{\"ns1:PutReisInformatieBoodschapIn\": {\"@xmlns:ns1\": \"urn:ndov:cdm:trein:reisinformatie:messages:dynamischeaankomststaat:1\", \"@xmlns:ns2\": \"urn:ndov:cdm:trein:reisinformatie:data:4\", \"ns2:ReisInformatieProductDAS\": {\"@TimeStamp\": \"2020-05-13T10:51:07.634Z\", \"@Versie\": \"6.1\", \"ns2:RIPAdministratie\": {\"ns2:ReisInformatieProductID\": \"2005131251072400000\", \"ns2:AbonnementId\": \"55\", \"ns2:ReisInformatieTijdstip\": \"2020-05-13T12:01:00.000Z\"}, \"ns2:DynamischeAankomstStaat\": {\"ns2:RitId\": \"850\", \"ns2:RitDatum\": \"2020-05-13\", \"ns2:RitStation\": {\"ns2:StationCode\": \"RM\", \"ns2:Type\": \"5\", \"ns2:KorteNaam\": \"Roermond\", \"ns2:MiddelNaam\": \"Roermond\", \"ns2:LangeNaam\": \"Roermond\", \"ns2:UICCode\": \"8400523\"}, \"ns2:TreinAankomst\": {\"ns2:TreinNummer\": \"850\", \"ns2:TreinSoort\": {\"@Code\": \"IC\", \"#text\": \"Intercity\"}, \"ns2:TreinStatus\": \"0\", \"ns2:Vervoerder\": \"NS\", \"ns2:TreinHerkomst\": [{\"@InfoStatus\": \"Gepland\", \"ns2:StationCode\": \"MT\", \"ns2:Type\": \"5\", \"ns2:KorteNaam\": \"Maastricht\", \"ns2:MiddelNaam\": \"Maastricht\", \"ns2:LangeNaam\": \"Maastricht\", \"ns2:UICCode\": \"8400424\"}, {\"@InfoStatus\": \"Actueel\", \"ns2:StationCode\": \"MT\", \"ns2:Type\": \"5\", \"ns2:KorteNaam\": \"Maastricht\", \"ns2:MiddelNaam\": \"Maastricht\", \"ns2:LangeNaam\": \"Maastricht\", \"ns2:UICCode\": \"8400424\"}], \"ns2:PresentatieTreinHerkomst\": {\"ns2:Uitingen\": {\"ns2:Uiting\": \"Maastricht\"}}, \"ns2:AankomstTijd\": [{\"@InfoStatus\": \"Gepland\", \"#text\": \"2020-05-13T12:01:00.000Z\"}, {\"@InfoStatus\": \"Actueel\", \"#text\": \"2020-05-13T12:01:00.000Z\"}], \"ns2:ExacteAankomstVertraging\": \"PT0S\", \"ns2:GedempteAankomstVertraging\": \"PT0S\", \"ns2:TreinAankomstSpoor\": [{\"@InfoStatus\": \"Gepland\", \"ns2:SpoorNummer\": \"2\"}, {\"@InfoStatus\": \"Actueel\", \"ns2:SpoorNummer\": \"2\"}], \"ns2:PresentatieTreinAankomstSpoor\": {\"ns2:Uitingen\": {\"ns2:Uiting\": \"2\"}}, \"ns2:VerkorteRouteHerkomst\": [{\"@InfoStatus\": \"Gepland\", \"ns2:Station\": {\"ns2:StationCode\": \"STD\", \"ns2:Type\": \"5\", \"ns2:KorteNaam\": \"Sittard\", \"ns2:MiddelNaam\": \"Sittard\", \"ns2:LangeNaam\": \"Sittard\", \"ns2:UICCode\": \"8400564\"}}, {\"@InfoStatus\": \"Actueel\", \"ns2:Station\": {\"ns2:StationCode\": \"STD\", \"ns2:Type\": \"5\", \"ns2:KorteNaam\": \"Sittard\", \"ns2:MiddelNaam\": \"Sittard\", \"ns2:LangeNaam\": \"Sittard\", \"ns2:UICCode\": \"8400564\"}}], \"ns2:PresentatieVerkorteRouteHerkomst\": {\"ns2:Uitingen\": {\"ns2:Uiting\": \"Sittard\"}}}}}}}')\n",
      "(None, u'{\"ns1:PutReisInformatieBoodschapIn\": {\"@xmlns:ns1\": \"urn:ndov:cdm:trein:reisinformatie:messages:dynamischeaankomststaat:1\", \"@xmlns:ns2\": \"urn:ndov:cdm:trein:reisinformatie:data:4\", \"ns2:ReisInformatieProductDAS\": {\"@TimeStamp\": \"2020-05-13T10:51:07.752Z\", \"@Versie\": \"6.1\", \"ns2:RIPAdministratie\": {\"ns2:ReisInformatieProductID\": \"2005131251072400042\", \"ns2:AbonnementId\": \"55\", \"ns2:ReisInformatieTijdstip\": \"2020-05-13T12:01:00.000Z\"}, \"ns2:DynamischeAankomstStaat\": {\"ns2:RitId\": \"6949\", \"ns2:RitDatum\": \"2020-05-13\", \"ns2:RitStation\": {\"ns2:StationCode\": \"HTN\", \"ns2:Type\": \"1\", \"ns2:KorteNaam\": \"Houten\", \"ns2:MiddelNaam\": \"Houten\", \"ns2:LangeNaam\": \"Houten\", \"ns2:UICCode\": \"8400340\"}, \"ns2:TreinAankomst\": {\"ns2:TreinNummer\": \"6949\", \"ns2:TreinSoort\": {\"@Code\": \"SPR\", \"#text\": \"Sprinter\"}, \"ns2:TreinStatus\": \"0\", \"ns2:Vervoerder\": \"NS\", \"ns2:TreinHerkomst\": [{\"@InfoStatus\": \"Gepland\", \"ns2:StationCode\": \"GVC\", \"ns2:Type\": \"6\", \"ns2:KorteNaam\": \"Den Haag C\", \"ns2:MiddelNaam\": \"Den Haag C.\", \"ns2:LangeNaam\": \"Den Haag Centraal\", \"ns2:UICCode\": \"8400282\"}, {\"@InfoStatus\": \"Actueel\", \"ns2:StationCode\": \"GVC\", \"ns2:Type\": \"6\", \"ns2:KorteNaam\": \"Den Haag C\", \"ns2:MiddelNaam\": \"Den Haag C.\", \"ns2:LangeNaam\": \"Den Haag Centraal\", \"ns2:UICCode\": \"8400282\"}], \"ns2:PresentatieTreinHerkomst\": {\"ns2:Uitingen\": {\"ns2:Uiting\": \"Den Haag C.\"}}, \"ns2:AankomstTijd\": [{\"@InfoStatus\": \"Gepland\", \"#text\": \"2020-05-13T12:01:00.000Z\"}, {\"@InfoStatus\": \"Actueel\", \"#text\": \"2020-05-13T12:01:00.000Z\"}], \"ns2:ExacteAankomstVertraging\": \"PT0S\", \"ns2:GedempteAankomstVertraging\": \"PT0S\", \"ns2:TreinAankomstSpoor\": [{\"@InfoStatus\": \"Gepland\", \"ns2:SpoorNummer\": \"2\"}, {\"@InfoStatus\": \"Actueel\", \"ns2:SpoorNummer\": \"2\"}], \"ns2:PresentatieTreinAankomstSpoor\": {\"ns2:Uitingen\": {\"ns2:Uiting\": \"2\"}}, \"ns2:VerkorteRouteHerkomst\": [{\"@InfoStatus\": \"Gepland\", \"ns2:Station\": [{\"ns2:StationCode\": \"GD\", \"ns2:Type\": \"5\", \"ns2:KorteNaam\": \"Gouda\", \"ns2:MiddelNaam\": \"Gouda\", \"ns2:LangeNaam\": \"Gouda\", \"ns2:UICCode\": \"8400258\"}, {\"ns2:StationCode\": \"WD\", \"ns2:Type\": \"1\", \"ns2:KorteNaam\": \"Woerden\", \"ns2:MiddelNaam\": \"Woerden\", \"ns2:LangeNaam\": \"Woerden\", \"ns2:UICCode\": \"8400702\"}, {\"ns2:StationCode\": \"UT\", \"ns2:Type\": \"6\", \"ns2:KorteNaam\": \"Utrecht C\", \"ns2:MiddelNaam\": \"Utrecht C.\", \"ns2:LangeNaam\": \"Utrecht Centraal\", \"ns2:UICCode\": \"8400621\"}, {\"ns2:StationCode\": \"UTVR\", \"ns2:Type\": \"1\", \"ns2:KorteNaam\": \"VaartscheR\", \"ns2:MiddelNaam\": \"Vaartsche Rijn\", \"ns2:LangeNaam\": \"Utrecht Vaartsche Rijn\", \"ns2:UICCode\": \"8400606\"}]}, {\"@InfoStatus\": \"Actueel\", \"ns2:Station\": [{\"ns2:StationCode\": \"GD\", \"ns2:Type\": \"5\", \"ns2:KorteNaam\": \"Gouda\", \"ns2:MiddelNaam\": \"Gouda\", \"ns2:LangeNaam\": \"Gouda\", \"ns2:UICCode\": \"8400258\"}, {\"ns2:StationCode\": \"WD\", \"ns2:Type\": \"1\", \"ns2:KorteNaam\": \"Woerden\", \"ns2:MiddelNaam\": \"Woerden\", \"ns2:LangeNaam\": \"Woerden\", \"ns2:UICCode\": \"8400702\"}, {\"ns2:StationCode\": \"UT\", \"ns2:Type\": \"6\", \"ns2:KorteNaam\": \"Utrecht C\", \"ns2:MiddelNaam\": \"Utrecht C.\", \"ns2:LangeNaam\": \"Utrecht Centraal\", \"ns2:UICCode\": \"8400621\"}, {\"ns2:StationCode\": \"UTVR\", \"ns2:Type\": \"1\", \"ns2:KorteNaam\": \"VaartscheR\", \"ns2:MiddelNaam\": \"Vaartsche Rijn\", \"ns2:LangeNaam\": \"Utrecht Vaartsche Rijn\", \"ns2:UICCode\": \"8400606\"}]}], \"ns2:PresentatieVerkorteRouteHerkomst\": {\"ns2:Uitingen\": {\"ns2:Uiting\": \"Gouda, Woerden, Utrecht C., Vaartsche Rijn\"}}}}}}}')\n",
      "(None, u'{\"ns1:PutReisInformatieBoodschapIn\": {\"@xmlns:ns1\": \"urn:ndov:cdm:trein:reisinformatie:messages:dynamischeaankomststaat:1\", \"@xmlns:ns2\": \"urn:ndov:cdm:trein:reisinformatie:data:4\", \"ns2:ReisInformatieProductDAS\": {\"@TimeStamp\": \"2020-05-13T10:51:04.961Z\", \"@Versie\": \"6.1\", \"ns2:RIPAdministratie\": {\"ns2:ReisInformatieProductID\": \"2005131251042300005\", \"ns2:AbonnementId\": \"55\", \"ns2:ReisInformatieTijdstip\": \"2020-05-13T10:52:00.000Z\"}, \"ns2:DynamischeAankomstStaat\": {\"ns2:RitId\": \"15840\", \"ns2:RitDatum\": \"2020-05-13\", \"ns2:RitStation\": {\"ns2:StationCode\": \"BSMZ\", \"ns2:Type\": \"0\", \"ns2:KorteNaam\": \"Bussum Z\", \"ns2:MiddelNaam\": \"Bussum Z.\", \"ns2:LangeNaam\": \"Bussum Zuid\", \"ns2:UICCode\": \"8400145\"}, \"ns2:TreinAankomst\": {\"ns2:TreinNummer\": \"15840\", \"ns2:TreinSoort\": {\"@Code\": \"SPR\", \"#text\": \"Sprinter\"}, \"ns2:TreinStatus\": \"2\", \"ns2:Vervoerder\": \"NS\", \"ns2:TreinHerkomst\": [{\"@InfoStatus\": \"Gepland\", \"ns2:StationCode\": \"AVAT\", \"ns2:Type\": \"0\", \"ns2:KorteNaam\": \"Vathorst\", \"ns2:MiddelNaam\": \"Vathorst\", \"ns2:LangeNaam\": \"Amersfoort Vathorst\", \"ns2:UICCode\": \"8400228\"}, {\"@InfoStatus\": \"Actueel\", \"ns2:StationCode\": \"AVAT\", \"ns2:Type\": \"0\", \"ns2:KorteNaam\": \"Vathorst\", \"ns2:MiddelNaam\": \"Vathorst\", \"ns2:LangeNaam\": \"Amersfoort Vathorst\", \"ns2:UICCode\": \"8400228\"}], \"ns2:PresentatieTreinHerkomst\": {\"ns2:Uitingen\": {\"ns2:Uiting\": \"Vathorst\"}}, \"ns2:AankomstTijd\": [{\"@InfoStatus\": \"Gepland\", \"#text\": \"2020-05-13T10:52:00.000Z\"}, {\"@InfoStatus\": \"Actueel\", \"#text\": \"2020-05-13T10:52:00.000Z\"}], \"ns2:ExacteAankomstVertraging\": \"PT0S\", \"ns2:GedempteAankomstVertraging\": \"PT0S\", \"ns2:TreinAankomstSpoor\": [{\"@InfoStatus\": \"Gepland\", \"ns2:SpoorNummer\": \"1\"}, {\"@InfoStatus\": \"Actueel\", \"ns2:SpoorNummer\": \"1\"}], \"ns2:PresentatieTreinAankomstSpoor\": {\"ns2:Uitingen\": {\"ns2:Uiting\": \"1\"}}, \"ns2:VerkorteRouteHerkomst\": [{\"@InfoStatus\": \"Gepland\", \"ns2:Station\": [{\"ns2:StationCode\": \"AMF\", \"ns2:Type\": \"5\", \"ns2:KorteNaam\": \"Amersfrt C\", \"ns2:MiddelNaam\": \"Amersfoort C.\", \"ns2:LangeNaam\": \"Amersfoort Centraal\", \"ns2:UICCode\": \"8400055\"}, {\"ns2:StationCode\": \"BRN\", \"ns2:Type\": \"1\", \"ns2:KorteNaam\": \"Baarn\", \"ns2:MiddelNaam\": \"Baarn\", \"ns2:LangeNaam\": \"Baarn\", \"ns2:UICCode\": \"8400086\"}, {\"ns2:StationCode\": \"HVS\", \"ns2:Type\": \"5\", \"ns2:KorteNaam\": \"Hilversum\", \"ns2:MiddelNaam\": \"Hilversum\", \"ns2:LangeNaam\": \"Hilversum\", \"ns2:UICCode\": \"8400322\"}]}, {\"@InfoStatus\": \"Actueel\", \"ns2:Station\": [{\"ns2:StationCode\": \"AMF\", \"ns2:Type\": \"5\", \"ns2:KorteNaam\": \"Amersfrt C\", \"ns2:MiddelNaam\": \"Amersfoort C.\", \"ns2:LangeNaam\": \"Amersfoort Centraal\", \"ns2:UICCode\": \"8400055\"}, {\"ns2:StationCode\": \"BRN\", \"ns2:Type\": \"1\", \"ns2:KorteNaam\": \"Baarn\", \"ns2:MiddelNaam\": \"Baarn\", \"ns2:LangeNaam\": \"Baarn\", \"ns2:UICCode\": \"8400086\"}, {\"ns2:StationCode\": \"HVS\", \"ns2:Type\": \"5\", \"ns2:KorteNaam\": \"Hilversum\", \"ns2:MiddelNaam\": \"Hilversum\", \"ns2:LangeNaam\": \"Hilversum\", \"ns2:UICCode\": \"8400322\"}]}], \"ns2:PresentatieVerkorteRouteHerkomst\": {\"ns2:Uitingen\": {\"ns2:Uiting\": \"Amersfoort C., Baarn, Hilversum\"}}, \"ns2:WijzigingHerkomst\": {\"ns2:WijzigingType\": \"40\"}}}}}}')\n",
      "(None, u'{\"ns1:PutReisInformatieBoodschapIn\": {\"@xmlns:ns1\": \"urn:ndov:cdm:trein:reisinformatie:messages:dynamischeaankomststaat:1\", \"@xmlns:ns2\": \"urn:ndov:cdm:trein:reisinformatie:data:4\", \"ns2:ReisInformatieProductDAS\": {\"@TimeStamp\": \"2020-05-13T10:51:07.664Z\", \"@Versie\": \"6.1\", \"ns2:RIPAdministratie\": {\"ns2:ReisInformatieProductID\": \"2005131251072400010\", \"ns2:AbonnementId\": \"55\", \"ns2:ReisInformatieTijdstip\": \"2020-05-13T12:01:00.000Z\"}, \"ns2:DynamischeAankomstStaat\": {\"ns2:RitId\": \"14642\", \"ns2:RitDatum\": \"2020-05-13\", \"ns2:RitStation\": {\"ns2:StationCode\": \"ASDM\", \"ns2:Type\": \"0\", \"ns2:KorteNaam\": \"Muiderprt\", \"ns2:MiddelNaam\": \"Muiderpoort\", \"ns2:LangeNaam\": \"Amsterdam Muiderpoort\", \"ns2:UICCode\": \"8400060\"}, \"ns2:TreinAankomst\": {\"ns2:TreinNummer\": \"14642\", \"ns2:TreinSoort\": {\"@Code\": \"SPR\", \"#text\": \"Sprinter\"}, \"ns2:TreinStatus\": \"0\", \"ns2:Vervoerder\": \"NS\", \"ns2:TreinHerkomst\": [{\"@InfoStatus\": \"Gepland\", \"ns2:StationCode\": \"ZL\", \"ns2:Type\": \"5\", \"ns2:KorteNaam\": \"Zwolle\", \"ns2:MiddelNaam\": \"Zwolle\", \"ns2:LangeNaam\": \"Zwolle\", \"ns2:UICCode\": \"8400747\"}, {\"@InfoStatus\": \"Actueel\", \"ns2:StationCode\": \"ZL\", \"ns2:Type\": \"5\", \"ns2:KorteNaam\": \"Zwolle\", \"ns2:MiddelNaam\": \"Zwolle\", \"ns2:LangeNaam\": \"Zwolle\", \"ns2:UICCode\": \"8400747\"}], \"ns2:PresentatieTreinHerkomst\": {\"ns2:Uitingen\": {\"ns2:Uiting\": \"Zwolle\"}}, \"ns2:AankomstTijd\": [{\"@InfoStatus\": \"Gepland\", \"#text\": \"2020-05-13T12:01:00.000Z\"}, {\"@InfoStatus\": \"Actueel\", \"#text\": \"2020-05-13T12:01:00.000Z\"}], \"ns2:ExacteAankomstVertraging\": \"PT0S\", \"ns2:GedempteAankomstVertraging\": \"PT0S\", \"ns2:TreinAankomstSpoor\": [{\"@InfoStatus\": \"Gepland\", \"ns2:SpoorNummer\": \"3\"}, {\"@InfoStatus\": \"Actueel\", \"ns2:SpoorNummer\": \"3\"}], \"ns2:PresentatieTreinAankomstSpoor\": {\"ns2:Uitingen\": {\"ns2:Uiting\": \"3\"}}, \"ns2:VerkorteRouteHerkomst\": [{\"@InfoStatus\": \"Gepland\", \"ns2:Station\": [{\"ns2:StationCode\": \"LLS\", \"ns2:Type\": \"5\", \"ns2:KorteNaam\": \"Lelystad C\", \"ns2:MiddelNaam\": \"Lelystad C.\", \"ns2:LangeNaam\": \"Lelystad Centrum\", \"ns2:UICCode\": \"8400394\"}, {\"ns2:StationCode\": \"ALM\", \"ns2:Type\": \"5\", \"ns2:KorteNaam\": \"Almere C\", \"ns2:MiddelNaam\": \"Almere C.\", \"ns2:LangeNaam\": \"Almere Centrum\", \"ns2:UICCode\": \"8400080\"}, {\"ns2:StationCode\": \"WP\", \"ns2:Type\": \"1\", \"ns2:KorteNaam\": \"Weesp\", \"ns2:MiddelNaam\": \"Weesp\", \"ns2:LangeNaam\": \"Weesp\", \"ns2:UICCode\": \"8400685\"}]}, {\"@InfoStatus\": \"Actueel\", \"ns2:Station\": [{\"ns2:StationCode\": \"LLS\", \"ns2:Type\": \"5\", \"ns2:KorteNaam\": \"Lelystad C\", \"ns2:MiddelNaam\": \"Lelystad C.\", \"ns2:LangeNaam\": \"Lelystad Centrum\", \"ns2:UICCode\": \"8400394\"}, {\"ns2:StationCode\": \"ALM\", \"ns2:Type\": \"5\", \"ns2:KorteNaam\": \"Almere C\", \"ns2:MiddelNaam\": \"Almere C.\", \"ns2:LangeNaam\": \"Almere Centrum\", \"ns2:UICCode\": \"8400080\"}, {\"ns2:StationCode\": \"WP\", \"ns2:Type\": \"1\", \"ns2:KorteNaam\": \"Weesp\", \"ns2:MiddelNaam\": \"Weesp\", \"ns2:LangeNaam\": \"Weesp\", \"ns2:UICCode\": \"8400685\"}]}], \"ns2:PresentatieVerkorteRouteHerkomst\": {\"ns2:Uitingen\": {\"ns2:Uiting\": \"Lelystad C., Almere C., Weesp\"}}}}}}}')\n",
      "...\n",
      "\n",
      "-------------------------------------------\n",
      "Time: 2020-05-13 12:51:30\n",
      "-------------------------------------------\n",
      "(None, u'{\"ns1:PutReisInformatieBoodschapIn\": {\"@xmlns:ns1\": \"urn:ndov:cdm:trein:reisinformatie:messages:5\", \"@xmlns:ns2\": \"urn:ndov:cdm:trein:reisinformatie:data:4\", \"ns2:ReisInformatieProductDVS\": {\"@TimeStamp\": \"2020-05-13T10:51:02.954Z\", \"@Versie\": \"6.2\", \"ns2:RIPAdministratie\": {\"ns2:ReisInformatieProductID\": \"2005131251022400001\", \"ns2:AbonnementId\": \"54\", \"ns2:ReisInformatieTijdstip\": \"2020-05-13T10:50:00.000Z\"}, \"ns2:DynamischeVertrekStaat\": {\"ns2:RitId\": \"4340\", \"ns2:RitDatum\": \"2020-05-13\", \"ns2:RitStation\": {\"ns2:StationCode\": \"ALMM\", \"ns2:Type\": \"0\", \"ns2:KorteNaam\": \"Muziekwijk\", \"ns2:MiddelNaam\": \"Muziekwijk\", \"ns2:LangeNaam\": \"Almere Muziekwijk\", \"ns2:UICCode\": \"8400082\"}, \"ns2:Trein\": {\"ns2:TreinNummer\": \"4340\", \"ns2:TreinSoort\": {\"@Code\": \"SPR\", \"#text\": \"Sprinter\"}, \"ns2:TreinFormule\": \"1\", \"ns2:TreinStatus\": \"5\", \"ns2:Vervoerder\": \"NS\", \"ns2:Reserveren\": \"N\", \"ns2:Toeslag\": \"N\", \"ns2:NietInstappen\": \"N\", \"ns2:AchterBlijvenAchtersteTreinDeel\": \"N\", \"ns2:RangeerBeweging\": \"N\", \"ns2:SpeciaalKaartje\": \"N\", \"ns2:TreinEindBestemming\": [{\"@InfoStatus\": \"Gepland\", \"ns2:StationCode\": \"HFD\", \"ns2:Type\": \"0\", \"ns2:KorteNaam\": \"Hoofddorp\", \"ns2:MiddelNaam\": \"Hoofddorp\", \"ns2:LangeNaam\": \"Hoofddorp\", \"ns2:UICCode\": \"8400332\"}, {\"@InfoStatus\": \"Actueel\", \"ns2:StationCode\": \"HFD\", \"ns2:Type\": \"0\", \"ns2:KorteNaam\": \"Hoofddorp\", \"ns2:MiddelNaam\": \"Hoofddorp\", \"ns2:LangeNaam\": \"Hoofddorp\", \"ns2:UICCode\": \"8400332\"}], \"ns2:PresentatieTreinEindBestemming\": {\"ns2:Uitingen\": {\"ns2:Uiting\": \"Hoofddorp\"}}, \"ns2:VertrekTijd\": [{\"@InfoStatus\": \"Gepland\", \"#text\": \"2020-05-13T10:50:00.000Z\"}, {\"@InfoStatus\": \"Actueel\", \"#text\": \"2020-05-13T10:50:00.000Z\"}], \"ns2:ExacteVertrekVertraging\": \"PT0S\", \"ns2:GedempteVertrekVertraging\": \"PT0S\", \"ns2:TreinVertrekSpoor\": [{\"@InfoStatus\": \"Gepland\", \"ns2:SpoorNummer\": \"1\"}, {\"@InfoStatus\": \"Actueel\", \"ns2:SpoorNummer\": \"1\"}], \"ns2:PresentatieTreinVertrekSpoor\": {\"ns2:Uitingen\": {\"ns2:Uiting\": \"1\"}}, \"ns2:VertrekRichting\": \"A\", \"ns2:AfstandPerronEindKopVertrekTrein\": \"0\", \"ns2:VerkorteRoute\": [{\"@InfoStatus\": \"Gepland\", \"ns2:Station\": [{\"ns2:StationCode\": \"WP\", \"ns2:Type\": \"1\", \"ns2:KorteNaam\": \"Weesp\", \"ns2:MiddelNaam\": \"Weesp\", \"ns2:LangeNaam\": \"Weesp\", \"ns2:UICCode\": \"8400685\"}, {\"ns2:StationCode\": \"DVD\", \"ns2:Type\": \"1\", \"ns2:KorteNaam\": \"Duivendrt\", \"ns2:MiddelNaam\": \"Duivendrecht\", \"ns2:LangeNaam\": \"Duivendrecht\", \"ns2:UICCode\": \"8400194\"}, {\"ns2:StationCode\": \"SHL\", \"ns2:Type\": \"6\", \"ns2:KorteNaam\": \"Schiphol\", \"ns2:MiddelNaam\": \"Schiphol Airport\", \"ns2:LangeNaam\": \"Schiphol Airport\", \"ns2:UICCode\": \"8400561\"}]}, {\"@InfoStatus\": \"Actueel\", \"ns2:Station\": [{\"ns2:StationCode\": \"WP\", \"ns2:Type\": \"1\", \"ns2:KorteNaam\": \"Weesp\", \"ns2:MiddelNaam\": \"Weesp\", \"ns2:LangeNaam\": \"Weesp\", \"ns2:UICCode\": \"8400685\"}, {\"ns2:StationCode\": \"DVD\", \"ns2:Type\": \"1\", \"ns2:KorteNaam\": \"Duivendrt\", \"ns2:MiddelNaam\": \"Duivendrecht\", \"ns2:LangeNaam\": \"Duivendrecht\", \"ns2:UICCode\": \"8400194\"}, {\"ns2:StationCode\": \"SHL\", \"ns2:Type\": \"6\", \"ns2:KorteNaam\": \"Schiphol\", \"ns2:MiddelNaam\": \"Schiphol Airport\", \"ns2:LangeNaam\": \"Schiphol Airport\", \"ns2:UICCode\": \"8400561\"}]}], \"ns2:PresentatieVerkorteRoute\": {\"ns2:Uitingen\": {\"ns2:Uiting\": \"Weesp, Duivendrecht, Schiphol Airport\"}}, \"ns2:TreinVleugel\": {\"ns2:TreinVleugelVertrekSpoor\": [{\"@InfoStatus\": \"Gepland\", \"ns2:SpoorNummer\": \"1\"}, {\"@InfoStatus\": \"Actueel\", \"ns2:SpoorNummer\": \"1\"}], \"ns2:PresentatieTreinVleugelVertrekSpoor\": {\"ns2:Uitingen\": {\"ns2:Uiting\": \"1\"}}, \"ns2:TreinVleugelEindBestemming\": [{\"@InfoStatus\": \"Gepland\", \"ns2:StationCode\": \"HFD\", \"ns2:Type\": \"0\", \"ns2:KorteNaam\": \"Hoofddorp\", \"ns2:MiddelNaam\": \"Hoofddorp\", \"ns2:LangeNaam\": \"Hoofddorp\", \"ns2:UICCode\": \"8400332\"}, {\"@InfoStatus\": \"Actueel\", \"ns2:StationCode\": \"HFD\", \"ns2:Type\": \"0\", \"ns2:KorteNaam\": \"Hoofddorp\", \"ns2:MiddelNaam\": \"Hoofddorp\", \"ns2:LangeNaam\": \"Hoofddorp\", \"ns2:UICCode\": \"8400332\"}], \"ns2:PresentatieTreinVleugelEindBestemming\": {\"ns2:Uitingen\": {\"ns2:Uiting\": \"Hoofddorp\"}}, \"ns2:StopStations\": [{\"@InfoStatus\": \"Gepland\", \"ns2:Station\": [{\"ns2:StationCode\": \"AMPO\", \"ns2:Type\": \"0\", \"ns2:KorteNaam\": \"Poort\", \"ns2:MiddelNaam\": \"Poort\", \"ns2:LangeNaam\": \"Almere Poort\", \"ns2:UICCode\": \"8400450\"}, {\"ns2:StationCode\": \"WP\", \"ns2:Type\": \"1\", \"ns2:KorteNaam\": \"Weesp\", \"ns2:MiddelNaam\": \"Weesp\", \"ns2:LangeNaam\": \"Weesp\", \"ns2:UICCode\": \"8400685\"}, {\"ns2:StationCode\": \"DMNZ\", \"ns2:Type\": \"0\", \"ns2:KorteNaam\": \"Diemen Z\", \"ns2:MiddelNaam\": \"Diemen Z.\", \"ns2:LangeNaam\": \"Diemen Zuid\", \"ns2:UICCode\": \"8400163\"}, {\"ns2:StationCode\": \"DVD\", \"ns2:Type\": \"1\", \"ns2:KorteNaam\": \"Duivendrt\", \"ns2:MiddelNaam\": \"Duivendrecht\", \"ns2:LangeNaam\": \"Duivendrecht\", \"ns2:UICCode\": \"8400194\"}, {\"ns2:StationCode\": \"RAI\", \"ns2:Type\": \"0\", \"ns2:KorteNaam\": \"RAI\", \"ns2:MiddelNaam\": \"RAI\", \"ns2:LangeNaam\": \"Amsterdam RAI\", \"ns2:UICCode\": \"8400056\"}, {\"ns2:StationCode\": \"ASDZ\", \"ns2:Type\": \"4\", \"ns2:KorteNaam\": \"Amsterdm Z\", \"ns2:MiddelNaam\": \"Amsterdam Z.\", \"ns2:LangeNaam\": \"Amsterdam Zuid\", \"ns2:UICCode\": \"8400061\"}, {\"ns2:StationCode\": \"SHL\", \"ns2:Type\": \"6\", \"ns2:KorteNaam\": \"Schiphol\", \"ns2:MiddelNaam\": \"Schiphol Airport\", \"ns2:LangeNaam\": \"Schiphol Airport\", \"ns2:UICCode\": \"8400561\"}, {\"ns2:StationCode\": \"HFD\", \"ns2:Type\": \"0\", \"ns2:KorteNaam\": \"Hoofddorp\", \"ns2:MiddelNaam\": \"Hoofddorp\", \"ns2:LangeNaam\": \"Hoofddorp\", \"ns2:UICCode\": \"8400332\"}]}, {\"@InfoStatus\": \"Actueel\", \"ns2:Station\": [{\"ns2:StationCode\": \"AMPO\", \"ns2:Type\": \"0\", \"ns2:KorteNaam\": \"Poort\", \"ns2:MiddelNaam\": \"Poort\", \"ns2:LangeNaam\": \"Almere Poort\", \"ns2:UICCode\": \"8400450\"}, {\"ns2:StationCode\": \"WP\", \"ns2:Type\": \"1\", \"ns2:KorteNaam\": \"Weesp\", \"ns2:MiddelNaam\": \"Weesp\", \"ns2:LangeNaam\": \"Weesp\", \"ns2:UICCode\": \"8400685\"}, {\"ns2:StationCode\": \"DMNZ\", \"ns2:Type\": \"0\", \"ns2:KorteNaam\": \"Diemen Z\", \"ns2:MiddelNaam\": \"Diemen Z.\", \"ns2:LangeNaam\": \"Diemen Zuid\", \"ns2:UICCode\": \"8400163\"}, {\"ns2:StationCode\": \"DVD\", \"ns2:Type\": \"1\", \"ns2:KorteNaam\": \"Duivendrt\", \"ns2:MiddelNaam\": \"Duivendrecht\", \"ns2:LangeNaam\": \"Duivendrecht\", \"ns2:UICCode\": \"8400194\"}, {\"ns2:StationCode\": \"RAI\", \"ns2:Type\": \"0\", \"ns2:KorteNaam\": \"RAI\", \"ns2:MiddelNaam\": \"RAI\", \"ns2:LangeNaam\": \"Amsterdam RAI\", \"ns2:UICCode\": \"8400056\"}, {\"ns2:StationCode\": \"ASDZ\", \"ns2:Type\": \"4\", \"ns2:KorteNaam\": \"Amsterdm Z\", \"ns2:MiddelNaam\": \"Amsterdam Z.\", \"ns2:LangeNaam\": \"Amsterdam Zuid\", \"ns2:UICCode\": \"8400061\"}, {\"ns2:StationCode\": \"SHL\", \"ns2:Type\": \"6\", \"ns2:KorteNaam\": \"Schiphol\", \"ns2:MiddelNaam\": \"Schiphol Airport\", \"ns2:LangeNaam\": \"Schiphol Airport\", \"ns2:UICCode\": \"8400561\"}, {\"ns2:StationCode\": \"HFD\", \"ns2:Type\": \"0\", \"ns2:KorteNaam\": \"Hoofddorp\", \"ns2:MiddelNaam\": \"Hoofddorp\", \"ns2:LangeNaam\": \"Hoofddorp\", \"ns2:UICCode\": \"8400332\"}]}], \"ns2:MaterieelDeelDVS\": {\"ns2:MaterieelSoort\": \"SLT\", \"ns2:MaterieelAanduiding\": \"6\", \"ns2:MaterieelLengte\": \"10050\", \"ns2:MaterieelNummer\": \"000000-02623-0\", \"ns2:MaterieelDeelEindBestemming\": [{\"@InfoStatus\": \"Gepland\", \"ns2:StationCode\": \"HFD\", \"ns2:Type\": \"0\", \"ns2:KorteNaam\": \"Hoofddorp\", \"ns2:MiddelNaam\": \"Hoofddorp\", \"ns2:LangeNaam\": \"Hoofddorp\", \"ns2:UICCode\": \"8400332\"}, {\"@InfoStatus\": \"Actueel\", \"ns2:StationCode\": \"HFD\", \"ns2:Type\": \"0\", \"ns2:KorteNaam\": \"Hoofddorp\", \"ns2:MiddelNaam\": \"Hoofddorp\", \"ns2:LangeNaam\": \"Hoofddorp\", \"ns2:UICCode\": \"8400332\"}], \"ns2:PresentatieMaterieelDeelEindBestemming\": {\"ns2:Uitingen\": {\"ns2:Uiting\": \"Hoofddorp\"}}}}, \"ns2:Wijziging\": {\"ns2:WijzigingType\": \"40\"}}}}}}')\n",
      "(None, u'{\"ns1:PutReisInformatieBoodschapIn\": {\"@xmlns:ns1\": \"urn:ndov:cdm:trein:reisinformatie:messages:5\", \"@xmlns:ns2\": \"urn:ndov:cdm:trein:reisinformatie:data:4\", \"ns2:ReisInformatieProductDVS\": {\"@TimeStamp\": \"2020-05-13T10:51:01.762Z\", \"@Versie\": \"6.2\", \"ns2:RIPAdministratie\": {\"ns2:ReisInformatieProductID\": \"2005131251012300004\", \"ns2:AbonnementId\": \"54\", \"ns2:ReisInformatieTijdstip\": \"2020-05-13T10:50:00.000Z\"}, \"ns2:DynamischeVertrekStaat\": {\"ns2:RitId\": \"3946\", \"ns2:RitDatum\": \"2020-05-13\", \"ns2:RitStation\": {\"ns2:StationCode\": \"RM\", \"ns2:Type\": \"5\", \"ns2:KorteNaam\": \"Roermond\", \"ns2:MiddelNaam\": \"Roermond\", \"ns2:LangeNaam\": \"Roermond\", \"ns2:UICCode\": \"8400523\"}, \"ns2:Trein\": {\"ns2:TreinNummer\": \"3946\", \"ns2:TreinSoort\": {\"@Code\": \"IC\", \"#text\": \"Intercity\"}, \"ns2:TreinFormule\": \"3\", \"ns2:TreinStatus\": \"5\", \"ns2:Vervoerder\": \"NS\", \"ns2:Reserveren\": \"N\", \"ns2:Toeslag\": \"N\", \"ns2:NietInstappen\": \"N\", \"ns2:AchterBlijvenAchtersteTreinDeel\": \"N\", \"ns2:RangeerBeweging\": \"N\", \"ns2:SpeciaalKaartje\": \"N\", \"ns2:TreinEindBestemming\": [{\"@InfoStatus\": \"Gepland\", \"ns2:StationCode\": \"EKZ\", \"ns2:Type\": \"0\", \"ns2:KorteNaam\": \"Enkhuizen\", \"ns2:MiddelNaam\": \"Enkhuizen\", \"ns2:LangeNaam\": \"Enkhuizen\", \"ns2:UICCode\": \"8400210\"}, {\"@InfoStatus\": \"Actueel\", \"ns2:StationCode\": \"EKZ\", \"ns2:Type\": \"0\", \"ns2:KorteNaam\": \"Enkhuizen\", \"ns2:MiddelNaam\": \"Enkhuizen\", \"ns2:LangeNaam\": \"Enkhuizen\", \"ns2:UICCode\": \"8400210\"}], \"ns2:PresentatieTreinEindBestemming\": {\"ns2:Uitingen\": {\"ns2:Uiting\": \"Enkhuizen\"}}, \"ns2:VertrekTijd\": [{\"@InfoStatus\": \"Gepland\", \"#text\": \"2020-05-13T10:50:00.000Z\"}, {\"@InfoStatus\": \"Actueel\", \"#text\": \"2020-05-13T10:50:00.000Z\"}], \"ns2:ExacteVertrekVertraging\": \"PT0S\", \"ns2:GedempteVertrekVertraging\": \"PT0S\", \"ns2:TreinVertrekSpoor\": [{\"@InfoStatus\": \"Gepland\", \"ns2:SpoorNummer\": \"2\"}, {\"@InfoStatus\": \"Actueel\", \"ns2:SpoorNummer\": \"2\"}], \"ns2:PresentatieTreinVertrekSpoor\": {\"ns2:Uitingen\": {\"ns2:Uiting\": \"2\"}}, \"ns2:VertrekRichting\": \"A\", \"ns2:AfstandPerronEindKopVertrekTrein\": \"0\", \"ns2:VerkorteRoute\": [{\"@InfoStatus\": \"Gepland\", \"ns2:Station\": [{\"ns2:StationCode\": \"WT\", \"ns2:Type\": \"4\", \"ns2:KorteNaam\": \"Weert\", \"ns2:MiddelNaam\": \"Weert\", \"ns2:LangeNaam\": \"Weert\", \"ns2:UICCode\": \"8400684\"}, {\"ns2:StationCode\": \"EHV\", \"ns2:Type\": \"6\", \"ns2:KorteNaam\": \"Eindhovn C\", \"ns2:MiddelNaam\": \"Eindhoven C.\", \"ns2:LangeNaam\": \"Eindhoven Centraal\", \"ns2:UICCode\": \"8400206\"}, {\"ns2:StationCode\": \"UT\", \"ns2:Type\": \"6\", \"ns2:KorteNaam\": \"Utrecht C\", \"ns2:MiddelNaam\": \"Utrecht C.\", \"ns2:LangeNaam\": \"Utrecht Centraal\", \"ns2:UICCode\": \"8400621\"}, {\"ns2:StationCode\": \"ASD\", \"ns2:Type\": \"6\", \"ns2:KorteNaam\": \"Amsterdm C\", \"ns2:MiddelNaam\": \"Amsterdam C.\", \"ns2:LangeNaam\": \"Amsterdam Centraal\", \"ns2:UICCode\": \"8400058\"}]}, {\"@InfoStatus\": \"Actueel\", \"ns2:Station\": [{\"ns2:StationCode\": \"WT\", \"ns2:Type\": \"4\", \"ns2:KorteNaam\": \"Weert\", \"ns2:MiddelNaam\": \"Weert\", \"ns2:LangeNaam\": \"Weert\", \"ns2:UICCode\": \"8400684\"}, {\"ns2:StationCode\": \"EHV\", \"ns2:Type\": \"6\", \"ns2:KorteNaam\": \"Eindhovn C\", \"ns2:MiddelNaam\": \"Eindhoven C.\", \"ns2:LangeNaam\": \"Eindhoven Centraal\", \"ns2:UICCode\": \"8400206\"}, {\"ns2:StationCode\": \"UT\", \"ns2:Type\": \"6\", \"ns2:KorteNaam\": \"Utrecht C\", \"ns2:MiddelNaam\": \"Utrecht C.\", \"ns2:LangeNaam\": \"Utrecht Centraal\", \"ns2:UICCode\": \"8400621\"}, {\"ns2:StationCode\": \"ASD\", \"ns2:Type\": \"6\", \"ns2:KorteNaam\": \"Amsterdm C\", \"ns2:MiddelNaam\": \"Amsterdam C.\", \"ns2:LangeNaam\": \"Amsterdam Centraal\", \"ns2:UICCode\": \"8400058\"}]}], \"ns2:PresentatieVerkorteRoute\": {\"ns2:Uitingen\": {\"ns2:Uiting\": \"Weert, Eindhoven C., Utrecht C., Amsterdam C.\"}}, \"ns2:TreinVleugel\": {\"ns2:TreinVleugelVertrekSpoor\": [{\"@InfoStatus\": \"Gepland\", \"ns2:SpoorNummer\": \"2\"}, {\"@InfoStatus\": \"Actueel\", \"ns2:SpoorNummer\": \"2\"}], \"ns2:PresentatieTreinVleugelVertrekSpoor\": {\"ns2:Uitingen\": {\"ns2:Uiting\": \"2\"}}, \"ns2:TreinVleugelEindBestemming\": [{\"@InfoStatus\": \"Gepland\", \"ns2:StationCode\": \"EKZ\", \"ns2:Type\": \"0\", \"ns2:KorteNaam\": \"Enkhuizen\", \"ns2:MiddelNaam\": \"Enkhuizen\", \"ns2:LangeNaam\": \"Enkhuizen\", \"ns2:UICCode\": \"8400210\"}, {\"@InfoStatus\": \"Actueel\", \"ns2:StationCode\": \"EKZ\", \"ns2:Type\": \"0\", \"ns2:KorteNaam\": \"Enkhuizen\", \"ns2:MiddelNaam\": \"Enkhuizen\", \"ns2:LangeNaam\": \"Enkhuizen\", \"ns2:UICCode\": \"8400210\"}], \"ns2:PresentatieTreinVleugelEindBestemming\": {\"ns2:Uitingen\": {\"ns2:Uiting\": \"Enkhuizen\"}}, \"ns2:StopStations\": [{\"@InfoStatus\": \"Gepland\", \"ns2:Station\": [{\"ns2:StationCode\": \"WT\", \"ns2:Type\": \"4\", \"ns2:KorteNaam\": \"Weert\", \"ns2:MiddelNaam\": \"Weert\", \"ns2:LangeNaam\": \"Weert\", \"ns2:UICCode\": \"8400684\"}, {\"ns2:StationCode\": \"EHV\", \"ns2:Type\": \"6\", \"ns2:KorteNaam\": \"Eindhovn C\", \"ns2:MiddelNaam\": \"Eindhoven C.\", \"ns2:LangeNaam\": \"Eindhoven Centraal\", \"ns2:UICCode\": \"8400206\"}, {\"ns2:StationCode\": \"HT\", \"ns2:Type\": \"5\", \"ns2:KorteNaam\": \"Den Bosch\", \"ns2:MiddelNaam\": \"\\'s-Hertogenbosch\", \"ns2:LangeNaam\": \"\\'s-Hertogenbosch\", \"ns2:UICCode\": \"8400319\"}, {\"ns2:StationCode\": \"UT\", \"ns2:Type\": \"6\", \"ns2:KorteNaam\": \"Utrecht C\", \"ns2:MiddelNaam\": \"Utrecht C.\", \"ns2:LangeNaam\": \"Utrecht Centraal\", \"ns2:UICCode\": \"8400621\"}, {\"ns2:StationCode\": \"ASA\", \"ns2:Type\": \"4\", \"ns2:KorteNaam\": \"Amstel\", \"ns2:MiddelNaam\": \"Amstel\", \"ns2:LangeNaam\": \"Amsterdam Amstel\", \"ns2:UICCode\": \"8400057\"}, {\"ns2:StationCode\": \"ASD\", \"ns2:Type\": \"6\", \"ns2:KorteNaam\": \"Amsterdm C\", \"ns2:MiddelNaam\": \"Amsterdam C.\", \"ns2:LangeNaam\": \"Amsterdam Centraal\", \"ns2:UICCode\": \"8400058\"}, {\"ns2:StationCode\": \"ASS\", \"ns2:Type\": \"5\", \"ns2:KorteNaam\": \"Sloterdijk\", \"ns2:MiddelNaam\": \"Sloterdijk\", \"ns2:LangeNaam\": \"Amsterdam Sloterdijk\", \"ns2:UICCode\": \"8400059\"}, {\"ns2:StationCode\": \"HN\", \"ns2:Type\": \"5\", \"ns2:KorteNaam\": \"Hoorn\", \"ns2:MiddelNaam\": \"Hoorn\", \"ns2:LangeNaam\": \"Hoorn\", \"ns2:UICCode\": \"8400337\"}, {\"ns2:StationCode\": \"HNK\", \"ns2:Type\": \"0\", \"ns2:KorteNaam\": \"Hoorn Kers\", \"ns2:MiddelNaam\": \"Kersenboogerd\", \"ns2:LangeNaam\": \"Hoorn Kersenboogerd\", \"ns2:UICCode\": \"8400336\"}, {\"ns2:StationCode\": \"HKS\", \"ns2:Type\": \"0\", \"ns2:KorteNaam\": \"Hoogkrspl\", \"ns2:MiddelNaam\": \"Hoogkarspel\", \"ns2:LangeNaam\": \"Hoogkarspel\", \"ns2:UICCode\": \"8400334\"}, {\"ns2:StationCode\": \"BKG\", \"ns2:Type\": \"0\", \"ns2:KorteNaam\": \"Bovenk-Gr\", \"ns2:MiddelNaam\": \"Bovenkarspel-Gr.\", \"ns2:LangeNaam\": \"Bovenkarspel-Grootebroek\", \"ns2:UICCode\": \"8400127\"}, {\"ns2:StationCode\": \"BKF\", \"ns2:Type\": \"0\", \"ns2:KorteNaam\": \"Bovenk Flo\", \"ns2:MiddelNaam\": \"Bovenkarspel Fl.\", \"ns2:LangeNaam\": \"Bovenkarspel Flora\", \"ns2:UICCode\": \"8400230\"}, {\"ns2:StationCode\": \"EKZ\", \"ns2:Type\": \"0\", \"ns2:KorteNaam\": \"Enkhuizen\", \"ns2:MiddelNaam\": \"Enkhuizen\", \"ns2:LangeNaam\": \"Enkhuizen\", \"ns2:UICCode\": \"8400210\"}]}, {\"@InfoStatus\": \"Actueel\", \"ns2:Station\": [{\"ns2:StationCode\": \"WT\", \"ns2:Type\": \"4\", \"ns2:KorteNaam\": \"Weert\", \"ns2:MiddelNaam\": \"Weert\", \"ns2:LangeNaam\": \"Weert\", \"ns2:UICCode\": \"8400684\"}, {\"ns2:StationCode\": \"EHV\", \"ns2:Type\": \"6\", \"ns2:KorteNaam\": \"Eindhovn C\", \"ns2:MiddelNaam\": \"Eindhoven C.\", \"ns2:LangeNaam\": \"Eindhoven Centraal\", \"ns2:UICCode\": \"8400206\"}, {\"ns2:StationCode\": \"HT\", \"ns2:Type\": \"5\", \"ns2:KorteNaam\": \"Den Bosch\", \"ns2:MiddelNaam\": \"\\'s-Hertogenbosch\", \"ns2:LangeNaam\": \"\\'s-Hertogenbosch\", \"ns2:UICCode\": \"8400319\"}, {\"ns2:StationCode\": \"UT\", \"ns2:Type\": \"6\", \"ns2:KorteNaam\": \"Utrecht C\", \"ns2:MiddelNaam\": \"Utrecht C.\", \"ns2:LangeNaam\": \"Utrecht Centraal\", \"ns2:UICCode\": \"8400621\"}, {\"ns2:StationCode\": \"ASA\", \"ns2:Type\": \"4\", \"ns2:KorteNaam\": \"Amstel\", \"ns2:MiddelNaam\": \"Amstel\", \"ns2:LangeNaam\": \"Amsterdam Amstel\", \"ns2:UICCode\": \"8400057\"}, {\"ns2:StationCode\": \"ASD\", \"ns2:Type\": \"6\", \"ns2:KorteNaam\": \"Amsterdm C\", \"ns2:MiddelNaam\": \"Amsterdam C.\", \"ns2:LangeNaam\": \"Amsterdam Centraal\", \"ns2:UICCode\": \"8400058\"}, {\"ns2:StationCode\": \"ASS\", \"ns2:Type\": \"5\", \"ns2:KorteNaam\": \"Sloterdijk\", \"ns2:MiddelNaam\": \"Sloterdijk\", \"ns2:LangeNaam\": \"Amsterdam Sloterdijk\", \"ns2:UICCode\": \"8400059\"}, {\"ns2:StationCode\": \"HN\", \"ns2:Type\": \"5\", \"ns2:KorteNaam\": \"Hoorn\", \"ns2:MiddelNaam\": \"Hoorn\", \"ns2:LangeNaam\": \"Hoorn\", \"ns2:UICCode\": \"8400337\"}, {\"ns2:StationCode\": \"HNK\", \"ns2:Type\": \"0\", \"ns2:KorteNaam\": \"Hoorn Kers\", \"ns2:MiddelNaam\": \"Kersenboogerd\", \"ns2:LangeNaam\": \"Hoorn Kersenboogerd\", \"ns2:UICCode\": \"8400336\"}, {\"ns2:StationCode\": \"HKS\", \"ns2:Type\": \"0\", \"ns2:KorteNaam\": \"Hoogkrspl\", \"ns2:MiddelNaam\": \"Hoogkarspel\", \"ns2:LangeNaam\": \"Hoogkarspel\", \"ns2:UICCode\": \"8400334\"}, {\"ns2:StationCode\": \"BKG\", \"ns2:Type\": \"0\", \"ns2:KorteNaam\": \"Bovenk-Gr\", \"ns2:MiddelNaam\": \"Bovenkarspel-Gr.\", \"ns2:LangeNaam\": \"Bovenkarspel-Grootebroek\", \"ns2:UICCode\": \"8400127\"}, {\"ns2:StationCode\": \"BKF\", \"ns2:Type\": \"0\", \"ns2:KorteNaam\": \"Bovenk Flo\", \"ns2:MiddelNaam\": \"Bovenkarspel Fl.\", \"ns2:LangeNaam\": \"Bovenkarspel Flora\", \"ns2:UICCode\": \"8400230\"}, {\"ns2:StationCode\": \"EKZ\", \"ns2:Type\": \"0\", \"ns2:KorteNaam\": \"Enkhuizen\", \"ns2:MiddelNaam\": \"Enkhuizen\", \"ns2:LangeNaam\": \"Enkhuizen\", \"ns2:UICCode\": \"8400210\"}]}], \"ns2:MaterieelDeelDVS\": {\"ns2:MaterieelSoort\": \"VIRM\", \"ns2:MaterieelAanduiding\": \"4\", \"ns2:MaterieelLengte\": \"10860\", \"ns2:MaterieelNummer\": \"000000-09443-0\", \"ns2:MaterieelDeelEindBestemming\": [{\"@InfoStatus\": \"Gepland\", \"ns2:StationCode\": \"EKZ\", \"ns2:Type\": \"0\", \"ns2:KorteNaam\": \"Enkhuizen\", \"ns2:MiddelNaam\": \"Enkhuizen\", \"ns2:LangeNaam\": \"Enkhuizen\", \"ns2:UICCode\": \"8400210\"}, {\"@InfoStatus\": \"Actueel\", \"ns2:StationCode\": \"EKZ\", \"ns2:Type\": \"0\", \"ns2:KorteNaam\": \"Enkhuizen\", \"ns2:MiddelNaam\": \"Enkhuizen\", \"ns2:LangeNaam\": \"Enkhuizen\", \"ns2:UICCode\": \"8400210\"}], \"ns2:PresentatieMaterieelDeelEindBestemming\": {\"ns2:Uitingen\": {\"ns2:Uiting\": \"Enkhuizen\"}}}}, \"ns2:Wijziging\": {\"ns2:WijzigingType\": \"40\"}}}}}}')\n",
      "(None, u'{\"ns1:PutReisInformatieBoodschapIn\": {\"@xmlns:ns1\": \"urn:ndov:cdm:trein:reisinformatie:messages:5\", \"@xmlns:ns2\": \"urn:ndov:cdm:trein:reisinformatie:data:4\", \"ns2:ReisInformatieProductDVS\": {\"@TimeStamp\": \"2020-05-13T10:51:04.948Z\", \"@Versie\": \"6.2\", \"ns2:RIPAdministratie\": {\"ns2:ReisInformatieProductID\": \"2005131251042300003\", \"ns2:AbonnementId\": \"54\", \"ns2:ReisInformatieTijdstip\": \"2020-05-13T10:52:00.000Z\"}, \"ns2:DynamischeVertrekStaat\": {\"ns2:RitId\": \"15840\", \"ns2:RitDatum\": \"2020-05-13\", \"ns2:RitStation\": {\"ns2:StationCode\": \"BSMZ\", \"ns2:Type\": \"0\", \"ns2:KorteNaam\": \"Bussum Z\", \"ns2:MiddelNaam\": \"Bussum Z.\", \"ns2:LangeNaam\": \"Bussum Zuid\", \"ns2:UICCode\": \"8400145\"}, \"ns2:Trein\": {\"ns2:TreinNummer\": \"15840\", \"ns2:TreinSoort\": {\"@Code\": \"SPR\", \"#text\": \"Sprinter\"}, \"ns2:TreinFormule\": \"1\", \"ns2:TreinStatus\": \"2\", \"ns2:Vervoerder\": \"NS\", \"ns2:Reserveren\": \"N\", \"ns2:Toeslag\": \"N\", \"ns2:NietInstappen\": \"N\", \"ns2:AchterBlijvenAchtersteTreinDeel\": \"N\", \"ns2:RangeerBeweging\": \"N\", \"ns2:SpeciaalKaartje\": \"N\", \"ns2:TreinEindBestemming\": [{\"@InfoStatus\": \"Gepland\", \"ns2:StationCode\": \"ASD\", \"ns2:Type\": \"6\", \"ns2:KorteNaam\": \"Amsterdm C\", \"ns2:MiddelNaam\": \"Amsterdam C.\", \"ns2:LangeNaam\": \"Amsterdam Centraal\", \"ns2:UICCode\": \"8400058\"}, {\"@InfoStatus\": \"Actueel\", \"ns2:StationCode\": \"ASD\", \"ns2:Type\": \"6\", \"ns2:KorteNaam\": \"Amsterdm C\", \"ns2:MiddelNaam\": \"Amsterdam C.\", \"ns2:LangeNaam\": \"Amsterdam Centraal\", \"ns2:UICCode\": \"8400058\"}], \"ns2:PresentatieTreinEindBestemming\": {\"ns2:Uitingen\": {\"ns2:Uiting\": \"Amsterdam Centraal\"}}, \"ns2:VertrekTijd\": [{\"@InfoStatus\": \"Gepland\", \"#text\": \"2020-05-13T10:52:00.000Z\"}, {\"@InfoStatus\": \"Actueel\", \"#text\": \"2020-05-13T10:52:00.000Z\"}], \"ns2:ExacteVertrekVertraging\": \"PT0S\", \"ns2:GedempteVertrekVertraging\": \"PT0S\", \"ns2:TreinVertrekSpoor\": [{\"@InfoStatus\": \"Gepland\", \"ns2:SpoorNummer\": \"1\"}, {\"@InfoStatus\": \"Actueel\", \"ns2:SpoorNummer\": \"1\"}], \"ns2:PresentatieTreinVertrekSpoor\": {\"ns2:Uitingen\": {\"ns2:Uiting\": \"1\"}}, \"ns2:VertrekRichting\": \"A\", \"ns2:AfstandPerronEindKopVertrekTrein\": \"0\", \"ns2:VerkorteRoute\": [{\"@InfoStatus\": \"Gepland\", \"ns2:Station\": [{\"ns2:StationCode\": \"NDB\", \"ns2:Type\": \"1\", \"ns2:KorteNaam\": \"Naarden-Bu\", \"ns2:MiddelNaam\": \"Naarden-Bussum\", \"ns2:LangeNaam\": \"Naarden-Bussum\", \"ns2:UICCode\": \"8400452\"}, {\"ns2:StationCode\": \"WP\", \"ns2:Type\": \"1\", \"ns2:KorteNaam\": \"Weesp\", \"ns2:MiddelNaam\": \"Weesp\", \"ns2:LangeNaam\": \"Weesp\", \"ns2:UICCode\": \"8400685\"}]}, {\"@InfoStatus\": \"Actueel\", \"ns2:Station\": [{\"ns2:StationCode\": \"NDB\", \"ns2:Type\": \"1\", \"ns2:KorteNaam\": \"Naarden-Bu\", \"ns2:MiddelNaam\": \"Naarden-Bussum\", \"ns2:LangeNaam\": \"Naarden-Bussum\", \"ns2:UICCode\": \"8400452\"}, {\"ns2:StationCode\": \"WP\", \"ns2:Type\": \"1\", \"ns2:KorteNaam\": \"Weesp\", \"ns2:MiddelNaam\": \"Weesp\", \"ns2:LangeNaam\": \"Weesp\", \"ns2:UICCode\": \"8400685\"}]}], \"ns2:PresentatieVerkorteRoute\": {\"ns2:Uitingen\": {\"ns2:Uiting\": \"Naarden-Bussum, Weesp\"}}, \"ns2:TreinVleugel\": {\"ns2:TreinVleugelVertrekSpoor\": [{\"@InfoStatus\": \"Gepland\", \"ns2:SpoorNummer\": \"1\"}, {\"@InfoStatus\": \"Actueel\", \"ns2:SpoorNummer\": \"1\"}], \"ns2:PresentatieTreinVleugelVertrekSpoor\": {\"ns2:Uitingen\": {\"ns2:Uiting\": \"1\"}}, \"ns2:TreinVleugelEindBestemming\": [{\"@InfoStatus\": \"Gepland\", \"ns2:StationCode\": \"ASD\", \"ns2:Type\": \"6\", \"ns2:KorteNaam\": \"Amsterdm C\", \"ns2:MiddelNaam\": \"Amsterdam C.\", \"ns2:LangeNaam\": \"Amsterdam Centraal\", \"ns2:UICCode\": \"8400058\"}, {\"@InfoStatus\": \"Actueel\", \"ns2:StationCode\": \"ASD\", \"ns2:Type\": \"6\", \"ns2:KorteNaam\": \"Amsterdm C\", \"ns2:MiddelNaam\": \"Amsterdam C.\", \"ns2:LangeNaam\": \"Amsterdam Centraal\", \"ns2:UICCode\": \"8400058\"}], \"ns2:PresentatieTreinVleugelEindBestemming\": {\"ns2:Uitingen\": {\"ns2:Uiting\": \"Amsterdam Centraal\"}}, \"ns2:StopStations\": [{\"@InfoStatus\": \"Gepland\", \"ns2:Station\": [{\"ns2:StationCode\": \"NDB\", \"ns2:Type\": \"1\", \"ns2:KorteNaam\": \"Naarden-Bu\", \"ns2:MiddelNaam\": \"Naarden-Bussum\", \"ns2:LangeNaam\": \"Naarden-Bussum\", \"ns2:UICCode\": \"8400452\"}, {\"ns2:StationCode\": \"WP\", \"ns2:Type\": \"1\", \"ns2:KorteNaam\": \"Weesp\", \"ns2:MiddelNaam\": \"Weesp\", \"ns2:LangeNaam\": \"Weesp\", \"ns2:UICCode\": \"8400685\"}, {\"ns2:StationCode\": \"DMN\", \"ns2:Type\": \"0\", \"ns2:KorteNaam\": \"Diemen\", \"ns2:MiddelNaam\": \"Diemen\", \"ns2:LangeNaam\": \"Diemen\", \"ns2:UICCode\": \"8400165\"}, {\"ns2:StationCode\": \"ASSP\", \"ns2:Type\": \"0\", \"ns2:KorteNaam\": \"Scienceprk\", \"ns2:MiddelNaam\": \"Science Park\", \"ns2:LangeNaam\": \"Amsterdam Science Park\", \"ns2:UICCode\": \"8400235\"}, {\"ns2:StationCode\": \"ASDM\", \"ns2:Type\": \"0\", \"ns2:KorteNaam\": \"Muiderprt\", \"ns2:MiddelNaam\": \"Muiderpoort\", \"ns2:LangeNaam\": \"Amsterdam Muiderpoort\", \"ns2:UICCode\": \"8400060\"}, {\"ns2:StationCode\": \"ASD\", \"ns2:Type\": \"6\", \"ns2:KorteNaam\": \"Amsterdm C\", \"ns2:MiddelNaam\": \"Amsterdam C.\", \"ns2:LangeNaam\": \"Amsterdam Centraal\", \"ns2:UICCode\": \"8400058\"}]}, {\"@InfoStatus\": \"Actueel\", \"ns2:Station\": [{\"ns2:StationCode\": \"NDB\", \"ns2:Type\": \"1\", \"ns2:KorteNaam\": \"Naarden-Bu\", \"ns2:MiddelNaam\": \"Naarden-Bussum\", \"ns2:LangeNaam\": \"Naarden-Bussum\", \"ns2:UICCode\": \"8400452\"}, {\"ns2:StationCode\": \"WP\", \"ns2:Type\": \"1\", \"ns2:KorteNaam\": \"Weesp\", \"ns2:MiddelNaam\": \"Weesp\", \"ns2:LangeNaam\": \"Weesp\", \"ns2:UICCode\": \"8400685\"}, {\"ns2:StationCode\": \"DMN\", \"ns2:Type\": \"0\", \"ns2:KorteNaam\": \"Diemen\", \"ns2:MiddelNaam\": \"Diemen\", \"ns2:LangeNaam\": \"Diemen\", \"ns2:UICCode\": \"8400165\"}, {\"ns2:StationCode\": \"ASSP\", \"ns2:Type\": \"0\", \"ns2:KorteNaam\": \"Scienceprk\", \"ns2:MiddelNaam\": \"Science Park\", \"ns2:LangeNaam\": \"Amsterdam Science Park\", \"ns2:UICCode\": \"8400235\"}, {\"ns2:StationCode\": \"ASDM\", \"ns2:Type\": \"0\", \"ns2:KorteNaam\": \"Muiderprt\", \"ns2:MiddelNaam\": \"Muiderpoort\", \"ns2:LangeNaam\": \"Amsterdam Muiderpoort\", \"ns2:UICCode\": \"8400060\"}, {\"ns2:StationCode\": \"ASD\", \"ns2:Type\": \"6\", \"ns2:KorteNaam\": \"Amsterdm C\", \"ns2:MiddelNaam\": \"Amsterdam C.\", \"ns2:LangeNaam\": \"Amsterdam Centraal\", \"ns2:UICCode\": \"8400058\"}]}], \"ns2:MaterieelDeelDVS\": [{\"ns2:MaterieelSoort\": \"SLT\", \"ns2:MaterieelAanduiding\": \"4\", \"ns2:MaterieelLengte\": \"6940\", \"ns2:MaterieelDeelVertrekPositie\": \"1\", \"ns2:MaterieelDeelVolgordeVertrek\": \"1\", \"ns2:MaterieelNummer\": \"000000-02456-0\", \"ns2:MaterieelDeelEindBestemming\": [{\"@InfoStatus\": \"Gepland\", \"ns2:StationCode\": \"ASD\", \"ns2:Type\": \"6\", \"ns2:KorteNaam\": \"Amsterdm C\", \"ns2:MiddelNaam\": \"Amsterdam C.\", \"ns2:LangeNaam\": \"Amsterdam Centraal\", \"ns2:UICCode\": \"8400058\"}, {\"@InfoStatus\": \"Actueel\", \"ns2:StationCode\": \"ASD\", \"ns2:Type\": \"6\", \"ns2:KorteNaam\": \"Amsterdm C\", \"ns2:MiddelNaam\": \"Amsterdam C.\", \"ns2:LangeNaam\": \"Amsterdam Centraal\", \"ns2:UICCode\": \"8400058\"}], \"ns2:PresentatieMaterieelDeelEindBestemming\": {\"ns2:Uitingen\": {\"ns2:Uiting\": \"Amsterdam Centraal\"}}}, {\"ns2:MaterieelSoort\": \"SLT\", \"ns2:MaterieelAanduiding\": \"4\", \"ns2:MaterieelLengte\": \"6940\", \"ns2:MaterieelDeelVertrekPositie\": \"3\", \"ns2:MaterieelDeelVolgordeVertrek\": \"2\", \"ns2:MaterieelNummer\": \"000000-02416-0\", \"ns2:MaterieelDeelEindBestemming\": [{\"@InfoStatus\": \"Gepland\", \"ns2:StationCode\": \"ASD\", \"ns2:Type\": \"6\", \"ns2:KorteNaam\": \"Amsterdm C\", \"ns2:MiddelNaam\": \"Amsterdam C.\", \"ns2:LangeNaam\": \"Amsterdam Centraal\", \"ns2:UICCode\": \"8400058\"}, {\"@InfoStatus\": \"Actueel\", \"ns2:StationCode\": \"ASD\", \"ns2:Type\": \"6\", \"ns2:KorteNaam\": \"Amsterdm C\", \"ns2:MiddelNaam\": \"Amsterdam C.\", \"ns2:LangeNaam\": \"Amsterdam Centraal\", \"ns2:UICCode\": \"8400058\"}], \"ns2:PresentatieMaterieelDeelEindBestemming\": {\"ns2:Uitingen\": {\"ns2:Uiting\": \"Amsterdam Centraal\"}}}]}, \"ns2:Wijziging\": {\"ns2:WijzigingType\": \"40\"}}}}}}')\n",
      "(None, u'{\"ns1:PutReisInformatieBoodschapIn\": {\"@xmlns:ns1\": \"urn:ndov:cdm:trein:reisinformatie:messages:5\", \"@xmlns:ns2\": \"urn:ndov:cdm:trein:reisinformatie:data:4\", \"ns2:ReisInformatieProductDVS\": {\"@TimeStamp\": \"2020-05-13T10:51:05.252Z\", \"@Versie\": \"6.2\", \"ns2:RIPAdministratie\": {\"ns2:ReisInformatieProductID\": \"2005131251052400002\", \"ns2:AbonnementId\": \"54\", \"ns2:ReisInformatieTijdstip\": \"2020-05-13T12:01:00.000Z\"}, \"ns2:DynamischeVertrekStaat\": {\"ns2:RitId\": \"852\", \"ns2:RitDatum\": \"2020-05-13\", \"ns2:RitStation\": {\"ns2:StationCode\": \"MT\", \"ns2:Type\": \"5\", \"ns2:KorteNaam\": \"Maastricht\", \"ns2:MiddelNaam\": \"Maastricht\", \"ns2:LangeNaam\": \"Maastricht\", \"ns2:UICCode\": \"8400424\"}, \"ns2:Trein\": {\"ns2:TreinNummer\": \"852\", \"ns2:TreinSoort\": {\"@Code\": \"IC\", \"#text\": \"Intercity\"}, \"ns2:TreinFormule\": \"3\", \"ns2:TreinStatus\": \"0\", \"ns2:Vervoerder\": \"NS\", \"ns2:Reserveren\": \"N\", \"ns2:Toeslag\": \"N\", \"ns2:NietInstappen\": \"N\", \"ns2:AchterBlijvenAchtersteTreinDeel\": \"N\", \"ns2:RangeerBeweging\": \"N\", \"ns2:SpeciaalKaartje\": \"N\", \"ns2:TreinEindBestemming\": [{\"@InfoStatus\": \"Gepland\", \"ns2:StationCode\": \"EHV\", \"ns2:Type\": \"6\", \"ns2:KorteNaam\": \"Eindhovn C\", \"ns2:MiddelNaam\": \"Eindhoven C.\", \"ns2:LangeNaam\": \"Eindhoven Centraal\", \"ns2:UICCode\": \"8400206\"}, {\"@InfoStatus\": \"Actueel\", \"ns2:StationCode\": \"EHV\", \"ns2:Type\": \"6\", \"ns2:KorteNaam\": \"Eindhovn C\", \"ns2:MiddelNaam\": \"Eindhoven C.\", \"ns2:LangeNaam\": \"Eindhoven Centraal\", \"ns2:UICCode\": \"8400206\"}], \"ns2:PresentatieTreinEindBestemming\": {\"ns2:Uitingen\": {\"ns2:Uiting\": \"Eindhoven Centraal\"}}, \"ns2:VertrekTijd\": [{\"@InfoStatus\": \"Gepland\", \"#text\": \"2020-05-13T12:01:00.000Z\"}, {\"@InfoStatus\": \"Actueel\", \"#text\": \"2020-05-13T12:01:00.000Z\"}], \"ns2:ExacteVertrekVertraging\": \"PT0S\", \"ns2:GedempteVertrekVertraging\": \"PT0S\", \"ns2:TreinVertrekSpoor\": [{\"@InfoStatus\": \"Gepland\", \"ns2:SpoorNummer\": \"2\"}, {\"@InfoStatus\": \"Actueel\", \"ns2:SpoorNummer\": \"2\"}], \"ns2:PresentatieTreinVertrekSpoor\": {\"ns2:Uitingen\": {\"ns2:Uiting\": \"2\"}}, \"ns2:VertrekRichting\": \"B\", \"ns2:AfstandPerronEindKopVertrekTrein\": \"0\", \"ns2:VerkorteRoute\": [{\"@InfoStatus\": \"Gepland\", \"ns2:Station\": [{\"ns2:StationCode\": \"STD\", \"ns2:Type\": \"5\", \"ns2:KorteNaam\": \"Sittard\", \"ns2:MiddelNaam\": \"Sittard\", \"ns2:LangeNaam\": \"Sittard\", \"ns2:UICCode\": \"8400564\"}, {\"ns2:StationCode\": \"RM\", \"ns2:Type\": \"5\", \"ns2:KorteNaam\": \"Roermond\", \"ns2:MiddelNaam\": \"Roermond\", \"ns2:LangeNaam\": \"Roermond\", \"ns2:UICCode\": \"8400523\"}, {\"ns2:StationCode\": \"WT\", \"ns2:Type\": \"4\", \"ns2:KorteNaam\": \"Weert\", \"ns2:MiddelNaam\": \"Weert\", \"ns2:LangeNaam\": \"Weert\", \"ns2:UICCode\": \"8400684\"}]}, {\"@InfoStatus\": \"Actueel\", \"ns2:Station\": [{\"ns2:StationCode\": \"STD\", \"ns2:Type\": \"5\", \"ns2:KorteNaam\": \"Sittard\", \"ns2:MiddelNaam\": \"Sittard\", \"ns2:LangeNaam\": \"Sittard\", \"ns2:UICCode\": \"8400564\"}, {\"ns2:StationCode\": \"RM\", \"ns2:Type\": \"5\", \"ns2:KorteNaam\": \"Roermond\", \"ns2:MiddelNaam\": \"Roermond\", \"ns2:LangeNaam\": \"Roermond\", \"ns2:UICCode\": \"8400523\"}, {\"ns2:StationCode\": \"WT\", \"ns2:Type\": \"4\", \"ns2:KorteNaam\": \"Weert\", \"ns2:MiddelNaam\": \"Weert\", \"ns2:LangeNaam\": \"Weert\", \"ns2:UICCode\": \"8400684\"}]}], \"ns2:PresentatieVerkorteRoute\": {\"ns2:Uitingen\": {\"ns2:Uiting\": \"Sittard, Roermond, Weert\"}}, \"ns2:TreinVleugel\": {\"ns2:TreinVleugelVertrekSpoor\": [{\"@InfoStatus\": \"Gepland\", \"ns2:SpoorNummer\": \"2\"}, {\"@InfoStatus\": \"Actueel\", \"ns2:SpoorNummer\": \"2\"}], \"ns2:PresentatieTreinVleugelVertrekSpoor\": {\"ns2:Uitingen\": {\"ns2:Uiting\": \"2\"}}, \"ns2:TreinVleugelEindBestemming\": [{\"@InfoStatus\": \"Gepland\", \"ns2:StationCode\": \"EHV\", \"ns2:Type\": \"6\", \"ns2:KorteNaam\": \"Eindhovn C\", \"ns2:MiddelNaam\": \"Eindhoven C.\", \"ns2:LangeNaam\": \"Eindhoven Centraal\", \"ns2:UICCode\": \"8400206\"}, {\"@InfoStatus\": \"Actueel\", \"ns2:StationCode\": \"EHV\", \"ns2:Type\": \"6\", \"ns2:KorteNaam\": \"Eindhovn C\", \"ns2:MiddelNaam\": \"Eindhoven C.\", \"ns2:LangeNaam\": \"Eindhoven Centraal\", \"ns2:UICCode\": \"8400206\"}], \"ns2:PresentatieTreinVleugelEindBestemming\": {\"ns2:Uitingen\": {\"ns2:Uiting\": \"Eindhoven Centraal\"}}, \"ns2:StopStations\": [{\"@InfoStatus\": \"Gepland\", \"ns2:Station\": [{\"ns2:StationCode\": \"STD\", \"ns2:Type\": \"5\", \"ns2:KorteNaam\": \"Sittard\", \"ns2:MiddelNaam\": \"Sittard\", \"ns2:LangeNaam\": \"Sittard\", \"ns2:UICCode\": \"8400564\"}, {\"ns2:StationCode\": \"RM\", \"ns2:Type\": \"5\", \"ns2:KorteNaam\": \"Roermond\", \"ns2:MiddelNaam\": \"Roermond\", \"ns2:LangeNaam\": \"Roermond\", \"ns2:UICCode\": \"8400523\"}, {\"ns2:StationCode\": \"WT\", \"ns2:Type\": \"4\", \"ns2:KorteNaam\": \"Weert\", \"ns2:MiddelNaam\": \"Weert\", \"ns2:LangeNaam\": \"Weert\", \"ns2:UICCode\": \"8400684\"}, {\"ns2:StationCode\": \"EHV\", \"ns2:Type\": \"6\", \"ns2:KorteNaam\": \"Eindhovn C\", \"ns2:MiddelNaam\": \"Eindhoven C.\", \"ns2:LangeNaam\": \"Eindhoven Centraal\", \"ns2:UICCode\": \"8400206\"}]}, {\"@InfoStatus\": \"Actueel\", \"ns2:Station\": [{\"ns2:StationCode\": \"STD\", \"ns2:Type\": \"5\", \"ns2:KorteNaam\": \"Sittard\", \"ns2:MiddelNaam\": \"Sittard\", \"ns2:LangeNaam\": \"Sittard\", \"ns2:UICCode\": \"8400564\"}, {\"ns2:StationCode\": \"RM\", \"ns2:Type\": \"5\", \"ns2:KorteNaam\": \"Roermond\", \"ns2:MiddelNaam\": \"Roermond\", \"ns2:LangeNaam\": \"Roermond\", \"ns2:UICCode\": \"8400523\"}, {\"ns2:StationCode\": \"WT\", \"ns2:Type\": \"4\", \"ns2:KorteNaam\": \"Weert\", \"ns2:MiddelNaam\": \"Weert\", \"ns2:LangeNaam\": \"Weert\", \"ns2:UICCode\": \"8400684\"}, {\"ns2:StationCode\": \"EHV\", \"ns2:Type\": \"6\", \"ns2:KorteNaam\": \"Eindhovn C\", \"ns2:MiddelNaam\": \"Eindhoven C.\", \"ns2:LangeNaam\": \"Eindhoven Centraal\", \"ns2:UICCode\": \"8400206\"}]}], \"ns2:MaterieelDeelDVS\": {\"ns2:MaterieelSoort\": \"VIRM\", \"ns2:MaterieelAanduiding\": \"4\", \"ns2:MaterieelLengte\": \"10860\", \"ns2:MaterieelNummer\": \"000000-09504-0\", \"ns2:MaterieelDeelEindBestemming\": [{\"@InfoStatus\": \"Gepland\", \"ns2:StationCode\": \"EHV\", \"ns2:Type\": \"6\", \"ns2:KorteNaam\": \"Eindhovn C\", \"ns2:MiddelNaam\": \"Eindhoven C.\", \"ns2:LangeNaam\": \"Eindhoven Centraal\", \"ns2:UICCode\": \"8400206\"}, {\"@InfoStatus\": \"Actueel\", \"ns2:StationCode\": \"EHV\", \"ns2:Type\": \"6\", \"ns2:KorteNaam\": \"Eindhovn C\", \"ns2:MiddelNaam\": \"Eindhoven C.\", \"ns2:LangeNaam\": \"Eindhoven Centraal\", \"ns2:UICCode\": \"8400206\"}], \"ns2:PresentatieMaterieelDeelEindBestemming\": {\"ns2:Uitingen\": {\"ns2:Uiting\": \"Eindhoven Centraal\"}}}}}}}}}')\n",
      "(None, u'{\"ns1:PutReisInformatieBoodschapIn\": {\"@xmlns:ns1\": \"urn:ndov:cdm:trein:reisinformatie:messages:5\", \"@xmlns:ns2\": \"urn:ndov:cdm:trein:reisinformatie:data:4\", \"ns2:ReisInformatieProductDVS\": {\"@TimeStamp\": \"2020-05-13T10:51:04.994Z\", \"@Versie\": \"6.2\", \"ns2:RIPAdministratie\": {\"ns2:ReisInformatieProductID\": \"2005131251042300006\", \"ns2:AbonnementId\": \"54\", \"ns2:ReisInformatieTijdstip\": \"2020-05-13T10:50:00.000Z\"}, \"ns2:DynamischeVertrekStaat\": {\"ns2:RitId\": \"1645\", \"ns2:RitDatum\": \"2020-05-13\", \"ns2:RitStation\": {\"ns2:StationCode\": \"DVD\", \"ns2:Type\": \"1\", \"ns2:KorteNaam\": \"Duivendrt\", \"ns2:MiddelNaam\": \"Duivendrecht\", \"ns2:LangeNaam\": \"Duivendrecht\", \"ns2:UICCode\": \"8400194\"}, \"ns2:Trein\": {\"ns2:TreinNummer\": \"1645\", \"ns2:TreinSoort\": {\"@Code\": \"IC\", \"#text\": \"Intercity\"}, \"ns2:TreinFormule\": \"3\", \"ns2:TreinStatus\": \"5\", \"ns2:Vervoerder\": \"NS\", \"ns2:Reserveren\": \"N\", \"ns2:Toeslag\": \"N\", \"ns2:NietInstappen\": \"N\", \"ns2:AchterBlijvenAchtersteTreinDeel\": \"N\", \"ns2:RangeerBeweging\": \"N\", \"ns2:SpeciaalKaartje\": \"N\", \"ns2:TreinEindBestemming\": [{\"@InfoStatus\": \"Gepland\", \"ns2:StationCode\": \"ES\", \"ns2:Type\": \"5\", \"ns2:KorteNaam\": \"Enschede\", \"ns2:MiddelNaam\": \"Enschede\", \"ns2:LangeNaam\": \"Enschede\", \"ns2:UICCode\": \"8400212\"}, {\"@InfoStatus\": \"Actueel\", \"ns2:StationCode\": \"ES\", \"ns2:Type\": \"5\", \"ns2:KorteNaam\": \"Enschede\", \"ns2:MiddelNaam\": \"Enschede\", \"ns2:LangeNaam\": \"Enschede\", \"ns2:UICCode\": \"8400212\"}], \"ns2:PresentatieTreinEindBestemming\": {\"ns2:Uitingen\": {\"ns2:Uiting\": \"Enschede\"}}, \"ns2:VertrekTijd\": [{\"@InfoStatus\": \"Gepland\", \"#text\": \"2020-05-13T10:50:00.000Z\"}, {\"@InfoStatus\": \"Actueel\", \"#text\": \"2020-05-13T10:50:00.000Z\"}], \"ns2:ExacteVertrekVertraging\": \"PT0S\", \"ns2:GedempteVertrekVertraging\": \"PT0S\", \"ns2:TreinVertrekSpoor\": [{\"@InfoStatus\": \"Gepland\", \"ns2:SpoorNummer\": \"1\"}, {\"@InfoStatus\": \"Actueel\", \"ns2:SpoorNummer\": \"1\"}], \"ns2:PresentatieTreinVertrekSpoor\": {\"ns2:Uitingen\": {\"ns2:Uiting\": \"1\"}}, \"ns2:VertrekRichting\": \"A\", \"ns2:AfstandPerronEindKopVertrekTrein\": \"0\", \"ns2:VerkorteRoute\": [{\"@InfoStatus\": \"Gepland\", \"ns2:Station\": [{\"ns2:StationCode\": \"HVS\", \"ns2:Type\": \"5\", \"ns2:KorteNaam\": \"Hilversum\", \"ns2:MiddelNaam\": \"Hilversum\", \"ns2:LangeNaam\": \"Hilversum\", \"ns2:UICCode\": \"8400322\"}, {\"ns2:StationCode\": \"AMF\", \"ns2:Type\": \"5\", \"ns2:KorteNaam\": \"Amersfrt C\", \"ns2:MiddelNaam\": \"Amersfoort C.\", \"ns2:LangeNaam\": \"Amersfoort Centraal\", \"ns2:UICCode\": \"8400055\"}, {\"ns2:StationCode\": \"APD\", \"ns2:Type\": \"5\", \"ns2:KorteNaam\": \"Apeldoorn\", \"ns2:MiddelNaam\": \"Apeldoorn\", \"ns2:LangeNaam\": \"Apeldoorn\", \"ns2:UICCode\": \"8400066\"}, {\"ns2:StationCode\": \"DV\", \"ns2:Type\": \"5\", \"ns2:KorteNaam\": \"Deventer\", \"ns2:MiddelNaam\": \"Deventer\", \"ns2:LangeNaam\": \"Deventer\", \"ns2:UICCode\": \"8400173\"}]}, {\"@InfoStatus\": \"Actueel\", \"ns2:Station\": [{\"ns2:StationCode\": \"HVS\", \"ns2:Type\": \"5\", \"ns2:KorteNaam\": \"Hilversum\", \"ns2:MiddelNaam\": \"Hilversum\", \"ns2:LangeNaam\": \"Hilversum\", \"ns2:UICCode\": \"8400322\"}, {\"ns2:StationCode\": \"AMF\", \"ns2:Type\": \"5\", \"ns2:KorteNaam\": \"Amersfrt C\", \"ns2:MiddelNaam\": \"Amersfoort C.\", \"ns2:LangeNaam\": \"Amersfoort Centraal\", \"ns2:UICCode\": \"8400055\"}, {\"ns2:StationCode\": \"APD\", \"ns2:Type\": \"5\", \"ns2:KorteNaam\": \"Apeldoorn\", \"ns2:MiddelNaam\": \"Apeldoorn\", \"ns2:LangeNaam\": \"Apeldoorn\", \"ns2:UICCode\": \"8400066\"}, {\"ns2:StationCode\": \"DV\", \"ns2:Type\": \"5\", \"ns2:KorteNaam\": \"Deventer\", \"ns2:MiddelNaam\": \"Deventer\", \"ns2:LangeNaam\": \"Deventer\", \"ns2:UICCode\": \"8400173\"}]}], \"ns2:PresentatieVerkorteRoute\": {\"ns2:Uitingen\": {\"ns2:Uiting\": \"Hilversum, Amersfoort C., Apeldoorn, Deventer\"}}, \"ns2:TreinVleugel\": {\"ns2:TreinVleugelVertrekSpoor\": [{\"@InfoStatus\": \"Gepland\", \"ns2:SpoorNummer\": \"1\"}, {\"@InfoStatus\": \"Actueel\", \"ns2:SpoorNummer\": \"1\"}], \"ns2:PresentatieTreinVleugelVertrekSpoor\": {\"ns2:Uitingen\": {\"ns2:Uiting\": \"1\"}}, \"ns2:TreinVleugelEindBestemming\": [{\"@InfoStatus\": \"Gepland\", \"ns2:StationCode\": \"ES\", \"ns2:Type\": \"5\", \"ns2:KorteNaam\": \"Enschede\", \"ns2:MiddelNaam\": \"Enschede\", \"ns2:LangeNaam\": \"Enschede\", \"ns2:UICCode\": \"8400212\"}, {\"@InfoStatus\": \"Actueel\", \"ns2:StationCode\": \"ES\", \"ns2:Type\": \"5\", \"ns2:KorteNaam\": \"Enschede\", \"ns2:MiddelNaam\": \"Enschede\", \"ns2:LangeNaam\": \"Enschede\", \"ns2:UICCode\": \"8400212\"}], \"ns2:PresentatieTreinVleugelEindBestemming\": {\"ns2:Uitingen\": {\"ns2:Uiting\": \"Enschede\"}}, \"ns2:StopStations\": [{\"@InfoStatus\": \"Gepland\", \"ns2:Station\": [{\"ns2:StationCode\": \"HVS\", \"ns2:Type\": \"5\", \"ns2:KorteNaam\": \"Hilversum\", \"ns2:MiddelNaam\": \"Hilversum\", \"ns2:LangeNaam\": \"Hilversum\", \"ns2:UICCode\": \"8400322\"}, {\"ns2:StationCode\": \"AMF\", \"ns2:Type\": \"5\", \"ns2:KorteNaam\": \"Amersfrt C\", \"ns2:MiddelNaam\": \"Amersfoort C.\", \"ns2:LangeNaam\": \"Amersfoort Centraal\", \"ns2:UICCode\": \"8400055\"}, {\"ns2:StationCode\": \"APD\", \"ns2:Type\": \"5\", \"ns2:KorteNaam\": \"Apeldoorn\", \"ns2:MiddelNaam\": \"Apeldoorn\", \"ns2:LangeNaam\": \"Apeldoorn\", \"ns2:UICCode\": \"8400066\"}, {\"ns2:StationCode\": \"DV\", \"ns2:Type\": \"5\", \"ns2:KorteNaam\": \"Deventer\", \"ns2:MiddelNaam\": \"Deventer\", \"ns2:LangeNaam\": \"Deventer\", \"ns2:UICCode\": \"8400173\"}, {\"ns2:StationCode\": \"AML\", \"ns2:Type\": \"5\", \"ns2:KorteNaam\": \"Almelo\", \"ns2:MiddelNaam\": \"Almelo\", \"ns2:LangeNaam\": \"Almelo\", \"ns2:UICCode\": \"8400051\"}, {\"ns2:StationCode\": \"HGL\", \"ns2:Type\": \"5\", \"ns2:KorteNaam\": \"Hengelo\", \"ns2:MiddelNaam\": \"Hengelo\", \"ns2:LangeNaam\": \"Hengelo\", \"ns2:UICCode\": \"8400316\"}, {\"ns2:StationCode\": \"ES\", \"ns2:Type\": \"5\", \"ns2:KorteNaam\": \"Enschede\", \"ns2:MiddelNaam\": \"Enschede\", \"ns2:LangeNaam\": \"Enschede\", \"ns2:UICCode\": \"8400212\"}]}, {\"@InfoStatus\": \"Actueel\", \"ns2:Station\": [{\"ns2:StationCode\": \"HVS\", \"ns2:Type\": \"5\", \"ns2:KorteNaam\": \"Hilversum\", \"ns2:MiddelNaam\": \"Hilversum\", \"ns2:LangeNaam\": \"Hilversum\", \"ns2:UICCode\": \"8400322\"}, {\"ns2:StationCode\": \"AMF\", \"ns2:Type\": \"5\", \"ns2:KorteNaam\": \"Amersfrt C\", \"ns2:MiddelNaam\": \"Amersfoort C.\", \"ns2:LangeNaam\": \"Amersfoort Centraal\", \"ns2:UICCode\": \"8400055\"}, {\"ns2:StationCode\": \"APD\", \"ns2:Type\": \"5\", \"ns2:KorteNaam\": \"Apeldoorn\", \"ns2:MiddelNaam\": \"Apeldoorn\", \"ns2:LangeNaam\": \"Apeldoorn\", \"ns2:UICCode\": \"8400066\"}, {\"ns2:StationCode\": \"DV\", \"ns2:Type\": \"5\", \"ns2:KorteNaam\": \"Deventer\", \"ns2:MiddelNaam\": \"Deventer\", \"ns2:LangeNaam\": \"Deventer\", \"ns2:UICCode\": \"8400173\"}, {\"ns2:StationCode\": \"AML\", \"ns2:Type\": \"5\", \"ns2:KorteNaam\": \"Almelo\", \"ns2:MiddelNaam\": \"Almelo\", \"ns2:LangeNaam\": \"Almelo\", \"ns2:UICCode\": \"8400051\"}, {\"ns2:StationCode\": \"HGL\", \"ns2:Type\": \"5\", \"ns2:KorteNaam\": \"Hengelo\", \"ns2:MiddelNaam\": \"Hengelo\", \"ns2:LangeNaam\": \"Hengelo\", \"ns2:UICCode\": \"8400316\"}, {\"ns2:StationCode\": \"ES\", \"ns2:Type\": \"5\", \"ns2:KorteNaam\": \"Enschede\", \"ns2:MiddelNaam\": \"Enschede\", \"ns2:LangeNaam\": \"Enschede\", \"ns2:UICCode\": \"8400212\"}]}], \"ns2:MaterieelDeelDVS\": [{\"ns2:MaterieelSoort\": \"ICM\", \"ns2:MaterieelAanduiding\": \"4\", \"ns2:MaterieelLengte\": \"10710\", \"ns2:MaterieelDeelVertrekPositie\": \"1\", \"ns2:MaterieelDeelVolgordeVertrek\": \"1\", \"ns2:MaterieelNummer\": \"000000-04245-0\", \"ns2:MaterieelDeelEindBestemming\": [{\"@InfoStatus\": \"Gepland\", \"ns2:StationCode\": \"ES\", \"ns2:Type\": \"5\", \"ns2:KorteNaam\": \"Enschede\", \"ns2:MiddelNaam\": \"Enschede\", \"ns2:LangeNaam\": \"Enschede\", \"ns2:UICCode\": \"8400212\"}, {\"@InfoStatus\": \"Actueel\", \"ns2:StationCode\": \"ES\", \"ns2:Type\": \"5\", \"ns2:KorteNaam\": \"Enschede\", \"ns2:MiddelNaam\": \"Enschede\", \"ns2:LangeNaam\": \"Enschede\", \"ns2:UICCode\": \"8400212\"}], \"ns2:PresentatieMaterieelDeelEindBestemming\": {\"ns2:Uitingen\": {\"ns2:Uiting\": \"Enschede\"}}}, {\"ns2:MaterieelSoort\": \"ICM\", \"ns2:MaterieelAanduiding\": \"4\", \"ns2:MaterieelLengte\": \"10710\", \"ns2:MaterieelDeelVertrekPositie\": \"3\", \"ns2:MaterieelDeelVolgordeVertrek\": \"2\", \"ns2:MaterieelNummer\": \"000000-04215-0\", \"ns2:MaterieelDeelEindBestemming\": [{\"@InfoStatus\": \"Gepland\", \"ns2:StationCode\": \"ES\", \"ns2:Type\": \"5\", \"ns2:KorteNaam\": \"Enschede\", \"ns2:MiddelNaam\": \"Enschede\", \"ns2:LangeNaam\": \"Enschede\", \"ns2:UICCode\": \"8400212\"}, {\"@InfoStatus\": \"Actueel\", \"ns2:StationCode\": \"ES\", \"ns2:Type\": \"5\", \"ns2:KorteNaam\": \"Enschede\", \"ns2:MiddelNaam\": \"Enschede\", \"ns2:LangeNaam\": \"Enschede\", \"ns2:UICCode\": \"8400212\"}], \"ns2:PresentatieMaterieelDeelEindBestemming\": {\"ns2:Uitingen\": {\"ns2:Uiting\": \"Enschede\"}}}]}, \"ns2:Wijziging\": {\"ns2:WijzigingType\": \"40\"}}}}}}')\n",
      "(None, u'{\"ns1:PutReisInformatieBoodschapIn\": {\"@xmlns:ns1\": \"urn:ndov:cdm:trein:reisinformatie:messages:5\", \"@xmlns:ns2\": \"urn:ndov:cdm:trein:reisinformatie:data:4\", \"ns2:ReisInformatieProductDVS\": {\"@TimeStamp\": \"2020-05-13T10:51:05.295Z\", \"@Versie\": \"6.2\", \"ns2:RIPAdministratie\": {\"ns2:ReisInformatieProductID\": \"2005131251052400012\", \"ns2:AbonnementId\": \"54\", \"ns2:ReisInformatieTijdstip\": \"2020-05-13T12:01:00.000Z\"}, \"ns2:DynamischeVertrekStaat\": {\"ns2:RitId\": \"14649\", \"ns2:RitDatum\": \"2020-05-13\", \"ns2:RitStation\": {\"ns2:StationCode\": \"ASSP\", \"ns2:Type\": \"0\", \"ns2:KorteNaam\": \"Scienceprk\", \"ns2:MiddelNaam\": \"Science Park\", \"ns2:LangeNaam\": \"Amsterdam Science Park\", \"ns2:UICCode\": \"8400235\"}, \"ns2:Trein\": {\"ns2:TreinNummer\": \"14649\", \"ns2:TreinSoort\": {\"@Code\": \"SPR\", \"#text\": \"Sprinter\"}, \"ns2:TreinFormule\": \"1\", \"ns2:TreinStatus\": \"0\", \"ns2:Vervoerder\": \"NS\", \"ns2:Reserveren\": \"N\", \"ns2:Toeslag\": \"N\", \"ns2:NietInstappen\": \"N\", \"ns2:AchterBlijvenAchtersteTreinDeel\": \"N\", \"ns2:RangeerBeweging\": \"N\", \"ns2:SpeciaalKaartje\": \"N\", \"ns2:TreinEindBestemming\": [{\"@InfoStatus\": \"Gepland\", \"ns2:StationCode\": \"ZL\", \"ns2:Type\": \"5\", \"ns2:KorteNaam\": \"Zwolle\", \"ns2:MiddelNaam\": \"Zwolle\", \"ns2:LangeNaam\": \"Zwolle\", \"ns2:UICCode\": \"8400747\"}, {\"@InfoStatus\": \"Actueel\", \"ns2:StationCode\": \"ZL\", \"ns2:Type\": \"5\", \"ns2:KorteNaam\": \"Zwolle\", \"ns2:MiddelNaam\": \"Zwolle\", \"ns2:LangeNaam\": \"Zwolle\", \"ns2:UICCode\": \"8400747\"}], \"ns2:PresentatieTreinEindBestemming\": {\"ns2:Uitingen\": {\"ns2:Uiting\": \"Zwolle\"}}, \"ns2:VertrekTijd\": [{\"@InfoStatus\": \"Gepland\", \"#text\": \"2020-05-13T12:01:00.000Z\"}, {\"@InfoStatus\": \"Actueel\", \"#text\": \"2020-05-13T12:01:00.000Z\"}], \"ns2:ExacteVertrekVertraging\": \"PT0S\", \"ns2:GedempteVertrekVertraging\": \"PT0S\", \"ns2:TreinVertrekSpoor\": [{\"@InfoStatus\": \"Gepland\", \"ns2:SpoorNummer\": \"1\"}, {\"@InfoStatus\": \"Actueel\", \"ns2:SpoorNummer\": \"1\"}], \"ns2:PresentatieTreinVertrekSpoor\": {\"ns2:Uitingen\": {\"ns2:Uiting\": \"1\"}}, \"ns2:VertrekRichting\": \"B\", \"ns2:AfstandPerronEindKopVertrekTrein\": \"0\", \"ns2:VerkorteRoute\": [{\"@InfoStatus\": \"Gepland\", \"ns2:Station\": [{\"ns2:StationCode\": \"WP\", \"ns2:Type\": \"1\", \"ns2:KorteNaam\": \"Weesp\", \"ns2:MiddelNaam\": \"Weesp\", \"ns2:LangeNaam\": \"Weesp\", \"ns2:UICCode\": \"8400685\"}, {\"ns2:StationCode\": \"ALM\", \"ns2:Type\": \"5\", \"ns2:KorteNaam\": \"Almere C\", \"ns2:MiddelNaam\": \"Almere C.\", \"ns2:LangeNaam\": \"Almere Centrum\", \"ns2:UICCode\": \"8400080\"}, {\"ns2:StationCode\": \"LLS\", \"ns2:Type\": \"5\", \"ns2:KorteNaam\": \"Lelystad C\", \"ns2:MiddelNaam\": \"Lelystad C.\", \"ns2:LangeNaam\": \"Lelystad Centrum\", \"ns2:UICCode\": \"8400394\"}]}, {\"@InfoStatus\": \"Actueel\", \"ns2:Station\": [{\"ns2:StationCode\": \"WP\", \"ns2:Type\": \"1\", \"ns2:KorteNaam\": \"Weesp\", \"ns2:MiddelNaam\": \"Weesp\", \"ns2:LangeNaam\": \"Weesp\", \"ns2:UICCode\": \"8400685\"}, {\"ns2:StationCode\": \"ALM\", \"ns2:Type\": \"5\", \"ns2:KorteNaam\": \"Almere C\", \"ns2:MiddelNaam\": \"Almere C.\", \"ns2:LangeNaam\": \"Almere Centrum\", \"ns2:UICCode\": \"8400080\"}, {\"ns2:StationCode\": \"LLS\", \"ns2:Type\": \"5\", \"ns2:KorteNaam\": \"Lelystad C\", \"ns2:MiddelNaam\": \"Lelystad C.\", \"ns2:LangeNaam\": \"Lelystad Centrum\", \"ns2:UICCode\": \"8400394\"}]}], \"ns2:PresentatieVerkorteRoute\": {\"ns2:Uitingen\": {\"ns2:Uiting\": \"Weesp, Almere C., Lelystad C.\"}}, \"ns2:TreinVleugel\": {\"ns2:TreinVleugelVertrekSpoor\": [{\"@InfoStatus\": \"Gepland\", \"ns2:SpoorNummer\": \"1\"}, {\"@InfoStatus\": \"Actueel\", \"ns2:SpoorNummer\": \"1\"}], \"ns2:PresentatieTreinVleugelVertrekSpoor\": {\"ns2:Uitingen\": {\"ns2:Uiting\": \"1\"}}, \"ns2:TreinVleugelEindBestemming\": [{\"@InfoStatus\": \"Gepland\", \"ns2:StationCode\": \"ZL\", \"ns2:Type\": \"5\", \"ns2:KorteNaam\": \"Zwolle\", \"ns2:MiddelNaam\": \"Zwolle\", \"ns2:LangeNaam\": \"Zwolle\", \"ns2:UICCode\": \"8400747\"}, {\"@InfoStatus\": \"Actueel\", \"ns2:StationCode\": \"ZL\", \"ns2:Type\": \"5\", \"ns2:KorteNaam\": \"Zwolle\", \"ns2:MiddelNaam\": \"Zwolle\", \"ns2:LangeNaam\": \"Zwolle\", \"ns2:UICCode\": \"8400747\"}], \"ns2:PresentatieTreinVleugelEindBestemming\": {\"ns2:Uitingen\": {\"ns2:Uiting\": \"Zwolle\"}}, \"ns2:StopStations\": [{\"@InfoStatus\": \"Gepland\", \"ns2:Station\": [{\"ns2:StationCode\": \"DMN\", \"ns2:Type\": \"0\", \"ns2:KorteNaam\": \"Diemen\", \"ns2:MiddelNaam\": \"Diemen\", \"ns2:LangeNaam\": \"Diemen\", \"ns2:UICCode\": \"8400165\"}, {\"ns2:StationCode\": \"WP\", \"ns2:Type\": \"1\", \"ns2:KorteNaam\": \"Weesp\", \"ns2:MiddelNaam\": \"Weesp\", \"ns2:LangeNaam\": \"Weesp\", \"ns2:UICCode\": \"8400685\"}, {\"ns2:StationCode\": \"AMPO\", \"ns2:Type\": \"0\", \"ns2:KorteNaam\": \"Poort\", \"ns2:MiddelNaam\": \"Poort\", \"ns2:LangeNaam\": \"Almere Poort\", \"ns2:UICCode\": \"8400450\"}, {\"ns2:StationCode\": \"ALMM\", \"ns2:Type\": \"0\", \"ns2:KorteNaam\": \"Muziekwijk\", \"ns2:MiddelNaam\": \"Muziekwijk\", \"ns2:LangeNaam\": \"Almere Muziekwijk\", \"ns2:UICCode\": \"8400082\"}, {\"ns2:StationCode\": \"ALM\", \"ns2:Type\": \"5\", \"ns2:KorteNaam\": \"Almere C\", \"ns2:MiddelNaam\": \"Almere C.\", \"ns2:LangeNaam\": \"Almere Centrum\", \"ns2:UICCode\": \"8400080\"}, {\"ns2:StationCode\": \"ALMP\", \"ns2:Type\": \"0\", \"ns2:KorteNaam\": \"Parkwijk\", \"ns2:MiddelNaam\": \"Parkwijk\", \"ns2:LangeNaam\": \"Almere Parkwijk\", \"ns2:UICCode\": \"8400104\"}, {\"ns2:StationCode\": \"ALMB\", \"ns2:Type\": \"0\", \"ns2:KorteNaam\": \"Buiten\", \"ns2:MiddelNaam\": \"Buiten\", \"ns2:LangeNaam\": \"Almere Buiten\", \"ns2:UICCode\": \"8400081\"}, {\"ns2:StationCode\": \"ALMO\", \"ns2:Type\": \"0\", \"ns2:KorteNaam\": \"Oostvaard\", \"ns2:MiddelNaam\": \"Oostvaarders\", \"ns2:LangeNaam\": \"Almere Oostvaarders\", \"ns2:UICCode\": \"8400226\"}, {\"ns2:StationCode\": \"LLS\", \"ns2:Type\": \"5\", \"ns2:KorteNaam\": \"Lelystad C\", \"ns2:MiddelNaam\": \"Lelystad C.\", \"ns2:LangeNaam\": \"Lelystad Centrum\", \"ns2:UICCode\": \"8400394\"}, {\"ns2:StationCode\": \"DRON\", \"ns2:Type\": \"0\", \"ns2:KorteNaam\": \"Dronten\", \"ns2:MiddelNaam\": \"Dronten\", \"ns2:LangeNaam\": \"Dronten\", \"ns2:UICCode\": \"8400198\"}, {\"ns2:StationCode\": \"KPNZ\", \"ns2:Type\": \"0\", \"ns2:KorteNaam\": \"Kampen Z\", \"ns2:MiddelNaam\": \"Kampen Z.\", \"ns2:LangeNaam\": \"Kampen Zuid\", \"ns2:UICCode\": \"8400360\"}, {\"ns2:StationCode\": \"ZL\", \"ns2:Type\": \"5\", \"ns2:KorteNaam\": \"Zwolle\", \"ns2:MiddelNaam\": \"Zwolle\", \"ns2:LangeNaam\": \"Zwolle\", \"ns2:UICCode\": \"8400747\"}]}, {\"@InfoStatus\": \"Actueel\", \"ns2:Station\": [{\"ns2:StationCode\": \"DMN\", \"ns2:Type\": \"0\", \"ns2:KorteNaam\": \"Diemen\", \"ns2:MiddelNaam\": \"Diemen\", \"ns2:LangeNaam\": \"Diemen\", \"ns2:UICCode\": \"8400165\"}, {\"ns2:StationCode\": \"WP\", \"ns2:Type\": \"1\", \"ns2:KorteNaam\": \"Weesp\", \"ns2:MiddelNaam\": \"Weesp\", \"ns2:LangeNaam\": \"Weesp\", \"ns2:UICCode\": \"8400685\"}, {\"ns2:StationCode\": \"AMPO\", \"ns2:Type\": \"0\", \"ns2:KorteNaam\": \"Poort\", \"ns2:MiddelNaam\": \"Poort\", \"ns2:LangeNaam\": \"Almere Poort\", \"ns2:UICCode\": \"8400450\"}, {\"ns2:StationCode\": \"ALMM\", \"ns2:Type\": \"0\", \"ns2:KorteNaam\": \"Muziekwijk\", \"ns2:MiddelNaam\": \"Muziekwijk\", \"ns2:LangeNaam\": \"Almere Muziekwijk\", \"ns2:UICCode\": \"8400082\"}, {\"ns2:StationCode\": \"ALM\", \"ns2:Type\": \"5\", \"ns2:KorteNaam\": \"Almere C\", \"ns2:MiddelNaam\": \"Almere C.\", \"ns2:LangeNaam\": \"Almere Centrum\", \"ns2:UICCode\": \"8400080\"}, {\"ns2:StationCode\": \"ALMP\", \"ns2:Type\": \"0\", \"ns2:KorteNaam\": \"Parkwijk\", \"ns2:MiddelNaam\": \"Parkwijk\", \"ns2:LangeNaam\": \"Almere Parkwijk\", \"ns2:UICCode\": \"8400104\"}, {\"ns2:StationCode\": \"ALMB\", \"ns2:Type\": \"0\", \"ns2:KorteNaam\": \"Buiten\", \"ns2:MiddelNaam\": \"Buiten\", \"ns2:LangeNaam\": \"Almere Buiten\", \"ns2:UICCode\": \"8400081\"}, {\"ns2:StationCode\": \"ALMO\", \"ns2:Type\": \"0\", \"ns2:KorteNaam\": \"Oostvaard\", \"ns2:MiddelNaam\": \"Oostvaarders\", \"ns2:LangeNaam\": \"Almere Oostvaarders\", \"ns2:UICCode\": \"8400226\"}, {\"ns2:StationCode\": \"LLS\", \"ns2:Type\": \"5\", \"ns2:KorteNaam\": \"Lelystad C\", \"ns2:MiddelNaam\": \"Lelystad C.\", \"ns2:LangeNaam\": \"Lelystad Centrum\", \"ns2:UICCode\": \"8400394\"}, {\"ns2:StationCode\": \"DRON\", \"ns2:Type\": \"0\", \"ns2:KorteNaam\": \"Dronten\", \"ns2:MiddelNaam\": \"Dronten\", \"ns2:LangeNaam\": \"Dronten\", \"ns2:UICCode\": \"8400198\"}, {\"ns2:StationCode\": \"KPNZ\", \"ns2:Type\": \"0\", \"ns2:KorteNaam\": \"Kampen Z\", \"ns2:MiddelNaam\": \"Kampen Z.\", \"ns2:LangeNaam\": \"Kampen Zuid\", \"ns2:UICCode\": \"8400360\"}, {\"ns2:StationCode\": \"ZL\", \"ns2:Type\": \"5\", \"ns2:KorteNaam\": \"Zwolle\", \"ns2:MiddelNaam\": \"Zwolle\", \"ns2:LangeNaam\": \"Zwolle\", \"ns2:UICCode\": \"8400747\"}]}], \"ns2:MaterieelDeelDVS\": [{\"ns2:MaterieelSoort\": \"SNG\", \"ns2:MaterieelAanduiding\": \"3\", \"ns2:MaterieelLengte\": \"5956\", \"ns2:MaterieelDeelVertrekPositie\": \"1\", \"ns2:MaterieelDeelVolgordeVertrek\": \"1\", \"ns2:MaterieelNummer\": \"000000-02340-0\", \"ns2:MaterieelDeelEindBestemming\": [{\"@InfoStatus\": \"Gepland\", \"ns2:StationCode\": \"ZL\", \"ns2:Type\": \"5\", \"ns2:KorteNaam\": \"Zwolle\", \"ns2:MiddelNaam\": \"Zwolle\", \"ns2:LangeNaam\": \"Zwolle\", \"ns2:UICCode\": \"8400747\"}, {\"@InfoStatus\": \"Actueel\", \"ns2:StationCode\": \"ZL\", \"ns2:Type\": \"5\", \"ns2:KorteNaam\": \"Zwolle\", \"ns2:MiddelNaam\": \"Zwolle\", \"ns2:LangeNaam\": \"Zwolle\", \"ns2:UICCode\": \"8400747\"}], \"ns2:PresentatieMaterieelDeelEindBestemming\": {\"ns2:Uitingen\": {\"ns2:Uiting\": \"Zwolle\"}}}, {\"ns2:MaterieelSoort\": \"SNG\", \"ns2:MaterieelAanduiding\": \"4\", \"ns2:MaterieelLengte\": \"7576\", \"ns2:MaterieelDeelVertrekPositie\": \"3\", \"ns2:MaterieelDeelVolgordeVertrek\": \"2\", \"ns2:MaterieelNummer\": \"000000-02704-0\", \"ns2:MaterieelDeelEindBestemming\": [{\"@InfoStatus\": \"Gepland\", \"ns2:StationCode\": \"ZL\", \"ns2:Type\": \"5\", \"ns2:KorteNaam\": \"Zwolle\", \"ns2:MiddelNaam\": \"Zwolle\", \"ns2:LangeNaam\": \"Zwolle\", \"ns2:UICCode\": \"8400747\"}, {\"@InfoStatus\": \"Actueel\", \"ns2:StationCode\": \"ZL\", \"ns2:Type\": \"5\", \"ns2:KorteNaam\": \"Zwolle\", \"ns2:MiddelNaam\": \"Zwolle\", \"ns2:LangeNaam\": \"Zwolle\", \"ns2:UICCode\": \"8400747\"}], \"ns2:PresentatieMaterieelDeelEindBestemming\": {\"ns2:Uitingen\": {\"ns2:Uiting\": \"Zwolle\"}}}]}}}}}}')\n",
      "(None, u'{\"ns1:PutReisInformatieBoodschapIn\": {\"@xmlns:ns1\": \"urn:ndov:cdm:trein:reisinformatie:messages:5\", \"@xmlns:ns2\": \"urn:ndov:cdm:trein:reisinformatie:data:4\", \"ns2:ReisInformatieProductDVS\": {\"@TimeStamp\": \"2020-05-13T10:51:05.494Z\", \"@Versie\": \"6.2\", \"ns2:RIPAdministratie\": {\"ns2:ReisInformatieProductID\": \"2005131251052400062\", \"ns2:AbonnementId\": \"54\", \"ns2:ReisInformatieTijdstip\": \"2020-05-13T12:01:00.000Z\"}, \"ns2:DynamischeVertrekStaat\": {\"ns2:RitId\": \"6651\", \"ns2:RitDatum\": \"2020-05-13\", \"ns2:RitStation\": {\"ns2:StationCode\": \"AHZ\", \"ns2:Type\": \"0\", \"ns2:KorteNaam\": \"Arnhem Z\", \"ns2:MiddelNaam\": \"Arnhem Zuid\", \"ns2:LangeNaam\": \"Arnhem Zuid\", \"ns2:UICCode\": \"8400227\"}, \"ns2:Trein\": {\"ns2:TreinNummer\": \"6651\", \"ns2:TreinSoort\": {\"@Code\": \"SPR\", \"#text\": \"Sprinter\"}, \"ns2:TreinFormule\": \"1\", \"ns2:TreinStatus\": \"0\", \"ns2:Vervoerder\": \"NS\", \"ns2:Reserveren\": \"N\", \"ns2:Toeslag\": \"N\", \"ns2:NietInstappen\": \"N\", \"ns2:AchterBlijvenAchtersteTreinDeel\": \"N\", \"ns2:RangeerBeweging\": \"N\", \"ns2:SpeciaalKaartje\": \"N\", \"ns2:TreinEindBestemming\": [{\"@InfoStatus\": \"Gepland\", \"ns2:StationCode\": \"DDR\", \"ns2:Type\": \"5\", \"ns2:KorteNaam\": \"Dordrecht\", \"ns2:MiddelNaam\": \"Dordrecht\", \"ns2:LangeNaam\": \"Dordrecht\", \"ns2:UICCode\": \"8400180\"}, {\"@InfoStatus\": \"Actueel\", \"ns2:StationCode\": \"BD\", \"ns2:Type\": \"5\", \"ns2:KorteNaam\": \"Breda\", \"ns2:MiddelNaam\": \"Breda\", \"ns2:LangeNaam\": \"Breda\", \"ns2:UICCode\": \"8400131\"}], \"ns2:PresentatieTreinEindBestemming\": {\"ns2:Uitingen\": {\"ns2:Uiting\": \"Dordrecht\"}}, \"ns2:VertrekTijd\": [{\"@InfoStatus\": \"Gepland\", \"#text\": \"2020-05-13T12:01:00.000Z\"}, {\"@InfoStatus\": \"Actueel\", \"#text\": \"2020-05-13T12:01:00.000Z\"}], \"ns2:ExacteVertrekVertraging\": \"PT0S\", \"ns2:GedempteVertrekVertraging\": \"PT0S\", \"ns2:TreinVertrekSpoor\": [{\"@InfoStatus\": \"Gepland\", \"ns2:SpoorNummer\": \"1\"}, {\"@InfoStatus\": \"Actueel\", \"ns2:SpoorNummer\": \"1\"}], \"ns2:PresentatieTreinVertrekSpoor\": {\"ns2:Uitingen\": {\"ns2:Uiting\": \"1\"}}, \"ns2:VertrekRichting\": \"B\", \"ns2:AfstandPerronEindKopVertrekTrein\": \"0\", \"ns2:VerkorteRoute\": [{\"@InfoStatus\": \"Gepland\", \"ns2:Station\": [{\"ns2:StationCode\": \"EST\", \"ns2:Type\": \"1\", \"ns2:KorteNaam\": \"Elst\", \"ns2:MiddelNaam\": \"Elst\", \"ns2:LangeNaam\": \"Elst\", \"ns2:UICCode\": \"8400207\"}, {\"ns2:StationCode\": \"NM\", \"ns2:Type\": \"5\", \"ns2:KorteNaam\": \"Nijmegen\", \"ns2:MiddelNaam\": \"Nijmegen\", \"ns2:LangeNaam\": \"Nijmegen\", \"ns2:UICCode\": \"8400470\"}, {\"ns2:StationCode\": \"O\", \"ns2:Type\": \"5\", \"ns2:KorteNaam\": \"Oss\", \"ns2:MiddelNaam\": \"Oss\", \"ns2:LangeNaam\": \"Oss\", \"ns2:UICCode\": \"8400495\"}, {\"ns2:StationCode\": \"HT\", \"ns2:Type\": \"5\", \"ns2:KorteNaam\": \"Den Bosch\", \"ns2:MiddelNaam\": \"\\'s-Hertogenbosch\", \"ns2:LangeNaam\": \"\\'s-Hertogenbosch\", \"ns2:UICCode\": \"8400319\"}]}, {\"@InfoStatus\": \"Actueel\", \"ns2:Station\": [{\"ns2:StationCode\": \"EST\", \"ns2:Type\": \"1\", \"ns2:KorteNaam\": \"Elst\", \"ns2:MiddelNaam\": \"Elst\", \"ns2:LangeNaam\": \"Elst\", \"ns2:UICCode\": \"8400207\"}, {\"ns2:StationCode\": \"NM\", \"ns2:Type\": \"5\", \"ns2:KorteNaam\": \"Nijmegen\", \"ns2:MiddelNaam\": \"Nijmegen\", \"ns2:LangeNaam\": \"Nijmegen\", \"ns2:UICCode\": \"8400470\"}, {\"ns2:StationCode\": \"O\", \"ns2:Type\": \"5\", \"ns2:KorteNaam\": \"Oss\", \"ns2:MiddelNaam\": \"Oss\", \"ns2:LangeNaam\": \"Oss\", \"ns2:UICCode\": \"8400495\"}, {\"ns2:StationCode\": \"HT\", \"ns2:Type\": \"5\", \"ns2:KorteNaam\": \"Den Bosch\", \"ns2:MiddelNaam\": \"\\'s-Hertogenbosch\", \"ns2:LangeNaam\": \"\\'s-Hertogenbosch\", \"ns2:UICCode\": \"8400319\"}]}], \"ns2:PresentatieVerkorteRoute\": {\"ns2:Uitingen\": {\"ns2:Uiting\": \"Elst, Nijmegen, Oss, \\'s-Hertogenbosch\"}}, \"ns2:TreinVleugel\": {\"ns2:TreinVleugelVertrekSpoor\": [{\"@InfoStatus\": \"Gepland\", \"ns2:SpoorNummer\": \"1\"}, {\"@InfoStatus\": \"Actueel\", \"ns2:SpoorNummer\": \"1\"}], \"ns2:PresentatieTreinVleugelVertrekSpoor\": {\"ns2:Uitingen\": {\"ns2:Uiting\": \"1\"}}, \"ns2:TreinVleugelEindBestemming\": [{\"@InfoStatus\": \"Gepland\", \"ns2:StationCode\": \"DDR\", \"ns2:Type\": \"5\", \"ns2:KorteNaam\": \"Dordrecht\", \"ns2:MiddelNaam\": \"Dordrecht\", \"ns2:LangeNaam\": \"Dordrecht\", \"ns2:UICCode\": \"8400180\"}, {\"@InfoStatus\": \"Actueel\", \"ns2:StationCode\": \"BD\", \"ns2:Type\": \"5\", \"ns2:KorteNaam\": \"Breda\", \"ns2:MiddelNaam\": \"Breda\", \"ns2:LangeNaam\": \"Breda\", \"ns2:UICCode\": \"8400131\"}], \"ns2:PresentatieTreinVleugelEindBestemming\": {\"ns2:Uitingen\": {\"ns2:Uiting\": \"Dordrecht\"}}, \"ns2:StopStations\": [{\"@InfoStatus\": \"Gepland\", \"ns2:Station\": [{\"ns2:StationCode\": \"EST\", \"ns2:Type\": \"1\", \"ns2:KorteNaam\": \"Elst\", \"ns2:MiddelNaam\": \"Elst\", \"ns2:LangeNaam\": \"Elst\", \"ns2:UICCode\": \"8400207\"}, {\"ns2:StationCode\": \"NML\", \"ns2:Type\": \"0\", \"ns2:KorteNaam\": \"Lent\", \"ns2:MiddelNaam\": \"Lent\", \"ns2:LangeNaam\": \"Nijmegen Lent\", \"ns2:UICCode\": \"8400451\"}, {\"ns2:StationCode\": \"NM\", \"ns2:Type\": \"5\", \"ns2:KorteNaam\": \"Nijmegen\", \"ns2:MiddelNaam\": \"Nijmegen\", \"ns2:LangeNaam\": \"Nijmegen\", \"ns2:UICCode\": \"8400470\"}, {\"ns2:StationCode\": \"NMGO\", \"ns2:Type\": \"0\", \"ns2:KorteNaam\": \"Goffert\", \"ns2:MiddelNaam\": \"Goffert\", \"ns2:LangeNaam\": \"Nijmegen Goffert\", \"ns2:UICCode\": \"8400477\"}, {\"ns2:StationCode\": \"NMD\", \"ns2:Type\": \"0\", \"ns2:KorteNaam\": \"Dukenburg\", \"ns2:MiddelNaam\": \"Dukenburg\", \"ns2:LangeNaam\": \"Nijmegen Dukenburg\", \"ns2:UICCode\": \"8400475\"}, {\"ns2:StationCode\": \"WC\", \"ns2:Type\": \"0\", \"ns2:KorteNaam\": \"Wijchen\", \"ns2:MiddelNaam\": \"Wijchen\", \"ns2:LangeNaam\": \"Wijchen\", \"ns2:UICCode\": \"8400710\"}, {\"ns2:StationCode\": \"RVS\", \"ns2:Type\": \"0\", \"ns2:KorteNaam\": \"Ravenstein\", \"ns2:MiddelNaam\": \"Ravenstein\", \"ns2:LangeNaam\": \"Ravenstein\", \"ns2:UICCode\": \"8400515\"}, {\"ns2:StationCode\": \"O\", \"ns2:Type\": \"5\", \"ns2:KorteNaam\": \"Oss\", \"ns2:MiddelNaam\": \"Oss\", \"ns2:LangeNaam\": \"Oss\", \"ns2:UICCode\": \"8400495\"}, {\"ns2:StationCode\": \"OW\", \"ns2:Type\": \"0\", \"ns2:KorteNaam\": \"Oss W\", \"ns2:MiddelNaam\": \"Oss W.\", \"ns2:LangeNaam\": \"Oss West\", \"ns2:UICCode\": \"8400496\"}, {\"ns2:StationCode\": \"RS\", \"ns2:Type\": \"0\", \"ns2:KorteNaam\": \"Rosmalen\", \"ns2:MiddelNaam\": \"Rosmalen\", \"ns2:LangeNaam\": \"Rosmalen\", \"ns2:UICCode\": \"8400524\"}, {\"ns2:StationCode\": \"HTO\", \"ns2:Type\": \"0\", \"ns2:KorteNaam\": \"Dn Bosch O\", \"ns2:MiddelNaam\": \"\\'s-Hertogenb. O.\", \"ns2:LangeNaam\": \"\\'s-Hertogenbosch Oost\", \"ns2:UICCode\": \"8400320\"}, {\"ns2:StationCode\": \"HT\", \"ns2:Type\": \"5\", \"ns2:KorteNaam\": \"Den Bosch\", \"ns2:MiddelNaam\": \"\\'s-Hertogenbosch\", \"ns2:LangeNaam\": \"\\'s-Hertogenbosch\", \"ns2:UICCode\": \"8400319\"}, {\"ns2:StationCode\": \"TB\", \"ns2:Type\": \"5\", \"ns2:KorteNaam\": \"Tilburg\", \"ns2:MiddelNaam\": \"Tilburg\", \"ns2:LangeNaam\": \"Tilburg\", \"ns2:UICCode\": \"8400597\"}, {\"ns2:StationCode\": \"TBU\", \"ns2:Type\": \"0\", \"ns2:KorteNaam\": \"Tilburg Un\", \"ns2:MiddelNaam\": \"Tilburg Uni.\", \"ns2:LangeNaam\": \"Tilburg Universiteit\", \"ns2:UICCode\": \"8400594\"}, {\"ns2:StationCode\": \"TBR\", \"ns2:Type\": \"0\", \"ns2:KorteNaam\": \"Reeshof\", \"ns2:MiddelNaam\": \"Reeshof\", \"ns2:LangeNaam\": \"Tilburg Reeshof\", \"ns2:UICCode\": \"8400598\"}, {\"ns2:StationCode\": \"GZ\", \"ns2:Type\": \"0\", \"ns2:KorteNaam\": \"Gilze-Rij\", \"ns2:MiddelNaam\": \"Gilze-Rijen\", \"ns2:LangeNaam\": \"Gilze-Rijen\", \"ns2:UICCode\": \"8400251\"}, {\"ns2:StationCode\": \"BD\", \"ns2:Type\": \"5\", \"ns2:KorteNaam\": \"Breda\", \"ns2:MiddelNaam\": \"Breda\", \"ns2:LangeNaam\": \"Breda\", \"ns2:UICCode\": \"8400131\"}, {\"ns2:StationCode\": \"BDPB\", \"ns2:Type\": \"0\", \"ns2:KorteNaam\": \"Prinsenbk\", \"ns2:MiddelNaam\": \"Prinsenbeek\", \"ns2:LangeNaam\": \"Breda-Prinsenbeek\", \"ns2:UICCode\": \"8400132\"}, {\"ns2:StationCode\": \"ZLW\", \"ns2:Type\": \"1\", \"ns2:KorteNaam\": \"Lage Zwalu\", \"ns2:MiddelNaam\": \"Lage Zwaluwe\", \"ns2:LangeNaam\": \"Lage Zwaluwe\", \"ns2:UICCode\": \"8400382\"}, {\"ns2:StationCode\": \"DDZD\", \"ns2:Type\": \"0\", \"ns2:KorteNaam\": \"Dordrcht Z\", \"ns2:MiddelNaam\": \"Dordrecht Z.\", \"ns2:LangeNaam\": \"Dordrecht Zuid\", \"ns2:UICCode\": \"8400181\"}, {\"ns2:StationCode\": \"DDR\", \"ns2:Type\": \"5\", \"ns2:KorteNaam\": \"Dordrecht\", \"ns2:MiddelNaam\": \"Dordrecht\", \"ns2:LangeNaam\": \"Dordrecht\", \"ns2:UICCode\": \"8400180\"}]}, {\"@InfoStatus\": \"Actueel\", \"ns2:Station\": [{\"ns2:StationCode\": \"EST\", \"ns2:Type\": \"1\", \"ns2:KorteNaam\": \"Elst\", \"ns2:MiddelNaam\": \"Elst\", \"ns2:LangeNaam\": \"Elst\", \"ns2:UICCode\": \"8400207\"}, {\"ns2:StationCode\": \"NML\", \"ns2:Type\": \"0\", \"ns2:KorteNaam\": \"Lent\", \"ns2:MiddelNaam\": \"Lent\", \"ns2:LangeNaam\": \"Nijmegen Lent\", \"ns2:UICCode\": \"8400451\"}, {\"ns2:StationCode\": \"NM\", \"ns2:Type\": \"5\", \"ns2:KorteNaam\": \"Nijmegen\", \"ns2:MiddelNaam\": \"Nijmegen\", \"ns2:LangeNaam\": \"Nijmegen\", \"ns2:UICCode\": \"8400470\"}, {\"ns2:StationCode\": \"NMGO\", \"ns2:Type\": \"0\", \"ns2:KorteNaam\": \"Goffert\", \"ns2:MiddelNaam\": \"Goffert\", \"ns2:LangeNaam\": \"Nijmegen Goffert\", \"ns2:UICCode\": \"8400477\"}, {\"ns2:StationCode\": \"NMD\", \"ns2:Type\": \"0\", \"ns2:KorteNaam\": \"Dukenburg\", \"ns2:MiddelNaam\": \"Dukenburg\", \"ns2:LangeNaam\": \"Nijmegen Dukenburg\", \"ns2:UICCode\": \"8400475\"}, {\"ns2:StationCode\": \"WC\", \"ns2:Type\": \"0\", \"ns2:KorteNaam\": \"Wijchen\", \"ns2:MiddelNaam\": \"Wijchen\", \"ns2:LangeNaam\": \"Wijchen\", \"ns2:UICCode\": \"8400710\"}, {\"ns2:StationCode\": \"RVS\", \"ns2:Type\": \"0\", \"ns2:KorteNaam\": \"Ravenstein\", \"ns2:MiddelNaam\": \"Ravenstein\", \"ns2:LangeNaam\": \"Ravenstein\", \"ns2:UICCode\": \"8400515\"}, {\"ns2:StationCode\": \"O\", \"ns2:Type\": \"5\", \"ns2:KorteNaam\": \"Oss\", \"ns2:MiddelNaam\": \"Oss\", \"ns2:LangeNaam\": \"Oss\", \"ns2:UICCode\": \"8400495\"}, {\"ns2:StationCode\": \"OW\", \"ns2:Type\": \"0\", \"ns2:KorteNaam\": \"Oss W\", \"ns2:MiddelNaam\": \"Oss W.\", \"ns2:LangeNaam\": \"Oss West\", \"ns2:UICCode\": \"8400496\"}, {\"ns2:StationCode\": \"RS\", \"ns2:Type\": \"0\", \"ns2:KorteNaam\": \"Rosmalen\", \"ns2:MiddelNaam\": \"Rosmalen\", \"ns2:LangeNaam\": \"Rosmalen\", \"ns2:UICCode\": \"8400524\"}, {\"ns2:StationCode\": \"HTO\", \"ns2:Type\": \"0\", \"ns2:KorteNaam\": \"Dn Bosch O\", \"ns2:MiddelNaam\": \"\\'s-Hertogenb. O.\", \"ns2:LangeNaam\": \"\\'s-Hertogenbosch Oost\", \"ns2:UICCode\": \"8400320\"}, {\"ns2:StationCode\": \"HT\", \"ns2:Type\": \"5\", \"ns2:KorteNaam\": \"Den Bosch\", \"ns2:MiddelNaam\": \"\\'s-Hertogenbosch\", \"ns2:LangeNaam\": \"\\'s-Hertogenbosch\", \"ns2:UICCode\": \"8400319\"}, {\"ns2:StationCode\": \"TB\", \"ns2:Type\": \"5\", \"ns2:KorteNaam\": \"Tilburg\", \"ns2:MiddelNaam\": \"Tilburg\", \"ns2:LangeNaam\": \"Tilburg\", \"ns2:UICCode\": \"8400597\"}, {\"ns2:StationCode\": \"TBU\", \"ns2:Type\": \"0\", \"ns2:KorteNaam\": \"Tilburg Un\", \"ns2:MiddelNaam\": \"Tilburg Uni.\", \"ns2:LangeNaam\": \"Tilburg Universiteit\", \"ns2:UICCode\": \"8400594\"}, {\"ns2:StationCode\": \"TBR\", \"ns2:Type\": \"0\", \"ns2:KorteNaam\": \"Reeshof\", \"ns2:MiddelNaam\": \"Reeshof\", \"ns2:LangeNaam\": \"Tilburg Reeshof\", \"ns2:UICCode\": \"8400598\"}, {\"ns2:StationCode\": \"GZ\", \"ns2:Type\": \"0\", \"ns2:KorteNaam\": \"Gilze-Rij\", \"ns2:MiddelNaam\": \"Gilze-Rijen\", \"ns2:LangeNaam\": \"Gilze-Rijen\", \"ns2:UICCode\": \"8400251\"}, {\"ns2:StationCode\": \"BD\", \"ns2:Type\": \"5\", \"ns2:KorteNaam\": \"Breda\", \"ns2:MiddelNaam\": \"Breda\", \"ns2:LangeNaam\": \"Breda\", \"ns2:UICCode\": \"8400131\"}]}], \"ns2:Wijziging\": {\"ns2:WijzigingType\": \"34\", \"ns2:WijzigingStation\": {\"ns2:StationCode\": \"BD\", \"ns2:Type\": \"5\", \"ns2:KorteNaam\": \"Breda\", \"ns2:MiddelNaam\": \"Breda\", \"ns2:LangeNaam\": \"Breda\", \"ns2:UICCode\": \"8400131\"}, \"ns2:PresentatieWijziging\": {\"ns2:Uitingen\": [{\"@Taal\": \"nl\", \"ns2:Uiting\": {\"@Prioriteit\": \"3\", \"#text\": \"Rijdt niet verder dan Breda\"}}, {\"@Taal\": \"en\", \"ns2:Uiting\": {\"@Prioriteit\": \"3\", \"#text\": \"Ends at Breda\"}}]}}, \"ns2:MaterieelDeelDVS\": [{\"ns2:MaterieelSoort\": \"FLIRT FFF\", \"ns2:MaterieelAanduiding\": \"4\", \"ns2:MaterieelLengte\": \"8070\", \"ns2:MaterieelDeelVertrekPositie\": \"1\", \"ns2:MaterieelDeelVolgordeVertrek\": \"1\", \"ns2:MaterieelNummer\": \"000000-02510-0\", \"ns2:MaterieelDeelEindBestemming\": [{\"@InfoStatus\": \"Gepland\", \"ns2:StationCode\": \"BD\", \"ns2:Type\": \"5\", \"ns2:KorteNaam\": \"Breda\", \"ns2:MiddelNaam\": \"Breda\", \"ns2:LangeNaam\": \"Breda\", \"ns2:UICCode\": \"8400131\"}, {\"@InfoStatus\": \"Actueel\", \"ns2:StationCode\": \"BD\", \"ns2:Type\": \"5\", \"ns2:KorteNaam\": \"Breda\", \"ns2:MiddelNaam\": \"Breda\", \"ns2:LangeNaam\": \"Breda\", \"ns2:UICCode\": \"8400131\"}], \"ns2:PresentatieMaterieelDeelEindBestemming\": {\"ns2:Uitingen\": {\"ns2:Uiting\": \"Breda\"}}}, {\"ns2:MaterieelSoort\": \"FLIRT FFF\", \"ns2:MaterieelAanduiding\": \"4\", \"ns2:MaterieelLengte\": \"8070\", \"ns2:MaterieelDeelVertrekPositie\": \"3\", \"ns2:MaterieelDeelVolgordeVertrek\": \"2\", \"ns2:MaterieelNummer\": \"000000-02505-0\", \"ns2:MaterieelDeelEindBestemming\": [{\"@InfoStatus\": \"Gepland\", \"ns2:StationCode\": \"BD\", \"ns2:Type\": \"5\", \"ns2:KorteNaam\": \"Breda\", \"ns2:MiddelNaam\": \"Breda\", \"ns2:LangeNaam\": \"Breda\", \"ns2:UICCode\": \"8400131\"}, {\"@InfoStatus\": \"Actueel\", \"ns2:StationCode\": \"BD\", \"ns2:Type\": \"5\", \"ns2:KorteNaam\": \"Breda\", \"ns2:MiddelNaam\": \"Breda\", \"ns2:LangeNaam\": \"Breda\", \"ns2:UICCode\": \"8400131\"}], \"ns2:PresentatieMaterieelDeelEindBestemming\": {\"ns2:Uitingen\": {\"ns2:Uiting\": \"Breda\"}}}]}}, \"ns2:PresentatieOpmerkingen\": {\"ns2:Uitingen\": [{\"@Taal\": \"nl\", \"ns2:Uiting\": {\"@Prioriteit\": \"3\", \"@ReferentieType\": \"Wijziging\", \"@ReferentieWaarde\": \"34\", \"#text\": \"Rijdt niet verder dan Breda\"}}, {\"@Taal\": \"en\", \"ns2:Uiting\": {\"@Prioriteit\": \"3\", \"@ReferentieType\": \"Wijziging\", \"@ReferentieWaarde\": \"34\", \"#text\": \"Ends at Breda\"}}]}}}}}')\n",
      "(None, u'{\"ns1:PutReisInformatieBoodschapIn\": {\"@xmlns:ns1\": \"urn:ndov:cdm:trein:reisinformatie:messages:5\", \"@xmlns:ns2\": \"urn:ndov:cdm:trein:reisinformatie:data:4\", \"ns2:ReisInformatieProductDVS\": {\"@TimeStamp\": \"2020-05-13T10:51:05.347Z\", \"@Versie\": \"6.2\", \"ns2:RIPAdministratie\": {\"ns2:ReisInformatieProductID\": \"2005131251052400024\", \"ns2:AbonnementId\": \"54\", \"ns2:ReisInformatieTijdstip\": \"2020-05-13T12:01:00.000Z\"}, \"ns2:DynamischeVertrekStaat\": {\"ns2:RitId\": \"3053\", \"ns2:RitDatum\": \"2020-05-13\", \"ns2:RitStation\": {\"ns2:StationCode\": \"HWD\", \"ns2:Type\": \"1\", \"ns2:KorteNaam\": \"Heerhugow\", \"ns2:MiddelNaam\": \"Heerhugowaard\", \"ns2:LangeNaam\": \"Heerhugowaard\", \"ns2:UICCode\": \"8400306\"}, \"ns2:Trein\": {\"ns2:TreinNummer\": \"3053\", \"ns2:TreinSoort\": {\"@Code\": \"IC\", \"#text\": \"Intercity\"}, \"ns2:TreinFormule\": \"3\", \"ns2:TreinStatus\": \"0\", \"ns2:Vervoerder\": \"NS\", \"ns2:Reserveren\": \"N\", \"ns2:Toeslag\": \"N\", \"ns2:NietInstappen\": \"N\", \"ns2:AchterBlijvenAchtersteTreinDeel\": \"N\", \"ns2:RangeerBeweging\": \"N\", \"ns2:SpeciaalKaartje\": \"N\", \"ns2:ReisTip\": {\"ns2:ReisTipStation\": [{\"ns2:StationCode\": \"AMRN\", \"ns2:Type\": \"0\", \"ns2:KorteNaam\": \"Alkmaar N\", \"ns2:MiddelNaam\": \"Alkmaar N.\", \"ns2:LangeNaam\": \"Alkmaar Noord\", \"ns2:UICCode\": \"8400052\"}, {\"ns2:StationCode\": \"HLO\", \"ns2:Type\": \"0\", \"ns2:KorteNaam\": \"Heiloo\", \"ns2:MiddelNaam\": \"Heiloo\", \"ns2:LangeNaam\": \"Heiloo\", \"ns2:UICCode\": \"8400309\"}], \"ns2:ReisTipCode\": \"STO\", \"ns2:PresentatieReisTip\": {\"ns2:Uitingen\": [{\"@Taal\": \"nl\", \"ns2:Uiting\": {\"@Prioriteit\": \"7\", \"#text\": \"Stopt ook in Alkmaar N., Heiloo\"}}, {\"@Taal\": \"en\", \"ns2:Uiting\": {\"@Prioriteit\": \"7\", \"#text\": \"Also stopping in Alkmaar N., Heiloo\"}}]}}, \"ns2:TreinEindBestemming\": [{\"@InfoStatus\": \"Gepland\", \"ns2:StationCode\": \"NM\", \"ns2:Type\": \"5\", \"ns2:KorteNaam\": \"Nijmegen\", \"ns2:MiddelNaam\": \"Nijmegen\", \"ns2:LangeNaam\": \"Nijmegen\", \"ns2:UICCode\": \"8400470\"}, {\"@InfoStatus\": \"Actueel\", \"ns2:StationCode\": \"NM\", \"ns2:Type\": \"5\", \"ns2:KorteNaam\": \"Nijmegen\", \"ns2:MiddelNaam\": \"Nijmegen\", \"ns2:LangeNaam\": \"Nijmegen\", \"ns2:UICCode\": \"8400470\"}], \"ns2:PresentatieTreinEindBestemming\": {\"ns2:Uitingen\": {\"ns2:Uiting\": \"Nijmegen\"}}, \"ns2:VertrekTijd\": [{\"@InfoStatus\": \"Gepland\", \"#text\": \"2020-05-13T12:01:00.000Z\"}, {\"@InfoStatus\": \"Actueel\", \"#text\": \"2020-05-13T12:01:00.000Z\"}], \"ns2:ExacteVertrekVertraging\": \"PT0S\", \"ns2:GedempteVertrekVertraging\": \"PT0S\", \"ns2:TreinVertrekSpoor\": [{\"@InfoStatus\": \"Gepland\", \"ns2:SpoorNummer\": \"1\"}, {\"@InfoStatus\": \"Actueel\", \"ns2:SpoorNummer\": \"1\"}], \"ns2:PresentatieTreinVertrekSpoor\": {\"ns2:Uitingen\": {\"ns2:Uiting\": \"1\"}}, \"ns2:VertrekRichting\": \"A\", \"ns2:AfstandPerronEindKopVertrekTrein\": \"0\", \"ns2:VerkorteRoute\": [{\"@InfoStatus\": \"Gepland\", \"ns2:Station\": [{\"ns2:StationCode\": \"AMR\", \"ns2:Type\": \"5\", \"ns2:KorteNaam\": \"Alkmaar\", \"ns2:MiddelNaam\": \"Alkmaar\", \"ns2:LangeNaam\": \"Alkmaar\", \"ns2:UICCode\": \"8400050\"}, {\"ns2:StationCode\": \"CAS\", \"ns2:Type\": \"4\", \"ns2:KorteNaam\": \"Castricum\", \"ns2:MiddelNaam\": \"Castricum\", \"ns2:LangeNaam\": \"Castricum\", \"ns2:UICCode\": \"8400151\"}, {\"ns2:StationCode\": \"ASD\", \"ns2:Type\": \"6\", \"ns2:KorteNaam\": \"Amsterdm C\", \"ns2:MiddelNaam\": \"Amsterdam C.\", \"ns2:LangeNaam\": \"Amsterdam Centraal\", \"ns2:UICCode\": \"8400058\"}, {\"ns2:StationCode\": \"UT\", \"ns2:Type\": \"6\", \"ns2:KorteNaam\": \"Utrecht C\", \"ns2:MiddelNaam\": \"Utrecht C.\", \"ns2:LangeNaam\": \"Utrecht Centraal\", \"ns2:UICCode\": \"8400621\"}]}, {\"@InfoStatus\": \"Actueel\", \"ns2:Station\": [{\"ns2:StationCode\": \"AMR\", \"ns2:Type\": \"5\", \"ns2:KorteNaam\": \"Alkmaar\", \"ns2:MiddelNaam\": \"Alkmaar\", \"ns2:LangeNaam\": \"Alkmaar\", \"ns2:UICCode\": \"8400050\"}, {\"ns2:StationCode\": \"CAS\", \"ns2:Type\": \"4\", \"ns2:KorteNaam\": \"Castricum\", \"ns2:MiddelNaam\": \"Castricum\", \"ns2:LangeNaam\": \"Castricum\", \"ns2:UICCode\": \"8400151\"}, {\"ns2:StationCode\": \"ASD\", \"ns2:Type\": \"6\", \"ns2:KorteNaam\": \"Amsterdm C\", \"ns2:MiddelNaam\": \"Amsterdam C.\", \"ns2:LangeNaam\": \"Amsterdam Centraal\", \"ns2:UICCode\": \"8400058\"}, {\"ns2:StationCode\": \"UT\", \"ns2:Type\": \"6\", \"ns2:KorteNaam\": \"Utrecht C\", \"ns2:MiddelNaam\": \"Utrecht C.\", \"ns2:LangeNaam\": \"Utrecht Centraal\", \"ns2:UICCode\": \"8400621\"}]}], \"ns2:PresentatieVerkorteRoute\": {\"ns2:Uitingen\": {\"ns2:Uiting\": \"Alkmaar, Castricum, Amsterdam C., Utrecht C.\"}}, \"ns2:TreinVleugel\": {\"ns2:TreinVleugelVertrekSpoor\": [{\"@InfoStatus\": \"Gepland\", \"ns2:SpoorNummer\": \"1\"}, {\"@InfoStatus\": \"Actueel\", \"ns2:SpoorNummer\": \"1\"}], \"ns2:PresentatieTreinVleugelVertrekSpoor\": {\"ns2:Uitingen\": {\"ns2:Uiting\": \"1\"}}, \"ns2:TreinVleugelEindBestemming\": [{\"@InfoStatus\": \"Gepland\", \"ns2:StationCode\": \"NM\", \"ns2:Type\": \"5\", \"ns2:KorteNaam\": \"Nijmegen\", \"ns2:MiddelNaam\": \"Nijmegen\", \"ns2:LangeNaam\": \"Nijmegen\", \"ns2:UICCode\": \"8400470\"}, {\"@InfoStatus\": \"Actueel\", \"ns2:StationCode\": \"NM\", \"ns2:Type\": \"5\", \"ns2:KorteNaam\": \"Nijmegen\", \"ns2:MiddelNaam\": \"Nijmegen\", \"ns2:LangeNaam\": \"Nijmegen\", \"ns2:UICCode\": \"8400470\"}], \"ns2:PresentatieTreinVleugelEindBestemming\": {\"ns2:Uitingen\": {\"ns2:Uiting\": \"Nijmegen\"}}, \"ns2:StopStations\": [{\"@InfoStatus\": \"Gepland\", \"ns2:Station\": [{\"ns2:StationCode\": \"AMRN\", \"ns2:Type\": \"0\", \"ns2:KorteNaam\": \"Alkmaar N\", \"ns2:MiddelNaam\": \"Alkmaar N.\", \"ns2:LangeNaam\": \"Alkmaar Noord\", \"ns2:UICCode\": \"8400052\"}, {\"ns2:StationCode\": \"AMR\", \"ns2:Type\": \"5\", \"ns2:KorteNaam\": \"Alkmaar\", \"ns2:MiddelNaam\": \"Alkmaar\", \"ns2:LangeNaam\": \"Alkmaar\", \"ns2:UICCode\": \"8400050\"}, {\"ns2:StationCode\": \"HLO\", \"ns2:Type\": \"0\", \"ns2:KorteNaam\": \"Heiloo\", \"ns2:MiddelNaam\": \"Heiloo\", \"ns2:LangeNaam\": \"Heiloo\", \"ns2:UICCode\": \"8400309\"}, {\"ns2:StationCode\": \"CAS\", \"ns2:Type\": \"4\", \"ns2:KorteNaam\": \"Castricum\", \"ns2:MiddelNaam\": \"Castricum\", \"ns2:LangeNaam\": \"Castricum\", \"ns2:UICCode\": \"8400151\"}, {\"ns2:StationCode\": \"ZD\", \"ns2:Type\": \"5\", \"ns2:KorteNaam\": \"Zaandam\", \"ns2:MiddelNaam\": \"Zaandam\", \"ns2:LangeNaam\": \"Zaandam\", \"ns2:UICCode\": \"8400731\"}, {\"ns2:StationCode\": \"ASS\", \"ns2:Type\": \"5\", \"ns2:KorteNaam\": \"Sloterdijk\", \"ns2:MiddelNaam\": \"Sloterdijk\", \"ns2:LangeNaam\": \"Amsterdam Sloterdijk\", \"ns2:UICCode\": \"8400059\"}, {\"ns2:StationCode\": \"ASD\", \"ns2:Type\": \"6\", \"ns2:KorteNaam\": \"Amsterdm C\", \"ns2:MiddelNaam\": \"Amsterdam C.\", \"ns2:LangeNaam\": \"Amsterdam Centraal\", \"ns2:UICCode\": \"8400058\"}, {\"ns2:StationCode\": \"ASA\", \"ns2:Type\": \"4\", \"ns2:KorteNaam\": \"Amstel\", \"ns2:MiddelNaam\": \"Amstel\", \"ns2:LangeNaam\": \"Amsterdam Amstel\", \"ns2:UICCode\": \"8400057\"}, {\"ns2:StationCode\": \"UT\", \"ns2:Type\": \"6\", \"ns2:KorteNaam\": \"Utrecht C\", \"ns2:MiddelNaam\": \"Utrecht C.\", \"ns2:LangeNaam\": \"Utrecht Centraal\", \"ns2:UICCode\": \"8400621\"}, {\"ns2:StationCode\": \"DB\", \"ns2:Type\": \"1\", \"ns2:KorteNaam\": \"Driebergen\", \"ns2:MiddelNaam\": \"Driebergen-Zeist\", \"ns2:LangeNaam\": \"Driebergen-Zeist\", \"ns2:UICCode\": \"8400182\"}, {\"ns2:StationCode\": \"KLP\", \"ns2:Type\": \"0\", \"ns2:KorteNaam\": \"De Klomp\", \"ns2:MiddelNaam\": \"De Klomp\", \"ns2:LangeNaam\": \"Veenendaal-De Klomp\", \"ns2:UICCode\": \"8400637\"}, {\"ns2:StationCode\": \"ED\", \"ns2:Type\": \"5\", \"ns2:KorteNaam\": \"Ede-Wag\", \"ns2:MiddelNaam\": \"Ede-Wageningen\", \"ns2:LangeNaam\": \"Ede-Wageningen\", \"ns2:UICCode\": \"8400200\"}, {\"ns2:StationCode\": \"AH\", \"ns2:Type\": \"5\", \"ns2:KorteNaam\": \"Arnhem C\", \"ns2:MiddelNaam\": \"Arnhem C.\", \"ns2:LangeNaam\": \"Arnhem Centraal\", \"ns2:UICCode\": \"8400071\"}, {\"ns2:StationCode\": \"NM\", \"ns2:Type\": \"5\", \"ns2:KorteNaam\": \"Nijmegen\", \"ns2:MiddelNaam\": \"Nijmegen\", \"ns2:LangeNaam\": \"Nijmegen\", \"ns2:UICCode\": \"8400470\"}]}, {\"@InfoStatus\": \"Actueel\", \"ns2:Station\": [{\"ns2:StationCode\": \"AMRN\", \"ns2:Type\": \"0\", \"ns2:KorteNaam\": \"Alkmaar N\", \"ns2:MiddelNaam\": \"Alkmaar N.\", \"ns2:LangeNaam\": \"Alkmaar Noord\", \"ns2:UICCode\": \"8400052\"}, {\"ns2:StationCode\": \"AMR\", \"ns2:Type\": \"5\", \"ns2:KorteNaam\": \"Alkmaar\", \"ns2:MiddelNaam\": \"Alkmaar\", \"ns2:LangeNaam\": \"Alkmaar\", \"ns2:UICCode\": \"8400050\"}, {\"ns2:StationCode\": \"HLO\", \"ns2:Type\": \"0\", \"ns2:KorteNaam\": \"Heiloo\", \"ns2:MiddelNaam\": \"Heiloo\", \"ns2:LangeNaam\": \"Heiloo\", \"ns2:UICCode\": \"8400309\"}, {\"ns2:StationCode\": \"CAS\", \"ns2:Type\": \"4\", \"ns2:KorteNaam\": \"Castricum\", \"ns2:MiddelNaam\": \"Castricum\", \"ns2:LangeNaam\": \"Castricum\", \"ns2:UICCode\": \"8400151\"}, {\"ns2:StationCode\": \"ZD\", \"ns2:Type\": \"5\", \"ns2:KorteNaam\": \"Zaandam\", \"ns2:MiddelNaam\": \"Zaandam\", \"ns2:LangeNaam\": \"Zaandam\", \"ns2:UICCode\": \"8400731\"}, {\"ns2:StationCode\": \"ASS\", \"ns2:Type\": \"5\", \"ns2:KorteNaam\": \"Sloterdijk\", \"ns2:MiddelNaam\": \"Sloterdijk\", \"ns2:LangeNaam\": \"Amsterdam Sloterdijk\", \"ns2:UICCode\": \"8400059\"}, {\"ns2:StationCode\": \"ASD\", \"ns2:Type\": \"6\", \"ns2:KorteNaam\": \"Amsterdm C\", \"ns2:MiddelNaam\": \"Amsterdam C.\", \"ns2:LangeNaam\": \"Amsterdam Centraal\", \"ns2:UICCode\": \"8400058\"}, {\"ns2:StationCode\": \"ASA\", \"ns2:Type\": \"4\", \"ns2:KorteNaam\": \"Amstel\", \"ns2:MiddelNaam\": \"Amstel\", \"ns2:LangeNaam\": \"Amsterdam Amstel\", \"ns2:UICCode\": \"8400057\"}, {\"ns2:StationCode\": \"UT\", \"ns2:Type\": \"6\", \"ns2:KorteNaam\": \"Utrecht C\", \"ns2:MiddelNaam\": \"Utrecht C.\", \"ns2:LangeNaam\": \"Utrecht Centraal\", \"ns2:UICCode\": \"8400621\"}, {\"ns2:StationCode\": \"DB\", \"ns2:Type\": \"1\", \"ns2:KorteNaam\": \"Driebergen\", \"ns2:MiddelNaam\": \"Driebergen-Zeist\", \"ns2:LangeNaam\": \"Driebergen-Zeist\", \"ns2:UICCode\": \"8400182\"}, {\"ns2:StationCode\": \"KLP\", \"ns2:Type\": \"0\", \"ns2:KorteNaam\": \"De Klomp\", \"ns2:MiddelNaam\": \"De Klomp\", \"ns2:LangeNaam\": \"Veenendaal-De Klomp\", \"ns2:UICCode\": \"8400637\"}, {\"ns2:StationCode\": \"ED\", \"ns2:Type\": \"5\", \"ns2:KorteNaam\": \"Ede-Wag\", \"ns2:MiddelNaam\": \"Ede-Wageningen\", \"ns2:LangeNaam\": \"Ede-Wageningen\", \"ns2:UICCode\": \"8400200\"}, {\"ns2:StationCode\": \"AH\", \"ns2:Type\": \"5\", \"ns2:KorteNaam\": \"Arnhem C\", \"ns2:MiddelNaam\": \"Arnhem C.\", \"ns2:LangeNaam\": \"Arnhem Centraal\", \"ns2:UICCode\": \"8400071\"}, {\"ns2:StationCode\": \"NM\", \"ns2:Type\": \"5\", \"ns2:KorteNaam\": \"Nijmegen\", \"ns2:MiddelNaam\": \"Nijmegen\", \"ns2:LangeNaam\": \"Nijmegen\", \"ns2:UICCode\": \"8400470\"}]}], \"ns2:MaterieelDeelDVS\": {\"ns2:MaterieelSoort\": \"VIRM\", \"ns2:MaterieelAanduiding\": \"4\", \"ns2:MaterieelLengte\": \"10860\", \"ns2:MaterieelNummer\": \"000000-09588-0\", \"ns2:MaterieelDeelEindBestemming\": [{\"@InfoStatus\": \"Gepland\", \"ns2:StationCode\": \"AH\", \"ns2:Type\": \"5\", \"ns2:KorteNaam\": \"Arnhem C\", \"ns2:MiddelNaam\": \"Arnhem C.\", \"ns2:LangeNaam\": \"Arnhem Centraal\", \"ns2:UICCode\": \"8400071\"}, {\"@InfoStatus\": \"Actueel\", \"ns2:StationCode\": \"NM\", \"ns2:Type\": \"5\", \"ns2:KorteNaam\": \"Nijmegen\", \"ns2:MiddelNaam\": \"Nijmegen\", \"ns2:LangeNaam\": \"Nijmegen\", \"ns2:UICCode\": \"8400470\"}], \"ns2:PresentatieMaterieelDeelEindBestemming\": {\"ns2:Uitingen\": {\"ns2:Uiting\": \"Nijmegen\"}}, \"ns2:Wijziging\": {\"ns2:WijzigingType\": \"34\", \"ns2:WijzigingStation\": {\"ns2:StationCode\": \"NM\", \"ns2:Type\": \"5\", \"ns2:KorteNaam\": \"Nijmegen\", \"ns2:MiddelNaam\": \"Nijmegen\", \"ns2:LangeNaam\": \"Nijmegen\", \"ns2:UICCode\": \"8400470\"}, \"ns2:PresentatieWijziging\": {\"ns2:Uitingen\": [{\"@Taal\": \"nl\", \"ns2:Uiting\": {\"@Prioriteit\": \"3\", \"#text\": \"Arnhem C.: Rijdt niet verder dan Nijmegen\"}}, {\"@Taal\": \"en\", \"ns2:Uiting\": {\"@Prioriteit\": \"3\", \"#text\": \"Arnhem C.: Ends at Nijmegen\"}}]}}}}}, \"ns2:PresentatieOpmerkingen\": {\"ns2:Uitingen\": [{\"@Taal\": \"nl\", \"ns2:Uiting\": {\"@Prioriteit\": \"13\", \"@ReferentieType\": \"ReisTip\", \"@ReferentieWaarde\": \"STO\", \"#text\": \"Stopt ook in Alkmaar N., Heiloo\"}}, {\"@Taal\": \"en\", \"ns2:Uiting\": {\"@Prioriteit\": \"13\", \"@ReferentieType\": \"ReisTip\", \"@ReferentieWaarde\": \"STO\", \"#text\": \"Also stopping in Alkmaar N., Heiloo\"}}]}}}}}')\n",
      "(None, u'{\"ns1:PutReisInformatieBoodschapIn\": {\"@xmlns:ns1\": \"urn:ndov:cdm:trein:reisinformatie:messages:5\", \"@xmlns:ns2\": \"urn:ndov:cdm:trein:reisinformatie:data:4\", \"ns2:ReisInformatieProductDVS\": {\"@TimeStamp\": \"2020-05-13T10:51:05.240Z\", \"@Versie\": \"6.2\", \"ns2:RIPAdministratie\": {\"ns2:ReisInformatieProductID\": \"2005131251052400000\", \"ns2:AbonnementId\": \"54\", \"ns2:ReisInformatieTijdstip\": \"2020-05-13T12:01:00.000Z\"}, \"ns2:DynamischeVertrekStaat\": {\"ns2:RitId\": \"14647\", \"ns2:RitDatum\": \"2020-05-13\", \"ns2:RitStation\": {\"ns2:StationCode\": \"ALMB\", \"ns2:Type\": \"0\", \"ns2:KorteNaam\": \"Buiten\", \"ns2:MiddelNaam\": \"Buiten\", \"ns2:LangeNaam\": \"Almere Buiten\", \"ns2:UICCode\": \"8400081\"}, \"ns2:Trein\": {\"ns2:TreinNummer\": \"14647\", \"ns2:TreinSoort\": {\"@Code\": \"SPR\", \"#text\": \"Sprinter\"}, \"ns2:TreinFormule\": \"1\", \"ns2:TreinStatus\": \"0\", \"ns2:Vervoerder\": \"NS\", \"ns2:Reserveren\": \"N\", \"ns2:Toeslag\": \"N\", \"ns2:NietInstappen\": \"N\", \"ns2:AchterBlijvenAchtersteTreinDeel\": \"N\", \"ns2:RangeerBeweging\": \"N\", \"ns2:SpeciaalKaartje\": \"N\", \"ns2:TreinEindBestemming\": [{\"@InfoStatus\": \"Gepland\", \"ns2:StationCode\": \"ZL\", \"ns2:Type\": \"5\", \"ns2:KorteNaam\": \"Zwolle\", \"ns2:MiddelNaam\": \"Zwolle\", \"ns2:LangeNaam\": \"Zwolle\", \"ns2:UICCode\": \"8400747\"}, {\"@InfoStatus\": \"Actueel\", \"ns2:StationCode\": \"ZL\", \"ns2:Type\": \"5\", \"ns2:KorteNaam\": \"Zwolle\", \"ns2:MiddelNaam\": \"Zwolle\", \"ns2:LangeNaam\": \"Zwolle\", \"ns2:UICCode\": \"8400747\"}], \"ns2:PresentatieTreinEindBestemming\": {\"ns2:Uitingen\": {\"ns2:Uiting\": \"Zwolle\"}}, \"ns2:VertrekTijd\": [{\"@InfoStatus\": \"Gepland\", \"#text\": \"2020-05-13T12:01:00.000Z\"}, {\"@InfoStatus\": \"Actueel\", \"#text\": \"2020-05-13T12:01:00.000Z\"}], \"ns2:ExacteVertrekVertraging\": \"PT0S\", \"ns2:GedempteVertrekVertraging\": \"PT0S\", \"ns2:TreinVertrekSpoor\": [{\"@InfoStatus\": \"Gepland\", \"ns2:SpoorNummer\": \"2\"}, {\"@InfoStatus\": \"Actueel\", \"ns2:SpoorNummer\": \"2\"}], \"ns2:PresentatieTreinVertrekSpoor\": {\"ns2:Uitingen\": {\"ns2:Uiting\": \"2\"}}, \"ns2:VertrekRichting\": \"B\", \"ns2:AfstandPerronEindKopVertrekTrein\": \"0\", \"ns2:VerkorteRoute\": [{\"@InfoStatus\": \"Gepland\", \"ns2:Station\": {\"ns2:StationCode\": \"LLS\", \"ns2:Type\": \"5\", \"ns2:KorteNaam\": \"Lelystad C\", \"ns2:MiddelNaam\": \"Lelystad C.\", \"ns2:LangeNaam\": \"Lelystad Centrum\", \"ns2:UICCode\": \"8400394\"}}, {\"@InfoStatus\": \"Actueel\", \"ns2:Station\": {\"ns2:StationCode\": \"LLS\", \"ns2:Type\": \"5\", \"ns2:KorteNaam\": \"Lelystad C\", \"ns2:MiddelNaam\": \"Lelystad C.\", \"ns2:LangeNaam\": \"Lelystad Centrum\", \"ns2:UICCode\": \"8400394\"}}], \"ns2:PresentatieVerkorteRoute\": {\"ns2:Uitingen\": {\"ns2:Uiting\": \"Lelystad C.\"}}, \"ns2:TreinVleugel\": {\"ns2:TreinVleugelVertrekSpoor\": [{\"@InfoStatus\": \"Gepland\", \"ns2:SpoorNummer\": \"2\"}, {\"@InfoStatus\": \"Actueel\", \"ns2:SpoorNummer\": \"2\"}], \"ns2:PresentatieTreinVleugelVertrekSpoor\": {\"ns2:Uitingen\": {\"ns2:Uiting\": \"2\"}}, \"ns2:TreinVleugelEindBestemming\": [{\"@InfoStatus\": \"Gepland\", \"ns2:StationCode\": \"ZL\", \"ns2:Type\": \"5\", \"ns2:KorteNaam\": \"Zwolle\", \"ns2:MiddelNaam\": \"Zwolle\", \"ns2:LangeNaam\": \"Zwolle\", \"ns2:UICCode\": \"8400747\"}, {\"@InfoStatus\": \"Actueel\", \"ns2:StationCode\": \"ZL\", \"ns2:Type\": \"5\", \"ns2:KorteNaam\": \"Zwolle\", \"ns2:MiddelNaam\": \"Zwolle\", \"ns2:LangeNaam\": \"Zwolle\", \"ns2:UICCode\": \"8400747\"}], \"ns2:PresentatieTreinVleugelEindBestemming\": {\"ns2:Uitingen\": {\"ns2:Uiting\": \"Zwolle\"}}, \"ns2:StopStations\": [{\"@InfoStatus\": \"Gepland\", \"ns2:Station\": [{\"ns2:StationCode\": \"ALMO\", \"ns2:Type\": \"0\", \"ns2:KorteNaam\": \"Oostvaard\", \"ns2:MiddelNaam\": \"Oostvaarders\", \"ns2:LangeNaam\": \"Almere Oostvaarders\", \"ns2:UICCode\": \"8400226\"}, {\"ns2:StationCode\": \"LLS\", \"ns2:Type\": \"5\", \"ns2:KorteNaam\": \"Lelystad C\", \"ns2:MiddelNaam\": \"Lelystad C.\", \"ns2:LangeNaam\": \"Lelystad Centrum\", \"ns2:UICCode\": \"8400394\"}, {\"ns2:StationCode\": \"DRON\", \"ns2:Type\": \"0\", \"ns2:KorteNaam\": \"Dronten\", \"ns2:MiddelNaam\": \"Dronten\", \"ns2:LangeNaam\": \"Dronten\", \"ns2:UICCode\": \"8400198\"}, {\"ns2:StationCode\": \"KPNZ\", \"ns2:Type\": \"0\", \"ns2:KorteNaam\": \"Kampen Z\", \"ns2:MiddelNaam\": \"Kampen Z.\", \"ns2:LangeNaam\": \"Kampen Zuid\", \"ns2:UICCode\": \"8400360\"}, {\"ns2:StationCode\": \"ZL\", \"ns2:Type\": \"5\", \"ns2:KorteNaam\": \"Zwolle\", \"ns2:MiddelNaam\": \"Zwolle\", \"ns2:LangeNaam\": \"Zwolle\", \"ns2:UICCode\": \"8400747\"}]}, {\"@InfoStatus\": \"Actueel\", \"ns2:Station\": [{\"ns2:StationCode\": \"ALMO\", \"ns2:Type\": \"0\", \"ns2:KorteNaam\": \"Oostvaard\", \"ns2:MiddelNaam\": \"Oostvaarders\", \"ns2:LangeNaam\": \"Almere Oostvaarders\", \"ns2:UICCode\": \"8400226\"}, {\"ns2:StationCode\": \"LLS\", \"ns2:Type\": \"5\", \"ns2:KorteNaam\": \"Lelystad C\", \"ns2:MiddelNaam\": \"Lelystad C.\", \"ns2:LangeNaam\": \"Lelystad Centrum\", \"ns2:UICCode\": \"8400394\"}, {\"ns2:StationCode\": \"DRON\", \"ns2:Type\": \"0\", \"ns2:KorteNaam\": \"Dronten\", \"ns2:MiddelNaam\": \"Dronten\", \"ns2:LangeNaam\": \"Dronten\", \"ns2:UICCode\": \"8400198\"}, {\"ns2:StationCode\": \"KPNZ\", \"ns2:Type\": \"0\", \"ns2:KorteNaam\": \"Kampen Z\", \"ns2:MiddelNaam\": \"Kampen Z.\", \"ns2:LangeNaam\": \"Kampen Zuid\", \"ns2:UICCode\": \"8400360\"}, {\"ns2:StationCode\": \"ZL\", \"ns2:Type\": \"5\", \"ns2:KorteNaam\": \"Zwolle\", \"ns2:MiddelNaam\": \"Zwolle\", \"ns2:LangeNaam\": \"Zwolle\", \"ns2:UICCode\": \"8400747\"}]}], \"ns2:MaterieelDeelDVS\": [{\"ns2:MaterieelSoort\": \"SNG\", \"ns2:MaterieelAanduiding\": \"4\", \"ns2:MaterieelLengte\": \"7576\", \"ns2:MaterieelDeelVertrekPositie\": \"1\", \"ns2:MaterieelDeelVolgordeVertrek\": \"1\", \"ns2:MaterieelNummer\": \"000000-02737-0\", \"ns2:MaterieelDeelEindBestemming\": [{\"@InfoStatus\": \"Gepland\", \"ns2:StationCode\": \"ZL\", \"ns2:Type\": \"5\", \"ns2:KorteNaam\": \"Zwolle\", \"ns2:MiddelNaam\": \"Zwolle\", \"ns2:LangeNaam\": \"Zwolle\", \"ns2:UICCode\": \"8400747\"}, {\"@InfoStatus\": \"Actueel\", \"ns2:StationCode\": \"ZL\", \"ns2:Type\": \"5\", \"ns2:KorteNaam\": \"Zwolle\", \"ns2:MiddelNaam\": \"Zwolle\", \"ns2:LangeNaam\": \"Zwolle\", \"ns2:UICCode\": \"8400747\"}], \"ns2:PresentatieMaterieelDeelEindBestemming\": {\"ns2:Uitingen\": {\"ns2:Uiting\": \"Zwolle\"}}}, {\"ns2:MaterieelSoort\": \"SNG\", \"ns2:MaterieelAanduiding\": \"3\", \"ns2:MaterieelLengte\": \"5956\", \"ns2:MaterieelDeelVertrekPositie\": \"3\", \"ns2:MaterieelDeelVolgordeVertrek\": \"2\", \"ns2:MaterieelNummer\": \"000000-02327-0\", \"ns2:MaterieelDeelEindBestemming\": [{\"@InfoStatus\": \"Gepland\", \"ns2:StationCode\": \"ZL\", \"ns2:Type\": \"5\", \"ns2:KorteNaam\": \"Zwolle\", \"ns2:MiddelNaam\": \"Zwolle\", \"ns2:LangeNaam\": \"Zwolle\", \"ns2:UICCode\": \"8400747\"}, {\"@InfoStatus\": \"Actueel\", \"ns2:StationCode\": \"ZL\", \"ns2:Type\": \"5\", \"ns2:KorteNaam\": \"Zwolle\", \"ns2:MiddelNaam\": \"Zwolle\", \"ns2:LangeNaam\": \"Zwolle\", \"ns2:UICCode\": \"8400747\"}], \"ns2:PresentatieMaterieelDeelEindBestemming\": {\"ns2:Uitingen\": {\"ns2:Uiting\": \"Zwolle\"}}}]}}}}}}')\n",
      "(None, u'{\"ns1:PutReisInformatieBoodschapIn\": {\"@xmlns:ns1\": \"urn:ndov:cdm:trein:reisinformatie:messages:5\", \"@xmlns:ns2\": \"urn:ndov:cdm:trein:reisinformatie:data:4\", \"ns2:ReisInformatieProductDVS\": {\"@TimeStamp\": \"2020-05-13T10:51:05.260Z\", \"@Versie\": \"6.2\", \"ns2:RIPAdministratie\": {\"ns2:ReisInformatieProductID\": \"2005131251052400004\", \"ns2:AbonnementId\": \"54\", \"ns2:ReisInformatieTijdstip\": \"2020-05-13T12:01:00.000Z\"}, \"ns2:DynamischeVertrekStaat\": {\"ns2:RitId\": \"6942\", \"ns2:RitDatum\": \"2020-05-13\", \"ns2:RitStation\": {\"ns2:StationCode\": \"WD\", \"ns2:Type\": \"1\", \"ns2:KorteNaam\": \"Woerden\", \"ns2:MiddelNaam\": \"Woerden\", \"ns2:LangeNaam\": \"Woerden\", \"ns2:UICCode\": \"8400702\"}, \"ns2:Trein\": {\"ns2:TreinNummer\": \"6942\", \"ns2:TreinSoort\": {\"@Code\": \"SPR\", \"#text\": \"Sprinter\"}, \"ns2:TreinFormule\": \"1\", \"ns2:TreinStatus\": \"0\", \"ns2:Vervoerder\": \"NS\", \"ns2:Reserveren\": \"N\", \"ns2:Toeslag\": \"N\", \"ns2:NietInstappen\": \"N\", \"ns2:AchterBlijvenAchtersteTreinDeel\": \"N\", \"ns2:RangeerBeweging\": \"N\", \"ns2:SpeciaalKaartje\": \"N\", \"ns2:TreinEindBestemming\": [{\"@InfoStatus\": \"Gepland\", \"ns2:StationCode\": \"GVC\", \"ns2:Type\": \"6\", \"ns2:KorteNaam\": \"Den Haag C\", \"ns2:MiddelNaam\": \"Den Haag C.\", \"ns2:LangeNaam\": \"Den Haag Centraal\", \"ns2:UICCode\": \"8400282\"}, {\"@InfoStatus\": \"Actueel\", \"ns2:StationCode\": \"GVC\", \"ns2:Type\": \"6\", \"ns2:KorteNaam\": \"Den Haag C\", \"ns2:MiddelNaam\": \"Den Haag C.\", \"ns2:LangeNaam\": \"Den Haag Centraal\", \"ns2:UICCode\": \"8400282\"}], \"ns2:PresentatieTreinEindBestemming\": {\"ns2:Uitingen\": {\"ns2:Uiting\": \"Den Haag Centraal\"}}, \"ns2:VertrekTijd\": [{\"@InfoStatus\": \"Gepland\", \"#text\": \"2020-05-13T12:01:00.000Z\"}, {\"@InfoStatus\": \"Actueel\", \"#text\": \"2020-05-13T12:01:00.000Z\"}], \"ns2:ExacteVertrekVertraging\": \"PT0S\", \"ns2:GedempteVertrekVertraging\": \"PT0S\", \"ns2:TreinVertrekSpoor\": [{\"@InfoStatus\": \"Gepland\", \"ns2:SpoorNummer\": \"1\"}, {\"@InfoStatus\": \"Actueel\", \"ns2:SpoorNummer\": \"1\"}], \"ns2:PresentatieTreinVertrekSpoor\": {\"ns2:Uitingen\": {\"ns2:Uiting\": \"1\"}}, \"ns2:VertrekRichting\": \"A\", \"ns2:AfstandPerronEindKopVertrekTrein\": \"0\", \"ns2:VerkorteRoute\": [{\"@InfoStatus\": \"Gepland\", \"ns2:Station\": [{\"ns2:StationCode\": \"GD\", \"ns2:Type\": \"5\", \"ns2:KorteNaam\": \"Gouda\", \"ns2:MiddelNaam\": \"Gouda\", \"ns2:LangeNaam\": \"Gouda\", \"ns2:UICCode\": \"8400258\"}, {\"ns2:StationCode\": \"ZTM\", \"ns2:Type\": \"1\", \"ns2:KorteNaam\": \"Zoetermeer\", \"ns2:MiddelNaam\": \"Zoetermeer\", \"ns2:LangeNaam\": \"Zoetermeer\", \"ns2:UICCode\": \"8400741\"}]}, {\"@InfoStatus\": \"Actueel\", \"ns2:Station\": [{\"ns2:StationCode\": \"GD\", \"ns2:Type\": \"5\", \"ns2:KorteNaam\": \"Gouda\", \"ns2:MiddelNaam\": \"Gouda\", \"ns2:LangeNaam\": \"Gouda\", \"ns2:UICCode\": \"8400258\"}, {\"ns2:StationCode\": \"ZTM\", \"ns2:Type\": \"1\", \"ns2:KorteNaam\": \"Zoetermeer\", \"ns2:MiddelNaam\": \"Zoetermeer\", \"ns2:LangeNaam\": \"Zoetermeer\", \"ns2:UICCode\": \"8400741\"}]}], \"ns2:PresentatieVerkorteRoute\": {\"ns2:Uitingen\": {\"ns2:Uiting\": \"Gouda, Zoetermeer\"}}, \"ns2:TreinVleugel\": {\"ns2:TreinVleugelVertrekSpoor\": [{\"@InfoStatus\": \"Gepland\", \"ns2:SpoorNummer\": \"1\"}, {\"@InfoStatus\": \"Actueel\", \"ns2:SpoorNummer\": \"1\"}], \"ns2:PresentatieTreinVleugelVertrekSpoor\": {\"ns2:Uitingen\": {\"ns2:Uiting\": \"1\"}}, \"ns2:TreinVleugelEindBestemming\": [{\"@InfoStatus\": \"Gepland\", \"ns2:StationCode\": \"GVC\", \"ns2:Type\": \"6\", \"ns2:KorteNaam\": \"Den Haag C\", \"ns2:MiddelNaam\": \"Den Haag C.\", \"ns2:LangeNaam\": \"Den Haag Centraal\", \"ns2:UICCode\": \"8400282\"}, {\"@InfoStatus\": \"Actueel\", \"ns2:StationCode\": \"GVC\", \"ns2:Type\": \"6\", \"ns2:KorteNaam\": \"Den Haag C\", \"ns2:MiddelNaam\": \"Den Haag C.\", \"ns2:LangeNaam\": \"Den Haag Centraal\", \"ns2:UICCode\": \"8400282\"}], \"ns2:PresentatieTreinVleugelEindBestemming\": {\"ns2:Uitingen\": {\"ns2:Uiting\": \"Den Haag Centraal\"}}, \"ns2:StopStations\": [{\"@InfoStatus\": \"Gepland\", \"ns2:Station\": [{\"ns2:StationCode\": \"GDG\", \"ns2:Type\": \"0\", \"ns2:KorteNaam\": \"Goverwelle\", \"ns2:MiddelNaam\": \"Goverwelle\", \"ns2:LangeNaam\": \"Gouda Goverwelle\", \"ns2:UICCode\": \"8400257\"}, {\"ns2:StationCode\": \"GD\", \"ns2:Type\": \"5\", \"ns2:KorteNaam\": \"Gouda\", \"ns2:MiddelNaam\": \"Gouda\", \"ns2:LangeNaam\": \"Gouda\", \"ns2:UICCode\": \"8400258\"}, {\"ns2:StationCode\": \"LLZM\", \"ns2:Type\": \"0\", \"ns2:KorteNaam\": \"Lansingerl\", \"ns2:MiddelNaam\": \"Lansingerland\", \"ns2:LangeNaam\": \"Lansingerland-Zoetermeer\", \"ns2:UICCode\": \"8400135\"}, {\"ns2:StationCode\": \"ZTMO\", \"ns2:Type\": \"0\", \"ns2:KorteNaam\": \"Zoetermr O\", \"ns2:MiddelNaam\": \"Zoetermeer O.\", \"ns2:LangeNaam\": \"Zoetermeer Oost\", \"ns2:UICCode\": \"8400740\"}, {\"ns2:StationCode\": \"ZTM\", \"ns2:Type\": \"1\", \"ns2:KorteNaam\": \"Zoetermeer\", \"ns2:MiddelNaam\": \"Zoetermeer\", \"ns2:LangeNaam\": \"Zoetermeer\", \"ns2:UICCode\": \"8400741\"}, {\"ns2:StationCode\": \"YPB\", \"ns2:Type\": \"0\", \"ns2:KorteNaam\": \"Ypenburg\", \"ns2:MiddelNaam\": \"Ypenburg\", \"ns2:LangeNaam\": \"Den Haag Ypenburg\", \"ns2:UICCode\": \"8400379\"}, {\"ns2:StationCode\": \"VB\", \"ns2:Type\": \"0\", \"ns2:KorteNaam\": \"Voorburg\", \"ns2:MiddelNaam\": \"Voorburg\", \"ns2:LangeNaam\": \"Voorburg\", \"ns2:UICCode\": \"8400658\"}, {\"ns2:StationCode\": \"GVC\", \"ns2:Type\": \"6\", \"ns2:KorteNaam\": \"Den Haag C\", \"ns2:MiddelNaam\": \"Den Haag C.\", \"ns2:LangeNaam\": \"Den Haag Centraal\", \"ns2:UICCode\": \"8400282\"}]}, {\"@InfoStatus\": \"Actueel\", \"ns2:Station\": [{\"ns2:StationCode\": \"GDG\", \"ns2:Type\": \"0\", \"ns2:KorteNaam\": \"Goverwelle\", \"ns2:MiddelNaam\": \"Goverwelle\", \"ns2:LangeNaam\": \"Gouda Goverwelle\", \"ns2:UICCode\": \"8400257\"}, {\"ns2:StationCode\": \"GD\", \"ns2:Type\": \"5\", \"ns2:KorteNaam\": \"Gouda\", \"ns2:MiddelNaam\": \"Gouda\", \"ns2:LangeNaam\": \"Gouda\", \"ns2:UICCode\": \"8400258\"}, {\"ns2:StationCode\": \"LLZM\", \"ns2:Type\": \"0\", \"ns2:KorteNaam\": \"Lansingerl\", \"ns2:MiddelNaam\": \"Lansingerland\", \"ns2:LangeNaam\": \"Lansingerland-Zoetermeer\", \"ns2:UICCode\": \"8400135\"}, {\"ns2:StationCode\": \"ZTMO\", \"ns2:Type\": \"0\", \"ns2:KorteNaam\": \"Zoetermr O\", \"ns2:MiddelNaam\": \"Zoetermeer O.\", \"ns2:LangeNaam\": \"Zoetermeer Oost\", \"ns2:UICCode\": \"8400740\"}, {\"ns2:StationCode\": \"ZTM\", \"ns2:Type\": \"1\", \"ns2:KorteNaam\": \"Zoetermeer\", \"ns2:MiddelNaam\": \"Zoetermeer\", \"ns2:LangeNaam\": \"Zoetermeer\", \"ns2:UICCode\": \"8400741\"}, {\"ns2:StationCode\": \"YPB\", \"ns2:Type\": \"0\", \"ns2:KorteNaam\": \"Ypenburg\", \"ns2:MiddelNaam\": \"Ypenburg\", \"ns2:LangeNaam\": \"Den Haag Ypenburg\", \"ns2:UICCode\": \"8400379\"}, {\"ns2:StationCode\": \"VB\", \"ns2:Type\": \"0\", \"ns2:KorteNaam\": \"Voorburg\", \"ns2:MiddelNaam\": \"Voorburg\", \"ns2:LangeNaam\": \"Voorburg\", \"ns2:UICCode\": \"8400658\"}, {\"ns2:StationCode\": \"GVC\", \"ns2:Type\": \"6\", \"ns2:KorteNaam\": \"Den Haag C\", \"ns2:MiddelNaam\": \"Den Haag C.\", \"ns2:LangeNaam\": \"Den Haag Centraal\", \"ns2:UICCode\": \"8400282\"}]}], \"ns2:MaterieelDeelDVS\": {\"ns2:MaterieelSoort\": \"SLT\", \"ns2:MaterieelAanduiding\": \"6\", \"ns2:MaterieelLengte\": \"10050\", \"ns2:MaterieelNummer\": \"000000-02662-0\", \"ns2:MaterieelDeelEindBestemming\": [{\"@InfoStatus\": \"Gepland\", \"ns2:StationCode\": \"GVC\", \"ns2:Type\": \"6\", \"ns2:KorteNaam\": \"Den Haag C\", \"ns2:MiddelNaam\": \"Den Haag C.\", \"ns2:LangeNaam\": \"Den Haag Centraal\", \"ns2:UICCode\": \"8400282\"}, {\"@InfoStatus\": \"Actueel\", \"ns2:StationCode\": \"GVC\", \"ns2:Type\": \"6\", \"ns2:KorteNaam\": \"Den Haag C\", \"ns2:MiddelNaam\": \"Den Haag C.\", \"ns2:LangeNaam\": \"Den Haag Centraal\", \"ns2:UICCode\": \"8400282\"}], \"ns2:PresentatieMaterieelDeelEindBestemming\": {\"ns2:Uitingen\": {\"ns2:Uiting\": \"Den Haag Centraal\"}}}}}}}}}')\n",
      "..."
     ]
    }
   ],
   "source": [
    "ssc.stop(stopSparkContext=False)"
   ]
  },
  {
   "cell_type": "markdown",
   "metadata": {},
   "source": [
    "You will need to adjust the batch interval (10 seconds here) in accordance with the processing times. Use the spark UI to check if batches are not accumulating."
   ]
  },
  {
   "cell_type": "markdown",
   "metadata": {},
   "source": [
    "---"
   ]
  },
  {
   "cell_type": "markdown",
   "metadata": {},
   "source": [
    "# Part III - Live stopping time (20 points / 50)"
   ]
  },
  {
   "cell_type": "markdown",
   "metadata": {},
   "source": [
    "In this part, we will have a look at the two other streams, namely `ndovloketnl-arrivals` and `ndovloketnl-departures`. Each time a train arrives at or leaves a station, a message is generated. Let's have a look at the content."
   ]
  },
  {
   "cell_type": "code",
   "execution_count": 22,
   "metadata": {
    "scrolled": true
   },
   "outputs": [
    {
     "data": {
      "application/vnd.jupyter.widget-view+json": {
       "model_id": "",
       "version_major": 2,
       "version_minor": 0
      },
      "text/plain": [
       "FloatProgress(value=0.0, bar_style='info', description='Progress:', layout=Layout(height='25px', width='50%'),…"
      ]
     },
     "metadata": {},
     "output_type": "display_data"
    },
    {
     "name": "stdout",
     "output_type": "stream",
     "text": [
      "{\n",
      "  \"ns1:PutReisInformatieBoodschapIn\": {\n",
      "    \"@xmlns:ns1\": \"urn:ndov:cdm:trein:reisinformatie:messages:dynamischeaankomststaat:1\", \n",
      "    \"@xmlns:ns2\": \"urn:ndov:cdm:trein:reisinformatie:data:4\", \n",
      "    \"ns2:ReisInformatieProductDAS\": {\n",
      "      \"ns2:RIPAdministratie\": {\n",
      "        \"ns2:ReisInformatieTijdstip\": \"2020-04-17T10:54:00.000Z\", \n",
      "        \"ns2:ReisInformatieProductID\": \"2004171254422300001\", \n",
      "        \"ns2:AbonnementId\": \"55\"\n",
      "      }, \n",
      "      \"@TimeStamp\": \"2020-04-17T10:54:42.098Z\", \n",
      "      \"@Versie\": \"6.1\", \n",
      "      \"ns2:DynamischeAankomstStaat\": {\n",
      "        \"ns2:RitId\": \"6945\", \n",
      "        \"ns2:RitStation\": {\n",
      "          \"ns2:LangeNaam\": \"Utrecht Vaartsche Rijn\", \n",
      "          \"ns2:MiddelNaam\": \"Vaartsche Rijn\", \n",
      "          \"ns2:StationCode\": \"UTVR\", \n",
      "          \"ns2:Type\": \"1\", \n",
      "          \"ns2:UICCode\": \"8400606\", \n",
      "          \"ns2:KorteNaam\": \"VaartscheR\"\n",
      "        }, \n",
      "        \"ns2:TreinAankomst\": {\n",
      "          \"ns2:TreinHerkomst\": [\n",
      "            {\n",
      "              \"ns2:LangeNaam\": \"Den Haag Centraal\", \n",
      "              \"@InfoStatus\": \"Gepland\", \n",
      "              \"ns2:MiddelNaam\": \"Den Haag C.\", \n",
      "              \"ns2:StationCode\": \"GVC\", \n",
      "              \"ns2:Type\": \"6\", \n",
      "              \"ns2:UICCode\": \"8400282\", \n",
      "              \"ns2:KorteNaam\": \"Den Haag C\"\n",
      "            }, \n",
      "            {\n",
      "              \"ns2:LangeNaam\": \"Den Haag Centraal\", \n",
      "              \"@InfoStatus\": \"Actueel\", \n",
      "              \"ns2:MiddelNaam\": \"Den Haag C.\", \n",
      "              \"ns2:StationCode\": \"GVC\", \n",
      "              \"ns2:Type\": \"6\", \n",
      "              \"ns2:UICCode\": \"8400282\", \n",
      "              \"ns2:KorteNaam\": \"Den Haag C\"\n",
      "            }\n",
      "          ], \n",
      "          \"ns2:TreinSoort\": {\n",
      "            \"@Code\": \"SPR\", \n",
      "            \"#text\": \"Sprinter\"\n",
      "          }, \n",
      "          \"ns2:WijzigingHerkomst\": {\n",
      "            \"ns2:WijzigingType\": \"40\"\n",
      "          }, \n",
      "          \"ns2:VerkorteRouteHerkomst\": [\n",
      "            {\n",
      "              \"ns2:Station\": [\n",
      "                {\n",
      "                  \"ns2:LangeNaam\": \"Zoetermeer\", \n",
      "                  \"ns2:MiddelNaam\": \"Zoetermeer\", \n",
      "                  \"ns2:StationCode\": \"ZTM\", \n",
      "                  \"ns2:Type\": \"1\", \n",
      "                  \"ns2:UICCode\": \"8400741\", \n",
      "                  \"ns2:KorteNaam\": \"Zoetermeer\"\n",
      "                }, \n",
      "                {\n",
      "                  \"ns2:LangeNaam\": \"Gouda\", \n",
      "                  \"ns2:MiddelNaam\": \"Gouda\", \n",
      "                  \"ns2:StationCode\": \"GD\", \n",
      "                  \"ns2:Type\": \"5\", \n",
      "                  \"ns2:UICCode\": \"8400258\", \n",
      "                  \"ns2:KorteNaam\": \"Gouda\"\n",
      "                }, \n",
      "                {\n",
      "                  \"ns2:LangeNaam\": \"Woerden\", \n",
      "                  \"ns2:MiddelNaam\": \"Woerden\", \n",
      "                  \"ns2:StationCode\": \"WD\", \n",
      "                  \"ns2:Type\": \"1\", \n",
      "                  \"ns2:UICCode\": \"8400702\", \n",
      "                  \"ns2:KorteNaam\": \"Woerden\"\n",
      "                }, \n",
      "                {\n",
      "                  \"ns2:LangeNaam\": \"Utrecht Centraal\", \n",
      "                  \"ns2:MiddelNaam\": \"Utrecht C.\", \n",
      "                  \"ns2:StationCode\": \"UT\", \n",
      "                  \"ns2:Type\": \"6\", \n",
      "                  \"ns2:UICCode\": \"8400621\", \n",
      "                  \"ns2:KorteNaam\": \"Utrecht C\"\n",
      "                }\n",
      "              ], \n",
      "              \"@InfoStatus\": \"Gepland\"\n",
      "            }, \n",
      "            {\n",
      "              \"ns2:Station\": [\n",
      "                {\n",
      "                  \"ns2:LangeNaam\": \"Zoetermeer\", \n",
      "                  \"ns2:MiddelNaam\": \"Zoetermeer\", \n",
      "                  \"ns2:StationCode\": \"ZTM\", \n",
      "                  \"ns2:Type\": \"1\", \n",
      "                  \"ns2:UICCode\": \"8400741\", \n",
      "                  \"ns2:KorteNaam\": \"Zoetermeer\"\n",
      "                }, \n",
      "                {\n",
      "                  \"ns2:LangeNaam\": \"Gouda\", \n",
      "                  \"ns2:MiddelNaam\": \"Gouda\", \n",
      "                  \"ns2:StationCode\": \"GD\", \n",
      "                  \"ns2:Type\": \"5\", \n",
      "                  \"ns2:UICCode\": \"8400258\", \n",
      "                  \"ns2:KorteNaam\": \"Gouda\"\n",
      "                }, \n",
      "                {\n",
      "                  \"ns2:LangeNaam\": \"Woerden\", \n",
      "                  \"ns2:MiddelNaam\": \"Woerden\", \n",
      "                  \"ns2:StationCode\": \"WD\", \n",
      "                  \"ns2:Type\": \"1\", \n",
      "                  \"ns2:UICCode\": \"8400702\", \n",
      "                  \"ns2:KorteNaam\": \"Woerden\"\n",
      "                }, \n",
      "                {\n",
      "                  \"ns2:LangeNaam\": \"Utrecht Centraal\", \n",
      "                  \"ns2:MiddelNaam\": \"Utrecht C.\", \n",
      "                  \"ns2:StationCode\": \"UT\", \n",
      "                  \"ns2:Type\": \"6\", \n",
      "                  \"ns2:UICCode\": \"8400621\", \n",
      "                  \"ns2:KorteNaam\": \"Utrecht C\"\n",
      "                }\n",
      "              ], \n",
      "              \"@InfoStatus\": \"Actueel\"\n",
      "            }\n",
      "          ], \n",
      "          \"ns2:PresentatieTreinAankomstSpoor\": {\n",
      "            \"ns2:Uitingen\": {\n",
      "              \"ns2:Uiting\": \"4\"\n",
      "            }\n",
      "          }, \n",
      "          \"ns2:TreinStatus\": \"5\", \n",
      "          \"ns2:PresentatieVerkorteRouteHerkomst\": {\n",
      "            \"ns2:Uitingen\": {\n",
      "              \"ns2:Uiting\": \"Zoetermeer, Gouda, Woerden, Utrecht C.\"\n",
      "            }\n",
      "          }, \n",
      "          \"ns2:AankomstTijd\": [\n",
      "            {\n",
      "              \"@InfoStatus\": \"Gepland\", \n",
      "              \"#text\": \"2020-04-17T10:54:00.000Z\"\n",
      "            }, \n",
      "            {\n",
      "              \"@InfoStatus\": \"Actueel\", \n",
      "              \"#text\": \"2020-04-17T10:54:00.000Z\"\n",
      "            }\n",
      "          ], \n",
      "          \"ns2:TreinNummer\": \"6945\", \n",
      "          \"ns2:TreinAankomstSpoor\": [\n",
      "            {\n",
      "              \"@InfoStatus\": \"Gepland\", \n",
      "              \"ns2:SpoorNummer\": \"4\"\n",
      "            }, \n",
      "            {\n",
      "              \"@InfoStatus\": \"Actueel\", \n",
      "              \"ns2:SpoorNummer\": \"4\"\n",
      "            }\n",
      "          ], \n",
      "          \"ns2:PresentatieTreinHerkomst\": {\n",
      "            \"ns2:Uitingen\": {\n",
      "              \"ns2:Uiting\": \"Den Haag C.\"\n",
      "            }\n",
      "          }, \n",
      "          \"ns2:GedempteAankomstVertraging\": \"PT0S\", \n",
      "          \"ns2:ExacteAankomstVertraging\": \"PT0S\", \n",
      "          \"ns2:Vervoerder\": \"NS\"\n",
      "        }, \n",
      "        \"ns2:RitDatum\": \"2020-04-17\"\n",
      "      }\n",
      "    }\n",
      "  }\n",
      "}"
     ]
    }
   ],
   "source": [
    "import json\n",
    "from pykafka.common import OffsetType\n",
    "\n",
    "example_arrivals = client.topics[b'ndovloketnl-arrivals'].get_simple_consumer(\n",
    "    auto_offset_reset=OffsetType.EARLIEST,\n",
    "    reset_offset_on_start=True\n",
    ").consume()\n",
    "print(json.dumps(json.loads(example_arrivals.value), indent=2))"
   ]
  },
  {
   "cell_type": "code",
   "execution_count": 23,
   "metadata": {
    "scrolled": true
   },
   "outputs": [
    {
     "data": {
      "application/vnd.jupyter.widget-view+json": {
       "model_id": "",
       "version_major": 2,
       "version_minor": 0
      },
      "text/plain": [
       "FloatProgress(value=0.0, bar_style='info', description='Progress:', layout=Layout(height='25px', width='50%'),…"
      ]
     },
     "metadata": {},
     "output_type": "display_data"
    },
    {
     "name": "stdout",
     "output_type": "stream",
     "text": [
      "{\n",
      "  \"ns1:PutReisInformatieBoodschapIn\": {\n",
      "    \"@xmlns:ns1\": \"urn:ndov:cdm:trein:reisinformatie:messages:5\", \n",
      "    \"ns2:ReisInformatieProductDVS\": {\n",
      "      \"ns2:RIPAdministratie\": {\n",
      "        \"ns2:ReisInformatieTijdstip\": \"2020-04-23T15:32:00.000Z\", \n",
      "        \"ns2:ReisInformatieProductID\": \"2004231730412200003\", \n",
      "        \"ns2:AbonnementId\": \"54\"\n",
      "      }, \n",
      "      \"@TimeStamp\": \"2020-04-23T15:30:41.815Z\", \n",
      "      \"@Versie\": \"6.2\", \n",
      "      \"ns2:DynamischeVertrekStaat\": {\n",
      "        \"ns2:RitId\": \"7363\", \n",
      "        \"ns2:RitStation\": {\n",
      "          \"ns2:LangeNaam\": \"Maarssen\", \n",
      "          \"ns2:MiddelNaam\": \"Maarssen\", \n",
      "          \"ns2:StationCode\": \"MAS\", \n",
      "          \"ns2:Type\": \"0\", \n",
      "          \"ns2:UICCode\": \"8400419\", \n",
      "          \"ns2:KorteNaam\": \"Maarssen\"\n",
      "        }, \n",
      "        \"ns2:RitDatum\": \"2020-04-23\", \n",
      "        \"ns2:Trein\": {\n",
      "          \"ns2:VertrekRichting\": \"B\", \n",
      "          \"ns2:VertrekTijd\": [\n",
      "            {\n",
      "              \"@InfoStatus\": \"Gepland\", \n",
      "              \"#text\": \"2020-04-23T15:32:00.000Z\"\n",
      "            }, \n",
      "            {\n",
      "              \"@InfoStatus\": \"Actueel\", \n",
      "              \"#text\": \"2020-04-23T15:32:00.000Z\"\n",
      "            }\n",
      "          ], \n",
      "          \"ns2:RangeerBeweging\": \"N\", \n",
      "          \"ns2:PresentatieTreinVertrekSpoor\": {\n",
      "            \"ns2:Uitingen\": {\n",
      "              \"ns2:Uiting\": \"3\"\n",
      "            }\n",
      "          }, \n",
      "          \"ns2:NietInstappen\": \"N\", \n",
      "          \"ns2:PresentatieVerkorteRoute\": {\n",
      "            \"ns2:Uitingen\": {\n",
      "              \"ns2:Uiting\": \"Utrecht C., Vaartsche Rijn, Driebergen-Zeist, Maarn\"\n",
      "            }\n",
      "          }, \n",
      "          \"ns2:TreinStatus\": \"2\", \n",
      "          \"ns2:TreinNummer\": \"7363\", \n",
      "          \"ns2:ExacteVertrekVertraging\": \"PT0S\", \n",
      "          \"ns2:Wijziging\": {\n",
      "            \"ns2:WijzigingType\": \"40\"\n",
      "          }, \n",
      "          \"ns2:TreinVleugel\": {\n",
      "            \"ns2:PresentatieTreinVleugelVertrekSpoor\": {\n",
      "              \"ns2:Uitingen\": {\n",
      "                \"ns2:Uiting\": \"3\"\n",
      "              }\n",
      "            }, \n",
      "            \"ns2:TreinVleugelVertrekSpoor\": [\n",
      "              {\n",
      "                \"@InfoStatus\": \"Gepland\", \n",
      "                \"ns2:SpoorNummer\": \"3\"\n",
      "              }, \n",
      "              {\n",
      "                \"@InfoStatus\": \"Actueel\", \n",
      "                \"ns2:SpoorNummer\": \"3\"\n",
      "              }\n",
      "            ], \n",
      "            \"ns2:StopStations\": [\n",
      "              {\n",
      "                \"ns2:Station\": [\n",
      "                  {\n",
      "                    \"ns2:LangeNaam\": \"Utrecht Zuilen\", \n",
      "                    \"ns2:MiddelNaam\": \"Zuilen\", \n",
      "                    \"ns2:StationCode\": \"UTZL\", \n",
      "                    \"ns2:Type\": \"0\", \n",
      "                    \"ns2:UICCode\": \"8400613\", \n",
      "                    \"ns2:KorteNaam\": \"Zuilen\"\n",
      "                  }, \n",
      "                  {\n",
      "                    \"ns2:LangeNaam\": \"Utrecht Centraal\", \n",
      "                    \"ns2:MiddelNaam\": \"Utrecht C.\", \n",
      "                    \"ns2:StationCode\": \"UT\", \n",
      "                    \"ns2:Type\": \"6\", \n",
      "                    \"ns2:UICCode\": \"8400621\", \n",
      "                    \"ns2:KorteNaam\": \"Utrecht C\"\n",
      "                  }, \n",
      "                  {\n",
      "                    \"ns2:LangeNaam\": \"Utrecht Vaartsche Rijn\", \n",
      "                    \"ns2:MiddelNaam\": \"Vaartsche Rijn\", \n",
      "                    \"ns2:StationCode\": \"UTVR\", \n",
      "                    \"ns2:Type\": \"1\", \n",
      "                    \"ns2:UICCode\": \"8400606\", \n",
      "                    \"ns2:KorteNaam\": \"VaartscheR\"\n",
      "                  }, \n",
      "                  {\n",
      "                    \"ns2:LangeNaam\": \"Bunnik\", \n",
      "                    \"ns2:MiddelNaam\": \"Bunnik\", \n",
      "                    \"ns2:StationCode\": \"BNK\", \n",
      "                    \"ns2:Type\": \"0\", \n",
      "                    \"ns2:UICCode\": \"8400141\", \n",
      "                    \"ns2:KorteNaam\": \"Bunnik\"\n",
      "                  }, \n",
      "                  {\n",
      "                    \"ns2:LangeNaam\": \"Driebergen-Zeist\", \n",
      "                    \"ns2:MiddelNaam\": \"Driebergen-Zeist\", \n",
      "                    \"ns2:StationCode\": \"DB\", \n",
      "                    \"ns2:Type\": \"1\", \n",
      "                    \"ns2:UICCode\": \"8400182\", \n",
      "                    \"ns2:KorteNaam\": \"Driebergen\"\n",
      "                  }, \n",
      "                  {\n",
      "                    \"ns2:LangeNaam\": \"Maarn\", \n",
      "                    \"ns2:MiddelNaam\": \"Maarn\", \n",
      "                    \"ns2:StationCode\": \"MRN\", \n",
      "                    \"ns2:Type\": \"1\", \n",
      "                    \"ns2:UICCode\": \"8400417\", \n",
      "                    \"ns2:KorteNaam\": \"Maarn\"\n",
      "                  }, \n",
      "                  {\n",
      "                    \"ns2:LangeNaam\": \"Veenendaal West\", \n",
      "                    \"ns2:MiddelNaam\": \"Veenendaal W.\", \n",
      "                    \"ns2:StationCode\": \"VNDW\", \n",
      "                    \"ns2:Type\": \"0\", \n",
      "                    \"ns2:UICCode\": \"8400628\", \n",
      "                    \"ns2:KorteNaam\": \"Veenendl W\"\n",
      "                  }, \n",
      "                  {\n",
      "                    \"ns2:LangeNaam\": \"Veenendaal Centrum\", \n",
      "                    \"ns2:MiddelNaam\": \"Veenendaal C.\", \n",
      "                    \"ns2:StationCode\": \"VNDC\", \n",
      "                    \"ns2:Type\": \"1\", \n",
      "                    \"ns2:UICCode\": \"8400627\", \n",
      "                    \"ns2:KorteNaam\": \"Veenendl C\"\n",
      "                  }, \n",
      "                  {\n",
      "                    \"ns2:LangeNaam\": \"Rhenen\", \n",
      "                    \"ns2:MiddelNaam\": \"Rhenen\", \n",
      "                    \"ns2:StationCode\": \"RHN\", \n",
      "                    \"ns2:Type\": \"1\", \n",
      "                    \"ns2:UICCode\": \"8400517\", \n",
      "                    \"ns2:KorteNaam\": \"Rhenen\"\n",
      "                  }\n",
      "                ], \n",
      "                \"@InfoStatus\": \"Gepland\"\n",
      "              }, \n",
      "              {\n",
      "                \"ns2:Station\": [\n",
      "                  {\n",
      "                    \"ns2:LangeNaam\": \"Utrecht Zuilen\", \n",
      "                    \"ns2:MiddelNaam\": \"Zuilen\", \n",
      "                    \"ns2:StationCode\": \"UTZL\", \n",
      "                    \"ns2:Type\": \"0\", \n",
      "                    \"ns2:UICCode\": \"8400613\", \n",
      "                    \"ns2:KorteNaam\": \"Zuilen\"\n",
      "                  }, \n",
      "                  {\n",
      "                    \"ns2:LangeNaam\": \"Utrecht Centraal\", \n",
      "                    \"ns2:MiddelNaam\": \"Utrecht C.\", \n",
      "                    \"ns2:StationCode\": \"UT\", \n",
      "                    \"ns2:Type\": \"6\", \n",
      "                    \"ns2:UICCode\": \"8400621\", \n",
      "                    \"ns2:KorteNaam\": \"Utrecht C\"\n",
      "                  }, \n",
      "                  {\n",
      "                    \"ns2:LangeNaam\": \"Utrecht Vaartsche Rijn\", \n",
      "                    \"ns2:MiddelNaam\": \"Vaartsche Rijn\", \n",
      "                    \"ns2:StationCode\": \"UTVR\", \n",
      "                    \"ns2:Type\": \"1\", \n",
      "                    \"ns2:UICCode\": \"8400606\", \n",
      "                    \"ns2:KorteNaam\": \"VaartscheR\"\n",
      "                  }, \n",
      "                  {\n",
      "                    \"ns2:LangeNaam\": \"Bunnik\", \n",
      "                    \"ns2:MiddelNaam\": \"Bunnik\", \n",
      "                    \"ns2:StationCode\": \"BNK\", \n",
      "                    \"ns2:Type\": \"0\", \n",
      "                    \"ns2:UICCode\": \"8400141\", \n",
      "                    \"ns2:KorteNaam\": \"Bunnik\"\n",
      "                  }, \n",
      "                  {\n",
      "                    \"ns2:LangeNaam\": \"Driebergen-Zeist\", \n",
      "                    \"ns2:MiddelNaam\": \"Driebergen-Zeist\", \n",
      "                    \"ns2:StationCode\": \"DB\", \n",
      "                    \"ns2:Type\": \"1\", \n",
      "                    \"ns2:UICCode\": \"8400182\", \n",
      "                    \"ns2:KorteNaam\": \"Driebergen\"\n",
      "                  }, \n",
      "                  {\n",
      "                    \"ns2:LangeNaam\": \"Maarn\", \n",
      "                    \"ns2:MiddelNaam\": \"Maarn\", \n",
      "                    \"ns2:StationCode\": \"MRN\", \n",
      "                    \"ns2:Type\": \"1\", \n",
      "                    \"ns2:UICCode\": \"8400417\", \n",
      "                    \"ns2:KorteNaam\": \"Maarn\"\n",
      "                  }, \n",
      "                  {\n",
      "                    \"ns2:LangeNaam\": \"Veenendaal West\", \n",
      "                    \"ns2:MiddelNaam\": \"Veenendaal W.\", \n",
      "                    \"ns2:StationCode\": \"VNDW\", \n",
      "                    \"ns2:Type\": \"0\", \n",
      "                    \"ns2:UICCode\": \"8400628\", \n",
      "                    \"ns2:KorteNaam\": \"Veenendl W\"\n",
      "                  }, \n",
      "                  {\n",
      "                    \"ns2:LangeNaam\": \"Veenendaal Centrum\", \n",
      "                    \"ns2:MiddelNaam\": \"Veenendaal C.\", \n",
      "                    \"ns2:StationCode\": \"VNDC\", \n",
      "                    \"ns2:Type\": \"1\", \n",
      "                    \"ns2:UICCode\": \"8400627\", \n",
      "                    \"ns2:KorteNaam\": \"Veenendl C\"\n",
      "                  }, \n",
      "                  {\n",
      "                    \"ns2:LangeNaam\": \"Rhenen\", \n",
      "                    \"ns2:MiddelNaam\": \"Rhenen\", \n",
      "                    \"ns2:StationCode\": \"RHN\", \n",
      "                    \"ns2:Type\": \"1\", \n",
      "                    \"ns2:UICCode\": \"8400517\", \n",
      "                    \"ns2:KorteNaam\": \"Rhenen\"\n",
      "                  }\n",
      "                ], \n",
      "                \"@InfoStatus\": \"Actueel\"\n",
      "              }\n",
      "            ], \n",
      "            \"ns2:TreinVleugelEindBestemming\": [\n",
      "              {\n",
      "                \"ns2:LangeNaam\": \"Rhenen\", \n",
      "                \"@InfoStatus\": \"Gepland\", \n",
      "                \"ns2:MiddelNaam\": \"Rhenen\", \n",
      "                \"ns2:StationCode\": \"RHN\", \n",
      "                \"ns2:Type\": \"1\", \n",
      "                \"ns2:UICCode\": \"8400517\", \n",
      "                \"ns2:KorteNaam\": \"Rhenen\"\n",
      "              }, \n",
      "              {\n",
      "                \"ns2:LangeNaam\": \"Rhenen\", \n",
      "                \"@InfoStatus\": \"Actueel\", \n",
      "                \"ns2:MiddelNaam\": \"Rhenen\", \n",
      "                \"ns2:StationCode\": \"RHN\", \n",
      "                \"ns2:Type\": \"1\", \n",
      "                \"ns2:UICCode\": \"8400517\", \n",
      "                \"ns2:KorteNaam\": \"Rhenen\"\n",
      "              }\n",
      "            ], \n",
      "            \"ns2:MaterieelDeelDVS\": {\n",
      "              \"ns2:MaterieelLengte\": \"10050\", \n",
      "              \"ns2:MaterieelNummer\": \"000000-02656-0\", \n",
      "              \"ns2:PresentatieMaterieelDeelEindBestemming\": {\n",
      "                \"ns2:Uitingen\": {\n",
      "                  \"ns2:Uiting\": \"Rhenen\"\n",
      "                }\n",
      "              }, \n",
      "              \"ns2:MaterieelDeelEindBestemming\": [\n",
      "                {\n",
      "                  \"ns2:LangeNaam\": \"Rhenen\", \n",
      "                  \"@InfoStatus\": \"Gepland\", \n",
      "                  \"ns2:MiddelNaam\": \"Rhenen\", \n",
      "                  \"ns2:StationCode\": \"RHN\", \n",
      "                  \"ns2:Type\": \"1\", \n",
      "                  \"ns2:UICCode\": \"8400517\", \n",
      "                  \"ns2:KorteNaam\": \"Rhenen\"\n",
      "                }, \n",
      "                {\n",
      "                  \"ns2:LangeNaam\": \"Rhenen\", \n",
      "                  \"@InfoStatus\": \"Actueel\", \n",
      "                  \"ns2:MiddelNaam\": \"Rhenen\", \n",
      "                  \"ns2:StationCode\": \"RHN\", \n",
      "                  \"ns2:Type\": \"1\", \n",
      "                  \"ns2:UICCode\": \"8400517\", \n",
      "                  \"ns2:KorteNaam\": \"Rhenen\"\n",
      "                }\n",
      "              ], \n",
      "              \"ns2:MaterieelAanduiding\": \"6\", \n",
      "              \"ns2:MaterieelSoort\": \"SLT\"\n",
      "            }, \n",
      "            \"ns2:PresentatieTreinVleugelEindBestemming\": {\n",
      "              \"ns2:Uitingen\": {\n",
      "                \"ns2:Uiting\": \"Rhenen\"\n",
      "              }\n",
      "            }\n",
      "          }, \n",
      "          \"ns2:TreinEindBestemming\": [\n",
      "            {\n",
      "              \"ns2:LangeNaam\": \"Rhenen\", \n",
      "              \"@InfoStatus\": \"Gepland\", \n",
      "              \"ns2:MiddelNaam\": \"Rhenen\", \n",
      "              \"ns2:StationCode\": \"RHN\", \n",
      "              \"ns2:Type\": \"1\", \n",
      "              \"ns2:UICCode\": \"8400517\", \n",
      "              \"ns2:KorteNaam\": \"Rhenen\"\n",
      "            }, \n",
      "            {\n",
      "              \"ns2:LangeNaam\": \"Rhenen\", \n",
      "              \"@InfoStatus\": \"Actueel\", \n",
      "              \"ns2:MiddelNaam\": \"Rhenen\", \n",
      "              \"ns2:StationCode\": \"RHN\", \n",
      "              \"ns2:Type\": \"1\", \n",
      "              \"ns2:UICCode\": \"8400517\", \n",
      "              \"ns2:KorteNaam\": \"Rhenen\"\n",
      "            }\n",
      "          ], \n",
      "          \"ns2:AchterBlijvenAchtersteTreinDeel\": \"N\", \n",
      "          \"ns2:Reserveren\": \"N\", \n",
      "          \"ns2:AfstandPerronEindKopVertrekTrein\": \"0\", \n",
      "          \"ns2:VerkorteRoute\": [\n",
      "            {\n",
      "              \"ns2:Station\": [\n",
      "                {\n",
      "                  \"ns2:LangeNaam\": \"Utrecht Centraal\", \n",
      "                  \"ns2:MiddelNaam\": \"Utrecht C.\", \n",
      "                  \"ns2:StationCode\": \"UT\", \n",
      "                  \"ns2:Type\": \"6\", \n",
      "                  \"ns2:UICCode\": \"8400621\", \n",
      "                  \"ns2:KorteNaam\": \"Utrecht C\"\n",
      "                }, \n",
      "                {\n",
      "                  \"ns2:LangeNaam\": \"Utrecht Vaartsche Rijn\", \n",
      "                  \"ns2:MiddelNaam\": \"Vaartsche Rijn\", \n",
      "                  \"ns2:StationCode\": \"UTVR\", \n",
      "                  \"ns2:Type\": \"1\", \n",
      "                  \"ns2:UICCode\": \"8400606\", \n",
      "                  \"ns2:KorteNaam\": \"VaartscheR\"\n",
      "                }, \n",
      "                {\n",
      "                  \"ns2:LangeNaam\": \"Driebergen-Zeist\", \n",
      "                  \"ns2:MiddelNaam\": \"Driebergen-Zeist\", \n",
      "                  \"ns2:StationCode\": \"DB\", \n",
      "                  \"ns2:Type\": \"1\", \n",
      "                  \"ns2:UICCode\": \"8400182\", \n",
      "                  \"ns2:KorteNaam\": \"Driebergen\"\n",
      "                }, \n",
      "                {\n",
      "                  \"ns2:LangeNaam\": \"Maarn\", \n",
      "                  \"ns2:MiddelNaam\": \"Maarn\", \n",
      "                  \"ns2:StationCode\": \"MRN\", \n",
      "                  \"ns2:Type\": \"1\", \n",
      "                  \"ns2:UICCode\": \"8400417\", \n",
      "                  \"ns2:KorteNaam\": \"Maarn\"\n",
      "                }\n",
      "              ], \n",
      "              \"@InfoStatus\": \"Gepland\"\n",
      "            }, \n",
      "            {\n",
      "              \"ns2:Station\": [\n",
      "                {\n",
      "                  \"ns2:LangeNaam\": \"Utrecht Centraal\", \n",
      "                  \"ns2:MiddelNaam\": \"Utrecht C.\", \n",
      "                  \"ns2:StationCode\": \"UT\", \n",
      "                  \"ns2:Type\": \"6\", \n",
      "                  \"ns2:UICCode\": \"8400621\", \n",
      "                  \"ns2:KorteNaam\": \"Utrecht C\"\n",
      "                }, \n",
      "                {\n",
      "                  \"ns2:LangeNaam\": \"Utrecht Vaartsche Rijn\", \n",
      "                  \"ns2:MiddelNaam\": \"Vaartsche Rijn\", \n",
      "                  \"ns2:StationCode\": \"UTVR\", \n",
      "                  \"ns2:Type\": \"1\", \n",
      "                  \"ns2:UICCode\": \"8400606\", \n",
      "                  \"ns2:KorteNaam\": \"VaartscheR\"\n",
      "                }, \n",
      "                {\n",
      "                  \"ns2:LangeNaam\": \"Driebergen-Zeist\", \n",
      "                  \"ns2:MiddelNaam\": \"Driebergen-Zeist\", \n",
      "                  \"ns2:StationCode\": \"DB\", \n",
      "                  \"ns2:Type\": \"1\", \n",
      "                  \"ns2:UICCode\": \"8400182\", \n",
      "                  \"ns2:KorteNaam\": \"Driebergen\"\n",
      "                }, \n",
      "                {\n",
      "                  \"ns2:LangeNaam\": \"Maarn\", \n",
      "                  \"ns2:MiddelNaam\": \"Maarn\", \n",
      "                  \"ns2:StationCode\": \"MRN\", \n",
      "                  \"ns2:Type\": \"1\", \n",
      "                  \"ns2:UICCode\": \"8400417\", \n",
      "                  \"ns2:KorteNaam\": \"Maarn\"\n",
      "                }\n",
      "              ], \n",
      "              \"@InfoStatus\": \"Actueel\"\n",
      "            }\n",
      "          ], \n",
      "          \"ns2:TreinVertrekSpoor\": [\n",
      "            {\n",
      "              \"@InfoStatus\": \"Gepland\", \n",
      "              \"ns2:SpoorNummer\": \"3\"\n",
      "            }, \n",
      "            {\n",
      "              \"@InfoStatus\": \"Actueel\", \n",
      "              \"ns2:SpoorNummer\": \"3\"\n",
      "            }\n",
      "          ], \n",
      "          \"ns2:Toeslag\": \"N\", \n",
      "          \"ns2:TreinSoort\": {\n",
      "            \"@Code\": \"SPR\", \n",
      "            \"#text\": \"Sprinter\"\n",
      "          }, \n",
      "          \"ns2:TreinFormule\": \"1\", \n",
      "          \"ns2:PresentatieTreinEindBestemming\": {\n",
      "            \"ns2:Uitingen\": {\n",
      "              \"ns2:Uiting\": \"Rhenen\"\n",
      "            }\n",
      "          }, \n",
      "          \"ns2:SpeciaalKaartje\": \"N\", \n",
      "          \"ns2:Vervoerder\": \"NS\", \n",
      "          \"ns2:GedempteVertrekVertraging\": \"PT0S\"\n",
      "        }\n",
      "      }\n",
      "    }, \n",
      "    \"@xmlns:ns2\": \"urn:ndov:cdm:trein:reisinformatie:data:4\"\n",
      "  }\n",
      "}"
     ]
    }
   ],
   "source": [
    "example_departures = client.topics[b'ndovloketnl-departures'].get_simple_consumer(\n",
    "    auto_offset_reset=OffsetType.EARLIEST,\n",
    "    reset_offset_on_start=True\n",
    ").consume()\n",
    "print(json.dumps(json.loads(example_departures.value), indent=2))"
   ]
  },
  {
   "cell_type": "markdown",
   "metadata": {},
   "source": [
    "We can see that the messages have the following structure:\n",
    "\n",
    "```\n",
    "{\n",
    "  'ns1:PutReisInformatieBoodschapIn': {\n",
    "    'ns2:ReisInformatieProductDVS' or 'ns2:ReisInformatieProductDAS': {\n",
    "      'ns2:DynamischeVertrekStaat' or 'ns2:DynamischeAankomstStaat': {\n",
    "          'ns2:RitStation': <station_info>,\n",
    "          'ns2:Trein' or 'ns2:TreinAankomst': {\n",
    "              'ns2:VertrekTijd' or 'ns2:AankomstTijd': [<planned_and_actual_times>],\n",
    "              'ns2:TreinNummer': <train_number>,\n",
    "              'ns2:TreinSoort': <kind_of_train>,\n",
    "              ...\n",
    "          }\n",
    "           \n",
    "      }\n",
    "    }\n",
    "  }\n",
    "}\n",
    "```\n",
    "\n",
    "We can see also that the train stations have a long name `ns2:LangeNaam`, a medium name `ns2:MiddelNaam`, a short name `ns2:KorteNaam`, a station code `ns2:StationCode` and a kind of nummerical ID `ns2:UICCode`. When giving information about times, tracks, direction,... you will find sometimes the information twice with the status `Gepland` (which means planned, according to the schedule) and `Actueel`(which means the actual measured value). "
   ]
  },
  {
   "cell_type": "markdown",
   "metadata": {},
   "source": [
    "**Question III.a. (5/20)** We want to compute the time a train stays at a station and get a real-time histogram for a given time window. To begin with, you need to write some parsing functions that will allow you to get information from the data streams. We have prepare one function `parse_train_dep` for the stream `ndovloketnl-departures`, which returns a Key-Value pair."
   ]
  },
  {
   "cell_type": "code",
   "execution_count": 24,
   "metadata": {
    "scrolled": true
   },
   "outputs": [
    {
     "data": {
      "application/vnd.jupyter.widget-view+json": {
       "model_id": "",
       "version_major": 2,
       "version_minor": 0
      },
      "text/plain": [
       "FloatProgress(value=0.0, bar_style='info', description='Progress:', layout=Layout(height='25px', width='50%'),…"
      ]
     },
     "metadata": {},
     "output_type": "display_data"
    }
   ],
   "source": [
    "import json\n",
    "\n",
    "def parse_train_dep(s):\n",
    "    obj = json.loads(s)\n",
    "    tn = obj.get('ns1:PutReisInformatieBoodschapIn', {}).get('ns2:ReisInformatieProductDVS', {}).get('ns2:DynamischeVertrekStaat', {}).get('ns2:Trein', {}).get(\"ns2:TreinNummer\")\n",
    "    st = obj.get('ns1:PutReisInformatieBoodschapIn', {}).get('ns2:ReisInformatieProductDVS', {}).get('ns2:DynamischeVertrekStaat', {}).get('ns2:RitStation', {}).get(\"ns2:UICCode\")\n",
    "    if tn and st:\n",
    "        return [(\"{}-{}\".format(tn, st), obj)]\n",
    "    else:\n",
    "        return []"
   ]
  },
  {
   "cell_type": "markdown",
   "metadata": {},
   "source": [
    "__Q (1/5)__  Please check the function `parse_train_dep` above. Explain how we construct the Key and the Value, and why we construct them in this way."
   ]
  },
  {
   "cell_type": "markdown",
   "metadata": {},
   "source": [
    "__Answer__: For the key, you selected train number(TreinNummer) and Station Id (UICCode) and combined them such that TreinNummer-UICCode.Value is the object itself. So (Key,Value) is (TreinNummer-UICCode, json_object).\n",
    "For the keys you extracted the value from their nested positions.\n",
    "\n",
    "For example TreinNummer is nested like this:\n",
    "```\n",
    "{'ns1:PutReisInformatieBoodschapIn':\n",
    "                {..\n",
    "                   'ns2:ReisInformatieProductDVS':\n",
    "                       {...\n",
    "                           'ns2:DynamischeVertrekStaat':\n",
    "                               {...\n",
    "                                   'ns2:Trein':\n",
    "                                       {...\n",
    "                                           **\"ns2:TreinNummer\"**:...\n",
    "                                          ...\n",
    "```"
   ]
  },
  {
   "cell_type": "markdown",
   "metadata": {},
   "source": [
    "__Q (2/5)__ Take `parse_train_dep` as an example and write the function `parse_train_arr` for the stream `ndovloketnl-arrivals`. Make sure they have the same output format."
   ]
  },
  {
   "cell_type": "code",
   "execution_count": 25,
   "metadata": {
    "scrolled": true
   },
   "outputs": [
    {
     "data": {
      "application/vnd.jupyter.widget-view+json": {
       "model_id": "",
       "version_major": 2,
       "version_minor": 0
      },
      "text/plain": [
       "FloatProgress(value=0.0, bar_style='info', description='Progress:', layout=Layout(height='25px', width='50%'),…"
      ]
     },
     "metadata": {},
     "output_type": "display_data"
    }
   ],
   "source": [
    "def parse_train_arr(s):\n",
    "    obj = json.loads(s)\n",
    "    tn = obj.get('ns1:PutReisInformatieBoodschapIn', {}).get('ns2:ReisInformatieProductDAS', {}).get('ns2:DynamischeAankomstStaat', {}).get('ns2:TreinAankomst', {}).get(\"ns2:TreinNummer\")\n",
    "    st = obj.get('ns1:PutReisInformatieBoodschapIn', {}).get('ns2:ReisInformatieProductDAS', {}).get('ns2:DynamischeAankomstStaat', {}).get('ns2:RitStation', {}).get(\"ns2:UICCode\")\n",
    "    if tn and st:\n",
    "        return [(\"{}-{}\".format(tn, st), obj)]\n",
    "    else:\n",
    "        return []"
   ]
  },
  {
   "cell_type": "markdown",
   "metadata": {},
   "source": [
    "__Q (2/5)__ Another parsing function you may need is `get_actual_time`, which will allow you to extract the actual time from the fields of time information, which are `ns2:AankomstTijd` in the arrival stream and `ns2:VertrekTijd` in the departure stream. \n",
    "\n",
    "__Note:__ These two fields may be empty and they may not contain the actual time information. In both cases the function should return `None`."
   ]
  },
  {
   "cell_type": "code",
   "execution_count": 36,
   "metadata": {
    "scrolled": true
   },
   "outputs": [
    {
     "data": {
      "application/vnd.jupyter.widget-view+json": {
       "model_id": "",
       "version_major": 2,
       "version_minor": 0
      },
      "text/plain": [
       "FloatProgress(value=0.0, bar_style='info', description='Progress:', layout=Layout(height='25px', width='50%'),…"
      ]
     },
     "metadata": {},
     "output_type": "display_data"
    }
   ],
   "source": [
    "import datetime\n",
    "def get_actual_time(tab):\n",
    "    for t in tab:\n",
    "        try:\n",
    "            if t[\"@InfoStatus\"] == \"Actueel\":\n",
    "                #Remove milliseconds and Z([:-5]) then convert to datetime object\n",
    "                at = datetime.datetime.strptime(t[\"#text\"][:-5], \"%Y-%m-%dT%H:%M:%S\") \n",
    "                return at\n",
    "        except:\n",
    "            return None\n",
    "        \n",
    "#Create function to seperate arrival and departure, since their field names are diffe\n",
    "def get_actual_time_helper(s,t):\n",
    "    js = json.loads(s)\n",
    "    if t == \"departures\":\n",
    "        tab  = js.get('ns1:PutReisInformatieBoodschapIn', {}).get(\"ns2:ReisInformatieProductDVS\", {}).get(\"ns2:DynamischeVertrekStaat\", {}).get(\"ns2:Trein\", {}).get(\"ns2:VertrekTijd\",{})\n",
    "    else:\n",
    "        tab  = js.get('ns1:PutReisInformatieBoodschapIn', {}).get(\"ns2:ReisInformatieProductDAS\", {}).get(\"ns2:DynamischeAankomstStaat\", {}).get(\"ns2:TreinAankomst\", {}).get(\"ns2:AankomstTijd\",{})\n",
    "\n",
    "    return get_actual_time(tab)"
   ]
  },
  {
   "cell_type": "code",
   "execution_count": 37,
   "metadata": {},
   "outputs": [
    {
     "data": {
      "application/vnd.jupyter.widget-view+json": {
       "model_id": "",
       "version_major": 2,
       "version_minor": 0
      },
      "text/plain": [
       "FloatProgress(value=0.0, bar_style='info', description='Progress:', layout=Layout(height='25px', width='50%'),…"
      ]
     },
     "metadata": {},
     "output_type": "display_data"
    }
   ],
   "source": [
    "# Get the field of time in the departure stream\n",
    "example_json = json.loads(example_departures.value)\n",
    "tab = example_json.get('ns1:PutReisInformatieBoodschapIn', {}).get(\"ns2:ReisInformatieProductDVS\", {}).get(\"ns2:DynamischeVertrekStaat\", {}).get(\"ns2:Trein\", {}).get(\"ns2:VertrekTijd\",{})"
   ]
  },
  {
   "cell_type": "code",
   "execution_count": 38,
   "metadata": {},
   "outputs": [
    {
     "data": {
      "application/vnd.jupyter.widget-view+json": {
       "model_id": "",
       "version_major": 2,
       "version_minor": 0
      },
      "text/plain": [
       "FloatProgress(value=0.0, bar_style='info', description='Progress:', layout=Layout(height='25px', width='50%'),…"
      ]
     },
     "metadata": {},
     "output_type": "display_data"
    },
    {
     "name": "stdout",
     "output_type": "stream",
     "text": [
      "datetime.datetime(2020, 4, 23, 15, 32)"
     ]
    }
   ],
   "source": [
    "# Example results from `get_actual_time`\n",
    "get_actual_time(tab)"
   ]
  },
  {
   "cell_type": "markdown",
   "metadata": {},
   "source": [
    "**Question III.b. (5/20)** Create two Spark streams from the arrivals and departures where the records are in the form (Key, Value) using `parse_train_dep` and  `parse_train_arr`. "
   ]
  },
  {
   "cell_type": "code",
   "execution_count": 48,
   "metadata": {
    "scrolled": true
   },
   "outputs": [
    {
     "data": {
      "application/vnd.jupyter.widget-view+json": {
       "model_id": "",
       "version_major": 2,
       "version_minor": 0
      },
      "text/plain": [
       "FloatProgress(value=0.0, bar_style='info', description='Progress:', layout=Layout(height='25px', width='50%'),…"
      ]
     },
     "metadata": {},
     "output_type": "display_data"
    }
   ],
   "source": [
    "from pyspark.streaming import StreamingContext\n",
    "from pyspark.streaming.kafka import KafkaUtils\n",
    "\n",
    "# recreate the streaming context\n",
    "ssc = StreamingContext(sc, 20)\n",
    "ssc.checkpoint(checkpoint)\n",
    "\n",
    "group_id = 'ns-{0}'.format(username)\n",
    "\n",
    "# Input streams\n",
    "arrival_stream = KafkaUtils.createStream(ssc, ZOOKEEPER_QUORUM, group_id, { 'ndovloketnl-arrivals': 1})\n",
    "departure_stream = KafkaUtils.createStream(ssc, ZOOKEEPER_QUORUM, group_id, { 'ndovloketnl-departures': 1})"
   ]
  },
  {
   "cell_type": "markdown",
   "metadata": {},
   "source": [
    "**parse_train_arr** and **parse_train_dep** functions already create key value pairs, however since we know we will be only using arrival/departure time in the next steps there is no need to collect other information."
   ]
  },
  {
   "cell_type": "code",
   "execution_count": 49,
   "metadata": {},
   "outputs": [
    {
     "data": {
      "application/vnd.jupyter.widget-view+json": {
       "model_id": "",
       "version_major": 2,
       "version_minor": 0
      },
      "text/plain": [
       "FloatProgress(value=0.0, bar_style='info', description='Progress:', layout=Layout(height='25px', width='50%'),…"
      ]
     },
     "metadata": {},
     "output_type": "display_data"
    }
   ],
   "source": [
    "#Since in the future we will need arrival/departure times we are collecting this info here instead of having value of all information\n",
    "\n",
    "\n",
    "# So that we have a (K,V) where K is the TrainNumber-StationNumber and Value is the arrival/departure time\n",
    "arrival_stream_m = arrival_stream.map(lambda x :(parse_train_arr(x[1])[0][0],get_actual_time_helper(x[1],\"arrival\")))\n",
    "\n",
    "departure_stream_m = departure_stream.map(lambda x :(parse_train_dep(x[1])[0][0],get_actual_time_helper(x[1],\"departures\")))\n"
   ]
  },
  {
   "cell_type": "markdown",
   "metadata": {},
   "source": [
    "If we wanted to create (K,V) s.t. Key is  TrainNumber-StationNumber and Value is the all relevat information we could use these:\n",
    "\n",
    "arrival_stream_m = arrival_stream.map(lambda x :(parse_train_arr(x[1])[0])\n",
    "\n",
    "departure_stream_m = departure_stream.map(lambda x :(parse_train_dep(x[1])[0]))\n",
    "\n",
    "However, we won't need all of the information."
   ]
  },
  {
   "cell_type": "markdown",
   "metadata": {},
   "source": [
    "**Question III.c. (5/20)** \n",
    "Every 20 seconds, we want to have a list of trains that had departed from any train station after staying for 5 minutes or less at the station. Apply a window of 20s sliding interval on arrival and departure streams. Join two streams such that trains staying for 5 minutes or less (± 20 seconds error due to sliding interval) at any station are caught by the join in the RDD window of the joined stream (you can ignore late messages). \n",
    "\n",
    "__Hint:__\n",
    "- Check [here](https://spark.apache.org/docs/2.3.1/streaming-programming-guide.html#window-operations) for windowed computations in Spark Streaming.\n",
    "- Use the methods [reduceByKeyAndWindow](https://spark.apache.org/docs/2.3.1/api/python/pyspark.streaming.html?highlight=reducebykey#pyspark.streaming.DStream.reduceByKeyAndWindow) and [join](https://spark.apache.org/docs/2.3.1/api/python/pyspark.streaming.html?highlight=reducebykey#pyspark.streaming.DStream.join) on DStream objects.\n",
    "- Both windows should have `slideDuration` of 20s\n",
    "- You have to pick the sizes of windows `windowDuration` carefully. The sizes can be different: \n",
    "    - The trains staying for 5 minutes or less (± 20 seconds error due to sliding interval) must be in the joined stream.\n",
    "    - A same stay (i.e. one train at one station) is caught in the joined stream once and only once."
   ]
  },
  {
   "cell_type": "code",
   "execution_count": 50,
   "metadata": {
    "scrolled": true
   },
   "outputs": [
    {
     "data": {
      "application/vnd.jupyter.widget-view+json": {
       "model_id": "",
       "version_major": 2,
       "version_minor": 0
      },
      "text/plain": [
       "FloatProgress(value=0.0, bar_style='info', description='Progress:', layout=Layout(height='25px', width='50%'),…"
      ]
     },
     "metadata": {},
     "output_type": "display_data"
    }
   ],
   "source": [
    "#create arrival and departure stream, reducebykey so we have only one train for each window\n",
    "#We are looking for trains arrived in last 60*5(300) seconds and departing now\n",
    "arrival_stream_windowr = arrival_stream_m.reduceByKeyAndWindow(lambda x,y:x,300, 20)\n",
    "departure_stream_windowr = departure_stream_m.reduceByKeyAndWindow(lambda x,y:x,20, 20)\n",
    "\n",
    "#join them so that we have such rows : (Key,(arrival time,departure time)) \n",
    "joinedstream = arrival_stream_windowr.join(departure_stream_windowr)\n",
    "\n"
   ]
  },
  {
   "cell_type": "markdown",
   "metadata": {},
   "source": [
    "**Question III.d. (5/20)** On the joined stream, compute the length of each stay (you can round to the minute) and produce a stream of histograms. You don't need to plot them, a value/count array is enough, like:\n",
    "```\n",
    "-------------------------------------------\n",
    "Time: 2018-05-17 11:10:00\n",
    "-------------------------------------------\n",
    "(0.0, 110)\n",
    "(8.0, 2)\n",
    "(4.0, 3)\n",
    "\n",
    "-------------------------------------------\n",
    "Time: 2018-05-17 11:10:20\n",
    "-------------------------------------------\n",
    "(0.0, 46)\n",
    "(4.0, 2)\n",
    "(1.0, 5)\n",
    "```"
   ]
  },
  {
   "cell_type": "markdown",
   "metadata": {},
   "source": [
    "**Calculate Stay Time**\n",
    "Now let's calculate the length of stays in min.\n",
    "Note that our arrival/departure rdds are in form of (Key,Arrival/Departure time), joined rdd is in the form of row = (Key,(Arrival Time, Departure Time)).\n",
    "So (row[1][1] - row[1][0]).total_seconds() would give us stay time in seconds, if we divide it by 60 and then round it we would obtain rounded stay time in minutes."
   ]
  },
  {
   "cell_type": "code",
   "execution_count": 42,
   "metadata": {
    "scrolled": true
   },
   "outputs": [
    {
     "data": {
      "application/vnd.jupyter.widget-view+json": {
       "model_id": "",
       "version_major": 2,
       "version_minor": 0
      },
      "text/plain": [
       "FloatProgress(value=0.0, bar_style='info', description='Progress:', layout=Layout(height='25px', width='50%'),…"
      ]
     },
     "metadata": {},
     "output_type": "display_data"
    }
   ],
   "source": [
    "\n",
    "import math\n",
    "def stay_min(x):\n",
    "    #Subtract departure time from arrival time and round\n",
    "    return round((x[1][1] - x[1][0]).total_seconds()/60)\n",
    "\n",
    "staystream = joinedstream.map(lambda x:(x[0],stay_min(x)))\n",
    "#Count values\n",
    "histograms_stream = staystream.map(lambda x : x[1]).countByValue()\n",
    "histograms_stream.pprint()\n"
   ]
  },
  {
   "cell_type": "code",
   "execution_count": 43,
   "metadata": {
    "scrolled": true
   },
   "outputs": [
    {
     "data": {
      "application/vnd.jupyter.widget-view+json": {
       "model_id": "",
       "version_major": 2,
       "version_minor": 0
      },
      "text/plain": [
       "FloatProgress(value=0.0, bar_style='info', description='Progress:', layout=Layout(height='25px', width='50%'),…"
      ]
     },
     "metadata": {},
     "output_type": "display_data"
    }
   ],
   "source": [
    "ssc.start() \n",
    "ssc.awaitTermination(timeout=60)"
   ]
  },
  {
   "cell_type": "markdown",
   "metadata": {},
   "source": [
    "Here is the Histogram of stays in min. For 60 seconds with 20 second windows."
   ]
  },
  {
   "cell_type": "code",
   "execution_count": 44,
   "metadata": {
    "scrolled": true
   },
   "outputs": [
    {
     "data": {
      "application/vnd.jupyter.widget-view+json": {
       "model_id": "",
       "version_major": 2,
       "version_minor": 0
      },
      "text/plain": [
       "FloatProgress(value=0.0, bar_style='info', description='Progress:', layout=Layout(height='25px', width='50%'),…"
      ]
     },
     "metadata": {},
     "output_type": "display_data"
    },
    {
     "name": "stdout",
     "output_type": "stream",
     "text": [
      "-------------------------------------------\n",
      "Time: 2020-05-13 12:58:20\n",
      "-------------------------------------------\n",
      "(0.0, 286)\n",
      "(2.0, 32)\n",
      "(4.0, 5)\n",
      "(6.0, 3)\n",
      "(8.0, 1)\n",
      "(12.0, 1)\n",
      "(1.0, 61)\n",
      "(3.0, 7)\n",
      "(5.0, 5)\n",
      "\n",
      "-------------------------------------------\n",
      "Time: 2020-05-13 12:58:40\n",
      "-------------------------------------------\n",
      "(0.0, 16)\n",
      "(2.0, 2)\n",
      "(1.0, 8)\n",
      "(5.0, 1)\n",
      "\n",
      "-------------------------------------------\n",
      "Time: 2020-05-13 12:59:00\n",
      "-------------------------------------------\n",
      "(0.0, 16)\n",
      "(2.0, 2)\n",
      "(1.0, 2)\n",
      "(7.0, 1)\n",
      "\n",
      "-------------------------------------------\n",
      "Time: 2020-05-13 12:59:20\n",
      "-------------------------------------------\n",
      "(0.0, 47)\n",
      "(2.0, 2)\n",
      "(4.0, 1)\n",
      "(10.0, 1)\n",
      "(1.0, 9)\n",
      "(3.0, 1)\n",
      "(5.0, 1)\n",
      "\n",
      "-------------------------------------------\n",
      "Time: 2020-05-13 12:59:40\n",
      "-------------------------------------------\n",
      "\n",
      "-------------------------------------------\n",
      "Time: 2020-05-13 13:00:00\n",
      "-------------------------------------------\n",
      "\n",
      "-------------------------------------------\n",
      "Time: 2020-05-13 13:00:20\n",
      "-------------------------------------------\n",
      "\n",
      "-------------------------------------------\n",
      "Time: 2020-05-13 13:00:40\n",
      "-------------------------------------------\n",
      "\n",
      "-------------------------------------------\n",
      "Time: 2020-05-13 13:01:00\n",
      "-------------------------------------------\n",
      "\n",
      "-------------------------------------------\n",
      "Time: 2020-05-13 13:01:20\n",
      "-------------------------------------------\n",
      "\n",
      "-------------------------------------------\n",
      "Time: 2020-05-13 13:01:40\n",
      "-------------------------------------------\n",
      "\n",
      "-------------------------------------------\n",
      "Time: 2020-05-13 13:02:00\n",
      "-------------------------------------------\n",
      "\n",
      "-------------------------------------------\n",
      "Time: 2020-05-13 13:02:20\n",
      "-------------------------------------------\n",
      "\n",
      "-------------------------------------------\n",
      "Time: 2020-05-13 13:02:40\n",
      "-------------------------------------------\n",
      "\n",
      "-------------------------------------------\n",
      "Time: 2020-05-13 13:03:00\n",
      "-------------------------------------------\n",
      "\n",
      "-------------------------------------------\n",
      "Time: 2020-05-13 13:03:20\n",
      "-------------------------------------------"
     ]
    }
   ],
   "source": [
    "ssc.stop(stopSparkContext=False, stopGraceFully=True)"
   ]
  }
 ],
 "metadata": {
  "kernelspec": {
   "display_name": "PySpark",
   "language": "",
   "name": "pysparkkernel"
  },
  "language_info": {
   "codemirror_mode": {
    "name": "python",
    "version": 3
   },
   "mimetype": "text/x-python",
   "name": "pyspark",
   "pygments_lexer": "python3"
  }
 },
 "nbformat": 4,
 "nbformat_minor": 4
}
