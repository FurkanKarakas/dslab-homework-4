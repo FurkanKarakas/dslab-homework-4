{
 "cells": [
  {
   "cell_type": "markdown",
   "metadata": {},
   "source": [
    "# Homework 4 - More trains (Part III)\n",
    "\n",
    "__Hand-in:__\n",
    "\n",
    "- __Due: 12.05.2020 23:59:59 CET__\n",
    "- `git push` your final verion to your group's Renku repository before the due\n",
    "- check if `Dockerfile`, `environment.yml` and `requirements.txt` are properly written\n",
    "- add necessary comments and discussion to make your codes readable\n",
    "\n",
    "For this homework, you will be working with the real-time streams of the NS, the train company of the Netherlands. You can see an example webpage that uses the same streams to display the train information on a map: https://spoorkaart.mwnn.nl/ . \n",
    "\n",
    "To help you and avoid having too many connections to the NS streaming servers, we have setup a service that collects the streams and pushes them to our Kafka instance. The related topics are: \n",
    "\n",
    "`ndovloketnl-arrivals`: For each arrival of a train in a station, describe the previous and next station, time of arrival (planned and actual), track number,...\n",
    "\n",
    "`ndovloketnl-departures`: For each departure of a train from a station, describe the previous and next station, time of departure (planned and actual), track number,...\n",
    "\n",
    "`ndovloketnl-gps`: For each train, describe the current location, speed, bearing.\n",
    "\n",
    "The events are serialized in JSON (actually converted from XML), with properties in their original language. Google translate could help you understand all of them, but we will provide you with some useful mappings."
   ]
  },
  {
   "cell_type": "markdown",
   "metadata": {},
   "source": [
    "---\n",
    "## Set up environment\n",
    "\n",
    "Run the following cells below before running the other cells of this notebook. Run them whenever you need to recreate a Spark context. Pay particular attention to your `username` settings, and make sure that it is properly set to your user name, both locally and on the remote Spark Driver.\n",
    "\n",
    "Configure your spark settings:\n",
    "1. name your spark application as `\"YOUR_GASPAR_homework_4\"`.\n",
    "2. make the required kafka jars available on the remote Spark driver.\n",
    "\n",
    "<div class=\"alert alert-block alert-warning\"><b>Any application without a proper name would be promptly killed.</b></div>"
   ]
  },
  {
   "cell_type": "code",
   "execution_count": 1,
   "metadata": {},
   "outputs": [
    {
     "data": {
      "text/html": [
       "Current session configs: <tt>{'conf': {'spark.app.name': 'boecuego_homework_4', 'spark.jars.packages': 'org.apache.spark:spark-streaming-kafka-0-8_2.11:2.3.1,org.apache.kafka:kafka_2.11:1.0.1'}, 'kind': 'pyspark'}</tt><br>"
      ],
      "text/plain": [
       "<IPython.core.display.HTML object>"
      ]
     },
     "metadata": {},
     "output_type": "display_data"
    },
    {
     "data": {
      "text/html": [
       "<table>\n",
       "<tr><th>ID</th><th>YARN Application ID</th><th>Kind</th><th>State</th><th>Spark UI</th><th>Driver log</th><th>Current session?</th></tr><tr><td>4013</td><td>application_1587988164357_0632</td><td>pyspark</td><td>idle</td><td><a target=\"_blank\" href=\"http://iccluster044.iccluster.epfl.ch:8088/proxy/application_1587988164357_0632/\">Link</a></td><td><a target=\"_blank\" href=\"http://iccluster068.iccluster.epfl.ch:8042/node/containerlogs/container_e05_1587988164357_0632_01_000001/ebouille\">Link</a></td><td></td></tr><tr><td>4014</td><td>application_1587988164357_0633</td><td>pyspark</td><td>idle</td><td><a target=\"_blank\" href=\"http://iccluster044.iccluster.epfl.ch:8088/proxy/application_1587988164357_0633/\">Link</a></td><td><a target=\"_blank\" href=\"http://iccluster071.iccluster.epfl.ch:8042/node/containerlogs/container_e05_1587988164357_0633_01_000001/ebouille\">Link</a></td><td></td></tr><tr><td>4015</td><td>application_1587988164357_0634</td><td>pyspark</td><td>idle</td><td><a target=\"_blank\" href=\"http://iccluster044.iccluster.epfl.ch:8088/proxy/application_1587988164357_0634/\">Link</a></td><td><a target=\"_blank\" href=\"http://iccluster070.iccluster.epfl.ch:8042/node/containerlogs/container_e05_1587988164357_0634_01_000001/ebouille\">Link</a></td><td></td></tr><tr><td>4016</td><td>application_1587988164357_0635</td><td>pyspark</td><td>idle</td><td><a target=\"_blank\" href=\"http://iccluster044.iccluster.epfl.ch:8088/proxy/application_1587988164357_0635/\">Link</a></td><td><a target=\"_blank\" href=\"http://iccluster070.iccluster.epfl.ch:8042/node/containerlogs/container_e05_1587988164357_0635_01_000001/ebouille\">Link</a></td><td></td></tr></table>"
      ],
      "text/plain": [
       "<IPython.core.display.HTML object>"
      ]
     },
     "metadata": {},
     "output_type": "display_data"
    }
   ],
   "source": [
    "%%configure\n",
    "{\"conf\": {\n",
    "    \"spark.app.name\": \"boecuego_homework_4\",\n",
    "    \"spark.jars.packages\": \"org.apache.spark:spark-streaming-kafka-0-8_2.11:2.3.1,org.apache.kafka:kafka_2.11:1.0.1\"\n",
    "}}"
   ]
  },
  {
   "cell_type": "markdown",
   "metadata": {},
   "source": [
    "Create a new session unless one was already created above (check for `✔` in current session)"
   ]
  },
  {
   "cell_type": "code",
   "execution_count": 2,
   "metadata": {},
   "outputs": [
    {
     "name": "stdout",
     "output_type": "stream",
     "text": [
      "Starting Spark application\n"
     ]
    },
    {
     "data": {
      "text/html": [
       "<table>\n",
       "<tr><th>ID</th><th>YARN Application ID</th><th>Kind</th><th>State</th><th>Spark UI</th><th>Driver log</th><th>Current session?</th></tr><tr><td>4017</td><td>application_1587988164357_0636</td><td>pyspark</td><td>idle</td><td><a target=\"_blank\" href=\"http://iccluster044.iccluster.epfl.ch:8088/proxy/application_1587988164357_0636/\">Link</a></td><td><a target=\"_blank\" href=\"http://iccluster068.iccluster.epfl.ch:8042/node/containerlogs/container_e05_1587988164357_0636_01_000001/ebouille\">Link</a></td><td>✔</td></tr></table>"
      ],
      "text/plain": [
       "<IPython.core.display.HTML object>"
      ]
     },
     "metadata": {},
     "output_type": "display_data"
    },
    {
     "data": {
      "application/vnd.jupyter.widget-view+json": {
       "model_id": "",
       "version_major": 2,
       "version_minor": 0
      },
      "text/plain": [
       "FloatProgress(value=0.0, bar_style='info', description='Progress:', layout=Layout(height='25px', width='50%'),…"
      ]
     },
     "metadata": {},
     "output_type": "display_data"
    },
    {
     "name": "stdout",
     "output_type": "stream",
     "text": [
      "SparkSession available as 'spark'.\n"
     ]
    },
    {
     "data": {
      "application/vnd.jupyter.widget-view+json": {
       "model_id": "",
       "version_major": 2,
       "version_minor": 0
      },
      "text/plain": [
       "FloatProgress(value=0.0, bar_style='info', description='Progress:', layout=Layout(height='25px', width='50%'),…"
      ]
     },
     "metadata": {},
     "output_type": "display_data"
    }
   ],
   "source": [
    "# Initialize spark application"
   ]
  },
  {
   "cell_type": "markdown",
   "metadata": {},
   "source": [
    "Set `username` to your GASPAR both locally and on the Spark driver."
   ]
  },
  {
   "cell_type": "code",
   "execution_count": 3,
   "metadata": {},
   "outputs": [],
   "source": [
    "%%local\n",
    "import os\n",
    "username = os.environ['JUPYTERHUB_USER']"
   ]
  },
  {
   "cell_type": "code",
   "execution_count": 4,
   "metadata": {},
   "outputs": [
    {
     "data": {
      "application/vnd.jupyter.widget-view+json": {
       "model_id": "",
       "version_major": 2,
       "version_minor": 0
      },
      "text/plain": [
       "FloatProgress(value=0.0, bar_style='info', description='Progress:', layout=Layout(height='25px', width='50%'),…"
      ]
     },
     "metadata": {},
     "output_type": "display_data"
    },
    {
     "name": "stdout",
     "output_type": "stream",
     "text": [
      "Successfully passed 'username' as 'username' to Spark kernel"
     ]
    }
   ],
   "source": [
    "%%send_to_spark -i username -t str -n username"
   ]
  },
  {
   "cell_type": "code",
   "execution_count": 5,
   "metadata": {},
   "outputs": [
    {
     "data": {
      "application/vnd.jupyter.widget-view+json": {
       "model_id": "",
       "version_major": 2,
       "version_minor": 0
      },
      "text/plain": [
       "FloatProgress(value=0.0, bar_style='info', description='Progress:', layout=Layout(height='25px', width='50%'),…"
      ]
     },
     "metadata": {},
     "output_type": "display_data"
    },
    {
     "name": "stdout",
     "output_type": "stream",
     "text": [
      "'boecuego'"
     ]
    }
   ],
   "source": [
    "username"
   ]
  },
  {
   "cell_type": "markdown",
   "metadata": {},
   "source": [
    "---"
   ]
  },
  {
   "cell_type": "markdown",
   "metadata": {},
   "source": [
    "## Create a Kafka client"
   ]
  },
  {
   "cell_type": "code",
   "execution_count": 6,
   "metadata": {
    "scrolled": true
   },
   "outputs": [
    {
     "data": {
      "application/vnd.jupyter.widget-view+json": {
       "model_id": "",
       "version_major": 2,
       "version_minor": 0
      },
      "text/plain": [
       "FloatProgress(value=0.0, bar_style='info', description='Progress:', layout=Layout(height='25px', width='50%'),…"
      ]
     },
     "metadata": {},
     "output_type": "display_data"
    }
   ],
   "source": [
    "from pykafka import KafkaClient\n",
    "from pykafka.common import OffsetType\n",
    "\n",
    "ZOOKEEPER_QUORUM = 'iccluster044.iccluster.epfl.ch:2181,'\\\n",
    "                   'iccluster054.iccluster.epfl.ch:2181,'\\\n",
    "                   'iccluster059.iccluster.epfl.ch:2181'\n",
    "\n",
    "client = KafkaClient(zookeeper_hosts=ZOOKEEPER_QUORUM)"
   ]
  },
  {
   "cell_type": "markdown",
   "metadata": {},
   "source": [
    "## Streams from Kafka"
   ]
  },
  {
   "cell_type": "code",
   "execution_count": 7,
   "metadata": {
    "scrolled": true
   },
   "outputs": [
    {
     "data": {
      "application/vnd.jupyter.widget-view+json": {
       "model_id": "",
       "version_major": 2,
       "version_minor": 0
      },
      "text/plain": [
       "FloatProgress(value=0.0, bar_style='info', description='Progress:', layout=Layout(height='25px', width='50%'),…"
      ]
     },
     "metadata": {},
     "output_type": "display_data"
    },
    {
     "name": "stdout",
     "output_type": "stream",
     "text": [
      "checkpoint created at hdfs:///user/boecuego/checkpoint/"
     ]
    }
   ],
   "source": [
    "# Define the checkpoint folder\n",
    "checkpoint = 'hdfs:///user/{}/checkpoint/'.format(username)\n",
    "print('checkpoint created at hdfs:///user/{}/checkpoint/'.format(username))"
   ]
  },
  {
   "cell_type": "code",
   "execution_count": 8,
   "metadata": {
    "scrolled": true
   },
   "outputs": [
    {
     "data": {
      "application/vnd.jupyter.widget-view+json": {
       "model_id": "",
       "version_major": 2,
       "version_minor": 0
      },
      "text/plain": [
       "FloatProgress(value=0.0, bar_style='info', description='Progress:', layout=Layout(height='25px', width='50%'),…"
      ]
     },
     "metadata": {},
     "output_type": "display_data"
    }
   ],
   "source": [
    "from pyspark.streaming import StreamingContext\n",
    "from pyspark.streaming.kafka import KafkaUtils\n",
    "\n",
    "# Create a StreamingContext with two working thread and batch interval of 10 seconds.\n",
    "# Each time you stop a StreamingContext, you will need to recreate it.\n",
    "ssc = StreamingContext(sc, 10)\n",
    "ssc.checkpoint(checkpoint)\n",
    "\n",
    "group_id = 'ns-{0}'.format(username)\n",
    "\n",
    "# Input streams\n",
    "arrival_stream = KafkaUtils.createStream(ssc, ZOOKEEPER_QUORUM, group_id, { 'ndovloketnl-arrivals': 1})\n",
    "departure_stream = KafkaUtils.createStream(ssc, ZOOKEEPER_QUORUM, group_id, { 'ndovloketnl-departures': 1})"
   ]
  },
  {
   "cell_type": "markdown",
   "metadata": {},
   "source": [
    "For now, let's just print the content of the streams. Note: the output may be shown after you run `ssc.stop`."
   ]
  },
  {
   "cell_type": "code",
   "execution_count": 9,
   "metadata": {
    "scrolled": true
   },
   "outputs": [
    {
     "data": {
      "application/vnd.jupyter.widget-view+json": {
       "model_id": "",
       "version_major": 2,
       "version_minor": 0
      },
      "text/plain": [
       "FloatProgress(value=0.0, bar_style='info', description='Progress:', layout=Layout(height='25px', width='50%'),…"
      ]
     },
     "metadata": {},
     "output_type": "display_data"
    }
   ],
   "source": [
    "arrival_stream.pprint()\n",
    "departure_stream.pprint()\n",
    "\n",
    "ssc.start()\n",
    "ssc.awaitTermination(timeout=10)"
   ]
  },
  {
   "cell_type": "code",
   "execution_count": 10,
   "metadata": {
    "scrolled": true
   },
   "outputs": [
    {
     "data": {
      "application/vnd.jupyter.widget-view+json": {
       "model_id": "",
       "version_major": 2,
       "version_minor": 0
      },
      "text/plain": [
       "FloatProgress(value=0.0, bar_style='info', description='Progress:', layout=Layout(height='25px', width='50%'),…"
      ]
     },
     "metadata": {},
     "output_type": "display_data"
    },
    {
     "name": "stdout",
     "output_type": "stream",
     "text": [
      "-------------------------------------------\n",
      "Time: 2020-05-04 12:27:10\n",
      "-------------------------------------------\n",
      "(None, u'{\"ns1:PutReisInformatieBoodschapIn\": {\"@xmlns:ns1\": \"urn:ndov:cdm:trein:reisinformatie:messages:dynamischeaankomststaat:1\", \"@xmlns:ns2\": \"urn:ndov:cdm:trein:reisinformatie:data:4\", \"ns2:ReisInformatieProductDAS\": {\"@TimeStamp\": \"2020-05-04T03:19:04.672Z\", \"@Versie\": \"6.1\", \"ns2:RIPAdministratie\": {\"ns2:ReisInformatieProductID\": \"2005040519042500007\", \"ns2:AbonnementId\": \"55\", \"ns2:ReisInformatieTijdstip\": \"2020-05-04T03:43:00.000Z\"}, \"ns2:DynamischeAankomstStaat\": {\"ns2:RitId\": \"4308\", \"ns2:RitDatum\": \"2020-05-04\", \"ns2:RitStation\": {\"ns2:StationCode\": \"SHL\", \"ns2:Type\": \"6\", \"ns2:KorteNaam\": \"Schiphol\", \"ns2:MiddelNaam\": \"Schiphol Airport\", \"ns2:LangeNaam\": \"Schiphol Airport\", \"ns2:UICCode\": \"8400561\"}, \"ns2:TreinAankomst\": {\"ns2:TreinNummer\": \"4308\", \"ns2:TreinSoort\": {\"@Code\": \"SPR\", \"#text\": \"Sprinter\"}, \"ns2:TreinStatus\": \"0\", \"ns2:Vervoerder\": \"NS\", \"ns2:TreinHerkomst\": [{\"@InfoStatus\": \"Gepland\", \"ns2:StationCode\": \"LLS\", \"ns2:Type\": \"5\", \"ns2:KorteNaam\": \"Lelystad C\", \"ns2:MiddelNaam\": \"Lelystad C.\", \"ns2:LangeNaam\": \"Lelystad Centrum\", \"ns2:UICCode\": \"8400394\"}, {\"@InfoStatus\": \"Actueel\", \"ns2:StationCode\": \"LLS\", \"ns2:Type\": \"5\", \"ns2:KorteNaam\": \"Lelystad C\", \"ns2:MiddelNaam\": \"Lelystad C.\", \"ns2:LangeNaam\": \"Lelystad Centrum\", \"ns2:UICCode\": \"8400394\"}], \"ns2:PresentatieTreinHerkomst\": {\"ns2:Uitingen\": {\"ns2:Uiting\": \"Lelystad C.\"}}, \"ns2:AankomstTijd\": [{\"@InfoStatus\": \"Gepland\", \"#text\": \"2020-05-04T03:43:00.000Z\"}, {\"@InfoStatus\": \"Actueel\", \"#text\": \"2020-05-04T03:43:00.000Z\"}], \"ns2:ExacteAankomstVertraging\": \"PT0S\", \"ns2:GedempteAankomstVertraging\": \"PT0S\", \"ns2:TreinAankomstSpoor\": [{\"@InfoStatus\": \"Gepland\", \"ns2:SpoorNummer\": \"4\"}, {\"@InfoStatus\": \"Actueel\", \"ns2:SpoorNummer\": \"4\"}], \"ns2:PresentatieTreinAankomstSpoor\": {\"ns2:Uitingen\": {\"ns2:Uiting\": \"4\"}}, \"ns2:VerkorteRouteHerkomst\": [{\"@InfoStatus\": \"Gepland\", \"ns2:Station\": [{\"ns2:StationCode\": \"ALM\", \"ns2:Type\": \"5\", \"ns2:KorteNaam\": \"Almere C\", \"ns2:MiddelNaam\": \"Almere C.\", \"ns2:LangeNaam\": \"Almere Centrum\", \"ns2:UICCode\": \"8400080\"}, {\"ns2:StationCode\": \"WP\", \"ns2:Type\": \"1\", \"ns2:KorteNaam\": \"Weesp\", \"ns2:MiddelNaam\": \"Weesp\", \"ns2:LangeNaam\": \"Weesp\", \"ns2:UICCode\": \"8400685\"}, {\"ns2:StationCode\": \"DVD\", \"ns2:Type\": \"1\", \"ns2:KorteNaam\": \"Duivendrt\", \"ns2:MiddelNaam\": \"Duivendrecht\", \"ns2:LangeNaam\": \"Duivendrecht\", \"ns2:UICCode\": \"8400194\"}]}, {\"@InfoStatus\": \"Actueel\", \"ns2:Station\": [{\"ns2:StationCode\": \"ALM\", \"ns2:Type\": \"5\", \"ns2:KorteNaam\": \"Almere C\", \"ns2:MiddelNaam\": \"Almere C.\", \"ns2:LangeNaam\": \"Almere Centrum\", \"ns2:UICCode\": \"8400080\"}, {\"ns2:StationCode\": \"WP\", \"ns2:Type\": \"1\", \"ns2:KorteNaam\": \"Weesp\", \"ns2:MiddelNaam\": \"Weesp\", \"ns2:LangeNaam\": \"Weesp\", \"ns2:UICCode\": \"8400685\"}, {\"ns2:StationCode\": \"DVD\", \"ns2:Type\": \"1\", \"ns2:KorteNaam\": \"Duivendrt\", \"ns2:MiddelNaam\": \"Duivendrecht\", \"ns2:LangeNaam\": \"Duivendrecht\", \"ns2:UICCode\": \"8400194\"}]}], \"ns2:PresentatieVerkorteRouteHerkomst\": {\"ns2:Uitingen\": {\"ns2:Uiting\": \"Almere C., Weesp, Duivendrecht\"}}}}}}}')\n",
      "(None, u'{\"ns1:PutReisInformatieBoodschapIn\": {\"@xmlns:ns1\": \"urn:ndov:cdm:trein:reisinformatie:messages:dynamischeaankomststaat:1\", \"@xmlns:ns2\": \"urn:ndov:cdm:trein:reisinformatie:data:4\", \"ns2:ReisInformatieProductDAS\": {\"@TimeStamp\": \"2020-05-04T03:19:04.677Z\", \"@Versie\": \"6.1\", \"ns2:RIPAdministratie\": {\"ns2:ReisInformatieProductID\": \"2005040519042500008\", \"ns2:AbonnementId\": \"55\", \"ns2:ReisInformatieTijdstip\": \"2020-05-04T03:05:00.000Z\"}, \"ns2:DynamischeAankomstStaat\": {\"ns2:RitId\": \"4308\", \"ns2:RitDatum\": \"2020-05-04\", \"ns2:RitStation\": {\"ns2:StationCode\": \"ALM\", \"ns2:Type\": \"5\", \"ns2:KorteNaam\": \"Almere C\", \"ns2:MiddelNaam\": \"Almere C.\", \"ns2:LangeNaam\": \"Almere Centrum\", \"ns2:UICCode\": \"8400080\"}, \"ns2:TreinAankomst\": {\"ns2:TreinNummer\": \"4308\", \"ns2:TreinSoort\": {\"@Code\": \"SPR\", \"#text\": \"Sprinter\"}, \"ns2:TreinStatus\": \"5\", \"ns2:Vervoerder\": \"NS\", \"ns2:TreinHerkomst\": [{\"@InfoStatus\": \"Gepland\", \"ns2:StationCode\": \"LLS\", \"ns2:Type\": \"5\", \"ns2:KorteNaam\": \"Lelystad C\", \"ns2:MiddelNaam\": \"Lelystad C.\", \"ns2:LangeNaam\": \"Lelystad Centrum\", \"ns2:UICCode\": \"8400394\"}, {\"@InfoStatus\": \"Actueel\", \"ns2:StationCode\": \"LLS\", \"ns2:Type\": \"5\", \"ns2:KorteNaam\": \"Lelystad C\", \"ns2:MiddelNaam\": \"Lelystad C.\", \"ns2:LangeNaam\": \"Lelystad Centrum\", \"ns2:UICCode\": \"8400394\"}], \"ns2:PresentatieTreinHerkomst\": {\"ns2:Uitingen\": {\"ns2:Uiting\": \"Lelystad C.\"}}, \"ns2:AankomstTijd\": [{\"@InfoStatus\": \"Gepland\", \"#text\": \"2020-05-04T03:05:00.000Z\"}, {\"@InfoStatus\": \"Actueel\", \"#text\": \"2020-05-04T03:05:00.000Z\"}], \"ns2:ExacteAankomstVertraging\": \"PT0S\", \"ns2:GedempteAankomstVertraging\": \"PT0S\", \"ns2:TreinAankomstSpoor\": [{\"@InfoStatus\": \"Gepland\", \"ns2:SpoorNummer\": \"2\"}, {\"@InfoStatus\": \"Actueel\", \"ns2:SpoorNummer\": \"2\"}], \"ns2:PresentatieTreinAankomstSpoor\": {\"ns2:Uitingen\": {\"ns2:Uiting\": \"2\"}}}}}}}')\n",
      "(None, u'{\"ns1:PutReisInformatieBoodschapIn\": {\"@xmlns:ns1\": \"urn:ndov:cdm:trein:reisinformatie:messages:dynamischeaankomststaat:1\", \"@xmlns:ns2\": \"urn:ndov:cdm:trein:reisinformatie:data:4\", \"ns2:ReisInformatieProductDAS\": {\"@TimeStamp\": \"2020-05-04T03:19:04.614Z\", \"@Versie\": \"6.1\", \"ns2:RIPAdministratie\": {\"ns2:ReisInformatieProductID\": \"2005040519042500003\", \"ns2:AbonnementId\": \"55\", \"ns2:ReisInformatieTijdstip\": \"2020-05-04T03:30:00.000Z\"}, \"ns2:DynamischeAankomstStaat\": {\"ns2:RitId\": \"2421\", \"ns2:RitDatum\": \"2020-05-04\", \"ns2:RitStation\": {\"ns2:StationCode\": \"SHL\", \"ns2:Type\": \"6\", \"ns2:KorteNaam\": \"Schiphol\", \"ns2:MiddelNaam\": \"Schiphol Airport\", \"ns2:LangeNaam\": \"Schiphol Airport\", \"ns2:UICCode\": \"8400561\"}, \"ns2:TreinAankomst\": {\"ns2:TreinNummer\": \"2421\", \"ns2:TreinSoort\": {\"@Code\": \"IC\", \"#text\": \"Intercity\"}, \"ns2:TreinStatus\": \"0\", \"ns2:Vervoerder\": \"NS\", \"ns2:TreinHerkomst\": [{\"@InfoStatus\": \"Gepland\", \"ns2:StationCode\": \"ALM\", \"ns2:Type\": \"5\", \"ns2:KorteNaam\": \"Almere C\", \"ns2:MiddelNaam\": \"Almere C.\", \"ns2:LangeNaam\": \"Almere Centrum\", \"ns2:UICCode\": \"8400080\"}, {\"@InfoStatus\": \"Actueel\", \"ns2:StationCode\": \"ALM\", \"ns2:Type\": \"5\", \"ns2:KorteNaam\": \"Almere C\", \"ns2:MiddelNaam\": \"Almere C.\", \"ns2:LangeNaam\": \"Almere Centrum\", \"ns2:UICCode\": \"8400080\"}], \"ns2:PresentatieTreinHerkomst\": {\"ns2:Uitingen\": {\"ns2:Uiting\": \"Almere C.\"}}, \"ns2:AankomstTijd\": [{\"@InfoStatus\": \"Gepland\", \"#text\": \"2020-05-04T03:30:00.000Z\"}, {\"@InfoStatus\": \"Actueel\", \"#text\": \"2020-05-04T03:30:00.000Z\"}], \"ns2:ExacteAankomstVertraging\": \"PT0S\", \"ns2:GedempteAankomstVertraging\": \"PT0S\", \"ns2:TreinAankomstSpoor\": [{\"@InfoStatus\": \"Gepland\", \"ns2:SpoorNummer\": \"5\"}, {\"@InfoStatus\": \"Gepland\", \"ns2:SpoorNummer\": \"6\"}, {\"@InfoStatus\": \"Actueel\", \"ns2:SpoorNummer\": \"6\"}], \"ns2:PresentatieTreinAankomstSpoor\": {\"ns2:Uitingen\": {\"ns2:Uiting\": \"6\"}}, \"ns2:WijzigingHerkomst\": {\"ns2:WijzigingType\": \"23\", \"ns2:PresentatieWijzigingHerkomst\": {\"ns2:Uitingen\": [{\"@Taal\": \"nl\", \"ns2:Uiting\": {\"@Prioriteit\": \"69\", \"#text\": \"Let op! Komt aan op spoor 6\"}}, {\"@Taal\": \"en\", \"ns2:Uiting\": {\"@Prioriteit\": \"69\", \"#text\": \"Note! Arrives at platform 6\"}}]}}}, \"ns2:PresentatieOpmerkingen\": {\"ns2:Uitingen\": [{\"@Taal\": \"nl\", \"ns2:Uiting\": {\"@Prioriteit\": \"69\", \"@ReferentieType\": \"Wijziging\", \"@ReferentieWaarde\": \"23\", \"#text\": \"Let op! Komt aan op spoor 6\"}}, {\"@Taal\": \"en\", \"ns2:Uiting\": {\"@Prioriteit\": \"69\", \"@ReferentieType\": \"Wijziging\", \"@ReferentieWaarde\": \"23\", \"#text\": \"Note! Arrives at platform 6\"}}]}}}}}')\n",
      "(None, u'{\"ns1:PutReisInformatieBoodschapIn\": {\"@xmlns:ns1\": \"urn:ndov:cdm:trein:reisinformatie:messages:dynamischeaankomststaat:1\", \"@xmlns:ns2\": \"urn:ndov:cdm:trein:reisinformatie:data:4\", \"ns2:ReisInformatieProductDAS\": {\"@TimeStamp\": \"2020-05-04T03:19:06.875Z\", \"@Versie\": \"6.1\", \"ns2:RIPAdministratie\": {\"ns2:ReisInformatieProductID\": \"2005040519062300013\", \"ns2:AbonnementId\": \"55\", \"ns2:ReisInformatieTijdstip\": \"2020-05-04T04:29:00.000Z\"}, \"ns2:DynamischeAankomstStaat\": {\"ns2:RitId\": \"4812\", \"ns2:RitDatum\": \"2020-05-04\", \"ns2:RitStation\": {\"ns2:StationCode\": \"OBD\", \"ns2:Type\": \"0\", \"ns2:KorteNaam\": \"Obdam\", \"ns2:MiddelNaam\": \"Obdam\", \"ns2:LangeNaam\": \"Obdam\", \"ns2:UICCode\": \"8400480\"}, \"ns2:TreinAankomst\": {\"ns2:TreinNummer\": \"4812\", \"ns2:TreinSoort\": {\"@Code\": \"SPR\", \"#text\": \"Sprinter\"}, \"ns2:TreinStatus\": \"0\", \"ns2:Vervoerder\": \"NS\", \"ns2:TreinHerkomst\": [{\"@InfoStatus\": \"Gepland\", \"ns2:StationCode\": \"HN\", \"ns2:Type\": \"5\", \"ns2:KorteNaam\": \"Hoorn\", \"ns2:MiddelNaam\": \"Hoorn\", \"ns2:LangeNaam\": \"Hoorn\", \"ns2:UICCode\": \"8400337\"}, {\"@InfoStatus\": \"Actueel\", \"ns2:StationCode\": \"HN\", \"ns2:Type\": \"5\", \"ns2:KorteNaam\": \"Hoorn\", \"ns2:MiddelNaam\": \"Hoorn\", \"ns2:LangeNaam\": \"Hoorn\", \"ns2:UICCode\": \"8400337\"}], \"ns2:PresentatieTreinHerkomst\": {\"ns2:Uitingen\": {\"ns2:Uiting\": \"Hoorn\"}}, \"ns2:AankomstTijd\": [{\"@InfoStatus\": \"Gepland\", \"#text\": \"2020-05-04T04:29:00.000Z\"}, {\"@InfoStatus\": \"Actueel\", \"#text\": \"2020-05-04T04:29:00.000Z\"}], \"ns2:ExacteAankomstVertraging\": \"PT0S\", \"ns2:GedempteAankomstVertraging\": \"PT0S\", \"ns2:TreinAankomstSpoor\": [{\"@InfoStatus\": \"Gepland\", \"ns2:SpoorNummer\": \"2\"}, {\"@InfoStatus\": \"Actueel\", \"ns2:SpoorNummer\": \"2\"}], \"ns2:PresentatieTreinAankomstSpoor\": {\"ns2:Uitingen\": {\"ns2:Uiting\": \"2\"}}}}}}}')\n",
      "(None, u'{\"ns1:PutReisInformatieBoodschapIn\": {\"@xmlns:ns1\": \"urn:ndov:cdm:trein:reisinformatie:messages:dynamischeaankomststaat:1\", \"@xmlns:ns2\": \"urn:ndov:cdm:trein:reisinformatie:data:4\", \"ns2:ReisInformatieProductDAS\": {\"@TimeStamp\": \"2020-05-04T03:19:06.871Z\", \"@Versie\": \"6.1\", \"ns2:RIPAdministratie\": {\"ns2:ReisInformatieProductID\": \"2005040519062300011\", \"ns2:AbonnementId\": \"55\", \"ns2:ReisInformatieTijdstip\": \"2020-05-04T04:29:00.000Z\"}, \"ns2:DynamischeAankomstStaat\": {\"ns2:RitId\": \"4917\", \"ns2:RitDatum\": \"2020-05-04\", \"ns2:RitStation\": {\"ns2:StationCode\": \"AMPO\", \"ns2:Type\": \"0\", \"ns2:KorteNaam\": \"Poort\", \"ns2:MiddelNaam\": \"Poort\", \"ns2:LangeNaam\": \"Almere Poort\", \"ns2:UICCode\": \"8400450\"}, \"ns2:TreinAankomst\": {\"ns2:TreinNummer\": \"4917\", \"ns2:TreinSoort\": {\"@Code\": \"SPR\", \"#text\": \"Sprinter\"}, \"ns2:TreinStatus\": \"0\", \"ns2:Vervoerder\": \"NS\", \"ns2:TreinHerkomst\": [{\"@InfoStatus\": \"Gepland\", \"ns2:StationCode\": \"ALM\", \"ns2:Type\": \"5\", \"ns2:KorteNaam\": \"Almere C\", \"ns2:MiddelNaam\": \"Almere C.\", \"ns2:LangeNaam\": \"Almere Centrum\", \"ns2:UICCode\": \"8400080\"}, {\"@InfoStatus\": \"Actueel\", \"ns2:StationCode\": \"ALM\", \"ns2:Type\": \"5\", \"ns2:KorteNaam\": \"Almere C\", \"ns2:MiddelNaam\": \"Almere C.\", \"ns2:LangeNaam\": \"Almere Centrum\", \"ns2:UICCode\": \"8400080\"}], \"ns2:PresentatieTreinHerkomst\": {\"ns2:Uitingen\": {\"ns2:Uiting\": \"Almere C.\"}}, \"ns2:AankomstTijd\": [{\"@InfoStatus\": \"Gepland\", \"#text\": \"2020-05-04T04:29:00.000Z\"}, {\"@InfoStatus\": \"Actueel\", \"#text\": \"2020-05-04T04:29:00.000Z\"}], \"ns2:ExacteAankomstVertraging\": \"PT0S\", \"ns2:GedempteAankomstVertraging\": \"PT0S\", \"ns2:TreinAankomstSpoor\": [{\"@InfoStatus\": \"Gepland\", \"ns2:SpoorNummer\": \"1\"}, {\"@InfoStatus\": \"Actueel\", \"ns2:SpoorNummer\": \"1\"}], \"ns2:PresentatieTreinAankomstSpoor\": {\"ns2:Uitingen\": {\"ns2:Uiting\": \"1\"}}}}}}}')\n",
      "(None, u'{\"ns1:PutReisInformatieBoodschapIn\": {\"@xmlns:ns1\": \"urn:ndov:cdm:trein:reisinformatie:messages:dynamischeaankomststaat:1\", \"@xmlns:ns2\": \"urn:ndov:cdm:trein:reisinformatie:data:4\", \"ns2:ReisInformatieProductDAS\": {\"@TimeStamp\": \"2020-05-04T03:19:06.851Z\", \"@Versie\": \"6.1\", \"ns2:RIPAdministratie\": {\"ns2:ReisInformatieProductID\": \"2005040519062300003\", \"ns2:AbonnementId\": \"55\", \"ns2:ReisInformatieTijdstip\": \"2020-05-04T04:29:00.000Z\"}, \"ns2:DynamischeAankomstStaat\": {\"ns2:RitId\": \"4621\", \"ns2:RitDatum\": \"2020-05-04\", \"ns2:RitStation\": {\"ns2:StationCode\": \"SHL\", \"ns2:Type\": \"6\", \"ns2:KorteNaam\": \"Schiphol\", \"ns2:MiddelNaam\": \"Schiphol Airport\", \"ns2:LangeNaam\": \"Schiphol Airport\", \"ns2:UICCode\": \"8400561\"}, \"ns2:TreinAankomst\": {\"ns2:TreinNummer\": \"4621\", \"ns2:TreinSoort\": {\"@Code\": \"SPR\", \"#text\": \"Sprinter\"}, \"ns2:TreinStatus\": \"0\", \"ns2:Vervoerder\": \"NS\", \"ns2:TreinHerkomst\": [{\"@InfoStatus\": \"Gepland\", \"ns2:StationCode\": \"GVC\", \"ns2:Type\": \"6\", \"ns2:KorteNaam\": \"Den Haag C\", \"ns2:MiddelNaam\": \"Den Haag C.\", \"ns2:LangeNaam\": \"Den Haag Centraal\", \"ns2:UICCode\": \"8400282\"}, {\"@InfoStatus\": \"Actueel\", \"ns2:StationCode\": \"GVC\", \"ns2:Type\": \"6\", \"ns2:KorteNaam\": \"Den Haag C\", \"ns2:MiddelNaam\": \"Den Haag C.\", \"ns2:LangeNaam\": \"Den Haag Centraal\", \"ns2:UICCode\": \"8400282\"}], \"ns2:PresentatieTreinHerkomst\": {\"ns2:Uitingen\": {\"ns2:Uiting\": \"Den Haag C.\"}}, \"ns2:AankomstTijd\": [{\"@InfoStatus\": \"Gepland\", \"#text\": \"2020-05-04T04:29:00.000Z\"}, {\"@InfoStatus\": \"Actueel\", \"#text\": \"2020-05-04T04:29:00.000Z\"}], \"ns2:ExacteAankomstVertraging\": \"PT0S\", \"ns2:GedempteAankomstVertraging\": \"PT0S\", \"ns2:TreinAankomstSpoor\": [{\"@InfoStatus\": \"Gepland\", \"ns2:SpoorNummer\": \"1\"}, {\"@InfoStatus\": \"Gepland\", \"ns2:SpoorNummer\": \"2\"}, {\"@InfoStatus\": \"Actueel\", \"ns2:SpoorNummer\": \"1\"}, {\"@InfoStatus\": \"Actueel\", \"ns2:SpoorNummer\": \"2\"}], \"ns2:PresentatieTreinAankomstSpoor\": {\"ns2:Uitingen\": {\"ns2:Uiting\": \"1-2\"}}, \"ns2:VerkorteRouteHerkomst\": [{\"@InfoStatus\": \"Gepland\", \"ns2:Station\": [{\"ns2:StationCode\": \"LAA\", \"ns2:Type\": \"1\", \"ns2:KorteNaam\": \"Laan v NOI\", \"ns2:MiddelNaam\": \"Laan v NOI\", \"ns2:LangeNaam\": \"Den Haag Laan v NOI\", \"ns2:UICCode\": \"8400380\"}, {\"ns2:StationCode\": \"LEDN\", \"ns2:Type\": \"5\", \"ns2:KorteNaam\": \"Leiden C\", \"ns2:MiddelNaam\": \"Leiden C.\", \"ns2:LangeNaam\": \"Leiden Centraal\", \"ns2:UICCode\": \"8400390\"}]}, {\"@InfoStatus\": \"Actueel\", \"ns2:Station\": [{\"ns2:StationCode\": \"LAA\", \"ns2:Type\": \"1\", \"ns2:KorteNaam\": \"Laan v NOI\", \"ns2:MiddelNaam\": \"Laan v NOI\", \"ns2:LangeNaam\": \"Den Haag Laan v NOI\", \"ns2:UICCode\": \"8400380\"}, {\"ns2:StationCode\": \"LEDN\", \"ns2:Type\": \"5\", \"ns2:KorteNaam\": \"Leiden C\", \"ns2:MiddelNaam\": \"Leiden C.\", \"ns2:LangeNaam\": \"Leiden Centraal\", \"ns2:UICCode\": \"8400390\"}]}], \"ns2:PresentatieVerkorteRouteHerkomst\": {\"ns2:Uitingen\": {\"ns2:Uiting\": \"Laan v NOI, Leiden C.\"}}}}}}}')\n",
      "(None, u'{\"ns1:PutReisInformatieBoodschapIn\": {\"@xmlns:ns1\": \"urn:ndov:cdm:trein:reisinformatie:messages:dynamischeaankomststaat:1\", \"@xmlns:ns2\": \"urn:ndov:cdm:trein:reisinformatie:data:4\", \"ns2:ReisInformatieProductDAS\": {\"@TimeStamp\": \"2020-05-04T03:19:06.841Z\", \"@Versie\": \"6.1\", \"ns2:RIPAdministratie\": {\"ns2:ReisInformatieProductID\": \"2005040519062300001\", \"ns2:AbonnementId\": \"55\", \"ns2:ReisInformatieTijdstip\": \"2020-05-04T04:29:00.000Z\"}, \"ns2:DynamischeAankomstStaat\": {\"ns2:RitId\": \"4916\", \"ns2:RitDatum\": \"2020-05-04\", \"ns2:RitStation\": {\"ns2:StationCode\": \"UTO\", \"ns2:Type\": \"1\", \"ns2:KorteNaam\": \"Overvecht\", \"ns2:MiddelNaam\": \"Overvecht\", \"ns2:LangeNaam\": \"Utrecht Overvecht\", \"ns2:UICCode\": \"8400620\"}, \"ns2:TreinAankomst\": {\"ns2:TreinNummer\": \"4916\", \"ns2:TreinSoort\": {\"@Code\": \"SPR\", \"#text\": \"Sprinter\"}, \"ns2:TreinStatus\": \"0\", \"ns2:Vervoerder\": \"NS\", \"ns2:TreinHerkomst\": [{\"@InfoStatus\": \"Gepland\", \"ns2:StationCode\": \"UT\", \"ns2:Type\": \"6\", \"ns2:KorteNaam\": \"Utrecht C\", \"ns2:MiddelNaam\": \"Utrecht C.\", \"ns2:LangeNaam\": \"Utrecht Centraal\", \"ns2:UICCode\": \"8400621\"}, {\"@InfoStatus\": \"Actueel\", \"ns2:StationCode\": \"UT\", \"ns2:Type\": \"6\", \"ns2:KorteNaam\": \"Utrecht C\", \"ns2:MiddelNaam\": \"Utrecht C.\", \"ns2:LangeNaam\": \"Utrecht Centraal\", \"ns2:UICCode\": \"8400621\"}], \"ns2:PresentatieTreinHerkomst\": {\"ns2:Uitingen\": {\"ns2:Uiting\": \"Utrecht C.\"}}, \"ns2:AankomstTijd\": [{\"@InfoStatus\": \"Gepland\", \"#text\": \"2020-05-04T04:29:00.000Z\"}, {\"@InfoStatus\": \"Actueel\", \"#text\": \"2020-05-04T04:29:00.000Z\"}], \"ns2:ExacteAankomstVertraging\": \"PT0S\", \"ns2:GedempteAankomstVertraging\": \"PT0S\", \"ns2:TreinAankomstSpoor\": [{\"@InfoStatus\": \"Gepland\", \"ns2:SpoorNummer\": \"1\"}, {\"@InfoStatus\": \"Actueel\", \"ns2:SpoorNummer\": \"1\"}], \"ns2:PresentatieTreinAankomstSpoor\": {\"ns2:Uitingen\": {\"ns2:Uiting\": \"1\"}}}}}}}')\n",
      "(None, u'{\"ns1:PutReisInformatieBoodschapIn\": {\"@xmlns:ns1\": \"urn:ndov:cdm:trein:reisinformatie:messages:dynamischeaankomststaat:1\", \"@xmlns:ns2\": \"urn:ndov:cdm:trein:reisinformatie:data:4\", \"ns2:ReisInformatieProductDAS\": {\"@TimeStamp\": \"2020-05-04T03:19:06.861Z\", \"@Versie\": \"6.1\", \"ns2:RIPAdministratie\": {\"ns2:ReisInformatieProductID\": \"2005040519062300007\", \"ns2:AbonnementId\": \"55\", \"ns2:ReisInformatieTijdstip\": \"2020-05-04T04:29:00.000Z\"}, \"ns2:DynamischeAankomstStaat\": {\"ns2:RitId\": \"31022\", \"ns2:RitDatum\": \"2020-05-04\", \"ns2:RitStation\": {\"ns2:StationCode\": \"VHP\", \"ns2:Type\": \"0\", \"ns2:KorteNaam\": \"Vroomshoop\", \"ns2:MiddelNaam\": \"Vroomshoop\", \"ns2:LangeNaam\": \"Vroomshoop\", \"ns2:UICCode\": \"8400666\"}, \"ns2:TreinAankomst\": {\"ns2:TreinNummer\": \"31022\", \"ns2:TreinSoort\": {\"@Code\": \"ST\", \"#text\": \"Stoptrein\"}, \"ns2:TreinStatus\": \"0\", \"ns2:Vervoerder\": \"Blauwnet\", \"ns2:TreinHerkomst\": [{\"@InfoStatus\": \"Gepland\", \"ns2:StationCode\": \"MRB\", \"ns2:Type\": \"3\", \"ns2:KorteNaam\": \"Mari\\\\u00ebnberg\", \"ns2:MiddelNaam\": \"Mari\\\\u00ebnberg\", \"ns2:LangeNaam\": \"Mari\\\\u00ebnberg\", \"ns2:UICCode\": \"8400428\"}, {\"@InfoStatus\": \"Actueel\", \"ns2:StationCode\": \"MRB\", \"ns2:Type\": \"3\", \"ns2:KorteNaam\": \"Mari\\\\u00ebnberg\", \"ns2:MiddelNaam\": \"Mari\\\\u00ebnberg\", \"ns2:LangeNaam\": \"Mari\\\\u00ebnberg\", \"ns2:UICCode\": \"8400428\"}], \"ns2:PresentatieTreinHerkomst\": {\"ns2:Uitingen\": {\"ns2:Uiting\": \"Mari\\\\u00ebnberg\"}}, \"ns2:AankomstTijd\": [{\"@InfoStatus\": \"Gepland\", \"#text\": \"2020-05-04T04:29:00.000Z\"}, {\"@InfoStatus\": \"Actueel\", \"#text\": \"2020-05-04T04:29:00.000Z\"}], \"ns2:ExacteAankomstVertraging\": \"PT0S\", \"ns2:GedempteAankomstVertraging\": \"PT0S\", \"ns2:TreinAankomstSpoor\": [{\"@InfoStatus\": \"Gepland\", \"ns2:SpoorNummer\": \"2\"}, {\"@InfoStatus\": \"Actueel\", \"ns2:SpoorNummer\": \"2\"}], \"ns2:PresentatieTreinAankomstSpoor\": {\"ns2:Uitingen\": {\"ns2:Uiting\": \"2\"}}}}}}}')\n",
      "(None, u'{\"ns1:PutReisInformatieBoodschapIn\": {\"@xmlns:ns1\": \"urn:ndov:cdm:trein:reisinformatie:messages:dynamischeaankomststaat:1\", \"@xmlns:ns2\": \"urn:ndov:cdm:trein:reisinformatie:data:4\", \"ns2:ReisInformatieProductDAS\": {\"@TimeStamp\": \"2020-05-04T03:19:06.866Z\", \"@Versie\": \"6.1\", \"ns2:RIPAdministratie\": {\"ns2:ReisInformatieProductID\": \"2005040519062300009\", \"ns2:AbonnementId\": \"55\", \"ns2:ReisInformatieTijdstip\": \"2020-05-04T04:29:00.000Z\"}, \"ns2:DynamischeAankomstStaat\": {\"ns2:RitId\": \"6325\", \"ns2:RitDatum\": \"2020-05-04\", \"ns2:RitStation\": {\"ns2:StationCode\": \"HAD\", \"ns2:Type\": \"4\", \"ns2:KorteNaam\": \"Heemstede\", \"ns2:MiddelNaam\": \"Heemstede-A.\", \"ns2:LangeNaam\": \"Heemstede-Aerdenhout\", \"ns2:UICCode\": \"8400302\"}, \"ns2:TreinAankomst\": {\"ns2:TreinNummer\": \"6325\", \"ns2:TreinSoort\": {\"@Code\": \"SPR\", \"#text\": \"Sprinter\"}, \"ns2:TreinStatus\": \"0\", \"ns2:Vervoerder\": \"NS\", \"ns2:TreinHerkomst\": [{\"@InfoStatus\": \"Gepland\", \"ns2:StationCode\": \"HLM\", \"ns2:Type\": \"5\", \"ns2:KorteNaam\": \"Haarlem\", \"ns2:MiddelNaam\": \"Haarlem\", \"ns2:LangeNaam\": \"Haarlem\", \"ns2:UICCode\": \"8400285\"}, {\"@InfoStatus\": \"Actueel\", \"ns2:StationCode\": \"HLM\", \"ns2:Type\": \"5\", \"ns2:KorteNaam\": \"Haarlem\", \"ns2:MiddelNaam\": \"Haarlem\", \"ns2:LangeNaam\": \"Haarlem\", \"ns2:UICCode\": \"8400285\"}], \"ns2:PresentatieTreinHerkomst\": {\"ns2:Uitingen\": {\"ns2:Uiting\": \"Haarlem\"}}, \"ns2:AankomstTijd\": [{\"@InfoStatus\": \"Gepland\", \"#text\": \"2020-05-04T04:29:00.000Z\"}, {\"@InfoStatus\": \"Actueel\", \"#text\": \"2020-05-04T04:29:00.000Z\"}], \"ns2:ExacteAankomstVertraging\": \"PT0S\", \"ns2:GedempteAankomstVertraging\": \"PT0S\", \"ns2:TreinAankomstSpoor\": [{\"@InfoStatus\": \"Gepland\", \"ns2:SpoorNummer\": \"2\"}, {\"@InfoStatus\": \"Actueel\", \"ns2:SpoorNummer\": \"2\"}], \"ns2:PresentatieTreinAankomstSpoor\": {\"ns2:Uitingen\": {\"ns2:Uiting\": \"2\"}}}}}}}')\n",
      "(None, u'{\"ns1:PutReisInformatieBoodschapIn\": {\"@xmlns:ns1\": \"urn:ndov:cdm:trein:reisinformatie:messages:dynamischeaankomststaat:1\", \"@xmlns:ns2\": \"urn:ndov:cdm:trein:reisinformatie:data:4\", \"ns2:ReisInformatieProductDAS\": {\"@TimeStamp\": \"2020-05-04T03:19:06.857Z\", \"@Versie\": \"6.1\", \"ns2:RIPAdministratie\": {\"ns2:ReisInformatieProductID\": \"2005040519062300005\", \"ns2:AbonnementId\": \"55\", \"ns2:ReisInformatieTijdstip\": \"2020-05-04T04:29:00.000Z\"}, \"ns2:DynamischeAankomstStaat\": {\"ns2:RitId\": \"32011\", \"ns2:RitDatum\": \"2020-05-04\", \"ns2:RitStation\": {\"ns2:StationCode\": \"VDL\", \"ns2:Type\": \"0\", \"ns2:KorteNaam\": \"Voerendaal\", \"ns2:MiddelNaam\": \"Voerendaal\", \"ns2:LangeNaam\": \"Voerendaal\", \"ns2:UICCode\": \"8400656\"}, \"ns2:TreinAankomst\": {\"ns2:TreinNummer\": \"32011\", \"ns2:TreinSoort\": {\"@Code\": \"ST\", \"#text\": \"Stoptrein\"}, \"ns2:TreinStatus\": \"0\", \"ns2:LijnNummer\": \"RS18\", \"ns2:Vervoerder\": \"Arriva\", \"ns2:TreinHerkomst\": [{\"@InfoStatus\": \"Gepland\", \"ns2:StationCode\": \"HRL\", \"ns2:Type\": \"5\", \"ns2:KorteNaam\": \"Heerlen\", \"ns2:MiddelNaam\": \"Heerlen\", \"ns2:LangeNaam\": \"Heerlen\", \"ns2:UICCode\": \"8400307\"}, {\"@InfoStatus\": \"Actueel\", \"ns2:StationCode\": \"HRL\", \"ns2:Type\": \"5\", \"ns2:KorteNaam\": \"Heerlen\", \"ns2:MiddelNaam\": \"Heerlen\", \"ns2:LangeNaam\": \"Heerlen\", \"ns2:UICCode\": \"8400307\"}], \"ns2:PresentatieTreinHerkomst\": {\"ns2:Uitingen\": {\"ns2:Uiting\": \"Heerlen\"}}, \"ns2:AankomstTijd\": [{\"@InfoStatus\": \"Gepland\", \"#text\": \"2020-05-04T04:29:00.000Z\"}, {\"@InfoStatus\": \"Actueel\", \"#text\": \"2020-05-04T04:29:00.000Z\"}], \"ns2:ExacteAankomstVertraging\": \"PT0S\", \"ns2:GedempteAankomstVertraging\": \"PT0S\", \"ns2:TreinAankomstSpoor\": [{\"@InfoStatus\": \"Gepland\", \"ns2:SpoorNummer\": \"2\"}, {\"@InfoStatus\": \"Actueel\", \"ns2:SpoorNummer\": \"2\"}], \"ns2:PresentatieTreinAankomstSpoor\": {\"ns2:Uitingen\": {\"ns2:Uiting\": \"2\"}}}}}}}')\n",
      "...\n",
      "\n",
      "-------------------------------------------\n",
      "Time: 2020-05-04 12:27:10\n",
      "-------------------------------------------\n",
      "(None, u'{\"ns1:PutReisInformatieBoodschapIn\": {\"@xmlns:ns1\": \"urn:ndov:cdm:trein:reisinformatie:messages:5\", \"@xmlns:ns2\": \"urn:ndov:cdm:trein:reisinformatie:data:4\", \"ns2:ReisInformatieProductDVS\": {\"@TimeStamp\": \"2020-05-04T03:19:04.799Z\", \"@Versie\": \"6.2\", \"ns2:RIPAdministratie\": {\"ns2:ReisInformatieProductID\": \"2005040519042300003\", \"ns2:AbonnementId\": \"54\", \"ns2:ReisInformatieTijdstip\": \"2020-05-04T04:29:00.000Z\"}, \"ns2:DynamischeVertrekStaat\": {\"ns2:RitId\": \"7219\", \"ns2:RitDatum\": \"2020-05-04\", \"ns2:RitStation\": {\"ns2:StationCode\": \"BHDV\", \"ns2:Type\": \"0\", \"ns2:KorteNaam\": \"Boven-Har\", \"ns2:MiddelNaam\": \"Boven-Hardinxv.\", \"ns2:LangeNaam\": \"Boven-Hardinxveld\", \"ns2:UICCode\": \"8400236\"}, \"ns2:Trein\": {\"ns2:TreinNummer\": \"7219\", \"ns2:TreinSoort\": {\"@Code\": \"ST\", \"#text\": \"Stoptrein\"}, \"ns2:TreinFormule\": \"1\", \"ns2:TreinStatus\": \"0\", \"ns2:Vervoerder\": \"R-net\", \"ns2:Reserveren\": \"N\", \"ns2:Toeslag\": \"N\", \"ns2:NietInstappen\": \"N\", \"ns2:AchterBlijvenAchtersteTreinDeel\": \"N\", \"ns2:RangeerBeweging\": \"N\", \"ns2:SpeciaalKaartje\": \"N\", \"ns2:TreinEindBestemming\": [{\"@InfoStatus\": \"Gepland\", \"ns2:StationCode\": \"GDM\", \"ns2:Type\": \"1\", \"ns2:KorteNaam\": \"Geldermlsn\", \"ns2:MiddelNaam\": \"Geldermalsen\", \"ns2:LangeNaam\": \"Geldermalsen\", \"ns2:UICCode\": \"8400244\"}, {\"@InfoStatus\": \"Actueel\", \"ns2:StationCode\": \"GDM\", \"ns2:Type\": \"1\", \"ns2:KorteNaam\": \"Geldermlsn\", \"ns2:MiddelNaam\": \"Geldermalsen\", \"ns2:LangeNaam\": \"Geldermalsen\", \"ns2:UICCode\": \"8400244\"}], \"ns2:PresentatieTreinEindBestemming\": {\"ns2:Uitingen\": {\"ns2:Uiting\": \"Geldermalsen\"}}, \"ns2:VertrekTijd\": [{\"@InfoStatus\": \"Gepland\", \"#text\": \"2020-05-04T04:29:00.000Z\"}, {\"@InfoStatus\": \"Actueel\", \"#text\": \"2020-05-04T04:29:00.000Z\"}], \"ns2:ExacteVertrekVertraging\": \"PT0S\", \"ns2:GedempteVertrekVertraging\": \"PT0S\", \"ns2:TreinVertrekSpoor\": [{\"@InfoStatus\": \"Gepland\", \"ns2:SpoorNummer\": \"2\"}, {\"@InfoStatus\": \"Actueel\", \"ns2:SpoorNummer\": \"2\"}], \"ns2:PresentatieTreinVertrekSpoor\": {\"ns2:Uitingen\": {\"ns2:Uiting\": \"2\"}}, \"ns2:VertrekRichting\": \"A\", \"ns2:AfstandPerronEindKopVertrekTrein\": \"0\", \"ns2:VerkorteRoute\": [{\"@InfoStatus\": \"Gepland\", \"ns2:Station\": {\"ns2:StationCode\": \"GR\", \"ns2:Type\": \"1\", \"ns2:KorteNaam\": \"Gorinchem\", \"ns2:MiddelNaam\": \"Gorinchem\", \"ns2:LangeNaam\": \"Gorinchem\", \"ns2:UICCode\": \"8400256\"}}, {\"@InfoStatus\": \"Actueel\", \"ns2:Station\": {\"ns2:StationCode\": \"GR\", \"ns2:Type\": \"1\", \"ns2:KorteNaam\": \"Gorinchem\", \"ns2:MiddelNaam\": \"Gorinchem\", \"ns2:LangeNaam\": \"Gorinchem\", \"ns2:UICCode\": \"8400256\"}}], \"ns2:PresentatieVerkorteRoute\": {\"ns2:Uitingen\": {\"ns2:Uiting\": \"Gorinchem\"}}, \"ns2:TreinVleugel\": {\"ns2:TreinVleugelVertrekSpoor\": [{\"@InfoStatus\": \"Gepland\", \"ns2:SpoorNummer\": \"2\"}, {\"@InfoStatus\": \"Actueel\", \"ns2:SpoorNummer\": \"2\"}], \"ns2:PresentatieTreinVleugelVertrekSpoor\": {\"ns2:Uitingen\": {\"ns2:Uiting\": \"2\"}}, \"ns2:TreinVleugelEindBestemming\": [{\"@InfoStatus\": \"Gepland\", \"ns2:StationCode\": \"GDM\", \"ns2:Type\": \"1\", \"ns2:KorteNaam\": \"Geldermlsn\", \"ns2:MiddelNaam\": \"Geldermalsen\", \"ns2:LangeNaam\": \"Geldermalsen\", \"ns2:UICCode\": \"8400244\"}, {\"@InfoStatus\": \"Actueel\", \"ns2:StationCode\": \"GDM\", \"ns2:Type\": \"1\", \"ns2:KorteNaam\": \"Geldermlsn\", \"ns2:MiddelNaam\": \"Geldermalsen\", \"ns2:LangeNaam\": \"Geldermalsen\", \"ns2:UICCode\": \"8400244\"}], \"ns2:PresentatieTreinVleugelEindBestemming\": {\"ns2:Uitingen\": {\"ns2:Uiting\": \"Geldermalsen\"}}, \"ns2:StopStations\": [{\"@InfoStatus\": \"Gepland\", \"ns2:Station\": [{\"ns2:StationCode\": \"GR\", \"ns2:Type\": \"1\", \"ns2:KorteNaam\": \"Gorinchem\", \"ns2:MiddelNaam\": \"Gorinchem\", \"ns2:LangeNaam\": \"Gorinchem\", \"ns2:UICCode\": \"8400256\"}, {\"ns2:StationCode\": \"AKL\", \"ns2:Type\": \"0\", \"ns2:KorteNaam\": \"Arkel\", \"ns2:MiddelNaam\": \"Arkel\", \"ns2:LangeNaam\": \"Arkel\", \"ns2:UICCode\": \"8400068\"}, {\"ns2:StationCode\": \"LDM\", \"ns2:Type\": \"0\", \"ns2:KorteNaam\": \"Leerdam\", \"ns2:MiddelNaam\": \"Leerdam\", \"ns2:LangeNaam\": \"Leerdam\", \"ns2:UICCode\": \"8400386\"}, {\"ns2:StationCode\": \"BSD\", \"ns2:Type\": \"0\", \"ns2:KorteNaam\": \"Beesd\", \"ns2:MiddelNaam\": \"Beesd\", \"ns2:LangeNaam\": \"Beesd\", \"ns2:UICCode\": \"8400097\"}, {\"ns2:StationCode\": \"GDM\", \"ns2:Type\": \"1\", \"ns2:KorteNaam\": \"Geldermlsn\", \"ns2:MiddelNaam\": \"Geldermalsen\", \"ns2:LangeNaam\": \"Geldermalsen\", \"ns2:UICCode\": \"8400244\"}]}, {\"@InfoStatus\": \"Actueel\", \"ns2:Station\": [{\"ns2:StationCode\": \"GR\", \"ns2:Type\": \"1\", \"ns2:KorteNaam\": \"Gorinchem\", \"ns2:MiddelNaam\": \"Gorinchem\", \"ns2:LangeNaam\": \"Gorinchem\", \"ns2:UICCode\": \"8400256\"}, {\"ns2:StationCode\": \"AKL\", \"ns2:Type\": \"0\", \"ns2:KorteNaam\": \"Arkel\", \"ns2:MiddelNaam\": \"Arkel\", \"ns2:LangeNaam\": \"Arkel\", \"ns2:UICCode\": \"8400068\"}, {\"ns2:StationCode\": \"LDM\", \"ns2:Type\": \"0\", \"ns2:KorteNaam\": \"Leerdam\", \"ns2:MiddelNaam\": \"Leerdam\", \"ns2:LangeNaam\": \"Leerdam\", \"ns2:UICCode\": \"8400386\"}, {\"ns2:StationCode\": \"BSD\", \"ns2:Type\": \"0\", \"ns2:KorteNaam\": \"Beesd\", \"ns2:MiddelNaam\": \"Beesd\", \"ns2:LangeNaam\": \"Beesd\", \"ns2:UICCode\": \"8400097\"}, {\"ns2:StationCode\": \"GDM\", \"ns2:Type\": \"1\", \"ns2:KorteNaam\": \"Geldermlsn\", \"ns2:MiddelNaam\": \"Geldermalsen\", \"ns2:LangeNaam\": \"Geldermalsen\", \"ns2:UICCode\": \"8400244\"}]}], \"ns2:MaterieelDeelDVS\": {\"ns2:MaterieelSoort\": \"GTW-E-QB\", \"ns2:MaterieelAanduiding\": \"2/8\", \"ns2:MaterieelLengte\": \"5600\", \"ns2:MaterieelDeelEindBestemming\": [{\"@InfoStatus\": \"Gepland\", \"ns2:StationCode\": \"GDM\", \"ns2:Type\": \"1\", \"ns2:KorteNaam\": \"Geldermlsn\", \"ns2:MiddelNaam\": \"Geldermalsen\", \"ns2:LangeNaam\": \"Geldermalsen\", \"ns2:UICCode\": \"8400244\"}, {\"@InfoStatus\": \"Actueel\", \"ns2:StationCode\": \"GDM\", \"ns2:Type\": \"1\", \"ns2:KorteNaam\": \"Geldermlsn\", \"ns2:MiddelNaam\": \"Geldermalsen\", \"ns2:LangeNaam\": \"Geldermalsen\", \"ns2:UICCode\": \"8400244\"}], \"ns2:PresentatieMaterieelDeelEindBestemming\": {\"ns2:Uitingen\": {\"ns2:Uiting\": \"Geldermalsen\"}}}}}}}}}')\n",
      "(None, u'{\"ns1:PutReisInformatieBoodschapIn\": {\"@xmlns:ns1\": \"urn:ndov:cdm:trein:reisinformatie:messages:5\", \"@xmlns:ns2\": \"urn:ndov:cdm:trein:reisinformatie:data:4\", \"ns2:ReisInformatieProductDVS\": {\"@TimeStamp\": \"2020-05-04T03:19:04.847Z\", \"@Versie\": \"6.2\", \"ns2:RIPAdministratie\": {\"ns2:ReisInformatieProductID\": \"2005040519042300015\", \"ns2:AbonnementId\": \"54\", \"ns2:ReisInformatieTijdstip\": \"2020-05-04T04:29:00.000Z\"}, \"ns2:DynamischeVertrekStaat\": {\"ns2:RitId\": \"6910\", \"ns2:RitDatum\": \"2020-05-04\", \"ns2:RitStation\": {\"ns2:StationCode\": \"LLZM\", \"ns2:Type\": \"0\", \"ns2:KorteNaam\": \"Lansingerl\", \"ns2:MiddelNaam\": \"Lansingerland\", \"ns2:LangeNaam\": \"Lansingerland-Zoetermeer\", \"ns2:UICCode\": \"8400135\"}, \"ns2:Trein\": {\"ns2:TreinNummer\": \"6910\", \"ns2:TreinSoort\": {\"@Code\": \"SPR\", \"#text\": \"Sprinter\"}, \"ns2:TreinFormule\": \"1\", \"ns2:TreinStatus\": \"0\", \"ns2:Vervoerder\": \"NS\", \"ns2:Reserveren\": \"N\", \"ns2:Toeslag\": \"N\", \"ns2:NietInstappen\": \"N\", \"ns2:AchterBlijvenAchtersteTreinDeel\": \"N\", \"ns2:RangeerBeweging\": \"N\", \"ns2:SpeciaalKaartje\": \"N\", \"ns2:TreinEindBestemming\": [{\"@InfoStatus\": \"Gepland\", \"ns2:StationCode\": \"GVC\", \"ns2:Type\": \"6\", \"ns2:KorteNaam\": \"Den Haag C\", \"ns2:MiddelNaam\": \"Den Haag C.\", \"ns2:LangeNaam\": \"Den Haag Centraal\", \"ns2:UICCode\": \"8400282\"}, {\"@InfoStatus\": \"Actueel\", \"ns2:StationCode\": \"GVC\", \"ns2:Type\": \"6\", \"ns2:KorteNaam\": \"Den Haag C\", \"ns2:MiddelNaam\": \"Den Haag C.\", \"ns2:LangeNaam\": \"Den Haag Centraal\", \"ns2:UICCode\": \"8400282\"}], \"ns2:PresentatieTreinEindBestemming\": {\"ns2:Uitingen\": {\"ns2:Uiting\": \"Den Haag Centraal\"}}, \"ns2:VertrekTijd\": [{\"@InfoStatus\": \"Gepland\", \"#text\": \"2020-05-04T04:29:00.000Z\"}, {\"@InfoStatus\": \"Actueel\", \"#text\": \"2020-05-04T04:29:00.000Z\"}], \"ns2:ExacteVertrekVertraging\": \"PT0S\", \"ns2:GedempteVertrekVertraging\": \"PT0S\", \"ns2:TreinVertrekSpoor\": [{\"@InfoStatus\": \"Gepland\", \"ns2:SpoorNummer\": \"1\"}, {\"@InfoStatus\": \"Actueel\", \"ns2:SpoorNummer\": \"1\"}], \"ns2:PresentatieTreinVertrekSpoor\": {\"ns2:Uitingen\": {\"ns2:Uiting\": \"1\"}}, \"ns2:VertrekRichting\": \"A\", \"ns2:AfstandPerronEindKopVertrekTrein\": \"0\", \"ns2:VerkorteRoute\": [{\"@InfoStatus\": \"Gepland\", \"ns2:Station\": {\"ns2:StationCode\": \"ZTM\", \"ns2:Type\": \"1\", \"ns2:KorteNaam\": \"Zoetermeer\", \"ns2:MiddelNaam\": \"Zoetermeer\", \"ns2:LangeNaam\": \"Zoetermeer\", \"ns2:UICCode\": \"8400741\"}}, {\"@InfoStatus\": \"Actueel\", \"ns2:Station\": {\"ns2:StationCode\": \"ZTM\", \"ns2:Type\": \"1\", \"ns2:KorteNaam\": \"Zoetermeer\", \"ns2:MiddelNaam\": \"Zoetermeer\", \"ns2:LangeNaam\": \"Zoetermeer\", \"ns2:UICCode\": \"8400741\"}}], \"ns2:PresentatieVerkorteRoute\": {\"ns2:Uitingen\": {\"ns2:Uiting\": \"Zoetermeer\"}}, \"ns2:TreinVleugel\": {\"ns2:TreinVleugelVertrekSpoor\": [{\"@InfoStatus\": \"Gepland\", \"ns2:SpoorNummer\": \"1\"}, {\"@InfoStatus\": \"Actueel\", \"ns2:SpoorNummer\": \"1\"}], \"ns2:PresentatieTreinVleugelVertrekSpoor\": {\"ns2:Uitingen\": {\"ns2:Uiting\": \"1\"}}, \"ns2:TreinVleugelEindBestemming\": [{\"@InfoStatus\": \"Gepland\", \"ns2:StationCode\": \"GVC\", \"ns2:Type\": \"6\", \"ns2:KorteNaam\": \"Den Haag C\", \"ns2:MiddelNaam\": \"Den Haag C.\", \"ns2:LangeNaam\": \"Den Haag Centraal\", \"ns2:UICCode\": \"8400282\"}, {\"@InfoStatus\": \"Actueel\", \"ns2:StationCode\": \"GVC\", \"ns2:Type\": \"6\", \"ns2:KorteNaam\": \"Den Haag C\", \"ns2:MiddelNaam\": \"Den Haag C.\", \"ns2:LangeNaam\": \"Den Haag Centraal\", \"ns2:UICCode\": \"8400282\"}], \"ns2:PresentatieTreinVleugelEindBestemming\": {\"ns2:Uitingen\": {\"ns2:Uiting\": \"Den Haag Centraal\"}}, \"ns2:StopStations\": [{\"@InfoStatus\": \"Gepland\", \"ns2:Station\": [{\"ns2:StationCode\": \"ZTMO\", \"ns2:Type\": \"0\", \"ns2:KorteNaam\": \"Zoetermr O\", \"ns2:MiddelNaam\": \"Zoetermeer O.\", \"ns2:LangeNaam\": \"Zoetermeer Oost\", \"ns2:UICCode\": \"8400740\"}, {\"ns2:StationCode\": \"ZTM\", \"ns2:Type\": \"1\", \"ns2:KorteNaam\": \"Zoetermeer\", \"ns2:MiddelNaam\": \"Zoetermeer\", \"ns2:LangeNaam\": \"Zoetermeer\", \"ns2:UICCode\": \"8400741\"}, {\"ns2:StationCode\": \"YPB\", \"ns2:Type\": \"0\", \"ns2:KorteNaam\": \"Ypenburg\", \"ns2:MiddelNaam\": \"Ypenburg\", \"ns2:LangeNaam\": \"Den Haag Ypenburg\", \"ns2:UICCode\": \"8400379\"}, {\"ns2:StationCode\": \"VB\", \"ns2:Type\": \"0\", \"ns2:KorteNaam\": \"Voorburg\", \"ns2:MiddelNaam\": \"Voorburg\", \"ns2:LangeNaam\": \"Voorburg\", \"ns2:UICCode\": \"8400658\"}, {\"ns2:StationCode\": \"GVC\", \"ns2:Type\": \"6\", \"ns2:KorteNaam\": \"Den Haag C\", \"ns2:MiddelNaam\": \"Den Haag C.\", \"ns2:LangeNaam\": \"Den Haag Centraal\", \"ns2:UICCode\": \"8400282\"}]}, {\"@InfoStatus\": \"Actueel\", \"ns2:Station\": [{\"ns2:StationCode\": \"ZTMO\", \"ns2:Type\": \"0\", \"ns2:KorteNaam\": \"Zoetermr O\", \"ns2:MiddelNaam\": \"Zoetermeer O.\", \"ns2:LangeNaam\": \"Zoetermeer Oost\", \"ns2:UICCode\": \"8400740\"}, {\"ns2:StationCode\": \"ZTM\", \"ns2:Type\": \"1\", \"ns2:KorteNaam\": \"Zoetermeer\", \"ns2:MiddelNaam\": \"Zoetermeer\", \"ns2:LangeNaam\": \"Zoetermeer\", \"ns2:UICCode\": \"8400741\"}, {\"ns2:StationCode\": \"YPB\", \"ns2:Type\": \"0\", \"ns2:KorteNaam\": \"Ypenburg\", \"ns2:MiddelNaam\": \"Ypenburg\", \"ns2:LangeNaam\": \"Den Haag Ypenburg\", \"ns2:UICCode\": \"8400379\"}, {\"ns2:StationCode\": \"VB\", \"ns2:Type\": \"0\", \"ns2:KorteNaam\": \"Voorburg\", \"ns2:MiddelNaam\": \"Voorburg\", \"ns2:LangeNaam\": \"Voorburg\", \"ns2:UICCode\": \"8400658\"}, {\"ns2:StationCode\": \"GVC\", \"ns2:Type\": \"6\", \"ns2:KorteNaam\": \"Den Haag C\", \"ns2:MiddelNaam\": \"Den Haag C.\", \"ns2:LangeNaam\": \"Den Haag Centraal\", \"ns2:UICCode\": \"8400282\"}]}], \"ns2:MaterieelDeelDVS\": {\"ns2:MaterieelSoort\": \"SLT\", \"ns2:MaterieelAanduiding\": \"6\", \"ns2:MaterieelLengte\": \"10050\", \"ns2:MaterieelNummer\": \"000000-02632-0\", \"ns2:MaterieelDeelEindBestemming\": [{\"@InfoStatus\": \"Gepland\", \"ns2:StationCode\": \"GVC\", \"ns2:Type\": \"6\", \"ns2:KorteNaam\": \"Den Haag C\", \"ns2:MiddelNaam\": \"Den Haag C.\", \"ns2:LangeNaam\": \"Den Haag Centraal\", \"ns2:UICCode\": \"8400282\"}, {\"@InfoStatus\": \"Actueel\", \"ns2:StationCode\": \"GVC\", \"ns2:Type\": \"6\", \"ns2:KorteNaam\": \"Den Haag C\", \"ns2:MiddelNaam\": \"Den Haag C.\", \"ns2:LangeNaam\": \"Den Haag Centraal\", \"ns2:UICCode\": \"8400282\"}], \"ns2:PresentatieMaterieelDeelEindBestemming\": {\"ns2:Uitingen\": {\"ns2:Uiting\": \"Den Haag Centraal\"}}}}}}}}}')\n",
      "(None, u'{\"ns1:PutReisInformatieBoodschapIn\": {\"@xmlns:ns1\": \"urn:ndov:cdm:trein:reisinformatie:messages:5\", \"@xmlns:ns2\": \"urn:ndov:cdm:trein:reisinformatie:data:4\", \"ns2:ReisInformatieProductDVS\": {\"@TimeStamp\": \"2020-05-04T03:19:04.621Z\", \"@Versie\": \"6.2\", \"ns2:RIPAdministratie\": {\"ns2:ReisInformatieProductID\": \"2005040519042500004\", \"ns2:AbonnementId\": \"54\", \"ns2:ReisInformatieTijdstip\": \"2020-05-04T03:44:00.000Z\"}, \"ns2:DynamischeVertrekStaat\": {\"ns2:RitId\": \"4308\", \"ns2:RitDatum\": \"2020-05-04\", \"ns2:RitStation\": {\"ns2:StationCode\": \"SHL\", \"ns2:Type\": \"6\", \"ns2:KorteNaam\": \"Schiphol\", \"ns2:MiddelNaam\": \"Schiphol Airport\", \"ns2:LangeNaam\": \"Schiphol Airport\", \"ns2:UICCode\": \"8400561\"}, \"ns2:Trein\": {\"ns2:TreinNummer\": \"4308\", \"ns2:TreinSoort\": {\"@Code\": \"SPR\", \"#text\": \"Sprinter\"}, \"ns2:TreinFormule\": \"1\", \"ns2:TreinStatus\": \"0\", \"ns2:Vervoerder\": \"NS\", \"ns2:Reserveren\": \"N\", \"ns2:Toeslag\": \"N\", \"ns2:NietInstappen\": \"N\", \"ns2:AchterBlijvenAchtersteTreinDeel\": \"N\", \"ns2:RangeerBeweging\": \"N\", \"ns2:SpeciaalKaartje\": \"N\", \"ns2:TreinEindBestemming\": [{\"@InfoStatus\": \"Gepland\", \"ns2:StationCode\": \"HFD\", \"ns2:Type\": \"0\", \"ns2:KorteNaam\": \"Hoofddorp\", \"ns2:MiddelNaam\": \"Hoofddorp\", \"ns2:LangeNaam\": \"Hoofddorp\", \"ns2:UICCode\": \"8400332\"}, {\"@InfoStatus\": \"Actueel\", \"ns2:StationCode\": \"HFD\", \"ns2:Type\": \"0\", \"ns2:KorteNaam\": \"Hoofddorp\", \"ns2:MiddelNaam\": \"Hoofddorp\", \"ns2:LangeNaam\": \"Hoofddorp\", \"ns2:UICCode\": \"8400332\"}], \"ns2:PresentatieTreinEindBestemming\": {\"ns2:Uitingen\": {\"ns2:Uiting\": \"Hoofddorp\"}}, \"ns2:VertrekTijd\": [{\"@InfoStatus\": \"Gepland\", \"#text\": \"2020-05-04T03:44:00.000Z\"}, {\"@InfoStatus\": \"Actueel\", \"#text\": \"2020-05-04T03:44:00.000Z\"}], \"ns2:ExacteVertrekVertraging\": \"PT0S\", \"ns2:GedempteVertrekVertraging\": \"PT0S\", \"ns2:TreinVertrekSpoor\": [{\"@InfoStatus\": \"Gepland\", \"ns2:SpoorNummer\": \"4\"}, {\"@InfoStatus\": \"Actueel\", \"ns2:SpoorNummer\": \"4\"}], \"ns2:PresentatieTreinVertrekSpoor\": {\"ns2:Uitingen\": {\"ns2:Uiting\": \"4\"}}, \"ns2:VertrekRichting\": \"A\", \"ns2:AfstandPerronEindKopVertrekTrein\": \"0\", \"ns2:TreinVleugel\": {\"ns2:TreinVleugelVertrekSpoor\": [{\"@InfoStatus\": \"Gepland\", \"ns2:SpoorNummer\": \"4\"}, {\"@InfoStatus\": \"Actueel\", \"ns2:SpoorNummer\": \"4\"}], \"ns2:PresentatieTreinVleugelVertrekSpoor\": {\"ns2:Uitingen\": {\"ns2:Uiting\": \"4\"}}, \"ns2:TreinVleugelEindBestemming\": [{\"@InfoStatus\": \"Gepland\", \"ns2:StationCode\": \"HFD\", \"ns2:Type\": \"0\", \"ns2:KorteNaam\": \"Hoofddorp\", \"ns2:MiddelNaam\": \"Hoofddorp\", \"ns2:LangeNaam\": \"Hoofddorp\", \"ns2:UICCode\": \"8400332\"}, {\"@InfoStatus\": \"Actueel\", \"ns2:StationCode\": \"HFD\", \"ns2:Type\": \"0\", \"ns2:KorteNaam\": \"Hoofddorp\", \"ns2:MiddelNaam\": \"Hoofddorp\", \"ns2:LangeNaam\": \"Hoofddorp\", \"ns2:UICCode\": \"8400332\"}], \"ns2:PresentatieTreinVleugelEindBestemming\": {\"ns2:Uitingen\": {\"ns2:Uiting\": \"Hoofddorp\"}}, \"ns2:StopStations\": [{\"@InfoStatus\": \"Gepland\", \"ns2:Station\": {\"ns2:StationCode\": \"HFD\", \"ns2:Type\": \"0\", \"ns2:KorteNaam\": \"Hoofddorp\", \"ns2:MiddelNaam\": \"Hoofddorp\", \"ns2:LangeNaam\": \"Hoofddorp\", \"ns2:UICCode\": \"8400332\"}}, {\"@InfoStatus\": \"Actueel\", \"ns2:Station\": {\"ns2:StationCode\": \"HFD\", \"ns2:Type\": \"0\", \"ns2:KorteNaam\": \"Hoofddorp\", \"ns2:MiddelNaam\": \"Hoofddorp\", \"ns2:LangeNaam\": \"Hoofddorp\", \"ns2:UICCode\": \"8400332\"}}], \"ns2:MaterieelDeelDVS\": {\"ns2:MaterieelSoort\": \"SLT\", \"ns2:MaterieelAanduiding\": \"6\", \"ns2:MaterieelLengte\": \"10050\", \"ns2:MaterieelNummer\": \"000000-02636-0\", \"ns2:MaterieelDeelEindBestemming\": [{\"@InfoStatus\": \"Gepland\", \"ns2:StationCode\": \"HFD\", \"ns2:Type\": \"0\", \"ns2:KorteNaam\": \"Hoofddorp\", \"ns2:MiddelNaam\": \"Hoofddorp\", \"ns2:LangeNaam\": \"Hoofddorp\", \"ns2:UICCode\": \"8400332\"}, {\"@InfoStatus\": \"Actueel\", \"ns2:StationCode\": \"HFD\", \"ns2:Type\": \"0\", \"ns2:KorteNaam\": \"Hoofddorp\", \"ns2:MiddelNaam\": \"Hoofddorp\", \"ns2:LangeNaam\": \"Hoofddorp\", \"ns2:UICCode\": \"8400332\"}], \"ns2:PresentatieMaterieelDeelEindBestemming\": {\"ns2:Uitingen\": {\"ns2:Uiting\": \"Hoofddorp\"}}}}}}}}}')\n",
      "(None, u'{\"ns1:PutReisInformatieBoodschapIn\": {\"@xmlns:ns1\": \"urn:ndov:cdm:trein:reisinformatie:messages:5\", \"@xmlns:ns2\": \"urn:ndov:cdm:trein:reisinformatie:data:4\", \"ns2:ReisInformatieProductDVS\": {\"@TimeStamp\": \"2020-05-04T03:19:04.833Z\", \"@Versie\": \"6.2\", \"ns2:RIPAdministratie\": {\"ns2:ReisInformatieProductID\": \"2005040519042300011\", \"ns2:AbonnementId\": \"54\", \"ns2:ReisInformatieTijdstip\": \"2020-05-04T04:29:00.000Z\"}, \"ns2:DynamischeVertrekStaat\": {\"ns2:RitId\": \"6325\", \"ns2:RitDatum\": \"2020-05-04\", \"ns2:RitStation\": {\"ns2:StationCode\": \"HAD\", \"ns2:Type\": \"4\", \"ns2:KorteNaam\": \"Heemstede\", \"ns2:MiddelNaam\": \"Heemstede-A.\", \"ns2:LangeNaam\": \"Heemstede-Aerdenhout\", \"ns2:UICCode\": \"8400302\"}, \"ns2:Trein\": {\"ns2:TreinNummer\": \"6325\", \"ns2:TreinSoort\": {\"@Code\": \"SPR\", \"#text\": \"Sprinter\"}, \"ns2:TreinFormule\": \"1\", \"ns2:TreinStatus\": \"0\", \"ns2:Vervoerder\": \"NS\", \"ns2:Reserveren\": \"N\", \"ns2:Toeslag\": \"N\", \"ns2:NietInstappen\": \"N\", \"ns2:AchterBlijvenAchtersteTreinDeel\": \"N\", \"ns2:RangeerBeweging\": \"N\", \"ns2:SpeciaalKaartje\": \"N\", \"ns2:TreinEindBestemming\": [{\"@InfoStatus\": \"Gepland\", \"ns2:StationCode\": \"GVC\", \"ns2:Type\": \"6\", \"ns2:KorteNaam\": \"Den Haag C\", \"ns2:MiddelNaam\": \"Den Haag C.\", \"ns2:LangeNaam\": \"Den Haag Centraal\", \"ns2:UICCode\": \"8400282\"}, {\"@InfoStatus\": \"Actueel\", \"ns2:StationCode\": \"GVC\", \"ns2:Type\": \"6\", \"ns2:KorteNaam\": \"Den Haag C\", \"ns2:MiddelNaam\": \"Den Haag C.\", \"ns2:LangeNaam\": \"Den Haag Centraal\", \"ns2:UICCode\": \"8400282\"}], \"ns2:PresentatieTreinEindBestemming\": {\"ns2:Uitingen\": {\"ns2:Uiting\": \"Den Haag Centraal\"}}, \"ns2:VertrekTijd\": [{\"@InfoStatus\": \"Gepland\", \"#text\": \"2020-05-04T04:29:00.000Z\"}, {\"@InfoStatus\": \"Actueel\", \"#text\": \"2020-05-04T04:29:00.000Z\"}], \"ns2:ExacteVertrekVertraging\": \"PT0S\", \"ns2:GedempteVertrekVertraging\": \"PT0S\", \"ns2:TreinVertrekSpoor\": [{\"@InfoStatus\": \"Gepland\", \"ns2:SpoorNummer\": \"2\"}, {\"@InfoStatus\": \"Actueel\", \"ns2:SpoorNummer\": \"2\"}], \"ns2:PresentatieTreinVertrekSpoor\": {\"ns2:Uitingen\": {\"ns2:Uiting\": \"2\"}}, \"ns2:VertrekRichting\": \"A\", \"ns2:AfstandPerronEindKopVertrekTrein\": \"0\", \"ns2:VerkorteRoute\": [{\"@InfoStatus\": \"Gepland\", \"ns2:Station\": [{\"ns2:StationCode\": \"LEDN\", \"ns2:Type\": \"5\", \"ns2:KorteNaam\": \"Leiden C\", \"ns2:MiddelNaam\": \"Leiden C.\", \"ns2:LangeNaam\": \"Leiden Centraal\", \"ns2:UICCode\": \"8400390\"}, {\"ns2:StationCode\": \"LAA\", \"ns2:Type\": \"1\", \"ns2:KorteNaam\": \"Laan v NOI\", \"ns2:MiddelNaam\": \"Laan v NOI\", \"ns2:LangeNaam\": \"Den Haag Laan v NOI\", \"ns2:UICCode\": \"8400380\"}]}, {\"@InfoStatus\": \"Actueel\", \"ns2:Station\": [{\"ns2:StationCode\": \"LEDN\", \"ns2:Type\": \"5\", \"ns2:KorteNaam\": \"Leiden C\", \"ns2:MiddelNaam\": \"Leiden C.\", \"ns2:LangeNaam\": \"Leiden Centraal\", \"ns2:UICCode\": \"8400390\"}, {\"ns2:StationCode\": \"LAA\", \"ns2:Type\": \"1\", \"ns2:KorteNaam\": \"Laan v NOI\", \"ns2:MiddelNaam\": \"Laan v NOI\", \"ns2:LangeNaam\": \"Den Haag Laan v NOI\", \"ns2:UICCode\": \"8400380\"}]}], \"ns2:PresentatieVerkorteRoute\": {\"ns2:Uitingen\": {\"ns2:Uiting\": \"Leiden C., Laan v NOI\"}}, \"ns2:TreinVleugel\": {\"ns2:TreinVleugelVertrekSpoor\": [{\"@InfoStatus\": \"Gepland\", \"ns2:SpoorNummer\": \"2\"}, {\"@InfoStatus\": \"Actueel\", \"ns2:SpoorNummer\": \"2\"}], \"ns2:PresentatieTreinVleugelVertrekSpoor\": {\"ns2:Uitingen\": {\"ns2:Uiting\": \"2\"}}, \"ns2:TreinVleugelEindBestemming\": [{\"@InfoStatus\": \"Gepland\", \"ns2:StationCode\": \"GVC\", \"ns2:Type\": \"6\", \"ns2:KorteNaam\": \"Den Haag C\", \"ns2:MiddelNaam\": \"Den Haag C.\", \"ns2:LangeNaam\": \"Den Haag Centraal\", \"ns2:UICCode\": \"8400282\"}, {\"@InfoStatus\": \"Actueel\", \"ns2:StationCode\": \"GVC\", \"ns2:Type\": \"6\", \"ns2:KorteNaam\": \"Den Haag C\", \"ns2:MiddelNaam\": \"Den Haag C.\", \"ns2:LangeNaam\": \"Den Haag Centraal\", \"ns2:UICCode\": \"8400282\"}], \"ns2:PresentatieTreinVleugelEindBestemming\": {\"ns2:Uitingen\": {\"ns2:Uiting\": \"Den Haag Centraal\"}}, \"ns2:StopStations\": [{\"@InfoStatus\": \"Gepland\", \"ns2:Station\": [{\"ns2:StationCode\": \"HIL\", \"ns2:Type\": \"0\", \"ns2:KorteNaam\": \"Hillegom\", \"ns2:MiddelNaam\": \"Hillegom\", \"ns2:LangeNaam\": \"Hillegom\", \"ns2:UICCode\": \"8400329\"}, {\"ns2:StationCode\": \"VH\", \"ns2:Type\": \"0\", \"ns2:KorteNaam\": \"Voorhout\", \"ns2:MiddelNaam\": \"Voorhout\", \"ns2:LangeNaam\": \"Voorhout\", \"ns2:UICCode\": \"8400655\"}, {\"ns2:StationCode\": \"LEDN\", \"ns2:Type\": \"5\", \"ns2:KorteNaam\": \"Leiden C\", \"ns2:MiddelNaam\": \"Leiden C.\", \"ns2:LangeNaam\": \"Leiden Centraal\", \"ns2:UICCode\": \"8400390\"}, {\"ns2:StationCode\": \"DVNK\", \"ns2:Type\": \"0\", \"ns2:KorteNaam\": \"De Vink\", \"ns2:MiddelNaam\": \"De Vink\", \"ns2:LangeNaam\": \"De Vink\", \"ns2:UICCode\": \"8400188\"}, {\"ns2:StationCode\": \"VST\", \"ns2:Type\": \"0\", \"ns2:KorteNaam\": \"Voorschtn\", \"ns2:MiddelNaam\": \"Voorschoten\", \"ns2:LangeNaam\": \"Voorschoten\", \"ns2:UICCode\": \"8400659\"}, {\"ns2:StationCode\": \"GVM\", \"ns2:Type\": \"0\", \"ns2:KorteNaam\": \"Mariahoeve\", \"ns2:MiddelNaam\": \"Mariahoeve\", \"ns2:LangeNaam\": \"Den Haag Mariahoeve\", \"ns2:UICCode\": \"8400278\"}, {\"ns2:StationCode\": \"LAA\", \"ns2:Type\": \"1\", \"ns2:KorteNaam\": \"Laan v NOI\", \"ns2:MiddelNaam\": \"Laan v NOI\", \"ns2:LangeNaam\": \"Den Haag Laan v NOI\", \"ns2:UICCode\": \"8400380\"}, {\"ns2:StationCode\": \"GVC\", \"ns2:Type\": \"6\", \"ns2:KorteNaam\": \"Den Haag C\", \"ns2:MiddelNaam\": \"Den Haag C.\", \"ns2:LangeNaam\": \"Den Haag Centraal\", \"ns2:UICCode\": \"8400282\"}]}, {\"@InfoStatus\": \"Actueel\", \"ns2:Station\": [{\"ns2:StationCode\": \"HIL\", \"ns2:Type\": \"0\", \"ns2:KorteNaam\": \"Hillegom\", \"ns2:MiddelNaam\": \"Hillegom\", \"ns2:LangeNaam\": \"Hillegom\", \"ns2:UICCode\": \"8400329\"}, {\"ns2:StationCode\": \"VH\", \"ns2:Type\": \"0\", \"ns2:KorteNaam\": \"Voorhout\", \"ns2:MiddelNaam\": \"Voorhout\", \"ns2:LangeNaam\": \"Voorhout\", \"ns2:UICCode\": \"8400655\"}, {\"ns2:StationCode\": \"LEDN\", \"ns2:Type\": \"5\", \"ns2:KorteNaam\": \"Leiden C\", \"ns2:MiddelNaam\": \"Leiden C.\", \"ns2:LangeNaam\": \"Leiden Centraal\", \"ns2:UICCode\": \"8400390\"}, {\"ns2:StationCode\": \"DVNK\", \"ns2:Type\": \"0\", \"ns2:KorteNaam\": \"De Vink\", \"ns2:MiddelNaam\": \"De Vink\", \"ns2:LangeNaam\": \"De Vink\", \"ns2:UICCode\": \"8400188\"}, {\"ns2:StationCode\": \"VST\", \"ns2:Type\": \"0\", \"ns2:KorteNaam\": \"Voorschtn\", \"ns2:MiddelNaam\": \"Voorschoten\", \"ns2:LangeNaam\": \"Voorschoten\", \"ns2:UICCode\": \"8400659\"}, {\"ns2:StationCode\": \"GVM\", \"ns2:Type\": \"0\", \"ns2:KorteNaam\": \"Mariahoeve\", \"ns2:MiddelNaam\": \"Mariahoeve\", \"ns2:LangeNaam\": \"Den Haag Mariahoeve\", \"ns2:UICCode\": \"8400278\"}, {\"ns2:StationCode\": \"LAA\", \"ns2:Type\": \"1\", \"ns2:KorteNaam\": \"Laan v NOI\", \"ns2:MiddelNaam\": \"Laan v NOI\", \"ns2:LangeNaam\": \"Den Haag Laan v NOI\", \"ns2:UICCode\": \"8400380\"}, {\"ns2:StationCode\": \"GVC\", \"ns2:Type\": \"6\", \"ns2:KorteNaam\": \"Den Haag C\", \"ns2:MiddelNaam\": \"Den Haag C.\", \"ns2:LangeNaam\": \"Den Haag Centraal\", \"ns2:UICCode\": \"8400282\"}]}], \"ns2:MaterieelDeelDVS\": [{\"ns2:MaterieelSoort\": \"SNG\", \"ns2:MaterieelAanduiding\": \"4\", \"ns2:MaterieelLengte\": \"7576\", \"ns2:MaterieelDeelVertrekPositie\": \"1\", \"ns2:MaterieelDeelVolgordeVertrek\": \"1\", \"ns2:MaterieelNummer\": \"000000-02732-0\", \"ns2:MaterieelDeelEindBestemming\": [{\"@InfoStatus\": \"Gepland\", \"ns2:StationCode\": \"GVC\", \"ns2:Type\": \"6\", \"ns2:KorteNaam\": \"Den Haag C\", \"ns2:MiddelNaam\": \"Den Haag C.\", \"ns2:LangeNaam\": \"Den Haag Centraal\", \"ns2:UICCode\": \"8400282\"}, {\"@InfoStatus\": \"Actueel\", \"ns2:StationCode\": \"GVC\", \"ns2:Type\": \"6\", \"ns2:KorteNaam\": \"Den Haag C\", \"ns2:MiddelNaam\": \"Den Haag C.\", \"ns2:LangeNaam\": \"Den Haag Centraal\", \"ns2:UICCode\": \"8400282\"}], \"ns2:PresentatieMaterieelDeelEindBestemming\": {\"ns2:Uitingen\": {\"ns2:Uiting\": \"Den Haag Centraal\"}}}, {\"ns2:MaterieelSoort\": \"SNG\", \"ns2:MaterieelAanduiding\": \"4\", \"ns2:MaterieelLengte\": \"7576\", \"ns2:MaterieelDeelVertrekPositie\": \"3\", \"ns2:MaterieelDeelVolgordeVertrek\": \"2\", \"ns2:MaterieelNummer\": \"000000-02723-0\", \"ns2:MaterieelDeelEindBestemming\": [{\"@InfoStatus\": \"Gepland\", \"ns2:StationCode\": \"GVC\", \"ns2:Type\": \"6\", \"ns2:KorteNaam\": \"Den Haag C\", \"ns2:MiddelNaam\": \"Den Haag C.\", \"ns2:LangeNaam\": \"Den Haag Centraal\", \"ns2:UICCode\": \"8400282\"}, {\"@InfoStatus\": \"Actueel\", \"ns2:StationCode\": \"GVC\", \"ns2:Type\": \"6\", \"ns2:KorteNaam\": \"Den Haag C\", \"ns2:MiddelNaam\": \"Den Haag C.\", \"ns2:LangeNaam\": \"Den Haag Centraal\", \"ns2:UICCode\": \"8400282\"}], \"ns2:PresentatieMaterieelDeelEindBestemming\": {\"ns2:Uitingen\": {\"ns2:Uiting\": \"Den Haag Centraal\"}}}]}}}}}}')\n",
      "(None, u'{\"ns1:PutReisInformatieBoodschapIn\": {\"@xmlns:ns1\": \"urn:ndov:cdm:trein:reisinformatie:messages:5\", \"@xmlns:ns2\": \"urn:ndov:cdm:trein:reisinformatie:data:4\", \"ns2:ReisInformatieProductDVS\": {\"@TimeStamp\": \"2020-05-04T03:19:04.787Z\", \"@Versie\": \"6.2\", \"ns2:RIPAdministratie\": {\"ns2:ReisInformatieProductID\": \"2005040519042300001\", \"ns2:AbonnementId\": \"54\", \"ns2:ReisInformatieTijdstip\": \"2020-05-04T04:29:00.000Z\"}, \"ns2:DynamischeVertrekStaat\": {\"ns2:RitId\": \"15817\", \"ns2:RitDatum\": \"2020-05-04\", \"ns2:RitStation\": {\"ns2:StationCode\": \"WP\", \"ns2:Type\": \"1\", \"ns2:KorteNaam\": \"Weesp\", \"ns2:MiddelNaam\": \"Weesp\", \"ns2:LangeNaam\": \"Weesp\", \"ns2:UICCode\": \"8400685\"}, \"ns2:Trein\": {\"ns2:TreinNummer\": \"15817\", \"ns2:TreinSoort\": {\"@Code\": \"SPR\", \"#text\": \"Sprinter\"}, \"ns2:TreinFormule\": \"1\", \"ns2:TreinStatus\": \"0\", \"ns2:Vervoerder\": \"NS\", \"ns2:Reserveren\": \"N\", \"ns2:Toeslag\": \"N\", \"ns2:NietInstappen\": \"N\", \"ns2:AchterBlijvenAchtersteTreinDeel\": \"N\", \"ns2:RangeerBeweging\": \"N\", \"ns2:SpeciaalKaartje\": \"N\", \"ns2:TreinEindBestemming\": [{\"@InfoStatus\": \"Gepland\", \"ns2:StationCode\": \"AVAT\", \"ns2:Type\": \"0\", \"ns2:KorteNaam\": \"Vathorst\", \"ns2:MiddelNaam\": \"Vathorst\", \"ns2:LangeNaam\": \"Amersfoort Vathorst\", \"ns2:UICCode\": \"8400228\"}, {\"@InfoStatus\": \"Actueel\", \"ns2:StationCode\": \"AVAT\", \"ns2:Type\": \"0\", \"ns2:KorteNaam\": \"Vathorst\", \"ns2:MiddelNaam\": \"Vathorst\", \"ns2:LangeNaam\": \"Amersfoort Vathorst\", \"ns2:UICCode\": \"8400228\"}], \"ns2:PresentatieTreinEindBestemming\": {\"ns2:Uitingen\": {\"ns2:Uiting\": \"Amersfoort Vathorst\"}}, \"ns2:VertrekTijd\": [{\"@InfoStatus\": \"Gepland\", \"#text\": \"2020-05-04T04:29:00.000Z\"}, {\"@InfoStatus\": \"Actueel\", \"#text\": \"2020-05-04T04:29:00.000Z\"}], \"ns2:ExacteVertrekVertraging\": \"PT0S\", \"ns2:GedempteVertrekVertraging\": \"PT0S\", \"ns2:TreinVertrekSpoor\": [{\"@InfoStatus\": \"Gepland\", \"ns2:SpoorNummer\": \"2\"}, {\"@InfoStatus\": \"Actueel\", \"ns2:SpoorNummer\": \"2\"}], \"ns2:PresentatieTreinVertrekSpoor\": {\"ns2:Uitingen\": {\"ns2:Uiting\": \"2\"}}, \"ns2:VertrekRichting\": \"A\", \"ns2:AfstandPerronEindKopVertrekTrein\": \"0\", \"ns2:VerkorteRoute\": [{\"@InfoStatus\": \"Gepland\", \"ns2:Station\": [{\"ns2:StationCode\": \"NDB\", \"ns2:Type\": \"1\", \"ns2:KorteNaam\": \"Naarden-Bu\", \"ns2:MiddelNaam\": \"Naarden-Bussum\", \"ns2:LangeNaam\": \"Naarden-Bussum\", \"ns2:UICCode\": \"8400452\"}, {\"ns2:StationCode\": \"HVS\", \"ns2:Type\": \"5\", \"ns2:KorteNaam\": \"Hilversum\", \"ns2:MiddelNaam\": \"Hilversum\", \"ns2:LangeNaam\": \"Hilversum\", \"ns2:UICCode\": \"8400322\"}, {\"ns2:StationCode\": \"BRN\", \"ns2:Type\": \"1\", \"ns2:KorteNaam\": \"Baarn\", \"ns2:MiddelNaam\": \"Baarn\", \"ns2:LangeNaam\": \"Baarn\", \"ns2:UICCode\": \"8400086\"}, {\"ns2:StationCode\": \"AMF\", \"ns2:Type\": \"5\", \"ns2:KorteNaam\": \"Amersfrt C\", \"ns2:MiddelNaam\": \"Amersfoort C.\", \"ns2:LangeNaam\": \"Amersfoort Centraal\", \"ns2:UICCode\": \"8400055\"}]}, {\"@InfoStatus\": \"Actueel\", \"ns2:Station\": [{\"ns2:StationCode\": \"NDB\", \"ns2:Type\": \"1\", \"ns2:KorteNaam\": \"Naarden-Bu\", \"ns2:MiddelNaam\": \"Naarden-Bussum\", \"ns2:LangeNaam\": \"Naarden-Bussum\", \"ns2:UICCode\": \"8400452\"}, {\"ns2:StationCode\": \"HVS\", \"ns2:Type\": \"5\", \"ns2:KorteNaam\": \"Hilversum\", \"ns2:MiddelNaam\": \"Hilversum\", \"ns2:LangeNaam\": \"Hilversum\", \"ns2:UICCode\": \"8400322\"}, {\"ns2:StationCode\": \"BRN\", \"ns2:Type\": \"1\", \"ns2:KorteNaam\": \"Baarn\", \"ns2:MiddelNaam\": \"Baarn\", \"ns2:LangeNaam\": \"Baarn\", \"ns2:UICCode\": \"8400086\"}, {\"ns2:StationCode\": \"AMF\", \"ns2:Type\": \"5\", \"ns2:KorteNaam\": \"Amersfrt C\", \"ns2:MiddelNaam\": \"Amersfoort C.\", \"ns2:LangeNaam\": \"Amersfoort Centraal\", \"ns2:UICCode\": \"8400055\"}]}], \"ns2:PresentatieVerkorteRoute\": {\"ns2:Uitingen\": {\"ns2:Uiting\": \"Naarden-Bussum, Hilversum, Baarn, Amersfoort C.\"}}, \"ns2:TreinVleugel\": {\"ns2:TreinVleugelVertrekSpoor\": [{\"@InfoStatus\": \"Gepland\", \"ns2:SpoorNummer\": \"2\"}, {\"@InfoStatus\": \"Actueel\", \"ns2:SpoorNummer\": \"2\"}], \"ns2:PresentatieTreinVleugelVertrekSpoor\": {\"ns2:Uitingen\": {\"ns2:Uiting\": \"2\"}}, \"ns2:TreinVleugelEindBestemming\": [{\"@InfoStatus\": \"Gepland\", \"ns2:StationCode\": \"AVAT\", \"ns2:Type\": \"0\", \"ns2:KorteNaam\": \"Vathorst\", \"ns2:MiddelNaam\": \"Vathorst\", \"ns2:LangeNaam\": \"Amersfoort Vathorst\", \"ns2:UICCode\": \"8400228\"}, {\"@InfoStatus\": \"Actueel\", \"ns2:StationCode\": \"AVAT\", \"ns2:Type\": \"0\", \"ns2:KorteNaam\": \"Vathorst\", \"ns2:MiddelNaam\": \"Vathorst\", \"ns2:LangeNaam\": \"Amersfoort Vathorst\", \"ns2:UICCode\": \"8400228\"}], \"ns2:PresentatieTreinVleugelEindBestemming\": {\"ns2:Uitingen\": {\"ns2:Uiting\": \"Amersfoort Vathorst\"}}, \"ns2:StopStations\": [{\"@InfoStatus\": \"Gepland\", \"ns2:Station\": [{\"ns2:StationCode\": \"NDB\", \"ns2:Type\": \"1\", \"ns2:KorteNaam\": \"Naarden-Bu\", \"ns2:MiddelNaam\": \"Naarden-Bussum\", \"ns2:LangeNaam\": \"Naarden-Bussum\", \"ns2:UICCode\": \"8400452\"}, {\"ns2:StationCode\": \"BSMZ\", \"ns2:Type\": \"0\", \"ns2:KorteNaam\": \"Bussum Z\", \"ns2:MiddelNaam\": \"Bussum Z.\", \"ns2:LangeNaam\": \"Bussum Zuid\", \"ns2:UICCode\": \"8400145\"}, {\"ns2:StationCode\": \"HVSM\", \"ns2:Type\": \"0\", \"ns2:KorteNaam\": \"Media Park\", \"ns2:MiddelNaam\": \"Media Park\", \"ns2:LangeNaam\": \"Hilversum Media Park\", \"ns2:UICCode\": \"8400324\"}, {\"ns2:StationCode\": \"HVS\", \"ns2:Type\": \"5\", \"ns2:KorteNaam\": \"Hilversum\", \"ns2:MiddelNaam\": \"Hilversum\", \"ns2:LangeNaam\": \"Hilversum\", \"ns2:UICCode\": \"8400322\"}, {\"ns2:StationCode\": \"BRN\", \"ns2:Type\": \"1\", \"ns2:KorteNaam\": \"Baarn\", \"ns2:MiddelNaam\": \"Baarn\", \"ns2:LangeNaam\": \"Baarn\", \"ns2:UICCode\": \"8400086\"}, {\"ns2:StationCode\": \"AMF\", \"ns2:Type\": \"5\", \"ns2:KorteNaam\": \"Amersfrt C\", \"ns2:MiddelNaam\": \"Amersfoort C.\", \"ns2:LangeNaam\": \"Amersfoort Centraal\", \"ns2:UICCode\": \"8400055\"}, {\"ns2:StationCode\": \"AMFS\", \"ns2:Type\": \"0\", \"ns2:KorteNaam\": \"Schothorst\", \"ns2:MiddelNaam\": \"Schothorst\", \"ns2:LangeNaam\": \"Amersfoort Schothorst\", \"ns2:UICCode\": \"8400054\"}, {\"ns2:StationCode\": \"AVAT\", \"ns2:Type\": \"0\", \"ns2:KorteNaam\": \"Vathorst\", \"ns2:MiddelNaam\": \"Vathorst\", \"ns2:LangeNaam\": \"Amersfoort Vathorst\", \"ns2:UICCode\": \"8400228\"}]}, {\"@InfoStatus\": \"Actueel\", \"ns2:Station\": [{\"ns2:StationCode\": \"NDB\", \"ns2:Type\": \"1\", \"ns2:KorteNaam\": \"Naarden-Bu\", \"ns2:MiddelNaam\": \"Naarden-Bussum\", \"ns2:LangeNaam\": \"Naarden-Bussum\", \"ns2:UICCode\": \"8400452\"}, {\"ns2:StationCode\": \"BSMZ\", \"ns2:Type\": \"0\", \"ns2:KorteNaam\": \"Bussum Z\", \"ns2:MiddelNaam\": \"Bussum Z.\", \"ns2:LangeNaam\": \"Bussum Zuid\", \"ns2:UICCode\": \"8400145\"}, {\"ns2:StationCode\": \"HVSM\", \"ns2:Type\": \"0\", \"ns2:KorteNaam\": \"Media Park\", \"ns2:MiddelNaam\": \"Media Park\", \"ns2:LangeNaam\": \"Hilversum Media Park\", \"ns2:UICCode\": \"8400324\"}, {\"ns2:StationCode\": \"HVS\", \"ns2:Type\": \"5\", \"ns2:KorteNaam\": \"Hilversum\", \"ns2:MiddelNaam\": \"Hilversum\", \"ns2:LangeNaam\": \"Hilversum\", \"ns2:UICCode\": \"8400322\"}, {\"ns2:StationCode\": \"BRN\", \"ns2:Type\": \"1\", \"ns2:KorteNaam\": \"Baarn\", \"ns2:MiddelNaam\": \"Baarn\", \"ns2:LangeNaam\": \"Baarn\", \"ns2:UICCode\": \"8400086\"}, {\"ns2:StationCode\": \"AMF\", \"ns2:Type\": \"5\", \"ns2:KorteNaam\": \"Amersfrt C\", \"ns2:MiddelNaam\": \"Amersfoort C.\", \"ns2:LangeNaam\": \"Amersfoort Centraal\", \"ns2:UICCode\": \"8400055\"}, {\"ns2:StationCode\": \"AMFS\", \"ns2:Type\": \"0\", \"ns2:KorteNaam\": \"Schothorst\", \"ns2:MiddelNaam\": \"Schothorst\", \"ns2:LangeNaam\": \"Amersfoort Schothorst\", \"ns2:UICCode\": \"8400054\"}, {\"ns2:StationCode\": \"AVAT\", \"ns2:Type\": \"0\", \"ns2:KorteNaam\": \"Vathorst\", \"ns2:MiddelNaam\": \"Vathorst\", \"ns2:LangeNaam\": \"Amersfoort Vathorst\", \"ns2:UICCode\": \"8400228\"}]}], \"ns2:MaterieelDeelDVS\": {\"ns2:MaterieelSoort\": \"SLT\", \"ns2:MaterieelAanduiding\": \"4\", \"ns2:MaterieelLengte\": \"6940\", \"ns2:MaterieelNummer\": \"000000-02412-0\", \"ns2:MaterieelDeelEindBestemming\": [{\"@InfoStatus\": \"Gepland\", \"ns2:StationCode\": \"AVAT\", \"ns2:Type\": \"0\", \"ns2:KorteNaam\": \"Vathorst\", \"ns2:MiddelNaam\": \"Vathorst\", \"ns2:LangeNaam\": \"Amersfoort Vathorst\", \"ns2:UICCode\": \"8400228\"}, {\"@InfoStatus\": \"Actueel\", \"ns2:StationCode\": \"AVAT\", \"ns2:Type\": \"0\", \"ns2:KorteNaam\": \"Vathorst\", \"ns2:MiddelNaam\": \"Vathorst\", \"ns2:LangeNaam\": \"Amersfoort Vathorst\", \"ns2:UICCode\": \"8400228\"}], \"ns2:PresentatieMaterieelDeelEindBestemming\": {\"ns2:Uitingen\": {\"ns2:Uiting\": \"Amersfoort Vathorst\"}}}}}}}}}')\n",
      "(None, u'{\"ns1:PutReisInformatieBoodschapIn\": {\"@xmlns:ns1\": \"urn:ndov:cdm:trein:reisinformatie:messages:5\", \"@xmlns:ns2\": \"urn:ndov:cdm:trein:reisinformatie:data:4\", \"ns2:ReisInformatieProductDVS\": {\"@TimeStamp\": \"2020-05-04T03:19:04.826Z\", \"@Versie\": \"6.2\", \"ns2:RIPAdministratie\": {\"ns2:ReisInformatieProductID\": \"2005040519042300009\", \"ns2:AbonnementId\": \"54\", \"ns2:ReisInformatieTijdstip\": \"2020-05-04T04:29:00.000Z\"}, \"ns2:DynamischeVertrekStaat\": {\"ns2:RitId\": \"32011\", \"ns2:RitDatum\": \"2020-05-04\", \"ns2:RitStation\": {\"ns2:StationCode\": \"VDL\", \"ns2:Type\": \"0\", \"ns2:KorteNaam\": \"Voerendaal\", \"ns2:MiddelNaam\": \"Voerendaal\", \"ns2:LangeNaam\": \"Voerendaal\", \"ns2:UICCode\": \"8400656\"}, \"ns2:Trein\": {\"ns2:TreinNummer\": \"32011\", \"ns2:TreinSoort\": {\"@Code\": \"ST\", \"#text\": \"Stoptrein\"}, \"ns2:TreinFormule\": \"1\", \"ns2:TreinStatus\": \"0\", \"ns2:LijnNummer\": \"RS18\", \"ns2:Vervoerder\": \"Arriva\", \"ns2:Reserveren\": \"N\", \"ns2:Toeslag\": \"N\", \"ns2:NietInstappen\": \"N\", \"ns2:AchterBlijvenAchtersteTreinDeel\": \"N\", \"ns2:RangeerBeweging\": \"N\", \"ns2:SpeciaalKaartje\": \"N\", \"ns2:TreinEindBestemming\": [{\"@InfoStatus\": \"Gepland\", \"ns2:StationCode\": \"MTR\", \"ns2:Type\": \"1\", \"ns2:KorteNaam\": \"Randwyck\", \"ns2:MiddelNaam\": \"Randwyck\", \"ns2:LangeNaam\": \"Maastricht Randwyck\", \"ns2:UICCode\": \"8400426\"}, {\"@InfoStatus\": \"Actueel\", \"ns2:StationCode\": \"MTR\", \"ns2:Type\": \"1\", \"ns2:KorteNaam\": \"Randwyck\", \"ns2:MiddelNaam\": \"Randwyck\", \"ns2:LangeNaam\": \"Maastricht Randwyck\", \"ns2:UICCode\": \"8400426\"}], \"ns2:PresentatieTreinEindBestemming\": {\"ns2:Uitingen\": {\"ns2:Uiting\": \"Maastricht Randwyck\"}}, \"ns2:VertrekTijd\": [{\"@InfoStatus\": \"Gepland\", \"#text\": \"2020-05-04T04:29:00.000Z\"}, {\"@InfoStatus\": \"Actueel\", \"#text\": \"2020-05-04T04:29:00.000Z\"}], \"ns2:ExacteVertrekVertraging\": \"PT0S\", \"ns2:GedempteVertrekVertraging\": \"PT0S\", \"ns2:TreinVertrekSpoor\": [{\"@InfoStatus\": \"Gepland\", \"ns2:SpoorNummer\": \"2\"}, {\"@InfoStatus\": \"Actueel\", \"ns2:SpoorNummer\": \"2\"}], \"ns2:PresentatieTreinVertrekSpoor\": {\"ns2:Uitingen\": {\"ns2:Uiting\": \"2\"}}, \"ns2:VertrekRichting\": \"A\", \"ns2:AfstandPerronEindKopVertrekTrein\": \"0\", \"ns2:VerkorteRoute\": [{\"@InfoStatus\": \"Gepland\", \"ns2:Station\": [{\"ns2:StationCode\": \"VK\", \"ns2:Type\": \"3\", \"ns2:KorteNaam\": \"Valkenburg\", \"ns2:MiddelNaam\": \"Valkenburg\", \"ns2:LangeNaam\": \"Valkenburg\", \"ns2:UICCode\": \"8400632\"}, {\"ns2:StationCode\": \"MT\", \"ns2:Type\": \"5\", \"ns2:KorteNaam\": \"Maastricht\", \"ns2:MiddelNaam\": \"Maastricht\", \"ns2:LangeNaam\": \"Maastricht\", \"ns2:UICCode\": \"8400424\"}]}, {\"@InfoStatus\": \"Actueel\", \"ns2:Station\": [{\"ns2:StationCode\": \"VK\", \"ns2:Type\": \"3\", \"ns2:KorteNaam\": \"Valkenburg\", \"ns2:MiddelNaam\": \"Valkenburg\", \"ns2:LangeNaam\": \"Valkenburg\", \"ns2:UICCode\": \"8400632\"}, {\"ns2:StationCode\": \"MT\", \"ns2:Type\": \"5\", \"ns2:KorteNaam\": \"Maastricht\", \"ns2:MiddelNaam\": \"Maastricht\", \"ns2:LangeNaam\": \"Maastricht\", \"ns2:UICCode\": \"8400424\"}]}], \"ns2:PresentatieVerkorteRoute\": {\"ns2:Uitingen\": {\"ns2:Uiting\": \"Valkenburg, Maastricht\"}}, \"ns2:TreinVleugel\": {\"ns2:TreinVleugelVertrekSpoor\": [{\"@InfoStatus\": \"Gepland\", \"ns2:SpoorNummer\": \"2\"}, {\"@InfoStatus\": \"Actueel\", \"ns2:SpoorNummer\": \"2\"}], \"ns2:PresentatieTreinVleugelVertrekSpoor\": {\"ns2:Uitingen\": {\"ns2:Uiting\": \"2\"}}, \"ns2:TreinVleugelEindBestemming\": [{\"@InfoStatus\": \"Gepland\", \"ns2:StationCode\": \"MTR\", \"ns2:Type\": \"1\", \"ns2:KorteNaam\": \"Randwyck\", \"ns2:MiddelNaam\": \"Randwyck\", \"ns2:LangeNaam\": \"Maastricht Randwyck\", \"ns2:UICCode\": \"8400426\"}, {\"@InfoStatus\": \"Actueel\", \"ns2:StationCode\": \"MTR\", \"ns2:Type\": \"1\", \"ns2:KorteNaam\": \"Randwyck\", \"ns2:MiddelNaam\": \"Randwyck\", \"ns2:LangeNaam\": \"Maastricht Randwyck\", \"ns2:UICCode\": \"8400426\"}], \"ns2:PresentatieTreinVleugelEindBestemming\": {\"ns2:Uitingen\": {\"ns2:Uiting\": \"Maastricht Randwyck\"}}, \"ns2:StopStations\": [{\"@InfoStatus\": \"Gepland\", \"ns2:Station\": [{\"ns2:StationCode\": \"KMR\", \"ns2:Type\": \"0\", \"ns2:KorteNaam\": \"Klimmen-R\", \"ns2:MiddelNaam\": \"Klimmen-Ransdaal\", \"ns2:LangeNaam\": \"Klimmen-Ransdaal\", \"ns2:UICCode\": \"8400362\"}, {\"ns2:StationCode\": \"SOG\", \"ns2:Type\": \"0\", \"ns2:KorteNaam\": \"Schin op G\", \"ns2:MiddelNaam\": \"Schin op Geul\", \"ns2:LangeNaam\": \"Schin op Geul\", \"ns2:UICCode\": \"8400555\"}, {\"ns2:StationCode\": \"VK\", \"ns2:Type\": \"3\", \"ns2:KorteNaam\": \"Valkenburg\", \"ns2:MiddelNaam\": \"Valkenburg\", \"ns2:LangeNaam\": \"Valkenburg\", \"ns2:UICCode\": \"8400632\"}, {\"ns2:StationCode\": \"SGL\", \"ns2:Type\": \"0\", \"ns2:KorteNaam\": \"Houthem-St\", \"ns2:MiddelNaam\": \"Houthem-St Gerl.\", \"ns2:LangeNaam\": \"Houthem-St. Gerlach\", \"ns2:UICCode\": \"8400341\"}, {\"ns2:StationCode\": \"MES\", \"ns2:Type\": \"2\", \"ns2:KorteNaam\": \"Meerssen\", \"ns2:MiddelNaam\": \"Meerssen\", \"ns2:LangeNaam\": \"Meerssen\", \"ns2:UICCode\": \"8400434\"}, {\"ns2:StationCode\": \"MTN\", \"ns2:Type\": \"0\", \"ns2:KorteNaam\": \"Maastr. N\", \"ns2:MiddelNaam\": \"Maastricht N.\", \"ns2:LangeNaam\": \"Maastricht Noord\", \"ns2:UICCode\": \"8400449\"}, {\"ns2:StationCode\": \"MT\", \"ns2:Type\": \"5\", \"ns2:KorteNaam\": \"Maastricht\", \"ns2:MiddelNaam\": \"Maastricht\", \"ns2:LangeNaam\": \"Maastricht\", \"ns2:UICCode\": \"8400424\"}, {\"ns2:StationCode\": \"MTR\", \"ns2:Type\": \"1\", \"ns2:KorteNaam\": \"Randwyck\", \"ns2:MiddelNaam\": \"Randwyck\", \"ns2:LangeNaam\": \"Maastricht Randwyck\", \"ns2:UICCode\": \"8400426\"}]}, {\"@InfoStatus\": \"Actueel\", \"ns2:Station\": [{\"ns2:StationCode\": \"KMR\", \"ns2:Type\": \"0\", \"ns2:KorteNaam\": \"Klimmen-R\", \"ns2:MiddelNaam\": \"Klimmen-Ransdaal\", \"ns2:LangeNaam\": \"Klimmen-Ransdaal\", \"ns2:UICCode\": \"8400362\"}, {\"ns2:StationCode\": \"SOG\", \"ns2:Type\": \"0\", \"ns2:KorteNaam\": \"Schin op G\", \"ns2:MiddelNaam\": \"Schin op Geul\", \"ns2:LangeNaam\": \"Schin op Geul\", \"ns2:UICCode\": \"8400555\"}, {\"ns2:StationCode\": \"VK\", \"ns2:Type\": \"3\", \"ns2:KorteNaam\": \"Valkenburg\", \"ns2:MiddelNaam\": \"Valkenburg\", \"ns2:LangeNaam\": \"Valkenburg\", \"ns2:UICCode\": \"8400632\"}, {\"ns2:StationCode\": \"SGL\", \"ns2:Type\": \"0\", \"ns2:KorteNaam\": \"Houthem-St\", \"ns2:MiddelNaam\": \"Houthem-St Gerl.\", \"ns2:LangeNaam\": \"Houthem-St. Gerlach\", \"ns2:UICCode\": \"8400341\"}, {\"ns2:StationCode\": \"MES\", \"ns2:Type\": \"2\", \"ns2:KorteNaam\": \"Meerssen\", \"ns2:MiddelNaam\": \"Meerssen\", \"ns2:LangeNaam\": \"Meerssen\", \"ns2:UICCode\": \"8400434\"}, {\"ns2:StationCode\": \"MTN\", \"ns2:Type\": \"0\", \"ns2:KorteNaam\": \"Maastr. N\", \"ns2:MiddelNaam\": \"Maastricht N.\", \"ns2:LangeNaam\": \"Maastricht Noord\", \"ns2:UICCode\": \"8400449\"}, {\"ns2:StationCode\": \"MT\", \"ns2:Type\": \"5\", \"ns2:KorteNaam\": \"Maastricht\", \"ns2:MiddelNaam\": \"Maastricht\", \"ns2:LangeNaam\": \"Maastricht\", \"ns2:UICCode\": \"8400424\"}, {\"ns2:StationCode\": \"MTR\", \"ns2:Type\": \"1\", \"ns2:KorteNaam\": \"Randwyck\", \"ns2:MiddelNaam\": \"Randwyck\", \"ns2:LangeNaam\": \"Maastricht Randwyck\", \"ns2:UICCode\": \"8400426\"}]}], \"ns2:MaterieelDeelDVS\": [{\"ns2:MaterieelSoort\": \"FLIRT ARR\", \"ns2:MaterieelAanduiding\": \"2\", \"ns2:MaterieelLengte\": \"4600\", \"ns2:MaterieelDeelVertrekPositie\": \"1\", \"ns2:MaterieelDeelVolgordeVertrek\": \"1\", \"ns2:MaterieelDeelEindBestemming\": [{\"@InfoStatus\": \"Gepland\", \"ns2:StationCode\": \"MTR\", \"ns2:Type\": \"1\", \"ns2:KorteNaam\": \"Randwyck\", \"ns2:MiddelNaam\": \"Randwyck\", \"ns2:LangeNaam\": \"Maastricht Randwyck\", \"ns2:UICCode\": \"8400426\"}, {\"@InfoStatus\": \"Actueel\", \"ns2:StationCode\": \"MTR\", \"ns2:Type\": \"1\", \"ns2:KorteNaam\": \"Randwyck\", \"ns2:MiddelNaam\": \"Randwyck\", \"ns2:LangeNaam\": \"Maastricht Randwyck\", \"ns2:UICCode\": \"8400426\"}], \"ns2:PresentatieMaterieelDeelEindBestemming\": {\"ns2:Uitingen\": {\"ns2:Uiting\": \"Maastricht Randwyck\"}}}, {\"ns2:MaterieelSoort\": \"FLIRT ARR\", \"ns2:MaterieelAanduiding\": \"2\", \"ns2:MaterieelLengte\": \"4600\", \"ns2:MaterieelDeelVertrekPositie\": \"1\", \"ns2:MaterieelDeelVolgordeVertrek\": \"2\", \"ns2:MaterieelDeelEindBestemming\": [{\"@InfoStatus\": \"Gepland\", \"ns2:StationCode\": \"MTR\", \"ns2:Type\": \"1\", \"ns2:KorteNaam\": \"Randwyck\", \"ns2:MiddelNaam\": \"Randwyck\", \"ns2:LangeNaam\": \"Maastricht Randwyck\", \"ns2:UICCode\": \"8400426\"}, {\"@InfoStatus\": \"Actueel\", \"ns2:StationCode\": \"MTR\", \"ns2:Type\": \"1\", \"ns2:KorteNaam\": \"Randwyck\", \"ns2:MiddelNaam\": \"Randwyck\", \"ns2:LangeNaam\": \"Maastricht Randwyck\", \"ns2:UICCode\": \"8400426\"}], \"ns2:PresentatieMaterieelDeelEindBestemming\": {\"ns2:Uitingen\": {\"ns2:Uiting\": \"Maastricht Randwyck\"}}}]}}}}}}')\n",
      "(None, u'{\"ns1:PutReisInformatieBoodschapIn\": {\"@xmlns:ns1\": \"urn:ndov:cdm:trein:reisinformatie:messages:5\", \"@xmlns:ns2\": \"urn:ndov:cdm:trein:reisinformatie:data:4\", \"ns2:ReisInformatieProductDVS\": {\"@TimeStamp\": \"2020-05-04T03:19:04.806Z\", \"@Versie\": \"6.2\", \"ns2:RIPAdministratie\": {\"ns2:ReisInformatieProductID\": \"2005040519042300005\", \"ns2:AbonnementId\": \"54\", \"ns2:ReisInformatieTijdstip\": \"2020-05-04T04:29:00.000Z\"}, \"ns2:DynamischeVertrekStaat\": {\"ns2:RitId\": \"4916\", \"ns2:RitDatum\": \"2020-05-04\", \"ns2:RitStation\": {\"ns2:StationCode\": \"UTO\", \"ns2:Type\": \"1\", \"ns2:KorteNaam\": \"Overvecht\", \"ns2:MiddelNaam\": \"Overvecht\", \"ns2:LangeNaam\": \"Utrecht Overvecht\", \"ns2:UICCode\": \"8400620\"}, \"ns2:Trein\": {\"ns2:TreinNummer\": \"4916\", \"ns2:TreinSoort\": {\"@Code\": \"SPR\", \"#text\": \"Sprinter\"}, \"ns2:TreinFormule\": \"1\", \"ns2:TreinStatus\": \"0\", \"ns2:Vervoerder\": \"NS\", \"ns2:Reserveren\": \"N\", \"ns2:Toeslag\": \"N\", \"ns2:NietInstappen\": \"N\", \"ns2:AchterBlijvenAchtersteTreinDeel\": \"N\", \"ns2:RangeerBeweging\": \"N\", \"ns2:SpeciaalKaartje\": \"N\", \"ns2:ReisTip\": {\"ns2:ReisTipStation\": [{\"ns2:StationCode\": \"HVSM\", \"ns2:Type\": \"0\", \"ns2:KorteNaam\": \"Media Park\", \"ns2:MiddelNaam\": \"Media Park\", \"ns2:LangeNaam\": \"Hilversum Media Park\", \"ns2:UICCode\": \"8400324\"}, {\"ns2:StationCode\": \"BSMZ\", \"ns2:Type\": \"0\", \"ns2:KorteNaam\": \"Bussum Z\", \"ns2:MiddelNaam\": \"Bussum Z.\", \"ns2:LangeNaam\": \"Bussum Zuid\", \"ns2:UICCode\": \"8400145\"}], \"ns2:ReisTipCode\": \"STNS\", \"ns2:PresentatieReisTip\": {\"ns2:Uitingen\": [{\"@Taal\": \"nl\", \"ns2:Uiting\": {\"@Prioriteit\": \"2\", \"#text\": \"Stopt niet in Media Park, Bussum Z.\"}}, {\"@Taal\": \"en\", \"ns2:Uiting\": {\"@Prioriteit\": \"2\", \"#text\": \"Not stopping in Media Park, Bussum Z.\"}}]}}, \"ns2:TreinEindBestemming\": [{\"@InfoStatus\": \"Gepland\", \"ns2:StationCode\": \"ALM\", \"ns2:Type\": \"5\", \"ns2:KorteNaam\": \"Almere C\", \"ns2:MiddelNaam\": \"Almere C.\", \"ns2:LangeNaam\": \"Almere Centrum\", \"ns2:UICCode\": \"8400080\"}, {\"@InfoStatus\": \"Actueel\", \"ns2:StationCode\": \"ALM\", \"ns2:Type\": \"5\", \"ns2:KorteNaam\": \"Almere C\", \"ns2:MiddelNaam\": \"Almere C.\", \"ns2:LangeNaam\": \"Almere Centrum\", \"ns2:UICCode\": \"8400080\"}], \"ns2:PresentatieTreinEindBestemming\": {\"ns2:Uitingen\": {\"ns2:Uiting\": \"Almere Centrum\"}}, \"ns2:VertrekTijd\": [{\"@InfoStatus\": \"Gepland\", \"#text\": \"2020-05-04T04:29:00.000Z\"}, {\"@InfoStatus\": \"Actueel\", \"#text\": \"2020-05-04T04:29:00.000Z\"}], \"ns2:ExacteVertrekVertraging\": \"PT0S\", \"ns2:GedempteVertrekVertraging\": \"PT0S\", \"ns2:TreinVertrekSpoor\": [{\"@InfoStatus\": \"Gepland\", \"ns2:SpoorNummer\": \"1\"}, {\"@InfoStatus\": \"Actueel\", \"ns2:SpoorNummer\": \"1\"}], \"ns2:PresentatieTreinVertrekSpoor\": {\"ns2:Uitingen\": {\"ns2:Uiting\": \"1\"}}, \"ns2:VertrekRichting\": \"A\", \"ns2:AfstandPerronEindKopVertrekTrein\": \"0\", \"ns2:VerkorteRoute\": [{\"@InfoStatus\": \"Gepland\", \"ns2:Station\": [{\"ns2:StationCode\": \"HVS\", \"ns2:Type\": \"5\", \"ns2:KorteNaam\": \"Hilversum\", \"ns2:MiddelNaam\": \"Hilversum\", \"ns2:LangeNaam\": \"Hilversum\", \"ns2:UICCode\": \"8400322\"}, {\"ns2:StationCode\": \"NDB\", \"ns2:Type\": \"1\", \"ns2:KorteNaam\": \"Naarden-Bu\", \"ns2:MiddelNaam\": \"Naarden-Bussum\", \"ns2:LangeNaam\": \"Naarden-Bussum\", \"ns2:UICCode\": \"8400452\"}]}, {\"@InfoStatus\": \"Actueel\", \"ns2:Station\": [{\"ns2:StationCode\": \"HVS\", \"ns2:Type\": \"5\", \"ns2:KorteNaam\": \"Hilversum\", \"ns2:MiddelNaam\": \"Hilversum\", \"ns2:LangeNaam\": \"Hilversum\", \"ns2:UICCode\": \"8400322\"}, {\"ns2:StationCode\": \"NDB\", \"ns2:Type\": \"1\", \"ns2:KorteNaam\": \"Naarden-Bu\", \"ns2:MiddelNaam\": \"Naarden-Bussum\", \"ns2:LangeNaam\": \"Naarden-Bussum\", \"ns2:UICCode\": \"8400452\"}]}], \"ns2:PresentatieVerkorteRoute\": {\"ns2:Uitingen\": {\"ns2:Uiting\": \"Hilversum, Naarden-Bussum\"}}, \"ns2:TreinVleugel\": {\"ns2:TreinVleugelVertrekSpoor\": [{\"@InfoStatus\": \"Gepland\", \"ns2:SpoorNummer\": \"1\"}, {\"@InfoStatus\": \"Actueel\", \"ns2:SpoorNummer\": \"1\"}], \"ns2:PresentatieTreinVleugelVertrekSpoor\": {\"ns2:Uitingen\": {\"ns2:Uiting\": \"1\"}}, \"ns2:TreinVleugelEindBestemming\": [{\"@InfoStatus\": \"Gepland\", \"ns2:StationCode\": \"ALM\", \"ns2:Type\": \"5\", \"ns2:KorteNaam\": \"Almere C\", \"ns2:MiddelNaam\": \"Almere C.\", \"ns2:LangeNaam\": \"Almere Centrum\", \"ns2:UICCode\": \"8400080\"}, {\"@InfoStatus\": \"Actueel\", \"ns2:StationCode\": \"ALM\", \"ns2:Type\": \"5\", \"ns2:KorteNaam\": \"Almere C\", \"ns2:MiddelNaam\": \"Almere C.\", \"ns2:LangeNaam\": \"Almere Centrum\", \"ns2:UICCode\": \"8400080\"}], \"ns2:PresentatieTreinVleugelEindBestemming\": {\"ns2:Uitingen\": {\"ns2:Uiting\": \"Almere Centrum\"}}, \"ns2:StopStations\": [{\"@InfoStatus\": \"Gepland\", \"ns2:Station\": [{\"ns2:StationCode\": \"HOR\", \"ns2:Type\": \"0\", \"ns2:KorteNaam\": \"Hol Rading\", \"ns2:MiddelNaam\": \"Holl. Rading\", \"ns2:LangeNaam\": \"Hollandsche Rading\", \"ns2:UICCode\": \"8400327\"}, {\"ns2:StationCode\": \"HVSP\", \"ns2:Type\": \"0\", \"ns2:KorteNaam\": \"Sportpark\", \"ns2:MiddelNaam\": \"Sportpark\", \"ns2:LangeNaam\": \"Hilversum Sportpark\", \"ns2:UICCode\": \"8400570\"}, {\"ns2:StationCode\": \"HVS\", \"ns2:Type\": \"5\", \"ns2:KorteNaam\": \"Hilversum\", \"ns2:MiddelNaam\": \"Hilversum\", \"ns2:LangeNaam\": \"Hilversum\", \"ns2:UICCode\": \"8400322\"}, {\"ns2:StationCode\": \"NDB\", \"ns2:Type\": \"1\", \"ns2:KorteNaam\": \"Naarden-Bu\", \"ns2:MiddelNaam\": \"Naarden-Bussum\", \"ns2:LangeNaam\": \"Naarden-Bussum\", \"ns2:UICCode\": \"8400452\"}, {\"ns2:StationCode\": \"AMPO\", \"ns2:Type\": \"0\", \"ns2:KorteNaam\": \"Poort\", \"ns2:MiddelNaam\": \"Poort\", \"ns2:LangeNaam\": \"Almere Poort\", \"ns2:UICCode\": \"8400450\"}, {\"ns2:StationCode\": \"ALMM\", \"ns2:Type\": \"0\", \"ns2:KorteNaam\": \"Muziekwijk\", \"ns2:MiddelNaam\": \"Muziekwijk\", \"ns2:LangeNaam\": \"Almere Muziekwijk\", \"ns2:UICCode\": \"8400082\"}, {\"ns2:StationCode\": \"ALM\", \"ns2:Type\": \"5\", \"ns2:KorteNaam\": \"Almere C\", \"ns2:MiddelNaam\": \"Almere C.\", \"ns2:LangeNaam\": \"Almere Centrum\", \"ns2:UICCode\": \"8400080\"}]}, {\"@InfoStatus\": \"Actueel\", \"ns2:Station\": [{\"ns2:StationCode\": \"HOR\", \"ns2:Type\": \"0\", \"ns2:KorteNaam\": \"Hol Rading\", \"ns2:MiddelNaam\": \"Holl. Rading\", \"ns2:LangeNaam\": \"Hollandsche Rading\", \"ns2:UICCode\": \"8400327\"}, {\"ns2:StationCode\": \"HVSP\", \"ns2:Type\": \"0\", \"ns2:KorteNaam\": \"Sportpark\", \"ns2:MiddelNaam\": \"Sportpark\", \"ns2:LangeNaam\": \"Hilversum Sportpark\", \"ns2:UICCode\": \"8400570\"}, {\"ns2:StationCode\": \"HVS\", \"ns2:Type\": \"5\", \"ns2:KorteNaam\": \"Hilversum\", \"ns2:MiddelNaam\": \"Hilversum\", \"ns2:LangeNaam\": \"Hilversum\", \"ns2:UICCode\": \"8400322\"}, {\"ns2:StationCode\": \"NDB\", \"ns2:Type\": \"1\", \"ns2:KorteNaam\": \"Naarden-Bu\", \"ns2:MiddelNaam\": \"Naarden-Bussum\", \"ns2:LangeNaam\": \"Naarden-Bussum\", \"ns2:UICCode\": \"8400452\"}, {\"ns2:StationCode\": \"AMPO\", \"ns2:Type\": \"0\", \"ns2:KorteNaam\": \"Poort\", \"ns2:MiddelNaam\": \"Poort\", \"ns2:LangeNaam\": \"Almere Poort\", \"ns2:UICCode\": \"8400450\"}, {\"ns2:StationCode\": \"ALMM\", \"ns2:Type\": \"0\", \"ns2:KorteNaam\": \"Muziekwijk\", \"ns2:MiddelNaam\": \"Muziekwijk\", \"ns2:LangeNaam\": \"Almere Muziekwijk\", \"ns2:UICCode\": \"8400082\"}, {\"ns2:StationCode\": \"ALM\", \"ns2:Type\": \"5\", \"ns2:KorteNaam\": \"Almere C\", \"ns2:MiddelNaam\": \"Almere C.\", \"ns2:LangeNaam\": \"Almere Centrum\", \"ns2:UICCode\": \"8400080\"}]}], \"ns2:MaterieelDeelDVS\": {\"ns2:MaterieelSoort\": \"SLT\", \"ns2:MaterieelAanduiding\": \"6\", \"ns2:MaterieelLengte\": \"10050\", \"ns2:MaterieelNummer\": \"000000-02615-0\", \"ns2:MaterieelDeelEindBestemming\": [{\"@InfoStatus\": \"Gepland\", \"ns2:StationCode\": \"ALM\", \"ns2:Type\": \"5\", \"ns2:KorteNaam\": \"Almere C\", \"ns2:MiddelNaam\": \"Almere C.\", \"ns2:LangeNaam\": \"Almere Centrum\", \"ns2:UICCode\": \"8400080\"}, {\"@InfoStatus\": \"Actueel\", \"ns2:StationCode\": \"ALM\", \"ns2:Type\": \"5\", \"ns2:KorteNaam\": \"Almere C\", \"ns2:MiddelNaam\": \"Almere C.\", \"ns2:LangeNaam\": \"Almere Centrum\", \"ns2:UICCode\": \"8400080\"}], \"ns2:PresentatieMaterieelDeelEindBestemming\": {\"ns2:Uitingen\": {\"ns2:Uiting\": \"Almere Centrum\"}}}}}, \"ns2:PresentatieOpmerkingen\": {\"ns2:Uitingen\": [{\"@Taal\": \"nl\", \"ns2:Uiting\": {\"@Prioriteit\": \"8\", \"@ReferentieType\": \"ReisTip\", \"@ReferentieWaarde\": \"STNS\", \"#text\": \"Stopt niet in Media Park, Bussum Z.\"}}, {\"@Taal\": \"en\", \"ns2:Uiting\": {\"@Prioriteit\": \"8\", \"@ReferentieType\": \"ReisTip\", \"@ReferentieWaarde\": \"STNS\", \"#text\": \"Not stopping in Media Park, Bussum Z.\"}}]}}}}}')\n",
      "(None, u'{\"ns1:PutReisInformatieBoodschapIn\": {\"@xmlns:ns1\": \"urn:ndov:cdm:trein:reisinformatie:messages:5\", \"@xmlns:ns2\": \"urn:ndov:cdm:trein:reisinformatie:data:4\", \"ns2:ReisInformatieProductDVS\": {\"@TimeStamp\": \"2020-05-04T03:19:04.840Z\", \"@Versie\": \"6.2\", \"ns2:RIPAdministratie\": {\"ns2:ReisInformatieProductID\": \"2005040519042300013\", \"ns2:AbonnementId\": \"54\", \"ns2:ReisInformatieTijdstip\": \"2020-05-04T04:29:00.000Z\"}, \"ns2:DynamischeVertrekStaat\": {\"ns2:RitId\": \"4917\", \"ns2:RitDatum\": \"2020-05-04\", \"ns2:RitStation\": {\"ns2:StationCode\": \"AMPO\", \"ns2:Type\": \"0\", \"ns2:KorteNaam\": \"Poort\", \"ns2:MiddelNaam\": \"Poort\", \"ns2:LangeNaam\": \"Almere Poort\", \"ns2:UICCode\": \"8400450\"}, \"ns2:Trein\": {\"ns2:TreinNummer\": \"4917\", \"ns2:TreinSoort\": {\"@Code\": \"SPR\", \"#text\": \"Sprinter\"}, \"ns2:TreinFormule\": \"1\", \"ns2:TreinStatus\": \"0\", \"ns2:Vervoerder\": \"NS\", \"ns2:Reserveren\": \"N\", \"ns2:Toeslag\": \"N\", \"ns2:NietInstappen\": \"N\", \"ns2:AchterBlijvenAchtersteTreinDeel\": \"N\", \"ns2:RangeerBeweging\": \"N\", \"ns2:SpeciaalKaartje\": \"N\", \"ns2:ReisTip\": {\"ns2:ReisTipStation\": [{\"ns2:StationCode\": \"BSMZ\", \"ns2:Type\": \"0\", \"ns2:KorteNaam\": \"Bussum Z\", \"ns2:MiddelNaam\": \"Bussum Z.\", \"ns2:LangeNaam\": \"Bussum Zuid\", \"ns2:UICCode\": \"8400145\"}, {\"ns2:StationCode\": \"HVSM\", \"ns2:Type\": \"0\", \"ns2:KorteNaam\": \"Media Park\", \"ns2:MiddelNaam\": \"Media Park\", \"ns2:LangeNaam\": \"Hilversum Media Park\", \"ns2:UICCode\": \"8400324\"}], \"ns2:ReisTipCode\": \"STNS\", \"ns2:PresentatieReisTip\": {\"ns2:Uitingen\": [{\"@Taal\": \"nl\", \"ns2:Uiting\": {\"@Prioriteit\": \"2\", \"#text\": \"Stopt niet in Bussum Z., Media Park\"}}, {\"@Taal\": \"en\", \"ns2:Uiting\": {\"@Prioriteit\": \"2\", \"#text\": \"Not stopping in Bussum Z., Media Park\"}}]}}, \"ns2:TreinEindBestemming\": [{\"@InfoStatus\": \"Gepland\", \"ns2:StationCode\": \"UT\", \"ns2:Type\": \"6\", \"ns2:KorteNaam\": \"Utrecht C\", \"ns2:MiddelNaam\": \"Utrecht C.\", \"ns2:LangeNaam\": \"Utrecht Centraal\", \"ns2:UICCode\": \"8400621\"}, {\"@InfoStatus\": \"Actueel\", \"ns2:StationCode\": \"UT\", \"ns2:Type\": \"6\", \"ns2:KorteNaam\": \"Utrecht C\", \"ns2:MiddelNaam\": \"Utrecht C.\", \"ns2:LangeNaam\": \"Utrecht Centraal\", \"ns2:UICCode\": \"8400621\"}], \"ns2:PresentatieTreinEindBestemming\": {\"ns2:Uitingen\": {\"ns2:Uiting\": \"Utrecht Centraal\"}}, \"ns2:VertrekTijd\": [{\"@InfoStatus\": \"Gepland\", \"#text\": \"2020-05-04T04:29:00.000Z\"}, {\"@InfoStatus\": \"Actueel\", \"#text\": \"2020-05-04T04:29:00.000Z\"}], \"ns2:ExacteVertrekVertraging\": \"PT0S\", \"ns2:GedempteVertrekVertraging\": \"PT0S\", \"ns2:TreinVertrekSpoor\": [{\"@InfoStatus\": \"Gepland\", \"ns2:SpoorNummer\": \"1\"}, {\"@InfoStatus\": \"Actueel\", \"ns2:SpoorNummer\": \"1\"}], \"ns2:PresentatieTreinVertrekSpoor\": {\"ns2:Uitingen\": {\"ns2:Uiting\": \"1\"}}, \"ns2:VertrekRichting\": \"A\", \"ns2:AfstandPerronEindKopVertrekTrein\": \"0\", \"ns2:VerkorteRoute\": [{\"@InfoStatus\": \"Gepland\", \"ns2:Station\": [{\"ns2:StationCode\": \"NDB\", \"ns2:Type\": \"1\", \"ns2:KorteNaam\": \"Naarden-Bu\", \"ns2:MiddelNaam\": \"Naarden-Bussum\", \"ns2:LangeNaam\": \"Naarden-Bussum\", \"ns2:UICCode\": \"8400452\"}, {\"ns2:StationCode\": \"HVS\", \"ns2:Type\": \"5\", \"ns2:KorteNaam\": \"Hilversum\", \"ns2:MiddelNaam\": \"Hilversum\", \"ns2:LangeNaam\": \"Hilversum\", \"ns2:UICCode\": \"8400322\"}, {\"ns2:StationCode\": \"UTO\", \"ns2:Type\": \"1\", \"ns2:KorteNaam\": \"Overvecht\", \"ns2:MiddelNaam\": \"Overvecht\", \"ns2:LangeNaam\": \"Utrecht Overvecht\", \"ns2:UICCode\": \"8400620\"}]}, {\"@InfoStatus\": \"Actueel\", \"ns2:Station\": [{\"ns2:StationCode\": \"NDB\", \"ns2:Type\": \"1\", \"ns2:KorteNaam\": \"Naarden-Bu\", \"ns2:MiddelNaam\": \"Naarden-Bussum\", \"ns2:LangeNaam\": \"Naarden-Bussum\", \"ns2:UICCode\": \"8400452\"}, {\"ns2:StationCode\": \"HVS\", \"ns2:Type\": \"5\", \"ns2:KorteNaam\": \"Hilversum\", \"ns2:MiddelNaam\": \"Hilversum\", \"ns2:LangeNaam\": \"Hilversum\", \"ns2:UICCode\": \"8400322\"}, {\"ns2:StationCode\": \"UTO\", \"ns2:Type\": \"1\", \"ns2:KorteNaam\": \"Overvecht\", \"ns2:MiddelNaam\": \"Overvecht\", \"ns2:LangeNaam\": \"Utrecht Overvecht\", \"ns2:UICCode\": \"8400620\"}]}], \"ns2:PresentatieVerkorteRoute\": {\"ns2:Uitingen\": {\"ns2:Uiting\": \"Naarden-Bussum, Hilversum, Overvecht\"}}, \"ns2:TreinVleugel\": {\"ns2:TreinVleugelVertrekSpoor\": [{\"@InfoStatus\": \"Gepland\", \"ns2:SpoorNummer\": \"1\"}, {\"@InfoStatus\": \"Actueel\", \"ns2:SpoorNummer\": \"1\"}], \"ns2:PresentatieTreinVleugelVertrekSpoor\": {\"ns2:Uitingen\": {\"ns2:Uiting\": \"1\"}}, \"ns2:TreinVleugelEindBestemming\": [{\"@InfoStatus\": \"Gepland\", \"ns2:StationCode\": \"UT\", \"ns2:Type\": \"6\", \"ns2:KorteNaam\": \"Utrecht C\", \"ns2:MiddelNaam\": \"Utrecht C.\", \"ns2:LangeNaam\": \"Utrecht Centraal\", \"ns2:UICCode\": \"8400621\"}, {\"@InfoStatus\": \"Actueel\", \"ns2:StationCode\": \"UT\", \"ns2:Type\": \"6\", \"ns2:KorteNaam\": \"Utrecht C\", \"ns2:MiddelNaam\": \"Utrecht C.\", \"ns2:LangeNaam\": \"Utrecht Centraal\", \"ns2:UICCode\": \"8400621\"}], \"ns2:PresentatieTreinVleugelEindBestemming\": {\"ns2:Uitingen\": {\"ns2:Uiting\": \"Utrecht Centraal\"}}, \"ns2:StopStations\": [{\"@InfoStatus\": \"Gepland\", \"ns2:Station\": [{\"ns2:StationCode\": \"NDB\", \"ns2:Type\": \"1\", \"ns2:KorteNaam\": \"Naarden-Bu\", \"ns2:MiddelNaam\": \"Naarden-Bussum\", \"ns2:LangeNaam\": \"Naarden-Bussum\", \"ns2:UICCode\": \"8400452\"}, {\"ns2:StationCode\": \"HVS\", \"ns2:Type\": \"5\", \"ns2:KorteNaam\": \"Hilversum\", \"ns2:MiddelNaam\": \"Hilversum\", \"ns2:LangeNaam\": \"Hilversum\", \"ns2:UICCode\": \"8400322\"}, {\"ns2:StationCode\": \"HVSP\", \"ns2:Type\": \"0\", \"ns2:KorteNaam\": \"Sportpark\", \"ns2:MiddelNaam\": \"Sportpark\", \"ns2:LangeNaam\": \"Hilversum Sportpark\", \"ns2:UICCode\": \"8400570\"}, {\"ns2:StationCode\": \"HOR\", \"ns2:Type\": \"0\", \"ns2:KorteNaam\": \"Hol Rading\", \"ns2:MiddelNaam\": \"Holl. Rading\", \"ns2:LangeNaam\": \"Hollandsche Rading\", \"ns2:UICCode\": \"8400327\"}, {\"ns2:StationCode\": \"UTO\", \"ns2:Type\": \"1\", \"ns2:KorteNaam\": \"Overvecht\", \"ns2:MiddelNaam\": \"Overvecht\", \"ns2:LangeNaam\": \"Utrecht Overvecht\", \"ns2:UICCode\": \"8400620\"}, {\"ns2:StationCode\": \"UT\", \"ns2:Type\": \"6\", \"ns2:KorteNaam\": \"Utrecht C\", \"ns2:MiddelNaam\": \"Utrecht C.\", \"ns2:LangeNaam\": \"Utrecht Centraal\", \"ns2:UICCode\": \"8400621\"}]}, {\"@InfoStatus\": \"Actueel\", \"ns2:Station\": [{\"ns2:StationCode\": \"NDB\", \"ns2:Type\": \"1\", \"ns2:KorteNaam\": \"Naarden-Bu\", \"ns2:MiddelNaam\": \"Naarden-Bussum\", \"ns2:LangeNaam\": \"Naarden-Bussum\", \"ns2:UICCode\": \"8400452\"}, {\"ns2:StationCode\": \"HVS\", \"ns2:Type\": \"5\", \"ns2:KorteNaam\": \"Hilversum\", \"ns2:MiddelNaam\": \"Hilversum\", \"ns2:LangeNaam\": \"Hilversum\", \"ns2:UICCode\": \"8400322\"}, {\"ns2:StationCode\": \"HVSP\", \"ns2:Type\": \"0\", \"ns2:KorteNaam\": \"Sportpark\", \"ns2:MiddelNaam\": \"Sportpark\", \"ns2:LangeNaam\": \"Hilversum Sportpark\", \"ns2:UICCode\": \"8400570\"}, {\"ns2:StationCode\": \"HOR\", \"ns2:Type\": \"0\", \"ns2:KorteNaam\": \"Hol Rading\", \"ns2:MiddelNaam\": \"Holl. Rading\", \"ns2:LangeNaam\": \"Hollandsche Rading\", \"ns2:UICCode\": \"8400327\"}, {\"ns2:StationCode\": \"UTO\", \"ns2:Type\": \"1\", \"ns2:KorteNaam\": \"Overvecht\", \"ns2:MiddelNaam\": \"Overvecht\", \"ns2:LangeNaam\": \"Utrecht Overvecht\", \"ns2:UICCode\": \"8400620\"}, {\"ns2:StationCode\": \"UT\", \"ns2:Type\": \"6\", \"ns2:KorteNaam\": \"Utrecht C\", \"ns2:MiddelNaam\": \"Utrecht C.\", \"ns2:LangeNaam\": \"Utrecht Centraal\", \"ns2:UICCode\": \"8400621\"}]}], \"ns2:MaterieelDeelDVS\": {\"ns2:MaterieelSoort\": \"SLT\", \"ns2:MaterieelAanduiding\": \"6\", \"ns2:MaterieelLengte\": \"10050\", \"ns2:MaterieelNummer\": \"000000-02660-0\", \"ns2:MaterieelDeelEindBestemming\": [{\"@InfoStatus\": \"Gepland\", \"ns2:StationCode\": \"UT\", \"ns2:Type\": \"6\", \"ns2:KorteNaam\": \"Utrecht C\", \"ns2:MiddelNaam\": \"Utrecht C.\", \"ns2:LangeNaam\": \"Utrecht Centraal\", \"ns2:UICCode\": \"8400621\"}, {\"@InfoStatus\": \"Actueel\", \"ns2:StationCode\": \"UT\", \"ns2:Type\": \"6\", \"ns2:KorteNaam\": \"Utrecht C\", \"ns2:MiddelNaam\": \"Utrecht C.\", \"ns2:LangeNaam\": \"Utrecht Centraal\", \"ns2:UICCode\": \"8400621\"}], \"ns2:PresentatieMaterieelDeelEindBestemming\": {\"ns2:Uitingen\": {\"ns2:Uiting\": \"Utrecht Centraal\"}}}}}, \"ns2:PresentatieOpmerkingen\": {\"ns2:Uitingen\": [{\"@Taal\": \"nl\", \"ns2:Uiting\": {\"@Prioriteit\": \"8\", \"@ReferentieType\": \"ReisTip\", \"@ReferentieWaarde\": \"STNS\", \"#text\": \"Stopt niet in Bussum Z., Media Park\"}}, {\"@Taal\": \"en\", \"ns2:Uiting\": {\"@Prioriteit\": \"8\", \"@ReferentieType\": \"ReisTip\", \"@ReferentieWaarde\": \"STNS\", \"#text\": \"Not stopping in Bussum Z., Media Park\"}}]}}}}}')\n",
      "(None, u'{\"ns1:PutReisInformatieBoodschapIn\": {\"@xmlns:ns1\": \"urn:ndov:cdm:trein:reisinformatie:messages:5\", \"@xmlns:ns2\": \"urn:ndov:cdm:trein:reisinformatie:data:4\", \"ns2:ReisInformatieProductDVS\": {\"@TimeStamp\": \"2020-05-04T03:19:04.932Z\", \"@Versie\": \"6.2\", \"ns2:RIPAdministratie\": {\"ns2:ReisInformatieProductID\": \"2005040519042300035\", \"ns2:AbonnementId\": \"54\", \"ns2:ReisInformatieTijdstip\": \"2020-05-04T04:29:00.000Z\"}, \"ns2:DynamischeVertrekStaat\": {\"ns2:RitId\": \"6016\", \"ns2:RitDatum\": \"2020-05-04\", \"ns2:RitStation\": {\"ns2:StationCode\": \"CL\", \"ns2:Type\": \"0\", \"ns2:KorteNaam\": \"Culemborg\", \"ns2:MiddelNaam\": \"Culemborg\", \"ns2:LangeNaam\": \"Culemborg\", \"ns2:UICCode\": \"8400154\"}, \"ns2:Trein\": {\"ns2:TreinNummer\": \"6016\", \"ns2:TreinSoort\": {\"@Code\": \"SPR\", \"#text\": \"Sprinter\"}, \"ns2:TreinFormule\": \"1\", \"ns2:TreinStatus\": \"0\", \"ns2:Vervoerder\": \"NS\", \"ns2:Reserveren\": \"N\", \"ns2:Toeslag\": \"N\", \"ns2:NietInstappen\": \"N\", \"ns2:AchterBlijvenAchtersteTreinDeel\": \"N\", \"ns2:RangeerBeweging\": \"N\", \"ns2:SpeciaalKaartje\": \"N\", \"ns2:TreinEindBestemming\": [{\"@InfoStatus\": \"Gepland\", \"ns2:StationCode\": \"WD\", \"ns2:Type\": \"1\", \"ns2:KorteNaam\": \"Woerden\", \"ns2:MiddelNaam\": \"Woerden\", \"ns2:LangeNaam\": \"Woerden\", \"ns2:UICCode\": \"8400702\"}, {\"@InfoStatus\": \"Actueel\", \"ns2:StationCode\": \"WD\", \"ns2:Type\": \"1\", \"ns2:KorteNaam\": \"Woerden\", \"ns2:MiddelNaam\": \"Woerden\", \"ns2:LangeNaam\": \"Woerden\", \"ns2:UICCode\": \"8400702\"}], \"ns2:PresentatieTreinEindBestemming\": {\"ns2:Uitingen\": {\"ns2:Uiting\": \"Woerden\"}}, \"ns2:VertrekTijd\": [{\"@InfoStatus\": \"Gepland\", \"#text\": \"2020-05-04T04:29:00.000Z\"}, {\"@InfoStatus\": \"Actueel\", \"#text\": \"2020-05-04T04:29:00.000Z\"}], \"ns2:ExacteVertrekVertraging\": \"PT0S\", \"ns2:GedempteVertrekVertraging\": \"PT0S\", \"ns2:TreinVertrekSpoor\": [{\"@InfoStatus\": \"Gepland\", \"ns2:SpoorNummer\": \"1\"}, {\"@InfoStatus\": \"Actueel\", \"ns2:SpoorNummer\": \"1\"}], \"ns2:PresentatieTreinVertrekSpoor\": {\"ns2:Uitingen\": {\"ns2:Uiting\": \"1\"}}, \"ns2:VertrekRichting\": \"A\", \"ns2:AfstandPerronEindKopVertrekTrein\": \"0\", \"ns2:VerkorteRoute\": [{\"@InfoStatus\": \"Gepland\", \"ns2:Station\": [{\"ns2:StationCode\": \"HTN\", \"ns2:Type\": \"1\", \"ns2:KorteNaam\": \"Houten\", \"ns2:MiddelNaam\": \"Houten\", \"ns2:LangeNaam\": \"Houten\", \"ns2:UICCode\": \"8400340\"}, {\"ns2:StationCode\": \"UTVR\", \"ns2:Type\": \"1\", \"ns2:KorteNaam\": \"VaartscheR\", \"ns2:MiddelNaam\": \"Vaartsche Rijn\", \"ns2:LangeNaam\": \"Utrecht Vaartsche Rijn\", \"ns2:UICCode\": \"8400606\"}, {\"ns2:StationCode\": \"UT\", \"ns2:Type\": \"6\", \"ns2:KorteNaam\": \"Utrecht C\", \"ns2:MiddelNaam\": \"Utrecht C.\", \"ns2:LangeNaam\": \"Utrecht Centraal\", \"ns2:UICCode\": \"8400621\"}]}, {\"@InfoStatus\": \"Actueel\", \"ns2:Station\": [{\"ns2:StationCode\": \"HTN\", \"ns2:Type\": \"1\", \"ns2:KorteNaam\": \"Houten\", \"ns2:MiddelNaam\": \"Houten\", \"ns2:LangeNaam\": \"Houten\", \"ns2:UICCode\": \"8400340\"}, {\"ns2:StationCode\": \"UTVR\", \"ns2:Type\": \"1\", \"ns2:KorteNaam\": \"VaartscheR\", \"ns2:MiddelNaam\": \"Vaartsche Rijn\", \"ns2:LangeNaam\": \"Utrecht Vaartsche Rijn\", \"ns2:UICCode\": \"8400606\"}, {\"ns2:StationCode\": \"UT\", \"ns2:Type\": \"6\", \"ns2:KorteNaam\": \"Utrecht C\", \"ns2:MiddelNaam\": \"Utrecht C.\", \"ns2:LangeNaam\": \"Utrecht Centraal\", \"ns2:UICCode\": \"8400621\"}]}], \"ns2:PresentatieVerkorteRoute\": {\"ns2:Uitingen\": {\"ns2:Uiting\": \"Houten, Vaartsche Rijn, Utrecht C.\"}}, \"ns2:TreinVleugel\": {\"ns2:TreinVleugelVertrekSpoor\": [{\"@InfoStatus\": \"Gepland\", \"ns2:SpoorNummer\": \"1\"}, {\"@InfoStatus\": \"Actueel\", \"ns2:SpoorNummer\": \"1\"}], \"ns2:PresentatieTreinVleugelVertrekSpoor\": {\"ns2:Uitingen\": {\"ns2:Uiting\": \"1\"}}, \"ns2:TreinVleugelEindBestemming\": [{\"@InfoStatus\": \"Gepland\", \"ns2:StationCode\": \"WD\", \"ns2:Type\": \"1\", \"ns2:KorteNaam\": \"Woerden\", \"ns2:MiddelNaam\": \"Woerden\", \"ns2:LangeNaam\": \"Woerden\", \"ns2:UICCode\": \"8400702\"}, {\"@InfoStatus\": \"Actueel\", \"ns2:StationCode\": \"WD\", \"ns2:Type\": \"1\", \"ns2:KorteNaam\": \"Woerden\", \"ns2:MiddelNaam\": \"Woerden\", \"ns2:LangeNaam\": \"Woerden\", \"ns2:UICCode\": \"8400702\"}], \"ns2:PresentatieTreinVleugelEindBestemming\": {\"ns2:Uitingen\": {\"ns2:Uiting\": \"Woerden\"}}, \"ns2:StopStations\": [{\"@InfoStatus\": \"Gepland\", \"ns2:Station\": [{\"ns2:StationCode\": \"HTNC\", \"ns2:Type\": \"0\", \"ns2:KorteNaam\": \"Castellum\", \"ns2:MiddelNaam\": \"Castellum\", \"ns2:LangeNaam\": \"Houten Castellum\", \"ns2:UICCode\": \"8400335\"}, {\"ns2:StationCode\": \"HTN\", \"ns2:Type\": \"1\", \"ns2:KorteNaam\": \"Houten\", \"ns2:MiddelNaam\": \"Houten\", \"ns2:LangeNaam\": \"Houten\", \"ns2:UICCode\": \"8400340\"}, {\"ns2:StationCode\": \"UTLN\", \"ns2:Type\": \"0\", \"ns2:KorteNaam\": \"Lunetten\", \"ns2:MiddelNaam\": \"Lunetten\", \"ns2:LangeNaam\": \"Utrecht Lunetten\", \"ns2:UICCode\": \"8400623\"}, {\"ns2:StationCode\": \"UTVR\", \"ns2:Type\": \"1\", \"ns2:KorteNaam\": \"VaartscheR\", \"ns2:MiddelNaam\": \"Vaartsche Rijn\", \"ns2:LangeNaam\": \"Utrecht Vaartsche Rijn\", \"ns2:UICCode\": \"8400606\"}, {\"ns2:StationCode\": \"UT\", \"ns2:Type\": \"6\", \"ns2:KorteNaam\": \"Utrecht C\", \"ns2:MiddelNaam\": \"Utrecht C.\", \"ns2:LangeNaam\": \"Utrecht Centraal\", \"ns2:UICCode\": \"8400621\"}, {\"ns2:StationCode\": \"UTLR\", \"ns2:Type\": \"0\", \"ns2:KorteNaam\": \"LeidscheRn\", \"ns2:MiddelNaam\": \"Leidsche Rijn\", \"ns2:LangeNaam\": \"Utrecht Leidsche Rijn\", \"ns2:UICCode\": \"8400607\"}, {\"ns2:StationCode\": \"UTT\", \"ns2:Type\": \"0\", \"ns2:KorteNaam\": \"Terwijde\", \"ns2:MiddelNaam\": \"Terwijde\", \"ns2:LangeNaam\": \"Utrecht Terwijde\", \"ns2:UICCode\": \"8400614\"}, {\"ns2:StationCode\": \"VTN\", \"ns2:Type\": \"0\", \"ns2:KorteNaam\": \"Vleuten\", \"ns2:MiddelNaam\": \"Vleuten\", \"ns2:LangeNaam\": \"Vleuten\", \"ns2:UICCode\": \"8400651\"}, {\"ns2:StationCode\": \"WD\", \"ns2:Type\": \"1\", \"ns2:KorteNaam\": \"Woerden\", \"ns2:MiddelNaam\": \"Woerden\", \"ns2:LangeNaam\": \"Woerden\", \"ns2:UICCode\": \"8400702\"}]}, {\"@InfoStatus\": \"Actueel\", \"ns2:Station\": [{\"ns2:StationCode\": \"HTNC\", \"ns2:Type\": \"0\", \"ns2:KorteNaam\": \"Castellum\", \"ns2:MiddelNaam\": \"Castellum\", \"ns2:LangeNaam\": \"Houten Castellum\", \"ns2:UICCode\": \"8400335\"}, {\"ns2:StationCode\": \"HTN\", \"ns2:Type\": \"1\", \"ns2:KorteNaam\": \"Houten\", \"ns2:MiddelNaam\": \"Houten\", \"ns2:LangeNaam\": \"Houten\", \"ns2:UICCode\": \"8400340\"}, {\"ns2:StationCode\": \"UTLN\", \"ns2:Type\": \"0\", \"ns2:KorteNaam\": \"Lunetten\", \"ns2:MiddelNaam\": \"Lunetten\", \"ns2:LangeNaam\": \"Utrecht Lunetten\", \"ns2:UICCode\": \"8400623\"}, {\"ns2:StationCode\": \"UTVR\", \"ns2:Type\": \"1\", \"ns2:KorteNaam\": \"VaartscheR\", \"ns2:MiddelNaam\": \"Vaartsche Rijn\", \"ns2:LangeNaam\": \"Utrecht Vaartsche Rijn\", \"ns2:UICCode\": \"8400606\"}, {\"ns2:StationCode\": \"UT\", \"ns2:Type\": \"6\", \"ns2:KorteNaam\": \"Utrecht C\", \"ns2:MiddelNaam\": \"Utrecht C.\", \"ns2:LangeNaam\": \"Utrecht Centraal\", \"ns2:UICCode\": \"8400621\"}, {\"ns2:StationCode\": \"UTLR\", \"ns2:Type\": \"0\", \"ns2:KorteNaam\": \"LeidscheRn\", \"ns2:MiddelNaam\": \"Leidsche Rijn\", \"ns2:LangeNaam\": \"Utrecht Leidsche Rijn\", \"ns2:UICCode\": \"8400607\"}, {\"ns2:StationCode\": \"UTT\", \"ns2:Type\": \"0\", \"ns2:KorteNaam\": \"Terwijde\", \"ns2:MiddelNaam\": \"Terwijde\", \"ns2:LangeNaam\": \"Utrecht Terwijde\", \"ns2:UICCode\": \"8400614\"}, {\"ns2:StationCode\": \"VTN\", \"ns2:Type\": \"0\", \"ns2:KorteNaam\": \"Vleuten\", \"ns2:MiddelNaam\": \"Vleuten\", \"ns2:LangeNaam\": \"Vleuten\", \"ns2:UICCode\": \"8400651\"}, {\"ns2:StationCode\": \"WD\", \"ns2:Type\": \"1\", \"ns2:KorteNaam\": \"Woerden\", \"ns2:MiddelNaam\": \"Woerden\", \"ns2:LangeNaam\": \"Woerden\", \"ns2:UICCode\": \"8400702\"}]}], \"ns2:MaterieelDeelDVS\": {\"ns2:MaterieelSoort\": \"SLT\", \"ns2:MaterieelAanduiding\": \"6\", \"ns2:MaterieelLengte\": \"10050\", \"ns2:MaterieelNummer\": \"000000-02656-0\", \"ns2:MaterieelDeelEindBestemming\": [{\"@InfoStatus\": \"Gepland\", \"ns2:StationCode\": \"WD\", \"ns2:Type\": \"1\", \"ns2:KorteNaam\": \"Woerden\", \"ns2:MiddelNaam\": \"Woerden\", \"ns2:LangeNaam\": \"Woerden\", \"ns2:UICCode\": \"8400702\"}, {\"@InfoStatus\": \"Actueel\", \"ns2:StationCode\": \"WD\", \"ns2:Type\": \"1\", \"ns2:KorteNaam\": \"Woerden\", \"ns2:MiddelNaam\": \"Woerden\", \"ns2:LangeNaam\": \"Woerden\", \"ns2:UICCode\": \"8400702\"}], \"ns2:PresentatieMaterieelDeelEindBestemming\": {\"ns2:Uitingen\": {\"ns2:Uiting\": \"Woerden\"}}}}}}}}}')\n",
      "(None, u'{\"ns1:PutReisInformatieBoodschapIn\": {\"@xmlns:ns1\": \"urn:ndov:cdm:trein:reisinformatie:messages:5\", \"@xmlns:ns2\": \"urn:ndov:cdm:trein:reisinformatie:data:4\", \"ns2:ReisInformatieProductDVS\": {\"@TimeStamp\": \"2020-05-04T03:19:04.816Z\", \"@Versie\": \"6.2\", \"ns2:RIPAdministratie\": {\"ns2:ReisInformatieProductID\": \"2005040519042300007\", \"ns2:AbonnementId\": \"54\", \"ns2:ReisInformatieTijdstip\": \"2020-05-04T04:29:00.000Z\"}, \"ns2:DynamischeVertrekStaat\": {\"ns2:RitId\": \"7317\", \"ns2:RitDatum\": \"2020-05-04\", \"ns2:RitStation\": {\"ns2:StationCode\": \"MRN\", \"ns2:Type\": \"1\", \"ns2:KorteNaam\": \"Maarn\", \"ns2:MiddelNaam\": \"Maarn\", \"ns2:LangeNaam\": \"Maarn\", \"ns2:UICCode\": \"8400417\"}, \"ns2:Trein\": {\"ns2:TreinNummer\": \"7317\", \"ns2:TreinSoort\": {\"@Code\": \"SPR\", \"#text\": \"Sprinter\"}, \"ns2:TreinFormule\": \"1\", \"ns2:TreinStatus\": \"0\", \"ns2:Vervoerder\": \"NS\", \"ns2:Reserveren\": \"N\", \"ns2:Toeslag\": \"N\", \"ns2:NietInstappen\": \"N\", \"ns2:AchterBlijvenAchtersteTreinDeel\": \"N\", \"ns2:RangeerBeweging\": \"N\", \"ns2:SpeciaalKaartje\": \"N\", \"ns2:TreinEindBestemming\": [{\"@InfoStatus\": \"Gepland\", \"ns2:StationCode\": \"RHN\", \"ns2:Type\": \"1\", \"ns2:KorteNaam\": \"Rhenen\", \"ns2:MiddelNaam\": \"Rhenen\", \"ns2:LangeNaam\": \"Rhenen\", \"ns2:UICCode\": \"8400517\"}, {\"@InfoStatus\": \"Actueel\", \"ns2:StationCode\": \"RHN\", \"ns2:Type\": \"1\", \"ns2:KorteNaam\": \"Rhenen\", \"ns2:MiddelNaam\": \"Rhenen\", \"ns2:LangeNaam\": \"Rhenen\", \"ns2:UICCode\": \"8400517\"}], \"ns2:PresentatieTreinEindBestemming\": {\"ns2:Uitingen\": {\"ns2:Uiting\": \"Rhenen\"}}, \"ns2:VertrekTijd\": [{\"@InfoStatus\": \"Gepland\", \"#text\": \"2020-05-04T04:29:00.000Z\"}, {\"@InfoStatus\": \"Actueel\", \"#text\": \"2020-05-04T04:29:00.000Z\"}], \"ns2:ExacteVertrekVertraging\": \"PT0S\", \"ns2:GedempteVertrekVertraging\": \"PT0S\", \"ns2:TreinVertrekSpoor\": [{\"@InfoStatus\": \"Gepland\", \"ns2:SpoorNummer\": \"2\"}, {\"@InfoStatus\": \"Actueel\", \"ns2:SpoorNummer\": \"2\"}], \"ns2:PresentatieTreinVertrekSpoor\": {\"ns2:Uitingen\": {\"ns2:Uiting\": \"2\"}}, \"ns2:VertrekRichting\": \"A\", \"ns2:AfstandPerronEindKopVertrekTrein\": \"0\", \"ns2:VerkorteRoute\": [{\"@InfoStatus\": \"Gepland\", \"ns2:Station\": {\"ns2:StationCode\": \"VNDC\", \"ns2:Type\": \"1\", \"ns2:KorteNaam\": \"Veenendl C\", \"ns2:MiddelNaam\": \"Veenendaal C.\", \"ns2:LangeNaam\": \"Veenendaal Centrum\", \"ns2:UICCode\": \"8400627\"}}, {\"@InfoStatus\": \"Actueel\", \"ns2:Station\": {\"ns2:StationCode\": \"VNDC\", \"ns2:Type\": \"1\", \"ns2:KorteNaam\": \"Veenendl C\", \"ns2:MiddelNaam\": \"Veenendaal C.\", \"ns2:LangeNaam\": \"Veenendaal Centrum\", \"ns2:UICCode\": \"8400627\"}}], \"ns2:PresentatieVerkorteRoute\": {\"ns2:Uitingen\": {\"ns2:Uiting\": \"Veenendaal C.\"}}, \"ns2:TreinVleugel\": {\"ns2:TreinVleugelVertrekSpoor\": [{\"@InfoStatus\": \"Gepland\", \"ns2:SpoorNummer\": \"2\"}, {\"@InfoStatus\": \"Actueel\", \"ns2:SpoorNummer\": \"2\"}], \"ns2:PresentatieTreinVleugelVertrekSpoor\": {\"ns2:Uitingen\": {\"ns2:Uiting\": \"2\"}}, \"ns2:TreinVleugelEindBestemming\": [{\"@InfoStatus\": \"Gepland\", \"ns2:StationCode\": \"RHN\", \"ns2:Type\": \"1\", \"ns2:KorteNaam\": \"Rhenen\", \"ns2:MiddelNaam\": \"Rhenen\", \"ns2:LangeNaam\": \"Rhenen\", \"ns2:UICCode\": \"8400517\"}, {\"@InfoStatus\": \"Actueel\", \"ns2:StationCode\": \"RHN\", \"ns2:Type\": \"1\", \"ns2:KorteNaam\": \"Rhenen\", \"ns2:MiddelNaam\": \"Rhenen\", \"ns2:LangeNaam\": \"Rhenen\", \"ns2:UICCode\": \"8400517\"}], \"ns2:PresentatieTreinVleugelEindBestemming\": {\"ns2:Uitingen\": {\"ns2:Uiting\": \"Rhenen\"}}, \"ns2:StopStations\": [{\"@InfoStatus\": \"Gepland\", \"ns2:Station\": [{\"ns2:StationCode\": \"VNDW\", \"ns2:Type\": \"0\", \"ns2:KorteNaam\": \"Veenendl W\", \"ns2:MiddelNaam\": \"Veenendaal W.\", \"ns2:LangeNaam\": \"Veenendaal West\", \"ns2:UICCode\": \"8400628\"}, {\"ns2:StationCode\": \"VNDC\", \"ns2:Type\": \"1\", \"ns2:KorteNaam\": \"Veenendl C\", \"ns2:MiddelNaam\": \"Veenendaal C.\", \"ns2:LangeNaam\": \"Veenendaal Centrum\", \"ns2:UICCode\": \"8400627\"}, {\"ns2:StationCode\": \"RHN\", \"ns2:Type\": \"1\", \"ns2:KorteNaam\": \"Rhenen\", \"ns2:MiddelNaam\": \"Rhenen\", \"ns2:LangeNaam\": \"Rhenen\", \"ns2:UICCode\": \"8400517\"}]}, {\"@InfoStatus\": \"Actueel\", \"ns2:Station\": [{\"ns2:StationCode\": \"VNDW\", \"ns2:Type\": \"0\", \"ns2:KorteNaam\": \"Veenendl W\", \"ns2:MiddelNaam\": \"Veenendaal W.\", \"ns2:LangeNaam\": \"Veenendaal West\", \"ns2:UICCode\": \"8400628\"}, {\"ns2:StationCode\": \"VNDC\", \"ns2:Type\": \"1\", \"ns2:KorteNaam\": \"Veenendl C\", \"ns2:MiddelNaam\": \"Veenendaal C.\", \"ns2:LangeNaam\": \"Veenendaal Centrum\", \"ns2:UICCode\": \"8400627\"}, {\"ns2:StationCode\": \"RHN\", \"ns2:Type\": \"1\", \"ns2:KorteNaam\": \"Rhenen\", \"ns2:MiddelNaam\": \"Rhenen\", \"ns2:LangeNaam\": \"Rhenen\", \"ns2:UICCode\": \"8400517\"}]}], \"ns2:MaterieelDeelDVS\": {\"ns2:MaterieelSoort\": \"SLT\", \"ns2:MaterieelAanduiding\": \"6\", \"ns2:MaterieelLengte\": \"10050\", \"ns2:MaterieelNummer\": \"000000-02659-0\", \"ns2:MaterieelDeelEindBestemming\": [{\"@InfoStatus\": \"Gepland\", \"ns2:StationCode\": \"RHN\", \"ns2:Type\": \"1\", \"ns2:KorteNaam\": \"Rhenen\", \"ns2:MiddelNaam\": \"Rhenen\", \"ns2:LangeNaam\": \"Rhenen\", \"ns2:UICCode\": \"8400517\"}, {\"@InfoStatus\": \"Actueel\", \"ns2:StationCode\": \"RHN\", \"ns2:Type\": \"1\", \"ns2:KorteNaam\": \"Rhenen\", \"ns2:MiddelNaam\": \"Rhenen\", \"ns2:LangeNaam\": \"Rhenen\", \"ns2:UICCode\": \"8400517\"}], \"ns2:PresentatieMaterieelDeelEindBestemming\": {\"ns2:Uitingen\": {\"ns2:Uiting\": \"Rhenen\"}}}}}}}}}')\n",
      "..."
     ]
    }
   ],
   "source": [
    "ssc.stop(stopSparkContext=False)"
   ]
  },
  {
   "cell_type": "markdown",
   "metadata": {},
   "source": [
    "You will need to adjust the batch interval (10 seconds here) in accordance with the processing times. Use the spark UI to check if batches are not accumulating."
   ]
  },
  {
   "cell_type": "markdown",
   "metadata": {},
   "source": [
    "---"
   ]
  },
  {
   "cell_type": "markdown",
   "metadata": {},
   "source": [
    "# Part III - Live stopping time (20 points / 50)"
   ]
  },
  {
   "cell_type": "markdown",
   "metadata": {},
   "source": [
    "In this part, we will have a look at the two other streams, namely `ndovloketnl-arrivals` and `ndovloketnl-departures`. Each time a train arrives at or leaves a station, a message is generated. Let's have a look at the content."
   ]
  },
  {
   "cell_type": "code",
   "execution_count": 11,
   "metadata": {
    "scrolled": true
   },
   "outputs": [
    {
     "data": {
      "application/vnd.jupyter.widget-view+json": {
       "model_id": "",
       "version_major": 2,
       "version_minor": 0
      },
      "text/plain": [
       "FloatProgress(value=0.0, bar_style='info', description='Progress:', layout=Layout(height='25px', width='50%'),…"
      ]
     },
     "metadata": {},
     "output_type": "display_data"
    },
    {
     "name": "stdout",
     "output_type": "stream",
     "text": [
      "{\n",
      "  \"ns1:PutReisInformatieBoodschapIn\": {\n",
      "    \"@xmlns:ns1\": \"urn:ndov:cdm:trein:reisinformatie:messages:dynamischeaankomststaat:1\", \n",
      "    \"@xmlns:ns2\": \"urn:ndov:cdm:trein:reisinformatie:data:4\", \n",
      "    \"ns2:ReisInformatieProductDAS\": {\n",
      "      \"ns2:RIPAdministratie\": {\n",
      "        \"ns2:ReisInformatieTijdstip\": \"2020-04-17T10:54:00.000Z\", \n",
      "        \"ns2:ReisInformatieProductID\": \"2004171254422300001\", \n",
      "        \"ns2:AbonnementId\": \"55\"\n",
      "      }, \n",
      "      \"@TimeStamp\": \"2020-04-17T10:54:42.098Z\", \n",
      "      \"@Versie\": \"6.1\", \n",
      "      \"ns2:DynamischeAankomstStaat\": {\n",
      "        \"ns2:RitId\": \"6945\", \n",
      "        \"ns2:RitStation\": {\n",
      "          \"ns2:LangeNaam\": \"Utrecht Vaartsche Rijn\", \n",
      "          \"ns2:MiddelNaam\": \"Vaartsche Rijn\", \n",
      "          \"ns2:StationCode\": \"UTVR\", \n",
      "          \"ns2:Type\": \"1\", \n",
      "          \"ns2:UICCode\": \"8400606\", \n",
      "          \"ns2:KorteNaam\": \"VaartscheR\"\n",
      "        }, \n",
      "        \"ns2:TreinAankomst\": {\n",
      "          \"ns2:TreinHerkomst\": [\n",
      "            {\n",
      "              \"ns2:LangeNaam\": \"Den Haag Centraal\", \n",
      "              \"@InfoStatus\": \"Gepland\", \n",
      "              \"ns2:MiddelNaam\": \"Den Haag C.\", \n",
      "              \"ns2:StationCode\": \"GVC\", \n",
      "              \"ns2:Type\": \"6\", \n",
      "              \"ns2:UICCode\": \"8400282\", \n",
      "              \"ns2:KorteNaam\": \"Den Haag C\"\n",
      "            }, \n",
      "            {\n",
      "              \"ns2:LangeNaam\": \"Den Haag Centraal\", \n",
      "              \"@InfoStatus\": \"Actueel\", \n",
      "              \"ns2:MiddelNaam\": \"Den Haag C.\", \n",
      "              \"ns2:StationCode\": \"GVC\", \n",
      "              \"ns2:Type\": \"6\", \n",
      "              \"ns2:UICCode\": \"8400282\", \n",
      "              \"ns2:KorteNaam\": \"Den Haag C\"\n",
      "            }\n",
      "          ], \n",
      "          \"ns2:TreinSoort\": {\n",
      "            \"@Code\": \"SPR\", \n",
      "            \"#text\": \"Sprinter\"\n",
      "          }, \n",
      "          \"ns2:WijzigingHerkomst\": {\n",
      "            \"ns2:WijzigingType\": \"40\"\n",
      "          }, \n",
      "          \"ns2:VerkorteRouteHerkomst\": [\n",
      "            {\n",
      "              \"ns2:Station\": [\n",
      "                {\n",
      "                  \"ns2:LangeNaam\": \"Zoetermeer\", \n",
      "                  \"ns2:MiddelNaam\": \"Zoetermeer\", \n",
      "                  \"ns2:StationCode\": \"ZTM\", \n",
      "                  \"ns2:Type\": \"1\", \n",
      "                  \"ns2:UICCode\": \"8400741\", \n",
      "                  \"ns2:KorteNaam\": \"Zoetermeer\"\n",
      "                }, \n",
      "                {\n",
      "                  \"ns2:LangeNaam\": \"Gouda\", \n",
      "                  \"ns2:MiddelNaam\": \"Gouda\", \n",
      "                  \"ns2:StationCode\": \"GD\", \n",
      "                  \"ns2:Type\": \"5\", \n",
      "                  \"ns2:UICCode\": \"8400258\", \n",
      "                  \"ns2:KorteNaam\": \"Gouda\"\n",
      "                }, \n",
      "                {\n",
      "                  \"ns2:LangeNaam\": \"Woerden\", \n",
      "                  \"ns2:MiddelNaam\": \"Woerden\", \n",
      "                  \"ns2:StationCode\": \"WD\", \n",
      "                  \"ns2:Type\": \"1\", \n",
      "                  \"ns2:UICCode\": \"8400702\", \n",
      "                  \"ns2:KorteNaam\": \"Woerden\"\n",
      "                }, \n",
      "                {\n",
      "                  \"ns2:LangeNaam\": \"Utrecht Centraal\", \n",
      "                  \"ns2:MiddelNaam\": \"Utrecht C.\", \n",
      "                  \"ns2:StationCode\": \"UT\", \n",
      "                  \"ns2:Type\": \"6\", \n",
      "                  \"ns2:UICCode\": \"8400621\", \n",
      "                  \"ns2:KorteNaam\": \"Utrecht C\"\n",
      "                }\n",
      "              ], \n",
      "              \"@InfoStatus\": \"Gepland\"\n",
      "            }, \n",
      "            {\n",
      "              \"ns2:Station\": [\n",
      "                {\n",
      "                  \"ns2:LangeNaam\": \"Zoetermeer\", \n",
      "                  \"ns2:MiddelNaam\": \"Zoetermeer\", \n",
      "                  \"ns2:StationCode\": \"ZTM\", \n",
      "                  \"ns2:Type\": \"1\", \n",
      "                  \"ns2:UICCode\": \"8400741\", \n",
      "                  \"ns2:KorteNaam\": \"Zoetermeer\"\n",
      "                }, \n",
      "                {\n",
      "                  \"ns2:LangeNaam\": \"Gouda\", \n",
      "                  \"ns2:MiddelNaam\": \"Gouda\", \n",
      "                  \"ns2:StationCode\": \"GD\", \n",
      "                  \"ns2:Type\": \"5\", \n",
      "                  \"ns2:UICCode\": \"8400258\", \n",
      "                  \"ns2:KorteNaam\": \"Gouda\"\n",
      "                }, \n",
      "                {\n",
      "                  \"ns2:LangeNaam\": \"Woerden\", \n",
      "                  \"ns2:MiddelNaam\": \"Woerden\", \n",
      "                  \"ns2:StationCode\": \"WD\", \n",
      "                  \"ns2:Type\": \"1\", \n",
      "                  \"ns2:UICCode\": \"8400702\", \n",
      "                  \"ns2:KorteNaam\": \"Woerden\"\n",
      "                }, \n",
      "                {\n",
      "                  \"ns2:LangeNaam\": \"Utrecht Centraal\", \n",
      "                  \"ns2:MiddelNaam\": \"Utrecht C.\", \n",
      "                  \"ns2:StationCode\": \"UT\", \n",
      "                  \"ns2:Type\": \"6\", \n",
      "                  \"ns2:UICCode\": \"8400621\", \n",
      "                  \"ns2:KorteNaam\": \"Utrecht C\"\n",
      "                }\n",
      "              ], \n",
      "              \"@InfoStatus\": \"Actueel\"\n",
      "            }\n",
      "          ], \n",
      "          \"ns2:PresentatieTreinAankomstSpoor\": {\n",
      "            \"ns2:Uitingen\": {\n",
      "              \"ns2:Uiting\": \"4\"\n",
      "            }\n",
      "          }, \n",
      "          \"ns2:TreinStatus\": \"5\", \n",
      "          \"ns2:PresentatieVerkorteRouteHerkomst\": {\n",
      "            \"ns2:Uitingen\": {\n",
      "              \"ns2:Uiting\": \"Zoetermeer, Gouda, Woerden, Utrecht C.\"\n",
      "            }\n",
      "          }, \n",
      "          \"ns2:AankomstTijd\": [\n",
      "            {\n",
      "              \"@InfoStatus\": \"Gepland\", \n",
      "              \"#text\": \"2020-04-17T10:54:00.000Z\"\n",
      "            }, \n",
      "            {\n",
      "              \"@InfoStatus\": \"Actueel\", \n",
      "              \"#text\": \"2020-04-17T10:54:00.000Z\"\n",
      "            }\n",
      "          ], \n",
      "          \"ns2:TreinNummer\": \"6945\", \n",
      "          \"ns2:TreinAankomstSpoor\": [\n",
      "            {\n",
      "              \"@InfoStatus\": \"Gepland\", \n",
      "              \"ns2:SpoorNummer\": \"4\"\n",
      "            }, \n",
      "            {\n",
      "              \"@InfoStatus\": \"Actueel\", \n",
      "              \"ns2:SpoorNummer\": \"4\"\n",
      "            }\n",
      "          ], \n",
      "          \"ns2:PresentatieTreinHerkomst\": {\n",
      "            \"ns2:Uitingen\": {\n",
      "              \"ns2:Uiting\": \"Den Haag C.\"\n",
      "            }\n",
      "          }, \n",
      "          \"ns2:GedempteAankomstVertraging\": \"PT0S\", \n",
      "          \"ns2:ExacteAankomstVertraging\": \"PT0S\", \n",
      "          \"ns2:Vervoerder\": \"NS\"\n",
      "        }, \n",
      "        \"ns2:RitDatum\": \"2020-04-17\"\n",
      "      }\n",
      "    }\n",
      "  }\n",
      "}"
     ]
    }
   ],
   "source": [
    "import json\n",
    "from pykafka.common import OffsetType\n",
    "\n",
    "example_arrivals = client.topics[b'ndovloketnl-arrivals'].get_simple_consumer(\n",
    "    auto_offset_reset=OffsetType.EARLIEST,\n",
    "    reset_offset_on_start=True\n",
    ").consume()\n",
    "print(json.dumps(json.loads(example_arrivals.value), indent=2))"
   ]
  },
  {
   "cell_type": "code",
   "execution_count": 12,
   "metadata": {
    "scrolled": true
   },
   "outputs": [
    {
     "data": {
      "application/vnd.jupyter.widget-view+json": {
       "model_id": "",
       "version_major": 2,
       "version_minor": 0
      },
      "text/plain": [
       "FloatProgress(value=0.0, bar_style='info', description='Progress:', layout=Layout(height='25px', width='50%'),…"
      ]
     },
     "metadata": {},
     "output_type": "display_data"
    },
    {
     "name": "stdout",
     "output_type": "stream",
     "text": [
      "{\n",
      "  \"ns1:PutReisInformatieBoodschapIn\": {\n",
      "    \"@xmlns:ns1\": \"urn:ndov:cdm:trein:reisinformatie:messages:5\", \n",
      "    \"ns2:ReisInformatieProductDVS\": {\n",
      "      \"ns2:RIPAdministratie\": {\n",
      "        \"ns2:ReisInformatieTijdstip\": \"2020-04-23T15:32:00.000Z\", \n",
      "        \"ns2:ReisInformatieProductID\": \"2004231730412200003\", \n",
      "        \"ns2:AbonnementId\": \"54\"\n",
      "      }, \n",
      "      \"@TimeStamp\": \"2020-04-23T15:30:41.815Z\", \n",
      "      \"@Versie\": \"6.2\", \n",
      "      \"ns2:DynamischeVertrekStaat\": {\n",
      "        \"ns2:RitId\": \"7363\", \n",
      "        \"ns2:RitStation\": {\n",
      "          \"ns2:LangeNaam\": \"Maarssen\", \n",
      "          \"ns2:MiddelNaam\": \"Maarssen\", \n",
      "          \"ns2:StationCode\": \"MAS\", \n",
      "          \"ns2:Type\": \"0\", \n",
      "          \"ns2:UICCode\": \"8400419\", \n",
      "          \"ns2:KorteNaam\": \"Maarssen\"\n",
      "        }, \n",
      "        \"ns2:RitDatum\": \"2020-04-23\", \n",
      "        \"ns2:Trein\": {\n",
      "          \"ns2:VertrekRichting\": \"B\", \n",
      "          \"ns2:VertrekTijd\": [\n",
      "            {\n",
      "              \"@InfoStatus\": \"Gepland\", \n",
      "              \"#text\": \"2020-04-23T15:32:00.000Z\"\n",
      "            }, \n",
      "            {\n",
      "              \"@InfoStatus\": \"Actueel\", \n",
      "              \"#text\": \"2020-04-23T15:32:00.000Z\"\n",
      "            }\n",
      "          ], \n",
      "          \"ns2:RangeerBeweging\": \"N\", \n",
      "          \"ns2:PresentatieTreinVertrekSpoor\": {\n",
      "            \"ns2:Uitingen\": {\n",
      "              \"ns2:Uiting\": \"3\"\n",
      "            }\n",
      "          }, \n",
      "          \"ns2:NietInstappen\": \"N\", \n",
      "          \"ns2:PresentatieVerkorteRoute\": {\n",
      "            \"ns2:Uitingen\": {\n",
      "              \"ns2:Uiting\": \"Utrecht C., Vaartsche Rijn, Driebergen-Zeist, Maarn\"\n",
      "            }\n",
      "          }, \n",
      "          \"ns2:TreinStatus\": \"2\", \n",
      "          \"ns2:TreinNummer\": \"7363\", \n",
      "          \"ns2:ExacteVertrekVertraging\": \"PT0S\", \n",
      "          \"ns2:Wijziging\": {\n",
      "            \"ns2:WijzigingType\": \"40\"\n",
      "          }, \n",
      "          \"ns2:TreinVleugel\": {\n",
      "            \"ns2:PresentatieTreinVleugelVertrekSpoor\": {\n",
      "              \"ns2:Uitingen\": {\n",
      "                \"ns2:Uiting\": \"3\"\n",
      "              }\n",
      "            }, \n",
      "            \"ns2:TreinVleugelVertrekSpoor\": [\n",
      "              {\n",
      "                \"@InfoStatus\": \"Gepland\", \n",
      "                \"ns2:SpoorNummer\": \"3\"\n",
      "              }, \n",
      "              {\n",
      "                \"@InfoStatus\": \"Actueel\", \n",
      "                \"ns2:SpoorNummer\": \"3\"\n",
      "              }\n",
      "            ], \n",
      "            \"ns2:StopStations\": [\n",
      "              {\n",
      "                \"ns2:Station\": [\n",
      "                  {\n",
      "                    \"ns2:LangeNaam\": \"Utrecht Zuilen\", \n",
      "                    \"ns2:MiddelNaam\": \"Zuilen\", \n",
      "                    \"ns2:StationCode\": \"UTZL\", \n",
      "                    \"ns2:Type\": \"0\", \n",
      "                    \"ns2:UICCode\": \"8400613\", \n",
      "                    \"ns2:KorteNaam\": \"Zuilen\"\n",
      "                  }, \n",
      "                  {\n",
      "                    \"ns2:LangeNaam\": \"Utrecht Centraal\", \n",
      "                    \"ns2:MiddelNaam\": \"Utrecht C.\", \n",
      "                    \"ns2:StationCode\": \"UT\", \n",
      "                    \"ns2:Type\": \"6\", \n",
      "                    \"ns2:UICCode\": \"8400621\", \n",
      "                    \"ns2:KorteNaam\": \"Utrecht C\"\n",
      "                  }, \n",
      "                  {\n",
      "                    \"ns2:LangeNaam\": \"Utrecht Vaartsche Rijn\", \n",
      "                    \"ns2:MiddelNaam\": \"Vaartsche Rijn\", \n",
      "                    \"ns2:StationCode\": \"UTVR\", \n",
      "                    \"ns2:Type\": \"1\", \n",
      "                    \"ns2:UICCode\": \"8400606\", \n",
      "                    \"ns2:KorteNaam\": \"VaartscheR\"\n",
      "                  }, \n",
      "                  {\n",
      "                    \"ns2:LangeNaam\": \"Bunnik\", \n",
      "                    \"ns2:MiddelNaam\": \"Bunnik\", \n",
      "                    \"ns2:StationCode\": \"BNK\", \n",
      "                    \"ns2:Type\": \"0\", \n",
      "                    \"ns2:UICCode\": \"8400141\", \n",
      "                    \"ns2:KorteNaam\": \"Bunnik\"\n",
      "                  }, \n",
      "                  {\n",
      "                    \"ns2:LangeNaam\": \"Driebergen-Zeist\", \n",
      "                    \"ns2:MiddelNaam\": \"Driebergen-Zeist\", \n",
      "                    \"ns2:StationCode\": \"DB\", \n",
      "                    \"ns2:Type\": \"1\", \n",
      "                    \"ns2:UICCode\": \"8400182\", \n",
      "                    \"ns2:KorteNaam\": \"Driebergen\"\n",
      "                  }, \n",
      "                  {\n",
      "                    \"ns2:LangeNaam\": \"Maarn\", \n",
      "                    \"ns2:MiddelNaam\": \"Maarn\", \n",
      "                    \"ns2:StationCode\": \"MRN\", \n",
      "                    \"ns2:Type\": \"1\", \n",
      "                    \"ns2:UICCode\": \"8400417\", \n",
      "                    \"ns2:KorteNaam\": \"Maarn\"\n",
      "                  }, \n",
      "                  {\n",
      "                    \"ns2:LangeNaam\": \"Veenendaal West\", \n",
      "                    \"ns2:MiddelNaam\": \"Veenendaal W.\", \n",
      "                    \"ns2:StationCode\": \"VNDW\", \n",
      "                    \"ns2:Type\": \"0\", \n",
      "                    \"ns2:UICCode\": \"8400628\", \n",
      "                    \"ns2:KorteNaam\": \"Veenendl W\"\n",
      "                  }, \n",
      "                  {\n",
      "                    \"ns2:LangeNaam\": \"Veenendaal Centrum\", \n",
      "                    \"ns2:MiddelNaam\": \"Veenendaal C.\", \n",
      "                    \"ns2:StationCode\": \"VNDC\", \n",
      "                    \"ns2:Type\": \"1\", \n",
      "                    \"ns2:UICCode\": \"8400627\", \n",
      "                    \"ns2:KorteNaam\": \"Veenendl C\"\n",
      "                  }, \n",
      "                  {\n",
      "                    \"ns2:LangeNaam\": \"Rhenen\", \n",
      "                    \"ns2:MiddelNaam\": \"Rhenen\", \n",
      "                    \"ns2:StationCode\": \"RHN\", \n",
      "                    \"ns2:Type\": \"1\", \n",
      "                    \"ns2:UICCode\": \"8400517\", \n",
      "                    \"ns2:KorteNaam\": \"Rhenen\"\n",
      "                  }\n",
      "                ], \n",
      "                \"@InfoStatus\": \"Gepland\"\n",
      "              }, \n",
      "              {\n",
      "                \"ns2:Station\": [\n",
      "                  {\n",
      "                    \"ns2:LangeNaam\": \"Utrecht Zuilen\", \n",
      "                    \"ns2:MiddelNaam\": \"Zuilen\", \n",
      "                    \"ns2:StationCode\": \"UTZL\", \n",
      "                    \"ns2:Type\": \"0\", \n",
      "                    \"ns2:UICCode\": \"8400613\", \n",
      "                    \"ns2:KorteNaam\": \"Zuilen\"\n",
      "                  }, \n",
      "                  {\n",
      "                    \"ns2:LangeNaam\": \"Utrecht Centraal\", \n",
      "                    \"ns2:MiddelNaam\": \"Utrecht C.\", \n",
      "                    \"ns2:StationCode\": \"UT\", \n",
      "                    \"ns2:Type\": \"6\", \n",
      "                    \"ns2:UICCode\": \"8400621\", \n",
      "                    \"ns2:KorteNaam\": \"Utrecht C\"\n",
      "                  }, \n",
      "                  {\n",
      "                    \"ns2:LangeNaam\": \"Utrecht Vaartsche Rijn\", \n",
      "                    \"ns2:MiddelNaam\": \"Vaartsche Rijn\", \n",
      "                    \"ns2:StationCode\": \"UTVR\", \n",
      "                    \"ns2:Type\": \"1\", \n",
      "                    \"ns2:UICCode\": \"8400606\", \n",
      "                    \"ns2:KorteNaam\": \"VaartscheR\"\n",
      "                  }, \n",
      "                  {\n",
      "                    \"ns2:LangeNaam\": \"Bunnik\", \n",
      "                    \"ns2:MiddelNaam\": \"Bunnik\", \n",
      "                    \"ns2:StationCode\": \"BNK\", \n",
      "                    \"ns2:Type\": \"0\", \n",
      "                    \"ns2:UICCode\": \"8400141\", \n",
      "                    \"ns2:KorteNaam\": \"Bunnik\"\n",
      "                  }, \n",
      "                  {\n",
      "                    \"ns2:LangeNaam\": \"Driebergen-Zeist\", \n",
      "                    \"ns2:MiddelNaam\": \"Driebergen-Zeist\", \n",
      "                    \"ns2:StationCode\": \"DB\", \n",
      "                    \"ns2:Type\": \"1\", \n",
      "                    \"ns2:UICCode\": \"8400182\", \n",
      "                    \"ns2:KorteNaam\": \"Driebergen\"\n",
      "                  }, \n",
      "                  {\n",
      "                    \"ns2:LangeNaam\": \"Maarn\", \n",
      "                    \"ns2:MiddelNaam\": \"Maarn\", \n",
      "                    \"ns2:StationCode\": \"MRN\", \n",
      "                    \"ns2:Type\": \"1\", \n",
      "                    \"ns2:UICCode\": \"8400417\", \n",
      "                    \"ns2:KorteNaam\": \"Maarn\"\n",
      "                  }, \n",
      "                  {\n",
      "                    \"ns2:LangeNaam\": \"Veenendaal West\", \n",
      "                    \"ns2:MiddelNaam\": \"Veenendaal W.\", \n",
      "                    \"ns2:StationCode\": \"VNDW\", \n",
      "                    \"ns2:Type\": \"0\", \n",
      "                    \"ns2:UICCode\": \"8400628\", \n",
      "                    \"ns2:KorteNaam\": \"Veenendl W\"\n",
      "                  }, \n",
      "                  {\n",
      "                    \"ns2:LangeNaam\": \"Veenendaal Centrum\", \n",
      "                    \"ns2:MiddelNaam\": \"Veenendaal C.\", \n",
      "                    \"ns2:StationCode\": \"VNDC\", \n",
      "                    \"ns2:Type\": \"1\", \n",
      "                    \"ns2:UICCode\": \"8400627\", \n",
      "                    \"ns2:KorteNaam\": \"Veenendl C\"\n",
      "                  }, \n",
      "                  {\n",
      "                    \"ns2:LangeNaam\": \"Rhenen\", \n",
      "                    \"ns2:MiddelNaam\": \"Rhenen\", \n",
      "                    \"ns2:StationCode\": \"RHN\", \n",
      "                    \"ns2:Type\": \"1\", \n",
      "                    \"ns2:UICCode\": \"8400517\", \n",
      "                    \"ns2:KorteNaam\": \"Rhenen\"\n",
      "                  }\n",
      "                ], \n",
      "                \"@InfoStatus\": \"Actueel\"\n",
      "              }\n",
      "            ], \n",
      "            \"ns2:TreinVleugelEindBestemming\": [\n",
      "              {\n",
      "                \"ns2:LangeNaam\": \"Rhenen\", \n",
      "                \"@InfoStatus\": \"Gepland\", \n",
      "                \"ns2:MiddelNaam\": \"Rhenen\", \n",
      "                \"ns2:StationCode\": \"RHN\", \n",
      "                \"ns2:Type\": \"1\", \n",
      "                \"ns2:UICCode\": \"8400517\", \n",
      "                \"ns2:KorteNaam\": \"Rhenen\"\n",
      "              }, \n",
      "              {\n",
      "                \"ns2:LangeNaam\": \"Rhenen\", \n",
      "                \"@InfoStatus\": \"Actueel\", \n",
      "                \"ns2:MiddelNaam\": \"Rhenen\", \n",
      "                \"ns2:StationCode\": \"RHN\", \n",
      "                \"ns2:Type\": \"1\", \n",
      "                \"ns2:UICCode\": \"8400517\", \n",
      "                \"ns2:KorteNaam\": \"Rhenen\"\n",
      "              }\n",
      "            ], \n",
      "            \"ns2:MaterieelDeelDVS\": {\n",
      "              \"ns2:MaterieelLengte\": \"10050\", \n",
      "              \"ns2:MaterieelNummer\": \"000000-02656-0\", \n",
      "              \"ns2:PresentatieMaterieelDeelEindBestemming\": {\n",
      "                \"ns2:Uitingen\": {\n",
      "                  \"ns2:Uiting\": \"Rhenen\"\n",
      "                }\n",
      "              }, \n",
      "              \"ns2:MaterieelDeelEindBestemming\": [\n",
      "                {\n",
      "                  \"ns2:LangeNaam\": \"Rhenen\", \n",
      "                  \"@InfoStatus\": \"Gepland\", \n",
      "                  \"ns2:MiddelNaam\": \"Rhenen\", \n",
      "                  \"ns2:StationCode\": \"RHN\", \n",
      "                  \"ns2:Type\": \"1\", \n",
      "                  \"ns2:UICCode\": \"8400517\", \n",
      "                  \"ns2:KorteNaam\": \"Rhenen\"\n",
      "                }, \n",
      "                {\n",
      "                  \"ns2:LangeNaam\": \"Rhenen\", \n",
      "                  \"@InfoStatus\": \"Actueel\", \n",
      "                  \"ns2:MiddelNaam\": \"Rhenen\", \n",
      "                  \"ns2:StationCode\": \"RHN\", \n",
      "                  \"ns2:Type\": \"1\", \n",
      "                  \"ns2:UICCode\": \"8400517\", \n",
      "                  \"ns2:KorteNaam\": \"Rhenen\"\n",
      "                }\n",
      "              ], \n",
      "              \"ns2:MaterieelAanduiding\": \"6\", \n",
      "              \"ns2:MaterieelSoort\": \"SLT\"\n",
      "            }, \n",
      "            \"ns2:PresentatieTreinVleugelEindBestemming\": {\n",
      "              \"ns2:Uitingen\": {\n",
      "                \"ns2:Uiting\": \"Rhenen\"\n",
      "              }\n",
      "            }\n",
      "          }, \n",
      "          \"ns2:TreinEindBestemming\": [\n",
      "            {\n",
      "              \"ns2:LangeNaam\": \"Rhenen\", \n",
      "              \"@InfoStatus\": \"Gepland\", \n",
      "              \"ns2:MiddelNaam\": \"Rhenen\", \n",
      "              \"ns2:StationCode\": \"RHN\", \n",
      "              \"ns2:Type\": \"1\", \n",
      "              \"ns2:UICCode\": \"8400517\", \n",
      "              \"ns2:KorteNaam\": \"Rhenen\"\n",
      "            }, \n",
      "            {\n",
      "              \"ns2:LangeNaam\": \"Rhenen\", \n",
      "              \"@InfoStatus\": \"Actueel\", \n",
      "              \"ns2:MiddelNaam\": \"Rhenen\", \n",
      "              \"ns2:StationCode\": \"RHN\", \n",
      "              \"ns2:Type\": \"1\", \n",
      "              \"ns2:UICCode\": \"8400517\", \n",
      "              \"ns2:KorteNaam\": \"Rhenen\"\n",
      "            }\n",
      "          ], \n",
      "          \"ns2:AchterBlijvenAchtersteTreinDeel\": \"N\", \n",
      "          \"ns2:Reserveren\": \"N\", \n",
      "          \"ns2:AfstandPerronEindKopVertrekTrein\": \"0\", \n",
      "          \"ns2:VerkorteRoute\": [\n",
      "            {\n",
      "              \"ns2:Station\": [\n",
      "                {\n",
      "                  \"ns2:LangeNaam\": \"Utrecht Centraal\", \n",
      "                  \"ns2:MiddelNaam\": \"Utrecht C.\", \n",
      "                  \"ns2:StationCode\": \"UT\", \n",
      "                  \"ns2:Type\": \"6\", \n",
      "                  \"ns2:UICCode\": \"8400621\", \n",
      "                  \"ns2:KorteNaam\": \"Utrecht C\"\n",
      "                }, \n",
      "                {\n",
      "                  \"ns2:LangeNaam\": \"Utrecht Vaartsche Rijn\", \n",
      "                  \"ns2:MiddelNaam\": \"Vaartsche Rijn\", \n",
      "                  \"ns2:StationCode\": \"UTVR\", \n",
      "                  \"ns2:Type\": \"1\", \n",
      "                  \"ns2:UICCode\": \"8400606\", \n",
      "                  \"ns2:KorteNaam\": \"VaartscheR\"\n",
      "                }, \n",
      "                {\n",
      "                  \"ns2:LangeNaam\": \"Driebergen-Zeist\", \n",
      "                  \"ns2:MiddelNaam\": \"Driebergen-Zeist\", \n",
      "                  \"ns2:StationCode\": \"DB\", \n",
      "                  \"ns2:Type\": \"1\", \n",
      "                  \"ns2:UICCode\": \"8400182\", \n",
      "                  \"ns2:KorteNaam\": \"Driebergen\"\n",
      "                }, \n",
      "                {\n",
      "                  \"ns2:LangeNaam\": \"Maarn\", \n",
      "                  \"ns2:MiddelNaam\": \"Maarn\", \n",
      "                  \"ns2:StationCode\": \"MRN\", \n",
      "                  \"ns2:Type\": \"1\", \n",
      "                  \"ns2:UICCode\": \"8400417\", \n",
      "                  \"ns2:KorteNaam\": \"Maarn\"\n",
      "                }\n",
      "              ], \n",
      "              \"@InfoStatus\": \"Gepland\"\n",
      "            }, \n",
      "            {\n",
      "              \"ns2:Station\": [\n",
      "                {\n",
      "                  \"ns2:LangeNaam\": \"Utrecht Centraal\", \n",
      "                  \"ns2:MiddelNaam\": \"Utrecht C.\", \n",
      "                  \"ns2:StationCode\": \"UT\", \n",
      "                  \"ns2:Type\": \"6\", \n",
      "                  \"ns2:UICCode\": \"8400621\", \n",
      "                  \"ns2:KorteNaam\": \"Utrecht C\"\n",
      "                }, \n",
      "                {\n",
      "                  \"ns2:LangeNaam\": \"Utrecht Vaartsche Rijn\", \n",
      "                  \"ns2:MiddelNaam\": \"Vaartsche Rijn\", \n",
      "                  \"ns2:StationCode\": \"UTVR\", \n",
      "                  \"ns2:Type\": \"1\", \n",
      "                  \"ns2:UICCode\": \"8400606\", \n",
      "                  \"ns2:KorteNaam\": \"VaartscheR\"\n",
      "                }, \n",
      "                {\n",
      "                  \"ns2:LangeNaam\": \"Driebergen-Zeist\", \n",
      "                  \"ns2:MiddelNaam\": \"Driebergen-Zeist\", \n",
      "                  \"ns2:StationCode\": \"DB\", \n",
      "                  \"ns2:Type\": \"1\", \n",
      "                  \"ns2:UICCode\": \"8400182\", \n",
      "                  \"ns2:KorteNaam\": \"Driebergen\"\n",
      "                }, \n",
      "                {\n",
      "                  \"ns2:LangeNaam\": \"Maarn\", \n",
      "                  \"ns2:MiddelNaam\": \"Maarn\", \n",
      "                  \"ns2:StationCode\": \"MRN\", \n",
      "                  \"ns2:Type\": \"1\", \n",
      "                  \"ns2:UICCode\": \"8400417\", \n",
      "                  \"ns2:KorteNaam\": \"Maarn\"\n",
      "                }\n",
      "              ], \n",
      "              \"@InfoStatus\": \"Actueel\"\n",
      "            }\n",
      "          ], \n",
      "          \"ns2:TreinVertrekSpoor\": [\n",
      "            {\n",
      "              \"@InfoStatus\": \"Gepland\", \n",
      "              \"ns2:SpoorNummer\": \"3\"\n",
      "            }, \n",
      "            {\n",
      "              \"@InfoStatus\": \"Actueel\", \n",
      "              \"ns2:SpoorNummer\": \"3\"\n",
      "            }\n",
      "          ], \n",
      "          \"ns2:Toeslag\": \"N\", \n",
      "          \"ns2:TreinSoort\": {\n",
      "            \"@Code\": \"SPR\", \n",
      "            \"#text\": \"Sprinter\"\n",
      "          }, \n",
      "          \"ns2:TreinFormule\": \"1\", \n",
      "          \"ns2:PresentatieTreinEindBestemming\": {\n",
      "            \"ns2:Uitingen\": {\n",
      "              \"ns2:Uiting\": \"Rhenen\"\n",
      "            }\n",
      "          }, \n",
      "          \"ns2:SpeciaalKaartje\": \"N\", \n",
      "          \"ns2:Vervoerder\": \"NS\", \n",
      "          \"ns2:GedempteVertrekVertraging\": \"PT0S\"\n",
      "        }\n",
      "      }\n",
      "    }, \n",
      "    \"@xmlns:ns2\": \"urn:ndov:cdm:trein:reisinformatie:data:4\"\n",
      "  }\n",
      "}"
     ]
    }
   ],
   "source": [
    "example_departures = client.topics[b'ndovloketnl-departures'].get_simple_consumer(\n",
    "    auto_offset_reset=OffsetType.EARLIEST,\n",
    "    reset_offset_on_start=True\n",
    ").consume()\n",
    "print(json.dumps(json.loads(example_departures.value), indent=2))"
   ]
  },
  {
   "cell_type": "markdown",
   "metadata": {},
   "source": [
    "We can see that the messages have the following structure:\n",
    "\n",
    "```\n",
    "{\n",
    "  'ns1:PutReisInformatieBoodschapIn': {\n",
    "    'ns2:ReisInformatieProductDVS' or 'ns2:ReisInformatieProductDAS': {\n",
    "      'ns2:DynamischeVertrekStaat' or 'ns2:DynamischeAankomstStaat': {\n",
    "          'ns2:RitStation': <station_info>,\n",
    "          'ns2:Trein' or 'ns2:TreinAankomst': {\n",
    "              'ns2:VertrekTijd' or 'ns2:AankomstTijd': [<planned_and_actual_times>],\n",
    "              'ns2:TreinNummer': <train_number>,\n",
    "              'ns2:TreinSoort': <kind_of_train>,\n",
    "              ...\n",
    "          }\n",
    "           \n",
    "      }\n",
    "    }\n",
    "  }\n",
    "}\n",
    "```\n",
    "\n",
    "We can see also that the train stations have a long name `ns2:LangeNaam`, a medium name `ns2:MiddelNaam`, a short name `ns2:KorteNaam`, a station code `ns2:StationCode` and a kind of nummerical ID `ns2:UICCode`. When giving information about times, tracks, direction,... you will find sometimes the information twice with the status `Gepland` (which means planned, according to the schedule) and `Actueel`(which means the actual measured value). "
   ]
  },
  {
   "cell_type": "markdown",
   "metadata": {},
   "source": [
    "**Question III.a. (5/20)** We want to compute the time a train stays at a station and get a real-time histogram for a given time window. To begin with, you need to write some parsing functions that will allow you to get information from the data streams. We have prepare one function `parse_train_dep` for the stream `ndovloketnl-departures`, which returns a Key-Value pair."
   ]
  },
  {
   "cell_type": "code",
   "execution_count": 13,
   "metadata": {
    "scrolled": true
   },
   "outputs": [
    {
     "data": {
      "application/vnd.jupyter.widget-view+json": {
       "model_id": "",
       "version_major": 2,
       "version_minor": 0
      },
      "text/plain": [
       "FloatProgress(value=0.0, bar_style='info', description='Progress:', layout=Layout(height='25px', width='50%'),…"
      ]
     },
     "metadata": {},
     "output_type": "display_data"
    }
   ],
   "source": [
    "import json\n",
    "\n",
    "def parse_train_dep(s):\n",
    "    obj = json.loads(s)\n",
    "    tn = obj.get('ns1:PutReisInformatieBoodschapIn', {}).get('ns2:ReisInformatieProductDVS', {}).get('ns2:DynamischeVertrekStaat', {}).get('ns2:Trein', {}).get(\"ns2:TreinNummer\")\n",
    "    st = obj.get('ns1:PutReisInformatieBoodschapIn', {}).get('ns2:ReisInformatieProductDVS', {}).get('ns2:DynamischeVertrekStaat', {}).get('ns2:RitStation', {}).get(\"ns2:UICCode\")\n",
    "    if tn and st:\n",
    "        return [(\"{}-{}\".format(tn, st), obj)]\n",
    "    else:\n",
    "        return []"
   ]
  },
  {
   "cell_type": "markdown",
   "metadata": {},
   "source": [
    "__Q (1/5)__  Please check the function `parse_train_dep` above. Explain how we construct the Key and the Value, and why we construct them in this way."
   ]
  },
  {
   "cell_type": "markdown",
   "metadata": {},
   "source": [
    "__Answer__: Write your answer here."
   ]
  },
  {
   "cell_type": "markdown",
   "metadata": {},
   "source": [
    "__Q (2/5)__ Take `parse_train_dep` as an example and write the function `parse_train_arr` for the stream `ndovloketnl-arrivals`. Make sure they have the same output format."
   ]
  },
  {
   "cell_type": "code",
   "execution_count": 14,
   "metadata": {
    "scrolled": true
   },
   "outputs": [
    {
     "data": {
      "application/vnd.jupyter.widget-view+json": {
       "model_id": "",
       "version_major": 2,
       "version_minor": 0
      },
      "text/plain": [
       "FloatProgress(value=0.0, bar_style='info', description='Progress:', layout=Layout(height='25px', width='50%'),…"
      ]
     },
     "metadata": {},
     "output_type": "display_data"
    }
   ],
   "source": [
    "def parse_train_arr(s):\n",
    "    obj = json.loads(s)\n",
    "    tn = obj.get('ns1:PutReisInformatieBoodschapIn', {}).get('ns2:ReisInformatieProductDAS', {}).get('ns2:DynamischeAankomstStaat', {}).get('ns2:TreinAankomst', {}).get(\"ns2:TreinNummer\")\n",
    "    st = obj.get('ns1:PutReisInformatieBoodschapIn', {}).get('ns2:ReisInformatieProductDAS', {}).get('ns2:DynamischeAankomstStaat', {}).get('ns2:RitStation', {}).get(\"ns2:UICCode\")\n",
    "    if tn and st:\n",
    "        return [(\"{}-{}\".format(tn, st), obj)]\n",
    "    else:\n",
    "        return []"
   ]
  },
  {
   "cell_type": "markdown",
   "metadata": {},
   "source": [
    "__Q (2/5)__ Another parsing function you may need is `get_actual_time`, which will allow you to extract the actual time from the fields of time information, which are `ns2:AankomstTijd` in the arrival stream and `ns2:VertrekTijd` in the departure stream. \n",
    "\n",
    "__Note:__ These two fields may be empty and they may not contain the actual time information. In both cases the function should return `None`."
   ]
  },
  {
   "cell_type": "code",
   "execution_count": 15,
   "metadata": {
    "scrolled": true
   },
   "outputs": [
    {
     "data": {
      "application/vnd.jupyter.widget-view+json": {
       "model_id": "",
       "version_major": 2,
       "version_minor": 0
      },
      "text/plain": [
       "FloatProgress(value=0.0, bar_style='info', description='Progress:', layout=Layout(height='25px', width='50%'),…"
      ]
     },
     "metadata": {},
     "output_type": "display_data"
    }
   ],
   "source": [
    "import datetime\n",
    "def get_actual_time(tab):\n",
    "    for t in tab:\n",
    "        try:\n",
    "            if t[\"@InfoStatus\"] == \"Actueel\":\n",
    "                return t[\"#text\"]\n",
    "        except:\n",
    "            return None"
   ]
  },
  {
   "cell_type": "code",
   "execution_count": 16,
   "metadata": {},
   "outputs": [
    {
     "data": {
      "application/vnd.jupyter.widget-view+json": {
       "model_id": "",
       "version_major": 2,
       "version_minor": 0
      },
      "text/plain": [
       "FloatProgress(value=0.0, bar_style='info', description='Progress:', layout=Layout(height='25px', width='50%'),…"
      ]
     },
     "metadata": {},
     "output_type": "display_data"
    }
   ],
   "source": [
    "# Get the field of time in the departure stream\n",
    "example_json = json.loads(example_departures.value)\n",
    "tab = example_json.get('ns1:PutReisInformatieBoodschapIn', {}).get(\"ns2:ReisInformatieProductDVS\", {}).get(\"ns2:DynamischeVertrekStaat\", {}).get(\"ns2:Trein\", {}).get(\"ns2:VertrekTijd\",{})"
   ]
  },
  {
   "cell_type": "code",
   "execution_count": 17,
   "metadata": {},
   "outputs": [
    {
     "data": {
      "application/vnd.jupyter.widget-view+json": {
       "model_id": "",
       "version_major": 2,
       "version_minor": 0
      },
      "text/plain": [
       "FloatProgress(value=0.0, bar_style='info', description='Progress:', layout=Layout(height='25px', width='50%'),…"
      ]
     },
     "metadata": {},
     "output_type": "display_data"
    },
    {
     "name": "stdout",
     "output_type": "stream",
     "text": [
      "u'2020-04-23T15:32:00.000Z'"
     ]
    }
   ],
   "source": [
    "# Example results from `get_actual_time`\n",
    "get_actual_time(tab)"
   ]
  },
  {
   "cell_type": "markdown",
   "metadata": {},
   "source": [
    "**Question III.b. (5/20)** Create two Spark streams from the arrivals and departures where the records are in the form (Key, Value) using `parse_train_dep` and  `parse_train_arr`. "
   ]
  },
  {
   "cell_type": "code",
   "execution_count": 119,
   "metadata": {
    "scrolled": true
   },
   "outputs": [
    {
     "data": {
      "application/vnd.jupyter.widget-view+json": {
       "model_id": "",
       "version_major": 2,
       "version_minor": 0
      },
      "text/plain": [
       "FloatProgress(value=0.0, bar_style='info', description='Progress:', layout=Layout(height='25px', width='50%'),…"
      ]
     },
     "metadata": {},
     "output_type": "display_data"
    }
   ],
   "source": [
    "# recreate the streaming context\n",
    "ssc = StreamingContext(sc, 10)\n",
    "ssc.checkpoint(checkpoint)\n",
    "\n",
    "group_id = 'ns-{0}'.format(username)\n",
    "\n",
    "# Input streams\n",
    "arrival_stream = KafkaUtils.createStream(ssc, ZOOKEEPER_QUORUM, group_id, { 'ndovloketnl-arrivals': 1})\n",
    "departure_stream = KafkaUtils.createStream(ssc, ZOOKEEPER_QUORUM, group_id, { 'ndovloketnl-departures': 1})"
   ]
  },
  {
   "cell_type": "code",
   "execution_count": 120,
   "metadata": {},
   "outputs": [
    {
     "data": {
      "application/vnd.jupyter.widget-view+json": {
       "model_id": "",
       "version_major": 2,
       "version_minor": 0
      },
      "text/plain": [
       "FloatProgress(value=0.0, bar_style='info', description='Progress:', layout=Layout(height='25px', width='50%'),…"
      ]
     },
     "metadata": {},
     "output_type": "display_data"
    }
   ],
   "source": [
    "arrival_stream_m = arrival_stream.map(lambda x :parse_train_arr(x[1]))\n",
    "\n",
    "departure_stream_m = departure_stream.map(lambda x :parse_train_dep(x[1]))\n",
    "                                                     \n",
    "                                                     \n"
   ]
  },
  {
   "cell_type": "markdown",
   "metadata": {},
   "source": [
    "**Question III.c. (5/20)** \n",
    "Every 20 seconds, we want to have a list of trains that had departed from any train station after staying for 5 minutes or less at the station. Apply a window of 20s sliding interval on arrival and departure streams. Join two streams such that trains staying for 5 minutes or less (± 20 seconds error due to sliding interval) at any station are caught by the join in the RDD window of the joined stream (you can ignore late messages). \n",
    "\n",
    "__Hint:__\n",
    "- Check [here](https://spark.apache.org/docs/2.3.1/streaming-programming-guide.html#window-operations) for windowed computations in Spark Streaming.\n",
    "- Use the methods [reduceByKeyAndWindow](https://spark.apache.org/docs/2.3.1/api/python/pyspark.streaming.html?highlight=reducebykey#pyspark.streaming.DStream.reduceByKeyAndWindow) and [join](https://spark.apache.org/docs/2.3.1/api/python/pyspark.streaming.html?highlight=reducebykey#pyspark.streaming.DStream.join) on DStream objects.\n",
    "- Both windows should have `slideDuration` of 20s\n",
    "- You have to pick the sizes of windows `windowDuration` carefully. The sizes can be different: \n",
    "    - The trains staying for 5 minutes or less (± 20 seconds error due to sliding interval) must be in the joined stream.\n",
    "    - A same stay (i.e. one train at one station) is caught in the joined stream once and only once."
   ]
  },
  {
   "cell_type": "code",
   "execution_count": 121,
   "metadata": {
    "scrolled": true
   },
   "outputs": [
    {
     "data": {
      "application/vnd.jupyter.widget-view+json": {
       "model_id": "",
       "version_major": 2,
       "version_minor": 0
      },
      "text/plain": [
       "FloatProgress(value=0.0, bar_style='info', description='Progress:', layout=Layout(height='25px', width='50%'),…"
      ]
     },
     "metadata": {},
     "output_type": "display_data"
    }
   ],
   "source": [
    "\n",
    "arrival_stream_window = arrival_stream_m.reduceByKeyAndWindow(lambda x, y: x + y, lambda x, y: x - y, 5*60, 20)\n",
    "departure_stream_window = departure_stream_m.reduceByKeyAndWindow(lambda x, y: x + y, lambda x, y: x - y, 100, 20)\n",
    "jstream = arrival_stream_window.join(departure_stream_window)"
   ]
  },
  {
   "cell_type": "markdown",
   "metadata": {},
   "source": [
    "**Question III.d. (5/20)** On the joined stream, compute the length of each stay (you can round to the minute) and produce a stream of histograms. You don't need to plot them, a value/count array is enough, like:\n",
    "```\n",
    "-------------------------------------------\n",
    "Time: 2018-05-17 11:10:00\n",
    "-------------------------------------------\n",
    "(0.0, 110)\n",
    "(8.0, 2)\n",
    "(4.0, 3)\n",
    "\n",
    "-------------------------------------------\n",
    "Time: 2018-05-17 11:10:20\n",
    "-------------------------------------------\n",
    "(0.0, 46)\n",
    "(4.0, 2)\n",
    "(1.0, 5)\n",
    "```"
   ]
  },
  {
   "cell_type": "code",
   "execution_count": 107,
   "metadata": {
    "scrolled": true
   },
   "outputs": [
    {
     "data": {
      "application/vnd.jupyter.widget-view+json": {
       "model_id": "",
       "version_major": 2,
       "version_minor": 0
      },
      "text/plain": [
       "FloatProgress(value=0.0, bar_style='info', description='Progress:', layout=Layout(height='25px', width='50%'),…"
      ]
     },
     "metadata": {},
     "output_type": "display_data"
    },
    {
     "name": "stderr",
     "output_type": "stream",
     "text": [
      "An error was encountered:\n",
      "invalid syntax (<stdin>, line 1)\n",
      "  File \"<stdin>\", line 1\n",
      "    histograms_stream = <--TODO-->\n",
      "                        ^\n",
      "SyntaxError: invalid syntax\n",
      "\n"
     ]
    }
   ],
   "source": [
    "histograms_stream = <--TODO-->\n",
    "\n",
    "histograms_stream.pprint()"
   ]
  },
  {
   "cell_type": "code",
   "execution_count": 122,
   "metadata": {},
   "outputs": [
    {
     "data": {
      "application/vnd.jupyter.widget-view+json": {
       "model_id": "",
       "version_major": 2,
       "version_minor": 0
      },
      "text/plain": [
       "FloatProgress(value=0.0, bar_style='info', description='Progress:', layout=Layout(height='25px', width='50%'),…"
      ]
     },
     "metadata": {},
     "output_type": "display_data"
    }
   ],
   "source": [
    "arrival_stream_window.pprint()"
   ]
  },
  {
   "cell_type": "code",
   "execution_count": 123,
   "metadata": {
    "scrolled": true
   },
   "outputs": [
    {
     "data": {
      "application/vnd.jupyter.widget-view+json": {
       "model_id": "",
       "version_major": 2,
       "version_minor": 0
      },
      "text/plain": [
       "FloatProgress(value=0.0, bar_style='info', description='Progress:', layout=Layout(height='25px', width='50%'),…"
      ]
     },
     "metadata": {},
     "output_type": "display_data"
    }
   ],
   "source": [
    "ssc.start() \n",
    "ssc.awaitTermination(timeout=200)"
   ]
  },
  {
   "cell_type": "code",
   "execution_count": 124,
   "metadata": {
    "scrolled": true
   },
   "outputs": [
    {
     "data": {
      "application/vnd.jupyter.widget-view+json": {
       "model_id": "",
       "version_major": 2,
       "version_minor": 0
      },
      "text/plain": [
       "FloatProgress(value=0.0, bar_style='info', description='Progress:', layout=Layout(height='25px', width='50%'),…"
      ]
     },
     "metadata": {},
     "output_type": "display_data"
    }
   ],
   "source": [
    "ssc.stop(stopSparkContext=False, stopGraceFully=True)"
   ]
  },
  {
   "cell_type": "code",
   "execution_count": null,
   "metadata": {},
   "outputs": [],
   "source": []
  }
 ],
 "metadata": {
  "kernelspec": {
   "display_name": "PySpark",
   "language": "",
   "name": "pysparkkernel"
  },
  "language_info": {
   "codemirror_mode": {
    "name": "python",
    "version": 3
   },
   "mimetype": "text/x-python",
   "name": "pyspark",
   "pygments_lexer": "python3"
  }
 },
 "nbformat": 4,
 "nbformat_minor": 4
}
