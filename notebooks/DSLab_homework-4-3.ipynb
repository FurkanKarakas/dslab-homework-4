{
 "cells": [
  {
   "cell_type": "markdown",
   "metadata": {},
   "source": [
    "# Homework 4 - More trains (Part III)\n",
    "\n",
    "__Hand-in:__\n",
    "\n",
    "- __Due: 12.05.2020 23:59:59 CET__\n",
    "- `git push` your final verion to your group's Renku repository before the due\n",
    "- check if `Dockerfile`, `environment.yml` and `requirements.txt` are properly written\n",
    "- add necessary comments and discussion to make your codes readable\n",
    "\n",
    "For this homework, you will be working with the real-time streams of the NS, the train company of the Netherlands. You can see an example webpage that uses the same streams to display the train information on a map: https://spoorkaart.mwnn.nl/ . \n",
    "\n",
    "To help you and avoid having too many connections to the NS streaming servers, we have setup a service that collects the streams and pushes them to our Kafka instance. The related topics are: \n",
    "\n",
    "`ndovloketnl-arrivals`: For each arrival of a train in a station, describe the previous and next station, time of arrival (planned and actual), track number,...\n",
    "\n",
    "`ndovloketnl-departures`: For each departure of a train from a station, describe the previous and next station, time of departure (planned and actual), track number,...\n",
    "\n",
    "`ndovloketnl-gps`: For each train, describe the current location, speed, bearing.\n",
    "\n",
    "The events are serialized in JSON (actually converted from XML), with properties in their original language. Google translate could help you understand all of them, but we will provide you with some useful mappings."
   ]
  },
  {
   "cell_type": "markdown",
   "metadata": {},
   "source": [
    "---\n",
    "## Set up environment\n",
    "\n",
    "Run the following cells below before running the other cells of this notebook. Run them whenever you need to recreate a Spark context. Pay particular attention to your `username` settings, and make sure that it is properly set to your user name, both locally and on the remote Spark Driver.\n",
    "\n",
    "Configure your spark settings:\n",
    "1. name your spark application as `\"YOUR_GASPAR_homework_4\"`.\n",
    "2. make the required kafka jars available on the remote Spark driver.\n",
    "\n",
    "<div class=\"alert alert-block alert-warning\"><b>Any application without a proper name would be promptly killed.</b></div>"
   ]
  },
  {
   "cell_type": "code",
   "execution_count": 1,
   "metadata": {},
   "outputs": [
    {
     "data": {
      "text/html": [
       "Current session configs: <tt>{'conf': {'spark.app.name': 'boecuego_homework_4', 'spark.jars.packages': 'org.apache.spark:spark-streaming-kafka-0-8_2.11:2.3.1,org.apache.kafka:kafka_2.11:1.0.1'}, 'kind': 'pyspark'}</tt><br>"
      ],
      "text/plain": [
       "<IPython.core.display.HTML object>"
      ]
     },
     "metadata": {},
     "output_type": "display_data"
    },
    {
     "data": {
      "text/html": [
       "<table>\n",
       "<tr><th>ID</th><th>YARN Application ID</th><th>Kind</th><th>State</th><th>Spark UI</th><th>Driver log</th><th>Current session?</th></tr><tr><td>4543</td><td>application_1587988164357_1171</td><td>pyspark</td><td>idle</td><td><a target=\"_blank\" href=\"http://iccluster044.iccluster.epfl.ch:8088/proxy/application_1587988164357_1171/\">Link</a></td><td><a target=\"_blank\" href=\"http://iccluster069.iccluster.epfl.ch:8042/node/containerlogs/container_e05_1587988164357_1171_01_000001/ebouille\">Link</a></td><td></td></tr></table>"
      ],
      "text/plain": [
       "<IPython.core.display.HTML object>"
      ]
     },
     "metadata": {},
     "output_type": "display_data"
    }
   ],
   "source": [
    "%%configure\n",
    "{\"conf\": {\n",
    "    \"spark.app.name\": \"boecuego_homework_4\",\n",
    "    \"spark.jars.packages\": \"org.apache.spark:spark-streaming-kafka-0-8_2.11:2.3.1,org.apache.kafka:kafka_2.11:1.0.1\"\n",
    "}}"
   ]
  },
  {
   "cell_type": "markdown",
   "metadata": {},
   "source": [
    "Create a new session unless one was already created above (check for `✔` in current session)"
   ]
  },
  {
   "cell_type": "code",
   "execution_count": 2,
   "metadata": {},
   "outputs": [
    {
     "name": "stdout",
     "output_type": "stream",
     "text": [
      "Starting Spark application\n"
     ]
    },
    {
     "data": {
      "text/html": [
       "<table>\n",
       "<tr><th>ID</th><th>YARN Application ID</th><th>Kind</th><th>State</th><th>Spark UI</th><th>Driver log</th><th>Current session?</th></tr><tr><td>4546</td><td>application_1587988164357_1174</td><td>pyspark</td><td>idle</td><td><a target=\"_blank\" href=\"http://iccluster044.iccluster.epfl.ch:8088/proxy/application_1587988164357_1174/\">Link</a></td><td><a target=\"_blank\" href=\"http://iccluster065.iccluster.epfl.ch:8042/node/containerlogs/container_e05_1587988164357_1174_01_000001/ebouille\">Link</a></td><td>✔</td></tr></table>"
      ],
      "text/plain": [
       "<IPython.core.display.HTML object>"
      ]
     },
     "metadata": {},
     "output_type": "display_data"
    },
    {
     "data": {
      "application/vnd.jupyter.widget-view+json": {
       "model_id": "",
       "version_major": 2,
       "version_minor": 0
      },
      "text/plain": [
       "FloatProgress(value=0.0, bar_style='info', description='Progress:', layout=Layout(height='25px', width='50%'),…"
      ]
     },
     "metadata": {},
     "output_type": "display_data"
    },
    {
     "name": "stdout",
     "output_type": "stream",
     "text": [
      "SparkSession available as 'spark'.\n"
     ]
    },
    {
     "data": {
      "application/vnd.jupyter.widget-view+json": {
       "model_id": "",
       "version_major": 2,
       "version_minor": 0
      },
      "text/plain": [
       "FloatProgress(value=0.0, bar_style='info', description='Progress:', layout=Layout(height='25px', width='50%'),…"
      ]
     },
     "metadata": {},
     "output_type": "display_data"
    }
   ],
   "source": [
    "# Initialize spark application"
   ]
  },
  {
   "cell_type": "markdown",
   "metadata": {},
   "source": [
    "Set `username` to your GASPAR both locally and on the Spark driver."
   ]
  },
  {
   "cell_type": "code",
   "execution_count": 3,
   "metadata": {},
   "outputs": [],
   "source": [
    "%%local\n",
    "import os\n",
    "username = os.environ['JUPYTERHUB_USER']"
   ]
  },
  {
   "cell_type": "code",
   "execution_count": 4,
   "metadata": {},
   "outputs": [
    {
     "data": {
      "application/vnd.jupyter.widget-view+json": {
       "model_id": "",
       "version_major": 2,
       "version_minor": 0
      },
      "text/plain": [
       "FloatProgress(value=0.0, bar_style='info', description='Progress:', layout=Layout(height='25px', width='50%'),…"
      ]
     },
     "metadata": {},
     "output_type": "display_data"
    },
    {
     "name": "stdout",
     "output_type": "stream",
     "text": [
      "Successfully passed 'username' as 'username' to Spark kernel"
     ]
    }
   ],
   "source": [
    "%%send_to_spark -i username -t str -n username"
   ]
  },
  {
   "cell_type": "code",
   "execution_count": 5,
   "metadata": {},
   "outputs": [
    {
     "data": {
      "application/vnd.jupyter.widget-view+json": {
       "model_id": "",
       "version_major": 2,
       "version_minor": 0
      },
      "text/plain": [
       "FloatProgress(value=0.0, bar_style='info', description='Progress:', layout=Layout(height='25px', width='50%'),…"
      ]
     },
     "metadata": {},
     "output_type": "display_data"
    },
    {
     "name": "stdout",
     "output_type": "stream",
     "text": [
      "'boecuego'"
     ]
    }
   ],
   "source": [
    "username"
   ]
  },
  {
   "cell_type": "markdown",
   "metadata": {},
   "source": [
    "---"
   ]
  },
  {
   "cell_type": "markdown",
   "metadata": {},
   "source": [
    "## Create a Kafka client"
   ]
  },
  {
   "cell_type": "code",
   "execution_count": 6,
   "metadata": {
    "scrolled": true
   },
   "outputs": [
    {
     "data": {
      "application/vnd.jupyter.widget-view+json": {
       "model_id": "",
       "version_major": 2,
       "version_minor": 0
      },
      "text/plain": [
       "FloatProgress(value=0.0, bar_style='info', description='Progress:', layout=Layout(height='25px', width='50%'),…"
      ]
     },
     "metadata": {},
     "output_type": "display_data"
    }
   ],
   "source": [
    "from pykafka import KafkaClient\n",
    "from pykafka.common import OffsetType\n",
    "\n",
    "ZOOKEEPER_QUORUM = 'iccluster044.iccluster.epfl.ch:2181,'\\\n",
    "                   'iccluster054.iccluster.epfl.ch:2181,'\\\n",
    "                   'iccluster059.iccluster.epfl.ch:2181'\n",
    "\n",
    "client = KafkaClient(zookeeper_hosts=ZOOKEEPER_QUORUM)"
   ]
  },
  {
   "cell_type": "markdown",
   "metadata": {},
   "source": [
    "## Streams from Kafka"
   ]
  },
  {
   "cell_type": "code",
   "execution_count": 7,
   "metadata": {
    "scrolled": true
   },
   "outputs": [
    {
     "data": {
      "application/vnd.jupyter.widget-view+json": {
       "model_id": "",
       "version_major": 2,
       "version_minor": 0
      },
      "text/plain": [
       "FloatProgress(value=0.0, bar_style='info', description='Progress:', layout=Layout(height='25px', width='50%'),…"
      ]
     },
     "metadata": {},
     "output_type": "display_data"
    },
    {
     "name": "stdout",
     "output_type": "stream",
     "text": [
      "checkpoint created at hdfs:///user/boecuego/checkpoint/"
     ]
    }
   ],
   "source": [
    "# Define the checkpoint folder\n",
    "checkpoint = 'hdfs:///user/{}/checkpoint/'.format(username)\n",
    "print('checkpoint created at hdfs:///user/{}/checkpoint/'.format(username))"
   ]
  },
  {
   "cell_type": "code",
   "execution_count": 8,
   "metadata": {
    "scrolled": true
   },
   "outputs": [
    {
     "data": {
      "application/vnd.jupyter.widget-view+json": {
       "model_id": "",
       "version_major": 2,
       "version_minor": 0
      },
      "text/plain": [
       "FloatProgress(value=0.0, bar_style='info', description='Progress:', layout=Layout(height='25px', width='50%'),…"
      ]
     },
     "metadata": {},
     "output_type": "display_data"
    }
   ],
   "source": [
    "from pyspark.streaming import StreamingContext\n",
    "from pyspark.streaming.kafka import KafkaUtils\n",
    "\n",
    "# Create a StreamingContext with two working thread and batch interval of 10 seconds.\n",
    "# Each time you stop a StreamingContext, you will need to recreate it.\n",
    "ssc = StreamingContext(sc, 10)\n",
    "ssc.checkpoint(checkpoint)\n",
    "\n",
    "group_id = 'ns-{0}'.format(username)\n",
    "\n",
    "# Input streams\n",
    "arrival_stream = KafkaUtils.createStream(ssc, ZOOKEEPER_QUORUM, group_id, { 'ndovloketnl-arrivals': 1})\n",
    "departure_stream = KafkaUtils.createStream(ssc, ZOOKEEPER_QUORUM, group_id, { 'ndovloketnl-departures': 1})"
   ]
  },
  {
   "cell_type": "markdown",
   "metadata": {},
   "source": [
    "For now, let's just print the content of the streams. Note: the output may be shown after you run `ssc.stop`."
   ]
  },
  {
   "cell_type": "code",
   "execution_count": 9,
   "metadata": {
    "scrolled": true
   },
   "outputs": [
    {
     "data": {
      "application/vnd.jupyter.widget-view+json": {
       "model_id": "",
       "version_major": 2,
       "version_minor": 0
      },
      "text/plain": [
       "FloatProgress(value=0.0, bar_style='info', description='Progress:', layout=Layout(height='25px', width='50%'),…"
      ]
     },
     "metadata": {},
     "output_type": "display_data"
    },
    {
     "name": "stdout",
     "output_type": "stream",
     "text": [
      "-------------------------------------------\n",
      "Time: 2020-05-09 01:30:00\n",
      "-------------------------------------------\n",
      "\n",
      "-------------------------------------------\n",
      "Time: 2020-05-09 01:30:00\n",
      "-------------------------------------------"
     ]
    }
   ],
   "source": [
    "arrival_stream.pprint()\n",
    "departure_stream.pprint()\n",
    "\n",
    "ssc.start()\n",
    "ssc.awaitTermination(timeout=10)"
   ]
  },
  {
   "cell_type": "code",
   "execution_count": 10,
   "metadata": {
    "scrolled": true
   },
   "outputs": [
    {
     "data": {
      "application/vnd.jupyter.widget-view+json": {
       "model_id": "",
       "version_major": 2,
       "version_minor": 0
      },
      "text/plain": [
       "FloatProgress(value=0.0, bar_style='info', description='Progress:', layout=Layout(height='25px', width='50%'),…"
      ]
     },
     "metadata": {},
     "output_type": "display_data"
    },
    {
     "name": "stdout",
     "output_type": "stream",
     "text": [
      "-------------------------------------------\n",
      "Time: 2020-05-09 01:30:10\n",
      "-------------------------------------------\n",
      "(None, u'{\"ns1:PutReisInformatieBoodschapIn\": {\"@xmlns:ns1\": \"urn:ndov:cdm:trein:reisinformatie:messages:dynamischeaankomststaat:1\", \"@xmlns:ns2\": \"urn:ndov:cdm:trein:reisinformatie:data:4\", \"ns2:ReisInformatieProductDAS\": {\"@TimeStamp\": \"2020-05-08T19:06:39.154Z\", \"@Versie\": \"6.1\", \"ns2:RIPAdministratie\": {\"ns2:ReisInformatieProductID\": \"2005082106392400007\", \"ns2:AbonnementId\": \"55\", \"ns2:ReisInformatieTijdstip\": \"2020-05-08T19:07:00.000Z\"}, \"ns2:DynamischeAankomstStaat\": {\"ns2:RitId\": \"6076\", \"ns2:RitDatum\": \"2020-05-08\", \"ns2:RitStation\": {\"ns2:StationCode\": \"TPSW\", \"ns2:Type\": \"0\", \"ns2:KorteNaam\": \"Passewaaij\", \"ns2:MiddelNaam\": \"Passewaaij\", \"ns2:LangeNaam\": \"Tiel Passewaaij\", \"ns2:UICCode\": \"8400600\"}, \"ns2:TreinAankomst\": {\"ns2:TreinNummer\": \"6076\", \"ns2:TreinSoort\": {\"@Code\": \"SPR\", \"#text\": \"Sprinter\"}, \"ns2:TreinStatus\": \"0\", \"ns2:Vervoerder\": \"NS\", \"ns2:TreinHerkomst\": [{\"@InfoStatus\": \"Gepland\", \"ns2:StationCode\": \"TL\", \"ns2:Type\": \"1\", \"ns2:KorteNaam\": \"Tiel\", \"ns2:MiddelNaam\": \"Tiel\", \"ns2:LangeNaam\": \"Tiel\", \"ns2:UICCode\": \"8400596\"}, {\"@InfoStatus\": \"Actueel\", \"ns2:StationCode\": \"TL\", \"ns2:Type\": \"1\", \"ns2:KorteNaam\": \"Tiel\", \"ns2:MiddelNaam\": \"Tiel\", \"ns2:LangeNaam\": \"Tiel\", \"ns2:UICCode\": \"8400596\"}], \"ns2:PresentatieTreinHerkomst\": {\"ns2:Uitingen\": {\"ns2:Uiting\": \"Tiel\"}}, \"ns2:AankomstTijd\": [{\"@InfoStatus\": \"Gepland\", \"#text\": \"2020-05-08T19:07:00.000Z\"}, {\"@InfoStatus\": \"Actueel\", \"#text\": \"2020-05-08T19:08:46.000Z\"}], \"ns2:ExacteAankomstVertraging\": \"PT1M46S\", \"ns2:PresentatieAankomstVertraging\": {\"ns2:Uitingen\": {\"ns2:Uiting\": \"+1 min.\"}}, \"ns2:GedempteAankomstVertraging\": \"PT0S\", \"ns2:TreinAankomstSpoor\": [{\"@InfoStatus\": \"Gepland\", \"ns2:SpoorNummer\": \"1\"}, {\"@InfoStatus\": \"Actueel\", \"ns2:SpoorNummer\": \"1\"}], \"ns2:PresentatieTreinAankomstSpoor\": {\"ns2:Uitingen\": {\"ns2:Uiting\": \"1\"}}, \"ns2:WijzigingHerkomst\": {\"ns2:WijzigingType\": \"11\"}}}}}}')\n",
      "(None, u'{\"ns1:PutReisInformatieBoodschapIn\": {\"@xmlns:ns1\": \"urn:ndov:cdm:trein:reisinformatie:messages:dynamischeaankomststaat:1\", \"@xmlns:ns2\": \"urn:ndov:cdm:trein:reisinformatie:data:4\", \"ns2:ReisInformatieProductDAS\": {\"@TimeStamp\": \"2020-05-08T19:06:39.161Z\", \"@Versie\": \"6.1\", \"ns2:RIPAdministratie\": {\"ns2:ReisInformatieProductID\": \"2005082106392400008\", \"ns2:AbonnementId\": \"55\", \"ns2:ReisInformatieTijdstip\": \"2020-05-08T19:16:00.000Z\"}, \"ns2:DynamischeAankomstStaat\": {\"ns2:RitId\": \"6076\", \"ns2:RitDatum\": \"2020-05-08\", \"ns2:RitStation\": {\"ns2:StationCode\": \"GDM\", \"ns2:Type\": \"1\", \"ns2:KorteNaam\": \"Geldermlsn\", \"ns2:MiddelNaam\": \"Geldermalsen\", \"ns2:LangeNaam\": \"Geldermalsen\", \"ns2:UICCode\": \"8400244\"}, \"ns2:TreinAankomst\": {\"ns2:TreinNummer\": \"6076\", \"ns2:TreinSoort\": {\"@Code\": \"SPR\", \"#text\": \"Sprinter\"}, \"ns2:TreinStatus\": \"0\", \"ns2:Vervoerder\": \"NS\", \"ns2:TreinHerkomst\": [{\"@InfoStatus\": \"Gepland\", \"ns2:StationCode\": \"TL\", \"ns2:Type\": \"1\", \"ns2:KorteNaam\": \"Tiel\", \"ns2:MiddelNaam\": \"Tiel\", \"ns2:LangeNaam\": \"Tiel\", \"ns2:UICCode\": \"8400596\"}, {\"@InfoStatus\": \"Actueel\", \"ns2:StationCode\": \"TL\", \"ns2:Type\": \"1\", \"ns2:KorteNaam\": \"Tiel\", \"ns2:MiddelNaam\": \"Tiel\", \"ns2:LangeNaam\": \"Tiel\", \"ns2:UICCode\": \"8400596\"}], \"ns2:PresentatieTreinHerkomst\": {\"ns2:Uitingen\": {\"ns2:Uiting\": \"Tiel\"}}, \"ns2:AankomstTijd\": [{\"@InfoStatus\": \"Gepland\", \"#text\": \"2020-05-08T19:16:00.000Z\"}, {\"@InfoStatus\": \"Actueel\", \"#text\": \"2020-05-08T19:17:04.000Z\"}], \"ns2:ExacteAankomstVertraging\": \"PT1M4S\", \"ns2:PresentatieAankomstVertraging\": {\"ns2:Uitingen\": {\"ns2:Uiting\": \"+1 min.\"}}, \"ns2:GedempteAankomstVertraging\": \"PT0S\", \"ns2:TreinAankomstSpoor\": [{\"@InfoStatus\": \"Gepland\", \"ns2:SpoorNummer\": \"3\", \"ns2:SpoorFase\": \"a\"}, {\"@InfoStatus\": \"Actueel\", \"ns2:SpoorNummer\": \"3\", \"ns2:SpoorFase\": \"a\"}], \"ns2:PresentatieTreinAankomstSpoor\": {\"ns2:Uitingen\": {\"ns2:Uiting\": \"3a\"}}, \"ns2:WijzigingHerkomst\": {\"ns2:WijzigingType\": \"11\"}}}}}}')\n",
      "(None, u'{\"ns1:PutReisInformatieBoodschapIn\": {\"@xmlns:ns1\": \"urn:ndov:cdm:trein:reisinformatie:messages:dynamischeaankomststaat:1\", \"@xmlns:ns2\": \"urn:ndov:cdm:trein:reisinformatie:data:4\", \"ns2:ReisInformatieProductDAS\": {\"@TimeStamp\": \"2020-05-08T19:06:40.772Z\", \"@Versie\": \"6.1\", \"ns2:RIPAdministratie\": {\"ns2:ReisInformatieProductID\": \"2005082106402300002\", \"ns2:AbonnementId\": \"55\", \"ns2:ReisInformatieTijdstip\": \"2020-05-08T19:06:00.000Z\"}, \"ns2:DynamischeAankomstStaat\": {\"ns2:RitId\": \"704870\", \"ns2:RitDatum\": \"2020-05-08\", \"ns2:RitStation\": {\"ns2:StationCode\": \"HWD\", \"ns2:Type\": \"1\", \"ns2:KorteNaam\": \"Heerhugow\", \"ns2:MiddelNaam\": \"Heerhugowaard\", \"ns2:LangeNaam\": \"Heerhugowaard\", \"ns2:UICCode\": \"8400306\"}, \"ns2:TreinAankomst\": {\"ns2:TreinNummer\": \"704870\", \"ns2:TreinSoort\": {\"@Code\": \"SPR\", \"#text\": \"Sprinter\"}, \"ns2:TreinStatus\": \"5\", \"ns2:Vervoerder\": \"NS\", \"ns2:TreinHerkomst\": [{\"@InfoStatus\": \"Gepland\", \"ns2:StationCode\": \"HN\", \"ns2:Type\": \"5\", \"ns2:KorteNaam\": \"Hoorn\", \"ns2:MiddelNaam\": \"Hoorn\", \"ns2:LangeNaam\": \"Hoorn\", \"ns2:UICCode\": \"8400337\"}, {\"@InfoStatus\": \"Actueel\", \"ns2:StationCode\": \"HN\", \"ns2:Type\": \"5\", \"ns2:KorteNaam\": \"Hoorn\", \"ns2:MiddelNaam\": \"Hoorn\", \"ns2:LangeNaam\": \"Hoorn\", \"ns2:UICCode\": \"8400337\"}], \"ns2:PresentatieTreinHerkomst\": {\"ns2:Uitingen\": {\"ns2:Uiting\": \"Hoorn\"}}, \"ns2:AankomstTijd\": [{\"@InfoStatus\": \"Gepland\", \"#text\": \"2020-05-08T19:06:00.000Z\"}, {\"@InfoStatus\": \"Actueel\", \"#text\": \"2020-05-08T19:06:00.000Z\"}], \"ns2:ExacteAankomstVertraging\": \"PT0S\", \"ns2:GedempteAankomstVertraging\": \"PT0S\", \"ns2:TreinAankomstSpoor\": [{\"@InfoStatus\": \"Gepland\", \"ns2:SpoorNummer\": \"1\"}, {\"@InfoStatus\": \"Actueel\", \"ns2:SpoorNummer\": \"1\"}], \"ns2:PresentatieTreinAankomstSpoor\": {\"ns2:Uitingen\": {\"ns2:Uiting\": \"1\"}}, \"ns2:WijzigingHerkomst\": {\"ns2:WijzigingType\": \"40\"}}}}}}')\n",
      "(None, u'{\"ns1:PutReisInformatieBoodschapIn\": {\"@xmlns:ns1\": \"urn:ndov:cdm:trein:reisinformatie:messages:dynamischeaankomststaat:1\", \"@xmlns:ns2\": \"urn:ndov:cdm:trein:reisinformatie:data:4\", \"ns2:ReisInformatieProductDAS\": {\"@TimeStamp\": \"2020-05-08T19:06:42.837Z\", \"@Versie\": \"6.1\", \"ns2:RIPAdministratie\": {\"ns2:ReisInformatieProductID\": \"2005082106422100003\", \"ns2:AbonnementId\": \"55\", \"ns2:ReisInformatieTijdstip\": \"2020-05-08T19:07:00.000Z\"}, \"ns2:DynamischeAankomstStaat\": {\"ns2:RitId\": \"7277\", \"ns2:RitDatum\": \"2020-05-08\", \"ns2:RitStation\": {\"ns2:StationCode\": \"GR\", \"ns2:Type\": \"1\", \"ns2:KorteNaam\": \"Gorinchem\", \"ns2:MiddelNaam\": \"Gorinchem\", \"ns2:LangeNaam\": \"Gorinchem\", \"ns2:UICCode\": \"8400256\"}, \"ns2:TreinAankomst\": {\"ns2:TreinNummer\": \"7277\", \"ns2:TreinSoort\": {\"@Code\": \"ST\", \"#text\": \"Stoptrein\"}, \"ns2:TreinStatus\": \"2\", \"ns2:Vervoerder\": \"R-net\", \"ns2:TreinHerkomst\": [{\"@InfoStatus\": \"Gepland\", \"ns2:StationCode\": \"DDR\", \"ns2:Type\": \"5\", \"ns2:KorteNaam\": \"Dordrecht\", \"ns2:MiddelNaam\": \"Dordrecht\", \"ns2:LangeNaam\": \"Dordrecht\", \"ns2:UICCode\": \"8400180\"}, {\"@InfoStatus\": \"Actueel\", \"ns2:StationCode\": \"DDR\", \"ns2:Type\": \"5\", \"ns2:KorteNaam\": \"Dordrecht\", \"ns2:MiddelNaam\": \"Dordrecht\", \"ns2:LangeNaam\": \"Dordrecht\", \"ns2:UICCode\": \"8400180\"}], \"ns2:PresentatieTreinHerkomst\": {\"ns2:Uitingen\": {\"ns2:Uiting\": \"Dordrecht\"}}, \"ns2:AankomstTijd\": [{\"@InfoStatus\": \"Gepland\", \"#text\": \"2020-05-08T19:07:00.000Z\"}, {\"@InfoStatus\": \"Actueel\", \"#text\": \"2020-05-08T19:07:00.000Z\"}], \"ns2:ExacteAankomstVertraging\": \"PT0S\", \"ns2:GedempteAankomstVertraging\": \"PT0S\", \"ns2:TreinAankomstSpoor\": [{\"@InfoStatus\": \"Gepland\", \"ns2:SpoorNummer\": \"2\"}, {\"@InfoStatus\": \"Actueel\", \"ns2:SpoorNummer\": \"2\"}], \"ns2:PresentatieTreinAankomstSpoor\": {\"ns2:Uitingen\": {\"ns2:Uiting\": \"2\"}}, \"ns2:WijzigingHerkomst\": {\"ns2:WijzigingType\": \"40\"}}}}}}')\n",
      "(None, u'{\"ns1:PutReisInformatieBoodschapIn\": {\"@xmlns:ns1\": \"urn:ndov:cdm:trein:reisinformatie:messages:dynamischeaankomststaat:1\", \"@xmlns:ns2\": \"urn:ndov:cdm:trein:reisinformatie:data:4\", \"ns2:ReisInformatieProductDAS\": {\"@TimeStamp\": \"2020-05-08T19:06:44.844Z\", \"@Versie\": \"6.1\", \"ns2:RIPAdministratie\": {\"ns2:ReisInformatieProductID\": \"2005082106442100004\", \"ns2:AbonnementId\": \"55\", \"ns2:ReisInformatieTijdstip\": \"2020-05-08T19:05:00.000Z\"}, \"ns2:DynamischeAankomstStaat\": {\"ns2:RitId\": \"2262\", \"ns2:RitDatum\": \"2020-05-08\", \"ns2:RitStation\": {\"ns2:StationCode\": \"KRG\", \"ns2:Type\": \"0\", \"ns2:KorteNaam\": \"Kruiningen\", \"ns2:MiddelNaam\": \"Kruiningen-Y.\", \"ns2:LangeNaam\": \"Kruiningen-Yerseke\", \"ns2:UICCode\": \"8400370\"}, \"ns2:TreinAankomst\": {\"ns2:TreinNummer\": \"2262\", \"ns2:TreinSoort\": {\"@Code\": \"IC\", \"#text\": \"Intercity\"}, \"ns2:TreinStatus\": \"5\", \"ns2:Vervoerder\": \"NS\", \"ns2:TreinHerkomst\": [{\"@InfoStatus\": \"Gepland\", \"ns2:StationCode\": \"RTD\", \"ns2:Type\": \"6\", \"ns2:KorteNaam\": \"Rotterdm C\", \"ns2:MiddelNaam\": \"Rotterdam C.\", \"ns2:LangeNaam\": \"Rotterdam Centraal\", \"ns2:UICCode\": \"8400530\"}, {\"@InfoStatus\": \"Actueel\", \"ns2:StationCode\": \"RTD\", \"ns2:Type\": \"6\", \"ns2:KorteNaam\": \"Rotterdm C\", \"ns2:MiddelNaam\": \"Rotterdam C.\", \"ns2:LangeNaam\": \"Rotterdam Centraal\", \"ns2:UICCode\": \"8400530\"}], \"ns2:PresentatieTreinHerkomst\": {\"ns2:Uitingen\": {\"ns2:Uiting\": \"Rotterdam C.\"}}, \"ns2:AankomstTijd\": [{\"@InfoStatus\": \"Gepland\", \"#text\": \"2020-05-08T19:05:00.000Z\"}, {\"@InfoStatus\": \"Actueel\", \"#text\": \"2020-05-08T19:05:00.000Z\"}], \"ns2:ExacteAankomstVertraging\": \"PT0S\", \"ns2:GedempteAankomstVertraging\": \"PT0S\", \"ns2:TreinAankomstSpoor\": [{\"@InfoStatus\": \"Gepland\", \"ns2:SpoorNummer\": \"2\"}, {\"@InfoStatus\": \"Actueel\", \"ns2:SpoorNummer\": \"2\"}], \"ns2:PresentatieTreinAankomstSpoor\": {\"ns2:Uitingen\": {\"ns2:Uiting\": \"2\"}}, \"ns2:VerkorteRouteHerkomst\": [{\"@InfoStatus\": \"Gepland\", \"ns2:Station\": [{\"ns2:StationCode\": \"DDR\", \"ns2:Type\": \"5\", \"ns2:KorteNaam\": \"Dordrecht\", \"ns2:MiddelNaam\": \"Dordrecht\", \"ns2:LangeNaam\": \"Dordrecht\", \"ns2:UICCode\": \"8400180\"}, {\"ns2:StationCode\": \"RSD\", \"ns2:Type\": \"5\", \"ns2:KorteNaam\": \"Roosendaal\", \"ns2:MiddelNaam\": \"Roosendaal\", \"ns2:LangeNaam\": \"Roosendaal\", \"ns2:UICCode\": \"8400526\"}]}, {\"@InfoStatus\": \"Actueel\", \"ns2:Station\": [{\"ns2:StationCode\": \"DDR\", \"ns2:Type\": \"5\", \"ns2:KorteNaam\": \"Dordrecht\", \"ns2:MiddelNaam\": \"Dordrecht\", \"ns2:LangeNaam\": \"Dordrecht\", \"ns2:UICCode\": \"8400180\"}, {\"ns2:StationCode\": \"RSD\", \"ns2:Type\": \"5\", \"ns2:KorteNaam\": \"Roosendaal\", \"ns2:MiddelNaam\": \"Roosendaal\", \"ns2:LangeNaam\": \"Roosendaal\", \"ns2:UICCode\": \"8400526\"}]}], \"ns2:PresentatieVerkorteRouteHerkomst\": {\"ns2:Uitingen\": {\"ns2:Uiting\": \"Dordrecht, Roosendaal\"}}, \"ns2:WijzigingHerkomst\": {\"ns2:WijzigingType\": \"40\"}}}}}}')\n",
      "(None, u'{\"ns1:PutReisInformatieBoodschapIn\": {\"@xmlns:ns1\": \"urn:ndov:cdm:trein:reisinformatie:messages:dynamischeaankomststaat:1\", \"@xmlns:ns2\": \"urn:ndov:cdm:trein:reisinformatie:data:4\", \"ns2:ReisInformatieProductDAS\": {\"@TimeStamp\": \"2020-05-08T19:06:44.789Z\", \"@Versie\": \"6.1\", \"ns2:RIPAdministratie\": {\"ns2:ReisInformatieProductID\": \"2005082106442300002\", \"ns2:AbonnementId\": \"55\", \"ns2:ReisInformatieTijdstip\": \"2020-05-08T19:09:00.000Z\"}, \"ns2:DynamischeAankomstStaat\": {\"ns2:RitId\": \"7976\", \"ns2:RitDatum\": \"2020-05-08\", \"ns2:RitStation\": {\"ns2:StationCode\": \"ZL\", \"ns2:Type\": \"5\", \"ns2:KorteNaam\": \"Zwolle\", \"ns2:MiddelNaam\": \"Zwolle\", \"ns2:LangeNaam\": \"Zwolle\", \"ns2:UICCode\": \"8400747\"}, \"ns2:TreinAankomst\": {\"ns2:TreinNummer\": \"7976\", \"ns2:TreinNaam\": \"Blauwnet\", \"ns2:TreinSoort\": {\"@Code\": \"SPR\", \"#text\": \"Sprinter\"}, \"ns2:TreinStatus\": \"2\", \"ns2:Vervoerder\": \"Blauwnet\", \"ns2:TreinHerkomst\": [{\"@InfoStatus\": \"Gepland\", \"ns2:StationCode\": \"ES\", \"ns2:Type\": \"5\", \"ns2:KorteNaam\": \"Enschede\", \"ns2:MiddelNaam\": \"Enschede\", \"ns2:LangeNaam\": \"Enschede\", \"ns2:UICCode\": \"8400212\"}, {\"@InfoStatus\": \"Actueel\", \"ns2:StationCode\": \"ES\", \"ns2:Type\": \"5\", \"ns2:KorteNaam\": \"Enschede\", \"ns2:MiddelNaam\": \"Enschede\", \"ns2:LangeNaam\": \"Enschede\", \"ns2:UICCode\": \"8400212\"}], \"ns2:PresentatieTreinHerkomst\": {\"ns2:Uitingen\": {\"ns2:Uiting\": \"Enschede\"}}, \"ns2:AankomstTijd\": [{\"@InfoStatus\": \"Gepland\", \"#text\": \"2020-05-08T19:09:00.000Z\"}, {\"@InfoStatus\": \"Actueel\", \"#text\": \"2020-05-08T19:09:00.000Z\"}], \"ns2:ExacteAankomstVertraging\": \"PT0S\", \"ns2:GedempteAankomstVertraging\": \"PT0S\", \"ns2:TreinAankomstSpoor\": [{\"@InfoStatus\": \"Gepland\", \"ns2:SpoorNummer\": \"8\"}, {\"@InfoStatus\": \"Actueel\", \"ns2:SpoorNummer\": \"8\"}], \"ns2:PresentatieTreinAankomstSpoor\": {\"ns2:Uitingen\": {\"ns2:Uiting\": \"8\"}}, \"ns2:VerkorteRouteHerkomst\": [{\"@InfoStatus\": \"Gepland\", \"ns2:Station\": [{\"ns2:StationCode\": \"HGL\", \"ns2:Type\": \"5\", \"ns2:KorteNaam\": \"Hengelo\", \"ns2:MiddelNaam\": \"Hengelo\", \"ns2:LangeNaam\": \"Hengelo\", \"ns2:UICCode\": \"8400316\"}, {\"ns2:StationCode\": \"AML\", \"ns2:Type\": \"5\", \"ns2:KorteNaam\": \"Almelo\", \"ns2:MiddelNaam\": \"Almelo\", \"ns2:LangeNaam\": \"Almelo\", \"ns2:UICCode\": \"8400051\"}, {\"ns2:StationCode\": \"WDN\", \"ns2:Type\": \"1\", \"ns2:KorteNaam\": \"Wierden\", \"ns2:MiddelNaam\": \"Wierden\", \"ns2:LangeNaam\": \"Wierden\", \"ns2:UICCode\": \"8400691\"}]}, {\"@InfoStatus\": \"Actueel\", \"ns2:Station\": [{\"ns2:StationCode\": \"HGL\", \"ns2:Type\": \"5\", \"ns2:KorteNaam\": \"Hengelo\", \"ns2:MiddelNaam\": \"Hengelo\", \"ns2:LangeNaam\": \"Hengelo\", \"ns2:UICCode\": \"8400316\"}, {\"ns2:StationCode\": \"AML\", \"ns2:Type\": \"5\", \"ns2:KorteNaam\": \"Almelo\", \"ns2:MiddelNaam\": \"Almelo\", \"ns2:LangeNaam\": \"Almelo\", \"ns2:UICCode\": \"8400051\"}, {\"ns2:StationCode\": \"WDN\", \"ns2:Type\": \"1\", \"ns2:KorteNaam\": \"Wierden\", \"ns2:MiddelNaam\": \"Wierden\", \"ns2:LangeNaam\": \"Wierden\", \"ns2:UICCode\": \"8400691\"}]}], \"ns2:PresentatieVerkorteRouteHerkomst\": {\"ns2:Uitingen\": {\"ns2:Uiting\": \"Hengelo, Almelo, Wierden\"}}, \"ns2:WijzigingHerkomst\": {\"ns2:WijzigingType\": \"40\"}}}}}}')\n",
      "(None, u'{\"ns1:PutReisInformatieBoodschapIn\": {\"@xmlns:ns1\": \"urn:ndov:cdm:trein:reisinformatie:messages:dynamischeaankomststaat:1\", \"@xmlns:ns2\": \"urn:ndov:cdm:trein:reisinformatie:data:4\", \"ns2:ReisInformatieProductDAS\": {\"@TimeStamp\": \"2020-05-08T19:06:46.774Z\", \"@Versie\": \"6.1\", \"ns2:RIPAdministratie\": {\"ns2:ReisInformatieProductID\": \"2005082106462100005\", \"ns2:AbonnementId\": \"55\", \"ns2:ReisInformatieTijdstip\": \"2020-05-08T19:08:00.000Z\"}, \"ns2:DynamischeAankomstStaat\": {\"ns2:RitId\": \"3370\", \"ns2:RitDatum\": \"2020-05-08\", \"ns2:RitStation\": {\"ns2:StationCode\": \"ZD\", \"ns2:Type\": \"5\", \"ns2:KorteNaam\": \"Zaandam\", \"ns2:MiddelNaam\": \"Zaandam\", \"ns2:LangeNaam\": \"Zaandam\", \"ns2:UICCode\": \"8400731\"}, \"ns2:TreinAankomst\": {\"ns2:TreinNummer\": \"3370\", \"ns2:TreinSoort\": {\"@Code\": \"SPR\", \"#text\": \"Sprinter\"}, \"ns2:TreinStatus\": \"2\", \"ns2:Vervoerder\": \"NS\", \"ns2:TreinHerkomst\": [{\"@InfoStatus\": \"Gepland\", \"ns2:StationCode\": \"HFD\", \"ns2:Type\": \"0\", \"ns2:KorteNaam\": \"Hoofddorp\", \"ns2:MiddelNaam\": \"Hoofddorp\", \"ns2:LangeNaam\": \"Hoofddorp\", \"ns2:UICCode\": \"8400332\"}, {\"@InfoStatus\": \"Actueel\", \"ns2:StationCode\": \"HFD\", \"ns2:Type\": \"0\", \"ns2:KorteNaam\": \"Hoofddorp\", \"ns2:MiddelNaam\": \"Hoofddorp\", \"ns2:LangeNaam\": \"Hoofddorp\", \"ns2:UICCode\": \"8400332\"}], \"ns2:PresentatieTreinHerkomst\": {\"ns2:Uitingen\": {\"ns2:Uiting\": \"Hoofddorp\"}}, \"ns2:AankomstTijd\": [{\"@InfoStatus\": \"Gepland\", \"#text\": \"2020-05-08T19:08:00.000Z\"}, {\"@InfoStatus\": \"Actueel\", \"#text\": \"2020-05-08T19:08:00.000Z\"}], \"ns2:ExacteAankomstVertraging\": \"PT0S\", \"ns2:GedempteAankomstVertraging\": \"PT0S\", \"ns2:TreinAankomstSpoor\": [{\"@InfoStatus\": \"Gepland\", \"ns2:SpoorNummer\": \"1\"}, {\"@InfoStatus\": \"Actueel\", \"ns2:SpoorNummer\": \"1\"}], \"ns2:PresentatieTreinAankomstSpoor\": {\"ns2:Uitingen\": {\"ns2:Uiting\": \"1\"}}, \"ns2:VerkorteRouteHerkomst\": [{\"@InfoStatus\": \"Gepland\", \"ns2:Station\": [{\"ns2:StationCode\": \"SHL\", \"ns2:Type\": \"6\", \"ns2:KorteNaam\": \"Schiphol\", \"ns2:MiddelNaam\": \"Schiphol Airport\", \"ns2:LangeNaam\": \"Schiphol Airport\", \"ns2:UICCode\": \"8400561\"}, {\"ns2:StationCode\": \"ASS\", \"ns2:Type\": \"5\", \"ns2:KorteNaam\": \"Sloterdijk\", \"ns2:MiddelNaam\": \"Sloterdijk\", \"ns2:LangeNaam\": \"Amsterdam Sloterdijk\", \"ns2:UICCode\": \"8400059\"}]}, {\"@InfoStatus\": \"Actueel\", \"ns2:Station\": [{\"ns2:StationCode\": \"SHL\", \"ns2:Type\": \"6\", \"ns2:KorteNaam\": \"Schiphol\", \"ns2:MiddelNaam\": \"Schiphol Airport\", \"ns2:LangeNaam\": \"Schiphol Airport\", \"ns2:UICCode\": \"8400561\"}, {\"ns2:StationCode\": \"ASS\", \"ns2:Type\": \"5\", \"ns2:KorteNaam\": \"Sloterdijk\", \"ns2:MiddelNaam\": \"Sloterdijk\", \"ns2:LangeNaam\": \"Amsterdam Sloterdijk\", \"ns2:UICCode\": \"8400059\"}]}], \"ns2:PresentatieVerkorteRouteHerkomst\": {\"ns2:Uitingen\": {\"ns2:Uiting\": \"Schiphol Airport, Sloterdijk\"}}, \"ns2:WijzigingHerkomst\": {\"ns2:WijzigingType\": \"40\"}}}}}}')\n",
      "(None, u'{\"ns1:PutReisInformatieBoodschapIn\": {\"@xmlns:ns1\": \"urn:ndov:cdm:trein:reisinformatie:messages:dynamischeaankomststaat:1\", \"@xmlns:ns2\": \"urn:ndov:cdm:trein:reisinformatie:data:4\", \"ns2:ReisInformatieProductDAS\": {\"@TimeStamp\": \"2020-05-08T19:06:48.370Z\", \"@Versie\": \"6.1\", \"ns2:RIPAdministratie\": {\"ns2:ReisInformatieProductID\": \"2005082106482400004\", \"ns2:AbonnementId\": \"55\", \"ns2:ReisInformatieTijdstip\": \"2020-05-08T19:05:00.000Z\"}, \"ns2:DynamischeAankomstStaat\": {\"ns2:RitId\": \"8069\", \"ns2:RitDatum\": \"2020-05-08\", \"ns2:RitStation\": {\"ns2:StationCode\": \"OMN\", \"ns2:Type\": \"3\", \"ns2:KorteNaam\": \"Ommen\", \"ns2:MiddelNaam\": \"Ommen\", \"ns2:LangeNaam\": \"Ommen\", \"ns2:UICCode\": \"8400487\"}, \"ns2:TreinAankomst\": {\"ns2:TreinNummer\": \"8069\", \"ns2:TreinSoort\": {\"@Code\": \"ST\", \"#text\": \"Stoptrein\"}, \"ns2:TreinStatus\": \"2\", \"ns2:Vervoerder\": \"Blauwnet\", \"ns2:TreinHerkomst\": [{\"@InfoStatus\": \"Gepland\", \"ns2:StationCode\": \"ZL\", \"ns2:Type\": \"5\", \"ns2:KorteNaam\": \"Zwolle\", \"ns2:MiddelNaam\": \"Zwolle\", \"ns2:LangeNaam\": \"Zwolle\", \"ns2:UICCode\": \"8400747\"}, {\"@InfoStatus\": \"Actueel\", \"ns2:StationCode\": \"ZL\", \"ns2:Type\": \"5\", \"ns2:KorteNaam\": \"Zwolle\", \"ns2:MiddelNaam\": \"Zwolle\", \"ns2:LangeNaam\": \"Zwolle\", \"ns2:UICCode\": \"8400747\"}], \"ns2:PresentatieTreinHerkomst\": {\"ns2:Uitingen\": {\"ns2:Uiting\": \"Zwolle\"}}, \"ns2:AankomstTijd\": [{\"@InfoStatus\": \"Gepland\", \"#text\": \"2020-05-08T19:05:00.000Z\"}, {\"@InfoStatus\": \"Actueel\", \"#text\": \"2020-05-08T19:07:25.000Z\"}], \"ns2:ExacteAankomstVertraging\": \"PT2M25S\", \"ns2:PresentatieAankomstVertraging\": {\"ns2:Uitingen\": {\"ns2:Uiting\": \"+2 min.\"}}, \"ns2:GedempteAankomstVertraging\": \"PT0S\", \"ns2:TreinAankomstSpoor\": [{\"@InfoStatus\": \"Gepland\", \"ns2:SpoorNummer\": \"2\"}, {\"@InfoStatus\": \"Actueel\", \"ns2:SpoorNummer\": \"2\"}], \"ns2:PresentatieTreinAankomstSpoor\": {\"ns2:Uitingen\": {\"ns2:Uiting\": \"2\"}}, \"ns2:WijzigingHerkomst\": {\"ns2:WijzigingType\": \"11\"}}}}}}')\n",
      "(None, u'{\"ns1:PutReisInformatieBoodschapIn\": {\"@xmlns:ns1\": \"urn:ndov:cdm:trein:reisinformatie:messages:dynamischeaankomststaat:1\", \"@xmlns:ns2\": \"urn:ndov:cdm:trein:reisinformatie:data:4\", \"ns2:ReisInformatieProductDAS\": {\"@TimeStamp\": \"2020-05-08T19:06:46.881Z\", \"@Versie\": \"6.1\", \"ns2:RIPAdministratie\": {\"ns2:ReisInformatieProductID\": \"2005082106462100007\", \"ns2:AbonnementId\": \"55\", \"ns2:ReisInformatieTijdstip\": \"2020-05-08T19:06:00.000Z\"}, \"ns2:DynamischeAankomstStaat\": {\"ns2:RitId\": \"2979\", \"ns2:RitDatum\": \"2020-05-08\", \"ns2:RitStation\": {\"ns2:StationCode\": \"ASD\", \"ns2:Type\": \"6\", \"ns2:KorteNaam\": \"Amsterdm C\", \"ns2:MiddelNaam\": \"Amsterdam C.\", \"ns2:LangeNaam\": \"Amsterdam Centraal\", \"ns2:UICCode\": \"8400058\"}, \"ns2:TreinAankomst\": {\"ns2:TreinNummer\": \"2979\", \"ns2:TreinSoort\": {\"@Code\": \"IC\", \"#text\": \"Intercity\"}, \"ns2:TreinStatus\": \"2\", \"ns2:Vervoerder\": \"NS\", \"ns2:TreinHerkomst\": [{\"@InfoStatus\": \"Gepland\", \"ns2:StationCode\": \"EKZ\", \"ns2:Type\": \"0\", \"ns2:KorteNaam\": \"Enkhuizen\", \"ns2:MiddelNaam\": \"Enkhuizen\", \"ns2:LangeNaam\": \"Enkhuizen\", \"ns2:UICCode\": \"8400210\"}, {\"@InfoStatus\": \"Actueel\", \"ns2:StationCode\": \"EKZ\", \"ns2:Type\": \"0\", \"ns2:KorteNaam\": \"Enkhuizen\", \"ns2:MiddelNaam\": \"Enkhuizen\", \"ns2:LangeNaam\": \"Enkhuizen\", \"ns2:UICCode\": \"8400210\"}], \"ns2:PresentatieTreinHerkomst\": {\"ns2:Uitingen\": {\"ns2:Uiting\": \"Enkhuizen\"}}, \"ns2:AankomstTijd\": [{\"@InfoStatus\": \"Gepland\", \"#text\": \"2020-05-08T19:06:00.000Z\"}, {\"@InfoStatus\": \"Actueel\", \"#text\": \"2020-05-08T19:06:43.000Z\"}], \"ns2:ExacteAankomstVertraging\": \"PT43S\", \"ns2:GedempteAankomstVertraging\": \"PT0S\", \"ns2:TreinAankomstSpoor\": [{\"@InfoStatus\": \"Gepland\", \"ns2:SpoorNummer\": \"4\", \"ns2:SpoorFase\": \"b\"}, {\"@InfoStatus\": \"Actueel\", \"ns2:SpoorNummer\": \"4\", \"ns2:SpoorFase\": \"b\"}], \"ns2:PresentatieTreinAankomstSpoor\": {\"ns2:Uitingen\": {\"ns2:Uiting\": \"4b\"}}, \"ns2:VerkorteRouteHerkomst\": [{\"@InfoStatus\": \"Gepland\", \"ns2:Station\": [{\"ns2:StationCode\": \"HN\", \"ns2:Type\": \"5\", \"ns2:KorteNaam\": \"Hoorn\", \"ns2:MiddelNaam\": \"Hoorn\", \"ns2:LangeNaam\": \"Hoorn\", \"ns2:UICCode\": \"8400337\"}, {\"ns2:StationCode\": \"ASS\", \"ns2:Type\": \"5\", \"ns2:KorteNaam\": \"Sloterdijk\", \"ns2:MiddelNaam\": \"Sloterdijk\", \"ns2:LangeNaam\": \"Amsterdam Sloterdijk\", \"ns2:UICCode\": \"8400059\"}]}, {\"@InfoStatus\": \"Actueel\", \"ns2:Station\": [{\"ns2:StationCode\": \"HN\", \"ns2:Type\": \"5\", \"ns2:KorteNaam\": \"Hoorn\", \"ns2:MiddelNaam\": \"Hoorn\", \"ns2:LangeNaam\": \"Hoorn\", \"ns2:UICCode\": \"8400337\"}, {\"ns2:StationCode\": \"ASS\", \"ns2:Type\": \"5\", \"ns2:KorteNaam\": \"Sloterdijk\", \"ns2:MiddelNaam\": \"Sloterdijk\", \"ns2:LangeNaam\": \"Amsterdam Sloterdijk\", \"ns2:UICCode\": \"8400059\"}]}], \"ns2:PresentatieVerkorteRouteHerkomst\": {\"ns2:Uitingen\": {\"ns2:Uiting\": \"Hoorn, Sloterdijk\"}}, \"ns2:WijzigingHerkomst\": [{\"ns2:WijzigingType\": \"11\"}, {\"ns2:WijzigingType\": \"40\"}]}}}}}')\n",
      "(None, u'{\"ns1:PutReisInformatieBoodschapIn\": {\"@xmlns:ns1\": \"urn:ndov:cdm:trein:reisinformatie:messages:dynamischeaankomststaat:1\", \"@xmlns:ns2\": \"urn:ndov:cdm:trein:reisinformatie:data:4\", \"ns2:ReisInformatieProductDAS\": {\"@TimeStamp\": \"2020-05-08T19:06:48.987Z\", \"@Versie\": \"6.1\", \"ns2:RIPAdministratie\": {\"ns2:ReisInformatieProductID\": \"2005082106482300002\", \"ns2:AbonnementId\": \"55\", \"ns2:ReisInformatieTijdstip\": \"2020-05-08T19:08:00.000Z\"}, \"ns2:DynamischeAankomstStaat\": {\"ns2:RitId\": \"15872\", \"ns2:RitDatum\": \"2020-05-08\", \"ns2:RitStation\": {\"ns2:StationCode\": \"DMN\", \"ns2:Type\": \"0\", \"ns2:KorteNaam\": \"Diemen\", \"ns2:MiddelNaam\": \"Diemen\", \"ns2:LangeNaam\": \"Diemen\", \"ns2:UICCode\": \"8400165\"}, \"ns2:TreinAankomst\": {\"ns2:TreinNummer\": \"15872\", \"ns2:TreinSoort\": {\"@Code\": \"SPR\", \"#text\": \"Sprinter\"}, \"ns2:TreinStatus\": \"2\", \"ns2:Vervoerder\": \"NS\", \"ns2:TreinHerkomst\": [{\"@InfoStatus\": \"Gepland\", \"ns2:StationCode\": \"AVAT\", \"ns2:Type\": \"0\", \"ns2:KorteNaam\": \"Vathorst\", \"ns2:MiddelNaam\": \"Vathorst\", \"ns2:LangeNaam\": \"Amersfoort Vathorst\", \"ns2:UICCode\": \"8400228\"}, {\"@InfoStatus\": \"Actueel\", \"ns2:StationCode\": \"AVAT\", \"ns2:Type\": \"0\", \"ns2:KorteNaam\": \"Vathorst\", \"ns2:MiddelNaam\": \"Vathorst\", \"ns2:LangeNaam\": \"Amersfoort Vathorst\", \"ns2:UICCode\": \"8400228\"}], \"ns2:PresentatieTreinHerkomst\": {\"ns2:Uitingen\": {\"ns2:Uiting\": \"Vathorst\"}}, \"ns2:AankomstTijd\": [{\"@InfoStatus\": \"Gepland\", \"#text\": \"2020-05-08T19:08:00.000Z\"}, {\"@InfoStatus\": \"Actueel\", \"#text\": \"2020-05-08T19:08:00.000Z\"}], \"ns2:ExacteAankomstVertraging\": \"PT0S\", \"ns2:GedempteAankomstVertraging\": \"PT0S\", \"ns2:TreinAankomstSpoor\": [{\"@InfoStatus\": \"Gepland\", \"ns2:SpoorNummer\": \"2\"}, {\"@InfoStatus\": \"Actueel\", \"ns2:SpoorNummer\": \"2\"}], \"ns2:PresentatieTreinAankomstSpoor\": {\"ns2:Uitingen\": {\"ns2:Uiting\": \"2\"}}, \"ns2:VerkorteRouteHerkomst\": [{\"@InfoStatus\": \"Gepland\", \"ns2:Station\": [{\"ns2:StationCode\": \"BRN\", \"ns2:Type\": \"1\", \"ns2:KorteNaam\": \"Baarn\", \"ns2:MiddelNaam\": \"Baarn\", \"ns2:LangeNaam\": \"Baarn\", \"ns2:UICCode\": \"8400086\"}, {\"ns2:StationCode\": \"HVS\", \"ns2:Type\": \"5\", \"ns2:KorteNaam\": \"Hilversum\", \"ns2:MiddelNaam\": \"Hilversum\", \"ns2:LangeNaam\": \"Hilversum\", \"ns2:UICCode\": \"8400322\"}, {\"ns2:StationCode\": \"NDB\", \"ns2:Type\": \"1\", \"ns2:KorteNaam\": \"Naarden-Bu\", \"ns2:MiddelNaam\": \"Naarden-Bussum\", \"ns2:LangeNaam\": \"Naarden-Bussum\", \"ns2:UICCode\": \"8400452\"}, {\"ns2:StationCode\": \"WP\", \"ns2:Type\": \"1\", \"ns2:KorteNaam\": \"Weesp\", \"ns2:MiddelNaam\": \"Weesp\", \"ns2:LangeNaam\": \"Weesp\", \"ns2:UICCode\": \"8400685\"}]}, {\"@InfoStatus\": \"Actueel\", \"ns2:Station\": [{\"ns2:StationCode\": \"BRN\", \"ns2:Type\": \"1\", \"ns2:KorteNaam\": \"Baarn\", \"ns2:MiddelNaam\": \"Baarn\", \"ns2:LangeNaam\": \"Baarn\", \"ns2:UICCode\": \"8400086\"}, {\"ns2:StationCode\": \"HVS\", \"ns2:Type\": \"5\", \"ns2:KorteNaam\": \"Hilversum\", \"ns2:MiddelNaam\": \"Hilversum\", \"ns2:LangeNaam\": \"Hilversum\", \"ns2:UICCode\": \"8400322\"}, {\"ns2:StationCode\": \"NDB\", \"ns2:Type\": \"1\", \"ns2:KorteNaam\": \"Naarden-Bu\", \"ns2:MiddelNaam\": \"Naarden-Bussum\", \"ns2:LangeNaam\": \"Naarden-Bussum\", \"ns2:UICCode\": \"8400452\"}, {\"ns2:StationCode\": \"WP\", \"ns2:Type\": \"1\", \"ns2:KorteNaam\": \"Weesp\", \"ns2:MiddelNaam\": \"Weesp\", \"ns2:LangeNaam\": \"Weesp\", \"ns2:UICCode\": \"8400685\"}]}], \"ns2:PresentatieVerkorteRouteHerkomst\": {\"ns2:Uitingen\": {\"ns2:Uiting\": \"Baarn, Hilversum, Naarden-Bussum, Weesp\"}}, \"ns2:WijzigingHerkomst\": {\"ns2:WijzigingType\": \"40\"}}}}}}')\n",
      "...\n",
      "\n",
      "-------------------------------------------\n",
      "Time: 2020-05-09 01:30:10\n",
      "-------------------------------------------\n",
      "(None, u'{\"ns1:PutReisInformatieBoodschapIn\": {\"@xmlns:ns1\": \"urn:ndov:cdm:trein:reisinformatie:messages:5\", \"@xmlns:ns2\": \"urn:ndov:cdm:trein:reisinformatie:data:4\", \"ns2:ReisInformatieProductDVS\": {\"@TimeStamp\": \"2020-05-08T19:06:39.094Z\", \"@Versie\": \"6.2\", \"ns2:RIPAdministratie\": {\"ns2:ReisInformatieProductID\": \"2005082106392400001\", \"ns2:AbonnementId\": \"54\", \"ns2:ReisInformatieTijdstip\": \"2020-05-08T19:04:00.000Z\"}, \"ns2:DynamischeVertrekStaat\": {\"ns2:RitId\": \"6076\", \"ns2:RitDatum\": \"2020-05-08\", \"ns2:RitStation\": {\"ns2:StationCode\": \"TL\", \"ns2:Type\": \"1\", \"ns2:KorteNaam\": \"Tiel\", \"ns2:MiddelNaam\": \"Tiel\", \"ns2:LangeNaam\": \"Tiel\", \"ns2:UICCode\": \"8400596\"}, \"ns2:Trein\": {\"ns2:TreinNummer\": \"6076\", \"ns2:TreinSoort\": {\"@Code\": \"SPR\", \"#text\": \"Sprinter\"}, \"ns2:TreinFormule\": \"1\", \"ns2:TreinStatus\": \"0\", \"ns2:Vervoerder\": \"NS\", \"ns2:Reserveren\": \"N\", \"ns2:Toeslag\": \"N\", \"ns2:NietInstappen\": \"N\", \"ns2:AchterBlijvenAchtersteTreinDeel\": \"N\", \"ns2:RangeerBeweging\": \"N\", \"ns2:SpeciaalKaartje\": \"N\", \"ns2:TreinEindBestemming\": [{\"@InfoStatus\": \"Gepland\", \"ns2:StationCode\": \"UT\", \"ns2:Type\": \"6\", \"ns2:KorteNaam\": \"Utrecht C\", \"ns2:MiddelNaam\": \"Utrecht C.\", \"ns2:LangeNaam\": \"Utrecht Centraal\", \"ns2:UICCode\": \"8400621\"}, {\"@InfoStatus\": \"Actueel\", \"ns2:StationCode\": \"UT\", \"ns2:Type\": \"6\", \"ns2:KorteNaam\": \"Utrecht C\", \"ns2:MiddelNaam\": \"Utrecht C.\", \"ns2:LangeNaam\": \"Utrecht Centraal\", \"ns2:UICCode\": \"8400621\"}], \"ns2:PresentatieTreinEindBestemming\": {\"ns2:Uitingen\": {\"ns2:Uiting\": \"Utrecht Centraal\"}}, \"ns2:VertrekTijd\": [{\"@InfoStatus\": \"Gepland\", \"#text\": \"2020-05-08T19:04:00.000Z\"}, {\"@InfoStatus\": \"Actueel\", \"#text\": \"2020-05-08T19:06:00.000Z\"}], \"ns2:ExacteVertrekVertraging\": \"PT2M\", \"ns2:PresentatieVertrekVertraging\": {\"ns2:Uitingen\": {\"ns2:Uiting\": \"+2 min.\"}}, \"ns2:GedempteVertrekVertraging\": \"PT0S\", \"ns2:TreinVertrekSpoor\": [{\"@InfoStatus\": \"Gepland\", \"ns2:SpoorNummer\": \"3\"}, {\"@InfoStatus\": \"Actueel\", \"ns2:SpoorNummer\": \"3\"}], \"ns2:PresentatieTreinVertrekSpoor\": {\"ns2:Uitingen\": {\"ns2:Uiting\": \"3\"}}, \"ns2:VertrekRichting\": \"A\", \"ns2:AfstandPerronEindKopVertrekTrein\": \"0\", \"ns2:VerkorteRoute\": [{\"@InfoStatus\": \"Gepland\", \"ns2:Station\": [{\"ns2:StationCode\": \"GDM\", \"ns2:Type\": \"1\", \"ns2:KorteNaam\": \"Geldermlsn\", \"ns2:MiddelNaam\": \"Geldermalsen\", \"ns2:LangeNaam\": \"Geldermalsen\", \"ns2:UICCode\": \"8400244\"}, {\"ns2:StationCode\": \"HTN\", \"ns2:Type\": \"1\", \"ns2:KorteNaam\": \"Houten\", \"ns2:MiddelNaam\": \"Houten\", \"ns2:LangeNaam\": \"Houten\", \"ns2:UICCode\": \"8400340\"}, {\"ns2:StationCode\": \"UTVR\", \"ns2:Type\": \"1\", \"ns2:KorteNaam\": \"VaartscheR\", \"ns2:MiddelNaam\": \"Vaartsche Rijn\", \"ns2:LangeNaam\": \"Utrecht Vaartsche Rijn\", \"ns2:UICCode\": \"8400606\"}]}, {\"@InfoStatus\": \"Actueel\", \"ns2:Station\": [{\"ns2:StationCode\": \"GDM\", \"ns2:Type\": \"1\", \"ns2:KorteNaam\": \"Geldermlsn\", \"ns2:MiddelNaam\": \"Geldermalsen\", \"ns2:LangeNaam\": \"Geldermalsen\", \"ns2:UICCode\": \"8400244\"}, {\"ns2:StationCode\": \"HTN\", \"ns2:Type\": \"1\", \"ns2:KorteNaam\": \"Houten\", \"ns2:MiddelNaam\": \"Houten\", \"ns2:LangeNaam\": \"Houten\", \"ns2:UICCode\": \"8400340\"}, {\"ns2:StationCode\": \"UTVR\", \"ns2:Type\": \"1\", \"ns2:KorteNaam\": \"VaartscheR\", \"ns2:MiddelNaam\": \"Vaartsche Rijn\", \"ns2:LangeNaam\": \"Utrecht Vaartsche Rijn\", \"ns2:UICCode\": \"8400606\"}]}], \"ns2:PresentatieVerkorteRoute\": {\"ns2:Uitingen\": {\"ns2:Uiting\": \"Geldermalsen, Houten, Vaartsche Rijn\"}}, \"ns2:TreinVleugel\": {\"ns2:TreinVleugelVertrekSpoor\": [{\"@InfoStatus\": \"Gepland\", \"ns2:SpoorNummer\": \"3\"}, {\"@InfoStatus\": \"Actueel\", \"ns2:SpoorNummer\": \"3\"}], \"ns2:PresentatieTreinVleugelVertrekSpoor\": {\"ns2:Uitingen\": {\"ns2:Uiting\": \"3\"}}, \"ns2:TreinVleugelEindBestemming\": [{\"@InfoStatus\": \"Gepland\", \"ns2:StationCode\": \"UT\", \"ns2:Type\": \"6\", \"ns2:KorteNaam\": \"Utrecht C\", \"ns2:MiddelNaam\": \"Utrecht C.\", \"ns2:LangeNaam\": \"Utrecht Centraal\", \"ns2:UICCode\": \"8400621\"}, {\"@InfoStatus\": \"Actueel\", \"ns2:StationCode\": \"UT\", \"ns2:Type\": \"6\", \"ns2:KorteNaam\": \"Utrecht C\", \"ns2:MiddelNaam\": \"Utrecht C.\", \"ns2:LangeNaam\": \"Utrecht Centraal\", \"ns2:UICCode\": \"8400621\"}], \"ns2:PresentatieTreinVleugelEindBestemming\": {\"ns2:Uitingen\": {\"ns2:Uiting\": \"Utrecht Centraal\"}}, \"ns2:StopStations\": [{\"@InfoStatus\": \"Gepland\", \"ns2:Station\": [{\"ns2:StationCode\": \"TPSW\", \"ns2:Type\": \"0\", \"ns2:KorteNaam\": \"Passewaaij\", \"ns2:MiddelNaam\": \"Passewaaij\", \"ns2:LangeNaam\": \"Tiel Passewaaij\", \"ns2:UICCode\": \"8400600\"}, {\"ns2:StationCode\": \"GDM\", \"ns2:Type\": \"1\", \"ns2:KorteNaam\": \"Geldermlsn\", \"ns2:MiddelNaam\": \"Geldermalsen\", \"ns2:LangeNaam\": \"Geldermalsen\", \"ns2:UICCode\": \"8400244\"}, {\"ns2:StationCode\": \"CL\", \"ns2:Type\": \"0\", \"ns2:KorteNaam\": \"Culemborg\", \"ns2:MiddelNaam\": \"Culemborg\", \"ns2:LangeNaam\": \"Culemborg\", \"ns2:UICCode\": \"8400154\"}, {\"ns2:StationCode\": \"HTNC\", \"ns2:Type\": \"0\", \"ns2:KorteNaam\": \"Castellum\", \"ns2:MiddelNaam\": \"Castellum\", \"ns2:LangeNaam\": \"Houten Castellum\", \"ns2:UICCode\": \"8400335\"}, {\"ns2:StationCode\": \"HTN\", \"ns2:Type\": \"1\", \"ns2:KorteNaam\": \"Houten\", \"ns2:MiddelNaam\": \"Houten\", \"ns2:LangeNaam\": \"Houten\", \"ns2:UICCode\": \"8400340\"}, {\"ns2:StationCode\": \"UTLN\", \"ns2:Type\": \"0\", \"ns2:KorteNaam\": \"Lunetten\", \"ns2:MiddelNaam\": \"Lunetten\", \"ns2:LangeNaam\": \"Utrecht Lunetten\", \"ns2:UICCode\": \"8400623\"}, {\"ns2:StationCode\": \"UTVR\", \"ns2:Type\": \"1\", \"ns2:KorteNaam\": \"VaartscheR\", \"ns2:MiddelNaam\": \"Vaartsche Rijn\", \"ns2:LangeNaam\": \"Utrecht Vaartsche Rijn\", \"ns2:UICCode\": \"8400606\"}, {\"ns2:StationCode\": \"UT\", \"ns2:Type\": \"6\", \"ns2:KorteNaam\": \"Utrecht C\", \"ns2:MiddelNaam\": \"Utrecht C.\", \"ns2:LangeNaam\": \"Utrecht Centraal\", \"ns2:UICCode\": \"8400621\"}]}, {\"@InfoStatus\": \"Actueel\", \"ns2:Station\": [{\"ns2:StationCode\": \"TPSW\", \"ns2:Type\": \"0\", \"ns2:KorteNaam\": \"Passewaaij\", \"ns2:MiddelNaam\": \"Passewaaij\", \"ns2:LangeNaam\": \"Tiel Passewaaij\", \"ns2:UICCode\": \"8400600\"}, {\"ns2:StationCode\": \"GDM\", \"ns2:Type\": \"1\", \"ns2:KorteNaam\": \"Geldermlsn\", \"ns2:MiddelNaam\": \"Geldermalsen\", \"ns2:LangeNaam\": \"Geldermalsen\", \"ns2:UICCode\": \"8400244\"}, {\"ns2:StationCode\": \"CL\", \"ns2:Type\": \"0\", \"ns2:KorteNaam\": \"Culemborg\", \"ns2:MiddelNaam\": \"Culemborg\", \"ns2:LangeNaam\": \"Culemborg\", \"ns2:UICCode\": \"8400154\"}, {\"ns2:StationCode\": \"HTNC\", \"ns2:Type\": \"0\", \"ns2:KorteNaam\": \"Castellum\", \"ns2:MiddelNaam\": \"Castellum\", \"ns2:LangeNaam\": \"Houten Castellum\", \"ns2:UICCode\": \"8400335\"}, {\"ns2:StationCode\": \"HTN\", \"ns2:Type\": \"1\", \"ns2:KorteNaam\": \"Houten\", \"ns2:MiddelNaam\": \"Houten\", \"ns2:LangeNaam\": \"Houten\", \"ns2:UICCode\": \"8400340\"}, {\"ns2:StationCode\": \"UTLN\", \"ns2:Type\": \"0\", \"ns2:KorteNaam\": \"Lunetten\", \"ns2:MiddelNaam\": \"Lunetten\", \"ns2:LangeNaam\": \"Utrecht Lunetten\", \"ns2:UICCode\": \"8400623\"}, {\"ns2:StationCode\": \"UTVR\", \"ns2:Type\": \"1\", \"ns2:KorteNaam\": \"VaartscheR\", \"ns2:MiddelNaam\": \"Vaartsche Rijn\", \"ns2:LangeNaam\": \"Utrecht Vaartsche Rijn\", \"ns2:UICCode\": \"8400606\"}, {\"ns2:StationCode\": \"UT\", \"ns2:Type\": \"6\", \"ns2:KorteNaam\": \"Utrecht C\", \"ns2:MiddelNaam\": \"Utrecht C.\", \"ns2:LangeNaam\": \"Utrecht Centraal\", \"ns2:UICCode\": \"8400621\"}]}], \"ns2:MaterieelDeelDVS\": [{\"ns2:MaterieelSoort\": \"SLT\", \"ns2:MaterieelAanduiding\": \"6\", \"ns2:MaterieelLengte\": \"10050\", \"ns2:MaterieelDeelVertrekPositie\": \"1\", \"ns2:MaterieelDeelVolgordeVertrek\": \"1\", \"ns2:MaterieelNummer\": \"000000-02626-0\", \"ns2:MaterieelDeelEindBestemming\": [{\"@InfoStatus\": \"Gepland\", \"ns2:StationCode\": \"UT\", \"ns2:Type\": \"6\", \"ns2:KorteNaam\": \"Utrecht C\", \"ns2:MiddelNaam\": \"Utrecht C.\", \"ns2:LangeNaam\": \"Utrecht Centraal\", \"ns2:UICCode\": \"8400621\"}, {\"@InfoStatus\": \"Actueel\", \"ns2:StationCode\": \"UT\", \"ns2:Type\": \"6\", \"ns2:KorteNaam\": \"Utrecht C\", \"ns2:MiddelNaam\": \"Utrecht C.\", \"ns2:LangeNaam\": \"Utrecht Centraal\", \"ns2:UICCode\": \"8400621\"}], \"ns2:PresentatieMaterieelDeelEindBestemming\": {\"ns2:Uitingen\": {\"ns2:Uiting\": \"Utrecht Centraal\"}}}, {\"ns2:MaterieelSoort\": \"SLT\", \"ns2:MaterieelAanduiding\": \"4\", \"ns2:MaterieelLengte\": \"6940\", \"ns2:MaterieelDeelVertrekPositie\": \"3\", \"ns2:MaterieelDeelVolgordeVertrek\": \"2\", \"ns2:MaterieelNummer\": \"000000-02420-0\", \"ns2:MaterieelDeelEindBestemming\": [{\"@InfoStatus\": \"Gepland\", \"ns2:StationCode\": \"UT\", \"ns2:Type\": \"6\", \"ns2:KorteNaam\": \"Utrecht C\", \"ns2:MiddelNaam\": \"Utrecht C.\", \"ns2:LangeNaam\": \"Utrecht Centraal\", \"ns2:UICCode\": \"8400621\"}, {\"@InfoStatus\": \"Actueel\", \"ns2:StationCode\": \"UT\", \"ns2:Type\": \"6\", \"ns2:KorteNaam\": \"Utrecht C\", \"ns2:MiddelNaam\": \"Utrecht C.\", \"ns2:LangeNaam\": \"Utrecht Centraal\", \"ns2:UICCode\": \"8400621\"}], \"ns2:PresentatieMaterieelDeelEindBestemming\": {\"ns2:Uitingen\": {\"ns2:Uiting\": \"Utrecht Centraal\"}}}]}, \"ns2:Wijziging\": {\"ns2:WijzigingType\": \"10\", \"ns2:PresentatieWijziging\": {\"ns2:Uitingen\": [{\"@Taal\": \"nl\", \"ns2:Uiting\": {\"@Prioriteit\": \"10\", \"#text\": \"Later vertrek\"}}, {\"@Taal\": \"en\", \"ns2:Uiting\": {\"@Prioriteit\": \"10\", \"#text\": \"Delayed\"}}]}}}, \"ns2:PresentatieOpmerkingen\": {\"ns2:Uitingen\": [{\"@Taal\": \"nl\", \"ns2:Uiting\": {\"@Prioriteit\": \"20\", \"@ReferentieType\": \"Wijziging\", \"@ReferentieWaarde\": \"10\", \"#text\": \"Later vertrek\"}}, {\"@Taal\": \"en\", \"ns2:Uiting\": {\"@Prioriteit\": \"20\", \"@ReferentieType\": \"Wijziging\", \"@ReferentieWaarde\": \"10\", \"#text\": \"Delayed\"}}]}}}}}')\n",
      "(None, u'{\"ns1:PutReisInformatieBoodschapIn\": {\"@xmlns:ns1\": \"urn:ndov:cdm:trein:reisinformatie:messages:5\", \"@xmlns:ns2\": \"urn:ndov:cdm:trein:reisinformatie:data:4\", \"ns2:ReisInformatieProductDVS\": {\"@TimeStamp\": \"2020-05-08T19:06:39.108Z\", \"@Versie\": \"6.2\", \"ns2:RIPAdministratie\": {\"ns2:ReisInformatieProductID\": \"2005082106392400002\", \"ns2:AbonnementId\": \"54\", \"ns2:ReisInformatieTijdstip\": \"2020-05-08T19:07:00.000Z\"}, \"ns2:DynamischeVertrekStaat\": {\"ns2:RitId\": \"6076\", \"ns2:RitDatum\": \"2020-05-08\", \"ns2:RitStation\": {\"ns2:StationCode\": \"TPSW\", \"ns2:Type\": \"0\", \"ns2:KorteNaam\": \"Passewaaij\", \"ns2:MiddelNaam\": \"Passewaaij\", \"ns2:LangeNaam\": \"Tiel Passewaaij\", \"ns2:UICCode\": \"8400600\"}, \"ns2:Trein\": {\"ns2:TreinNummer\": \"6076\", \"ns2:TreinSoort\": {\"@Code\": \"SPR\", \"#text\": \"Sprinter\"}, \"ns2:TreinFormule\": \"1\", \"ns2:TreinStatus\": \"0\", \"ns2:Vervoerder\": \"NS\", \"ns2:Reserveren\": \"N\", \"ns2:Toeslag\": \"N\", \"ns2:NietInstappen\": \"N\", \"ns2:AchterBlijvenAchtersteTreinDeel\": \"N\", \"ns2:RangeerBeweging\": \"N\", \"ns2:SpeciaalKaartje\": \"N\", \"ns2:TreinEindBestemming\": [{\"@InfoStatus\": \"Gepland\", \"ns2:StationCode\": \"UT\", \"ns2:Type\": \"6\", \"ns2:KorteNaam\": \"Utrecht C\", \"ns2:MiddelNaam\": \"Utrecht C.\", \"ns2:LangeNaam\": \"Utrecht Centraal\", \"ns2:UICCode\": \"8400621\"}, {\"@InfoStatus\": \"Actueel\", \"ns2:StationCode\": \"UT\", \"ns2:Type\": \"6\", \"ns2:KorteNaam\": \"Utrecht C\", \"ns2:MiddelNaam\": \"Utrecht C.\", \"ns2:LangeNaam\": \"Utrecht Centraal\", \"ns2:UICCode\": \"8400621\"}], \"ns2:PresentatieTreinEindBestemming\": {\"ns2:Uitingen\": {\"ns2:Uiting\": \"Utrecht Centraal\"}}, \"ns2:VertrekTijd\": [{\"@InfoStatus\": \"Gepland\", \"#text\": \"2020-05-08T19:07:00.000Z\"}, {\"@InfoStatus\": \"Actueel\", \"#text\": \"2020-05-08T19:08:46.000Z\"}], \"ns2:ExacteVertrekVertraging\": \"PT1M46S\", \"ns2:PresentatieVertrekVertraging\": {\"ns2:Uitingen\": {\"ns2:Uiting\": \"+1 min.\"}}, \"ns2:GedempteVertrekVertraging\": \"PT0S\", \"ns2:TreinVertrekSpoor\": [{\"@InfoStatus\": \"Gepland\", \"ns2:SpoorNummer\": \"1\"}, {\"@InfoStatus\": \"Actueel\", \"ns2:SpoorNummer\": \"1\"}], \"ns2:PresentatieTreinVertrekSpoor\": {\"ns2:Uitingen\": {\"ns2:Uiting\": \"1\"}}, \"ns2:VertrekRichting\": \"A\", \"ns2:AfstandPerronEindKopVertrekTrein\": \"0\", \"ns2:VerkorteRoute\": [{\"@InfoStatus\": \"Gepland\", \"ns2:Station\": [{\"ns2:StationCode\": \"GDM\", \"ns2:Type\": \"1\", \"ns2:KorteNaam\": \"Geldermlsn\", \"ns2:MiddelNaam\": \"Geldermalsen\", \"ns2:LangeNaam\": \"Geldermalsen\", \"ns2:UICCode\": \"8400244\"}, {\"ns2:StationCode\": \"HTN\", \"ns2:Type\": \"1\", \"ns2:KorteNaam\": \"Houten\", \"ns2:MiddelNaam\": \"Houten\", \"ns2:LangeNaam\": \"Houten\", \"ns2:UICCode\": \"8400340\"}, {\"ns2:StationCode\": \"UTVR\", \"ns2:Type\": \"1\", \"ns2:KorteNaam\": \"VaartscheR\", \"ns2:MiddelNaam\": \"Vaartsche Rijn\", \"ns2:LangeNaam\": \"Utrecht Vaartsche Rijn\", \"ns2:UICCode\": \"8400606\"}]}, {\"@InfoStatus\": \"Actueel\", \"ns2:Station\": [{\"ns2:StationCode\": \"GDM\", \"ns2:Type\": \"1\", \"ns2:KorteNaam\": \"Geldermlsn\", \"ns2:MiddelNaam\": \"Geldermalsen\", \"ns2:LangeNaam\": \"Geldermalsen\", \"ns2:UICCode\": \"8400244\"}, {\"ns2:StationCode\": \"HTN\", \"ns2:Type\": \"1\", \"ns2:KorteNaam\": \"Houten\", \"ns2:MiddelNaam\": \"Houten\", \"ns2:LangeNaam\": \"Houten\", \"ns2:UICCode\": \"8400340\"}, {\"ns2:StationCode\": \"UTVR\", \"ns2:Type\": \"1\", \"ns2:KorteNaam\": \"VaartscheR\", \"ns2:MiddelNaam\": \"Vaartsche Rijn\", \"ns2:LangeNaam\": \"Utrecht Vaartsche Rijn\", \"ns2:UICCode\": \"8400606\"}]}], \"ns2:PresentatieVerkorteRoute\": {\"ns2:Uitingen\": {\"ns2:Uiting\": \"Geldermalsen, Houten, Vaartsche Rijn\"}}, \"ns2:TreinVleugel\": {\"ns2:TreinVleugelVertrekSpoor\": [{\"@InfoStatus\": \"Gepland\", \"ns2:SpoorNummer\": \"1\"}, {\"@InfoStatus\": \"Actueel\", \"ns2:SpoorNummer\": \"1\"}], \"ns2:PresentatieTreinVleugelVertrekSpoor\": {\"ns2:Uitingen\": {\"ns2:Uiting\": \"1\"}}, \"ns2:TreinVleugelEindBestemming\": [{\"@InfoStatus\": \"Gepland\", \"ns2:StationCode\": \"UT\", \"ns2:Type\": \"6\", \"ns2:KorteNaam\": \"Utrecht C\", \"ns2:MiddelNaam\": \"Utrecht C.\", \"ns2:LangeNaam\": \"Utrecht Centraal\", \"ns2:UICCode\": \"8400621\"}, {\"@InfoStatus\": \"Actueel\", \"ns2:StationCode\": \"UT\", \"ns2:Type\": \"6\", \"ns2:KorteNaam\": \"Utrecht C\", \"ns2:MiddelNaam\": \"Utrecht C.\", \"ns2:LangeNaam\": \"Utrecht Centraal\", \"ns2:UICCode\": \"8400621\"}], \"ns2:PresentatieTreinVleugelEindBestemming\": {\"ns2:Uitingen\": {\"ns2:Uiting\": \"Utrecht Centraal\"}}, \"ns2:StopStations\": [{\"@InfoStatus\": \"Gepland\", \"ns2:Station\": [{\"ns2:StationCode\": \"GDM\", \"ns2:Type\": \"1\", \"ns2:KorteNaam\": \"Geldermlsn\", \"ns2:MiddelNaam\": \"Geldermalsen\", \"ns2:LangeNaam\": \"Geldermalsen\", \"ns2:UICCode\": \"8400244\"}, {\"ns2:StationCode\": \"CL\", \"ns2:Type\": \"0\", \"ns2:KorteNaam\": \"Culemborg\", \"ns2:MiddelNaam\": \"Culemborg\", \"ns2:LangeNaam\": \"Culemborg\", \"ns2:UICCode\": \"8400154\"}, {\"ns2:StationCode\": \"HTNC\", \"ns2:Type\": \"0\", \"ns2:KorteNaam\": \"Castellum\", \"ns2:MiddelNaam\": \"Castellum\", \"ns2:LangeNaam\": \"Houten Castellum\", \"ns2:UICCode\": \"8400335\"}, {\"ns2:StationCode\": \"HTN\", \"ns2:Type\": \"1\", \"ns2:KorteNaam\": \"Houten\", \"ns2:MiddelNaam\": \"Houten\", \"ns2:LangeNaam\": \"Houten\", \"ns2:UICCode\": \"8400340\"}, {\"ns2:StationCode\": \"UTLN\", \"ns2:Type\": \"0\", \"ns2:KorteNaam\": \"Lunetten\", \"ns2:MiddelNaam\": \"Lunetten\", \"ns2:LangeNaam\": \"Utrecht Lunetten\", \"ns2:UICCode\": \"8400623\"}, {\"ns2:StationCode\": \"UTVR\", \"ns2:Type\": \"1\", \"ns2:KorteNaam\": \"VaartscheR\", \"ns2:MiddelNaam\": \"Vaartsche Rijn\", \"ns2:LangeNaam\": \"Utrecht Vaartsche Rijn\", \"ns2:UICCode\": \"8400606\"}, {\"ns2:StationCode\": \"UT\", \"ns2:Type\": \"6\", \"ns2:KorteNaam\": \"Utrecht C\", \"ns2:MiddelNaam\": \"Utrecht C.\", \"ns2:LangeNaam\": \"Utrecht Centraal\", \"ns2:UICCode\": \"8400621\"}]}, {\"@InfoStatus\": \"Actueel\", \"ns2:Station\": [{\"ns2:StationCode\": \"GDM\", \"ns2:Type\": \"1\", \"ns2:KorteNaam\": \"Geldermlsn\", \"ns2:MiddelNaam\": \"Geldermalsen\", \"ns2:LangeNaam\": \"Geldermalsen\", \"ns2:UICCode\": \"8400244\"}, {\"ns2:StationCode\": \"CL\", \"ns2:Type\": \"0\", \"ns2:KorteNaam\": \"Culemborg\", \"ns2:MiddelNaam\": \"Culemborg\", \"ns2:LangeNaam\": \"Culemborg\", \"ns2:UICCode\": \"8400154\"}, {\"ns2:StationCode\": \"HTNC\", \"ns2:Type\": \"0\", \"ns2:KorteNaam\": \"Castellum\", \"ns2:MiddelNaam\": \"Castellum\", \"ns2:LangeNaam\": \"Houten Castellum\", \"ns2:UICCode\": \"8400335\"}, {\"ns2:StationCode\": \"HTN\", \"ns2:Type\": \"1\", \"ns2:KorteNaam\": \"Houten\", \"ns2:MiddelNaam\": \"Houten\", \"ns2:LangeNaam\": \"Houten\", \"ns2:UICCode\": \"8400340\"}, {\"ns2:StationCode\": \"UTLN\", \"ns2:Type\": \"0\", \"ns2:KorteNaam\": \"Lunetten\", \"ns2:MiddelNaam\": \"Lunetten\", \"ns2:LangeNaam\": \"Utrecht Lunetten\", \"ns2:UICCode\": \"8400623\"}, {\"ns2:StationCode\": \"UTVR\", \"ns2:Type\": \"1\", \"ns2:KorteNaam\": \"VaartscheR\", \"ns2:MiddelNaam\": \"Vaartsche Rijn\", \"ns2:LangeNaam\": \"Utrecht Vaartsche Rijn\", \"ns2:UICCode\": \"8400606\"}, {\"ns2:StationCode\": \"UT\", \"ns2:Type\": \"6\", \"ns2:KorteNaam\": \"Utrecht C\", \"ns2:MiddelNaam\": \"Utrecht C.\", \"ns2:LangeNaam\": \"Utrecht Centraal\", \"ns2:UICCode\": \"8400621\"}]}], \"ns2:MaterieelDeelDVS\": [{\"ns2:MaterieelSoort\": \"SLT\", \"ns2:MaterieelAanduiding\": \"6\", \"ns2:MaterieelLengte\": \"10050\", \"ns2:MaterieelDeelVertrekPositie\": \"1\", \"ns2:MaterieelDeelVolgordeVertrek\": \"1\", \"ns2:MaterieelNummer\": \"000000-02626-0\", \"ns2:MaterieelDeelEindBestemming\": [{\"@InfoStatus\": \"Gepland\", \"ns2:StationCode\": \"UT\", \"ns2:Type\": \"6\", \"ns2:KorteNaam\": \"Utrecht C\", \"ns2:MiddelNaam\": \"Utrecht C.\", \"ns2:LangeNaam\": \"Utrecht Centraal\", \"ns2:UICCode\": \"8400621\"}, {\"@InfoStatus\": \"Actueel\", \"ns2:StationCode\": \"UT\", \"ns2:Type\": \"6\", \"ns2:KorteNaam\": \"Utrecht C\", \"ns2:MiddelNaam\": \"Utrecht C.\", \"ns2:LangeNaam\": \"Utrecht Centraal\", \"ns2:UICCode\": \"8400621\"}], \"ns2:PresentatieMaterieelDeelEindBestemming\": {\"ns2:Uitingen\": {\"ns2:Uiting\": \"Utrecht Centraal\"}}}, {\"ns2:MaterieelSoort\": \"SLT\", \"ns2:MaterieelAanduiding\": \"4\", \"ns2:MaterieelLengte\": \"6940\", \"ns2:MaterieelDeelVertrekPositie\": \"3\", \"ns2:MaterieelDeelVolgordeVertrek\": \"2\", \"ns2:MaterieelNummer\": \"000000-02420-0\", \"ns2:MaterieelDeelEindBestemming\": [{\"@InfoStatus\": \"Gepland\", \"ns2:StationCode\": \"UT\", \"ns2:Type\": \"6\", \"ns2:KorteNaam\": \"Utrecht C\", \"ns2:MiddelNaam\": \"Utrecht C.\", \"ns2:LangeNaam\": \"Utrecht Centraal\", \"ns2:UICCode\": \"8400621\"}, {\"@InfoStatus\": \"Actueel\", \"ns2:StationCode\": \"UT\", \"ns2:Type\": \"6\", \"ns2:KorteNaam\": \"Utrecht C\", \"ns2:MiddelNaam\": \"Utrecht C.\", \"ns2:LangeNaam\": \"Utrecht Centraal\", \"ns2:UICCode\": \"8400621\"}], \"ns2:PresentatieMaterieelDeelEindBestemming\": {\"ns2:Uitingen\": {\"ns2:Uiting\": \"Utrecht Centraal\"}}}]}, \"ns2:Wijziging\": {\"ns2:WijzigingType\": \"10\", \"ns2:PresentatieWijziging\": {\"ns2:Uitingen\": [{\"@Taal\": \"nl\", \"ns2:Uiting\": {\"@Prioriteit\": \"10\", \"#text\": \"Later vertrek\"}}, {\"@Taal\": \"en\", \"ns2:Uiting\": {\"@Prioriteit\": \"10\", \"#text\": \"Delayed\"}}]}}}, \"ns2:PresentatieOpmerkingen\": {\"ns2:Uitingen\": [{\"@Taal\": \"nl\", \"ns2:Uiting\": {\"@Prioriteit\": \"20\", \"@ReferentieType\": \"Wijziging\", \"@ReferentieWaarde\": \"10\", \"#text\": \"Later vertrek\"}}, {\"@Taal\": \"en\", \"ns2:Uiting\": {\"@Prioriteit\": \"20\", \"@ReferentieType\": \"Wijziging\", \"@ReferentieWaarde\": \"10\", \"#text\": \"Delayed\"}}]}}}}}')\n",
      "(None, u'{\"ns1:PutReisInformatieBoodschapIn\": {\"@xmlns:ns1\": \"urn:ndov:cdm:trein:reisinformatie:messages:5\", \"@xmlns:ns2\": \"urn:ndov:cdm:trein:reisinformatie:data:4\", \"ns2:ReisInformatieProductDVS\": {\"@TimeStamp\": \"2020-05-08T19:06:39.865Z\", \"@Versie\": \"6.2\", \"ns2:RIPAdministratie\": {\"ns2:ReisInformatieProductID\": \"2005082106392100001\", \"ns2:AbonnementId\": \"54\", \"ns2:ReisInformatieTijdstip\": \"2020-05-08T19:06:00.000Z\"}, \"ns2:DynamischeVertrekStaat\": {\"ns2:RitId\": \"1677\", \"ns2:RitDatum\": \"2020-05-08\", \"ns2:RitStation\": {\"ns2:StationCode\": \"HVS\", \"ns2:Type\": \"5\", \"ns2:KorteNaam\": \"Hilversum\", \"ns2:MiddelNaam\": \"Hilversum\", \"ns2:LangeNaam\": \"Hilversum\", \"ns2:UICCode\": \"8400322\"}, \"ns2:Trein\": {\"ns2:TreinNummer\": \"1677\", \"ns2:TreinSoort\": {\"@Code\": \"IC\", \"#text\": \"Intercity\"}, \"ns2:TreinFormule\": \"3\", \"ns2:TreinStatus\": \"5\", \"ns2:Vervoerder\": \"NS\", \"ns2:Reserveren\": \"N\", \"ns2:Toeslag\": \"N\", \"ns2:NietInstappen\": \"N\", \"ns2:AchterBlijvenAchtersteTreinDeel\": \"N\", \"ns2:RangeerBeweging\": \"N\", \"ns2:SpeciaalKaartje\": \"N\", \"ns2:TreinEindBestemming\": [{\"@InfoStatus\": \"Gepland\", \"ns2:StationCode\": \"AMFS\", \"ns2:Type\": \"0\", \"ns2:KorteNaam\": \"Schothorst\", \"ns2:MiddelNaam\": \"Schothorst\", \"ns2:LangeNaam\": \"Amersfoort Schothorst\", \"ns2:UICCode\": \"8400054\"}, {\"@InfoStatus\": \"Actueel\", \"ns2:StationCode\": \"AMFS\", \"ns2:Type\": \"0\", \"ns2:KorteNaam\": \"Schothorst\", \"ns2:MiddelNaam\": \"Schothorst\", \"ns2:LangeNaam\": \"Amersfoort Schothorst\", \"ns2:UICCode\": \"8400054\"}], \"ns2:PresentatieTreinEindBestemming\": {\"ns2:Uitingen\": {\"ns2:Uiting\": \"Amersfoort Schothorst\"}}, \"ns2:VertrekTijd\": [{\"@InfoStatus\": \"Gepland\", \"#text\": \"2020-05-08T19:06:00.000Z\"}, {\"@InfoStatus\": \"Actueel\", \"#text\": \"2020-05-08T19:06:00.000Z\"}], \"ns2:ExacteVertrekVertraging\": \"PT0S\", \"ns2:GedempteVertrekVertraging\": \"PT0S\", \"ns2:TreinVertrekSpoor\": [{\"@InfoStatus\": \"Gepland\", \"ns2:SpoorNummer\": \"3\"}, {\"@InfoStatus\": \"Actueel\", \"ns2:SpoorNummer\": \"3\"}], \"ns2:PresentatieTreinVertrekSpoor\": {\"ns2:Uitingen\": {\"ns2:Uiting\": \"3\"}}, \"ns2:VertrekRichting\": \"B\", \"ns2:AfstandPerronEindKopVertrekTrein\": \"0\", \"ns2:VerkorteRoute\": [{\"@InfoStatus\": \"Gepland\", \"ns2:Station\": {\"ns2:StationCode\": \"AMF\", \"ns2:Type\": \"5\", \"ns2:KorteNaam\": \"Amersfrt C\", \"ns2:MiddelNaam\": \"Amersfoort C.\", \"ns2:LangeNaam\": \"Amersfoort Centraal\", \"ns2:UICCode\": \"8400055\"}}, {\"@InfoStatus\": \"Actueel\", \"ns2:Station\": {\"ns2:StationCode\": \"AMF\", \"ns2:Type\": \"5\", \"ns2:KorteNaam\": \"Amersfrt C\", \"ns2:MiddelNaam\": \"Amersfoort C.\", \"ns2:LangeNaam\": \"Amersfoort Centraal\", \"ns2:UICCode\": \"8400055\"}}], \"ns2:PresentatieVerkorteRoute\": {\"ns2:Uitingen\": {\"ns2:Uiting\": \"Amersfoort C.\"}}, \"ns2:TreinVleugel\": {\"ns2:TreinVleugelVertrekSpoor\": [{\"@InfoStatus\": \"Gepland\", \"ns2:SpoorNummer\": \"3\"}, {\"@InfoStatus\": \"Actueel\", \"ns2:SpoorNummer\": \"3\"}], \"ns2:PresentatieTreinVleugelVertrekSpoor\": {\"ns2:Uitingen\": {\"ns2:Uiting\": \"3\"}}, \"ns2:TreinVleugelEindBestemming\": [{\"@InfoStatus\": \"Gepland\", \"ns2:StationCode\": \"AMFS\", \"ns2:Type\": \"0\", \"ns2:KorteNaam\": \"Schothorst\", \"ns2:MiddelNaam\": \"Schothorst\", \"ns2:LangeNaam\": \"Amersfoort Schothorst\", \"ns2:UICCode\": \"8400054\"}, {\"@InfoStatus\": \"Actueel\", \"ns2:StationCode\": \"AMFS\", \"ns2:Type\": \"0\", \"ns2:KorteNaam\": \"Schothorst\", \"ns2:MiddelNaam\": \"Schothorst\", \"ns2:LangeNaam\": \"Amersfoort Schothorst\", \"ns2:UICCode\": \"8400054\"}], \"ns2:PresentatieTreinVleugelEindBestemming\": {\"ns2:Uitingen\": {\"ns2:Uiting\": \"Amersfoort Schothorst\"}}, \"ns2:StopStations\": [{\"@InfoStatus\": \"Gepland\", \"ns2:Station\": [{\"ns2:StationCode\": \"AMF\", \"ns2:Type\": \"5\", \"ns2:KorteNaam\": \"Amersfrt C\", \"ns2:MiddelNaam\": \"Amersfoort C.\", \"ns2:LangeNaam\": \"Amersfoort Centraal\", \"ns2:UICCode\": \"8400055\"}, {\"ns2:StationCode\": \"AMFS\", \"ns2:Type\": \"0\", \"ns2:KorteNaam\": \"Schothorst\", \"ns2:MiddelNaam\": \"Schothorst\", \"ns2:LangeNaam\": \"Amersfoort Schothorst\", \"ns2:UICCode\": \"8400054\"}]}, {\"@InfoStatus\": \"Actueel\", \"ns2:Station\": [{\"ns2:StationCode\": \"AMF\", \"ns2:Type\": \"5\", \"ns2:KorteNaam\": \"Amersfrt C\", \"ns2:MiddelNaam\": \"Amersfoort C.\", \"ns2:LangeNaam\": \"Amersfoort Centraal\", \"ns2:UICCode\": \"8400055\"}, {\"ns2:StationCode\": \"AMFS\", \"ns2:Type\": \"0\", \"ns2:KorteNaam\": \"Schothorst\", \"ns2:MiddelNaam\": \"Schothorst\", \"ns2:LangeNaam\": \"Amersfoort Schothorst\", \"ns2:UICCode\": \"8400054\"}]}], \"ns2:MaterieelDeelDVS\": [{\"ns2:MaterieelSoort\": \"ICM\", \"ns2:MaterieelAanduiding\": \"3\", \"ns2:MaterieelLengte\": \"8060\", \"ns2:MaterieelDeelVertrekPositie\": \"1\", \"ns2:MaterieelDeelVolgordeVertrek\": \"1\", \"ns2:MaterieelNummer\": \"000000-04090-0\", \"ns2:MaterieelDeelEindBestemming\": [{\"@InfoStatus\": \"Gepland\", \"ns2:StationCode\": \"AMFS\", \"ns2:Type\": \"0\", \"ns2:KorteNaam\": \"Schothorst\", \"ns2:MiddelNaam\": \"Schothorst\", \"ns2:LangeNaam\": \"Amersfoort Schothorst\", \"ns2:UICCode\": \"8400054\"}, {\"@InfoStatus\": \"Actueel\", \"ns2:StationCode\": \"AMFS\", \"ns2:Type\": \"0\", \"ns2:KorteNaam\": \"Schothorst\", \"ns2:MiddelNaam\": \"Schothorst\", \"ns2:LangeNaam\": \"Amersfoort Schothorst\", \"ns2:UICCode\": \"8400054\"}], \"ns2:PresentatieMaterieelDeelEindBestemming\": {\"ns2:Uitingen\": {\"ns2:Uiting\": \"Amersfoort Schothorst\"}}}, {\"ns2:MaterieelSoort\": \"ICM\", \"ns2:MaterieelAanduiding\": \"4\", \"ns2:MaterieelLengte\": \"10710\", \"ns2:MaterieelDeelVertrekPositie\": \"3\", \"ns2:MaterieelDeelVolgordeVertrek\": \"2\", \"ns2:MaterieelNummer\": \"000000-04211-0\", \"ns2:MaterieelDeelEindBestemming\": [{\"@InfoStatus\": \"Gepland\", \"ns2:StationCode\": \"AMFS\", \"ns2:Type\": \"0\", \"ns2:KorteNaam\": \"Schothorst\", \"ns2:MiddelNaam\": \"Schothorst\", \"ns2:LangeNaam\": \"Amersfoort Schothorst\", \"ns2:UICCode\": \"8400054\"}, {\"@InfoStatus\": \"Actueel\", \"ns2:StationCode\": \"AMFS\", \"ns2:Type\": \"0\", \"ns2:KorteNaam\": \"Schothorst\", \"ns2:MiddelNaam\": \"Schothorst\", \"ns2:LangeNaam\": \"Amersfoort Schothorst\", \"ns2:UICCode\": \"8400054\"}], \"ns2:PresentatieMaterieelDeelEindBestemming\": {\"ns2:Uitingen\": {\"ns2:Uiting\": \"Amersfoort Schothorst\"}}}]}, \"ns2:Wijziging\": {\"ns2:WijzigingType\": \"40\"}}}}}}')\n",
      "(None, u'{\"ns1:PutReisInformatieBoodschapIn\": {\"@xmlns:ns1\": \"urn:ndov:cdm:trein:reisinformatie:messages:5\", \"@xmlns:ns2\": \"urn:ndov:cdm:trein:reisinformatie:data:4\", \"ns2:ReisInformatieProductDVS\": {\"@TimeStamp\": \"2020-05-08T19:06:40.760Z\", \"@Versie\": \"6.2\", \"ns2:RIPAdministratie\": {\"ns2:ReisInformatieProductID\": \"2005082106402300001\", \"ns2:AbonnementId\": \"54\", \"ns2:ReisInformatieTijdstip\": \"2020-05-08T19:06:00.000Z\"}, \"ns2:DynamischeVertrekStaat\": {\"ns2:RitId\": \"704870\", \"ns2:RitDatum\": \"2020-05-08\", \"ns2:RitStation\": {\"ns2:StationCode\": \"HWD\", \"ns2:Type\": \"1\", \"ns2:KorteNaam\": \"Heerhugow\", \"ns2:MiddelNaam\": \"Heerhugowaard\", \"ns2:LangeNaam\": \"Heerhugowaard\", \"ns2:UICCode\": \"8400306\"}, \"ns2:Trein\": {\"ns2:TreinNummer\": \"704870\", \"ns2:TreinSoort\": {\"@Code\": \"SPR\", \"#text\": \"Sprinter\"}, \"ns2:TreinFormule\": \"1\", \"ns2:TreinStatus\": \"5\", \"ns2:Vervoerder\": \"NS\", \"ns2:Reserveren\": \"N\", \"ns2:Toeslag\": \"N\", \"ns2:NietInstappen\": \"N\", \"ns2:AchterBlijvenAchtersteTreinDeel\": \"N\", \"ns2:RangeerBeweging\": \"N\", \"ns2:SpeciaalKaartje\": \"N\", \"ns2:TreinEindBestemming\": [{\"@InfoStatus\": \"Gepland\", \"ns2:StationCode\": \"AMR\", \"ns2:Type\": \"5\", \"ns2:KorteNaam\": \"Alkmaar\", \"ns2:MiddelNaam\": \"Alkmaar\", \"ns2:LangeNaam\": \"Alkmaar\", \"ns2:UICCode\": \"8400050\"}, {\"@InfoStatus\": \"Actueel\", \"ns2:StationCode\": \"AMR\", \"ns2:Type\": \"5\", \"ns2:KorteNaam\": \"Alkmaar\", \"ns2:MiddelNaam\": \"Alkmaar\", \"ns2:LangeNaam\": \"Alkmaar\", \"ns2:UICCode\": \"8400050\"}], \"ns2:PresentatieTreinEindBestemming\": {\"ns2:Uitingen\": {\"ns2:Uiting\": \"Alkmaar\"}}, \"ns2:VertrekTijd\": [{\"@InfoStatus\": \"Gepland\", \"#text\": \"2020-05-08T19:06:00.000Z\"}, {\"@InfoStatus\": \"Actueel\", \"#text\": \"2020-05-08T19:06:00.000Z\"}], \"ns2:ExacteVertrekVertraging\": \"PT0S\", \"ns2:GedempteVertrekVertraging\": \"PT0S\", \"ns2:TreinVertrekSpoor\": [{\"@InfoStatus\": \"Gepland\", \"ns2:SpoorNummer\": \"1\"}, {\"@InfoStatus\": \"Actueel\", \"ns2:SpoorNummer\": \"1\"}], \"ns2:PresentatieTreinVertrekSpoor\": {\"ns2:Uitingen\": {\"ns2:Uiting\": \"1\"}}, \"ns2:VertrekRichting\": \"A\", \"ns2:AfstandPerronEindKopVertrekTrein\": \"0\", \"ns2:TreinVleugel\": {\"ns2:TreinVleugelVertrekSpoor\": [{\"@InfoStatus\": \"Gepland\", \"ns2:SpoorNummer\": \"1\"}, {\"@InfoStatus\": \"Actueel\", \"ns2:SpoorNummer\": \"1\"}], \"ns2:PresentatieTreinVleugelVertrekSpoor\": {\"ns2:Uitingen\": {\"ns2:Uiting\": \"1\"}}, \"ns2:TreinVleugelEindBestemming\": [{\"@InfoStatus\": \"Gepland\", \"ns2:StationCode\": \"AMR\", \"ns2:Type\": \"5\", \"ns2:KorteNaam\": \"Alkmaar\", \"ns2:MiddelNaam\": \"Alkmaar\", \"ns2:LangeNaam\": \"Alkmaar\", \"ns2:UICCode\": \"8400050\"}, {\"@InfoStatus\": \"Actueel\", \"ns2:StationCode\": \"AMR\", \"ns2:Type\": \"5\", \"ns2:KorteNaam\": \"Alkmaar\", \"ns2:MiddelNaam\": \"Alkmaar\", \"ns2:LangeNaam\": \"Alkmaar\", \"ns2:UICCode\": \"8400050\"}], \"ns2:PresentatieTreinVleugelEindBestemming\": {\"ns2:Uitingen\": {\"ns2:Uiting\": \"Alkmaar\"}}, \"ns2:StopStations\": [{\"@InfoStatus\": \"Gepland\", \"ns2:Station\": [{\"ns2:StationCode\": \"AMRN\", \"ns2:Type\": \"0\", \"ns2:KorteNaam\": \"Alkmaar N\", \"ns2:MiddelNaam\": \"Alkmaar N.\", \"ns2:LangeNaam\": \"Alkmaar Noord\", \"ns2:UICCode\": \"8400052\"}, {\"ns2:StationCode\": \"AMR\", \"ns2:Type\": \"5\", \"ns2:KorteNaam\": \"Alkmaar\", \"ns2:MiddelNaam\": \"Alkmaar\", \"ns2:LangeNaam\": \"Alkmaar\", \"ns2:UICCode\": \"8400050\"}]}, {\"@InfoStatus\": \"Actueel\", \"ns2:Station\": [{\"ns2:StationCode\": \"AMRN\", \"ns2:Type\": \"0\", \"ns2:KorteNaam\": \"Alkmaar N\", \"ns2:MiddelNaam\": \"Alkmaar N.\", \"ns2:LangeNaam\": \"Alkmaar Noord\", \"ns2:UICCode\": \"8400052\"}, {\"ns2:StationCode\": \"AMR\", \"ns2:Type\": \"5\", \"ns2:KorteNaam\": \"Alkmaar\", \"ns2:MiddelNaam\": \"Alkmaar\", \"ns2:LangeNaam\": \"Alkmaar\", \"ns2:UICCode\": \"8400050\"}]}], \"ns2:MaterieelDeelDVS\": [{\"ns2:MaterieelSoort\": \"SGMM\", \"ns2:MaterieelAanduiding\": \"3\", \"ns2:MaterieelLengte\": \"7860\", \"ns2:MaterieelDeelVertrekPositie\": \"1\", \"ns2:MaterieelDeelVolgordeVertrek\": \"1\", \"ns2:MaterieelNummer\": \"000000-02957-0\", \"ns2:MaterieelDeelEindBestemming\": [{\"@InfoStatus\": \"Gepland\", \"ns2:StationCode\": \"AMR\", \"ns2:Type\": \"5\", \"ns2:KorteNaam\": \"Alkmaar\", \"ns2:MiddelNaam\": \"Alkmaar\", \"ns2:LangeNaam\": \"Alkmaar\", \"ns2:UICCode\": \"8400050\"}, {\"@InfoStatus\": \"Actueel\", \"ns2:StationCode\": \"AMR\", \"ns2:Type\": \"5\", \"ns2:KorteNaam\": \"Alkmaar\", \"ns2:MiddelNaam\": \"Alkmaar\", \"ns2:LangeNaam\": \"Alkmaar\", \"ns2:UICCode\": \"8400050\"}], \"ns2:PresentatieMaterieelDeelEindBestemming\": {\"ns2:Uitingen\": {\"ns2:Uiting\": \"Alkmaar\"}}}, {\"ns2:MaterieelSoort\": \"SGMM\", \"ns2:MaterieelAanduiding\": \"3\", \"ns2:MaterieelLengte\": \"7860\", \"ns2:MaterieelDeelVertrekPositie\": \"3\", \"ns2:MaterieelDeelVolgordeVertrek\": \"2\", \"ns2:MaterieelNummer\": \"000000-02973-0\", \"ns2:MaterieelDeelEindBestemming\": [{\"@InfoStatus\": \"Gepland\", \"ns2:StationCode\": \"AMR\", \"ns2:Type\": \"5\", \"ns2:KorteNaam\": \"Alkmaar\", \"ns2:MiddelNaam\": \"Alkmaar\", \"ns2:LangeNaam\": \"Alkmaar\", \"ns2:UICCode\": \"8400050\"}, {\"@InfoStatus\": \"Actueel\", \"ns2:StationCode\": \"AMR\", \"ns2:Type\": \"5\", \"ns2:KorteNaam\": \"Alkmaar\", \"ns2:MiddelNaam\": \"Alkmaar\", \"ns2:LangeNaam\": \"Alkmaar\", \"ns2:UICCode\": \"8400050\"}], \"ns2:PresentatieMaterieelDeelEindBestemming\": {\"ns2:Uitingen\": {\"ns2:Uiting\": \"Alkmaar\"}}}]}, \"ns2:Wijziging\": {\"ns2:WijzigingType\": \"40\"}}}}}}')\n",
      "(None, u'{\"ns1:PutReisInformatieBoodschapIn\": {\"@xmlns:ns1\": \"urn:ndov:cdm:trein:reisinformatie:messages:5\", \"@xmlns:ns2\": \"urn:ndov:cdm:trein:reisinformatie:data:4\", \"ns2:ReisInformatieProductDVS\": {\"@TimeStamp\": \"2020-05-08T19:06:42.814Z\", \"@Versie\": \"6.2\", \"ns2:RIPAdministratie\": {\"ns2:ReisInformatieProductID\": \"2005082106422100002\", \"ns2:AbonnementId\": \"54\", \"ns2:ReisInformatieTijdstip\": \"2020-05-08T19:09:00.000Z\"}, \"ns2:DynamischeVertrekStaat\": {\"ns2:RitId\": \"7277\", \"ns2:RitDatum\": \"2020-05-08\", \"ns2:RitStation\": {\"ns2:StationCode\": \"GR\", \"ns2:Type\": \"1\", \"ns2:KorteNaam\": \"Gorinchem\", \"ns2:MiddelNaam\": \"Gorinchem\", \"ns2:LangeNaam\": \"Gorinchem\", \"ns2:UICCode\": \"8400256\"}, \"ns2:Trein\": {\"ns2:TreinNummer\": \"7277\", \"ns2:TreinSoort\": {\"@Code\": \"ST\", \"#text\": \"Stoptrein\"}, \"ns2:TreinFormule\": \"1\", \"ns2:TreinStatus\": \"2\", \"ns2:Vervoerder\": \"R-net\", \"ns2:Reserveren\": \"N\", \"ns2:Toeslag\": \"N\", \"ns2:NietInstappen\": \"N\", \"ns2:AchterBlijvenAchtersteTreinDeel\": \"N\", \"ns2:RangeerBeweging\": \"N\", \"ns2:SpeciaalKaartje\": \"N\", \"ns2:TreinEindBestemming\": [{\"@InfoStatus\": \"Gepland\", \"ns2:StationCode\": \"GDM\", \"ns2:Type\": \"1\", \"ns2:KorteNaam\": \"Geldermlsn\", \"ns2:MiddelNaam\": \"Geldermalsen\", \"ns2:LangeNaam\": \"Geldermalsen\", \"ns2:UICCode\": \"8400244\"}, {\"@InfoStatus\": \"Actueel\", \"ns2:StationCode\": \"GDM\", \"ns2:Type\": \"1\", \"ns2:KorteNaam\": \"Geldermlsn\", \"ns2:MiddelNaam\": \"Geldermalsen\", \"ns2:LangeNaam\": \"Geldermalsen\", \"ns2:UICCode\": \"8400244\"}], \"ns2:PresentatieTreinEindBestemming\": {\"ns2:Uitingen\": {\"ns2:Uiting\": \"Geldermalsen\"}}, \"ns2:VertrekTijd\": [{\"@InfoStatus\": \"Gepland\", \"#text\": \"2020-05-08T19:09:00.000Z\"}, {\"@InfoStatus\": \"Actueel\", \"#text\": \"2020-05-08T19:09:00.000Z\"}], \"ns2:ExacteVertrekVertraging\": \"PT0S\", \"ns2:GedempteVertrekVertraging\": \"PT0S\", \"ns2:TreinVertrekSpoor\": [{\"@InfoStatus\": \"Gepland\", \"ns2:SpoorNummer\": \"2\"}, {\"@InfoStatus\": \"Actueel\", \"ns2:SpoorNummer\": \"2\"}], \"ns2:PresentatieTreinVertrekSpoor\": {\"ns2:Uitingen\": {\"ns2:Uiting\": \"2\"}}, \"ns2:VertrekRichting\": \"B\", \"ns2:AfstandPerronEindKopVertrekTrein\": \"0\", \"ns2:TreinVleugel\": {\"ns2:TreinVleugelVertrekSpoor\": [{\"@InfoStatus\": \"Gepland\", \"ns2:SpoorNummer\": \"2\"}, {\"@InfoStatus\": \"Actueel\", \"ns2:SpoorNummer\": \"2\"}], \"ns2:PresentatieTreinVleugelVertrekSpoor\": {\"ns2:Uitingen\": {\"ns2:Uiting\": \"2\"}}, \"ns2:TreinVleugelEindBestemming\": [{\"@InfoStatus\": \"Gepland\", \"ns2:StationCode\": \"GDM\", \"ns2:Type\": \"1\", \"ns2:KorteNaam\": \"Geldermlsn\", \"ns2:MiddelNaam\": \"Geldermalsen\", \"ns2:LangeNaam\": \"Geldermalsen\", \"ns2:UICCode\": \"8400244\"}, {\"@InfoStatus\": \"Actueel\", \"ns2:StationCode\": \"GDM\", \"ns2:Type\": \"1\", \"ns2:KorteNaam\": \"Geldermlsn\", \"ns2:MiddelNaam\": \"Geldermalsen\", \"ns2:LangeNaam\": \"Geldermalsen\", \"ns2:UICCode\": \"8400244\"}], \"ns2:PresentatieTreinVleugelEindBestemming\": {\"ns2:Uitingen\": {\"ns2:Uiting\": \"Geldermalsen\"}}, \"ns2:StopStations\": [{\"@InfoStatus\": \"Gepland\", \"ns2:Station\": [{\"ns2:StationCode\": \"AKL\", \"ns2:Type\": \"0\", \"ns2:KorteNaam\": \"Arkel\", \"ns2:MiddelNaam\": \"Arkel\", \"ns2:LangeNaam\": \"Arkel\", \"ns2:UICCode\": \"8400068\"}, {\"ns2:StationCode\": \"LDM\", \"ns2:Type\": \"0\", \"ns2:KorteNaam\": \"Leerdam\", \"ns2:MiddelNaam\": \"Leerdam\", \"ns2:LangeNaam\": \"Leerdam\", \"ns2:UICCode\": \"8400386\"}, {\"ns2:StationCode\": \"BSD\", \"ns2:Type\": \"0\", \"ns2:KorteNaam\": \"Beesd\", \"ns2:MiddelNaam\": \"Beesd\", \"ns2:LangeNaam\": \"Beesd\", \"ns2:UICCode\": \"8400097\"}, {\"ns2:StationCode\": \"GDM\", \"ns2:Type\": \"1\", \"ns2:KorteNaam\": \"Geldermlsn\", \"ns2:MiddelNaam\": \"Geldermalsen\", \"ns2:LangeNaam\": \"Geldermalsen\", \"ns2:UICCode\": \"8400244\"}]}, {\"@InfoStatus\": \"Actueel\", \"ns2:Station\": [{\"ns2:StationCode\": \"AKL\", \"ns2:Type\": \"0\", \"ns2:KorteNaam\": \"Arkel\", \"ns2:MiddelNaam\": \"Arkel\", \"ns2:LangeNaam\": \"Arkel\", \"ns2:UICCode\": \"8400068\"}, {\"ns2:StationCode\": \"LDM\", \"ns2:Type\": \"0\", \"ns2:KorteNaam\": \"Leerdam\", \"ns2:MiddelNaam\": \"Leerdam\", \"ns2:LangeNaam\": \"Leerdam\", \"ns2:UICCode\": \"8400386\"}, {\"ns2:StationCode\": \"BSD\", \"ns2:Type\": \"0\", \"ns2:KorteNaam\": \"Beesd\", \"ns2:MiddelNaam\": \"Beesd\", \"ns2:LangeNaam\": \"Beesd\", \"ns2:UICCode\": \"8400097\"}, {\"ns2:StationCode\": \"GDM\", \"ns2:Type\": \"1\", \"ns2:KorteNaam\": \"Geldermlsn\", \"ns2:MiddelNaam\": \"Geldermalsen\", \"ns2:LangeNaam\": \"Geldermalsen\", \"ns2:UICCode\": \"8400244\"}]}], \"ns2:MaterieelDeelDVS\": {\"ns2:MaterieelSoort\": \"GTW-E-QB\", \"ns2:MaterieelAanduiding\": \"2/8\", \"ns2:MaterieelLengte\": \"5600\", \"ns2:MaterieelDeelEindBestemming\": [{\"@InfoStatus\": \"Gepland\", \"ns2:StationCode\": \"GDM\", \"ns2:Type\": \"1\", \"ns2:KorteNaam\": \"Geldermlsn\", \"ns2:MiddelNaam\": \"Geldermalsen\", \"ns2:LangeNaam\": \"Geldermalsen\", \"ns2:UICCode\": \"8400244\"}, {\"@InfoStatus\": \"Actueel\", \"ns2:StationCode\": \"GDM\", \"ns2:Type\": \"1\", \"ns2:KorteNaam\": \"Geldermlsn\", \"ns2:MiddelNaam\": \"Geldermalsen\", \"ns2:LangeNaam\": \"Geldermalsen\", \"ns2:UICCode\": \"8400244\"}], \"ns2:PresentatieMaterieelDeelEindBestemming\": {\"ns2:Uitingen\": {\"ns2:Uiting\": \"Geldermalsen\"}}}}, \"ns2:Wijziging\": {\"ns2:WijzigingType\": \"40\"}}}}}}')\n",
      "(None, u'{\"ns1:PutReisInformatieBoodschapIn\": {\"@xmlns:ns1\": \"urn:ndov:cdm:trein:reisinformatie:messages:5\", \"@xmlns:ns2\": \"urn:ndov:cdm:trein:reisinformatie:data:4\", \"ns2:ReisInformatieProductDVS\": {\"@TimeStamp\": \"2020-05-08T19:06:43.209Z\", \"@Versie\": \"6.2\", \"ns2:RIPAdministratie\": {\"ns2:ReisInformatieProductID\": \"2005082106432500001\", \"ns2:AbonnementId\": \"54\", \"ns2:ReisInformatieTijdstip\": \"2020-05-08T19:05:00.000Z\"}, \"ns2:DynamischeVertrekStaat\": {\"ns2:RitId\": \"2262\", \"ns2:RitDatum\": \"2020-05-08\", \"ns2:RitStation\": {\"ns2:StationCode\": \"KRG\", \"ns2:Type\": \"0\", \"ns2:KorteNaam\": \"Kruiningen\", \"ns2:MiddelNaam\": \"Kruiningen-Y.\", \"ns2:LangeNaam\": \"Kruiningen-Yerseke\", \"ns2:UICCode\": \"8400370\"}, \"ns2:Trein\": {\"ns2:TreinNummer\": \"2262\", \"ns2:TreinSoort\": {\"@Code\": \"IC\", \"#text\": \"Intercity\"}, \"ns2:TreinFormule\": \"3\", \"ns2:TreinStatus\": \"2\", \"ns2:Vervoerder\": \"NS\", \"ns2:Reserveren\": \"N\", \"ns2:Toeslag\": \"N\", \"ns2:NietInstappen\": \"N\", \"ns2:AchterBlijvenAchtersteTreinDeel\": \"N\", \"ns2:RangeerBeweging\": \"N\", \"ns2:SpeciaalKaartje\": \"N\", \"ns2:ReisTip\": {\"ns2:ReisTipCode\": \"STAL\", \"ns2:PresentatieReisTip\": {\"ns2:Uitingen\": [{\"@Taal\": \"nl\", \"ns2:Uiting\": {\"@Prioriteit\": \"8\", \"#text\": \"Stopt op alle tussengelegen stations\"}}, {\"@Taal\": \"en\", \"ns2:Uiting\": {\"@Prioriteit\": \"8\", \"#text\": \"Stopping at all intervening stations\"}}]}}, \"ns2:TreinEindBestemming\": [{\"@InfoStatus\": \"Gepland\", \"ns2:StationCode\": \"VS\", \"ns2:Type\": \"5\", \"ns2:KorteNaam\": \"Vlissingen\", \"ns2:MiddelNaam\": \"Vlissingen\", \"ns2:LangeNaam\": \"Vlissingen\", \"ns2:UICCode\": \"8400652\"}, {\"@InfoStatus\": \"Actueel\", \"ns2:StationCode\": \"VS\", \"ns2:Type\": \"5\", \"ns2:KorteNaam\": \"Vlissingen\", \"ns2:MiddelNaam\": \"Vlissingen\", \"ns2:LangeNaam\": \"Vlissingen\", \"ns2:UICCode\": \"8400652\"}], \"ns2:PresentatieTreinEindBestemming\": {\"ns2:Uitingen\": {\"ns2:Uiting\": \"Vlissingen\"}}, \"ns2:VertrekTijd\": [{\"@InfoStatus\": \"Gepland\", \"#text\": \"2020-05-08T19:05:00.000Z\"}, {\"@InfoStatus\": \"Actueel\", \"#text\": \"2020-05-08T19:06:12.000Z\"}], \"ns2:ExacteVertrekVertraging\": \"PT1M12S\", \"ns2:PresentatieVertrekVertraging\": {\"ns2:Uitingen\": {\"ns2:Uiting\": \"+1 min.\"}}, \"ns2:GedempteVertrekVertraging\": \"PT0S\", \"ns2:TreinVertrekSpoor\": [{\"@InfoStatus\": \"Gepland\", \"ns2:SpoorNummer\": \"2\"}, {\"@InfoStatus\": \"Actueel\", \"ns2:SpoorNummer\": \"2\"}], \"ns2:PresentatieTreinVertrekSpoor\": {\"ns2:Uitingen\": {\"ns2:Uiting\": \"2\"}}, \"ns2:VertrekRichting\": \"B\", \"ns2:AfstandPerronEindKopVertrekTrein\": \"0\", \"ns2:TreinVleugel\": {\"ns2:TreinVleugelVertrekSpoor\": [{\"@InfoStatus\": \"Gepland\", \"ns2:SpoorNummer\": \"2\"}, {\"@InfoStatus\": \"Actueel\", \"ns2:SpoorNummer\": \"2\"}], \"ns2:PresentatieTreinVleugelVertrekSpoor\": {\"ns2:Uitingen\": {\"ns2:Uiting\": \"2\"}}, \"ns2:TreinVleugelEindBestemming\": [{\"@InfoStatus\": \"Gepland\", \"ns2:StationCode\": \"VS\", \"ns2:Type\": \"5\", \"ns2:KorteNaam\": \"Vlissingen\", \"ns2:MiddelNaam\": \"Vlissingen\", \"ns2:LangeNaam\": \"Vlissingen\", \"ns2:UICCode\": \"8400652\"}, {\"@InfoStatus\": \"Actueel\", \"ns2:StationCode\": \"VS\", \"ns2:Type\": \"5\", \"ns2:KorteNaam\": \"Vlissingen\", \"ns2:MiddelNaam\": \"Vlissingen\", \"ns2:LangeNaam\": \"Vlissingen\", \"ns2:UICCode\": \"8400652\"}], \"ns2:PresentatieTreinVleugelEindBestemming\": {\"ns2:Uitingen\": {\"ns2:Uiting\": \"Vlissingen\"}}, \"ns2:StopStations\": [{\"@InfoStatus\": \"Gepland\", \"ns2:Station\": [{\"ns2:StationCode\": \"BZL\", \"ns2:Type\": \"0\", \"ns2:KorteNaam\": \"Kapelle-Bi\", \"ns2:MiddelNaam\": \"Kapelle-Biezel.\", \"ns2:LangeNaam\": \"Kapelle-Biezelinge\", \"ns2:UICCode\": \"8400354\"}, {\"ns2:StationCode\": \"GS\", \"ns2:Type\": \"0\", \"ns2:KorteNaam\": \"Goes\", \"ns2:MiddelNaam\": \"Goes\", \"ns2:LangeNaam\": \"Goes\", \"ns2:UICCode\": \"8400253\"}, {\"ns2:StationCode\": \"ARN\", \"ns2:Type\": \"0\", \"ns2:KorteNaam\": \"Arnemuiden\", \"ns2:MiddelNaam\": \"Arnemuiden\", \"ns2:LangeNaam\": \"Arnemuiden\", \"ns2:UICCode\": \"8400069\"}, {\"ns2:StationCode\": \"MDB\", \"ns2:Type\": \"0\", \"ns2:KorteNaam\": \"Middelburg\", \"ns2:MiddelNaam\": \"Middelburg\", \"ns2:LangeNaam\": \"Middelburg\", \"ns2:UICCode\": \"8400436\"}, {\"ns2:StationCode\": \"VSS\", \"ns2:Type\": \"0\", \"ns2:KorteNaam\": \"Souburg\", \"ns2:MiddelNaam\": \"Souburg\", \"ns2:LangeNaam\": \"Vlissingen Souburg\", \"ns2:UICCode\": \"8400653\"}, {\"ns2:StationCode\": \"VS\", \"ns2:Type\": \"5\", \"ns2:KorteNaam\": \"Vlissingen\", \"ns2:MiddelNaam\": \"Vlissingen\", \"ns2:LangeNaam\": \"Vlissingen\", \"ns2:UICCode\": \"8400652\"}]}, {\"@InfoStatus\": \"Actueel\", \"ns2:Station\": [{\"ns2:StationCode\": \"BZL\", \"ns2:Type\": \"0\", \"ns2:KorteNaam\": \"Kapelle-Bi\", \"ns2:MiddelNaam\": \"Kapelle-Biezel.\", \"ns2:LangeNaam\": \"Kapelle-Biezelinge\", \"ns2:UICCode\": \"8400354\"}, {\"ns2:StationCode\": \"GS\", \"ns2:Type\": \"0\", \"ns2:KorteNaam\": \"Goes\", \"ns2:MiddelNaam\": \"Goes\", \"ns2:LangeNaam\": \"Goes\", \"ns2:UICCode\": \"8400253\"}, {\"ns2:StationCode\": \"ARN\", \"ns2:Type\": \"0\", \"ns2:KorteNaam\": \"Arnemuiden\", \"ns2:MiddelNaam\": \"Arnemuiden\", \"ns2:LangeNaam\": \"Arnemuiden\", \"ns2:UICCode\": \"8400069\"}, {\"ns2:StationCode\": \"MDB\", \"ns2:Type\": \"0\", \"ns2:KorteNaam\": \"Middelburg\", \"ns2:MiddelNaam\": \"Middelburg\", \"ns2:LangeNaam\": \"Middelburg\", \"ns2:UICCode\": \"8400436\"}, {\"ns2:StationCode\": \"VSS\", \"ns2:Type\": \"0\", \"ns2:KorteNaam\": \"Souburg\", \"ns2:MiddelNaam\": \"Souburg\", \"ns2:LangeNaam\": \"Vlissingen Souburg\", \"ns2:UICCode\": \"8400653\"}, {\"ns2:StationCode\": \"VS\", \"ns2:Type\": \"5\", \"ns2:KorteNaam\": \"Vlissingen\", \"ns2:MiddelNaam\": \"Vlissingen\", \"ns2:LangeNaam\": \"Vlissingen\", \"ns2:UICCode\": \"8400652\"}]}], \"ns2:MaterieelDeelDVS\": {\"ns2:MaterieelSoort\": \"VIRM\", \"ns2:MaterieelAanduiding\": \"6\", \"ns2:MaterieelLengte\": \"16210\", \"ns2:MaterieelNummer\": \"000000-08638-0\", \"ns2:MaterieelDeelEindBestemming\": [{\"@InfoStatus\": \"Gepland\", \"ns2:StationCode\": \"VS\", \"ns2:Type\": \"5\", \"ns2:KorteNaam\": \"Vlissingen\", \"ns2:MiddelNaam\": \"Vlissingen\", \"ns2:LangeNaam\": \"Vlissingen\", \"ns2:UICCode\": \"8400652\"}, {\"@InfoStatus\": \"Actueel\", \"ns2:StationCode\": \"VS\", \"ns2:Type\": \"5\", \"ns2:KorteNaam\": \"Vlissingen\", \"ns2:MiddelNaam\": \"Vlissingen\", \"ns2:LangeNaam\": \"Vlissingen\", \"ns2:UICCode\": \"8400652\"}], \"ns2:PresentatieMaterieelDeelEindBestemming\": {\"ns2:Uitingen\": {\"ns2:Uiting\": \"Vlissingen\"}}}}, \"ns2:Wijziging\": {\"ns2:WijzigingType\": \"10\", \"ns2:PresentatieWijziging\": {\"ns2:Uitingen\": [{\"@Taal\": \"nl\", \"ns2:Uiting\": {\"@Prioriteit\": \"10\", \"#text\": \"Later vertrek\"}}, {\"@Taal\": \"en\", \"ns2:Uiting\": {\"@Prioriteit\": \"10\", \"#text\": \"Delayed\"}}]}}}, \"ns2:PresentatieOpmerkingen\": {\"ns2:Uitingen\": [{\"@Taal\": \"nl\", \"ns2:Uiting\": [{\"@Prioriteit\": \"14\", \"@ReferentieType\": \"ReisTip\", \"@ReferentieWaarde\": \"STAL\", \"#text\": \"Stopt op alle tussengelegen stations\"}, {\"@Prioriteit\": \"20\", \"@ReferentieType\": \"Wijziging\", \"@ReferentieWaarde\": \"10\", \"#text\": \"Later vertrek\"}]}, {\"@Taal\": \"en\", \"ns2:Uiting\": [{\"@Prioriteit\": \"14\", \"@ReferentieType\": \"ReisTip\", \"@ReferentieWaarde\": \"STAL\", \"#text\": \"Stopping at all intervening stations\"}, {\"@Prioriteit\": \"20\", \"@ReferentieType\": \"Wijziging\", \"@ReferentieWaarde\": \"10\", \"#text\": \"Delayed\"}]}]}}}}}')\n",
      "(None, u'{\"ns1:PutReisInformatieBoodschapIn\": {\"@xmlns:ns1\": \"urn:ndov:cdm:trein:reisinformatie:messages:5\", \"@xmlns:ns2\": \"urn:ndov:cdm:trein:reisinformatie:data:4\", \"ns2:ReisInformatieProductDVS\": {\"@TimeStamp\": \"2020-05-08T19:06:44.821Z\", \"@Versie\": \"6.2\", \"ns2:RIPAdministratie\": {\"ns2:ReisInformatieProductID\": \"2005082106442100003\", \"ns2:AbonnementId\": \"54\", \"ns2:ReisInformatieTijdstip\": \"2020-05-08T19:05:00.000Z\"}, \"ns2:DynamischeVertrekStaat\": {\"ns2:RitId\": \"2262\", \"ns2:RitDatum\": \"2020-05-08\", \"ns2:RitStation\": {\"ns2:StationCode\": \"KRG\", \"ns2:Type\": \"0\", \"ns2:KorteNaam\": \"Kruiningen\", \"ns2:MiddelNaam\": \"Kruiningen-Y.\", \"ns2:LangeNaam\": \"Kruiningen-Yerseke\", \"ns2:UICCode\": \"8400370\"}, \"ns2:Trein\": {\"ns2:TreinNummer\": \"2262\", \"ns2:TreinSoort\": {\"@Code\": \"IC\", \"#text\": \"Intercity\"}, \"ns2:TreinFormule\": \"3\", \"ns2:TreinStatus\": \"5\", \"ns2:Vervoerder\": \"NS\", \"ns2:Reserveren\": \"N\", \"ns2:Toeslag\": \"N\", \"ns2:NietInstappen\": \"N\", \"ns2:AchterBlijvenAchtersteTreinDeel\": \"N\", \"ns2:RangeerBeweging\": \"N\", \"ns2:SpeciaalKaartje\": \"N\", \"ns2:ReisTip\": {\"ns2:ReisTipCode\": \"STAL\", \"ns2:PresentatieReisTip\": {\"ns2:Uitingen\": [{\"@Taal\": \"nl\", \"ns2:Uiting\": {\"@Prioriteit\": \"8\", \"#text\": \"Stopt op alle tussengelegen stations\"}}, {\"@Taal\": \"en\", \"ns2:Uiting\": {\"@Prioriteit\": \"8\", \"#text\": \"Stopping at all intervening stations\"}}]}}, \"ns2:TreinEindBestemming\": [{\"@InfoStatus\": \"Gepland\", \"ns2:StationCode\": \"VS\", \"ns2:Type\": \"5\", \"ns2:KorteNaam\": \"Vlissingen\", \"ns2:MiddelNaam\": \"Vlissingen\", \"ns2:LangeNaam\": \"Vlissingen\", \"ns2:UICCode\": \"8400652\"}, {\"@InfoStatus\": \"Actueel\", \"ns2:StationCode\": \"VS\", \"ns2:Type\": \"5\", \"ns2:KorteNaam\": \"Vlissingen\", \"ns2:MiddelNaam\": \"Vlissingen\", \"ns2:LangeNaam\": \"Vlissingen\", \"ns2:UICCode\": \"8400652\"}], \"ns2:PresentatieTreinEindBestemming\": {\"ns2:Uitingen\": {\"ns2:Uiting\": \"Vlissingen\"}}, \"ns2:VertrekTijd\": [{\"@InfoStatus\": \"Gepland\", \"#text\": \"2020-05-08T19:05:00.000Z\"}, {\"@InfoStatus\": \"Actueel\", \"#text\": \"2020-05-08T19:06:12.000Z\"}], \"ns2:ExacteVertrekVertraging\": \"PT1M12S\", \"ns2:PresentatieVertrekVertraging\": {\"ns2:Uitingen\": {\"ns2:Uiting\": \"+1 min.\"}}, \"ns2:GedempteVertrekVertraging\": \"PT0S\", \"ns2:TreinVertrekSpoor\": [{\"@InfoStatus\": \"Gepland\", \"ns2:SpoorNummer\": \"2\"}, {\"@InfoStatus\": \"Actueel\", \"ns2:SpoorNummer\": \"2\"}], \"ns2:PresentatieTreinVertrekSpoor\": {\"ns2:Uitingen\": {\"ns2:Uiting\": \"2\"}}, \"ns2:VertrekRichting\": \"B\", \"ns2:AfstandPerronEindKopVertrekTrein\": \"0\", \"ns2:TreinVleugel\": {\"ns2:TreinVleugelVertrekSpoor\": [{\"@InfoStatus\": \"Gepland\", \"ns2:SpoorNummer\": \"2\"}, {\"@InfoStatus\": \"Actueel\", \"ns2:SpoorNummer\": \"2\"}], \"ns2:PresentatieTreinVleugelVertrekSpoor\": {\"ns2:Uitingen\": {\"ns2:Uiting\": \"2\"}}, \"ns2:TreinVleugelEindBestemming\": [{\"@InfoStatus\": \"Gepland\", \"ns2:StationCode\": \"VS\", \"ns2:Type\": \"5\", \"ns2:KorteNaam\": \"Vlissingen\", \"ns2:MiddelNaam\": \"Vlissingen\", \"ns2:LangeNaam\": \"Vlissingen\", \"ns2:UICCode\": \"8400652\"}, {\"@InfoStatus\": \"Actueel\", \"ns2:StationCode\": \"VS\", \"ns2:Type\": \"5\", \"ns2:KorteNaam\": \"Vlissingen\", \"ns2:MiddelNaam\": \"Vlissingen\", \"ns2:LangeNaam\": \"Vlissingen\", \"ns2:UICCode\": \"8400652\"}], \"ns2:PresentatieTreinVleugelEindBestemming\": {\"ns2:Uitingen\": {\"ns2:Uiting\": \"Vlissingen\"}}, \"ns2:StopStations\": [{\"@InfoStatus\": \"Gepland\", \"ns2:Station\": [{\"ns2:StationCode\": \"BZL\", \"ns2:Type\": \"0\", \"ns2:KorteNaam\": \"Kapelle-Bi\", \"ns2:MiddelNaam\": \"Kapelle-Biezel.\", \"ns2:LangeNaam\": \"Kapelle-Biezelinge\", \"ns2:UICCode\": \"8400354\"}, {\"ns2:StationCode\": \"GS\", \"ns2:Type\": \"0\", \"ns2:KorteNaam\": \"Goes\", \"ns2:MiddelNaam\": \"Goes\", \"ns2:LangeNaam\": \"Goes\", \"ns2:UICCode\": \"8400253\"}, {\"ns2:StationCode\": \"ARN\", \"ns2:Type\": \"0\", \"ns2:KorteNaam\": \"Arnemuiden\", \"ns2:MiddelNaam\": \"Arnemuiden\", \"ns2:LangeNaam\": \"Arnemuiden\", \"ns2:UICCode\": \"8400069\"}, {\"ns2:StationCode\": \"MDB\", \"ns2:Type\": \"0\", \"ns2:KorteNaam\": \"Middelburg\", \"ns2:MiddelNaam\": \"Middelburg\", \"ns2:LangeNaam\": \"Middelburg\", \"ns2:UICCode\": \"8400436\"}, {\"ns2:StationCode\": \"VSS\", \"ns2:Type\": \"0\", \"ns2:KorteNaam\": \"Souburg\", \"ns2:MiddelNaam\": \"Souburg\", \"ns2:LangeNaam\": \"Vlissingen Souburg\", \"ns2:UICCode\": \"8400653\"}, {\"ns2:StationCode\": \"VS\", \"ns2:Type\": \"5\", \"ns2:KorteNaam\": \"Vlissingen\", \"ns2:MiddelNaam\": \"Vlissingen\", \"ns2:LangeNaam\": \"Vlissingen\", \"ns2:UICCode\": \"8400652\"}]}, {\"@InfoStatus\": \"Actueel\", \"ns2:Station\": [{\"ns2:StationCode\": \"BZL\", \"ns2:Type\": \"0\", \"ns2:KorteNaam\": \"Kapelle-Bi\", \"ns2:MiddelNaam\": \"Kapelle-Biezel.\", \"ns2:LangeNaam\": \"Kapelle-Biezelinge\", \"ns2:UICCode\": \"8400354\"}, {\"ns2:StationCode\": \"GS\", \"ns2:Type\": \"0\", \"ns2:KorteNaam\": \"Goes\", \"ns2:MiddelNaam\": \"Goes\", \"ns2:LangeNaam\": \"Goes\", \"ns2:UICCode\": \"8400253\"}, {\"ns2:StationCode\": \"ARN\", \"ns2:Type\": \"0\", \"ns2:KorteNaam\": \"Arnemuiden\", \"ns2:MiddelNaam\": \"Arnemuiden\", \"ns2:LangeNaam\": \"Arnemuiden\", \"ns2:UICCode\": \"8400069\"}, {\"ns2:StationCode\": \"MDB\", \"ns2:Type\": \"0\", \"ns2:KorteNaam\": \"Middelburg\", \"ns2:MiddelNaam\": \"Middelburg\", \"ns2:LangeNaam\": \"Middelburg\", \"ns2:UICCode\": \"8400436\"}, {\"ns2:StationCode\": \"VSS\", \"ns2:Type\": \"0\", \"ns2:KorteNaam\": \"Souburg\", \"ns2:MiddelNaam\": \"Souburg\", \"ns2:LangeNaam\": \"Vlissingen Souburg\", \"ns2:UICCode\": \"8400653\"}, {\"ns2:StationCode\": \"VS\", \"ns2:Type\": \"5\", \"ns2:KorteNaam\": \"Vlissingen\", \"ns2:MiddelNaam\": \"Vlissingen\", \"ns2:LangeNaam\": \"Vlissingen\", \"ns2:UICCode\": \"8400652\"}]}], \"ns2:MaterieelDeelDVS\": {\"ns2:MaterieelSoort\": \"VIRM\", \"ns2:MaterieelAanduiding\": \"6\", \"ns2:MaterieelLengte\": \"16210\", \"ns2:MaterieelNummer\": \"000000-08638-0\", \"ns2:MaterieelDeelEindBestemming\": [{\"@InfoStatus\": \"Gepland\", \"ns2:StationCode\": \"VS\", \"ns2:Type\": \"5\", \"ns2:KorteNaam\": \"Vlissingen\", \"ns2:MiddelNaam\": \"Vlissingen\", \"ns2:LangeNaam\": \"Vlissingen\", \"ns2:UICCode\": \"8400652\"}, {\"@InfoStatus\": \"Actueel\", \"ns2:StationCode\": \"VS\", \"ns2:Type\": \"5\", \"ns2:KorteNaam\": \"Vlissingen\", \"ns2:MiddelNaam\": \"Vlissingen\", \"ns2:LangeNaam\": \"Vlissingen\", \"ns2:UICCode\": \"8400652\"}], \"ns2:PresentatieMaterieelDeelEindBestemming\": {\"ns2:Uitingen\": {\"ns2:Uiting\": \"Vlissingen\"}}}}, \"ns2:Wijziging\": [{\"ns2:WijzigingType\": \"10\", \"ns2:PresentatieWijziging\": {\"ns2:Uitingen\": [{\"@Taal\": \"nl\", \"ns2:Uiting\": {\"@Prioriteit\": \"10\", \"#text\": \"Later vertrek\"}}, {\"@Taal\": \"en\", \"ns2:Uiting\": {\"@Prioriteit\": \"10\", \"#text\": \"Delayed\"}}]}}, {\"ns2:WijzigingType\": \"40\"}]}, \"ns2:PresentatieOpmerkingen\": {\"ns2:Uitingen\": [{\"@Taal\": \"nl\", \"ns2:Uiting\": [{\"@Prioriteit\": \"14\", \"@ReferentieType\": \"ReisTip\", \"@ReferentieWaarde\": \"STAL\", \"#text\": \"Stopt op alle tussengelegen stations\"}, {\"@Prioriteit\": \"20\", \"@ReferentieType\": \"Wijziging\", \"@ReferentieWaarde\": \"10\", \"#text\": \"Later vertrek\"}]}, {\"@Taal\": \"en\", \"ns2:Uiting\": [{\"@Prioriteit\": \"14\", \"@ReferentieType\": \"ReisTip\", \"@ReferentieWaarde\": \"STAL\", \"#text\": \"Stopping at all intervening stations\"}, {\"@Prioriteit\": \"20\", \"@ReferentieType\": \"Wijziging\", \"@ReferentieWaarde\": \"10\", \"#text\": \"Delayed\"}]}]}}}}}')\n",
      "(None, u'{\"ns1:PutReisInformatieBoodschapIn\": {\"@xmlns:ns1\": \"urn:ndov:cdm:trein:reisinformatie:messages:5\", \"@xmlns:ns2\": \"urn:ndov:cdm:trein:reisinformatie:data:4\", \"ns2:ReisInformatieProductDVS\": {\"@TimeStamp\": \"2020-05-08T19:06:46.738Z\", \"@Versie\": \"6.2\", \"ns2:RIPAdministratie\": {\"ns2:ReisInformatieProductID\": \"2005082106462100002\", \"ns2:AbonnementId\": \"54\", \"ns2:ReisInformatieTijdstip\": \"2020-05-08T19:06:00.000Z\"}, \"ns2:DynamischeVertrekStaat\": {\"ns2:RitId\": \"31271\", \"ns2:RitDatum\": \"2020-05-08\", \"ns2:RitStation\": {\"ns2:StationCode\": \"ZP\", \"ns2:Type\": \"5\", \"ns2:KorteNaam\": \"Zutphen\", \"ns2:MiddelNaam\": \"Zutphen\", \"ns2:LangeNaam\": \"Zutphen\", \"ns2:UICCode\": \"8400744\"}, \"ns2:Trein\": {\"ns2:TreinNummer\": \"31271\", \"ns2:TreinSoort\": {\"@Code\": \"ST\", \"#text\": \"Stoptrein\"}, \"ns2:TreinFormule\": \"1\", \"ns2:TreinStatus\": \"5\", \"ns2:Vervoerder\": \"Blauwnet\", \"ns2:Reserveren\": \"N\", \"ns2:Toeslag\": \"N\", \"ns2:NietInstappen\": \"N\", \"ns2:AchterBlijvenAchtersteTreinDeel\": \"N\", \"ns2:RangeerBeweging\": \"N\", \"ns2:SpeciaalKaartje\": \"N\", \"ns2:TreinEindBestemming\": [{\"@InfoStatus\": \"Gepland\", \"ns2:StationCode\": \"ODZ\", \"ns2:Type\": \"0\", \"ns2:KorteNaam\": \"Oldenzaal\", \"ns2:MiddelNaam\": \"Oldenzaal\", \"ns2:LangeNaam\": \"Oldenzaal\", \"ns2:UICCode\": \"8400483\"}, {\"@InfoStatus\": \"Actueel\", \"ns2:StationCode\": \"ODZ\", \"ns2:Type\": \"0\", \"ns2:KorteNaam\": \"Oldenzaal\", \"ns2:MiddelNaam\": \"Oldenzaal\", \"ns2:LangeNaam\": \"Oldenzaal\", \"ns2:UICCode\": \"8400483\"}], \"ns2:PresentatieTreinEindBestemming\": {\"ns2:Uitingen\": {\"ns2:Uiting\": \"Oldenzaal\"}}, \"ns2:VertrekTijd\": [{\"@InfoStatus\": \"Gepland\", \"#text\": \"2020-05-08T19:06:00.000Z\"}, {\"@InfoStatus\": \"Actueel\", \"#text\": \"2020-05-08T19:06:00.000Z\"}], \"ns2:ExacteVertrekVertraging\": \"PT0S\", \"ns2:GedempteVertrekVertraging\": \"PT0S\", \"ns2:TreinVertrekSpoor\": [{\"@InfoStatus\": \"Gepland\", \"ns2:SpoorNummer\": \"2\", \"ns2:SpoorFase\": \"b\"}, {\"@InfoStatus\": \"Actueel\", \"ns2:SpoorNummer\": \"2\", \"ns2:SpoorFase\": \"b\"}], \"ns2:PresentatieTreinVertrekSpoor\": {\"ns2:Uitingen\": {\"ns2:Uiting\": \"2b\"}}, \"ns2:VertrekRichting\": \"A\", \"ns2:AfstandPerronEindKopVertrekTrein\": \"0\", \"ns2:VerkorteRoute\": [{\"@InfoStatus\": \"Gepland\", \"ns2:Station\": {\"ns2:StationCode\": \"HGL\", \"ns2:Type\": \"5\", \"ns2:KorteNaam\": \"Hengelo\", \"ns2:MiddelNaam\": \"Hengelo\", \"ns2:LangeNaam\": \"Hengelo\", \"ns2:UICCode\": \"8400316\"}}, {\"@InfoStatus\": \"Actueel\", \"ns2:Station\": {\"ns2:StationCode\": \"HGL\", \"ns2:Type\": \"5\", \"ns2:KorteNaam\": \"Hengelo\", \"ns2:MiddelNaam\": \"Hengelo\", \"ns2:LangeNaam\": \"Hengelo\", \"ns2:UICCode\": \"8400316\"}}], \"ns2:PresentatieVerkorteRoute\": {\"ns2:Uitingen\": {\"ns2:Uiting\": \"Hengelo\"}}, \"ns2:TreinVleugel\": {\"ns2:TreinVleugelVertrekSpoor\": [{\"@InfoStatus\": \"Gepland\", \"ns2:SpoorNummer\": \"2\", \"ns2:SpoorFase\": \"b\"}, {\"@InfoStatus\": \"Actueel\", \"ns2:SpoorNummer\": \"2\", \"ns2:SpoorFase\": \"b\"}], \"ns2:PresentatieTreinVleugelVertrekSpoor\": {\"ns2:Uitingen\": {\"ns2:Uiting\": \"2b\"}}, \"ns2:TreinVleugelEindBestemming\": [{\"@InfoStatus\": \"Gepland\", \"ns2:StationCode\": \"ODZ\", \"ns2:Type\": \"0\", \"ns2:KorteNaam\": \"Oldenzaal\", \"ns2:MiddelNaam\": \"Oldenzaal\", \"ns2:LangeNaam\": \"Oldenzaal\", \"ns2:UICCode\": \"8400483\"}, {\"@InfoStatus\": \"Actueel\", \"ns2:StationCode\": \"ODZ\", \"ns2:Type\": \"0\", \"ns2:KorteNaam\": \"Oldenzaal\", \"ns2:MiddelNaam\": \"Oldenzaal\", \"ns2:LangeNaam\": \"Oldenzaal\", \"ns2:UICCode\": \"8400483\"}], \"ns2:PresentatieTreinVleugelEindBestemming\": {\"ns2:Uitingen\": {\"ns2:Uiting\": \"Oldenzaal\"}}, \"ns2:StopStations\": [{\"@InfoStatus\": \"Gepland\", \"ns2:Station\": [{\"ns2:StationCode\": \"LC\", \"ns2:Type\": \"0\", \"ns2:KorteNaam\": \"Lochem\", \"ns2:MiddelNaam\": \"Lochem\", \"ns2:LangeNaam\": \"Lochem\", \"ns2:UICCode\": \"8400399\"}, {\"ns2:StationCode\": \"GO\", \"ns2:Type\": \"0\", \"ns2:KorteNaam\": \"Goor\", \"ns2:MiddelNaam\": \"Goor\", \"ns2:LangeNaam\": \"Goor\", \"ns2:UICCode\": \"8400254\"}, {\"ns2:StationCode\": \"DDN\", \"ns2:Type\": \"0\", \"ns2:KorteNaam\": \"Delden\", \"ns2:MiddelNaam\": \"Delden\", \"ns2:LangeNaam\": \"Delden\", \"ns2:UICCode\": \"8400169\"}, {\"ns2:StationCode\": \"HGLG\", \"ns2:Type\": \"0\", \"ns2:KorteNaam\": \"Gezondhprk\", \"ns2:MiddelNaam\": \"Hengelo Gezondh.\", \"ns2:LangeNaam\": \"Hengelo Gezondheidspark\", \"ns2:UICCode\": \"8400433\"}, {\"ns2:StationCode\": \"HGL\", \"ns2:Type\": \"5\", \"ns2:KorteNaam\": \"Hengelo\", \"ns2:MiddelNaam\": \"Hengelo\", \"ns2:LangeNaam\": \"Hengelo\", \"ns2:UICCode\": \"8400316\"}, {\"ns2:StationCode\": \"HGLO\", \"ns2:Type\": \"0\", \"ns2:KorteNaam\": \"Hengelo O\", \"ns2:MiddelNaam\": \"Hengelo O.\", \"ns2:LangeNaam\": \"Hengelo Oost\", \"ns2:UICCode\": \"8400312\"}, {\"ns2:StationCode\": \"ODZ\", \"ns2:Type\": \"0\", \"ns2:KorteNaam\": \"Oldenzaal\", \"ns2:MiddelNaam\": \"Oldenzaal\", \"ns2:LangeNaam\": \"Oldenzaal\", \"ns2:UICCode\": \"8400483\"}]}, {\"@InfoStatus\": \"Actueel\", \"ns2:Station\": [{\"ns2:StationCode\": \"LC\", \"ns2:Type\": \"0\", \"ns2:KorteNaam\": \"Lochem\", \"ns2:MiddelNaam\": \"Lochem\", \"ns2:LangeNaam\": \"Lochem\", \"ns2:UICCode\": \"8400399\"}, {\"ns2:StationCode\": \"GO\", \"ns2:Type\": \"0\", \"ns2:KorteNaam\": \"Goor\", \"ns2:MiddelNaam\": \"Goor\", \"ns2:LangeNaam\": \"Goor\", \"ns2:UICCode\": \"8400254\"}, {\"ns2:StationCode\": \"DDN\", \"ns2:Type\": \"0\", \"ns2:KorteNaam\": \"Delden\", \"ns2:MiddelNaam\": \"Delden\", \"ns2:LangeNaam\": \"Delden\", \"ns2:UICCode\": \"8400169\"}, {\"ns2:StationCode\": \"HGLG\", \"ns2:Type\": \"0\", \"ns2:KorteNaam\": \"Gezondhprk\", \"ns2:MiddelNaam\": \"Hengelo Gezondh.\", \"ns2:LangeNaam\": \"Hengelo Gezondheidspark\", \"ns2:UICCode\": \"8400433\"}, {\"ns2:StationCode\": \"HGL\", \"ns2:Type\": \"5\", \"ns2:KorteNaam\": \"Hengelo\", \"ns2:MiddelNaam\": \"Hengelo\", \"ns2:LangeNaam\": \"Hengelo\", \"ns2:UICCode\": \"8400316\"}, {\"ns2:StationCode\": \"HGLO\", \"ns2:Type\": \"0\", \"ns2:KorteNaam\": \"Hengelo O\", \"ns2:MiddelNaam\": \"Hengelo O.\", \"ns2:LangeNaam\": \"Hengelo Oost\", \"ns2:UICCode\": \"8400312\"}, {\"ns2:StationCode\": \"ODZ\", \"ns2:Type\": \"0\", \"ns2:KorteNaam\": \"Oldenzaal\", \"ns2:MiddelNaam\": \"Oldenzaal\", \"ns2:LangeNaam\": \"Oldenzaal\", \"ns2:UICCode\": \"8400483\"}]}], \"ns2:MaterieelDeelDVS\": {\"ns2:MaterieelSoort\": \"LINT KE\", \"ns2:MaterieelAanduiding\": \"2\", \"ns2:MaterieelLengte\": \"4100\", \"ns2:MaterieelDeelEindBestemming\": [{\"@InfoStatus\": \"Gepland\", \"ns2:StationCode\": \"ODZ\", \"ns2:Type\": \"0\", \"ns2:KorteNaam\": \"Oldenzaal\", \"ns2:MiddelNaam\": \"Oldenzaal\", \"ns2:LangeNaam\": \"Oldenzaal\", \"ns2:UICCode\": \"8400483\"}, {\"@InfoStatus\": \"Actueel\", \"ns2:StationCode\": \"ODZ\", \"ns2:Type\": \"0\", \"ns2:KorteNaam\": \"Oldenzaal\", \"ns2:MiddelNaam\": \"Oldenzaal\", \"ns2:LangeNaam\": \"Oldenzaal\", \"ns2:UICCode\": \"8400483\"}], \"ns2:PresentatieMaterieelDeelEindBestemming\": {\"ns2:Uitingen\": {\"ns2:Uiting\": \"Oldenzaal\"}}}}, \"ns2:Wijziging\": {\"ns2:WijzigingType\": \"40\"}}}}}}')\n",
      "(None, u'{\"ns1:PutReisInformatieBoodschapIn\": {\"@xmlns:ns1\": \"urn:ndov:cdm:trein:reisinformatie:messages:5\", \"@xmlns:ns2\": \"urn:ndov:cdm:trein:reisinformatie:data:4\", \"ns2:ReisInformatieProductDVS\": {\"@TimeStamp\": \"2020-05-08T19:06:46.753Z\", \"@Versie\": \"6.2\", \"ns2:RIPAdministratie\": {\"ns2:ReisInformatieProductID\": \"2005082106462100003\", \"ns2:AbonnementId\": \"54\", \"ns2:ReisInformatieTijdstip\": \"2020-05-08T19:08:00.000Z\"}, \"ns2:DynamischeVertrekStaat\": {\"ns2:RitId\": \"3370\", \"ns2:RitDatum\": \"2020-05-08\", \"ns2:RitStation\": {\"ns2:StationCode\": \"ZD\", \"ns2:Type\": \"5\", \"ns2:KorteNaam\": \"Zaandam\", \"ns2:MiddelNaam\": \"Zaandam\", \"ns2:LangeNaam\": \"Zaandam\", \"ns2:UICCode\": \"8400731\"}, \"ns2:Trein\": {\"ns2:TreinNummer\": \"3370\", \"ns2:TreinSoort\": {\"@Code\": \"SPR\", \"#text\": \"Sprinter\"}, \"ns2:TreinFormule\": \"1\", \"ns2:TreinStatus\": \"2\", \"ns2:Vervoerder\": \"NS\", \"ns2:Reserveren\": \"N\", \"ns2:Toeslag\": \"N\", \"ns2:NietInstappen\": \"N\", \"ns2:AchterBlijvenAchtersteTreinDeel\": \"N\", \"ns2:RangeerBeweging\": \"N\", \"ns2:SpeciaalKaartje\": \"N\", \"ns2:TreinEindBestemming\": [{\"@InfoStatus\": \"Gepland\", \"ns2:StationCode\": \"HNK\", \"ns2:Type\": \"0\", \"ns2:KorteNaam\": \"Hoorn Kers\", \"ns2:MiddelNaam\": \"Kersenboogerd\", \"ns2:LangeNaam\": \"Hoorn Kersenboogerd\", \"ns2:UICCode\": \"8400336\"}, {\"@InfoStatus\": \"Actueel\", \"ns2:StationCode\": \"HNK\", \"ns2:Type\": \"0\", \"ns2:KorteNaam\": \"Hoorn Kers\", \"ns2:MiddelNaam\": \"Kersenboogerd\", \"ns2:LangeNaam\": \"Hoorn Kersenboogerd\", \"ns2:UICCode\": \"8400336\"}], \"ns2:PresentatieTreinEindBestemming\": {\"ns2:Uitingen\": {\"ns2:Uiting\": \"Hoorn Kersenboogerd\"}}, \"ns2:VertrekTijd\": [{\"@InfoStatus\": \"Gepland\", \"#text\": \"2020-05-08T19:08:00.000Z\"}, {\"@InfoStatus\": \"Actueel\", \"#text\": \"2020-05-08T19:08:00.000Z\"}], \"ns2:ExacteVertrekVertraging\": \"PT0S\", \"ns2:GedempteVertrekVertraging\": \"PT0S\", \"ns2:TreinVertrekSpoor\": [{\"@InfoStatus\": \"Gepland\", \"ns2:SpoorNummer\": \"1\"}, {\"@InfoStatus\": \"Actueel\", \"ns2:SpoorNummer\": \"1\"}], \"ns2:PresentatieTreinVertrekSpoor\": {\"ns2:Uitingen\": {\"ns2:Uiting\": \"1\"}}, \"ns2:VertrekRichting\": \"A\", \"ns2:AfstandPerronEindKopVertrekTrein\": \"0\", \"ns2:VerkorteRoute\": [{\"@InfoStatus\": \"Gepland\", \"ns2:Station\": [{\"ns2:StationCode\": \"PMR\", \"ns2:Type\": \"1\", \"ns2:KorteNaam\": \"Purmerend\", \"ns2:MiddelNaam\": \"Purmerend\", \"ns2:LangeNaam\": \"Purmerend\", \"ns2:UICCode\": \"8400508\"}, {\"ns2:StationCode\": \"HN\", \"ns2:Type\": \"5\", \"ns2:KorteNaam\": \"Hoorn\", \"ns2:MiddelNaam\": \"Hoorn\", \"ns2:LangeNaam\": \"Hoorn\", \"ns2:UICCode\": \"8400337\"}]}, {\"@InfoStatus\": \"Actueel\", \"ns2:Station\": [{\"ns2:StationCode\": \"PMR\", \"ns2:Type\": \"1\", \"ns2:KorteNaam\": \"Purmerend\", \"ns2:MiddelNaam\": \"Purmerend\", \"ns2:LangeNaam\": \"Purmerend\", \"ns2:UICCode\": \"8400508\"}, {\"ns2:StationCode\": \"HN\", \"ns2:Type\": \"5\", \"ns2:KorteNaam\": \"Hoorn\", \"ns2:MiddelNaam\": \"Hoorn\", \"ns2:LangeNaam\": \"Hoorn\", \"ns2:UICCode\": \"8400337\"}]}], \"ns2:PresentatieVerkorteRoute\": {\"ns2:Uitingen\": {\"ns2:Uiting\": \"Purmerend, Hoorn\"}}, \"ns2:TreinVleugel\": {\"ns2:TreinVleugelVertrekSpoor\": [{\"@InfoStatus\": \"Gepland\", \"ns2:SpoorNummer\": \"1\"}, {\"@InfoStatus\": \"Actueel\", \"ns2:SpoorNummer\": \"1\"}], \"ns2:PresentatieTreinVleugelVertrekSpoor\": {\"ns2:Uitingen\": {\"ns2:Uiting\": \"1\"}}, \"ns2:TreinVleugelEindBestemming\": [{\"@InfoStatus\": \"Gepland\", \"ns2:StationCode\": \"HNK\", \"ns2:Type\": \"0\", \"ns2:KorteNaam\": \"Hoorn Kers\", \"ns2:MiddelNaam\": \"Kersenboogerd\", \"ns2:LangeNaam\": \"Hoorn Kersenboogerd\", \"ns2:UICCode\": \"8400336\"}, {\"@InfoStatus\": \"Actueel\", \"ns2:StationCode\": \"HNK\", \"ns2:Type\": \"0\", \"ns2:KorteNaam\": \"Hoorn Kers\", \"ns2:MiddelNaam\": \"Kersenboogerd\", \"ns2:LangeNaam\": \"Hoorn Kersenboogerd\", \"ns2:UICCode\": \"8400336\"}], \"ns2:PresentatieTreinVleugelEindBestemming\": {\"ns2:Uitingen\": {\"ns2:Uiting\": \"Hoorn Kersenboogerd\"}}, \"ns2:StopStations\": [{\"@InfoStatus\": \"Gepland\", \"ns2:Station\": [{\"ns2:StationCode\": \"ZDK\", \"ns2:Type\": \"0\", \"ns2:KorteNaam\": \"Kogerveld\", \"ns2:MiddelNaam\": \"Kogerveld\", \"ns2:LangeNaam\": \"Zaandam Kogerveld\", \"ns2:UICCode\": \"8400728\"}, {\"ns2:StationCode\": \"PMW\", \"ns2:Type\": \"0\", \"ns2:KorteNaam\": \"Weidevenne\", \"ns2:MiddelNaam\": \"Weidevenne\", \"ns2:LangeNaam\": \"Purmerend Weidevenne\", \"ns2:UICCode\": \"8400499\"}, {\"ns2:StationCode\": \"PMR\", \"ns2:Type\": \"1\", \"ns2:KorteNaam\": \"Purmerend\", \"ns2:MiddelNaam\": \"Purmerend\", \"ns2:LangeNaam\": \"Purmerend\", \"ns2:UICCode\": \"8400508\"}, {\"ns2:StationCode\": \"PMO\", \"ns2:Type\": \"0\", \"ns2:KorteNaam\": \"Overwhere\", \"ns2:MiddelNaam\": \"Overwhere\", \"ns2:LangeNaam\": \"Purmerend Overwhere\", \"ns2:UICCode\": \"8400506\"}, {\"ns2:StationCode\": \"HN\", \"ns2:Type\": \"5\", \"ns2:KorteNaam\": \"Hoorn\", \"ns2:MiddelNaam\": \"Hoorn\", \"ns2:LangeNaam\": \"Hoorn\", \"ns2:UICCode\": \"8400337\"}, {\"ns2:StationCode\": \"HNK\", \"ns2:Type\": \"0\", \"ns2:KorteNaam\": \"Hoorn Kers\", \"ns2:MiddelNaam\": \"Kersenboogerd\", \"ns2:LangeNaam\": \"Hoorn Kersenboogerd\", \"ns2:UICCode\": \"8400336\"}]}, {\"@InfoStatus\": \"Actueel\", \"ns2:Station\": [{\"ns2:StationCode\": \"ZDK\", \"ns2:Type\": \"0\", \"ns2:KorteNaam\": \"Kogerveld\", \"ns2:MiddelNaam\": \"Kogerveld\", \"ns2:LangeNaam\": \"Zaandam Kogerveld\", \"ns2:UICCode\": \"8400728\"}, {\"ns2:StationCode\": \"PMW\", \"ns2:Type\": \"0\", \"ns2:KorteNaam\": \"Weidevenne\", \"ns2:MiddelNaam\": \"Weidevenne\", \"ns2:LangeNaam\": \"Purmerend Weidevenne\", \"ns2:UICCode\": \"8400499\"}, {\"ns2:StationCode\": \"PMR\", \"ns2:Type\": \"1\", \"ns2:KorteNaam\": \"Purmerend\", \"ns2:MiddelNaam\": \"Purmerend\", \"ns2:LangeNaam\": \"Purmerend\", \"ns2:UICCode\": \"8400508\"}, {\"ns2:StationCode\": \"PMO\", \"ns2:Type\": \"0\", \"ns2:KorteNaam\": \"Overwhere\", \"ns2:MiddelNaam\": \"Overwhere\", \"ns2:LangeNaam\": \"Purmerend Overwhere\", \"ns2:UICCode\": \"8400506\"}, {\"ns2:StationCode\": \"HN\", \"ns2:Type\": \"5\", \"ns2:KorteNaam\": \"Hoorn\", \"ns2:MiddelNaam\": \"Hoorn\", \"ns2:LangeNaam\": \"Hoorn\", \"ns2:UICCode\": \"8400337\"}, {\"ns2:StationCode\": \"HNK\", \"ns2:Type\": \"0\", \"ns2:KorteNaam\": \"Hoorn Kers\", \"ns2:MiddelNaam\": \"Kersenboogerd\", \"ns2:LangeNaam\": \"Hoorn Kersenboogerd\", \"ns2:UICCode\": \"8400336\"}]}], \"ns2:MaterieelDeelDVS\": {\"ns2:MaterieelSoort\": \"SNG\", \"ns2:MaterieelAanduiding\": \"4\", \"ns2:MaterieelLengte\": \"7576\", \"ns2:MaterieelNummer\": \"000000-02731-0\", \"ns2:MaterieelDeelEindBestemming\": [{\"@InfoStatus\": \"Gepland\", \"ns2:StationCode\": \"HNK\", \"ns2:Type\": \"0\", \"ns2:KorteNaam\": \"Hoorn Kers\", \"ns2:MiddelNaam\": \"Kersenboogerd\", \"ns2:LangeNaam\": \"Hoorn Kersenboogerd\", \"ns2:UICCode\": \"8400336\"}, {\"@InfoStatus\": \"Actueel\", \"ns2:StationCode\": \"HNK\", \"ns2:Type\": \"0\", \"ns2:KorteNaam\": \"Hoorn Kers\", \"ns2:MiddelNaam\": \"Kersenboogerd\", \"ns2:LangeNaam\": \"Hoorn Kersenboogerd\", \"ns2:UICCode\": \"8400336\"}], \"ns2:PresentatieMaterieelDeelEindBestemming\": {\"ns2:Uitingen\": {\"ns2:Uiting\": \"Hoorn Kersenboogerd\"}}}}, \"ns2:Wijziging\": {\"ns2:WijzigingType\": \"40\"}}}}}}')\n",
      "(None, u'{\"ns1:PutReisInformatieBoodschapIn\": {\"@xmlns:ns1\": \"urn:ndov:cdm:trein:reisinformatie:messages:5\", \"@xmlns:ns2\": \"urn:ndov:cdm:trein:reisinformatie:data:4\", \"ns2:ReisInformatieProductDVS\": {\"@TimeStamp\": \"2020-05-08T19:06:46.855Z\", \"@Versie\": \"6.2\", \"ns2:RIPAdministratie\": {\"ns2:ReisInformatieProductID\": \"2005082106462100006\", \"ns2:AbonnementId\": \"54\", \"ns2:ReisInformatieTijdstip\": \"2020-05-08T19:10:00.000Z\"}, \"ns2:DynamischeVertrekStaat\": {\"ns2:RitId\": \"2979\", \"ns2:RitDatum\": \"2020-05-08\", \"ns2:RitStation\": {\"ns2:StationCode\": \"ASD\", \"ns2:Type\": \"6\", \"ns2:KorteNaam\": \"Amsterdm C\", \"ns2:MiddelNaam\": \"Amsterdam C.\", \"ns2:LangeNaam\": \"Amsterdam Centraal\", \"ns2:UICCode\": \"8400058\"}, \"ns2:Trein\": {\"ns2:TreinNummer\": \"2979\", \"ns2:TreinSoort\": {\"@Code\": \"IC\", \"#text\": \"Intercity\"}, \"ns2:TreinFormule\": \"3\", \"ns2:TreinStatus\": \"2\", \"ns2:Vervoerder\": \"NS\", \"ns2:Reserveren\": \"N\", \"ns2:Toeslag\": \"N\", \"ns2:NietInstappen\": \"N\", \"ns2:AchterBlijvenAchtersteTreinDeel\": \"N\", \"ns2:RangeerBeweging\": \"N\", \"ns2:SpeciaalKaartje\": \"N\", \"ns2:TreinEindBestemming\": [{\"@InfoStatus\": \"Gepland\", \"ns2:StationCode\": \"STD\", \"ns2:Type\": \"5\", \"ns2:KorteNaam\": \"Sittard\", \"ns2:MiddelNaam\": \"Sittard\", \"ns2:LangeNaam\": \"Sittard\", \"ns2:UICCode\": \"8400564\"}, {\"@InfoStatus\": \"Actueel\", \"ns2:StationCode\": \"STD\", \"ns2:Type\": \"5\", \"ns2:KorteNaam\": \"Sittard\", \"ns2:MiddelNaam\": \"Sittard\", \"ns2:LangeNaam\": \"Sittard\", \"ns2:UICCode\": \"8400564\"}], \"ns2:PresentatieTreinEindBestemming\": {\"ns2:Uitingen\": {\"ns2:Uiting\": \"Sittard\"}}, \"ns2:VertrekTijd\": [{\"@InfoStatus\": \"Gepland\", \"#text\": \"2020-05-08T19:10:00.000Z\"}, {\"@InfoStatus\": \"Actueel\", \"#text\": \"2020-05-08T19:10:00.000Z\"}], \"ns2:ExacteVertrekVertraging\": \"PT0S\", \"ns2:GedempteVertrekVertraging\": \"PT0S\", \"ns2:TreinVertrekSpoor\": [{\"@InfoStatus\": \"Gepland\", \"ns2:SpoorNummer\": \"4\", \"ns2:SpoorFase\": \"b\"}, {\"@InfoStatus\": \"Actueel\", \"ns2:SpoorNummer\": \"4\", \"ns2:SpoorFase\": \"b\"}], \"ns2:PresentatieTreinVertrekSpoor\": {\"ns2:Uitingen\": {\"ns2:Uiting\": \"4b\"}}, \"ns2:VertrekRichting\": \"B\", \"ns2:AfstandPerronEindKopVertrekTrein\": \"0\", \"ns2:VerkorteRoute\": [{\"@InfoStatus\": \"Gepland\", \"ns2:Station\": [{\"ns2:StationCode\": \"ASA\", \"ns2:Type\": \"4\", \"ns2:KorteNaam\": \"Amstel\", \"ns2:MiddelNaam\": \"Amstel\", \"ns2:LangeNaam\": \"Amsterdam Amstel\", \"ns2:UICCode\": \"8400057\"}, {\"ns2:StationCode\": \"UT\", \"ns2:Type\": \"6\", \"ns2:KorteNaam\": \"Utrecht C\", \"ns2:MiddelNaam\": \"Utrecht C.\", \"ns2:LangeNaam\": \"Utrecht Centraal\", \"ns2:UICCode\": \"8400621\"}, {\"ns2:StationCode\": \"HT\", \"ns2:Type\": \"5\", \"ns2:KorteNaam\": \"Den Bosch\", \"ns2:MiddelNaam\": \"\\'s-Hertogenbosch\", \"ns2:LangeNaam\": \"\\'s-Hertogenbosch\", \"ns2:UICCode\": \"8400319\"}, {\"ns2:StationCode\": \"EHV\", \"ns2:Type\": \"6\", \"ns2:KorteNaam\": \"Eindhovn C\", \"ns2:MiddelNaam\": \"Eindhoven C.\", \"ns2:LangeNaam\": \"Eindhoven Centraal\", \"ns2:UICCode\": \"8400206\"}]}, {\"@InfoStatus\": \"Actueel\", \"ns2:Station\": [{\"ns2:StationCode\": \"ASA\", \"ns2:Type\": \"4\", \"ns2:KorteNaam\": \"Amstel\", \"ns2:MiddelNaam\": \"Amstel\", \"ns2:LangeNaam\": \"Amsterdam Amstel\", \"ns2:UICCode\": \"8400057\"}, {\"ns2:StationCode\": \"UT\", \"ns2:Type\": \"6\", \"ns2:KorteNaam\": \"Utrecht C\", \"ns2:MiddelNaam\": \"Utrecht C.\", \"ns2:LangeNaam\": \"Utrecht Centraal\", \"ns2:UICCode\": \"8400621\"}, {\"ns2:StationCode\": \"HT\", \"ns2:Type\": \"5\", \"ns2:KorteNaam\": \"Den Bosch\", \"ns2:MiddelNaam\": \"\\'s-Hertogenbosch\", \"ns2:LangeNaam\": \"\\'s-Hertogenbosch\", \"ns2:UICCode\": \"8400319\"}, {\"ns2:StationCode\": \"EHV\", \"ns2:Type\": \"6\", \"ns2:KorteNaam\": \"Eindhovn C\", \"ns2:MiddelNaam\": \"Eindhoven C.\", \"ns2:LangeNaam\": \"Eindhoven Centraal\", \"ns2:UICCode\": \"8400206\"}]}], \"ns2:PresentatieVerkorteRoute\": {\"ns2:Uitingen\": {\"ns2:Uiting\": \"Amstel, Utrecht C., \\'s-Hertogenbosch, Eindhoven C.\"}}, \"ns2:TreinVleugel\": {\"ns2:TreinVleugelVertrekSpoor\": [{\"@InfoStatus\": \"Gepland\", \"ns2:SpoorNummer\": \"4\", \"ns2:SpoorFase\": \"b\"}, {\"@InfoStatus\": \"Actueel\", \"ns2:SpoorNummer\": \"4\", \"ns2:SpoorFase\": \"b\"}], \"ns2:PresentatieTreinVleugelVertrekSpoor\": {\"ns2:Uitingen\": {\"ns2:Uiting\": \"4b\"}}, \"ns2:TreinVleugelEindBestemming\": [{\"@InfoStatus\": \"Gepland\", \"ns2:StationCode\": \"STD\", \"ns2:Type\": \"5\", \"ns2:KorteNaam\": \"Sittard\", \"ns2:MiddelNaam\": \"Sittard\", \"ns2:LangeNaam\": \"Sittard\", \"ns2:UICCode\": \"8400564\"}, {\"@InfoStatus\": \"Actueel\", \"ns2:StationCode\": \"STD\", \"ns2:Type\": \"5\", \"ns2:KorteNaam\": \"Sittard\", \"ns2:MiddelNaam\": \"Sittard\", \"ns2:LangeNaam\": \"Sittard\", \"ns2:UICCode\": \"8400564\"}], \"ns2:PresentatieTreinVleugelEindBestemming\": {\"ns2:Uitingen\": {\"ns2:Uiting\": \"Sittard\"}}, \"ns2:StopStations\": [{\"@InfoStatus\": \"Gepland\", \"ns2:Station\": [{\"ns2:StationCode\": \"ASA\", \"ns2:Type\": \"4\", \"ns2:KorteNaam\": \"Amstel\", \"ns2:MiddelNaam\": \"Amstel\", \"ns2:LangeNaam\": \"Amsterdam Amstel\", \"ns2:UICCode\": \"8400057\"}, {\"ns2:StationCode\": \"UT\", \"ns2:Type\": \"6\", \"ns2:KorteNaam\": \"Utrecht C\", \"ns2:MiddelNaam\": \"Utrecht C.\", \"ns2:LangeNaam\": \"Utrecht Centraal\", \"ns2:UICCode\": \"8400621\"}, {\"ns2:StationCode\": \"HT\", \"ns2:Type\": \"5\", \"ns2:KorteNaam\": \"Den Bosch\", \"ns2:MiddelNaam\": \"\\'s-Hertogenbosch\", \"ns2:LangeNaam\": \"\\'s-Hertogenbosch\", \"ns2:UICCode\": \"8400319\"}, {\"ns2:StationCode\": \"EHV\", \"ns2:Type\": \"6\", \"ns2:KorteNaam\": \"Eindhovn C\", \"ns2:MiddelNaam\": \"Eindhoven C.\", \"ns2:LangeNaam\": \"Eindhoven Centraal\", \"ns2:UICCode\": \"8400206\"}, {\"ns2:StationCode\": \"WT\", \"ns2:Type\": \"4\", \"ns2:KorteNaam\": \"Weert\", \"ns2:MiddelNaam\": \"Weert\", \"ns2:LangeNaam\": \"Weert\", \"ns2:UICCode\": \"8400684\"}, {\"ns2:StationCode\": \"RM\", \"ns2:Type\": \"5\", \"ns2:KorteNaam\": \"Roermond\", \"ns2:MiddelNaam\": \"Roermond\", \"ns2:LangeNaam\": \"Roermond\", \"ns2:UICCode\": \"8400523\"}, {\"ns2:StationCode\": \"STD\", \"ns2:Type\": \"5\", \"ns2:KorteNaam\": \"Sittard\", \"ns2:MiddelNaam\": \"Sittard\", \"ns2:LangeNaam\": \"Sittard\", \"ns2:UICCode\": \"8400564\"}]}, {\"@InfoStatus\": \"Actueel\", \"ns2:Station\": [{\"ns2:StationCode\": \"ASA\", \"ns2:Type\": \"4\", \"ns2:KorteNaam\": \"Amstel\", \"ns2:MiddelNaam\": \"Amstel\", \"ns2:LangeNaam\": \"Amsterdam Amstel\", \"ns2:UICCode\": \"8400057\"}, {\"ns2:StationCode\": \"UT\", \"ns2:Type\": \"6\", \"ns2:KorteNaam\": \"Utrecht C\", \"ns2:MiddelNaam\": \"Utrecht C.\", \"ns2:LangeNaam\": \"Utrecht Centraal\", \"ns2:UICCode\": \"8400621\"}, {\"ns2:StationCode\": \"HT\", \"ns2:Type\": \"5\", \"ns2:KorteNaam\": \"Den Bosch\", \"ns2:MiddelNaam\": \"\\'s-Hertogenbosch\", \"ns2:LangeNaam\": \"\\'s-Hertogenbosch\", \"ns2:UICCode\": \"8400319\"}, {\"ns2:StationCode\": \"EHV\", \"ns2:Type\": \"6\", \"ns2:KorteNaam\": \"Eindhovn C\", \"ns2:MiddelNaam\": \"Eindhoven C.\", \"ns2:LangeNaam\": \"Eindhoven Centraal\", \"ns2:UICCode\": \"8400206\"}, {\"ns2:StationCode\": \"WT\", \"ns2:Type\": \"4\", \"ns2:KorteNaam\": \"Weert\", \"ns2:MiddelNaam\": \"Weert\", \"ns2:LangeNaam\": \"Weert\", \"ns2:UICCode\": \"8400684\"}, {\"ns2:StationCode\": \"RM\", \"ns2:Type\": \"5\", \"ns2:KorteNaam\": \"Roermond\", \"ns2:MiddelNaam\": \"Roermond\", \"ns2:LangeNaam\": \"Roermond\", \"ns2:UICCode\": \"8400523\"}, {\"ns2:StationCode\": \"STD\", \"ns2:Type\": \"5\", \"ns2:KorteNaam\": \"Sittard\", \"ns2:MiddelNaam\": \"Sittard\", \"ns2:LangeNaam\": \"Sittard\", \"ns2:UICCode\": \"8400564\"}]}], \"ns2:MaterieelDeelDVS\": {\"ns2:MaterieelSoort\": \"VIRM\", \"ns2:MaterieelAanduiding\": \"6\", \"ns2:MaterieelLengte\": \"16210\", \"ns2:MaterieelNummer\": \"000000-08735-0\", \"ns2:MaterieelDeelEindBestemming\": [{\"@InfoStatus\": \"Gepland\", \"ns2:StationCode\": \"STD\", \"ns2:Type\": \"5\", \"ns2:KorteNaam\": \"Sittard\", \"ns2:MiddelNaam\": \"Sittard\", \"ns2:LangeNaam\": \"Sittard\", \"ns2:UICCode\": \"8400564\"}, {\"@InfoStatus\": \"Actueel\", \"ns2:StationCode\": \"STD\", \"ns2:Type\": \"5\", \"ns2:KorteNaam\": \"Sittard\", \"ns2:MiddelNaam\": \"Sittard\", \"ns2:LangeNaam\": \"Sittard\", \"ns2:UICCode\": \"8400564\"}], \"ns2:PresentatieMaterieelDeelEindBestemming\": {\"ns2:Uitingen\": {\"ns2:Uiting\": \"Sittard\"}}}}, \"ns2:Wijziging\": {\"ns2:WijzigingType\": \"40\"}}}}}}')\n",
      "..."
     ]
    }
   ],
   "source": [
    "ssc.stop(stopSparkContext=False)"
   ]
  },
  {
   "cell_type": "markdown",
   "metadata": {},
   "source": [
    "You will need to adjust the batch interval (10 seconds here) in accordance with the processing times. Use the spark UI to check if batches are not accumulating."
   ]
  },
  {
   "cell_type": "markdown",
   "metadata": {},
   "source": [
    "---"
   ]
  },
  {
   "cell_type": "markdown",
   "metadata": {},
   "source": [
    "# Part III - Live stopping time (20 points / 50)"
   ]
  },
  {
   "cell_type": "markdown",
   "metadata": {},
   "source": [
    "In this part, we will have a look at the two other streams, namely `ndovloketnl-arrivals` and `ndovloketnl-departures`. Each time a train arrives at or leaves a station, a message is generated. Let's have a look at the content."
   ]
  },
  {
   "cell_type": "code",
   "execution_count": 11,
   "metadata": {
    "scrolled": true
   },
   "outputs": [
    {
     "data": {
      "application/vnd.jupyter.widget-view+json": {
       "model_id": "",
       "version_major": 2,
       "version_minor": 0
      },
      "text/plain": [
       "FloatProgress(value=0.0, bar_style='info', description='Progress:', layout=Layout(height='25px', width='50%'),…"
      ]
     },
     "metadata": {},
     "output_type": "display_data"
    },
    {
     "name": "stdout",
     "output_type": "stream",
     "text": [
      "{\n",
      "  \"ns1:PutReisInformatieBoodschapIn\": {\n",
      "    \"@xmlns:ns1\": \"urn:ndov:cdm:trein:reisinformatie:messages:dynamischeaankomststaat:1\", \n",
      "    \"@xmlns:ns2\": \"urn:ndov:cdm:trein:reisinformatie:data:4\", \n",
      "    \"ns2:ReisInformatieProductDAS\": {\n",
      "      \"ns2:RIPAdministratie\": {\n",
      "        \"ns2:ReisInformatieTijdstip\": \"2020-04-17T10:54:00.000Z\", \n",
      "        \"ns2:ReisInformatieProductID\": \"2004171254422300001\", \n",
      "        \"ns2:AbonnementId\": \"55\"\n",
      "      }, \n",
      "      \"@TimeStamp\": \"2020-04-17T10:54:42.098Z\", \n",
      "      \"@Versie\": \"6.1\", \n",
      "      \"ns2:DynamischeAankomstStaat\": {\n",
      "        \"ns2:RitId\": \"6945\", \n",
      "        \"ns2:RitStation\": {\n",
      "          \"ns2:LangeNaam\": \"Utrecht Vaartsche Rijn\", \n",
      "          \"ns2:MiddelNaam\": \"Vaartsche Rijn\", \n",
      "          \"ns2:StationCode\": \"UTVR\", \n",
      "          \"ns2:Type\": \"1\", \n",
      "          \"ns2:UICCode\": \"8400606\", \n",
      "          \"ns2:KorteNaam\": \"VaartscheR\"\n",
      "        }, \n",
      "        \"ns2:TreinAankomst\": {\n",
      "          \"ns2:TreinHerkomst\": [\n",
      "            {\n",
      "              \"ns2:LangeNaam\": \"Den Haag Centraal\", \n",
      "              \"@InfoStatus\": \"Gepland\", \n",
      "              \"ns2:MiddelNaam\": \"Den Haag C.\", \n",
      "              \"ns2:StationCode\": \"GVC\", \n",
      "              \"ns2:Type\": \"6\", \n",
      "              \"ns2:UICCode\": \"8400282\", \n",
      "              \"ns2:KorteNaam\": \"Den Haag C\"\n",
      "            }, \n",
      "            {\n",
      "              \"ns2:LangeNaam\": \"Den Haag Centraal\", \n",
      "              \"@InfoStatus\": \"Actueel\", \n",
      "              \"ns2:MiddelNaam\": \"Den Haag C.\", \n",
      "              \"ns2:StationCode\": \"GVC\", \n",
      "              \"ns2:Type\": \"6\", \n",
      "              \"ns2:UICCode\": \"8400282\", \n",
      "              \"ns2:KorteNaam\": \"Den Haag C\"\n",
      "            }\n",
      "          ], \n",
      "          \"ns2:TreinSoort\": {\n",
      "            \"@Code\": \"SPR\", \n",
      "            \"#text\": \"Sprinter\"\n",
      "          }, \n",
      "          \"ns2:WijzigingHerkomst\": {\n",
      "            \"ns2:WijzigingType\": \"40\"\n",
      "          }, \n",
      "          \"ns2:VerkorteRouteHerkomst\": [\n",
      "            {\n",
      "              \"ns2:Station\": [\n",
      "                {\n",
      "                  \"ns2:LangeNaam\": \"Zoetermeer\", \n",
      "                  \"ns2:MiddelNaam\": \"Zoetermeer\", \n",
      "                  \"ns2:StationCode\": \"ZTM\", \n",
      "                  \"ns2:Type\": \"1\", \n",
      "                  \"ns2:UICCode\": \"8400741\", \n",
      "                  \"ns2:KorteNaam\": \"Zoetermeer\"\n",
      "                }, \n",
      "                {\n",
      "                  \"ns2:LangeNaam\": \"Gouda\", \n",
      "                  \"ns2:MiddelNaam\": \"Gouda\", \n",
      "                  \"ns2:StationCode\": \"GD\", \n",
      "                  \"ns2:Type\": \"5\", \n",
      "                  \"ns2:UICCode\": \"8400258\", \n",
      "                  \"ns2:KorteNaam\": \"Gouda\"\n",
      "                }, \n",
      "                {\n",
      "                  \"ns2:LangeNaam\": \"Woerden\", \n",
      "                  \"ns2:MiddelNaam\": \"Woerden\", \n",
      "                  \"ns2:StationCode\": \"WD\", \n",
      "                  \"ns2:Type\": \"1\", \n",
      "                  \"ns2:UICCode\": \"8400702\", \n",
      "                  \"ns2:KorteNaam\": \"Woerden\"\n",
      "                }, \n",
      "                {\n",
      "                  \"ns2:LangeNaam\": \"Utrecht Centraal\", \n",
      "                  \"ns2:MiddelNaam\": \"Utrecht C.\", \n",
      "                  \"ns2:StationCode\": \"UT\", \n",
      "                  \"ns2:Type\": \"6\", \n",
      "                  \"ns2:UICCode\": \"8400621\", \n",
      "                  \"ns2:KorteNaam\": \"Utrecht C\"\n",
      "                }\n",
      "              ], \n",
      "              \"@InfoStatus\": \"Gepland\"\n",
      "            }, \n",
      "            {\n",
      "              \"ns2:Station\": [\n",
      "                {\n",
      "                  \"ns2:LangeNaam\": \"Zoetermeer\", \n",
      "                  \"ns2:MiddelNaam\": \"Zoetermeer\", \n",
      "                  \"ns2:StationCode\": \"ZTM\", \n",
      "                  \"ns2:Type\": \"1\", \n",
      "                  \"ns2:UICCode\": \"8400741\", \n",
      "                  \"ns2:KorteNaam\": \"Zoetermeer\"\n",
      "                }, \n",
      "                {\n",
      "                  \"ns2:LangeNaam\": \"Gouda\", \n",
      "                  \"ns2:MiddelNaam\": \"Gouda\", \n",
      "                  \"ns2:StationCode\": \"GD\", \n",
      "                  \"ns2:Type\": \"5\", \n",
      "                  \"ns2:UICCode\": \"8400258\", \n",
      "                  \"ns2:KorteNaam\": \"Gouda\"\n",
      "                }, \n",
      "                {\n",
      "                  \"ns2:LangeNaam\": \"Woerden\", \n",
      "                  \"ns2:MiddelNaam\": \"Woerden\", \n",
      "                  \"ns2:StationCode\": \"WD\", \n",
      "                  \"ns2:Type\": \"1\", \n",
      "                  \"ns2:UICCode\": \"8400702\", \n",
      "                  \"ns2:KorteNaam\": \"Woerden\"\n",
      "                }, \n",
      "                {\n",
      "                  \"ns2:LangeNaam\": \"Utrecht Centraal\", \n",
      "                  \"ns2:MiddelNaam\": \"Utrecht C.\", \n",
      "                  \"ns2:StationCode\": \"UT\", \n",
      "                  \"ns2:Type\": \"6\", \n",
      "                  \"ns2:UICCode\": \"8400621\", \n",
      "                  \"ns2:KorteNaam\": \"Utrecht C\"\n",
      "                }\n",
      "              ], \n",
      "              \"@InfoStatus\": \"Actueel\"\n",
      "            }\n",
      "          ], \n",
      "          \"ns2:PresentatieTreinAankomstSpoor\": {\n",
      "            \"ns2:Uitingen\": {\n",
      "              \"ns2:Uiting\": \"4\"\n",
      "            }\n",
      "          }, \n",
      "          \"ns2:TreinStatus\": \"5\", \n",
      "          \"ns2:PresentatieVerkorteRouteHerkomst\": {\n",
      "            \"ns2:Uitingen\": {\n",
      "              \"ns2:Uiting\": \"Zoetermeer, Gouda, Woerden, Utrecht C.\"\n",
      "            }\n",
      "          }, \n",
      "          \"ns2:AankomstTijd\": [\n",
      "            {\n",
      "              \"@InfoStatus\": \"Gepland\", \n",
      "              \"#text\": \"2020-04-17T10:54:00.000Z\"\n",
      "            }, \n",
      "            {\n",
      "              \"@InfoStatus\": \"Actueel\", \n",
      "              \"#text\": \"2020-04-17T10:54:00.000Z\"\n",
      "            }\n",
      "          ], \n",
      "          \"ns2:TreinNummer\": \"6945\", \n",
      "          \"ns2:TreinAankomstSpoor\": [\n",
      "            {\n",
      "              \"@InfoStatus\": \"Gepland\", \n",
      "              \"ns2:SpoorNummer\": \"4\"\n",
      "            }, \n",
      "            {\n",
      "              \"@InfoStatus\": \"Actueel\", \n",
      "              \"ns2:SpoorNummer\": \"4\"\n",
      "            }\n",
      "          ], \n",
      "          \"ns2:PresentatieTreinHerkomst\": {\n",
      "            \"ns2:Uitingen\": {\n",
      "              \"ns2:Uiting\": \"Den Haag C.\"\n",
      "            }\n",
      "          }, \n",
      "          \"ns2:GedempteAankomstVertraging\": \"PT0S\", \n",
      "          \"ns2:ExacteAankomstVertraging\": \"PT0S\", \n",
      "          \"ns2:Vervoerder\": \"NS\"\n",
      "        }, \n",
      "        \"ns2:RitDatum\": \"2020-04-17\"\n",
      "      }\n",
      "    }\n",
      "  }\n",
      "}"
     ]
    }
   ],
   "source": [
    "import json\n",
    "from pykafka.common import OffsetType\n",
    "\n",
    "example_arrivals = client.topics[b'ndovloketnl-arrivals'].get_simple_consumer(\n",
    "    auto_offset_reset=OffsetType.EARLIEST,\n",
    "    reset_offset_on_start=True\n",
    ").consume()\n",
    "print(json.dumps(json.loads(example_arrivals.value), indent=2))"
   ]
  },
  {
   "cell_type": "code",
   "execution_count": 12,
   "metadata": {
    "scrolled": true
   },
   "outputs": [
    {
     "data": {
      "application/vnd.jupyter.widget-view+json": {
       "model_id": "",
       "version_major": 2,
       "version_minor": 0
      },
      "text/plain": [
       "FloatProgress(value=0.0, bar_style='info', description='Progress:', layout=Layout(height='25px', width='50%'),…"
      ]
     },
     "metadata": {},
     "output_type": "display_data"
    },
    {
     "name": "stdout",
     "output_type": "stream",
     "text": [
      "{\n",
      "  \"ns1:PutReisInformatieBoodschapIn\": {\n",
      "    \"@xmlns:ns1\": \"urn:ndov:cdm:trein:reisinformatie:messages:5\", \n",
      "    \"ns2:ReisInformatieProductDVS\": {\n",
      "      \"ns2:RIPAdministratie\": {\n",
      "        \"ns2:ReisInformatieTijdstip\": \"2020-04-23T15:32:00.000Z\", \n",
      "        \"ns2:ReisInformatieProductID\": \"2004231730412200003\", \n",
      "        \"ns2:AbonnementId\": \"54\"\n",
      "      }, \n",
      "      \"@TimeStamp\": \"2020-04-23T15:30:41.815Z\", \n",
      "      \"@Versie\": \"6.2\", \n",
      "      \"ns2:DynamischeVertrekStaat\": {\n",
      "        \"ns2:RitId\": \"7363\", \n",
      "        \"ns2:RitStation\": {\n",
      "          \"ns2:LangeNaam\": \"Maarssen\", \n",
      "          \"ns2:MiddelNaam\": \"Maarssen\", \n",
      "          \"ns2:StationCode\": \"MAS\", \n",
      "          \"ns2:Type\": \"0\", \n",
      "          \"ns2:UICCode\": \"8400419\", \n",
      "          \"ns2:KorteNaam\": \"Maarssen\"\n",
      "        }, \n",
      "        \"ns2:RitDatum\": \"2020-04-23\", \n",
      "        \"ns2:Trein\": {\n",
      "          \"ns2:VertrekRichting\": \"B\", \n",
      "          \"ns2:VertrekTijd\": [\n",
      "            {\n",
      "              \"@InfoStatus\": \"Gepland\", \n",
      "              \"#text\": \"2020-04-23T15:32:00.000Z\"\n",
      "            }, \n",
      "            {\n",
      "              \"@InfoStatus\": \"Actueel\", \n",
      "              \"#text\": \"2020-04-23T15:32:00.000Z\"\n",
      "            }\n",
      "          ], \n",
      "          \"ns2:RangeerBeweging\": \"N\", \n",
      "          \"ns2:PresentatieTreinVertrekSpoor\": {\n",
      "            \"ns2:Uitingen\": {\n",
      "              \"ns2:Uiting\": \"3\"\n",
      "            }\n",
      "          }, \n",
      "          \"ns2:NietInstappen\": \"N\", \n",
      "          \"ns2:PresentatieVerkorteRoute\": {\n",
      "            \"ns2:Uitingen\": {\n",
      "              \"ns2:Uiting\": \"Utrecht C., Vaartsche Rijn, Driebergen-Zeist, Maarn\"\n",
      "            }\n",
      "          }, \n",
      "          \"ns2:TreinStatus\": \"2\", \n",
      "          \"ns2:TreinNummer\": \"7363\", \n",
      "          \"ns2:ExacteVertrekVertraging\": \"PT0S\", \n",
      "          \"ns2:Wijziging\": {\n",
      "            \"ns2:WijzigingType\": \"40\"\n",
      "          }, \n",
      "          \"ns2:TreinVleugel\": {\n",
      "            \"ns2:PresentatieTreinVleugelVertrekSpoor\": {\n",
      "              \"ns2:Uitingen\": {\n",
      "                \"ns2:Uiting\": \"3\"\n",
      "              }\n",
      "            }, \n",
      "            \"ns2:TreinVleugelVertrekSpoor\": [\n",
      "              {\n",
      "                \"@InfoStatus\": \"Gepland\", \n",
      "                \"ns2:SpoorNummer\": \"3\"\n",
      "              }, \n",
      "              {\n",
      "                \"@InfoStatus\": \"Actueel\", \n",
      "                \"ns2:SpoorNummer\": \"3\"\n",
      "              }\n",
      "            ], \n",
      "            \"ns2:StopStations\": [\n",
      "              {\n",
      "                \"ns2:Station\": [\n",
      "                  {\n",
      "                    \"ns2:LangeNaam\": \"Utrecht Zuilen\", \n",
      "                    \"ns2:MiddelNaam\": \"Zuilen\", \n",
      "                    \"ns2:StationCode\": \"UTZL\", \n",
      "                    \"ns2:Type\": \"0\", \n",
      "                    \"ns2:UICCode\": \"8400613\", \n",
      "                    \"ns2:KorteNaam\": \"Zuilen\"\n",
      "                  }, \n",
      "                  {\n",
      "                    \"ns2:LangeNaam\": \"Utrecht Centraal\", \n",
      "                    \"ns2:MiddelNaam\": \"Utrecht C.\", \n",
      "                    \"ns2:StationCode\": \"UT\", \n",
      "                    \"ns2:Type\": \"6\", \n",
      "                    \"ns2:UICCode\": \"8400621\", \n",
      "                    \"ns2:KorteNaam\": \"Utrecht C\"\n",
      "                  }, \n",
      "                  {\n",
      "                    \"ns2:LangeNaam\": \"Utrecht Vaartsche Rijn\", \n",
      "                    \"ns2:MiddelNaam\": \"Vaartsche Rijn\", \n",
      "                    \"ns2:StationCode\": \"UTVR\", \n",
      "                    \"ns2:Type\": \"1\", \n",
      "                    \"ns2:UICCode\": \"8400606\", \n",
      "                    \"ns2:KorteNaam\": \"VaartscheR\"\n",
      "                  }, \n",
      "                  {\n",
      "                    \"ns2:LangeNaam\": \"Bunnik\", \n",
      "                    \"ns2:MiddelNaam\": \"Bunnik\", \n",
      "                    \"ns2:StationCode\": \"BNK\", \n",
      "                    \"ns2:Type\": \"0\", \n",
      "                    \"ns2:UICCode\": \"8400141\", \n",
      "                    \"ns2:KorteNaam\": \"Bunnik\"\n",
      "                  }, \n",
      "                  {\n",
      "                    \"ns2:LangeNaam\": \"Driebergen-Zeist\", \n",
      "                    \"ns2:MiddelNaam\": \"Driebergen-Zeist\", \n",
      "                    \"ns2:StationCode\": \"DB\", \n",
      "                    \"ns2:Type\": \"1\", \n",
      "                    \"ns2:UICCode\": \"8400182\", \n",
      "                    \"ns2:KorteNaam\": \"Driebergen\"\n",
      "                  }, \n",
      "                  {\n",
      "                    \"ns2:LangeNaam\": \"Maarn\", \n",
      "                    \"ns2:MiddelNaam\": \"Maarn\", \n",
      "                    \"ns2:StationCode\": \"MRN\", \n",
      "                    \"ns2:Type\": \"1\", \n",
      "                    \"ns2:UICCode\": \"8400417\", \n",
      "                    \"ns2:KorteNaam\": \"Maarn\"\n",
      "                  }, \n",
      "                  {\n",
      "                    \"ns2:LangeNaam\": \"Veenendaal West\", \n",
      "                    \"ns2:MiddelNaam\": \"Veenendaal W.\", \n",
      "                    \"ns2:StationCode\": \"VNDW\", \n",
      "                    \"ns2:Type\": \"0\", \n",
      "                    \"ns2:UICCode\": \"8400628\", \n",
      "                    \"ns2:KorteNaam\": \"Veenendl W\"\n",
      "                  }, \n",
      "                  {\n",
      "                    \"ns2:LangeNaam\": \"Veenendaal Centrum\", \n",
      "                    \"ns2:MiddelNaam\": \"Veenendaal C.\", \n",
      "                    \"ns2:StationCode\": \"VNDC\", \n",
      "                    \"ns2:Type\": \"1\", \n",
      "                    \"ns2:UICCode\": \"8400627\", \n",
      "                    \"ns2:KorteNaam\": \"Veenendl C\"\n",
      "                  }, \n",
      "                  {\n",
      "                    \"ns2:LangeNaam\": \"Rhenen\", \n",
      "                    \"ns2:MiddelNaam\": \"Rhenen\", \n",
      "                    \"ns2:StationCode\": \"RHN\", \n",
      "                    \"ns2:Type\": \"1\", \n",
      "                    \"ns2:UICCode\": \"8400517\", \n",
      "                    \"ns2:KorteNaam\": \"Rhenen\"\n",
      "                  }\n",
      "                ], \n",
      "                \"@InfoStatus\": \"Gepland\"\n",
      "              }, \n",
      "              {\n",
      "                \"ns2:Station\": [\n",
      "                  {\n",
      "                    \"ns2:LangeNaam\": \"Utrecht Zuilen\", \n",
      "                    \"ns2:MiddelNaam\": \"Zuilen\", \n",
      "                    \"ns2:StationCode\": \"UTZL\", \n",
      "                    \"ns2:Type\": \"0\", \n",
      "                    \"ns2:UICCode\": \"8400613\", \n",
      "                    \"ns2:KorteNaam\": \"Zuilen\"\n",
      "                  }, \n",
      "                  {\n",
      "                    \"ns2:LangeNaam\": \"Utrecht Centraal\", \n",
      "                    \"ns2:MiddelNaam\": \"Utrecht C.\", \n",
      "                    \"ns2:StationCode\": \"UT\", \n",
      "                    \"ns2:Type\": \"6\", \n",
      "                    \"ns2:UICCode\": \"8400621\", \n",
      "                    \"ns2:KorteNaam\": \"Utrecht C\"\n",
      "                  }, \n",
      "                  {\n",
      "                    \"ns2:LangeNaam\": \"Utrecht Vaartsche Rijn\", \n",
      "                    \"ns2:MiddelNaam\": \"Vaartsche Rijn\", \n",
      "                    \"ns2:StationCode\": \"UTVR\", \n",
      "                    \"ns2:Type\": \"1\", \n",
      "                    \"ns2:UICCode\": \"8400606\", \n",
      "                    \"ns2:KorteNaam\": \"VaartscheR\"\n",
      "                  }, \n",
      "                  {\n",
      "                    \"ns2:LangeNaam\": \"Bunnik\", \n",
      "                    \"ns2:MiddelNaam\": \"Bunnik\", \n",
      "                    \"ns2:StationCode\": \"BNK\", \n",
      "                    \"ns2:Type\": \"0\", \n",
      "                    \"ns2:UICCode\": \"8400141\", \n",
      "                    \"ns2:KorteNaam\": \"Bunnik\"\n",
      "                  }, \n",
      "                  {\n",
      "                    \"ns2:LangeNaam\": \"Driebergen-Zeist\", \n",
      "                    \"ns2:MiddelNaam\": \"Driebergen-Zeist\", \n",
      "                    \"ns2:StationCode\": \"DB\", \n",
      "                    \"ns2:Type\": \"1\", \n",
      "                    \"ns2:UICCode\": \"8400182\", \n",
      "                    \"ns2:KorteNaam\": \"Driebergen\"\n",
      "                  }, \n",
      "                  {\n",
      "                    \"ns2:LangeNaam\": \"Maarn\", \n",
      "                    \"ns2:MiddelNaam\": \"Maarn\", \n",
      "                    \"ns2:StationCode\": \"MRN\", \n",
      "                    \"ns2:Type\": \"1\", \n",
      "                    \"ns2:UICCode\": \"8400417\", \n",
      "                    \"ns2:KorteNaam\": \"Maarn\"\n",
      "                  }, \n",
      "                  {\n",
      "                    \"ns2:LangeNaam\": \"Veenendaal West\", \n",
      "                    \"ns2:MiddelNaam\": \"Veenendaal W.\", \n",
      "                    \"ns2:StationCode\": \"VNDW\", \n",
      "                    \"ns2:Type\": \"0\", \n",
      "                    \"ns2:UICCode\": \"8400628\", \n",
      "                    \"ns2:KorteNaam\": \"Veenendl W\"\n",
      "                  }, \n",
      "                  {\n",
      "                    \"ns2:LangeNaam\": \"Veenendaal Centrum\", \n",
      "                    \"ns2:MiddelNaam\": \"Veenendaal C.\", \n",
      "                    \"ns2:StationCode\": \"VNDC\", \n",
      "                    \"ns2:Type\": \"1\", \n",
      "                    \"ns2:UICCode\": \"8400627\", \n",
      "                    \"ns2:KorteNaam\": \"Veenendl C\"\n",
      "                  }, \n",
      "                  {\n",
      "                    \"ns2:LangeNaam\": \"Rhenen\", \n",
      "                    \"ns2:MiddelNaam\": \"Rhenen\", \n",
      "                    \"ns2:StationCode\": \"RHN\", \n",
      "                    \"ns2:Type\": \"1\", \n",
      "                    \"ns2:UICCode\": \"8400517\", \n",
      "                    \"ns2:KorteNaam\": \"Rhenen\"\n",
      "                  }\n",
      "                ], \n",
      "                \"@InfoStatus\": \"Actueel\"\n",
      "              }\n",
      "            ], \n",
      "            \"ns2:TreinVleugelEindBestemming\": [\n",
      "              {\n",
      "                \"ns2:LangeNaam\": \"Rhenen\", \n",
      "                \"@InfoStatus\": \"Gepland\", \n",
      "                \"ns2:MiddelNaam\": \"Rhenen\", \n",
      "                \"ns2:StationCode\": \"RHN\", \n",
      "                \"ns2:Type\": \"1\", \n",
      "                \"ns2:UICCode\": \"8400517\", \n",
      "                \"ns2:KorteNaam\": \"Rhenen\"\n",
      "              }, \n",
      "              {\n",
      "                \"ns2:LangeNaam\": \"Rhenen\", \n",
      "                \"@InfoStatus\": \"Actueel\", \n",
      "                \"ns2:MiddelNaam\": \"Rhenen\", \n",
      "                \"ns2:StationCode\": \"RHN\", \n",
      "                \"ns2:Type\": \"1\", \n",
      "                \"ns2:UICCode\": \"8400517\", \n",
      "                \"ns2:KorteNaam\": \"Rhenen\"\n",
      "              }\n",
      "            ], \n",
      "            \"ns2:MaterieelDeelDVS\": {\n",
      "              \"ns2:MaterieelLengte\": \"10050\", \n",
      "              \"ns2:MaterieelNummer\": \"000000-02656-0\", \n",
      "              \"ns2:PresentatieMaterieelDeelEindBestemming\": {\n",
      "                \"ns2:Uitingen\": {\n",
      "                  \"ns2:Uiting\": \"Rhenen\"\n",
      "                }\n",
      "              }, \n",
      "              \"ns2:MaterieelDeelEindBestemming\": [\n",
      "                {\n",
      "                  \"ns2:LangeNaam\": \"Rhenen\", \n",
      "                  \"@InfoStatus\": \"Gepland\", \n",
      "                  \"ns2:MiddelNaam\": \"Rhenen\", \n",
      "                  \"ns2:StationCode\": \"RHN\", \n",
      "                  \"ns2:Type\": \"1\", \n",
      "                  \"ns2:UICCode\": \"8400517\", \n",
      "                  \"ns2:KorteNaam\": \"Rhenen\"\n",
      "                }, \n",
      "                {\n",
      "                  \"ns2:LangeNaam\": \"Rhenen\", \n",
      "                  \"@InfoStatus\": \"Actueel\", \n",
      "                  \"ns2:MiddelNaam\": \"Rhenen\", \n",
      "                  \"ns2:StationCode\": \"RHN\", \n",
      "                  \"ns2:Type\": \"1\", \n",
      "                  \"ns2:UICCode\": \"8400517\", \n",
      "                  \"ns2:KorteNaam\": \"Rhenen\"\n",
      "                }\n",
      "              ], \n",
      "              \"ns2:MaterieelAanduiding\": \"6\", \n",
      "              \"ns2:MaterieelSoort\": \"SLT\"\n",
      "            }, \n",
      "            \"ns2:PresentatieTreinVleugelEindBestemming\": {\n",
      "              \"ns2:Uitingen\": {\n",
      "                \"ns2:Uiting\": \"Rhenen\"\n",
      "              }\n",
      "            }\n",
      "          }, \n",
      "          \"ns2:TreinEindBestemming\": [\n",
      "            {\n",
      "              \"ns2:LangeNaam\": \"Rhenen\", \n",
      "              \"@InfoStatus\": \"Gepland\", \n",
      "              \"ns2:MiddelNaam\": \"Rhenen\", \n",
      "              \"ns2:StationCode\": \"RHN\", \n",
      "              \"ns2:Type\": \"1\", \n",
      "              \"ns2:UICCode\": \"8400517\", \n",
      "              \"ns2:KorteNaam\": \"Rhenen\"\n",
      "            }, \n",
      "            {\n",
      "              \"ns2:LangeNaam\": \"Rhenen\", \n",
      "              \"@InfoStatus\": \"Actueel\", \n",
      "              \"ns2:MiddelNaam\": \"Rhenen\", \n",
      "              \"ns2:StationCode\": \"RHN\", \n",
      "              \"ns2:Type\": \"1\", \n",
      "              \"ns2:UICCode\": \"8400517\", \n",
      "              \"ns2:KorteNaam\": \"Rhenen\"\n",
      "            }\n",
      "          ], \n",
      "          \"ns2:AchterBlijvenAchtersteTreinDeel\": \"N\", \n",
      "          \"ns2:Reserveren\": \"N\", \n",
      "          \"ns2:AfstandPerronEindKopVertrekTrein\": \"0\", \n",
      "          \"ns2:VerkorteRoute\": [\n",
      "            {\n",
      "              \"ns2:Station\": [\n",
      "                {\n",
      "                  \"ns2:LangeNaam\": \"Utrecht Centraal\", \n",
      "                  \"ns2:MiddelNaam\": \"Utrecht C.\", \n",
      "                  \"ns2:StationCode\": \"UT\", \n",
      "                  \"ns2:Type\": \"6\", \n",
      "                  \"ns2:UICCode\": \"8400621\", \n",
      "                  \"ns2:KorteNaam\": \"Utrecht C\"\n",
      "                }, \n",
      "                {\n",
      "                  \"ns2:LangeNaam\": \"Utrecht Vaartsche Rijn\", \n",
      "                  \"ns2:MiddelNaam\": \"Vaartsche Rijn\", \n",
      "                  \"ns2:StationCode\": \"UTVR\", \n",
      "                  \"ns2:Type\": \"1\", \n",
      "                  \"ns2:UICCode\": \"8400606\", \n",
      "                  \"ns2:KorteNaam\": \"VaartscheR\"\n",
      "                }, \n",
      "                {\n",
      "                  \"ns2:LangeNaam\": \"Driebergen-Zeist\", \n",
      "                  \"ns2:MiddelNaam\": \"Driebergen-Zeist\", \n",
      "                  \"ns2:StationCode\": \"DB\", \n",
      "                  \"ns2:Type\": \"1\", \n",
      "                  \"ns2:UICCode\": \"8400182\", \n",
      "                  \"ns2:KorteNaam\": \"Driebergen\"\n",
      "                }, \n",
      "                {\n",
      "                  \"ns2:LangeNaam\": \"Maarn\", \n",
      "                  \"ns2:MiddelNaam\": \"Maarn\", \n",
      "                  \"ns2:StationCode\": \"MRN\", \n",
      "                  \"ns2:Type\": \"1\", \n",
      "                  \"ns2:UICCode\": \"8400417\", \n",
      "                  \"ns2:KorteNaam\": \"Maarn\"\n",
      "                }\n",
      "              ], \n",
      "              \"@InfoStatus\": \"Gepland\"\n",
      "            }, \n",
      "            {\n",
      "              \"ns2:Station\": [\n",
      "                {\n",
      "                  \"ns2:LangeNaam\": \"Utrecht Centraal\", \n",
      "                  \"ns2:MiddelNaam\": \"Utrecht C.\", \n",
      "                  \"ns2:StationCode\": \"UT\", \n",
      "                  \"ns2:Type\": \"6\", \n",
      "                  \"ns2:UICCode\": \"8400621\", \n",
      "                  \"ns2:KorteNaam\": \"Utrecht C\"\n",
      "                }, \n",
      "                {\n",
      "                  \"ns2:LangeNaam\": \"Utrecht Vaartsche Rijn\", \n",
      "                  \"ns2:MiddelNaam\": \"Vaartsche Rijn\", \n",
      "                  \"ns2:StationCode\": \"UTVR\", \n",
      "                  \"ns2:Type\": \"1\", \n",
      "                  \"ns2:UICCode\": \"8400606\", \n",
      "                  \"ns2:KorteNaam\": \"VaartscheR\"\n",
      "                }, \n",
      "                {\n",
      "                  \"ns2:LangeNaam\": \"Driebergen-Zeist\", \n",
      "                  \"ns2:MiddelNaam\": \"Driebergen-Zeist\", \n",
      "                  \"ns2:StationCode\": \"DB\", \n",
      "                  \"ns2:Type\": \"1\", \n",
      "                  \"ns2:UICCode\": \"8400182\", \n",
      "                  \"ns2:KorteNaam\": \"Driebergen\"\n",
      "                }, \n",
      "                {\n",
      "                  \"ns2:LangeNaam\": \"Maarn\", \n",
      "                  \"ns2:MiddelNaam\": \"Maarn\", \n",
      "                  \"ns2:StationCode\": \"MRN\", \n",
      "                  \"ns2:Type\": \"1\", \n",
      "                  \"ns2:UICCode\": \"8400417\", \n",
      "                  \"ns2:KorteNaam\": \"Maarn\"\n",
      "                }\n",
      "              ], \n",
      "              \"@InfoStatus\": \"Actueel\"\n",
      "            }\n",
      "          ], \n",
      "          \"ns2:TreinVertrekSpoor\": [\n",
      "            {\n",
      "              \"@InfoStatus\": \"Gepland\", \n",
      "              \"ns2:SpoorNummer\": \"3\"\n",
      "            }, \n",
      "            {\n",
      "              \"@InfoStatus\": \"Actueel\", \n",
      "              \"ns2:SpoorNummer\": \"3\"\n",
      "            }\n",
      "          ], \n",
      "          \"ns2:Toeslag\": \"N\", \n",
      "          \"ns2:TreinSoort\": {\n",
      "            \"@Code\": \"SPR\", \n",
      "            \"#text\": \"Sprinter\"\n",
      "          }, \n",
      "          \"ns2:TreinFormule\": \"1\", \n",
      "          \"ns2:PresentatieTreinEindBestemming\": {\n",
      "            \"ns2:Uitingen\": {\n",
      "              \"ns2:Uiting\": \"Rhenen\"\n",
      "            }\n",
      "          }, \n",
      "          \"ns2:SpeciaalKaartje\": \"N\", \n",
      "          \"ns2:Vervoerder\": \"NS\", \n",
      "          \"ns2:GedempteVertrekVertraging\": \"PT0S\"\n",
      "        }\n",
      "      }\n",
      "    }, \n",
      "    \"@xmlns:ns2\": \"urn:ndov:cdm:trein:reisinformatie:data:4\"\n",
      "  }\n",
      "}"
     ]
    }
   ],
   "source": [
    "example_departures = client.topics[b'ndovloketnl-departures'].get_simple_consumer(\n",
    "    auto_offset_reset=OffsetType.EARLIEST,\n",
    "    reset_offset_on_start=True\n",
    ").consume()\n",
    "print(json.dumps(json.loads(example_departures.value), indent=2))"
   ]
  },
  {
   "cell_type": "markdown",
   "metadata": {},
   "source": [
    "We can see that the messages have the following structure:\n",
    "\n",
    "```\n",
    "{\n",
    "  'ns1:PutReisInformatieBoodschapIn': {\n",
    "    'ns2:ReisInformatieProductDVS' or 'ns2:ReisInformatieProductDAS': {\n",
    "      'ns2:DynamischeVertrekStaat' or 'ns2:DynamischeAankomstStaat': {\n",
    "          'ns2:RitStation': <station_info>,\n",
    "          'ns2:Trein' or 'ns2:TreinAankomst': {\n",
    "              'ns2:VertrekTijd' or 'ns2:AankomstTijd': [<planned_and_actual_times>],\n",
    "              'ns2:TreinNummer': <train_number>,\n",
    "              'ns2:TreinSoort': <kind_of_train>,\n",
    "              ...\n",
    "          }\n",
    "           \n",
    "      }\n",
    "    }\n",
    "  }\n",
    "}\n",
    "```\n",
    "\n",
    "We can see also that the train stations have a long name `ns2:LangeNaam`, a medium name `ns2:MiddelNaam`, a short name `ns2:KorteNaam`, a station code `ns2:StationCode` and a kind of nummerical ID `ns2:UICCode`. When giving information about times, tracks, direction,... you will find sometimes the information twice with the status `Gepland` (which means planned, according to the schedule) and `Actueel`(which means the actual measured value). "
   ]
  },
  {
   "cell_type": "markdown",
   "metadata": {},
   "source": [
    "**Question III.a. (5/20)** We want to compute the time a train stays at a station and get a real-time histogram for a given time window. To begin with, you need to write some parsing functions that will allow you to get information from the data streams. We have prepare one function `parse_train_dep` for the stream `ndovloketnl-departures`, which returns a Key-Value pair."
   ]
  },
  {
   "cell_type": "code",
   "execution_count": 13,
   "metadata": {
    "scrolled": true
   },
   "outputs": [
    {
     "data": {
      "application/vnd.jupyter.widget-view+json": {
       "model_id": "",
       "version_major": 2,
       "version_minor": 0
      },
      "text/plain": [
       "FloatProgress(value=0.0, bar_style='info', description='Progress:', layout=Layout(height='25px', width='50%'),…"
      ]
     },
     "metadata": {},
     "output_type": "display_data"
    }
   ],
   "source": [
    "import json\n",
    "\n",
    "def parse_train_dep(s):\n",
    "    obj = json.loads(s)\n",
    "    tn = obj.get('ns1:PutReisInformatieBoodschapIn', {}).get('ns2:ReisInformatieProductDVS', {}).get('ns2:DynamischeVertrekStaat', {}).get('ns2:Trein', {}).get(\"ns2:TreinNummer\")\n",
    "    st = obj.get('ns1:PutReisInformatieBoodschapIn', {}).get('ns2:ReisInformatieProductDVS', {}).get('ns2:DynamischeVertrekStaat', {}).get('ns2:RitStation', {}).get(\"ns2:UICCode\")\n",
    "    if tn and st:\n",
    "        return [(\"{}-{}\".format(tn, st), obj)]\n",
    "    else:\n",
    "        return []"
   ]
  },
  {
   "cell_type": "markdown",
   "metadata": {},
   "source": [
    "__Q (1/5)__  Please check the function `parse_train_dep` above. Explain how we construct the Key and the Value, and why we construct them in this way."
   ]
  },
  {
   "cell_type": "markdown",
   "metadata": {},
   "source": [
    "__Answer__: For the key, you selected train number(TreinNummer) and Station Id (UICCode) and combined them such that TreinNummer-UICCode.Value is the object itself. So (Key,Value) is (TreinNummer-UICCode, json_object).\n",
    "For the keys you extracted the value from their nested positions.\n",
    "\n",
    "For example TreinNummer is nested like this:\n",
    "```\n",
    "{'ns1:PutReisInformatieBoodschapIn':\n",
    "                {..\n",
    "                   'ns2:ReisInformatieProductDVS':\n",
    "                       {...\n",
    "                           'ns2:DynamischeVertrekStaat':\n",
    "                               {...\n",
    "                                   'ns2:Trein':\n",
    "                                       {...\n",
    "                                           **\"ns2:TreinNummer\"**:...\n",
    "                                          ...\n",
    "```"
   ]
  },
  {
   "cell_type": "markdown",
   "metadata": {},
   "source": [
    "__Q (2/5)__ Take `parse_train_dep` as an example and write the function `parse_train_arr` for the stream `ndovloketnl-arrivals`. Make sure they have the same output format."
   ]
  },
  {
   "cell_type": "code",
   "execution_count": 14,
   "metadata": {
    "scrolled": true
   },
   "outputs": [
    {
     "data": {
      "application/vnd.jupyter.widget-view+json": {
       "model_id": "",
       "version_major": 2,
       "version_minor": 0
      },
      "text/plain": [
       "FloatProgress(value=0.0, bar_style='info', description='Progress:', layout=Layout(height='25px', width='50%'),…"
      ]
     },
     "metadata": {},
     "output_type": "display_data"
    }
   ],
   "source": [
    "def parse_train_arr(s):\n",
    "    obj = json.loads(s)\n",
    "    tn = obj.get('ns1:PutReisInformatieBoodschapIn', {}).get('ns2:ReisInformatieProductDAS', {}).get('ns2:DynamischeAankomstStaat', {}).get('ns2:TreinAankomst', {}).get(\"ns2:TreinNummer\")\n",
    "    st = obj.get('ns1:PutReisInformatieBoodschapIn', {}).get('ns2:ReisInformatieProductDAS', {}).get('ns2:DynamischeAankomstStaat', {}).get('ns2:RitStation', {}).get(\"ns2:UICCode\")\n",
    "    if tn and st:\n",
    "        return [(\"{}-{}\".format(tn, st), obj)]\n",
    "    else:\n",
    "        return []"
   ]
  },
  {
   "cell_type": "markdown",
   "metadata": {},
   "source": [
    "__Q (2/5)__ Another parsing function you may need is `get_actual_time`, which will allow you to extract the actual time from the fields of time information, which are `ns2:AankomstTijd` in the arrival stream and `ns2:VertrekTijd` in the departure stream. \n",
    "\n",
    "__Note:__ These two fields may be empty and they may not contain the actual time information. In both cases the function should return `None`."
   ]
  },
  {
   "cell_type": "code",
   "execution_count": 15,
   "metadata": {
    "scrolled": true
   },
   "outputs": [
    {
     "data": {
      "application/vnd.jupyter.widget-view+json": {
       "model_id": "",
       "version_major": 2,
       "version_minor": 0
      },
      "text/plain": [
       "FloatProgress(value=0.0, bar_style='info', description='Progress:', layout=Layout(height='25px', width='50%'),…"
      ]
     },
     "metadata": {},
     "output_type": "display_data"
    }
   ],
   "source": [
    "import datetime\n",
    "def get_actual_time(tab):\n",
    "    for t in tab:\n",
    "        try:\n",
    "            if t[\"@InfoStatus\"] == \"Actueel\":\n",
    "                \n",
    "                at = datetime.datetime.strptime(t[\"#text\"][:-5], \"%Y-%m-%dT%H:%M:%S\") \n",
    "                return at\n",
    "        except:\n",
    "            return None\n",
    "        \n",
    "#Create function to seperate arrival and departure\n",
    "def get_actual_time_helper(s,t):\n",
    "    js = json.loads(s)\n",
    "    if t == \"departures\":\n",
    "        tab  = js.get('ns1:PutReisInformatieBoodschapIn', {}).get(\"ns2:ReisInformatieProductDVS\", {}).get(\"ns2:DynamischeVertrekStaat\", {}).get(\"ns2:Trein\", {}).get(\"ns2:VertrekTijd\",{})\n",
    "    else:\n",
    "        tab  = js.get('ns1:PutReisInformatieBoodschapIn', {}).get(\"ns2:ReisInformatieProductDAS\", {}).get(\"ns2:DynamischeAankomstStaat\", {}).get(\"ns2:TreinAankomst\", {}).get(\"ns2:AankomstTijd\",{})\n",
    "\n",
    "    return get_actual_time(tab)"
   ]
  },
  {
   "cell_type": "code",
   "execution_count": 16,
   "metadata": {},
   "outputs": [
    {
     "data": {
      "application/vnd.jupyter.widget-view+json": {
       "model_id": "",
       "version_major": 2,
       "version_minor": 0
      },
      "text/plain": [
       "FloatProgress(value=0.0, bar_style='info', description='Progress:', layout=Layout(height='25px', width='50%'),…"
      ]
     },
     "metadata": {},
     "output_type": "display_data"
    }
   ],
   "source": [
    "# Get the field of time in the departure stream\n",
    "example_json = json.loads(example_departures.value)\n",
    "tab = example_json.get('ns1:PutReisInformatieBoodschapIn', {}).get(\"ns2:ReisInformatieProductDVS\", {}).get(\"ns2:DynamischeVertrekStaat\", {}).get(\"ns2:Trein\", {}).get(\"ns2:VertrekTijd\",{})"
   ]
  },
  {
   "cell_type": "code",
   "execution_count": 17,
   "metadata": {},
   "outputs": [
    {
     "data": {
      "application/vnd.jupyter.widget-view+json": {
       "model_id": "",
       "version_major": 2,
       "version_minor": 0
      },
      "text/plain": [
       "FloatProgress(value=0.0, bar_style='info', description='Progress:', layout=Layout(height='25px', width='50%'),…"
      ]
     },
     "metadata": {},
     "output_type": "display_data"
    },
    {
     "name": "stdout",
     "output_type": "stream",
     "text": [
      "datetime.datetime(2020, 4, 23, 15, 32)"
     ]
    }
   ],
   "source": [
    "# Example results from `get_actual_time`\n",
    "get_actual_time(tab)"
   ]
  },
  {
   "cell_type": "markdown",
   "metadata": {},
   "source": [
    "**Question III.b. (5/20)** Create two Spark streams from the arrivals and departures where the records are in the form (Key, Value) using `parse_train_dep` and  `parse_train_arr`. "
   ]
  },
  {
   "cell_type": "code",
   "execution_count": 25,
   "metadata": {
    "scrolled": true
   },
   "outputs": [
    {
     "data": {
      "application/vnd.jupyter.widget-view+json": {
       "model_id": "",
       "version_major": 2,
       "version_minor": 0
      },
      "text/plain": [
       "FloatProgress(value=0.0, bar_style='info', description='Progress:', layout=Layout(height='25px', width='50%'),…"
      ]
     },
     "metadata": {},
     "output_type": "display_data"
    }
   ],
   "source": [
    "from pyspark.streaming import StreamingContext\n",
    "from pyspark.streaming.kafka import KafkaUtils\n",
    "\n",
    "# recreate the streaming context\n",
    "ssc = StreamingContext(sc, 20)\n",
    "ssc.checkpoint(checkpoint)\n",
    "\n",
    "group_id = 'ns-{0}'.format(username)\n",
    "\n",
    "# Input streams\n",
    "arrival_stream = KafkaUtils.createStream(ssc, ZOOKEEPER_QUORUM, group_id, { 'ndovloketnl-arrivals': 1})\n",
    "departure_stream = KafkaUtils.createStream(ssc, ZOOKEEPER_QUORUM, group_id, { 'ndovloketnl-departures': 1})"
   ]
  },
  {
   "cell_type": "code",
   "execution_count": 26,
   "metadata": {},
   "outputs": [
    {
     "data": {
      "application/vnd.jupyter.widget-view+json": {
       "model_id": "",
       "version_major": 2,
       "version_minor": 0
      },
      "text/plain": [
       "FloatProgress(value=0.0, bar_style='info', description='Progress:', layout=Layout(height='25px', width='50%'),…"
      ]
     },
     "metadata": {},
     "output_type": "display_data"
    }
   ],
   "source": [
    "arrival_stream_m = arrival_stream.map(lambda x :(parse_train_arr(x[1])[0][0],get_actual_time_helper(x[1],\"arrival\")))\n",
    "\n",
    "departure_stream_m = departure_stream.map(lambda x :(parse_train_dep(x[1])[0][0],get_actual_time_helper(x[1],\"departures\")))\n",
    "                                                     \n",
    "                                                     \n"
   ]
  },
  {
   "cell_type": "markdown",
   "metadata": {},
   "source": [
    "**Question III.c. (5/20)** \n",
    "Every 20 seconds, we want to have a list of trains that had departed from any train station after staying for 5 minutes or less at the station. Apply a window of 20s sliding interval on arrival and departure streams. Join two streams such that trains staying for 5 minutes or less (± 20 seconds error due to sliding interval) at any station are caught by the join in the RDD window of the joined stream (you can ignore late messages). \n",
    "\n",
    "__Hint:__\n",
    "- Check [here](https://spark.apache.org/docs/2.3.1/streaming-programming-guide.html#window-operations) for windowed computations in Spark Streaming.\n",
    "- Use the methods [reduceByKeyAndWindow](https://spark.apache.org/docs/2.3.1/api/python/pyspark.streaming.html?highlight=reducebykey#pyspark.streaming.DStream.reduceByKeyAndWindow) and [join](https://spark.apache.org/docs/2.3.1/api/python/pyspark.streaming.html?highlight=reducebykey#pyspark.streaming.DStream.join) on DStream objects.\n",
    "- Both windows should have `slideDuration` of 20s\n",
    "- You have to pick the sizes of windows `windowDuration` carefully. The sizes can be different: \n",
    "    - The trains staying for 5 minutes or less (± 20 seconds error due to sliding interval) must be in the joined stream.\n",
    "    - A same stay (i.e. one train at one station) is caught in the joined stream once and only once."
   ]
  },
  {
   "cell_type": "code",
   "execution_count": 27,
   "metadata": {
    "scrolled": true
   },
   "outputs": [
    {
     "data": {
      "application/vnd.jupyter.widget-view+json": {
       "model_id": "",
       "version_major": 2,
       "version_minor": 0
      },
      "text/plain": [
       "FloatProgress(value=0.0, bar_style='info', description='Progress:', layout=Layout(height='25px', width='50%'),…"
      ]
     },
     "metadata": {},
     "output_type": "display_data"
    }
   ],
   "source": [
    "#create arrival and departure stream, reducebykey so we have only one train for each window\n",
    "arrival_stream_windowr = arrival_stream_m.reduceByKeyAndWindow(lambda x,y:x,300, 20)\n",
    "departure_stream_windowr = departure_stream_m.reduceByKeyAndWindow(lambda x,y:x,20, 20)\n",
    "\n",
    "#join them\n",
    "joinedstream = arrival_stream_windowr.join(departure_stream_windowr)\n",
    "\n"
   ]
  },
  {
   "cell_type": "markdown",
   "metadata": {},
   "source": [
    "**Question III.d. (5/20)** On the joined stream, compute the length of each stay (you can round to the minute) and produce a stream of histograms. You don't need to plot them, a value/count array is enough, like:\n",
    "```\n",
    "-------------------------------------------\n",
    "Time: 2018-05-17 11:10:00\n",
    "-------------------------------------------\n",
    "(0.0, 110)\n",
    "(8.0, 2)\n",
    "(4.0, 3)\n",
    "\n",
    "-------------------------------------------\n",
    "Time: 2018-05-17 11:10:20\n",
    "-------------------------------------------\n",
    "(0.0, 46)\n",
    "(4.0, 2)\n",
    "(1.0, 5)\n",
    "```"
   ]
  },
  {
   "cell_type": "code",
   "execution_count": 28,
   "metadata": {
    "scrolled": true
   },
   "outputs": [
    {
     "data": {
      "application/vnd.jupyter.widget-view+json": {
       "model_id": "",
       "version_major": 2,
       "version_minor": 0
      },
      "text/plain": [
       "FloatProgress(value=0.0, bar_style='info', description='Progress:', layout=Layout(height='25px', width='50%'),…"
      ]
     },
     "metadata": {},
     "output_type": "display_data"
    }
   ],
   "source": [
    "import math\n",
    "def stay_min(x):\n",
    "    return round((x[1][1] - x[1][0]).total_seconds()/60)\n",
    "\n",
    "staystream = joinedstream.map(lambda x:(x[0],stay_min(x)))\n",
    "histograms_stream = staystream.map(lambda x : x[1]).countByValue()\n",
    "histograms_stream.pprint()\n"
   ]
  },
  {
   "cell_type": "code",
   "execution_count": 29,
   "metadata": {
    "scrolled": true
   },
   "outputs": [
    {
     "data": {
      "application/vnd.jupyter.widget-view+json": {
       "model_id": "",
       "version_major": 2,
       "version_minor": 0
      },
      "text/plain": [
       "FloatProgress(value=0.0, bar_style='info', description='Progress:', layout=Layout(height='25px', width='50%'),…"
      ]
     },
     "metadata": {},
     "output_type": "display_data"
    }
   ],
   "source": [
    "ssc.start() \n",
    "ssc.awaitTermination(timeout=60)#200"
   ]
  },
  {
   "cell_type": "code",
   "execution_count": 30,
   "metadata": {
    "scrolled": true
   },
   "outputs": [
    {
     "data": {
      "application/vnd.jupyter.widget-view+json": {
       "model_id": "",
       "version_major": 2,
       "version_minor": 0
      },
      "text/plain": [
       "FloatProgress(value=0.0, bar_style='info', description='Progress:', layout=Layout(height='25px', width='50%'),…"
      ]
     },
     "metadata": {},
     "output_type": "display_data"
    },
    {
     "name": "stdout",
     "output_type": "stream",
     "text": [
      "-------------------------------------------\n",
      "Time: 2020-05-09 01:39:40\n",
      "-------------------------------------------\n",
      "(0.0, 31)\n",
      "(2.0, 2)\n",
      "(4.0, 1)\n",
      "(1.0, 5)\n",
      "(3.0, 1)\n",
      "\n",
      "-------------------------------------------\n",
      "Time: 2020-05-09 01:40:00\n",
      "-------------------------------------------\n",
      "(0.0, 2)\n",
      "(4.0, 1)\n",
      "\n",
      "-------------------------------------------\n",
      "Time: 2020-05-09 01:40:20\n",
      "-------------------------------------------\n",
      "\n",
      "-------------------------------------------\n",
      "Time: 2020-05-09 01:40:40\n",
      "-------------------------------------------\n",
      "\n",
      "-------------------------------------------\n",
      "Time: 2020-05-09 01:41:00\n",
      "-------------------------------------------"
     ]
    }
   ],
   "source": [
    "ssc.stop(stopSparkContext=False, stopGraceFully=True)"
   ]
  },
  {
   "cell_type": "code",
   "execution_count": null,
   "metadata": {},
   "outputs": [],
   "source": []
  }
 ],
 "metadata": {
  "kernelspec": {
   "display_name": "PySpark",
   "language": "",
   "name": "pysparkkernel"
  },
  "language_info": {
   "codemirror_mode": {
    "name": "python",
    "version": 3
   },
   "mimetype": "text/x-python",
   "name": "pyspark",
   "pygments_lexer": "python3"
  }
 },
 "nbformat": 4,
 "nbformat_minor": 4
}
