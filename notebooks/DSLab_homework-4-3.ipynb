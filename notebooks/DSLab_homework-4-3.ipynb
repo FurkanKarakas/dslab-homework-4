{
 "cells": [
  {
   "cell_type": "markdown",
   "metadata": {},
   "source": [
    "# Homework 4 - More trains (Part III)\n",
    "\n",
    "__Hand-in:__\n",
    "\n",
    "- __Due: 12.05.2020 23:59:59 CET__\n",
    "- `git push` your final verion to your group's Renku repository before the due\n",
    "- check if `Dockerfile`, `environment.yml` and `requirements.txt` are properly written\n",
    "- add necessary comments and discussion to make your codes readable\n",
    "\n",
    "For this homework, you will be working with the real-time streams of the NS, the train company of the Netherlands. You can see an example webpage that uses the same streams to display the train information on a map: https://spoorkaart.mwnn.nl/ . \n",
    "\n",
    "To help you and avoid having too many connections to the NS streaming servers, we have setup a service that collects the streams and pushes them to our Kafka instance. The related topics are: \n",
    "\n",
    "`ndovloketnl-arrivals`: For each arrival of a train in a station, describe the previous and next station, time of arrival (planned and actual), track number,...\n",
    "\n",
    "`ndovloketnl-departures`: For each departure of a train from a station, describe the previous and next station, time of departure (planned and actual), track number,...\n",
    "\n",
    "`ndovloketnl-gps`: For each train, describe the current location, speed, bearing.\n",
    "\n",
    "The events are serialized in JSON (actually converted from XML), with properties in their original language. Google translate could help you understand all of them, but we will provide you with some useful mappings."
   ]
  },
  {
   "cell_type": "markdown",
   "metadata": {},
   "source": [
    "---\n",
    "## Set up environment\n",
    "\n",
    "Run the following cells below before running the other cells of this notebook. Run them whenever you need to recreate a Spark context. Pay particular attention to your `username` settings, and make sure that it is properly set to your user name, both locally and on the remote Spark Driver.\n",
    "\n",
    "Configure your spark settings:\n",
    "1. name your spark application as `\"YOUR_GASPAR_homework_4\"`.\n",
    "2. make the required kafka jars available on the remote Spark driver.\n",
    "\n",
    "<div class=\"alert alert-block alert-warning\"><b>Any application without a proper name would be promptly killed.</b></div>"
   ]
  },
  {
   "cell_type": "code",
   "execution_count": 1,
   "metadata": {},
   "outputs": [
    {
     "data": {
      "text/html": [
       "Current session configs: <tt>{'conf': {'spark.app.name': 'boecuego_homework_4', 'spark.jars.packages': 'org.apache.spark:spark-streaming-kafka-0-8_2.11:2.3.1,org.apache.kafka:kafka_2.11:1.0.1'}, 'kind': 'pyspark'}</tt><br>"
      ],
      "text/plain": [
       "<IPython.core.display.HTML object>"
      ]
     },
     "metadata": {},
     "output_type": "display_data"
    },
    {
     "data": {
      "text/html": [
       "No active sessions."
      ],
      "text/plain": [
       "<IPython.core.display.HTML object>"
      ]
     },
     "metadata": {},
     "output_type": "display_data"
    }
   ],
   "source": [
    "%%configure\n",
    "{\"conf\": {\n",
    "    \"spark.app.name\": \"boecuego_homework_4\",\n",
    "    \"spark.jars.packages\": \"org.apache.spark:spark-streaming-kafka-0-8_2.11:2.3.1,org.apache.kafka:kafka_2.11:1.0.1\"\n",
    "}}"
   ]
  },
  {
   "cell_type": "markdown",
   "metadata": {},
   "source": [
    "Create a new session unless one was already created above (check for `✔` in current session)"
   ]
  },
  {
   "cell_type": "code",
   "execution_count": 2,
   "metadata": {},
   "outputs": [
    {
     "name": "stdout",
     "output_type": "stream",
     "text": [
      "Starting Spark application\n"
     ]
    },
    {
     "data": {
      "text/html": [
       "<table>\n",
       "<tr><th>ID</th><th>YARN Application ID</th><th>Kind</th><th>State</th><th>Spark UI</th><th>Driver log</th><th>Current session?</th></tr><tr><td>4009</td><td>application_1587988164357_0628</td><td>pyspark</td><td>idle</td><td><a target=\"_blank\" href=\"http://iccluster044.iccluster.epfl.ch:8088/proxy/application_1587988164357_0628/\">Link</a></td><td><a target=\"_blank\" href=\"http://iccluster069.iccluster.epfl.ch:8042/node/containerlogs/container_e05_1587988164357_0628_01_000001/ebouille\">Link</a></td><td>✔</td></tr></table>"
      ],
      "text/plain": [
       "<IPython.core.display.HTML object>"
      ]
     },
     "metadata": {},
     "output_type": "display_data"
    },
    {
     "data": {
      "application/vnd.jupyter.widget-view+json": {
       "model_id": "",
       "version_major": 2,
       "version_minor": 0
      },
      "text/plain": [
       "FloatProgress(value=0.0, bar_style='info', description='Progress:', layout=Layout(height='25px', width='50%'),…"
      ]
     },
     "metadata": {},
     "output_type": "display_data"
    },
    {
     "name": "stdout",
     "output_type": "stream",
     "text": [
      "SparkSession available as 'spark'.\n"
     ]
    },
    {
     "data": {
      "application/vnd.jupyter.widget-view+json": {
       "model_id": "",
       "version_major": 2,
       "version_minor": 0
      },
      "text/plain": [
       "FloatProgress(value=0.0, bar_style='info', description='Progress:', layout=Layout(height='25px', width='50%'),…"
      ]
     },
     "metadata": {},
     "output_type": "display_data"
    }
   ],
   "source": [
    "# Initialize spark application"
   ]
  },
  {
   "cell_type": "markdown",
   "metadata": {},
   "source": [
    "Set `username` to your GASPAR both locally and on the Spark driver."
   ]
  },
  {
   "cell_type": "code",
   "execution_count": 3,
   "metadata": {},
   "outputs": [],
   "source": [
    "%%local\n",
    "import os\n",
    "username = os.environ['JUPYTERHUB_USER']"
   ]
  },
  {
   "cell_type": "code",
   "execution_count": 4,
   "metadata": {},
   "outputs": [
    {
     "data": {
      "application/vnd.jupyter.widget-view+json": {
       "model_id": "",
       "version_major": 2,
       "version_minor": 0
      },
      "text/plain": [
       "FloatProgress(value=0.0, bar_style='info', description='Progress:', layout=Layout(height='25px', width='50%'),…"
      ]
     },
     "metadata": {},
     "output_type": "display_data"
    },
    {
     "name": "stdout",
     "output_type": "stream",
     "text": [
      "Successfully passed 'username' as 'username' to Spark kernel"
     ]
    }
   ],
   "source": [
    "%%send_to_spark -i username -t str -n username"
   ]
  },
  {
   "cell_type": "code",
   "execution_count": 5,
   "metadata": {},
   "outputs": [
    {
     "data": {
      "application/vnd.jupyter.widget-view+json": {
       "model_id": "",
       "version_major": 2,
       "version_minor": 0
      },
      "text/plain": [
       "FloatProgress(value=0.0, bar_style='info', description='Progress:', layout=Layout(height='25px', width='50%'),…"
      ]
     },
     "metadata": {},
     "output_type": "display_data"
    },
    {
     "name": "stdout",
     "output_type": "stream",
     "text": [
      "'boecuego'"
     ]
    }
   ],
   "source": [
    "username"
   ]
  },
  {
   "cell_type": "markdown",
   "metadata": {},
   "source": [
    "---"
   ]
  },
  {
   "cell_type": "markdown",
   "metadata": {},
   "source": [
    "## Create a Kafka client"
   ]
  },
  {
   "cell_type": "code",
   "execution_count": 6,
   "metadata": {
    "scrolled": true
   },
   "outputs": [
    {
     "data": {
      "application/vnd.jupyter.widget-view+json": {
       "model_id": "",
       "version_major": 2,
       "version_minor": 0
      },
      "text/plain": [
       "FloatProgress(value=0.0, bar_style='info', description='Progress:', layout=Layout(height='25px', width='50%'),…"
      ]
     },
     "metadata": {},
     "output_type": "display_data"
    }
   ],
   "source": [
    "from pykafka import KafkaClient\n",
    "from pykafka.common import OffsetType\n",
    "\n",
    "ZOOKEEPER_QUORUM = 'iccluster044.iccluster.epfl.ch:2181,'\\\n",
    "                   'iccluster054.iccluster.epfl.ch:2181,'\\\n",
    "                   'iccluster059.iccluster.epfl.ch:2181'\n",
    "\n",
    "client = KafkaClient(zookeeper_hosts=ZOOKEEPER_QUORUM)"
   ]
  },
  {
   "cell_type": "markdown",
   "metadata": {},
   "source": [
    "## Streams from Kafka"
   ]
  },
  {
   "cell_type": "code",
   "execution_count": 7,
   "metadata": {
    "scrolled": true
   },
   "outputs": [
    {
     "data": {
      "application/vnd.jupyter.widget-view+json": {
       "model_id": "",
       "version_major": 2,
       "version_minor": 0
      },
      "text/plain": [
       "FloatProgress(value=0.0, bar_style='info', description='Progress:', layout=Layout(height='25px', width='50%'),…"
      ]
     },
     "metadata": {},
     "output_type": "display_data"
    },
    {
     "name": "stdout",
     "output_type": "stream",
     "text": [
      "checkpoint created at hdfs:///user/boecuego/checkpoint/"
     ]
    }
   ],
   "source": [
    "# Define the checkpoint folder\n",
    "checkpoint = 'hdfs:///user/{}/checkpoint/'.format(username)\n",
    "print('checkpoint created at hdfs:///user/{}/checkpoint/'.format(username))"
   ]
  },
  {
   "cell_type": "code",
   "execution_count": 8,
   "metadata": {
    "scrolled": true
   },
   "outputs": [
    {
     "data": {
      "application/vnd.jupyter.widget-view+json": {
       "model_id": "",
       "version_major": 2,
       "version_minor": 0
      },
      "text/plain": [
       "FloatProgress(value=0.0, bar_style='info', description='Progress:', layout=Layout(height='25px', width='50%'),…"
      ]
     },
     "metadata": {},
     "output_type": "display_data"
    }
   ],
   "source": [
    "from pyspark.streaming import StreamingContext\n",
    "from pyspark.streaming.kafka import KafkaUtils\n",
    "\n",
    "# Create a StreamingContext with two working thread and batch interval of 10 seconds.\n",
    "# Each time you stop a StreamingContext, you will need to recreate it.\n",
    "ssc = StreamingContext(sc, 10)\n",
    "ssc.checkpoint(checkpoint)\n",
    "\n",
    "group_id = 'ns-{0}'.format(username)\n",
    "\n",
    "# Input streams\n",
    "arrival_stream = KafkaUtils.createStream(ssc, ZOOKEEPER_QUORUM, group_id, { 'ndovloketnl-arrivals': 1})\n",
    "departure_stream = KafkaUtils.createStream(ssc, ZOOKEEPER_QUORUM, group_id, { 'ndovloketnl-departures': 1})"
   ]
  },
  {
   "cell_type": "markdown",
   "metadata": {},
   "source": [
    "For now, let's just print the content of the streams. Note: the output may be shown after you run `ssc.stop`."
   ]
  },
  {
   "cell_type": "code",
   "execution_count": 9,
   "metadata": {
    "scrolled": true
   },
   "outputs": [
    {
     "data": {
      "application/vnd.jupyter.widget-view+json": {
       "model_id": "",
       "version_major": 2,
       "version_minor": 0
      },
      "text/plain": [
       "FloatProgress(value=0.0, bar_style='info', description='Progress:', layout=Layout(height='25px', width='50%'),…"
      ]
     },
     "metadata": {},
     "output_type": "display_data"
    }
   ],
   "source": [
    "arrival_stream.pprint()\n",
    "departure_stream.pprint()\n",
    "\n",
    "ssc.start()\n",
    "ssc.awaitTermination(timeout=10)"
   ]
  },
  {
   "cell_type": "code",
   "execution_count": 10,
   "metadata": {
    "scrolled": true
   },
   "outputs": [
    {
     "data": {
      "application/vnd.jupyter.widget-view+json": {
       "model_id": "",
       "version_major": 2,
       "version_minor": 0
      },
      "text/plain": [
       "FloatProgress(value=0.0, bar_style='info', description='Progress:', layout=Layout(height='25px', width='50%'),…"
      ]
     },
     "metadata": {},
     "output_type": "display_data"
    },
    {
     "name": "stdout",
     "output_type": "stream",
     "text": [
      "-------------------------------------------\n",
      "Time: 2020-05-04 04:14:00\n",
      "-------------------------------------------\n",
      "(None, u'{\"ns1:PutReisInformatieBoodschapIn\": {\"@xmlns:ns1\": \"urn:ndov:cdm:trein:reisinformatie:messages:dynamischeaankomststaat:1\", \"@xmlns:ns2\": \"urn:ndov:cdm:trein:reisinformatie:data:4\", \"ns2:ReisInformatieProductDAS\": {\"@TimeStamp\": \"2020-05-04T02:13:02.143Z\", \"@Versie\": \"6.1\", \"ns2:RIPAdministratie\": {\"ns2:ReisInformatieProductID\": \"2005040413022400004\", \"ns2:AbonnementId\": \"55\", \"ns2:ReisInformatieTijdstip\": \"2020-05-04T03:23:00.000Z\"}, \"ns2:DynamischeAankomstStaat\": {\"ns2:RitId\": \"1616\", \"ns2:RitDatum\": \"2020-05-04\", \"ns2:RitStation\": {\"ns2:StationCode\": \"HGL\", \"ns2:Type\": \"5\", \"ns2:KorteNaam\": \"Hengelo\", \"ns2:MiddelNaam\": \"Hengelo\", \"ns2:LangeNaam\": \"Hengelo\", \"ns2:UICCode\": \"8400316\"}, \"ns2:TreinAankomst\": {\"ns2:TreinNummer\": \"1616\", \"ns2:TreinSoort\": {\"@Code\": \"IC\", \"#text\": \"Intercity\"}, \"ns2:TreinStatus\": \"0\", \"ns2:Vervoerder\": \"NS\", \"ns2:TreinHerkomst\": [{\"@InfoStatus\": \"Gepland\", \"ns2:StationCode\": \"ES\", \"ns2:Type\": \"5\", \"ns2:KorteNaam\": \"Enschede\", \"ns2:MiddelNaam\": \"Enschede\", \"ns2:LangeNaam\": \"Enschede\", \"ns2:UICCode\": \"8400212\"}, {\"@InfoStatus\": \"Actueel\", \"ns2:StationCode\": \"ES\", \"ns2:Type\": \"5\", \"ns2:KorteNaam\": \"Enschede\", \"ns2:MiddelNaam\": \"Enschede\", \"ns2:LangeNaam\": \"Enschede\", \"ns2:UICCode\": \"8400212\"}], \"ns2:PresentatieTreinHerkomst\": {\"ns2:Uitingen\": {\"ns2:Uiting\": \"Enschede\"}}, \"ns2:AankomstTijd\": [{\"@InfoStatus\": \"Gepland\", \"#text\": \"2020-05-04T03:23:00.000Z\"}, {\"@InfoStatus\": \"Actueel\", \"#text\": \"2020-05-04T03:23:00.000Z\"}], \"ns2:ExacteAankomstVertraging\": \"PT0S\", \"ns2:GedempteAankomstVertraging\": \"PT0S\", \"ns2:TreinAankomstSpoor\": [{\"@InfoStatus\": \"Gepland\", \"ns2:SpoorNummer\": \"2\"}, {\"@InfoStatus\": \"Actueel\", \"ns2:SpoorNummer\": \"2\"}], \"ns2:PresentatieTreinAankomstSpoor\": {\"ns2:Uitingen\": {\"ns2:Uiting\": \"2\"}}}}}}}')\n",
      "(None, u'{\"ns1:PutReisInformatieBoodschapIn\": {\"@xmlns:ns1\": \"urn:ndov:cdm:trein:reisinformatie:messages:dynamischeaankomststaat:1\", \"@xmlns:ns2\": \"urn:ndov:cdm:trein:reisinformatie:data:4\", \"ns2:ReisInformatieProductDAS\": {\"@TimeStamp\": \"2020-05-04T02:13:02.108Z\", \"@Versie\": \"6.1\", \"ns2:RIPAdministratie\": {\"ns2:ReisInformatieProductID\": \"2005040413022400000\", \"ns2:AbonnementId\": \"55\", \"ns2:ReisInformatieTijdstip\": \"2020-05-04T03:23:00.000Z\"}, \"ns2:DynamischeAankomstStaat\": {\"ns2:RitId\": \"31301\", \"ns2:RitDatum\": \"2020-05-04\", \"ns2:RitStation\": {\"ns2:StationCode\": \"BNC\", \"ns2:Type\": \"0\", \"ns2:KorteNaam\": \"Barnevld C\", \"ns2:MiddelNaam\": \"Barneveld C.\", \"ns2:LangeNaam\": \"Barneveld Centrum\", \"ns2:UICCode\": \"8400091\"}, \"ns2:TreinAankomst\": {\"ns2:TreinNummer\": \"31301\", \"ns2:TreinSoort\": {\"@Code\": \"ST\", \"#text\": \"Stoptrein\"}, \"ns2:TreinStatus\": \"0\", \"ns2:Vervoerder\": \"Valleilijn\", \"ns2:TreinHerkomst\": [{\"@InfoStatus\": \"Gepland\", \"ns2:StationCode\": \"AMF\", \"ns2:Type\": \"5\", \"ns2:KorteNaam\": \"Amersfrt C\", \"ns2:MiddelNaam\": \"Amersfoort C.\", \"ns2:LangeNaam\": \"Amersfoort Centraal\", \"ns2:UICCode\": \"8400055\"}, {\"@InfoStatus\": \"Actueel\", \"ns2:StationCode\": \"AMF\", \"ns2:Type\": \"5\", \"ns2:KorteNaam\": \"Amersfrt C\", \"ns2:MiddelNaam\": \"Amersfoort C.\", \"ns2:LangeNaam\": \"Amersfoort Centraal\", \"ns2:UICCode\": \"8400055\"}], \"ns2:PresentatieTreinHerkomst\": {\"ns2:Uitingen\": {\"ns2:Uiting\": \"Amersfoort C.\"}}, \"ns2:AankomstTijd\": [{\"@InfoStatus\": \"Gepland\", \"#text\": \"2020-05-04T03:23:00.000Z\"}, {\"@InfoStatus\": \"Actueel\", \"#text\": \"2020-05-04T03:23:00.000Z\"}], \"ns2:ExacteAankomstVertraging\": \"PT0S\", \"ns2:GedempteAankomstVertraging\": \"PT0S\", \"ns2:TreinAankomstSpoor\": [{\"@InfoStatus\": \"Gepland\", \"ns2:SpoorNummer\": \"1\"}, {\"@InfoStatus\": \"Actueel\", \"ns2:SpoorNummer\": \"1\"}], \"ns2:PresentatieTreinAankomstSpoor\": {\"ns2:Uitingen\": {\"ns2:Uiting\": \"1\"}}}}}}}')\n",
      "(None, u'{\"ns1:PutReisInformatieBoodschapIn\": {\"@xmlns:ns1\": \"urn:ndov:cdm:trein:reisinformatie:messages:dynamischeaankomststaat:1\", \"@xmlns:ns2\": \"urn:ndov:cdm:trein:reisinformatie:data:4\", \"ns2:ReisInformatieProductDAS\": {\"@TimeStamp\": \"2020-05-04T02:13:02.155Z\", \"@Versie\": \"6.1\", \"ns2:RIPAdministratie\": {\"ns2:ReisInformatieProductID\": \"2005040413022400008\", \"ns2:AbonnementId\": \"55\", \"ns2:ReisInformatieTijdstip\": \"2020-05-04T03:23:00.000Z\"}, \"ns2:DynamischeAankomstStaat\": {\"ns2:RitId\": \"3317\", \"ns2:RitDatum\": \"2020-05-04\", \"ns2:RitStation\": {\"ns2:StationCode\": \"PMW\", \"ns2:Type\": \"0\", \"ns2:KorteNaam\": \"Weidevenne\", \"ns2:MiddelNaam\": \"Weidevenne\", \"ns2:LangeNaam\": \"Purmerend Weidevenne\", \"ns2:UICCode\": \"8400499\"}, \"ns2:TreinAankomst\": {\"ns2:TreinNummer\": \"3317\", \"ns2:TreinSoort\": {\"@Code\": \"SPR\", \"#text\": \"Sprinter\"}, \"ns2:TreinStatus\": \"0\", \"ns2:Vervoerder\": \"NS\", \"ns2:TreinHerkomst\": [{\"@InfoStatus\": \"Gepland\", \"ns2:StationCode\": \"EKZ\", \"ns2:Type\": \"0\", \"ns2:KorteNaam\": \"Enkhuizen\", \"ns2:MiddelNaam\": \"Enkhuizen\", \"ns2:LangeNaam\": \"Enkhuizen\", \"ns2:UICCode\": \"8400210\"}, {\"@InfoStatus\": \"Actueel\", \"ns2:StationCode\": \"EKZ\", \"ns2:Type\": \"0\", \"ns2:KorteNaam\": \"Enkhuizen\", \"ns2:MiddelNaam\": \"Enkhuizen\", \"ns2:LangeNaam\": \"Enkhuizen\", \"ns2:UICCode\": \"8400210\"}], \"ns2:PresentatieTreinHerkomst\": {\"ns2:Uitingen\": {\"ns2:Uiting\": \"Enkhuizen\"}}, \"ns2:AankomstTijd\": [{\"@InfoStatus\": \"Gepland\", \"#text\": \"2020-05-04T03:23:00.000Z\"}, {\"@InfoStatus\": \"Actueel\", \"#text\": \"2020-05-04T03:23:00.000Z\"}], \"ns2:ExacteAankomstVertraging\": \"PT0S\", \"ns2:GedempteAankomstVertraging\": \"PT0S\", \"ns2:TreinAankomstSpoor\": [{\"@InfoStatus\": \"Gepland\", \"ns2:SpoorNummer\": \"1\"}, {\"@InfoStatus\": \"Actueel\", \"ns2:SpoorNummer\": \"1\"}], \"ns2:PresentatieTreinAankomstSpoor\": {\"ns2:Uitingen\": {\"ns2:Uiting\": \"1\"}}, \"ns2:VerkorteRouteHerkomst\": [{\"@InfoStatus\": \"Gepland\", \"ns2:Station\": [{\"ns2:StationCode\": \"HN\", \"ns2:Type\": \"5\", \"ns2:KorteNaam\": \"Hoorn\", \"ns2:MiddelNaam\": \"Hoorn\", \"ns2:LangeNaam\": \"Hoorn\", \"ns2:UICCode\": \"8400337\"}, {\"ns2:StationCode\": \"PMR\", \"ns2:Type\": \"1\", \"ns2:KorteNaam\": \"Purmerend\", \"ns2:MiddelNaam\": \"Purmerend\", \"ns2:LangeNaam\": \"Purmerend\", \"ns2:UICCode\": \"8400508\"}]}, {\"@InfoStatus\": \"Actueel\", \"ns2:Station\": [{\"ns2:StationCode\": \"HN\", \"ns2:Type\": \"5\", \"ns2:KorteNaam\": \"Hoorn\", \"ns2:MiddelNaam\": \"Hoorn\", \"ns2:LangeNaam\": \"Hoorn\", \"ns2:UICCode\": \"8400337\"}, {\"ns2:StationCode\": \"PMR\", \"ns2:Type\": \"1\", \"ns2:KorteNaam\": \"Purmerend\", \"ns2:MiddelNaam\": \"Purmerend\", \"ns2:LangeNaam\": \"Purmerend\", \"ns2:UICCode\": \"8400508\"}]}], \"ns2:PresentatieVerkorteRouteHerkomst\": {\"ns2:Uitingen\": {\"ns2:Uiting\": \"Hoorn, Purmerend\"}}}}}}}')\n",
      "(None, u'{\"ns1:PutReisInformatieBoodschapIn\": {\"@xmlns:ns1\": \"urn:ndov:cdm:trein:reisinformatie:messages:dynamischeaankomststaat:1\", \"@xmlns:ns2\": \"urn:ndov:cdm:trein:reisinformatie:data:4\", \"ns2:ReisInformatieProductDAS\": {\"@TimeStamp\": \"2020-05-04T02:13:02.125Z\", \"@Versie\": \"6.1\", \"ns2:RIPAdministratie\": {\"ns2:ReisInformatieProductID\": \"2005040413022400002\", \"ns2:AbonnementId\": \"55\", \"ns2:ReisInformatieTijdstip\": \"2020-05-04T03:23:00.000Z\"}, \"ns2:DynamischeAankomstStaat\": {\"ns2:RitId\": \"4019\", \"ns2:RitDatum\": \"2020-05-04\", \"ns2:RitStation\": {\"ns2:StationCode\": \"KMA\", \"ns2:Type\": \"0\", \"ns2:KorteNaam\": \"Krommenie\", \"ns2:MiddelNaam\": \"Krommenie-Ass.\", \"ns2:LangeNaam\": \"Krommenie-Assendelft\", \"ns2:UICCode\": \"8400368\"}, \"ns2:TreinAankomst\": {\"ns2:TreinNummer\": \"4019\", \"ns2:TreinSoort\": {\"@Code\": \"SPR\", \"#text\": \"Sprinter\"}, \"ns2:TreinStatus\": \"0\", \"ns2:Vervoerder\": \"NS\", \"ns2:TreinHerkomst\": [{\"@InfoStatus\": \"Gepland\", \"ns2:StationCode\": \"AMR\", \"ns2:Type\": \"5\", \"ns2:KorteNaam\": \"Alkmaar\", \"ns2:MiddelNaam\": \"Alkmaar\", \"ns2:LangeNaam\": \"Alkmaar\", \"ns2:UICCode\": \"8400050\"}, {\"@InfoStatus\": \"Actueel\", \"ns2:StationCode\": \"AMR\", \"ns2:Type\": \"5\", \"ns2:KorteNaam\": \"Alkmaar\", \"ns2:MiddelNaam\": \"Alkmaar\", \"ns2:LangeNaam\": \"Alkmaar\", \"ns2:UICCode\": \"8400050\"}], \"ns2:PresentatieTreinHerkomst\": {\"ns2:Uitingen\": {\"ns2:Uiting\": \"Alkmaar\"}}, \"ns2:AankomstTijd\": [{\"@InfoStatus\": \"Gepland\", \"#text\": \"2020-05-04T03:23:00.000Z\"}, {\"@InfoStatus\": \"Actueel\", \"#text\": \"2020-05-04T03:23:00.000Z\"}], \"ns2:ExacteAankomstVertraging\": \"PT0S\", \"ns2:GedempteAankomstVertraging\": \"PT0S\", \"ns2:TreinAankomstSpoor\": [{\"@InfoStatus\": \"Gepland\", \"ns2:SpoorNummer\": \"2\"}, {\"@InfoStatus\": \"Actueel\", \"ns2:SpoorNummer\": \"2\"}], \"ns2:PresentatieTreinAankomstSpoor\": {\"ns2:Uitingen\": {\"ns2:Uiting\": \"2\"}}, \"ns2:VerkorteRouteHerkomst\": [{\"@InfoStatus\": \"Gepland\", \"ns2:Station\": {\"ns2:StationCode\": \"UTG\", \"ns2:Type\": \"1\", \"ns2:KorteNaam\": \"Uitgeest\", \"ns2:MiddelNaam\": \"Uitgeest\", \"ns2:LangeNaam\": \"Uitgeest\", \"ns2:UICCode\": \"8400615\"}}, {\"@InfoStatus\": \"Actueel\", \"ns2:Station\": {\"ns2:StationCode\": \"UTG\", \"ns2:Type\": \"1\", \"ns2:KorteNaam\": \"Uitgeest\", \"ns2:MiddelNaam\": \"Uitgeest\", \"ns2:LangeNaam\": \"Uitgeest\", \"ns2:UICCode\": \"8400615\"}}], \"ns2:PresentatieVerkorteRouteHerkomst\": {\"ns2:Uitingen\": {\"ns2:Uiting\": \"Uitgeest\"}}}}}}}')\n",
      "(None, u'{\"ns1:PutReisInformatieBoodschapIn\": {\"@xmlns:ns1\": \"urn:ndov:cdm:trein:reisinformatie:messages:dynamischeaankomststaat:1\", \"@xmlns:ns2\": \"urn:ndov:cdm:trein:reisinformatie:data:4\", \"ns2:ReisInformatieProductDAS\": {\"@TimeStamp\": \"2020-05-04T02:13:02.162Z\", \"@Versie\": \"6.1\", \"ns2:RIPAdministratie\": {\"ns2:ReisInformatieProductID\": \"2005040413022400010\", \"ns2:AbonnementId\": \"55\", \"ns2:ReisInformatieTijdstip\": \"2020-05-04T03:23:00.000Z\"}, \"ns2:DynamischeAankomstStaat\": {\"ns2:RitId\": \"7213\", \"ns2:RitDatum\": \"2020-05-04\", \"ns2:RitStation\": {\"ns2:StationCode\": \"LDM\", \"ns2:Type\": \"0\", \"ns2:KorteNaam\": \"Leerdam\", \"ns2:MiddelNaam\": \"Leerdam\", \"ns2:LangeNaam\": \"Leerdam\", \"ns2:UICCode\": \"8400386\"}, \"ns2:TreinAankomst\": {\"ns2:TreinNummer\": \"7213\", \"ns2:TreinSoort\": {\"@Code\": \"ST\", \"#text\": \"Stoptrein\"}, \"ns2:TreinStatus\": \"0\", \"ns2:Vervoerder\": \"R-net\", \"ns2:TreinHerkomst\": [{\"@InfoStatus\": \"Gepland\", \"ns2:StationCode\": \"DDR\", \"ns2:Type\": \"5\", \"ns2:KorteNaam\": \"Dordrecht\", \"ns2:MiddelNaam\": \"Dordrecht\", \"ns2:LangeNaam\": \"Dordrecht\", \"ns2:UICCode\": \"8400180\"}, {\"@InfoStatus\": \"Actueel\", \"ns2:StationCode\": \"DDR\", \"ns2:Type\": \"5\", \"ns2:KorteNaam\": \"Dordrecht\", \"ns2:MiddelNaam\": \"Dordrecht\", \"ns2:LangeNaam\": \"Dordrecht\", \"ns2:UICCode\": \"8400180\"}], \"ns2:PresentatieTreinHerkomst\": {\"ns2:Uitingen\": {\"ns2:Uiting\": \"Dordrecht\"}}, \"ns2:AankomstTijd\": [{\"@InfoStatus\": \"Gepland\", \"#text\": \"2020-05-04T03:23:00.000Z\"}, {\"@InfoStatus\": \"Actueel\", \"#text\": \"2020-05-04T03:23:00.000Z\"}], \"ns2:ExacteAankomstVertraging\": \"PT0S\", \"ns2:GedempteAankomstVertraging\": \"PT0S\", \"ns2:TreinAankomstSpoor\": [{\"@InfoStatus\": \"Gepland\", \"ns2:SpoorNummer\": \"2\"}, {\"@InfoStatus\": \"Actueel\", \"ns2:SpoorNummer\": \"2\"}], \"ns2:PresentatieTreinAankomstSpoor\": {\"ns2:Uitingen\": {\"ns2:Uiting\": \"2\"}}, \"ns2:VerkorteRouteHerkomst\": [{\"@InfoStatus\": \"Gepland\", \"ns2:Station\": {\"ns2:StationCode\": \"GR\", \"ns2:Type\": \"1\", \"ns2:KorteNaam\": \"Gorinchem\", \"ns2:MiddelNaam\": \"Gorinchem\", \"ns2:LangeNaam\": \"Gorinchem\", \"ns2:UICCode\": \"8400256\"}}, {\"@InfoStatus\": \"Actueel\", \"ns2:Station\": {\"ns2:StationCode\": \"GR\", \"ns2:Type\": \"1\", \"ns2:KorteNaam\": \"Gorinchem\", \"ns2:MiddelNaam\": \"Gorinchem\", \"ns2:LangeNaam\": \"Gorinchem\", \"ns2:UICCode\": \"8400256\"}}], \"ns2:PresentatieVerkorteRouteHerkomst\": {\"ns2:Uitingen\": {\"ns2:Uiting\": \"Gorinchem\"}}}}}}}')\n",
      "(None, u'{\"ns1:PutReisInformatieBoodschapIn\": {\"@xmlns:ns1\": \"urn:ndov:cdm:trein:reisinformatie:messages:dynamischeaankomststaat:1\", \"@xmlns:ns2\": \"urn:ndov:cdm:trein:reisinformatie:data:4\", \"ns2:ReisInformatieProductDAS\": {\"@TimeStamp\": \"2020-05-04T02:13:02.150Z\", \"@Versie\": \"6.1\", \"ns2:RIPAdministratie\": {\"ns2:ReisInformatieProductID\": \"2005040413022400006\", \"ns2:AbonnementId\": \"55\", \"ns2:ReisInformatieTijdstip\": \"2020-05-04T03:23:00.000Z\"}, \"ns2:DynamischeAankomstStaat\": {\"ns2:RitId\": \"7215\", \"ns2:RitDatum\": \"2020-05-04\", \"ns2:RitStation\": {\"ns2:StationCode\": \"GND\", \"ns2:Type\": \"0\", \"ns2:KorteNaam\": \"Hardinxvld\", \"ns2:MiddelNaam\": \"Hardinxveld-G.\", \"ns2:LangeNaam\": \"Hardinxveld-Giessendam\", \"ns2:UICCode\": \"8400295\"}, \"ns2:TreinAankomst\": {\"ns2:TreinNummer\": \"7215\", \"ns2:TreinSoort\": {\"@Code\": \"ST\", \"#text\": \"Stoptrein\"}, \"ns2:TreinStatus\": \"0\", \"ns2:Vervoerder\": \"R-net\", \"ns2:TreinHerkomst\": [{\"@InfoStatus\": \"Gepland\", \"ns2:StationCode\": \"DDR\", \"ns2:Type\": \"5\", \"ns2:KorteNaam\": \"Dordrecht\", \"ns2:MiddelNaam\": \"Dordrecht\", \"ns2:LangeNaam\": \"Dordrecht\", \"ns2:UICCode\": \"8400180\"}, {\"@InfoStatus\": \"Actueel\", \"ns2:StationCode\": \"DDR\", \"ns2:Type\": \"5\", \"ns2:KorteNaam\": \"Dordrecht\", \"ns2:MiddelNaam\": \"Dordrecht\", \"ns2:LangeNaam\": \"Dordrecht\", \"ns2:UICCode\": \"8400180\"}], \"ns2:PresentatieTreinHerkomst\": {\"ns2:Uitingen\": {\"ns2:Uiting\": \"Dordrecht\"}}, \"ns2:AankomstTijd\": [{\"@InfoStatus\": \"Gepland\", \"#text\": \"2020-05-04T03:23:00.000Z\"}, {\"@InfoStatus\": \"Actueel\", \"#text\": \"2020-05-04T03:23:00.000Z\"}], \"ns2:ExacteAankomstVertraging\": \"PT0S\", \"ns2:GedempteAankomstVertraging\": \"PT0S\", \"ns2:TreinAankomstSpoor\": [{\"@InfoStatus\": \"Gepland\", \"ns2:SpoorNummer\": \"1\"}, {\"@InfoStatus\": \"Actueel\", \"ns2:SpoorNummer\": \"1\"}], \"ns2:PresentatieTreinAankomstSpoor\": {\"ns2:Uitingen\": {\"ns2:Uiting\": \"1\"}}}}}}}')\n",
      "\n",
      "-------------------------------------------\n",
      "Time: 2020-05-04 04:14:00\n",
      "-------------------------------------------\n",
      "(None, u'{\"ns1:PutReisInformatieBoodschapIn\": {\"@xmlns:ns1\": \"urn:ndov:cdm:trein:reisinformatie:messages:5\", \"@xmlns:ns2\": \"urn:ndov:cdm:trein:reisinformatie:data:4\", \"ns2:ReisInformatieProductDVS\": {\"@TimeStamp\": \"2020-05-04T02:13:01.160Z\", \"@Versie\": \"6.2\", \"ns2:RIPAdministratie\": {\"ns2:ReisInformatieProductID\": \"2005040413012400002\", \"ns2:AbonnementId\": \"54\", \"ns2:ReisInformatieTijdstip\": \"2020-05-04T03:23:00.000Z\"}, \"ns2:DynamischeVertrekStaat\": {\"ns2:RitId\": \"4019\", \"ns2:RitDatum\": \"2020-05-04\", \"ns2:RitStation\": {\"ns2:StationCode\": \"KMA\", \"ns2:Type\": \"0\", \"ns2:KorteNaam\": \"Krommenie\", \"ns2:MiddelNaam\": \"Krommenie-Ass.\", \"ns2:LangeNaam\": \"Krommenie-Assendelft\", \"ns2:UICCode\": \"8400368\"}, \"ns2:Trein\": {\"ns2:TreinNummer\": \"4019\", \"ns2:TreinSoort\": {\"@Code\": \"SPR\", \"#text\": \"Sprinter\"}, \"ns2:TreinFormule\": \"1\", \"ns2:TreinStatus\": \"0\", \"ns2:Vervoerder\": \"NS\", \"ns2:Reserveren\": \"N\", \"ns2:Toeslag\": \"N\", \"ns2:NietInstappen\": \"N\", \"ns2:AchterBlijvenAchtersteTreinDeel\": \"N\", \"ns2:RangeerBeweging\": \"N\", \"ns2:SpeciaalKaartje\": \"N\", \"ns2:TreinEindBestemming\": [{\"@InfoStatus\": \"Gepland\", \"ns2:StationCode\": \"RTD\", \"ns2:Type\": \"6\", \"ns2:KorteNaam\": \"Rotterdm C\", \"ns2:MiddelNaam\": \"Rotterdam C.\", \"ns2:LangeNaam\": \"Rotterdam Centraal\", \"ns2:UICCode\": \"8400530\"}, {\"@InfoStatus\": \"Actueel\", \"ns2:StationCode\": \"RTD\", \"ns2:Type\": \"6\", \"ns2:KorteNaam\": \"Rotterdm C\", \"ns2:MiddelNaam\": \"Rotterdam C.\", \"ns2:LangeNaam\": \"Rotterdam Centraal\", \"ns2:UICCode\": \"8400530\"}], \"ns2:PresentatieTreinEindBestemming\": {\"ns2:Uitingen\": {\"ns2:Uiting\": \"Rotterdam Centraal\"}}, \"ns2:VertrekTijd\": [{\"@InfoStatus\": \"Gepland\", \"#text\": \"2020-05-04T03:23:00.000Z\"}, {\"@InfoStatus\": \"Actueel\", \"#text\": \"2020-05-04T03:23:00.000Z\"}], \"ns2:ExacteVertrekVertraging\": \"PT0S\", \"ns2:GedempteVertrekVertraging\": \"PT0S\", \"ns2:TreinVertrekSpoor\": [{\"@InfoStatus\": \"Gepland\", \"ns2:SpoorNummer\": \"2\"}, {\"@InfoStatus\": \"Actueel\", \"ns2:SpoorNummer\": \"2\"}], \"ns2:PresentatieTreinVertrekSpoor\": {\"ns2:Uitingen\": {\"ns2:Uiting\": \"2\"}}, \"ns2:VertrekRichting\": \"A\", \"ns2:AfstandPerronEindKopVertrekTrein\": \"0\", \"ns2:VerkorteRoute\": [{\"@InfoStatus\": \"Gepland\", \"ns2:Station\": [{\"ns2:StationCode\": \"ZZS\", \"ns2:Type\": \"1\", \"ns2:KorteNaam\": \"Zaanse S.\", \"ns2:MiddelNaam\": \"Zaanse Schans\", \"ns2:LangeNaam\": \"Zaandijk Zaanse Schans\", \"ns2:UICCode\": \"8400364\"}, {\"ns2:StationCode\": \"ZD\", \"ns2:Type\": \"5\", \"ns2:KorteNaam\": \"Zaandam\", \"ns2:MiddelNaam\": \"Zaandam\", \"ns2:LangeNaam\": \"Zaandam\", \"ns2:UICCode\": \"8400731\"}, {\"ns2:StationCode\": \"ASS\", \"ns2:Type\": \"5\", \"ns2:KorteNaam\": \"Sloterdijk\", \"ns2:MiddelNaam\": \"Sloterdijk\", \"ns2:LangeNaam\": \"Amsterdam Sloterdijk\", \"ns2:UICCode\": \"8400059\"}, {\"ns2:StationCode\": \"ASD\", \"ns2:Type\": \"6\", \"ns2:KorteNaam\": \"Amsterdm C\", \"ns2:MiddelNaam\": \"Amsterdam C.\", \"ns2:LangeNaam\": \"Amsterdam Centraal\", \"ns2:UICCode\": \"8400058\"}]}, {\"@InfoStatus\": \"Actueel\", \"ns2:Station\": [{\"ns2:StationCode\": \"ZZS\", \"ns2:Type\": \"1\", \"ns2:KorteNaam\": \"Zaanse S.\", \"ns2:MiddelNaam\": \"Zaanse Schans\", \"ns2:LangeNaam\": \"Zaandijk Zaanse Schans\", \"ns2:UICCode\": \"8400364\"}, {\"ns2:StationCode\": \"ZD\", \"ns2:Type\": \"5\", \"ns2:KorteNaam\": \"Zaandam\", \"ns2:MiddelNaam\": \"Zaandam\", \"ns2:LangeNaam\": \"Zaandam\", \"ns2:UICCode\": \"8400731\"}, {\"ns2:StationCode\": \"ASS\", \"ns2:Type\": \"5\", \"ns2:KorteNaam\": \"Sloterdijk\", \"ns2:MiddelNaam\": \"Sloterdijk\", \"ns2:LangeNaam\": \"Amsterdam Sloterdijk\", \"ns2:UICCode\": \"8400059\"}, {\"ns2:StationCode\": \"ASD\", \"ns2:Type\": \"6\", \"ns2:KorteNaam\": \"Amsterdm C\", \"ns2:MiddelNaam\": \"Amsterdam C.\", \"ns2:LangeNaam\": \"Amsterdam Centraal\", \"ns2:UICCode\": \"8400058\"}]}], \"ns2:PresentatieVerkorteRoute\": {\"ns2:Uitingen\": {\"ns2:Uiting\": \"Zaanse Schans, Zaandam, Sloterdijk, Amsterdam C.\"}}, \"ns2:TreinVleugel\": {\"ns2:TreinVleugelVertrekSpoor\": [{\"@InfoStatus\": \"Gepland\", \"ns2:SpoorNummer\": \"2\"}, {\"@InfoStatus\": \"Actueel\", \"ns2:SpoorNummer\": \"2\"}], \"ns2:PresentatieTreinVleugelVertrekSpoor\": {\"ns2:Uitingen\": {\"ns2:Uiting\": \"2\"}}, \"ns2:TreinVleugelEindBestemming\": [{\"@InfoStatus\": \"Gepland\", \"ns2:StationCode\": \"RTD\", \"ns2:Type\": \"6\", \"ns2:KorteNaam\": \"Rotterdm C\", \"ns2:MiddelNaam\": \"Rotterdam C.\", \"ns2:LangeNaam\": \"Rotterdam Centraal\", \"ns2:UICCode\": \"8400530\"}, {\"@InfoStatus\": \"Actueel\", \"ns2:StationCode\": \"RTD\", \"ns2:Type\": \"6\", \"ns2:KorteNaam\": \"Rotterdm C\", \"ns2:MiddelNaam\": \"Rotterdam C.\", \"ns2:LangeNaam\": \"Rotterdam Centraal\", \"ns2:UICCode\": \"8400530\"}], \"ns2:PresentatieTreinVleugelEindBestemming\": {\"ns2:Uitingen\": {\"ns2:Uiting\": \"Rotterdam Centraal\"}}, \"ns2:StopStations\": [{\"@InfoStatus\": \"Gepland\", \"ns2:Station\": [{\"ns2:StationCode\": \"WM\", \"ns2:Type\": \"0\", \"ns2:KorteNaam\": \"Wormerveer\", \"ns2:MiddelNaam\": \"Wormerveer\", \"ns2:LangeNaam\": \"Wormerveer\", \"ns2:UICCode\": \"8400707\"}, {\"ns2:StationCode\": \"ZZS\", \"ns2:Type\": \"1\", \"ns2:KorteNaam\": \"Zaanse S.\", \"ns2:MiddelNaam\": \"Zaanse Schans\", \"ns2:LangeNaam\": \"Zaandijk Zaanse Schans\", \"ns2:UICCode\": \"8400364\"}, {\"ns2:StationCode\": \"KZ\", \"ns2:Type\": \"0\", \"ns2:KorteNaam\": \"Koog Zaan\", \"ns2:MiddelNaam\": \"Koog a.d. Zaan\", \"ns2:LangeNaam\": \"Koog aan de Zaan\", \"ns2:UICCode\": \"8400363\"}, {\"ns2:StationCode\": \"ZD\", \"ns2:Type\": \"5\", \"ns2:KorteNaam\": \"Zaandam\", \"ns2:MiddelNaam\": \"Zaandam\", \"ns2:LangeNaam\": \"Zaandam\", \"ns2:UICCode\": \"8400731\"}, {\"ns2:StationCode\": \"ASS\", \"ns2:Type\": \"5\", \"ns2:KorteNaam\": \"Sloterdijk\", \"ns2:MiddelNaam\": \"Sloterdijk\", \"ns2:LangeNaam\": \"Amsterdam Sloterdijk\", \"ns2:UICCode\": \"8400059\"}, {\"ns2:StationCode\": \"ASD\", \"ns2:Type\": \"6\", \"ns2:KorteNaam\": \"Amsterdm C\", \"ns2:MiddelNaam\": \"Amsterdam C.\", \"ns2:LangeNaam\": \"Amsterdam Centraal\", \"ns2:UICCode\": \"8400058\"}, {\"ns2:StationCode\": \"ASDM\", \"ns2:Type\": \"0\", \"ns2:KorteNaam\": \"Muiderprt\", \"ns2:MiddelNaam\": \"Muiderpoort\", \"ns2:LangeNaam\": \"Amsterdam Muiderpoort\", \"ns2:UICCode\": \"8400060\"}, {\"ns2:StationCode\": \"ASA\", \"ns2:Type\": \"4\", \"ns2:KorteNaam\": \"Amstel\", \"ns2:MiddelNaam\": \"Amstel\", \"ns2:LangeNaam\": \"Amsterdam Amstel\", \"ns2:UICCode\": \"8400057\"}, {\"ns2:StationCode\": \"DVD\", \"ns2:Type\": \"1\", \"ns2:KorteNaam\": \"Duivendrt\", \"ns2:MiddelNaam\": \"Duivendrecht\", \"ns2:LangeNaam\": \"Duivendrecht\", \"ns2:UICCode\": \"8400194\"}, {\"ns2:StationCode\": \"ASB\", \"ns2:Type\": \"1\", \"ns2:KorteNaam\": \"Bijlmer A\", \"ns2:MiddelNaam\": \"Bijlmer ArenA\", \"ns2:LangeNaam\": \"Amsterdam Bijlmer ArenA\", \"ns2:UICCode\": \"8400074\"}, {\"ns2:StationCode\": \"ASHD\", \"ns2:Type\": \"0\", \"ns2:KorteNaam\": \"Holendrcht\", \"ns2:MiddelNaam\": \"Holendrecht\", \"ns2:LangeNaam\": \"Amsterdam Holendrecht\", \"ns2:UICCode\": \"8400231\"}, {\"ns2:StationCode\": \"AC\", \"ns2:Type\": \"0\", \"ns2:KorteNaam\": \"Abcoude\", \"ns2:MiddelNaam\": \"Abcoude\", \"ns2:LangeNaam\": \"Abcoude\", \"ns2:UICCode\": \"8400047\"}, {\"ns2:StationCode\": \"BKL\", \"ns2:Type\": \"1\", \"ns2:KorteNaam\": \"Breukelen\", \"ns2:MiddelNaam\": \"Breukelen\", \"ns2:LangeNaam\": \"Breukelen\", \"ns2:UICCode\": \"8400133\"}, {\"ns2:StationCode\": \"WD\", \"ns2:Type\": \"1\", \"ns2:KorteNaam\": \"Woerden\", \"ns2:MiddelNaam\": \"Woerden\", \"ns2:LangeNaam\": \"Woerden\", \"ns2:UICCode\": \"8400702\"}, {\"ns2:StationCode\": \"GDG\", \"ns2:Type\": \"0\", \"ns2:KorteNaam\": \"Goverwelle\", \"ns2:MiddelNaam\": \"Goverwelle\", \"ns2:LangeNaam\": \"Gouda Goverwelle\", \"ns2:UICCode\": \"8400257\"}, {\"ns2:StationCode\": \"GD\", \"ns2:Type\": \"5\", \"ns2:KorteNaam\": \"Gouda\", \"ns2:MiddelNaam\": \"Gouda\", \"ns2:LangeNaam\": \"Gouda\", \"ns2:UICCode\": \"8400258\"}, {\"ns2:StationCode\": \"NWK\", \"ns2:Type\": \"0\", \"ns2:KorteNaam\": \"Nieuwerkrk\", \"ns2:MiddelNaam\": \"Nieuwerkerk\", \"ns2:LangeNaam\": \"Nieuwerkerk a/d IJssel\", \"ns2:UICCode\": \"8400455\"}, {\"ns2:StationCode\": \"CPS\", \"ns2:Type\": \"0\", \"ns2:KorteNaam\": \"Schollevr\", \"ns2:MiddelNaam\": \"Schollevaar\", \"ns2:LangeNaam\": \"Capelle Schollevaar\", \"ns2:UICCode\": \"8400147\"}, {\"ns2:StationCode\": \"RTA\", \"ns2:Type\": \"4\", \"ns2:KorteNaam\": \"Alexander\", \"ns2:MiddelNaam\": \"Alexander\", \"ns2:LangeNaam\": \"Rotterdam Alexander\", \"ns2:UICCode\": \"8400507\"}, {\"ns2:StationCode\": \"RTN\", \"ns2:Type\": \"0\", \"ns2:KorteNaam\": \"Rotterdm N\", \"ns2:MiddelNaam\": \"Rotterdam N.\", \"ns2:LangeNaam\": \"Rotterdam Noord\", \"ns2:UICCode\": \"8400531\"}, {\"ns2:StationCode\": \"RTD\", \"ns2:Type\": \"6\", \"ns2:KorteNaam\": \"Rotterdm C\", \"ns2:MiddelNaam\": \"Rotterdam C.\", \"ns2:LangeNaam\": \"Rotterdam Centraal\", \"ns2:UICCode\": \"8400530\"}]}, {\"@InfoStatus\": \"Actueel\", \"ns2:Station\": [{\"ns2:StationCode\": \"WM\", \"ns2:Type\": \"0\", \"ns2:KorteNaam\": \"Wormerveer\", \"ns2:MiddelNaam\": \"Wormerveer\", \"ns2:LangeNaam\": \"Wormerveer\", \"ns2:UICCode\": \"8400707\"}, {\"ns2:StationCode\": \"ZZS\", \"ns2:Type\": \"1\", \"ns2:KorteNaam\": \"Zaanse S.\", \"ns2:MiddelNaam\": \"Zaanse Schans\", \"ns2:LangeNaam\": \"Zaandijk Zaanse Schans\", \"ns2:UICCode\": \"8400364\"}, {\"ns2:StationCode\": \"KZ\", \"ns2:Type\": \"0\", \"ns2:KorteNaam\": \"Koog Zaan\", \"ns2:MiddelNaam\": \"Koog a.d. Zaan\", \"ns2:LangeNaam\": \"Koog aan de Zaan\", \"ns2:UICCode\": \"8400363\"}, {\"ns2:StationCode\": \"ZD\", \"ns2:Type\": \"5\", \"ns2:KorteNaam\": \"Zaandam\", \"ns2:MiddelNaam\": \"Zaandam\", \"ns2:LangeNaam\": \"Zaandam\", \"ns2:UICCode\": \"8400731\"}, {\"ns2:StationCode\": \"ASS\", \"ns2:Type\": \"5\", \"ns2:KorteNaam\": \"Sloterdijk\", \"ns2:MiddelNaam\": \"Sloterdijk\", \"ns2:LangeNaam\": \"Amsterdam Sloterdijk\", \"ns2:UICCode\": \"8400059\"}, {\"ns2:StationCode\": \"ASD\", \"ns2:Type\": \"6\", \"ns2:KorteNaam\": \"Amsterdm C\", \"ns2:MiddelNaam\": \"Amsterdam C.\", \"ns2:LangeNaam\": \"Amsterdam Centraal\", \"ns2:UICCode\": \"8400058\"}, {\"ns2:StationCode\": \"ASDM\", \"ns2:Type\": \"0\", \"ns2:KorteNaam\": \"Muiderprt\", \"ns2:MiddelNaam\": \"Muiderpoort\", \"ns2:LangeNaam\": \"Amsterdam Muiderpoort\", \"ns2:UICCode\": \"8400060\"}, {\"ns2:StationCode\": \"ASA\", \"ns2:Type\": \"4\", \"ns2:KorteNaam\": \"Amstel\", \"ns2:MiddelNaam\": \"Amstel\", \"ns2:LangeNaam\": \"Amsterdam Amstel\", \"ns2:UICCode\": \"8400057\"}, {\"ns2:StationCode\": \"DVD\", \"ns2:Type\": \"1\", \"ns2:KorteNaam\": \"Duivendrt\", \"ns2:MiddelNaam\": \"Duivendrecht\", \"ns2:LangeNaam\": \"Duivendrecht\", \"ns2:UICCode\": \"8400194\"}, {\"ns2:StationCode\": \"ASB\", \"ns2:Type\": \"1\", \"ns2:KorteNaam\": \"Bijlmer A\", \"ns2:MiddelNaam\": \"Bijlmer ArenA\", \"ns2:LangeNaam\": \"Amsterdam Bijlmer ArenA\", \"ns2:UICCode\": \"8400074\"}, {\"ns2:StationCode\": \"ASHD\", \"ns2:Type\": \"0\", \"ns2:KorteNaam\": \"Holendrcht\", \"ns2:MiddelNaam\": \"Holendrecht\", \"ns2:LangeNaam\": \"Amsterdam Holendrecht\", \"ns2:UICCode\": \"8400231\"}, {\"ns2:StationCode\": \"AC\", \"ns2:Type\": \"0\", \"ns2:KorteNaam\": \"Abcoude\", \"ns2:MiddelNaam\": \"Abcoude\", \"ns2:LangeNaam\": \"Abcoude\", \"ns2:UICCode\": \"8400047\"}, {\"ns2:StationCode\": \"BKL\", \"ns2:Type\": \"1\", \"ns2:KorteNaam\": \"Breukelen\", \"ns2:MiddelNaam\": \"Breukelen\", \"ns2:LangeNaam\": \"Breukelen\", \"ns2:UICCode\": \"8400133\"}, {\"ns2:StationCode\": \"WD\", \"ns2:Type\": \"1\", \"ns2:KorteNaam\": \"Woerden\", \"ns2:MiddelNaam\": \"Woerden\", \"ns2:LangeNaam\": \"Woerden\", \"ns2:UICCode\": \"8400702\"}, {\"ns2:StationCode\": \"GDG\", \"ns2:Type\": \"0\", \"ns2:KorteNaam\": \"Goverwelle\", \"ns2:MiddelNaam\": \"Goverwelle\", \"ns2:LangeNaam\": \"Gouda Goverwelle\", \"ns2:UICCode\": \"8400257\"}, {\"ns2:StationCode\": \"GD\", \"ns2:Type\": \"5\", \"ns2:KorteNaam\": \"Gouda\", \"ns2:MiddelNaam\": \"Gouda\", \"ns2:LangeNaam\": \"Gouda\", \"ns2:UICCode\": \"8400258\"}, {\"ns2:StationCode\": \"NWK\", \"ns2:Type\": \"0\", \"ns2:KorteNaam\": \"Nieuwerkrk\", \"ns2:MiddelNaam\": \"Nieuwerkerk\", \"ns2:LangeNaam\": \"Nieuwerkerk a/d IJssel\", \"ns2:UICCode\": \"8400455\"}, {\"ns2:StationCode\": \"CPS\", \"ns2:Type\": \"0\", \"ns2:KorteNaam\": \"Schollevr\", \"ns2:MiddelNaam\": \"Schollevaar\", \"ns2:LangeNaam\": \"Capelle Schollevaar\", \"ns2:UICCode\": \"8400147\"}, {\"ns2:StationCode\": \"RTA\", \"ns2:Type\": \"4\", \"ns2:KorteNaam\": \"Alexander\", \"ns2:MiddelNaam\": \"Alexander\", \"ns2:LangeNaam\": \"Rotterdam Alexander\", \"ns2:UICCode\": \"8400507\"}, {\"ns2:StationCode\": \"RTN\", \"ns2:Type\": \"0\", \"ns2:KorteNaam\": \"Rotterdm N\", \"ns2:MiddelNaam\": \"Rotterdam N.\", \"ns2:LangeNaam\": \"Rotterdam Noord\", \"ns2:UICCode\": \"8400531\"}, {\"ns2:StationCode\": \"RTD\", \"ns2:Type\": \"6\", \"ns2:KorteNaam\": \"Rotterdm C\", \"ns2:MiddelNaam\": \"Rotterdam C.\", \"ns2:LangeNaam\": \"Rotterdam Centraal\", \"ns2:UICCode\": \"8400530\"}]}], \"ns2:MaterieelDeelDVS\": {\"ns2:MaterieelSoort\": \"SLT\", \"ns2:MaterieelAanduiding\": \"4\", \"ns2:MaterieelLengte\": \"6940\", \"ns2:MaterieelNummer\": \"000000-02426-0\", \"ns2:MaterieelDeelEindBestemming\": [{\"@InfoStatus\": \"Gepland\", \"ns2:StationCode\": \"RTD\", \"ns2:Type\": \"6\", \"ns2:KorteNaam\": \"Rotterdm C\", \"ns2:MiddelNaam\": \"Rotterdam C.\", \"ns2:LangeNaam\": \"Rotterdam Centraal\", \"ns2:UICCode\": \"8400530\"}, {\"@InfoStatus\": \"Actueel\", \"ns2:StationCode\": \"RTD\", \"ns2:Type\": \"6\", \"ns2:KorteNaam\": \"Rotterdm C\", \"ns2:MiddelNaam\": \"Rotterdam C.\", \"ns2:LangeNaam\": \"Rotterdam Centraal\", \"ns2:UICCode\": \"8400530\"}], \"ns2:PresentatieMaterieelDeelEindBestemming\": {\"ns2:Uitingen\": {\"ns2:Uiting\": \"Rotterdam Centraal\"}}}}}}}}}')\n",
      "(None, u'{\"ns1:PutReisInformatieBoodschapIn\": {\"@xmlns:ns1\": \"urn:ndov:cdm:trein:reisinformatie:messages:5\", \"@xmlns:ns2\": \"urn:ndov:cdm:trein:reisinformatie:data:4\", \"ns2:ReisInformatieProductDVS\": {\"@TimeStamp\": \"2020-05-04T02:13:01.147Z\", \"@Versie\": \"6.2\", \"ns2:RIPAdministratie\": {\"ns2:ReisInformatieProductID\": \"2005040413012400000\", \"ns2:AbonnementId\": \"54\", \"ns2:ReisInformatieTijdstip\": \"2020-05-04T03:23:00.000Z\"}, \"ns2:DynamischeVertrekStaat\": {\"ns2:RitId\": \"32007\", \"ns2:RitDatum\": \"2020-05-04\", \"ns2:RitStation\": {\"ns2:StationCode\": \"HRL\", \"ns2:Type\": \"5\", \"ns2:KorteNaam\": \"Heerlen\", \"ns2:MiddelNaam\": \"Heerlen\", \"ns2:LangeNaam\": \"Heerlen\", \"ns2:UICCode\": \"8400307\"}, \"ns2:Trein\": {\"ns2:TreinNummer\": \"32007\", \"ns2:TreinSoort\": {\"@Code\": \"ST\", \"#text\": \"Stoptrein\"}, \"ns2:TreinFormule\": \"1\", \"ns2:TreinStatus\": \"0\", \"ns2:LijnNummer\": \"RS18\", \"ns2:Vervoerder\": \"Arriva\", \"ns2:Reserveren\": \"N\", \"ns2:Toeslag\": \"N\", \"ns2:NietInstappen\": \"N\", \"ns2:AchterBlijvenAchtersteTreinDeel\": \"N\", \"ns2:RangeerBeweging\": \"N\", \"ns2:SpeciaalKaartje\": \"N\", \"ns2:TreinEindBestemming\": [{\"@InfoStatus\": \"Gepland\", \"ns2:StationCode\": \"MTR\", \"ns2:Type\": \"1\", \"ns2:KorteNaam\": \"Randwyck\", \"ns2:MiddelNaam\": \"Randwyck\", \"ns2:LangeNaam\": \"Maastricht Randwyck\", \"ns2:UICCode\": \"8400426\"}, {\"@InfoStatus\": \"Actueel\", \"ns2:StationCode\": \"MTR\", \"ns2:Type\": \"1\", \"ns2:KorteNaam\": \"Randwyck\", \"ns2:MiddelNaam\": \"Randwyck\", \"ns2:LangeNaam\": \"Maastricht Randwyck\", \"ns2:UICCode\": \"8400426\"}], \"ns2:PresentatieTreinEindBestemming\": {\"ns2:Uitingen\": {\"ns2:Uiting\": \"Maastricht Randwyck\"}}, \"ns2:VertrekTijd\": [{\"@InfoStatus\": \"Gepland\", \"#text\": \"2020-05-04T03:23:00.000Z\"}, {\"@InfoStatus\": \"Actueel\", \"#text\": \"2020-05-04T03:23:00.000Z\"}], \"ns2:ExacteVertrekVertraging\": \"PT0S\", \"ns2:GedempteVertrekVertraging\": \"PT0S\", \"ns2:TreinVertrekSpoor\": [{\"@InfoStatus\": \"Gepland\", \"ns2:SpoorNummer\": \"4\"}, {\"@InfoStatus\": \"Actueel\", \"ns2:SpoorNummer\": \"4\"}], \"ns2:PresentatieTreinVertrekSpoor\": {\"ns2:Uitingen\": {\"ns2:Uiting\": \"4\"}}, \"ns2:VertrekRichting\": \"A\", \"ns2:AfstandPerronEindKopVertrekTrein\": \"0\", \"ns2:VerkorteRoute\": [{\"@InfoStatus\": \"Gepland\", \"ns2:Station\": [{\"ns2:StationCode\": \"VK\", \"ns2:Type\": \"3\", \"ns2:KorteNaam\": \"Valkenburg\", \"ns2:MiddelNaam\": \"Valkenburg\", \"ns2:LangeNaam\": \"Valkenburg\", \"ns2:UICCode\": \"8400632\"}, {\"ns2:StationCode\": \"MT\", \"ns2:Type\": \"5\", \"ns2:KorteNaam\": \"Maastricht\", \"ns2:MiddelNaam\": \"Maastricht\", \"ns2:LangeNaam\": \"Maastricht\", \"ns2:UICCode\": \"8400424\"}]}, {\"@InfoStatus\": \"Actueel\", \"ns2:Station\": [{\"ns2:StationCode\": \"VK\", \"ns2:Type\": \"3\", \"ns2:KorteNaam\": \"Valkenburg\", \"ns2:MiddelNaam\": \"Valkenburg\", \"ns2:LangeNaam\": \"Valkenburg\", \"ns2:UICCode\": \"8400632\"}, {\"ns2:StationCode\": \"MT\", \"ns2:Type\": \"5\", \"ns2:KorteNaam\": \"Maastricht\", \"ns2:MiddelNaam\": \"Maastricht\", \"ns2:LangeNaam\": \"Maastricht\", \"ns2:UICCode\": \"8400424\"}]}], \"ns2:PresentatieVerkorteRoute\": {\"ns2:Uitingen\": {\"ns2:Uiting\": \"Valkenburg, Maastricht\"}}, \"ns2:TreinVleugel\": {\"ns2:TreinVleugelVertrekSpoor\": [{\"@InfoStatus\": \"Gepland\", \"ns2:SpoorNummer\": \"4\"}, {\"@InfoStatus\": \"Actueel\", \"ns2:SpoorNummer\": \"4\"}], \"ns2:PresentatieTreinVleugelVertrekSpoor\": {\"ns2:Uitingen\": {\"ns2:Uiting\": \"4\"}}, \"ns2:TreinVleugelEindBestemming\": [{\"@InfoStatus\": \"Gepland\", \"ns2:StationCode\": \"MTR\", \"ns2:Type\": \"1\", \"ns2:KorteNaam\": \"Randwyck\", \"ns2:MiddelNaam\": \"Randwyck\", \"ns2:LangeNaam\": \"Maastricht Randwyck\", \"ns2:UICCode\": \"8400426\"}, {\"@InfoStatus\": \"Actueel\", \"ns2:StationCode\": \"MTR\", \"ns2:Type\": \"1\", \"ns2:KorteNaam\": \"Randwyck\", \"ns2:MiddelNaam\": \"Randwyck\", \"ns2:LangeNaam\": \"Maastricht Randwyck\", \"ns2:UICCode\": \"8400426\"}], \"ns2:PresentatieTreinVleugelEindBestemming\": {\"ns2:Uitingen\": {\"ns2:Uiting\": \"Maastricht Randwyck\"}}, \"ns2:StopStations\": [{\"@InfoStatus\": \"Gepland\", \"ns2:Station\": [{\"ns2:StationCode\": \"HRLW\", \"ns2:Type\": \"0\", \"ns2:KorteNaam\": \"Heerlen W\", \"ns2:MiddelNaam\": \"Hrl Woonblvd\", \"ns2:LangeNaam\": \"Heerlen Woonboulevard\", \"ns2:UICCode\": \"8400404\"}, {\"ns2:StationCode\": \"VDL\", \"ns2:Type\": \"0\", \"ns2:KorteNaam\": \"Voerendaal\", \"ns2:MiddelNaam\": \"Voerendaal\", \"ns2:LangeNaam\": \"Voerendaal\", \"ns2:UICCode\": \"8400656\"}, {\"ns2:StationCode\": \"KMR\", \"ns2:Type\": \"0\", \"ns2:KorteNaam\": \"Klimmen-R\", \"ns2:MiddelNaam\": \"Klimmen-Ransdaal\", \"ns2:LangeNaam\": \"Klimmen-Ransdaal\", \"ns2:UICCode\": \"8400362\"}, {\"ns2:StationCode\": \"SOG\", \"ns2:Type\": \"0\", \"ns2:KorteNaam\": \"Schin op G\", \"ns2:MiddelNaam\": \"Schin op Geul\", \"ns2:LangeNaam\": \"Schin op Geul\", \"ns2:UICCode\": \"8400555\"}, {\"ns2:StationCode\": \"VK\", \"ns2:Type\": \"3\", \"ns2:KorteNaam\": \"Valkenburg\", \"ns2:MiddelNaam\": \"Valkenburg\", \"ns2:LangeNaam\": \"Valkenburg\", \"ns2:UICCode\": \"8400632\"}, {\"ns2:StationCode\": \"SGL\", \"ns2:Type\": \"0\", \"ns2:KorteNaam\": \"Houthem-St\", \"ns2:MiddelNaam\": \"Houthem-St Gerl.\", \"ns2:LangeNaam\": \"Houthem-St. Gerlach\", \"ns2:UICCode\": \"8400341\"}, {\"ns2:StationCode\": \"MES\", \"ns2:Type\": \"2\", \"ns2:KorteNaam\": \"Meerssen\", \"ns2:MiddelNaam\": \"Meerssen\", \"ns2:LangeNaam\": \"Meerssen\", \"ns2:UICCode\": \"8400434\"}, {\"ns2:StationCode\": \"MTN\", \"ns2:Type\": \"0\", \"ns2:KorteNaam\": \"Maastr. N\", \"ns2:MiddelNaam\": \"Maastricht N.\", \"ns2:LangeNaam\": \"Maastricht Noord\", \"ns2:UICCode\": \"8400449\"}, {\"ns2:StationCode\": \"MT\", \"ns2:Type\": \"5\", \"ns2:KorteNaam\": \"Maastricht\", \"ns2:MiddelNaam\": \"Maastricht\", \"ns2:LangeNaam\": \"Maastricht\", \"ns2:UICCode\": \"8400424\"}, {\"ns2:StationCode\": \"MTR\", \"ns2:Type\": \"1\", \"ns2:KorteNaam\": \"Randwyck\", \"ns2:MiddelNaam\": \"Randwyck\", \"ns2:LangeNaam\": \"Maastricht Randwyck\", \"ns2:UICCode\": \"8400426\"}]}, {\"@InfoStatus\": \"Actueel\", \"ns2:Station\": [{\"ns2:StationCode\": \"HRLW\", \"ns2:Type\": \"0\", \"ns2:KorteNaam\": \"Heerlen W\", \"ns2:MiddelNaam\": \"Hrl Woonblvd\", \"ns2:LangeNaam\": \"Heerlen Woonboulevard\", \"ns2:UICCode\": \"8400404\"}, {\"ns2:StationCode\": \"VDL\", \"ns2:Type\": \"0\", \"ns2:KorteNaam\": \"Voerendaal\", \"ns2:MiddelNaam\": \"Voerendaal\", \"ns2:LangeNaam\": \"Voerendaal\", \"ns2:UICCode\": \"8400656\"}, {\"ns2:StationCode\": \"KMR\", \"ns2:Type\": \"0\", \"ns2:KorteNaam\": \"Klimmen-R\", \"ns2:MiddelNaam\": \"Klimmen-Ransdaal\", \"ns2:LangeNaam\": \"Klimmen-Ransdaal\", \"ns2:UICCode\": \"8400362\"}, {\"ns2:StationCode\": \"SOG\", \"ns2:Type\": \"0\", \"ns2:KorteNaam\": \"Schin op G\", \"ns2:MiddelNaam\": \"Schin op Geul\", \"ns2:LangeNaam\": \"Schin op Geul\", \"ns2:UICCode\": \"8400555\"}, {\"ns2:StationCode\": \"VK\", \"ns2:Type\": \"3\", \"ns2:KorteNaam\": \"Valkenburg\", \"ns2:MiddelNaam\": \"Valkenburg\", \"ns2:LangeNaam\": \"Valkenburg\", \"ns2:UICCode\": \"8400632\"}, {\"ns2:StationCode\": \"SGL\", \"ns2:Type\": \"0\", \"ns2:KorteNaam\": \"Houthem-St\", \"ns2:MiddelNaam\": \"Houthem-St Gerl.\", \"ns2:LangeNaam\": \"Houthem-St. Gerlach\", \"ns2:UICCode\": \"8400341\"}, {\"ns2:StationCode\": \"MES\", \"ns2:Type\": \"2\", \"ns2:KorteNaam\": \"Meerssen\", \"ns2:MiddelNaam\": \"Meerssen\", \"ns2:LangeNaam\": \"Meerssen\", \"ns2:UICCode\": \"8400434\"}, {\"ns2:StationCode\": \"MTN\", \"ns2:Type\": \"0\", \"ns2:KorteNaam\": \"Maastr. N\", \"ns2:MiddelNaam\": \"Maastricht N.\", \"ns2:LangeNaam\": \"Maastricht Noord\", \"ns2:UICCode\": \"8400449\"}, {\"ns2:StationCode\": \"MT\", \"ns2:Type\": \"5\", \"ns2:KorteNaam\": \"Maastricht\", \"ns2:MiddelNaam\": \"Maastricht\", \"ns2:LangeNaam\": \"Maastricht\", \"ns2:UICCode\": \"8400424\"}, {\"ns2:StationCode\": \"MTR\", \"ns2:Type\": \"1\", \"ns2:KorteNaam\": \"Randwyck\", \"ns2:MiddelNaam\": \"Randwyck\", \"ns2:LangeNaam\": \"Maastricht Randwyck\", \"ns2:UICCode\": \"8400426\"}]}], \"ns2:MaterieelDeelDVS\": [{\"ns2:MaterieelSoort\": \"FLIRT ARR\", \"ns2:MaterieelAanduiding\": \"2\", \"ns2:MaterieelLengte\": \"4600\", \"ns2:MaterieelDeelVertrekPositie\": \"1\", \"ns2:MaterieelDeelVolgordeVertrek\": \"1\", \"ns2:MaterieelDeelEindBestemming\": [{\"@InfoStatus\": \"Gepland\", \"ns2:StationCode\": \"MTR\", \"ns2:Type\": \"1\", \"ns2:KorteNaam\": \"Randwyck\", \"ns2:MiddelNaam\": \"Randwyck\", \"ns2:LangeNaam\": \"Maastricht Randwyck\", \"ns2:UICCode\": \"8400426\"}, {\"@InfoStatus\": \"Actueel\", \"ns2:StationCode\": \"MTR\", \"ns2:Type\": \"1\", \"ns2:KorteNaam\": \"Randwyck\", \"ns2:MiddelNaam\": \"Randwyck\", \"ns2:LangeNaam\": \"Maastricht Randwyck\", \"ns2:UICCode\": \"8400426\"}], \"ns2:PresentatieMaterieelDeelEindBestemming\": {\"ns2:Uitingen\": {\"ns2:Uiting\": \"Maastricht Randwyck\"}}}, {\"ns2:MaterieelSoort\": \"FLIRT ARR\", \"ns2:MaterieelAanduiding\": \"2\", \"ns2:MaterieelLengte\": \"4600\", \"ns2:MaterieelDeelVertrekPositie\": \"1\", \"ns2:MaterieelDeelVolgordeVertrek\": \"2\", \"ns2:MaterieelDeelEindBestemming\": [{\"@InfoStatus\": \"Gepland\", \"ns2:StationCode\": \"MTR\", \"ns2:Type\": \"1\", \"ns2:KorteNaam\": \"Randwyck\", \"ns2:MiddelNaam\": \"Randwyck\", \"ns2:LangeNaam\": \"Maastricht Randwyck\", \"ns2:UICCode\": \"8400426\"}, {\"@InfoStatus\": \"Actueel\", \"ns2:StationCode\": \"MTR\", \"ns2:Type\": \"1\", \"ns2:KorteNaam\": \"Randwyck\", \"ns2:MiddelNaam\": \"Randwyck\", \"ns2:LangeNaam\": \"Maastricht Randwyck\", \"ns2:UICCode\": \"8400426\"}], \"ns2:PresentatieMaterieelDeelEindBestemming\": {\"ns2:Uitingen\": {\"ns2:Uiting\": \"Maastricht Randwyck\"}}}]}}}}}}')\n",
      "(None, u'{\"ns1:PutReisInformatieBoodschapIn\": {\"@xmlns:ns1\": \"urn:ndov:cdm:trein:reisinformatie:messages:5\", \"@xmlns:ns2\": \"urn:ndov:cdm:trein:reisinformatie:data:4\", \"ns2:ReisInformatieProductDVS\": {\"@TimeStamp\": \"2020-05-04T02:13:01.188Z\", \"@Versie\": \"6.2\", \"ns2:RIPAdministratie\": {\"ns2:ReisInformatieProductID\": \"2005040413012400008\", \"ns2:AbonnementId\": \"54\", \"ns2:ReisInformatieTijdstip\": \"2020-05-04T03:23:00.000Z\"}, \"ns2:DynamischeVertrekStaat\": {\"ns2:RitId\": \"7215\", \"ns2:RitDatum\": \"2020-05-04\", \"ns2:RitStation\": {\"ns2:StationCode\": \"GND\", \"ns2:Type\": \"0\", \"ns2:KorteNaam\": \"Hardinxvld\", \"ns2:MiddelNaam\": \"Hardinxveld-G.\", \"ns2:LangeNaam\": \"Hardinxveld-Giessendam\", \"ns2:UICCode\": \"8400295\"}, \"ns2:Trein\": {\"ns2:TreinNummer\": \"7215\", \"ns2:TreinSoort\": {\"@Code\": \"ST\", \"#text\": \"Stoptrein\"}, \"ns2:TreinFormule\": \"1\", \"ns2:TreinStatus\": \"0\", \"ns2:Vervoerder\": \"R-net\", \"ns2:Reserveren\": \"N\", \"ns2:Toeslag\": \"N\", \"ns2:NietInstappen\": \"N\", \"ns2:AchterBlijvenAchtersteTreinDeel\": \"N\", \"ns2:RangeerBeweging\": \"N\", \"ns2:SpeciaalKaartje\": \"N\", \"ns2:TreinEindBestemming\": [{\"@InfoStatus\": \"Gepland\", \"ns2:StationCode\": \"GDM\", \"ns2:Type\": \"1\", \"ns2:KorteNaam\": \"Geldermlsn\", \"ns2:MiddelNaam\": \"Geldermalsen\", \"ns2:LangeNaam\": \"Geldermalsen\", \"ns2:UICCode\": \"8400244\"}, {\"@InfoStatus\": \"Actueel\", \"ns2:StationCode\": \"GDM\", \"ns2:Type\": \"1\", \"ns2:KorteNaam\": \"Geldermlsn\", \"ns2:MiddelNaam\": \"Geldermalsen\", \"ns2:LangeNaam\": \"Geldermalsen\", \"ns2:UICCode\": \"8400244\"}], \"ns2:PresentatieTreinEindBestemming\": {\"ns2:Uitingen\": {\"ns2:Uiting\": \"Geldermalsen\"}}, \"ns2:VertrekTijd\": [{\"@InfoStatus\": \"Gepland\", \"#text\": \"2020-05-04T03:23:00.000Z\"}, {\"@InfoStatus\": \"Actueel\", \"#text\": \"2020-05-04T03:23:00.000Z\"}], \"ns2:ExacteVertrekVertraging\": \"PT0S\", \"ns2:GedempteVertrekVertraging\": \"PT0S\", \"ns2:TreinVertrekSpoor\": [{\"@InfoStatus\": \"Gepland\", \"ns2:SpoorNummer\": \"1\"}, {\"@InfoStatus\": \"Actueel\", \"ns2:SpoorNummer\": \"1\"}], \"ns2:PresentatieTreinVertrekSpoor\": {\"ns2:Uitingen\": {\"ns2:Uiting\": \"1\"}}, \"ns2:VertrekRichting\": \"A\", \"ns2:AfstandPerronEindKopVertrekTrein\": \"0\", \"ns2:VerkorteRoute\": [{\"@InfoStatus\": \"Gepland\", \"ns2:Station\": {\"ns2:StationCode\": \"GR\", \"ns2:Type\": \"1\", \"ns2:KorteNaam\": \"Gorinchem\", \"ns2:MiddelNaam\": \"Gorinchem\", \"ns2:LangeNaam\": \"Gorinchem\", \"ns2:UICCode\": \"8400256\"}}, {\"@InfoStatus\": \"Actueel\", \"ns2:Station\": {\"ns2:StationCode\": \"GR\", \"ns2:Type\": \"1\", \"ns2:KorteNaam\": \"Gorinchem\", \"ns2:MiddelNaam\": \"Gorinchem\", \"ns2:LangeNaam\": \"Gorinchem\", \"ns2:UICCode\": \"8400256\"}}], \"ns2:PresentatieVerkorteRoute\": {\"ns2:Uitingen\": {\"ns2:Uiting\": \"Gorinchem\"}}, \"ns2:TreinVleugel\": {\"ns2:TreinVleugelVertrekSpoor\": [{\"@InfoStatus\": \"Gepland\", \"ns2:SpoorNummer\": \"1\"}, {\"@InfoStatus\": \"Actueel\", \"ns2:SpoorNummer\": \"1\"}], \"ns2:PresentatieTreinVleugelVertrekSpoor\": {\"ns2:Uitingen\": {\"ns2:Uiting\": \"1\"}}, \"ns2:TreinVleugelEindBestemming\": [{\"@InfoStatus\": \"Gepland\", \"ns2:StationCode\": \"GDM\", \"ns2:Type\": \"1\", \"ns2:KorteNaam\": \"Geldermlsn\", \"ns2:MiddelNaam\": \"Geldermalsen\", \"ns2:LangeNaam\": \"Geldermalsen\", \"ns2:UICCode\": \"8400244\"}, {\"@InfoStatus\": \"Actueel\", \"ns2:StationCode\": \"GDM\", \"ns2:Type\": \"1\", \"ns2:KorteNaam\": \"Geldermlsn\", \"ns2:MiddelNaam\": \"Geldermalsen\", \"ns2:LangeNaam\": \"Geldermalsen\", \"ns2:UICCode\": \"8400244\"}], \"ns2:PresentatieTreinVleugelEindBestemming\": {\"ns2:Uitingen\": {\"ns2:Uiting\": \"Geldermalsen\"}}, \"ns2:StopStations\": [{\"@InfoStatus\": \"Gepland\", \"ns2:Station\": [{\"ns2:StationCode\": \"BHDV\", \"ns2:Type\": \"0\", \"ns2:KorteNaam\": \"Boven-Har\", \"ns2:MiddelNaam\": \"Boven-Hardinxv.\", \"ns2:LangeNaam\": \"Boven-Hardinxveld\", \"ns2:UICCode\": \"8400236\"}, {\"ns2:StationCode\": \"GR\", \"ns2:Type\": \"1\", \"ns2:KorteNaam\": \"Gorinchem\", \"ns2:MiddelNaam\": \"Gorinchem\", \"ns2:LangeNaam\": \"Gorinchem\", \"ns2:UICCode\": \"8400256\"}, {\"ns2:StationCode\": \"AKL\", \"ns2:Type\": \"0\", \"ns2:KorteNaam\": \"Arkel\", \"ns2:MiddelNaam\": \"Arkel\", \"ns2:LangeNaam\": \"Arkel\", \"ns2:UICCode\": \"8400068\"}, {\"ns2:StationCode\": \"LDM\", \"ns2:Type\": \"0\", \"ns2:KorteNaam\": \"Leerdam\", \"ns2:MiddelNaam\": \"Leerdam\", \"ns2:LangeNaam\": \"Leerdam\", \"ns2:UICCode\": \"8400386\"}, {\"ns2:StationCode\": \"BSD\", \"ns2:Type\": \"0\", \"ns2:KorteNaam\": \"Beesd\", \"ns2:MiddelNaam\": \"Beesd\", \"ns2:LangeNaam\": \"Beesd\", \"ns2:UICCode\": \"8400097\"}, {\"ns2:StationCode\": \"GDM\", \"ns2:Type\": \"1\", \"ns2:KorteNaam\": \"Geldermlsn\", \"ns2:MiddelNaam\": \"Geldermalsen\", \"ns2:LangeNaam\": \"Geldermalsen\", \"ns2:UICCode\": \"8400244\"}]}, {\"@InfoStatus\": \"Actueel\", \"ns2:Station\": [{\"ns2:StationCode\": \"BHDV\", \"ns2:Type\": \"0\", \"ns2:KorteNaam\": \"Boven-Har\", \"ns2:MiddelNaam\": \"Boven-Hardinxv.\", \"ns2:LangeNaam\": \"Boven-Hardinxveld\", \"ns2:UICCode\": \"8400236\"}, {\"ns2:StationCode\": \"GR\", \"ns2:Type\": \"1\", \"ns2:KorteNaam\": \"Gorinchem\", \"ns2:MiddelNaam\": \"Gorinchem\", \"ns2:LangeNaam\": \"Gorinchem\", \"ns2:UICCode\": \"8400256\"}, {\"ns2:StationCode\": \"AKL\", \"ns2:Type\": \"0\", \"ns2:KorteNaam\": \"Arkel\", \"ns2:MiddelNaam\": \"Arkel\", \"ns2:LangeNaam\": \"Arkel\", \"ns2:UICCode\": \"8400068\"}, {\"ns2:StationCode\": \"LDM\", \"ns2:Type\": \"0\", \"ns2:KorteNaam\": \"Leerdam\", \"ns2:MiddelNaam\": \"Leerdam\", \"ns2:LangeNaam\": \"Leerdam\", \"ns2:UICCode\": \"8400386\"}, {\"ns2:StationCode\": \"BSD\", \"ns2:Type\": \"0\", \"ns2:KorteNaam\": \"Beesd\", \"ns2:MiddelNaam\": \"Beesd\", \"ns2:LangeNaam\": \"Beesd\", \"ns2:UICCode\": \"8400097\"}, {\"ns2:StationCode\": \"GDM\", \"ns2:Type\": \"1\", \"ns2:KorteNaam\": \"Geldermlsn\", \"ns2:MiddelNaam\": \"Geldermalsen\", \"ns2:LangeNaam\": \"Geldermalsen\", \"ns2:UICCode\": \"8400244\"}]}], \"ns2:MaterieelDeelDVS\": [{\"ns2:MaterieelSoort\": \"GTW-E-QB\", \"ns2:MaterieelAanduiding\": \"2/8\", \"ns2:MaterieelLengte\": \"5600\", \"ns2:MaterieelDeelVertrekPositie\": \"1\", \"ns2:MaterieelDeelVolgordeVertrek\": \"1\", \"ns2:MaterieelDeelEindBestemming\": [{\"@InfoStatus\": \"Gepland\", \"ns2:StationCode\": \"GDM\", \"ns2:Type\": \"1\", \"ns2:KorteNaam\": \"Geldermlsn\", \"ns2:MiddelNaam\": \"Geldermalsen\", \"ns2:LangeNaam\": \"Geldermalsen\", \"ns2:UICCode\": \"8400244\"}, {\"@InfoStatus\": \"Actueel\", \"ns2:StationCode\": \"GDM\", \"ns2:Type\": \"1\", \"ns2:KorteNaam\": \"Geldermlsn\", \"ns2:MiddelNaam\": \"Geldermalsen\", \"ns2:LangeNaam\": \"Geldermalsen\", \"ns2:UICCode\": \"8400244\"}], \"ns2:PresentatieMaterieelDeelEindBestemming\": {\"ns2:Uitingen\": {\"ns2:Uiting\": \"Geldermalsen\"}}}, {\"ns2:MaterieelSoort\": \"GTW-E-QB\", \"ns2:MaterieelAanduiding\": \"2/6\", \"ns2:MaterieelLengte\": \"4100\", \"ns2:MaterieelDeelVertrekPositie\": \"1\", \"ns2:MaterieelDeelVolgordeVertrek\": \"2\", \"ns2:MaterieelDeelEindBestemming\": [{\"@InfoStatus\": \"Gepland\", \"ns2:StationCode\": \"GR\", \"ns2:Type\": \"1\", \"ns2:KorteNaam\": \"Gorinchem\", \"ns2:MiddelNaam\": \"Gorinchem\", \"ns2:LangeNaam\": \"Gorinchem\", \"ns2:UICCode\": \"8400256\"}, {\"@InfoStatus\": \"Actueel\", \"ns2:StationCode\": \"GR\", \"ns2:Type\": \"1\", \"ns2:KorteNaam\": \"Gorinchem\", \"ns2:MiddelNaam\": \"Gorinchem\", \"ns2:LangeNaam\": \"Gorinchem\", \"ns2:UICCode\": \"8400256\"}], \"ns2:PresentatieMaterieelDeelEindBestemming\": {\"ns2:Uitingen\": {\"ns2:Uiting\": \"Gorinchem\"}}}]}}}}}}')\n",
      "(None, u'{\"ns1:PutReisInformatieBoodschapIn\": {\"@xmlns:ns1\": \"urn:ndov:cdm:trein:reisinformatie:messages:5\", \"@xmlns:ns2\": \"urn:ndov:cdm:trein:reisinformatie:data:4\", \"ns2:ReisInformatieProductDVS\": {\"@TimeStamp\": \"2020-05-04T02:13:01.203Z\", \"@Versie\": \"6.2\", \"ns2:RIPAdministratie\": {\"ns2:ReisInformatieProductID\": \"2005040413012400012\", \"ns2:AbonnementId\": \"54\", \"ns2:ReisInformatieTijdstip\": \"2020-05-04T03:23:00.000Z\"}, \"ns2:DynamischeVertrekStaat\": {\"ns2:RitId\": \"37807\", \"ns2:RitDatum\": \"2020-05-04\", \"ns2:RitStation\": {\"ns2:StationCode\": \"GN\", \"ns2:Type\": \"5\", \"ns2:KorteNaam\": \"Groningen\", \"ns2:MiddelNaam\": \"Groningen\", \"ns2:LangeNaam\": \"Groningen\", \"ns2:UICCode\": \"8400263\"}, \"ns2:Trein\": {\"ns2:TreinNummer\": \"37807\", \"ns2:TreinSoort\": {\"@Code\": \"ST\", \"#text\": \"Stoptrein\"}, \"ns2:TreinFormule\": \"1\", \"ns2:TreinStatus\": \"0\", \"ns2:Vervoerder\": \"Arriva\", \"ns2:Reserveren\": \"N\", \"ns2:Toeslag\": \"N\", \"ns2:NietInstappen\": \"N\", \"ns2:AchterBlijvenAchtersteTreinDeel\": \"N\", \"ns2:RangeerBeweging\": \"N\", \"ns2:SpeciaalKaartje\": \"N\", \"ns2:TreinEindBestemming\": [{\"@InfoStatus\": \"Gepland\", \"ns2:StationCode\": \"VDM\", \"ns2:Type\": \"1\", \"ns2:KorteNaam\": \"Veendam\", \"ns2:MiddelNaam\": \"Veendam\", \"ns2:LangeNaam\": \"Veendam\", \"ns2:UICCode\": \"8400636\"}, {\"@InfoStatus\": \"Actueel\", \"ns2:StationCode\": \"VDM\", \"ns2:Type\": \"1\", \"ns2:KorteNaam\": \"Veendam\", \"ns2:MiddelNaam\": \"Veendam\", \"ns2:LangeNaam\": \"Veendam\", \"ns2:UICCode\": \"8400636\"}], \"ns2:PresentatieTreinEindBestemming\": {\"ns2:Uitingen\": {\"ns2:Uiting\": \"Veendam\"}}, \"ns2:VertrekTijd\": [{\"@InfoStatus\": \"Gepland\", \"#text\": \"2020-05-04T03:23:00.000Z\"}, {\"@InfoStatus\": \"Actueel\", \"#text\": \"2020-05-04T03:23:00.000Z\"}], \"ns2:ExacteVertrekVertraging\": \"PT0S\", \"ns2:GedempteVertrekVertraging\": \"PT0S\", \"ns2:TreinVertrekSpoor\": [{\"@InfoStatus\": \"Gepland\", \"ns2:SpoorNummer\": \"3\", \"ns2:SpoorFase\": \"b\"}, {\"@InfoStatus\": \"Actueel\", \"ns2:SpoorNummer\": \"1\", \"ns2:SpoorFase\": \"b\"}], \"ns2:PresentatieTreinVertrekSpoor\": {\"ns2:Uitingen\": {\"ns2:Uiting\": \"1b\"}}, \"ns2:VertrekRichting\": \"A\", \"ns2:AfstandPerronEindKopVertrekTrein\": \"0\", \"ns2:VerkorteRoute\": [{\"@InfoStatus\": \"Gepland\", \"ns2:Station\": [{\"ns2:StationCode\": \"HGZ\", \"ns2:Type\": \"1\", \"ns2:KorteNaam\": \"Hoogezand\", \"ns2:MiddelNaam\": \"Hoogezand-Sap.\", \"ns2:LangeNaam\": \"Hoogezand-Sappemeer\", \"ns2:UICCode\": \"8400331\"}, {\"ns2:StationCode\": \"ZB\", \"ns2:Type\": \"1\", \"ns2:KorteNaam\": \"Zuidbroek\", \"ns2:MiddelNaam\": \"Zuidbroek\", \"ns2:LangeNaam\": \"Zuidbroek\", \"ns2:UICCode\": \"8400742\"}]}, {\"@InfoStatus\": \"Actueel\", \"ns2:Station\": [{\"ns2:StationCode\": \"HGZ\", \"ns2:Type\": \"1\", \"ns2:KorteNaam\": \"Hoogezand\", \"ns2:MiddelNaam\": \"Hoogezand-Sap.\", \"ns2:LangeNaam\": \"Hoogezand-Sappemeer\", \"ns2:UICCode\": \"8400331\"}, {\"ns2:StationCode\": \"ZB\", \"ns2:Type\": \"1\", \"ns2:KorteNaam\": \"Zuidbroek\", \"ns2:MiddelNaam\": \"Zuidbroek\", \"ns2:LangeNaam\": \"Zuidbroek\", \"ns2:UICCode\": \"8400742\"}]}], \"ns2:PresentatieVerkorteRoute\": {\"ns2:Uitingen\": {\"ns2:Uiting\": \"Hoogezand-Sap., Zuidbroek\"}}, \"ns2:TreinVleugel\": {\"ns2:TreinVleugelVertrekSpoor\": [{\"@InfoStatus\": \"Gepland\", \"ns2:SpoorNummer\": \"3\", \"ns2:SpoorFase\": \"b\"}, {\"@InfoStatus\": \"Actueel\", \"ns2:SpoorNummer\": \"1\", \"ns2:SpoorFase\": \"b\"}], \"ns2:PresentatieTreinVleugelVertrekSpoor\": {\"ns2:Uitingen\": {\"ns2:Uiting\": \"1b\"}}, \"ns2:TreinVleugelEindBestemming\": [{\"@InfoStatus\": \"Gepland\", \"ns2:StationCode\": \"VDM\", \"ns2:Type\": \"1\", \"ns2:KorteNaam\": \"Veendam\", \"ns2:MiddelNaam\": \"Veendam\", \"ns2:LangeNaam\": \"Veendam\", \"ns2:UICCode\": \"8400636\"}, {\"@InfoStatus\": \"Actueel\", \"ns2:StationCode\": \"VDM\", \"ns2:Type\": \"1\", \"ns2:KorteNaam\": \"Veendam\", \"ns2:MiddelNaam\": \"Veendam\", \"ns2:LangeNaam\": \"Veendam\", \"ns2:UICCode\": \"8400636\"}], \"ns2:PresentatieTreinVleugelEindBestemming\": {\"ns2:Uitingen\": {\"ns2:Uiting\": \"Veendam\"}}, \"ns2:StopStations\": [{\"@InfoStatus\": \"Gepland\", \"ns2:Station\": [{\"ns2:StationCode\": \"GERP\", \"ns2:Type\": \"0\", \"ns2:KorteNaam\": \"Europapark\", \"ns2:MiddelNaam\": \"Europapark\", \"ns2:LangeNaam\": \"Groningen Europapark\", \"ns2:UICCode\": \"8400238\"}, {\"ns2:StationCode\": \"KW\", \"ns2:Type\": \"0\", \"ns2:KorteNaam\": \"Kropswolde\", \"ns2:MiddelNaam\": \"Kropswolde\", \"ns2:LangeNaam\": \"Kropswolde\", \"ns2:UICCode\": \"8400369\"}, {\"ns2:StationCode\": \"MTH\", \"ns2:Type\": \"0\", \"ns2:KorteNaam\": \"Martenshk\", \"ns2:MiddelNaam\": \"Martenshoek\", \"ns2:LangeNaam\": \"Martenshoek\", \"ns2:UICCode\": \"8400430\"}, {\"ns2:StationCode\": \"HGZ\", \"ns2:Type\": \"1\", \"ns2:KorteNaam\": \"Hoogezand\", \"ns2:MiddelNaam\": \"Hoogezand-Sap.\", \"ns2:LangeNaam\": \"Hoogezand-Sappemeer\", \"ns2:UICCode\": \"8400331\"}, {\"ns2:StationCode\": \"SPM\", \"ns2:Type\": \"0\", \"ns2:KorteNaam\": \"Sappemr O\", \"ns2:MiddelNaam\": \"Sappemeer O.\", \"ns2:LangeNaam\": \"Sappemeer Oost\", \"ns2:UICCode\": \"8400545\"}, {\"ns2:StationCode\": \"ZB\", \"ns2:Type\": \"1\", \"ns2:KorteNaam\": \"Zuidbroek\", \"ns2:MiddelNaam\": \"Zuidbroek\", \"ns2:LangeNaam\": \"Zuidbroek\", \"ns2:UICCode\": \"8400742\"}, {\"ns2:StationCode\": \"VDM\", \"ns2:Type\": \"1\", \"ns2:KorteNaam\": \"Veendam\", \"ns2:MiddelNaam\": \"Veendam\", \"ns2:LangeNaam\": \"Veendam\", \"ns2:UICCode\": \"8400636\"}]}, {\"@InfoStatus\": \"Actueel\", \"ns2:Station\": [{\"ns2:StationCode\": \"GERP\", \"ns2:Type\": \"0\", \"ns2:KorteNaam\": \"Europapark\", \"ns2:MiddelNaam\": \"Europapark\", \"ns2:LangeNaam\": \"Groningen Europapark\", \"ns2:UICCode\": \"8400238\"}, {\"ns2:StationCode\": \"KW\", \"ns2:Type\": \"0\", \"ns2:KorteNaam\": \"Kropswolde\", \"ns2:MiddelNaam\": \"Kropswolde\", \"ns2:LangeNaam\": \"Kropswolde\", \"ns2:UICCode\": \"8400369\"}, {\"ns2:StationCode\": \"MTH\", \"ns2:Type\": \"0\", \"ns2:KorteNaam\": \"Martenshk\", \"ns2:MiddelNaam\": \"Martenshoek\", \"ns2:LangeNaam\": \"Martenshoek\", \"ns2:UICCode\": \"8400430\"}, {\"ns2:StationCode\": \"HGZ\", \"ns2:Type\": \"1\", \"ns2:KorteNaam\": \"Hoogezand\", \"ns2:MiddelNaam\": \"Hoogezand-Sap.\", \"ns2:LangeNaam\": \"Hoogezand-Sappemeer\", \"ns2:UICCode\": \"8400331\"}, {\"ns2:StationCode\": \"SPM\", \"ns2:Type\": \"0\", \"ns2:KorteNaam\": \"Sappemr O\", \"ns2:MiddelNaam\": \"Sappemeer O.\", \"ns2:LangeNaam\": \"Sappemeer Oost\", \"ns2:UICCode\": \"8400545\"}, {\"ns2:StationCode\": \"ZB\", \"ns2:Type\": \"1\", \"ns2:KorteNaam\": \"Zuidbroek\", \"ns2:MiddelNaam\": \"Zuidbroek\", \"ns2:LangeNaam\": \"Zuidbroek\", \"ns2:UICCode\": \"8400742\"}, {\"ns2:StationCode\": \"VDM\", \"ns2:Type\": \"1\", \"ns2:KorteNaam\": \"Veendam\", \"ns2:MiddelNaam\": \"Veendam\", \"ns2:LangeNaam\": \"Veendam\", \"ns2:UICCode\": \"8400636\"}]}], \"ns2:Wijziging\": {\"ns2:WijzigingType\": \"20\", \"ns2:PresentatieWijziging\": {\"ns2:Uitingen\": [{\"@Taal\": \"nl\", \"ns2:Uiting\": {\"@Prioriteit\": \"9\", \"#text\": \"Dit is een gewijzigd vertrekspoor\"}}, {\"@Taal\": \"en\", \"ns2:Uiting\": {\"@Prioriteit\": \"9\", \"#text\": \"Departure platform changed\"}}]}}, \"ns2:MaterieelDeelDVS\": {\"ns2:MaterieelSoort\": \"GTW-D-ARR\", \"ns2:MaterieelAanduiding\": \"2/8\", \"ns2:MaterieelLengte\": \"5600\", \"ns2:MaterieelDeelEindBestemming\": [{\"@InfoStatus\": \"Gepland\", \"ns2:StationCode\": \"VDM\", \"ns2:Type\": \"1\", \"ns2:KorteNaam\": \"Veendam\", \"ns2:MiddelNaam\": \"Veendam\", \"ns2:LangeNaam\": \"Veendam\", \"ns2:UICCode\": \"8400636\"}, {\"@InfoStatus\": \"Actueel\", \"ns2:StationCode\": \"VDM\", \"ns2:Type\": \"1\", \"ns2:KorteNaam\": \"Veendam\", \"ns2:MiddelNaam\": \"Veendam\", \"ns2:LangeNaam\": \"Veendam\", \"ns2:UICCode\": \"8400636\"}], \"ns2:PresentatieMaterieelDeelEindBestemming\": {\"ns2:Uitingen\": {\"ns2:Uiting\": \"Veendam\"}}}}, \"ns2:Wijziging\": {\"ns2:WijzigingType\": \"20\", \"ns2:PresentatieWijziging\": {\"ns2:Uitingen\": [{\"@Taal\": \"nl\", \"ns2:Uiting\": {\"@Prioriteit\": \"9\", \"#text\": \"Dit is een gewijzigd vertrekspoor\"}}, {\"@Taal\": \"en\", \"ns2:Uiting\": {\"@Prioriteit\": \"9\", \"#text\": \"Departure platform changed\"}}]}}}, \"ns2:PresentatieOpmerkingen\": {\"ns2:Uitingen\": [{\"@Taal\": \"nl\", \"ns2:Uiting\": {\"@Prioriteit\": \"19\", \"@ReferentieType\": \"Wijziging\", \"@ReferentieWaarde\": \"20\", \"#text\": \"Dit is een gewijzigd vertrekspoor\"}}, {\"@Taal\": \"en\", \"ns2:Uiting\": {\"@Prioriteit\": \"19\", \"@ReferentieType\": \"Wijziging\", \"@ReferentieWaarde\": \"20\", \"#text\": \"Departure platform changed\"}}]}}}}}')\n",
      "(None, u'{\"ns1:PutReisInformatieBoodschapIn\": {\"@xmlns:ns1\": \"urn:ndov:cdm:trein:reisinformatie:messages:5\", \"@xmlns:ns2\": \"urn:ndov:cdm:trein:reisinformatie:data:4\", \"ns2:ReisInformatieProductDVS\": {\"@TimeStamp\": \"2020-05-04T02:13:01.180Z\", \"@Versie\": \"6.2\", \"ns2:RIPAdministratie\": {\"ns2:ReisInformatieProductID\": \"2005040413012400006\", \"ns2:AbonnementId\": \"54\", \"ns2:ReisInformatieTijdstip\": \"2020-05-04T03:23:00.000Z\"}, \"ns2:DynamischeVertrekStaat\": {\"ns2:RitId\": \"3317\", \"ns2:RitDatum\": \"2020-05-04\", \"ns2:RitStation\": {\"ns2:StationCode\": \"PMW\", \"ns2:Type\": \"0\", \"ns2:KorteNaam\": \"Weidevenne\", \"ns2:MiddelNaam\": \"Weidevenne\", \"ns2:LangeNaam\": \"Purmerend Weidevenne\", \"ns2:UICCode\": \"8400499\"}, \"ns2:Trein\": {\"ns2:TreinNummer\": \"3317\", \"ns2:TreinSoort\": {\"@Code\": \"SPR\", \"#text\": \"Sprinter\"}, \"ns2:TreinFormule\": \"1\", \"ns2:TreinStatus\": \"0\", \"ns2:Vervoerder\": \"NS\", \"ns2:Reserveren\": \"N\", \"ns2:Toeslag\": \"N\", \"ns2:NietInstappen\": \"N\", \"ns2:AchterBlijvenAchtersteTreinDeel\": \"N\", \"ns2:RangeerBeweging\": \"N\", \"ns2:SpeciaalKaartje\": \"N\", \"ns2:TreinEindBestemming\": [{\"@InfoStatus\": \"Gepland\", \"ns2:StationCode\": \"HFD\", \"ns2:Type\": \"0\", \"ns2:KorteNaam\": \"Hoofddorp\", \"ns2:MiddelNaam\": \"Hoofddorp\", \"ns2:LangeNaam\": \"Hoofddorp\", \"ns2:UICCode\": \"8400332\"}, {\"@InfoStatus\": \"Actueel\", \"ns2:StationCode\": \"HFD\", \"ns2:Type\": \"0\", \"ns2:KorteNaam\": \"Hoofddorp\", \"ns2:MiddelNaam\": \"Hoofddorp\", \"ns2:LangeNaam\": \"Hoofddorp\", \"ns2:UICCode\": \"8400332\"}], \"ns2:PresentatieTreinEindBestemming\": {\"ns2:Uitingen\": {\"ns2:Uiting\": \"Hoofddorp\"}}, \"ns2:VertrekTijd\": [{\"@InfoStatus\": \"Gepland\", \"#text\": \"2020-05-04T03:23:00.000Z\"}, {\"@InfoStatus\": \"Actueel\", \"#text\": \"2020-05-04T03:23:00.000Z\"}], \"ns2:ExacteVertrekVertraging\": \"PT0S\", \"ns2:GedempteVertrekVertraging\": \"PT0S\", \"ns2:TreinVertrekSpoor\": [{\"@InfoStatus\": \"Gepland\", \"ns2:SpoorNummer\": \"1\"}, {\"@InfoStatus\": \"Actueel\", \"ns2:SpoorNummer\": \"1\"}], \"ns2:PresentatieTreinVertrekSpoor\": {\"ns2:Uitingen\": {\"ns2:Uiting\": \"1\"}}, \"ns2:VertrekRichting\": \"A\", \"ns2:AfstandPerronEindKopVertrekTrein\": \"0\", \"ns2:VerkorteRoute\": [{\"@InfoStatus\": \"Gepland\", \"ns2:Station\": [{\"ns2:StationCode\": \"ZD\", \"ns2:Type\": \"5\", \"ns2:KorteNaam\": \"Zaandam\", \"ns2:MiddelNaam\": \"Zaandam\", \"ns2:LangeNaam\": \"Zaandam\", \"ns2:UICCode\": \"8400731\"}, {\"ns2:StationCode\": \"ASS\", \"ns2:Type\": \"5\", \"ns2:KorteNaam\": \"Sloterdijk\", \"ns2:MiddelNaam\": \"Sloterdijk\", \"ns2:LangeNaam\": \"Amsterdam Sloterdijk\", \"ns2:UICCode\": \"8400059\"}, {\"ns2:StationCode\": \"SHL\", \"ns2:Type\": \"6\", \"ns2:KorteNaam\": \"Schiphol\", \"ns2:MiddelNaam\": \"Schiphol Airport\", \"ns2:LangeNaam\": \"Schiphol Airport\", \"ns2:UICCode\": \"8400561\"}]}, {\"@InfoStatus\": \"Actueel\", \"ns2:Station\": [{\"ns2:StationCode\": \"ZD\", \"ns2:Type\": \"5\", \"ns2:KorteNaam\": \"Zaandam\", \"ns2:MiddelNaam\": \"Zaandam\", \"ns2:LangeNaam\": \"Zaandam\", \"ns2:UICCode\": \"8400731\"}, {\"ns2:StationCode\": \"ASS\", \"ns2:Type\": \"5\", \"ns2:KorteNaam\": \"Sloterdijk\", \"ns2:MiddelNaam\": \"Sloterdijk\", \"ns2:LangeNaam\": \"Amsterdam Sloterdijk\", \"ns2:UICCode\": \"8400059\"}, {\"ns2:StationCode\": \"SHL\", \"ns2:Type\": \"6\", \"ns2:KorteNaam\": \"Schiphol\", \"ns2:MiddelNaam\": \"Schiphol Airport\", \"ns2:LangeNaam\": \"Schiphol Airport\", \"ns2:UICCode\": \"8400561\"}]}], \"ns2:PresentatieVerkorteRoute\": {\"ns2:Uitingen\": {\"ns2:Uiting\": \"Zaandam, Sloterdijk, Schiphol Airport\"}}, \"ns2:TreinVleugel\": {\"ns2:TreinVleugelVertrekSpoor\": [{\"@InfoStatus\": \"Gepland\", \"ns2:SpoorNummer\": \"1\"}, {\"@InfoStatus\": \"Actueel\", \"ns2:SpoorNummer\": \"1\"}], \"ns2:PresentatieTreinVleugelVertrekSpoor\": {\"ns2:Uitingen\": {\"ns2:Uiting\": \"1\"}}, \"ns2:TreinVleugelEindBestemming\": [{\"@InfoStatus\": \"Gepland\", \"ns2:StationCode\": \"HFD\", \"ns2:Type\": \"0\", \"ns2:KorteNaam\": \"Hoofddorp\", \"ns2:MiddelNaam\": \"Hoofddorp\", \"ns2:LangeNaam\": \"Hoofddorp\", \"ns2:UICCode\": \"8400332\"}, {\"@InfoStatus\": \"Actueel\", \"ns2:StationCode\": \"HFD\", \"ns2:Type\": \"0\", \"ns2:KorteNaam\": \"Hoofddorp\", \"ns2:MiddelNaam\": \"Hoofddorp\", \"ns2:LangeNaam\": \"Hoofddorp\", \"ns2:UICCode\": \"8400332\"}], \"ns2:PresentatieTreinVleugelEindBestemming\": {\"ns2:Uitingen\": {\"ns2:Uiting\": \"Hoofddorp\"}}, \"ns2:StopStations\": [{\"@InfoStatus\": \"Gepland\", \"ns2:Station\": [{\"ns2:StationCode\": \"ZDK\", \"ns2:Type\": \"0\", \"ns2:KorteNaam\": \"Kogerveld\", \"ns2:MiddelNaam\": \"Kogerveld\", \"ns2:LangeNaam\": \"Zaandam Kogerveld\", \"ns2:UICCode\": \"8400728\"}, {\"ns2:StationCode\": \"ZD\", \"ns2:Type\": \"5\", \"ns2:KorteNaam\": \"Zaandam\", \"ns2:MiddelNaam\": \"Zaandam\", \"ns2:LangeNaam\": \"Zaandam\", \"ns2:UICCode\": \"8400731\"}, {\"ns2:StationCode\": \"ASS\", \"ns2:Type\": \"5\", \"ns2:KorteNaam\": \"Sloterdijk\", \"ns2:MiddelNaam\": \"Sloterdijk\", \"ns2:LangeNaam\": \"Amsterdam Sloterdijk\", \"ns2:UICCode\": \"8400059\"}, {\"ns2:StationCode\": \"ASDL\", \"ns2:Type\": \"0\", \"ns2:KorteNaam\": \"Lelylaan\", \"ns2:MiddelNaam\": \"Lelylaan\", \"ns2:LangeNaam\": \"Amsterdam Lelylaan\", \"ns2:UICCode\": \"8400079\"}, {\"ns2:StationCode\": \"SHL\", \"ns2:Type\": \"6\", \"ns2:KorteNaam\": \"Schiphol\", \"ns2:MiddelNaam\": \"Schiphol Airport\", \"ns2:LangeNaam\": \"Schiphol Airport\", \"ns2:UICCode\": \"8400561\"}, {\"ns2:StationCode\": \"HFD\", \"ns2:Type\": \"0\", \"ns2:KorteNaam\": \"Hoofddorp\", \"ns2:MiddelNaam\": \"Hoofddorp\", \"ns2:LangeNaam\": \"Hoofddorp\", \"ns2:UICCode\": \"8400332\"}]}, {\"@InfoStatus\": \"Actueel\", \"ns2:Station\": [{\"ns2:StationCode\": \"ZDK\", \"ns2:Type\": \"0\", \"ns2:KorteNaam\": \"Kogerveld\", \"ns2:MiddelNaam\": \"Kogerveld\", \"ns2:LangeNaam\": \"Zaandam Kogerveld\", \"ns2:UICCode\": \"8400728\"}, {\"ns2:StationCode\": \"ZD\", \"ns2:Type\": \"5\", \"ns2:KorteNaam\": \"Zaandam\", \"ns2:MiddelNaam\": \"Zaandam\", \"ns2:LangeNaam\": \"Zaandam\", \"ns2:UICCode\": \"8400731\"}, {\"ns2:StationCode\": \"ASS\", \"ns2:Type\": \"5\", \"ns2:KorteNaam\": \"Sloterdijk\", \"ns2:MiddelNaam\": \"Sloterdijk\", \"ns2:LangeNaam\": \"Amsterdam Sloterdijk\", \"ns2:UICCode\": \"8400059\"}, {\"ns2:StationCode\": \"ASDL\", \"ns2:Type\": \"0\", \"ns2:KorteNaam\": \"Lelylaan\", \"ns2:MiddelNaam\": \"Lelylaan\", \"ns2:LangeNaam\": \"Amsterdam Lelylaan\", \"ns2:UICCode\": \"8400079\"}, {\"ns2:StationCode\": \"SHL\", \"ns2:Type\": \"6\", \"ns2:KorteNaam\": \"Schiphol\", \"ns2:MiddelNaam\": \"Schiphol Airport\", \"ns2:LangeNaam\": \"Schiphol Airport\", \"ns2:UICCode\": \"8400561\"}, {\"ns2:StationCode\": \"HFD\", \"ns2:Type\": \"0\", \"ns2:KorteNaam\": \"Hoofddorp\", \"ns2:MiddelNaam\": \"Hoofddorp\", \"ns2:LangeNaam\": \"Hoofddorp\", \"ns2:UICCode\": \"8400332\"}]}], \"ns2:MaterieelDeelDVS\": {\"ns2:MaterieelSoort\": \"VIRM\", \"ns2:MaterieelAanduiding\": \"6\", \"ns2:MaterieelLengte\": \"16210\", \"ns2:MaterieelNummer\": \"000000-08727-0\", \"ns2:MaterieelDeelEindBestemming\": [{\"@InfoStatus\": \"Gepland\", \"ns2:StationCode\": \"HFD\", \"ns2:Type\": \"0\", \"ns2:KorteNaam\": \"Hoofddorp\", \"ns2:MiddelNaam\": \"Hoofddorp\", \"ns2:LangeNaam\": \"Hoofddorp\", \"ns2:UICCode\": \"8400332\"}, {\"@InfoStatus\": \"Actueel\", \"ns2:StationCode\": \"HFD\", \"ns2:Type\": \"0\", \"ns2:KorteNaam\": \"Hoofddorp\", \"ns2:MiddelNaam\": \"Hoofddorp\", \"ns2:LangeNaam\": \"Hoofddorp\", \"ns2:UICCode\": \"8400332\"}], \"ns2:PresentatieMaterieelDeelEindBestemming\": {\"ns2:Uitingen\": {\"ns2:Uiting\": \"Hoofddorp\"}}}}}}}}}')\n",
      "(None, u'{\"ns1:PutReisInformatieBoodschapIn\": {\"@xmlns:ns1\": \"urn:ndov:cdm:trein:reisinformatie:messages:5\", \"@xmlns:ns2\": \"urn:ndov:cdm:trein:reisinformatie:data:4\", \"ns2:ReisInformatieProductDVS\": {\"@TimeStamp\": \"2020-05-04T02:13:01.173Z\", \"@Versie\": \"6.2\", \"ns2:RIPAdministratie\": {\"ns2:ReisInformatieProductID\": \"2005040413012400004\", \"ns2:AbonnementId\": \"54\", \"ns2:ReisInformatieTijdstip\": \"2020-05-04T03:23:00.000Z\"}, \"ns2:DynamischeVertrekStaat\": {\"ns2:RitId\": \"7213\", \"ns2:RitDatum\": \"2020-05-04\", \"ns2:RitStation\": {\"ns2:StationCode\": \"LDM\", \"ns2:Type\": \"0\", \"ns2:KorteNaam\": \"Leerdam\", \"ns2:MiddelNaam\": \"Leerdam\", \"ns2:LangeNaam\": \"Leerdam\", \"ns2:UICCode\": \"8400386\"}, \"ns2:Trein\": {\"ns2:TreinNummer\": \"7213\", \"ns2:TreinSoort\": {\"@Code\": \"ST\", \"#text\": \"Stoptrein\"}, \"ns2:TreinFormule\": \"1\", \"ns2:TreinStatus\": \"0\", \"ns2:Vervoerder\": \"R-net\", \"ns2:Reserveren\": \"N\", \"ns2:Toeslag\": \"N\", \"ns2:NietInstappen\": \"N\", \"ns2:AchterBlijvenAchtersteTreinDeel\": \"N\", \"ns2:RangeerBeweging\": \"N\", \"ns2:SpeciaalKaartje\": \"N\", \"ns2:TreinEindBestemming\": [{\"@InfoStatus\": \"Gepland\", \"ns2:StationCode\": \"GDM\", \"ns2:Type\": \"1\", \"ns2:KorteNaam\": \"Geldermlsn\", \"ns2:MiddelNaam\": \"Geldermalsen\", \"ns2:LangeNaam\": \"Geldermalsen\", \"ns2:UICCode\": \"8400244\"}, {\"@InfoStatus\": \"Actueel\", \"ns2:StationCode\": \"GDM\", \"ns2:Type\": \"1\", \"ns2:KorteNaam\": \"Geldermlsn\", \"ns2:MiddelNaam\": \"Geldermalsen\", \"ns2:LangeNaam\": \"Geldermalsen\", \"ns2:UICCode\": \"8400244\"}], \"ns2:PresentatieTreinEindBestemming\": {\"ns2:Uitingen\": {\"ns2:Uiting\": \"Geldermalsen\"}}, \"ns2:VertrekTijd\": [{\"@InfoStatus\": \"Gepland\", \"#text\": \"2020-05-04T03:23:00.000Z\"}, {\"@InfoStatus\": \"Actueel\", \"#text\": \"2020-05-04T03:23:00.000Z\"}], \"ns2:ExacteVertrekVertraging\": \"PT0S\", \"ns2:GedempteVertrekVertraging\": \"PT0S\", \"ns2:TreinVertrekSpoor\": [{\"@InfoStatus\": \"Gepland\", \"ns2:SpoorNummer\": \"2\"}, {\"@InfoStatus\": \"Actueel\", \"ns2:SpoorNummer\": \"2\"}], \"ns2:PresentatieTreinVertrekSpoor\": {\"ns2:Uitingen\": {\"ns2:Uiting\": \"2\"}}, \"ns2:VertrekRichting\": \"A\", \"ns2:AfstandPerronEindKopVertrekTrein\": \"0\", \"ns2:TreinVleugel\": {\"ns2:TreinVleugelVertrekSpoor\": [{\"@InfoStatus\": \"Gepland\", \"ns2:SpoorNummer\": \"2\"}, {\"@InfoStatus\": \"Actueel\", \"ns2:SpoorNummer\": \"2\"}], \"ns2:PresentatieTreinVleugelVertrekSpoor\": {\"ns2:Uitingen\": {\"ns2:Uiting\": \"2\"}}, \"ns2:TreinVleugelEindBestemming\": [{\"@InfoStatus\": \"Gepland\", \"ns2:StationCode\": \"GDM\", \"ns2:Type\": \"1\", \"ns2:KorteNaam\": \"Geldermlsn\", \"ns2:MiddelNaam\": \"Geldermalsen\", \"ns2:LangeNaam\": \"Geldermalsen\", \"ns2:UICCode\": \"8400244\"}, {\"@InfoStatus\": \"Actueel\", \"ns2:StationCode\": \"GDM\", \"ns2:Type\": \"1\", \"ns2:KorteNaam\": \"Geldermlsn\", \"ns2:MiddelNaam\": \"Geldermalsen\", \"ns2:LangeNaam\": \"Geldermalsen\", \"ns2:UICCode\": \"8400244\"}], \"ns2:PresentatieTreinVleugelEindBestemming\": {\"ns2:Uitingen\": {\"ns2:Uiting\": \"Geldermalsen\"}}, \"ns2:StopStations\": [{\"@InfoStatus\": \"Gepland\", \"ns2:Station\": [{\"ns2:StationCode\": \"BSD\", \"ns2:Type\": \"0\", \"ns2:KorteNaam\": \"Beesd\", \"ns2:MiddelNaam\": \"Beesd\", \"ns2:LangeNaam\": \"Beesd\", \"ns2:UICCode\": \"8400097\"}, {\"ns2:StationCode\": \"GDM\", \"ns2:Type\": \"1\", \"ns2:KorteNaam\": \"Geldermlsn\", \"ns2:MiddelNaam\": \"Geldermalsen\", \"ns2:LangeNaam\": \"Geldermalsen\", \"ns2:UICCode\": \"8400244\"}]}, {\"@InfoStatus\": \"Actueel\", \"ns2:Station\": [{\"ns2:StationCode\": \"BSD\", \"ns2:Type\": \"0\", \"ns2:KorteNaam\": \"Beesd\", \"ns2:MiddelNaam\": \"Beesd\", \"ns2:LangeNaam\": \"Beesd\", \"ns2:UICCode\": \"8400097\"}, {\"ns2:StationCode\": \"GDM\", \"ns2:Type\": \"1\", \"ns2:KorteNaam\": \"Geldermlsn\", \"ns2:MiddelNaam\": \"Geldermalsen\", \"ns2:LangeNaam\": \"Geldermalsen\", \"ns2:UICCode\": \"8400244\"}]}], \"ns2:MaterieelDeelDVS\": {\"ns2:MaterieelSoort\": \"GTW-E-QB\", \"ns2:MaterieelAanduiding\": \"2/8\", \"ns2:MaterieelLengte\": \"5600\", \"ns2:MaterieelDeelEindBestemming\": [{\"@InfoStatus\": \"Gepland\", \"ns2:StationCode\": \"GDM\", \"ns2:Type\": \"1\", \"ns2:KorteNaam\": \"Geldermlsn\", \"ns2:MiddelNaam\": \"Geldermalsen\", \"ns2:LangeNaam\": \"Geldermalsen\", \"ns2:UICCode\": \"8400244\"}, {\"@InfoStatus\": \"Actueel\", \"ns2:StationCode\": \"GDM\", \"ns2:Type\": \"1\", \"ns2:KorteNaam\": \"Geldermlsn\", \"ns2:MiddelNaam\": \"Geldermalsen\", \"ns2:LangeNaam\": \"Geldermalsen\", \"ns2:UICCode\": \"8400244\"}], \"ns2:PresentatieMaterieelDeelEindBestemming\": {\"ns2:Uitingen\": {\"ns2:Uiting\": \"Geldermalsen\"}}}}}}}}}')\n",
      "(None, u'{\"ns1:PutReisInformatieBoodschapIn\": {\"@xmlns:ns1\": \"urn:ndov:cdm:trein:reisinformatie:messages:5\", \"@xmlns:ns2\": \"urn:ndov:cdm:trein:reisinformatie:data:4\", \"ns2:ReisInformatieProductDVS\": {\"@TimeStamp\": \"2020-05-04T02:13:01.196Z\", \"@Versie\": \"6.2\", \"ns2:RIPAdministratie\": {\"ns2:ReisInformatieProductID\": \"2005040413012400010\", \"ns2:AbonnementId\": \"54\", \"ns2:ReisInformatieTijdstip\": \"2020-05-04T03:23:00.000Z\"}, \"ns2:DynamischeVertrekStaat\": {\"ns2:RitId\": \"5614\", \"ns2:RitDatum\": \"2020-05-04\", \"ns2:RitStation\": {\"ns2:StationCode\": \"ZL\", \"ns2:Type\": \"5\", \"ns2:KorteNaam\": \"Zwolle\", \"ns2:MiddelNaam\": \"Zwolle\", \"ns2:LangeNaam\": \"Zwolle\", \"ns2:UICCode\": \"8400747\"}, \"ns2:Trein\": {\"ns2:TreinNummer\": \"5614\", \"ns2:TreinSoort\": {\"@Code\": \"SPR\", \"#text\": \"Sprinter\"}, \"ns2:TreinFormule\": \"1\", \"ns2:TreinStatus\": \"0\", \"ns2:Vervoerder\": \"NS\", \"ns2:Reserveren\": \"N\", \"ns2:Toeslag\": \"N\", \"ns2:NietInstappen\": \"N\", \"ns2:AchterBlijvenAchtersteTreinDeel\": \"N\", \"ns2:RangeerBeweging\": \"N\", \"ns2:SpeciaalKaartje\": \"N\", \"ns2:TreinEindBestemming\": [{\"@InfoStatus\": \"Gepland\", \"ns2:StationCode\": \"UT\", \"ns2:Type\": \"6\", \"ns2:KorteNaam\": \"Utrecht C\", \"ns2:MiddelNaam\": \"Utrecht C.\", \"ns2:LangeNaam\": \"Utrecht Centraal\", \"ns2:UICCode\": \"8400621\"}, {\"@InfoStatus\": \"Actueel\", \"ns2:StationCode\": \"UT\", \"ns2:Type\": \"6\", \"ns2:KorteNaam\": \"Utrecht C\", \"ns2:MiddelNaam\": \"Utrecht C.\", \"ns2:LangeNaam\": \"Utrecht Centraal\", \"ns2:UICCode\": \"8400621\"}], \"ns2:PresentatieTreinEindBestemming\": {\"ns2:Uitingen\": {\"ns2:Uiting\": \"Utrecht Centraal\"}}, \"ns2:VertrekTijd\": [{\"@InfoStatus\": \"Gepland\", \"#text\": \"2020-05-04T03:23:00.000Z\"}, {\"@InfoStatus\": \"Actueel\", \"#text\": \"2020-05-04T03:23:00.000Z\"}], \"ns2:ExacteVertrekVertraging\": \"PT0S\", \"ns2:GedempteVertrekVertraging\": \"PT0S\", \"ns2:TreinVertrekSpoor\": [{\"@InfoStatus\": \"Gepland\", \"ns2:SpoorNummer\": \"1\", \"ns2:SpoorFase\": \"a\"}, {\"@InfoStatus\": \"Actueel\", \"ns2:SpoorNummer\": \"1\", \"ns2:SpoorFase\": \"a\"}], \"ns2:PresentatieTreinVertrekSpoor\": {\"ns2:Uitingen\": {\"ns2:Uiting\": \"1a\"}}, \"ns2:VertrekRichting\": \"A\", \"ns2:AfstandPerronEindKopVertrekTrein\": \"0\", \"ns2:VerkorteRoute\": [{\"@InfoStatus\": \"Gepland\", \"ns2:Station\": [{\"ns2:StationCode\": \"HD\", \"ns2:Type\": \"1\", \"ns2:KorteNaam\": \"Harderwijk\", \"ns2:MiddelNaam\": \"Harderwijk\", \"ns2:LangeNaam\": \"Harderwijk\", \"ns2:UICCode\": \"8400294\"}, {\"ns2:StationCode\": \"AMF\", \"ns2:Type\": \"5\", \"ns2:KorteNaam\": \"Amersfrt C\", \"ns2:MiddelNaam\": \"Amersfoort C.\", \"ns2:LangeNaam\": \"Amersfoort Centraal\", \"ns2:UICCode\": \"8400055\"}, {\"ns2:StationCode\": \"DLD\", \"ns2:Type\": \"1\", \"ns2:KorteNaam\": \"Den Dolder\", \"ns2:MiddelNaam\": \"Den Dolder\", \"ns2:LangeNaam\": \"Den Dolder\", \"ns2:UICCode\": \"8400179\"}, {\"ns2:StationCode\": \"UTO\", \"ns2:Type\": \"1\", \"ns2:KorteNaam\": \"Overvecht\", \"ns2:MiddelNaam\": \"Overvecht\", \"ns2:LangeNaam\": \"Utrecht Overvecht\", \"ns2:UICCode\": \"8400620\"}]}, {\"@InfoStatus\": \"Actueel\", \"ns2:Station\": [{\"ns2:StationCode\": \"HD\", \"ns2:Type\": \"1\", \"ns2:KorteNaam\": \"Harderwijk\", \"ns2:MiddelNaam\": \"Harderwijk\", \"ns2:LangeNaam\": \"Harderwijk\", \"ns2:UICCode\": \"8400294\"}, {\"ns2:StationCode\": \"AMF\", \"ns2:Type\": \"5\", \"ns2:KorteNaam\": \"Amersfrt C\", \"ns2:MiddelNaam\": \"Amersfoort C.\", \"ns2:LangeNaam\": \"Amersfoort Centraal\", \"ns2:UICCode\": \"8400055\"}, {\"ns2:StationCode\": \"DLD\", \"ns2:Type\": \"1\", \"ns2:KorteNaam\": \"Den Dolder\", \"ns2:MiddelNaam\": \"Den Dolder\", \"ns2:LangeNaam\": \"Den Dolder\", \"ns2:UICCode\": \"8400179\"}, {\"ns2:StationCode\": \"UTO\", \"ns2:Type\": \"1\", \"ns2:KorteNaam\": \"Overvecht\", \"ns2:MiddelNaam\": \"Overvecht\", \"ns2:LangeNaam\": \"Utrecht Overvecht\", \"ns2:UICCode\": \"8400620\"}]}], \"ns2:PresentatieVerkorteRoute\": {\"ns2:Uitingen\": {\"ns2:Uiting\": \"Harderwijk, Amersfoort C., Den Dolder, Overvecht\"}}, \"ns2:TreinVleugel\": {\"ns2:TreinVleugelVertrekSpoor\": [{\"@InfoStatus\": \"Gepland\", \"ns2:SpoorNummer\": \"1\", \"ns2:SpoorFase\": \"a\"}, {\"@InfoStatus\": \"Actueel\", \"ns2:SpoorNummer\": \"1\", \"ns2:SpoorFase\": \"a\"}], \"ns2:PresentatieTreinVleugelVertrekSpoor\": {\"ns2:Uitingen\": {\"ns2:Uiting\": \"1a\"}}, \"ns2:TreinVleugelEindBestemming\": [{\"@InfoStatus\": \"Gepland\", \"ns2:StationCode\": \"UT\", \"ns2:Type\": \"6\", \"ns2:KorteNaam\": \"Utrecht C\", \"ns2:MiddelNaam\": \"Utrecht C.\", \"ns2:LangeNaam\": \"Utrecht Centraal\", \"ns2:UICCode\": \"8400621\"}, {\"@InfoStatus\": \"Actueel\", \"ns2:StationCode\": \"UT\", \"ns2:Type\": \"6\", \"ns2:KorteNaam\": \"Utrecht C\", \"ns2:MiddelNaam\": \"Utrecht C.\", \"ns2:LangeNaam\": \"Utrecht Centraal\", \"ns2:UICCode\": \"8400621\"}], \"ns2:PresentatieTreinVleugelEindBestemming\": {\"ns2:Uitingen\": {\"ns2:Uiting\": \"Utrecht Centraal\"}}, \"ns2:StopStations\": [{\"@InfoStatus\": \"Gepland\", \"ns2:Station\": [{\"ns2:StationCode\": \"WZ\", \"ns2:Type\": \"0\", \"ns2:KorteNaam\": \"Wezep\", \"ns2:MiddelNaam\": \"Wezep\", \"ns2:LangeNaam\": \"Wezep\", \"ns2:UICCode\": \"8400690\"}, {\"ns2:StationCode\": \"HDE\", \"ns2:Type\": \"0\", \"ns2:KorteNaam\": \"\\'t Harde\", \"ns2:MiddelNaam\": \"\\'t Harde\", \"ns2:LangeNaam\": \"\\'t Harde\", \"ns2:UICCode\": \"8400388\"}, {\"ns2:StationCode\": \"NS\", \"ns2:Type\": \"0\", \"ns2:KorteNaam\": \"Nunspeet\", \"ns2:MiddelNaam\": \"Nunspeet\", \"ns2:LangeNaam\": \"Nunspeet\", \"ns2:UICCode\": \"8400466\"}, {\"ns2:StationCode\": \"HD\", \"ns2:Type\": \"1\", \"ns2:KorteNaam\": \"Harderwijk\", \"ns2:MiddelNaam\": \"Harderwijk\", \"ns2:LangeNaam\": \"Harderwijk\", \"ns2:UICCode\": \"8400294\"}, {\"ns2:StationCode\": \"EML\", \"ns2:Type\": \"0\", \"ns2:KorteNaam\": \"Ermelo\", \"ns2:MiddelNaam\": \"Ermelo\", \"ns2:LangeNaam\": \"Ermelo\", \"ns2:UICCode\": \"8400216\"}, {\"ns2:StationCode\": \"PT\", \"ns2:Type\": \"0\", \"ns2:KorteNaam\": \"Putten\", \"ns2:MiddelNaam\": \"Putten\", \"ns2:LangeNaam\": \"Putten\", \"ns2:UICCode\": \"8400509\"}, {\"ns2:StationCode\": \"NKK\", \"ns2:Type\": \"0\", \"ns2:KorteNaam\": \"Nijkerk\", \"ns2:MiddelNaam\": \"Nijkerk\", \"ns2:LangeNaam\": \"Nijkerk\", \"ns2:UICCode\": \"8400469\"}, {\"ns2:StationCode\": \"AVAT\", \"ns2:Type\": \"0\", \"ns2:KorteNaam\": \"Vathorst\", \"ns2:MiddelNaam\": \"Vathorst\", \"ns2:LangeNaam\": \"Amersfoort Vathorst\", \"ns2:UICCode\": \"8400228\"}, {\"ns2:StationCode\": \"AMFS\", \"ns2:Type\": \"0\", \"ns2:KorteNaam\": \"Schothorst\", \"ns2:MiddelNaam\": \"Schothorst\", \"ns2:LangeNaam\": \"Amersfoort Schothorst\", \"ns2:UICCode\": \"8400054\"}, {\"ns2:StationCode\": \"AMF\", \"ns2:Type\": \"5\", \"ns2:KorteNaam\": \"Amersfrt C\", \"ns2:MiddelNaam\": \"Amersfoort C.\", \"ns2:LangeNaam\": \"Amersfoort Centraal\", \"ns2:UICCode\": \"8400055\"}, {\"ns2:StationCode\": \"DLD\", \"ns2:Type\": \"1\", \"ns2:KorteNaam\": \"Den Dolder\", \"ns2:MiddelNaam\": \"Den Dolder\", \"ns2:LangeNaam\": \"Den Dolder\", \"ns2:UICCode\": \"8400179\"}, {\"ns2:StationCode\": \"BHV\", \"ns2:Type\": \"0\", \"ns2:KorteNaam\": \"Bilthoven\", \"ns2:MiddelNaam\": \"Bilthoven\", \"ns2:LangeNaam\": \"Bilthoven\", \"ns2:UICCode\": \"8400114\"}, {\"ns2:StationCode\": \"UTO\", \"ns2:Type\": \"1\", \"ns2:KorteNaam\": \"Overvecht\", \"ns2:MiddelNaam\": \"Overvecht\", \"ns2:LangeNaam\": \"Utrecht Overvecht\", \"ns2:UICCode\": \"8400620\"}, {\"ns2:StationCode\": \"UT\", \"ns2:Type\": \"6\", \"ns2:KorteNaam\": \"Utrecht C\", \"ns2:MiddelNaam\": \"Utrecht C.\", \"ns2:LangeNaam\": \"Utrecht Centraal\", \"ns2:UICCode\": \"8400621\"}]}, {\"@InfoStatus\": \"Actueel\", \"ns2:Station\": [{\"ns2:StationCode\": \"WZ\", \"ns2:Type\": \"0\", \"ns2:KorteNaam\": \"Wezep\", \"ns2:MiddelNaam\": \"Wezep\", \"ns2:LangeNaam\": \"Wezep\", \"ns2:UICCode\": \"8400690\"}, {\"ns2:StationCode\": \"HDE\", \"ns2:Type\": \"0\", \"ns2:KorteNaam\": \"\\'t Harde\", \"ns2:MiddelNaam\": \"\\'t Harde\", \"ns2:LangeNaam\": \"\\'t Harde\", \"ns2:UICCode\": \"8400388\"}, {\"ns2:StationCode\": \"NS\", \"ns2:Type\": \"0\", \"ns2:KorteNaam\": \"Nunspeet\", \"ns2:MiddelNaam\": \"Nunspeet\", \"ns2:LangeNaam\": \"Nunspeet\", \"ns2:UICCode\": \"8400466\"}, {\"ns2:StationCode\": \"HD\", \"ns2:Type\": \"1\", \"ns2:KorteNaam\": \"Harderwijk\", \"ns2:MiddelNaam\": \"Harderwijk\", \"ns2:LangeNaam\": \"Harderwijk\", \"ns2:UICCode\": \"8400294\"}, {\"ns2:StationCode\": \"EML\", \"ns2:Type\": \"0\", \"ns2:KorteNaam\": \"Ermelo\", \"ns2:MiddelNaam\": \"Ermelo\", \"ns2:LangeNaam\": \"Ermelo\", \"ns2:UICCode\": \"8400216\"}, {\"ns2:StationCode\": \"PT\", \"ns2:Type\": \"0\", \"ns2:KorteNaam\": \"Putten\", \"ns2:MiddelNaam\": \"Putten\", \"ns2:LangeNaam\": \"Putten\", \"ns2:UICCode\": \"8400509\"}, {\"ns2:StationCode\": \"NKK\", \"ns2:Type\": \"0\", \"ns2:KorteNaam\": \"Nijkerk\", \"ns2:MiddelNaam\": \"Nijkerk\", \"ns2:LangeNaam\": \"Nijkerk\", \"ns2:UICCode\": \"8400469\"}, {\"ns2:StationCode\": \"AVAT\", \"ns2:Type\": \"0\", \"ns2:KorteNaam\": \"Vathorst\", \"ns2:MiddelNaam\": \"Vathorst\", \"ns2:LangeNaam\": \"Amersfoort Vathorst\", \"ns2:UICCode\": \"8400228\"}, {\"ns2:StationCode\": \"AMFS\", \"ns2:Type\": \"0\", \"ns2:KorteNaam\": \"Schothorst\", \"ns2:MiddelNaam\": \"Schothorst\", \"ns2:LangeNaam\": \"Amersfoort Schothorst\", \"ns2:UICCode\": \"8400054\"}, {\"ns2:StationCode\": \"AMF\", \"ns2:Type\": \"5\", \"ns2:KorteNaam\": \"Amersfrt C\", \"ns2:MiddelNaam\": \"Amersfoort C.\", \"ns2:LangeNaam\": \"Amersfoort Centraal\", \"ns2:UICCode\": \"8400055\"}, {\"ns2:StationCode\": \"DLD\", \"ns2:Type\": \"1\", \"ns2:KorteNaam\": \"Den Dolder\", \"ns2:MiddelNaam\": \"Den Dolder\", \"ns2:LangeNaam\": \"Den Dolder\", \"ns2:UICCode\": \"8400179\"}, {\"ns2:StationCode\": \"BHV\", \"ns2:Type\": \"0\", \"ns2:KorteNaam\": \"Bilthoven\", \"ns2:MiddelNaam\": \"Bilthoven\", \"ns2:LangeNaam\": \"Bilthoven\", \"ns2:UICCode\": \"8400114\"}, {\"ns2:StationCode\": \"UTO\", \"ns2:Type\": \"1\", \"ns2:KorteNaam\": \"Overvecht\", \"ns2:MiddelNaam\": \"Overvecht\", \"ns2:LangeNaam\": \"Utrecht Overvecht\", \"ns2:UICCode\": \"8400620\"}, {\"ns2:StationCode\": \"UT\", \"ns2:Type\": \"6\", \"ns2:KorteNaam\": \"Utrecht C\", \"ns2:MiddelNaam\": \"Utrecht C.\", \"ns2:LangeNaam\": \"Utrecht Centraal\", \"ns2:UICCode\": \"8400621\"}]}], \"ns2:MaterieelDeelDVS\": [{\"ns2:MaterieelSoort\": \"SNG\", \"ns2:MaterieelAanduiding\": \"4\", \"ns2:MaterieelLengte\": \"7576\", \"ns2:MaterieelDeelVertrekPositie\": \"1\", \"ns2:MaterieelDeelVolgordeVertrek\": \"1\", \"ns2:MaterieelNummer\": \"000000-02706-0\", \"ns2:MaterieelDeelEindBestemming\": [{\"@InfoStatus\": \"Gepland\", \"ns2:StationCode\": \"UT\", \"ns2:Type\": \"6\", \"ns2:KorteNaam\": \"Utrecht C\", \"ns2:MiddelNaam\": \"Utrecht C.\", \"ns2:LangeNaam\": \"Utrecht Centraal\", \"ns2:UICCode\": \"8400621\"}, {\"@InfoStatus\": \"Actueel\", \"ns2:StationCode\": \"UT\", \"ns2:Type\": \"6\", \"ns2:KorteNaam\": \"Utrecht C\", \"ns2:MiddelNaam\": \"Utrecht C.\", \"ns2:LangeNaam\": \"Utrecht Centraal\", \"ns2:UICCode\": \"8400621\"}], \"ns2:PresentatieMaterieelDeelEindBestemming\": {\"ns2:Uitingen\": {\"ns2:Uiting\": \"Utrecht Centraal\"}}}, {\"ns2:MaterieelSoort\": \"SNG\", \"ns2:MaterieelAanduiding\": \"4\", \"ns2:MaterieelLengte\": \"7576\", \"ns2:MaterieelDeelVertrekPositie\": \"2\", \"ns2:MaterieelDeelVolgordeVertrek\": \"2\", \"ns2:MaterieelNummer\": \"000000-02743-0\", \"ns2:MaterieelDeelEindBestemming\": [{\"@InfoStatus\": \"Gepland\", \"ns2:StationCode\": \"UT\", \"ns2:Type\": \"6\", \"ns2:KorteNaam\": \"Utrecht C\", \"ns2:MiddelNaam\": \"Utrecht C.\", \"ns2:LangeNaam\": \"Utrecht Centraal\", \"ns2:UICCode\": \"8400621\"}, {\"@InfoStatus\": \"Actueel\", \"ns2:StationCode\": \"UT\", \"ns2:Type\": \"6\", \"ns2:KorteNaam\": \"Utrecht C\", \"ns2:MiddelNaam\": \"Utrecht C.\", \"ns2:LangeNaam\": \"Utrecht Centraal\", \"ns2:UICCode\": \"8400621\"}], \"ns2:PresentatieMaterieelDeelEindBestemming\": {\"ns2:Uitingen\": {\"ns2:Uiting\": \"Utrecht Centraal\"}}}, {\"ns2:MaterieelSoort\": \"SNG\", \"ns2:MaterieelAanduiding\": \"3\", \"ns2:MaterieelLengte\": \"5956\", \"ns2:MaterieelDeelVertrekPositie\": \"3\", \"ns2:MaterieelDeelVolgordeVertrek\": \"3\", \"ns2:MaterieelNummer\": \"000000-02308-0\", \"ns2:MaterieelDeelEindBestemming\": [{\"@InfoStatus\": \"Gepland\", \"ns2:StationCode\": \"UT\", \"ns2:Type\": \"6\", \"ns2:KorteNaam\": \"Utrecht C\", \"ns2:MiddelNaam\": \"Utrecht C.\", \"ns2:LangeNaam\": \"Utrecht Centraal\", \"ns2:UICCode\": \"8400621\"}, {\"@InfoStatus\": \"Actueel\", \"ns2:StationCode\": \"UT\", \"ns2:Type\": \"6\", \"ns2:KorteNaam\": \"Utrecht C\", \"ns2:MiddelNaam\": \"Utrecht C.\", \"ns2:LangeNaam\": \"Utrecht Centraal\", \"ns2:UICCode\": \"8400621\"}], \"ns2:PresentatieMaterieelDeelEindBestemming\": {\"ns2:Uitingen\": {\"ns2:Uiting\": \"Utrecht Centraal\"}}}]}}}}}}')"
     ]
    }
   ],
   "source": [
    "ssc.stop(stopSparkContext=False)"
   ]
  },
  {
   "cell_type": "markdown",
   "metadata": {},
   "source": [
    "You will need to adjust the batch interval (10 seconds here) in accordance with the processing times. Use the spark UI to check if batches are not accumulating."
   ]
  },
  {
   "cell_type": "markdown",
   "metadata": {},
   "source": [
    "---"
   ]
  },
  {
   "cell_type": "markdown",
   "metadata": {},
   "source": [
    "# Part III - Live stopping time (20 points / 50)"
   ]
  },
  {
   "cell_type": "markdown",
   "metadata": {},
   "source": [
    "In this part, we will have a look at the two other streams, namely `ndovloketnl-arrivals` and `ndovloketnl-departures`. Each time a train arrives at or leaves a station, a message is generated. Let's have a look at the content."
   ]
  },
  {
   "cell_type": "code",
   "execution_count": 11,
   "metadata": {
    "scrolled": true
   },
   "outputs": [
    {
     "data": {
      "application/vnd.jupyter.widget-view+json": {
       "model_id": "",
       "version_major": 2,
       "version_minor": 0
      },
      "text/plain": [
       "FloatProgress(value=0.0, bar_style='info', description='Progress:', layout=Layout(height='25px', width='50%'),…"
      ]
     },
     "metadata": {},
     "output_type": "display_data"
    },
    {
     "name": "stdout",
     "output_type": "stream",
     "text": [
      "{\n",
      "  \"ns1:PutReisInformatieBoodschapIn\": {\n",
      "    \"@xmlns:ns1\": \"urn:ndov:cdm:trein:reisinformatie:messages:dynamischeaankomststaat:1\", \n",
      "    \"@xmlns:ns2\": \"urn:ndov:cdm:trein:reisinformatie:data:4\", \n",
      "    \"ns2:ReisInformatieProductDAS\": {\n",
      "      \"ns2:RIPAdministratie\": {\n",
      "        \"ns2:ReisInformatieTijdstip\": \"2020-04-17T10:54:00.000Z\", \n",
      "        \"ns2:ReisInformatieProductID\": \"2004171254422300001\", \n",
      "        \"ns2:AbonnementId\": \"55\"\n",
      "      }, \n",
      "      \"@TimeStamp\": \"2020-04-17T10:54:42.098Z\", \n",
      "      \"@Versie\": \"6.1\", \n",
      "      \"ns2:DynamischeAankomstStaat\": {\n",
      "        \"ns2:RitId\": \"6945\", \n",
      "        \"ns2:RitStation\": {\n",
      "          \"ns2:LangeNaam\": \"Utrecht Vaartsche Rijn\", \n",
      "          \"ns2:MiddelNaam\": \"Vaartsche Rijn\", \n",
      "          \"ns2:StationCode\": \"UTVR\", \n",
      "          \"ns2:Type\": \"1\", \n",
      "          \"ns2:UICCode\": \"8400606\", \n",
      "          \"ns2:KorteNaam\": \"VaartscheR\"\n",
      "        }, \n",
      "        \"ns2:TreinAankomst\": {\n",
      "          \"ns2:TreinHerkomst\": [\n",
      "            {\n",
      "              \"ns2:LangeNaam\": \"Den Haag Centraal\", \n",
      "              \"@InfoStatus\": \"Gepland\", \n",
      "              \"ns2:MiddelNaam\": \"Den Haag C.\", \n",
      "              \"ns2:StationCode\": \"GVC\", \n",
      "              \"ns2:Type\": \"6\", \n",
      "              \"ns2:UICCode\": \"8400282\", \n",
      "              \"ns2:KorteNaam\": \"Den Haag C\"\n",
      "            }, \n",
      "            {\n",
      "              \"ns2:LangeNaam\": \"Den Haag Centraal\", \n",
      "              \"@InfoStatus\": \"Actueel\", \n",
      "              \"ns2:MiddelNaam\": \"Den Haag C.\", \n",
      "              \"ns2:StationCode\": \"GVC\", \n",
      "              \"ns2:Type\": \"6\", \n",
      "              \"ns2:UICCode\": \"8400282\", \n",
      "              \"ns2:KorteNaam\": \"Den Haag C\"\n",
      "            }\n",
      "          ], \n",
      "          \"ns2:TreinSoort\": {\n",
      "            \"@Code\": \"SPR\", \n",
      "            \"#text\": \"Sprinter\"\n",
      "          }, \n",
      "          \"ns2:WijzigingHerkomst\": {\n",
      "            \"ns2:WijzigingType\": \"40\"\n",
      "          }, \n",
      "          \"ns2:VerkorteRouteHerkomst\": [\n",
      "            {\n",
      "              \"ns2:Station\": [\n",
      "                {\n",
      "                  \"ns2:LangeNaam\": \"Zoetermeer\", \n",
      "                  \"ns2:MiddelNaam\": \"Zoetermeer\", \n",
      "                  \"ns2:StationCode\": \"ZTM\", \n",
      "                  \"ns2:Type\": \"1\", \n",
      "                  \"ns2:UICCode\": \"8400741\", \n",
      "                  \"ns2:KorteNaam\": \"Zoetermeer\"\n",
      "                }, \n",
      "                {\n",
      "                  \"ns2:LangeNaam\": \"Gouda\", \n",
      "                  \"ns2:MiddelNaam\": \"Gouda\", \n",
      "                  \"ns2:StationCode\": \"GD\", \n",
      "                  \"ns2:Type\": \"5\", \n",
      "                  \"ns2:UICCode\": \"8400258\", \n",
      "                  \"ns2:KorteNaam\": \"Gouda\"\n",
      "                }, \n",
      "                {\n",
      "                  \"ns2:LangeNaam\": \"Woerden\", \n",
      "                  \"ns2:MiddelNaam\": \"Woerden\", \n",
      "                  \"ns2:StationCode\": \"WD\", \n",
      "                  \"ns2:Type\": \"1\", \n",
      "                  \"ns2:UICCode\": \"8400702\", \n",
      "                  \"ns2:KorteNaam\": \"Woerden\"\n",
      "                }, \n",
      "                {\n",
      "                  \"ns2:LangeNaam\": \"Utrecht Centraal\", \n",
      "                  \"ns2:MiddelNaam\": \"Utrecht C.\", \n",
      "                  \"ns2:StationCode\": \"UT\", \n",
      "                  \"ns2:Type\": \"6\", \n",
      "                  \"ns2:UICCode\": \"8400621\", \n",
      "                  \"ns2:KorteNaam\": \"Utrecht C\"\n",
      "                }\n",
      "              ], \n",
      "              \"@InfoStatus\": \"Gepland\"\n",
      "            }, \n",
      "            {\n",
      "              \"ns2:Station\": [\n",
      "                {\n",
      "                  \"ns2:LangeNaam\": \"Zoetermeer\", \n",
      "                  \"ns2:MiddelNaam\": \"Zoetermeer\", \n",
      "                  \"ns2:StationCode\": \"ZTM\", \n",
      "                  \"ns2:Type\": \"1\", \n",
      "                  \"ns2:UICCode\": \"8400741\", \n",
      "                  \"ns2:KorteNaam\": \"Zoetermeer\"\n",
      "                }, \n",
      "                {\n",
      "                  \"ns2:LangeNaam\": \"Gouda\", \n",
      "                  \"ns2:MiddelNaam\": \"Gouda\", \n",
      "                  \"ns2:StationCode\": \"GD\", \n",
      "                  \"ns2:Type\": \"5\", \n",
      "                  \"ns2:UICCode\": \"8400258\", \n",
      "                  \"ns2:KorteNaam\": \"Gouda\"\n",
      "                }, \n",
      "                {\n",
      "                  \"ns2:LangeNaam\": \"Woerden\", \n",
      "                  \"ns2:MiddelNaam\": \"Woerden\", \n",
      "                  \"ns2:StationCode\": \"WD\", \n",
      "                  \"ns2:Type\": \"1\", \n",
      "                  \"ns2:UICCode\": \"8400702\", \n",
      "                  \"ns2:KorteNaam\": \"Woerden\"\n",
      "                }, \n",
      "                {\n",
      "                  \"ns2:LangeNaam\": \"Utrecht Centraal\", \n",
      "                  \"ns2:MiddelNaam\": \"Utrecht C.\", \n",
      "                  \"ns2:StationCode\": \"UT\", \n",
      "                  \"ns2:Type\": \"6\", \n",
      "                  \"ns2:UICCode\": \"8400621\", \n",
      "                  \"ns2:KorteNaam\": \"Utrecht C\"\n",
      "                }\n",
      "              ], \n",
      "              \"@InfoStatus\": \"Actueel\"\n",
      "            }\n",
      "          ], \n",
      "          \"ns2:PresentatieTreinAankomstSpoor\": {\n",
      "            \"ns2:Uitingen\": {\n",
      "              \"ns2:Uiting\": \"4\"\n",
      "            }\n",
      "          }, \n",
      "          \"ns2:TreinStatus\": \"5\", \n",
      "          \"ns2:PresentatieVerkorteRouteHerkomst\": {\n",
      "            \"ns2:Uitingen\": {\n",
      "              \"ns2:Uiting\": \"Zoetermeer, Gouda, Woerden, Utrecht C.\"\n",
      "            }\n",
      "          }, \n",
      "          \"ns2:AankomstTijd\": [\n",
      "            {\n",
      "              \"@InfoStatus\": \"Gepland\", \n",
      "              \"#text\": \"2020-04-17T10:54:00.000Z\"\n",
      "            }, \n",
      "            {\n",
      "              \"@InfoStatus\": \"Actueel\", \n",
      "              \"#text\": \"2020-04-17T10:54:00.000Z\"\n",
      "            }\n",
      "          ], \n",
      "          \"ns2:TreinNummer\": \"6945\", \n",
      "          \"ns2:TreinAankomstSpoor\": [\n",
      "            {\n",
      "              \"@InfoStatus\": \"Gepland\", \n",
      "              \"ns2:SpoorNummer\": \"4\"\n",
      "            }, \n",
      "            {\n",
      "              \"@InfoStatus\": \"Actueel\", \n",
      "              \"ns2:SpoorNummer\": \"4\"\n",
      "            }\n",
      "          ], \n",
      "          \"ns2:PresentatieTreinHerkomst\": {\n",
      "            \"ns2:Uitingen\": {\n",
      "              \"ns2:Uiting\": \"Den Haag C.\"\n",
      "            }\n",
      "          }, \n",
      "          \"ns2:GedempteAankomstVertraging\": \"PT0S\", \n",
      "          \"ns2:ExacteAankomstVertraging\": \"PT0S\", \n",
      "          \"ns2:Vervoerder\": \"NS\"\n",
      "        }, \n",
      "        \"ns2:RitDatum\": \"2020-04-17\"\n",
      "      }\n",
      "    }\n",
      "  }\n",
      "}"
     ]
    }
   ],
   "source": [
    "import json\n",
    "from pykafka.common import OffsetType\n",
    "\n",
    "example_arrivals = client.topics[b'ndovloketnl-arrivals'].get_simple_consumer(\n",
    "    auto_offset_reset=OffsetType.EARLIEST,\n",
    "    reset_offset_on_start=True\n",
    ").consume()\n",
    "print(json.dumps(json.loads(example_arrivals.value), indent=2))"
   ]
  },
  {
   "cell_type": "code",
   "execution_count": 16,
   "metadata": {
    "scrolled": true
   },
   "outputs": [
    {
     "data": {
      "application/vnd.jupyter.widget-view+json": {
       "model_id": "",
       "version_major": 2,
       "version_minor": 0
      },
      "text/plain": [
       "FloatProgress(value=0.0, bar_style='info', description='Progress:', layout=Layout(height='25px', width='50%'),…"
      ]
     },
     "metadata": {},
     "output_type": "display_data"
    },
    {
     "name": "stdout",
     "output_type": "stream",
     "text": [
      "{\n",
      "  \"ns1:PutReisInformatieBoodschapIn\": {\n",
      "    \"@xmlns:ns1\": \"urn:ndov:cdm:trein:reisinformatie:messages:5\", \n",
      "    \"ns2:ReisInformatieProductDVS\": {\n",
      "      \"ns2:RIPAdministratie\": {\n",
      "        \"ns2:ReisInformatieTijdstip\": \"2020-04-23T15:32:00.000Z\", \n",
      "        \"ns2:ReisInformatieProductID\": \"2004231730412200003\", \n",
      "        \"ns2:AbonnementId\": \"54\"\n",
      "      }, \n",
      "      \"@TimeStamp\": \"2020-04-23T15:30:41.815Z\", \n",
      "      \"@Versie\": \"6.2\", \n",
      "      \"ns2:DynamischeVertrekStaat\": {\n",
      "        \"ns2:RitId\": \"7363\", \n",
      "        \"ns2:RitStation\": {\n",
      "          \"ns2:LangeNaam\": \"Maarssen\", \n",
      "          \"ns2:MiddelNaam\": \"Maarssen\", \n",
      "          \"ns2:StationCode\": \"MAS\", \n",
      "          \"ns2:Type\": \"0\", \n",
      "          \"ns2:UICCode\": \"8400419\", \n",
      "          \"ns2:KorteNaam\": \"Maarssen\"\n",
      "        }, \n",
      "        \"ns2:RitDatum\": \"2020-04-23\", \n",
      "        \"ns2:Trein\": {\n",
      "          \"ns2:VertrekRichting\": \"B\", \n",
      "          \"ns2:VertrekTijd\": [\n",
      "            {\n",
      "              \"@InfoStatus\": \"Gepland\", \n",
      "              \"#text\": \"2020-04-23T15:32:00.000Z\"\n",
      "            }, \n",
      "            {\n",
      "              \"@InfoStatus\": \"Actueel\", \n",
      "              \"#text\": \"2020-04-23T15:32:00.000Z\"\n",
      "            }\n",
      "          ], \n",
      "          \"ns2:RangeerBeweging\": \"N\", \n",
      "          \"ns2:PresentatieTreinVertrekSpoor\": {\n",
      "            \"ns2:Uitingen\": {\n",
      "              \"ns2:Uiting\": \"3\"\n",
      "            }\n",
      "          }, \n",
      "          \"ns2:NietInstappen\": \"N\", \n",
      "          \"ns2:PresentatieVerkorteRoute\": {\n",
      "            \"ns2:Uitingen\": {\n",
      "              \"ns2:Uiting\": \"Utrecht C., Vaartsche Rijn, Driebergen-Zeist, Maarn\"\n",
      "            }\n",
      "          }, \n",
      "          \"ns2:TreinStatus\": \"2\", \n",
      "          \"ns2:TreinNummer\": \"7363\", \n",
      "          \"ns2:ExacteVertrekVertraging\": \"PT0S\", \n",
      "          \"ns2:Wijziging\": {\n",
      "            \"ns2:WijzigingType\": \"40\"\n",
      "          }, \n",
      "          \"ns2:TreinVleugel\": {\n",
      "            \"ns2:PresentatieTreinVleugelVertrekSpoor\": {\n",
      "              \"ns2:Uitingen\": {\n",
      "                \"ns2:Uiting\": \"3\"\n",
      "              }\n",
      "            }, \n",
      "            \"ns2:TreinVleugelVertrekSpoor\": [\n",
      "              {\n",
      "                \"@InfoStatus\": \"Gepland\", \n",
      "                \"ns2:SpoorNummer\": \"3\"\n",
      "              }, \n",
      "              {\n",
      "                \"@InfoStatus\": \"Actueel\", \n",
      "                \"ns2:SpoorNummer\": \"3\"\n",
      "              }\n",
      "            ], \n",
      "            \"ns2:StopStations\": [\n",
      "              {\n",
      "                \"ns2:Station\": [\n",
      "                  {\n",
      "                    \"ns2:LangeNaam\": \"Utrecht Zuilen\", \n",
      "                    \"ns2:MiddelNaam\": \"Zuilen\", \n",
      "                    \"ns2:StationCode\": \"UTZL\", \n",
      "                    \"ns2:Type\": \"0\", \n",
      "                    \"ns2:UICCode\": \"8400613\", \n",
      "                    \"ns2:KorteNaam\": \"Zuilen\"\n",
      "                  }, \n",
      "                  {\n",
      "                    \"ns2:LangeNaam\": \"Utrecht Centraal\", \n",
      "                    \"ns2:MiddelNaam\": \"Utrecht C.\", \n",
      "                    \"ns2:StationCode\": \"UT\", \n",
      "                    \"ns2:Type\": \"6\", \n",
      "                    \"ns2:UICCode\": \"8400621\", \n",
      "                    \"ns2:KorteNaam\": \"Utrecht C\"\n",
      "                  }, \n",
      "                  {\n",
      "                    \"ns2:LangeNaam\": \"Utrecht Vaartsche Rijn\", \n",
      "                    \"ns2:MiddelNaam\": \"Vaartsche Rijn\", \n",
      "                    \"ns2:StationCode\": \"UTVR\", \n",
      "                    \"ns2:Type\": \"1\", \n",
      "                    \"ns2:UICCode\": \"8400606\", \n",
      "                    \"ns2:KorteNaam\": \"VaartscheR\"\n",
      "                  }, \n",
      "                  {\n",
      "                    \"ns2:LangeNaam\": \"Bunnik\", \n",
      "                    \"ns2:MiddelNaam\": \"Bunnik\", \n",
      "                    \"ns2:StationCode\": \"BNK\", \n",
      "                    \"ns2:Type\": \"0\", \n",
      "                    \"ns2:UICCode\": \"8400141\", \n",
      "                    \"ns2:KorteNaam\": \"Bunnik\"\n",
      "                  }, \n",
      "                  {\n",
      "                    \"ns2:LangeNaam\": \"Driebergen-Zeist\", \n",
      "                    \"ns2:MiddelNaam\": \"Driebergen-Zeist\", \n",
      "                    \"ns2:StationCode\": \"DB\", \n",
      "                    \"ns2:Type\": \"1\", \n",
      "                    \"ns2:UICCode\": \"8400182\", \n",
      "                    \"ns2:KorteNaam\": \"Driebergen\"\n",
      "                  }, \n",
      "                  {\n",
      "                    \"ns2:LangeNaam\": \"Maarn\", \n",
      "                    \"ns2:MiddelNaam\": \"Maarn\", \n",
      "                    \"ns2:StationCode\": \"MRN\", \n",
      "                    \"ns2:Type\": \"1\", \n",
      "                    \"ns2:UICCode\": \"8400417\", \n",
      "                    \"ns2:KorteNaam\": \"Maarn\"\n",
      "                  }, \n",
      "                  {\n",
      "                    \"ns2:LangeNaam\": \"Veenendaal West\", \n",
      "                    \"ns2:MiddelNaam\": \"Veenendaal W.\", \n",
      "                    \"ns2:StationCode\": \"VNDW\", \n",
      "                    \"ns2:Type\": \"0\", \n",
      "                    \"ns2:UICCode\": \"8400628\", \n",
      "                    \"ns2:KorteNaam\": \"Veenendl W\"\n",
      "                  }, \n",
      "                  {\n",
      "                    \"ns2:LangeNaam\": \"Veenendaal Centrum\", \n",
      "                    \"ns2:MiddelNaam\": \"Veenendaal C.\", \n",
      "                    \"ns2:StationCode\": \"VNDC\", \n",
      "                    \"ns2:Type\": \"1\", \n",
      "                    \"ns2:UICCode\": \"8400627\", \n",
      "                    \"ns2:KorteNaam\": \"Veenendl C\"\n",
      "                  }, \n",
      "                  {\n",
      "                    \"ns2:LangeNaam\": \"Rhenen\", \n",
      "                    \"ns2:MiddelNaam\": \"Rhenen\", \n",
      "                    \"ns2:StationCode\": \"RHN\", \n",
      "                    \"ns2:Type\": \"1\", \n",
      "                    \"ns2:UICCode\": \"8400517\", \n",
      "                    \"ns2:KorteNaam\": \"Rhenen\"\n",
      "                  }\n",
      "                ], \n",
      "                \"@InfoStatus\": \"Gepland\"\n",
      "              }, \n",
      "              {\n",
      "                \"ns2:Station\": [\n",
      "                  {\n",
      "                    \"ns2:LangeNaam\": \"Utrecht Zuilen\", \n",
      "                    \"ns2:MiddelNaam\": \"Zuilen\", \n",
      "                    \"ns2:StationCode\": \"UTZL\", \n",
      "                    \"ns2:Type\": \"0\", \n",
      "                    \"ns2:UICCode\": \"8400613\", \n",
      "                    \"ns2:KorteNaam\": \"Zuilen\"\n",
      "                  }, \n",
      "                  {\n",
      "                    \"ns2:LangeNaam\": \"Utrecht Centraal\", \n",
      "                    \"ns2:MiddelNaam\": \"Utrecht C.\", \n",
      "                    \"ns2:StationCode\": \"UT\", \n",
      "                    \"ns2:Type\": \"6\", \n",
      "                    \"ns2:UICCode\": \"8400621\", \n",
      "                    \"ns2:KorteNaam\": \"Utrecht C\"\n",
      "                  }, \n",
      "                  {\n",
      "                    \"ns2:LangeNaam\": \"Utrecht Vaartsche Rijn\", \n",
      "                    \"ns2:MiddelNaam\": \"Vaartsche Rijn\", \n",
      "                    \"ns2:StationCode\": \"UTVR\", \n",
      "                    \"ns2:Type\": \"1\", \n",
      "                    \"ns2:UICCode\": \"8400606\", \n",
      "                    \"ns2:KorteNaam\": \"VaartscheR\"\n",
      "                  }, \n",
      "                  {\n",
      "                    \"ns2:LangeNaam\": \"Bunnik\", \n",
      "                    \"ns2:MiddelNaam\": \"Bunnik\", \n",
      "                    \"ns2:StationCode\": \"BNK\", \n",
      "                    \"ns2:Type\": \"0\", \n",
      "                    \"ns2:UICCode\": \"8400141\", \n",
      "                    \"ns2:KorteNaam\": \"Bunnik\"\n",
      "                  }, \n",
      "                  {\n",
      "                    \"ns2:LangeNaam\": \"Driebergen-Zeist\", \n",
      "                    \"ns2:MiddelNaam\": \"Driebergen-Zeist\", \n",
      "                    \"ns2:StationCode\": \"DB\", \n",
      "                    \"ns2:Type\": \"1\", \n",
      "                    \"ns2:UICCode\": \"8400182\", \n",
      "                    \"ns2:KorteNaam\": \"Driebergen\"\n",
      "                  }, \n",
      "                  {\n",
      "                    \"ns2:LangeNaam\": \"Maarn\", \n",
      "                    \"ns2:MiddelNaam\": \"Maarn\", \n",
      "                    \"ns2:StationCode\": \"MRN\", \n",
      "                    \"ns2:Type\": \"1\", \n",
      "                    \"ns2:UICCode\": \"8400417\", \n",
      "                    \"ns2:KorteNaam\": \"Maarn\"\n",
      "                  }, \n",
      "                  {\n",
      "                    \"ns2:LangeNaam\": \"Veenendaal West\", \n",
      "                    \"ns2:MiddelNaam\": \"Veenendaal W.\", \n",
      "                    \"ns2:StationCode\": \"VNDW\", \n",
      "                    \"ns2:Type\": \"0\", \n",
      "                    \"ns2:UICCode\": \"8400628\", \n",
      "                    \"ns2:KorteNaam\": \"Veenendl W\"\n",
      "                  }, \n",
      "                  {\n",
      "                    \"ns2:LangeNaam\": \"Veenendaal Centrum\", \n",
      "                    \"ns2:MiddelNaam\": \"Veenendaal C.\", \n",
      "                    \"ns2:StationCode\": \"VNDC\", \n",
      "                    \"ns2:Type\": \"1\", \n",
      "                    \"ns2:UICCode\": \"8400627\", \n",
      "                    \"ns2:KorteNaam\": \"Veenendl C\"\n",
      "                  }, \n",
      "                  {\n",
      "                    \"ns2:LangeNaam\": \"Rhenen\", \n",
      "                    \"ns2:MiddelNaam\": \"Rhenen\", \n",
      "                    \"ns2:StationCode\": \"RHN\", \n",
      "                    \"ns2:Type\": \"1\", \n",
      "                    \"ns2:UICCode\": \"8400517\", \n",
      "                    \"ns2:KorteNaam\": \"Rhenen\"\n",
      "                  }\n",
      "                ], \n",
      "                \"@InfoStatus\": \"Actueel\"\n",
      "              }\n",
      "            ], \n",
      "            \"ns2:TreinVleugelEindBestemming\": [\n",
      "              {\n",
      "                \"ns2:LangeNaam\": \"Rhenen\", \n",
      "                \"@InfoStatus\": \"Gepland\", \n",
      "                \"ns2:MiddelNaam\": \"Rhenen\", \n",
      "                \"ns2:StationCode\": \"RHN\", \n",
      "                \"ns2:Type\": \"1\", \n",
      "                \"ns2:UICCode\": \"8400517\", \n",
      "                \"ns2:KorteNaam\": \"Rhenen\"\n",
      "              }, \n",
      "              {\n",
      "                \"ns2:LangeNaam\": \"Rhenen\", \n",
      "                \"@InfoStatus\": \"Actueel\", \n",
      "                \"ns2:MiddelNaam\": \"Rhenen\", \n",
      "                \"ns2:StationCode\": \"RHN\", \n",
      "                \"ns2:Type\": \"1\", \n",
      "                \"ns2:UICCode\": \"8400517\", \n",
      "                \"ns2:KorteNaam\": \"Rhenen\"\n",
      "              }\n",
      "            ], \n",
      "            \"ns2:MaterieelDeelDVS\": {\n",
      "              \"ns2:MaterieelLengte\": \"10050\", \n",
      "              \"ns2:MaterieelNummer\": \"000000-02656-0\", \n",
      "              \"ns2:PresentatieMaterieelDeelEindBestemming\": {\n",
      "                \"ns2:Uitingen\": {\n",
      "                  \"ns2:Uiting\": \"Rhenen\"\n",
      "                }\n",
      "              }, \n",
      "              \"ns2:MaterieelDeelEindBestemming\": [\n",
      "                {\n",
      "                  \"ns2:LangeNaam\": \"Rhenen\", \n",
      "                  \"@InfoStatus\": \"Gepland\", \n",
      "                  \"ns2:MiddelNaam\": \"Rhenen\", \n",
      "                  \"ns2:StationCode\": \"RHN\", \n",
      "                  \"ns2:Type\": \"1\", \n",
      "                  \"ns2:UICCode\": \"8400517\", \n",
      "                  \"ns2:KorteNaam\": \"Rhenen\"\n",
      "                }, \n",
      "                {\n",
      "                  \"ns2:LangeNaam\": \"Rhenen\", \n",
      "                  \"@InfoStatus\": \"Actueel\", \n",
      "                  \"ns2:MiddelNaam\": \"Rhenen\", \n",
      "                  \"ns2:StationCode\": \"RHN\", \n",
      "                  \"ns2:Type\": \"1\", \n",
      "                  \"ns2:UICCode\": \"8400517\", \n",
      "                  \"ns2:KorteNaam\": \"Rhenen\"\n",
      "                }\n",
      "              ], \n",
      "              \"ns2:MaterieelAanduiding\": \"6\", \n",
      "              \"ns2:MaterieelSoort\": \"SLT\"\n",
      "            }, \n",
      "            \"ns2:PresentatieTreinVleugelEindBestemming\": {\n",
      "              \"ns2:Uitingen\": {\n",
      "                \"ns2:Uiting\": \"Rhenen\"\n",
      "              }\n",
      "            }\n",
      "          }, \n",
      "          \"ns2:TreinEindBestemming\": [\n",
      "            {\n",
      "              \"ns2:LangeNaam\": \"Rhenen\", \n",
      "              \"@InfoStatus\": \"Gepland\", \n",
      "              \"ns2:MiddelNaam\": \"Rhenen\", \n",
      "              \"ns2:StationCode\": \"RHN\", \n",
      "              \"ns2:Type\": \"1\", \n",
      "              \"ns2:UICCode\": \"8400517\", \n",
      "              \"ns2:KorteNaam\": \"Rhenen\"\n",
      "            }, \n",
      "            {\n",
      "              \"ns2:LangeNaam\": \"Rhenen\", \n",
      "              \"@InfoStatus\": \"Actueel\", \n",
      "              \"ns2:MiddelNaam\": \"Rhenen\", \n",
      "              \"ns2:StationCode\": \"RHN\", \n",
      "              \"ns2:Type\": \"1\", \n",
      "              \"ns2:UICCode\": \"8400517\", \n",
      "              \"ns2:KorteNaam\": \"Rhenen\"\n",
      "            }\n",
      "          ], \n",
      "          \"ns2:AchterBlijvenAchtersteTreinDeel\": \"N\", \n",
      "          \"ns2:Reserveren\": \"N\", \n",
      "          \"ns2:AfstandPerronEindKopVertrekTrein\": \"0\", \n",
      "          \"ns2:VerkorteRoute\": [\n",
      "            {\n",
      "              \"ns2:Station\": [\n",
      "                {\n",
      "                  \"ns2:LangeNaam\": \"Utrecht Centraal\", \n",
      "                  \"ns2:MiddelNaam\": \"Utrecht C.\", \n",
      "                  \"ns2:StationCode\": \"UT\", \n",
      "                  \"ns2:Type\": \"6\", \n",
      "                  \"ns2:UICCode\": \"8400621\", \n",
      "                  \"ns2:KorteNaam\": \"Utrecht C\"\n",
      "                }, \n",
      "                {\n",
      "                  \"ns2:LangeNaam\": \"Utrecht Vaartsche Rijn\", \n",
      "                  \"ns2:MiddelNaam\": \"Vaartsche Rijn\", \n",
      "                  \"ns2:StationCode\": \"UTVR\", \n",
      "                  \"ns2:Type\": \"1\", \n",
      "                  \"ns2:UICCode\": \"8400606\", \n",
      "                  \"ns2:KorteNaam\": \"VaartscheR\"\n",
      "                }, \n",
      "                {\n",
      "                  \"ns2:LangeNaam\": \"Driebergen-Zeist\", \n",
      "                  \"ns2:MiddelNaam\": \"Driebergen-Zeist\", \n",
      "                  \"ns2:StationCode\": \"DB\", \n",
      "                  \"ns2:Type\": \"1\", \n",
      "                  \"ns2:UICCode\": \"8400182\", \n",
      "                  \"ns2:KorteNaam\": \"Driebergen\"\n",
      "                }, \n",
      "                {\n",
      "                  \"ns2:LangeNaam\": \"Maarn\", \n",
      "                  \"ns2:MiddelNaam\": \"Maarn\", \n",
      "                  \"ns2:StationCode\": \"MRN\", \n",
      "                  \"ns2:Type\": \"1\", \n",
      "                  \"ns2:UICCode\": \"8400417\", \n",
      "                  \"ns2:KorteNaam\": \"Maarn\"\n",
      "                }\n",
      "              ], \n",
      "              \"@InfoStatus\": \"Gepland\"\n",
      "            }, \n",
      "            {\n",
      "              \"ns2:Station\": [\n",
      "                {\n",
      "                  \"ns2:LangeNaam\": \"Utrecht Centraal\", \n",
      "                  \"ns2:MiddelNaam\": \"Utrecht C.\", \n",
      "                  \"ns2:StationCode\": \"UT\", \n",
      "                  \"ns2:Type\": \"6\", \n",
      "                  \"ns2:UICCode\": \"8400621\", \n",
      "                  \"ns2:KorteNaam\": \"Utrecht C\"\n",
      "                }, \n",
      "                {\n",
      "                  \"ns2:LangeNaam\": \"Utrecht Vaartsche Rijn\", \n",
      "                  \"ns2:MiddelNaam\": \"Vaartsche Rijn\", \n",
      "                  \"ns2:StationCode\": \"UTVR\", \n",
      "                  \"ns2:Type\": \"1\", \n",
      "                  \"ns2:UICCode\": \"8400606\", \n",
      "                  \"ns2:KorteNaam\": \"VaartscheR\"\n",
      "                }, \n",
      "                {\n",
      "                  \"ns2:LangeNaam\": \"Driebergen-Zeist\", \n",
      "                  \"ns2:MiddelNaam\": \"Driebergen-Zeist\", \n",
      "                  \"ns2:StationCode\": \"DB\", \n",
      "                  \"ns2:Type\": \"1\", \n",
      "                  \"ns2:UICCode\": \"8400182\", \n",
      "                  \"ns2:KorteNaam\": \"Driebergen\"\n",
      "                }, \n",
      "                {\n",
      "                  \"ns2:LangeNaam\": \"Maarn\", \n",
      "                  \"ns2:MiddelNaam\": \"Maarn\", \n",
      "                  \"ns2:StationCode\": \"MRN\", \n",
      "                  \"ns2:Type\": \"1\", \n",
      "                  \"ns2:UICCode\": \"8400417\", \n",
      "                  \"ns2:KorteNaam\": \"Maarn\"\n",
      "                }\n",
      "              ], \n",
      "              \"@InfoStatus\": \"Actueel\"\n",
      "            }\n",
      "          ], \n",
      "          \"ns2:TreinVertrekSpoor\": [\n",
      "            {\n",
      "              \"@InfoStatus\": \"Gepland\", \n",
      "              \"ns2:SpoorNummer\": \"3\"\n",
      "            }, \n",
      "            {\n",
      "              \"@InfoStatus\": \"Actueel\", \n",
      "              \"ns2:SpoorNummer\": \"3\"\n",
      "            }\n",
      "          ], \n",
      "          \"ns2:Toeslag\": \"N\", \n",
      "          \"ns2:TreinSoort\": {\n",
      "            \"@Code\": \"SPR\", \n",
      "            \"#text\": \"Sprinter\"\n",
      "          }, \n",
      "          \"ns2:TreinFormule\": \"1\", \n",
      "          \"ns2:PresentatieTreinEindBestemming\": {\n",
      "            \"ns2:Uitingen\": {\n",
      "              \"ns2:Uiting\": \"Rhenen\"\n",
      "            }\n",
      "          }, \n",
      "          \"ns2:SpeciaalKaartje\": \"N\", \n",
      "          \"ns2:Vervoerder\": \"NS\", \n",
      "          \"ns2:GedempteVertrekVertraging\": \"PT0S\"\n",
      "        }\n",
      "      }\n",
      "    }, \n",
      "    \"@xmlns:ns2\": \"urn:ndov:cdm:trein:reisinformatie:data:4\"\n",
      "  }\n",
      "}"
     ]
    }
   ],
   "source": [
    "example_departures = client.topics[b'ndovloketnl-departures'].get_simple_consumer(\n",
    "    auto_offset_reset=OffsetType.EARLIEST,\n",
    "    reset_offset_on_start=True\n",
    ").consume()\n",
    "print(json.dumps(json.loads(example_departures.value), indent=2))"
   ]
  },
  {
   "cell_type": "markdown",
   "metadata": {},
   "source": [
    "We can see that the messages have the following structure:\n",
    "\n",
    "```\n",
    "{\n",
    "  'ns1:PutReisInformatieBoodschapIn': {\n",
    "    'ns2:ReisInformatieProductDVS' or 'ns2:ReisInformatieProductDAS': {\n",
    "      'ns2:DynamischeVertrekStaat' or 'ns2:DynamischeAankomstStaat': {\n",
    "          'ns2:RitStation': <station_info>,\n",
    "          'ns2:Trein' or 'ns2:TreinAankomst': {\n",
    "              'ns2:VertrekTijd' or 'ns2:AankomstTijd': [<planned_and_actual_times>],\n",
    "              'ns2:TreinNummer': <train_number>,\n",
    "              'ns2:TreinSoort': <kind_of_train>,\n",
    "              ...\n",
    "          }\n",
    "           \n",
    "      }\n",
    "    }\n",
    "  }\n",
    "}\n",
    "```\n",
    "\n",
    "We can see also that the train stations have a long name `ns2:LangeNaam`, a medium name `ns2:MiddelNaam`, a short name `ns2:KorteNaam`, a station code `ns2:StationCode` and a kind of nummerical ID `ns2:UICCode`. When giving information about times, tracks, direction,... you will find sometimes the information twice with the status `Gepland` (which means planned, according to the schedule) and `Actueel`(which means the actual measured value). "
   ]
  },
  {
   "cell_type": "markdown",
   "metadata": {},
   "source": [
    "**Question III.a. (5/20)** We want to compute the time a train stays at a station and get a real-time histogram for a given time window. To begin with, you need to write some parsing functions that will allow you to get information from the data streams. We have prepare one function `parse_train_dep` for the stream `ndovloketnl-departures`, which returns a Key-Value pair."
   ]
  },
  {
   "cell_type": "code",
   "execution_count": 14,
   "metadata": {
    "scrolled": true
   },
   "outputs": [
    {
     "data": {
      "application/vnd.jupyter.widget-view+json": {
       "model_id": "",
       "version_major": 2,
       "version_minor": 0
      },
      "text/plain": [
       "FloatProgress(value=0.0, bar_style='info', description='Progress:', layout=Layout(height='25px', width='50%'),…"
      ]
     },
     "metadata": {},
     "output_type": "display_data"
    }
   ],
   "source": [
    "import json\n",
    "\n",
    "def parse_train_dep(s):\n",
    "    obj = json.loads(s)\n",
    "    tn = obj.get('ns1:PutReisInformatieBoodschapIn', {}).get('ns2:ReisInformatieProductDVS', {}).get('ns2:DynamischeVertrekStaat', {}).get('ns2:Trein', {}).get(\"ns2:TreinNummer\")\n",
    "    st = obj.get('ns1:PutReisInformatieBoodschapIn', {}).get('ns2:ReisInformatieProductDVS', {}).get('ns2:DynamischeVertrekStaat', {}).get('ns2:RitStation', {}).get(\"ns2:UICCode\")\n",
    "    if tn and st:\n",
    "        return [(\"{}-{}\".format(tn, st), obj)]\n",
    "    else:\n",
    "        return []"
   ]
  },
  {
   "cell_type": "markdown",
   "metadata": {},
   "source": [
    "__Q (1/5)__  Please check the function `parse_train_dep` above. Explain how we construct the Key and the Value, and why we construct them in this way."
   ]
  },
  {
   "cell_type": "markdown",
   "metadata": {},
   "source": [
    "__Answer__: Write your answer here."
   ]
  },
  {
   "cell_type": "markdown",
   "metadata": {},
   "source": [
    "__Q (2/5)__ Take `parse_train_dep` as an example and write the function `parse_train_arr` for the stream `ndovloketnl-arrivals`. Make sure they have the same output format."
   ]
  },
  {
   "cell_type": "code",
   "execution_count": 16,
   "metadata": {
    "scrolled": true
   },
   "outputs": [
    {
     "data": {
      "application/vnd.jupyter.widget-view+json": {
       "model_id": "",
       "version_major": 2,
       "version_minor": 0
      },
      "text/plain": [
       "FloatProgress(value=0.0, bar_style='info', description='Progress:', layout=Layout(height='25px', width='50%'),…"
      ]
     },
     "metadata": {},
     "output_type": "display_data"
    }
   ],
   "source": [
    "def parse_train_arr(s):\n",
    "    obj = json.loads(s)\n",
    "    tn = obj.get('ns1:PutReisInformatieBoodschapIn', {}).get('ns2:ReisInformatieProductDAS', {}).get('ns2:DynamischeAankomstStaat', {}).get('ns2:TreinAankomst', {}).get(\"ns2:TreinNummer\")\n",
    "    st = obj.get('ns1:PutReisInformatieBoodschapIn', {}).get('ns2:ReisInformatieProductDAS', {}).get('ns2:DynamischeAankomstStaat', {}).get('ns2:RitStation', {}).get(\"ns2:UICCode\")\n",
    "    if tn and st:\n",
    "        return [(\"{}-{}\".format(tn, st), obj)]\n",
    "    else:\n",
    "        return []"
   ]
  },
  {
   "cell_type": "markdown",
   "metadata": {},
   "source": [
    "__Q (2/5)__ Another parsing function you may need is `get_actual_time`, which will allow you to extract the actual time from the fields of time information, which are `ns2:AankomstTijd` in the arrival stream and `ns2:VertrekTijd` in the departure stream. \n",
    "\n",
    "__Note:__ These two fields may be empty and they may not contain the actual time information. In both cases the function should return `None`."
   ]
  },
  {
   "cell_type": "code",
   "execution_count": 26,
   "metadata": {
    "scrolled": true
   },
   "outputs": [
    {
     "data": {
      "application/vnd.jupyter.widget-view+json": {
       "model_id": "",
       "version_major": 2,
       "version_minor": 0
      },
      "text/plain": [
       "FloatProgress(value=0.0, bar_style='info', description='Progress:', layout=Layout(height='25px', width='50%'),…"
      ]
     },
     "metadata": {},
     "output_type": "display_data"
    }
   ],
   "source": [
    "import datetime\n",
    "def get_actual_time(tab):\n",
    "    for t in tab:\n",
    "        try:\n",
    "            if t[\"@InfoStatus\"] == \"Actueel\":\n",
    "                return t[\"#text\"]\n",
    "        except:\n",
    "            return None"
   ]
  },
  {
   "cell_type": "code",
   "execution_count": 27,
   "metadata": {},
   "outputs": [
    {
     "data": {
      "application/vnd.jupyter.widget-view+json": {
       "model_id": "",
       "version_major": 2,
       "version_minor": 0
      },
      "text/plain": [
       "FloatProgress(value=0.0, bar_style='info', description='Progress:', layout=Layout(height='25px', width='50%'),…"
      ]
     },
     "metadata": {},
     "output_type": "display_data"
    }
   ],
   "source": [
    "# Get the field of time in the departure stream\n",
    "example_json = json.loads(example_departures.value)\n",
    "tab = example_json.get('ns1:PutReisInformatieBoodschapIn', {}).get(\"ns2:ReisInformatieProductDVS\", {}).get(\"ns2:DynamischeVertrekStaat\", {}).get(\"ns2:Trein\", {}).get(\"ns2:VertrekTijd\",{})"
   ]
  },
  {
   "cell_type": "code",
   "execution_count": 29,
   "metadata": {},
   "outputs": [
    {
     "data": {
      "application/vnd.jupyter.widget-view+json": {
       "model_id": "",
       "version_major": 2,
       "version_minor": 0
      },
      "text/plain": [
       "FloatProgress(value=0.0, bar_style='info', description='Progress:', layout=Layout(height='25px', width='50%'),…"
      ]
     },
     "metadata": {},
     "output_type": "display_data"
    },
    {
     "name": "stdout",
     "output_type": "stream",
     "text": [
      "u'2020-04-23T15:32:00.000Z'"
     ]
    }
   ],
   "source": [
    "# Example results from `get_actual_time`\n",
    "get_actual_time(tab)"
   ]
  },
  {
   "cell_type": "markdown",
   "metadata": {},
   "source": [
    "**Question III.b. (5/20)** Create two Spark streams from the arrivals and departures where the records are in the form (Key, Value) using `parse_train_dep` and  `parse_train_arr`. "
   ]
  },
  {
   "cell_type": "code",
   "execution_count": 18,
   "metadata": {
    "scrolled": true
   },
   "outputs": [
    {
     "data": {
      "application/vnd.jupyter.widget-view+json": {
       "model_id": "",
       "version_major": 2,
       "version_minor": 0
      },
      "text/plain": [
       "FloatProgress(value=0.0, bar_style='info', description='Progress:', layout=Layout(height='25px', width='50%'),…"
      ]
     },
     "metadata": {},
     "output_type": "display_data"
    }
   ],
   "source": [
    "# create the streaming context\n",
    "ssc = StreamingContext(sc, 10)\n",
    "ssc.checkpoint(checkpoint)\n",
    "\n",
    "group_id = 'ns-{0}'.format(username)\n",
    "\n",
    "# Input streams\n",
    "arrival_stream = KafkaUtils.createStream(ssc, ZOOKEEPER_QUORUM, group_id, { 'ndovloketnl-arrivals': 1})\n",
    "departure_stream = KafkaUtils.createStream(ssc, ZOOKEEPER_QUORUM, group_id, { 'ndovloketnl-departures': 1})"
   ]
  },
  {
   "cell_type": "code",
   "execution_count": 19,
   "metadata": {},
   "outputs": [
    {
     "data": {
      "application/vnd.jupyter.widget-view+json": {
       "model_id": "",
       "version_major": 2,
       "version_minor": 0
      },
      "text/plain": [
       "FloatProgress(value=0.0, bar_style='info', description='Progress:', layout=Layout(height='25px', width='50%'),…"
      ]
     },
     "metadata": {},
     "output_type": "display_data"
    }
   ],
   "source": [
    "arrival_stream_m = arrival_stream.map(lambda x :extract_arrival_data(x.value))\n",
    "departure_stream_m = departure_stream.map(lambda x :extract_departure_data(x.value))\n",
    "\n"
   ]
  },
  {
   "cell_type": "markdown",
   "metadata": {},
   "source": [
    "**Question III.c. (5/20)** \n",
    "Every 20 seconds, we want to have a list of trains that had departed from any train station after staying for 5 minutes or less at the station. Apply a window of 20s sliding interval on arrival and departure streams. Join two streams such that trains staying for 5 minutes or less (± 20 seconds error due to sliding interval) at any station are caught by the join in the RDD window of the joined stream (you can ignore late messages). \n",
    "\n",
    "__Hint:__\n",
    "- Check [here](https://spark.apache.org/docs/2.3.1/streaming-programming-guide.html#window-operations) for windowed computations in Spark Streaming.\n",
    "- Use the methods [reduceByKeyAndWindow](https://spark.apache.org/docs/2.3.1/api/python/pyspark.streaming.html?highlight=reducebykey#pyspark.streaming.DStream.reduceByKeyAndWindow) and [join](https://spark.apache.org/docs/2.3.1/api/python/pyspark.streaming.html?highlight=reducebykey#pyspark.streaming.DStream.join) on DStream objects.\n",
    "- Both windows should have `slideDuration` of 20s\n",
    "- You have to pick the sizes of windows `windowDuration` carefully. The sizes can be different: \n",
    "    - The trains staying for 5 minutes or less (± 20 seconds error due to sliding interval) must be in the joined stream.\n",
    "    - A same stay (i.e. one train at one station) is caught in the joined stream once and only once."
   ]
  },
  {
   "cell_type": "code",
   "execution_count": 20,
   "metadata": {
    "scrolled": true
   },
   "outputs": [
    {
     "data": {
      "application/vnd.jupyter.widget-view+json": {
       "model_id": "",
       "version_major": 2,
       "version_minor": 0
      },
      "text/plain": [
       "FloatProgress(value=0.0, bar_style='info', description='Progress:', layout=Layout(height='25px', width='50%'),…"
      ]
     },
     "metadata": {},
     "output_type": "display_data"
    }
   ],
   "source": [
    "\n",
    "arrival_stream_window = arrival_stream_m.reduceByKeyAndWindow(lambda x, y: x + y, lambda x, y: x - y, 5*60, 20)\n",
    "departure_stream_window = departure_stream_m.reduceByKeyAndWindow(lambda x, y: x + y, lambda x, y: x - y, 100, 20)\n",
    "jstream = arrival_stream_window.join(departure_stream_window)"
   ]
  },
  {
   "cell_type": "markdown",
   "metadata": {},
   "source": [
    "**Question III.d. (5/20)** On the joined stream, compute the length of each stay (you can round to the minute) and produce a stream of histograms. You don't need to plot them, a value/count array is enough, like:\n",
    "```\n",
    "-------------------------------------------\n",
    "Time: 2018-05-17 11:10:00\n",
    "-------------------------------------------\n",
    "(0.0, 110)\n",
    "(8.0, 2)\n",
    "(4.0, 3)\n",
    "\n",
    "-------------------------------------------\n",
    "Time: 2018-05-17 11:10:20\n",
    "-------------------------------------------\n",
    "(0.0, 46)\n",
    "(4.0, 2)\n",
    "(1.0, 5)\n",
    "```"
   ]
  },
  {
   "cell_type": "code",
   "execution_count": 61,
   "metadata": {
    "scrolled": true
   },
   "outputs": [
    {
     "data": {
      "application/vnd.jupyter.widget-view+json": {
       "model_id": "",
       "version_major": 2,
       "version_minor": 0
      },
      "text/plain": [
       "FloatProgress(value=0.0, bar_style='info', description='Progress:', layout=Layout(height='25px', width='50%'),…"
      ]
     },
     "metadata": {},
     "output_type": "display_data"
    },
    {
     "name": "stderr",
     "output_type": "stream",
     "text": [
      "An error was encountered:\n",
      "invalid syntax (<stdin>, line 1)\n",
      "  File \"<stdin>\", line 1\n",
      "    histograms_stream = <--TODO-->\n",
      "                        ^\n",
      "SyntaxError: invalid syntax\n",
      "\n"
     ]
    }
   ],
   "source": [
    "histograms_stream = <--TODO-->\n",
    "\n",
    "histograms_stream.pprint()"
   ]
  },
  {
   "cell_type": "code",
   "execution_count": 21,
   "metadata": {},
   "outputs": [
    {
     "data": {
      "application/vnd.jupyter.widget-view+json": {
       "model_id": "",
       "version_major": 2,
       "version_minor": 0
      },
      "text/plain": [
       "FloatProgress(value=0.0, bar_style='info', description='Progress:', layout=Layout(height='25px', width='50%'),…"
      ]
     },
     "metadata": {},
     "output_type": "display_data"
    }
   ],
   "source": [
    "arrival_stream.pprint()"
   ]
  },
  {
   "cell_type": "code",
   "execution_count": 22,
   "metadata": {
    "scrolled": true
   },
   "outputs": [
    {
     "data": {
      "application/vnd.jupyter.widget-view+json": {
       "model_id": "",
       "version_major": 2,
       "version_minor": 0
      },
      "text/plain": [
       "FloatProgress(value=0.0, bar_style='info', description='Progress:', layout=Layout(height='25px', width='50%'),…"
      ]
     },
     "metadata": {},
     "output_type": "display_data"
    }
   ],
   "source": [
    "ssc.start() \n",
    "ssc.awaitTermination(timeout=10)"
   ]
  },
  {
   "cell_type": "code",
   "execution_count": 64,
   "metadata": {
    "scrolled": true
   },
   "outputs": [
    {
     "data": {
      "application/vnd.jupyter.widget-view+json": {
       "model_id": "",
       "version_major": 2,
       "version_minor": 0
      },
      "text/plain": [
       "FloatProgress(value=0.0, bar_style='info', description='Progress:', layout=Layout(height='25px', width='50%'),…"
      ]
     },
     "metadata": {},
     "output_type": "display_data"
    },
    {
     "name": "stdout",
     "output_type": "stream",
     "text": [
      "-------------------------------------------\n",
      "Time: 2020-05-04 04:10:00\n",
      "-------------------------------------------\n",
      "\n",
      "-------------------------------------------\n",
      "Time: 2020-05-04 04:10:10\n",
      "-------------------------------------------\n",
      "\n",
      "-------------------------------------------\n",
      "Time: 2020-05-04 04:10:20\n",
      "-------------------------------------------"
     ]
    }
   ],
   "source": [
    "ssc.stop(stopSparkContext=False, stopGraceFully=True)"
   ]
  },
  {
   "cell_type": "code",
   "execution_count": null,
   "metadata": {},
   "outputs": [],
   "source": []
  }
 ],
 "metadata": {
  "kernelspec": {
   "display_name": "PySpark",
   "language": "",
   "name": "pysparkkernel"
  },
  "language_info": {
   "codemirror_mode": {
    "name": "python",
    "version": 3
   },
   "mimetype": "text/x-python",
   "name": "pyspark",
   "pygments_lexer": "python3"
  }
 },
 "nbformat": 4,
 "nbformat_minor": 4
}
