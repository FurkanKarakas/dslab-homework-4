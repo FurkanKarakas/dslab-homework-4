{
 "cells": [
  {
   "cell_type": "markdown",
   "metadata": {},
   "source": [
    "# Homework 4 - More trains (Part III)\n",
    "\n",
    "__Hand-in:__\n",
    "\n",
    "- __Due: 12.05.2020 23:59:59 CET__\n",
    "- `git push` your final verion to your group's Renku repository before the due\n",
    "- check if `Dockerfile`, `environment.yml` and `requirements.txt` are properly written\n",
    "- add necessary comments and discussion to make your codes readable\n",
    "\n",
    "For this homework, you will be working with the real-time streams of the NS, the train company of the Netherlands. You can see an example webpage that uses the same streams to display the train information on a map: https://spoorkaart.mwnn.nl/ . \n",
    "\n",
    "To help you and avoid having too many connections to the NS streaming servers, we have setup a service that collects the streams and pushes them to our Kafka instance. The related topics are: \n",
    "\n",
    "`ndovloketnl-arrivals`: For each arrival of a train in a station, describe the previous and next station, time of arrival (planned and actual), track number,...\n",
    "\n",
    "`ndovloketnl-departures`: For each departure of a train from a station, describe the previous and next station, time of departure (planned and actual), track number,...\n",
    "\n",
    "`ndovloketnl-gps`: For each train, describe the current location, speed, bearing.\n",
    "\n",
    "The events are serialized in JSON (actually converted from XML), with properties in their original language. Google translate could help you understand all of them, but we will provide you with some useful mappings."
   ]
  },
  {
   "cell_type": "markdown",
   "metadata": {},
   "source": [
    "---\n",
    "## Set up environment\n",
    "\n",
    "Run the following cells below before running the other cells of this notebook. Run them whenever you need to recreate a Spark context. Pay particular attention to your `username` settings, and make sure that it is properly set to your user name, both locally and on the remote Spark Driver.\n",
    "\n",
    "Configure your spark settings:\n",
    "1. name your spark application as `\"YOUR_GASPAR_homework_4\"`.\n",
    "2. make the required kafka jars available on the remote Spark driver.\n",
    "\n",
    "<div class=\"alert alert-block alert-warning\"><b>Any application without a proper name would be promptly killed.</b></div>"
   ]
  },
  {
   "cell_type": "code",
   "execution_count": 1,
   "metadata": {},
   "outputs": [
    {
     "data": {
      "text/html": [
       "Current session configs: <tt>{'conf': {'spark.app.name': 'boecuego_homework_4', 'spark.jars.packages': 'org.apache.spark:spark-streaming-kafka-0-8_2.11:2.3.1,org.apache.kafka:kafka_2.11:1.0.1'}, 'kind': 'pyspark'}</tt><br>"
      ],
      "text/plain": [
       "<IPython.core.display.HTML object>"
      ]
     },
     "metadata": {},
     "output_type": "display_data"
    },
    {
     "data": {
      "text/html": [
       "<table>\n",
       "<tr><th>ID</th><th>YARN Application ID</th><th>Kind</th><th>State</th><th>Spark UI</th><th>Driver log</th><th>Current session?</th></tr><tr><td>4086</td><td>application_1587988164357_0714</td><td>pyspark</td><td>idle</td><td><a target=\"_blank\" href=\"http://iccluster044.iccluster.epfl.ch:8088/proxy/application_1587988164357_0714/\">Link</a></td><td><a target=\"_blank\" href=\"http://iccluster070.iccluster.epfl.ch:8042/node/containerlogs/container_e05_1587988164357_0714_01_000001/ebouille\">Link</a></td><td></td></tr><tr><td>4087</td><td>application_1587988164357_0715</td><td>pyspark</td><td>idle</td><td><a target=\"_blank\" href=\"http://iccluster044.iccluster.epfl.ch:8088/proxy/application_1587988164357_0715/\">Link</a></td><td><a target=\"_blank\" href=\"http://iccluster067.iccluster.epfl.ch:8042/node/containerlogs/container_e05_1587988164357_0715_01_000001/ebouille\">Link</a></td><td></td></tr><tr><td>4089</td><td>application_1587988164357_0717</td><td>pyspark</td><td>idle</td><td><a target=\"_blank\" href=\"http://iccluster044.iccluster.epfl.ch:8088/proxy/application_1587988164357_0717/\">Link</a></td><td><a target=\"_blank\" href=\"http://iccluster069.iccluster.epfl.ch:8042/node/containerlogs/container_e05_1587988164357_0717_01_000001/ebouille\">Link</a></td><td></td></tr></table>"
      ],
      "text/plain": [
       "<IPython.core.display.HTML object>"
      ]
     },
     "metadata": {},
     "output_type": "display_data"
    }
   ],
   "source": [
    "%%configure\n",
    "{\"conf\": {\n",
    "    \"spark.app.name\": \"boecuego_homework_4\",\n",
    "    \"spark.jars.packages\": \"org.apache.spark:spark-streaming-kafka-0-8_2.11:2.3.1,org.apache.kafka:kafka_2.11:1.0.1\"\n",
    "}}"
   ]
  },
  {
   "cell_type": "markdown",
   "metadata": {},
   "source": [
    "Create a new session unless one was already created above (check for `✔` in current session)"
   ]
  },
  {
   "cell_type": "code",
   "execution_count": 2,
   "metadata": {},
   "outputs": [
    {
     "name": "stdout",
     "output_type": "stream",
     "text": [
      "Starting Spark application\n"
     ]
    },
    {
     "data": {
      "text/html": [
       "<table>\n",
       "<tr><th>ID</th><th>YARN Application ID</th><th>Kind</th><th>State</th><th>Spark UI</th><th>Driver log</th><th>Current session?</th></tr><tr><td>4091</td><td>application_1587988164357_0719</td><td>pyspark</td><td>idle</td><td><a target=\"_blank\" href=\"http://iccluster044.iccluster.epfl.ch:8088/proxy/application_1587988164357_0719/\">Link</a></td><td><a target=\"_blank\" href=\"http://iccluster070.iccluster.epfl.ch:8042/node/containerlogs/container_e05_1587988164357_0719_01_000001/ebouille\">Link</a></td><td>✔</td></tr></table>"
      ],
      "text/plain": [
       "<IPython.core.display.HTML object>"
      ]
     },
     "metadata": {},
     "output_type": "display_data"
    },
    {
     "data": {
      "application/vnd.jupyter.widget-view+json": {
       "model_id": "",
       "version_major": 2,
       "version_minor": 0
      },
      "text/plain": [
       "FloatProgress(value=0.0, bar_style='info', description='Progress:', layout=Layout(height='25px', width='50%'),…"
      ]
     },
     "metadata": {},
     "output_type": "display_data"
    },
    {
     "name": "stdout",
     "output_type": "stream",
     "text": [
      "SparkSession available as 'spark'.\n"
     ]
    },
    {
     "data": {
      "application/vnd.jupyter.widget-view+json": {
       "model_id": "",
       "version_major": 2,
       "version_minor": 0
      },
      "text/plain": [
       "FloatProgress(value=0.0, bar_style='info', description='Progress:', layout=Layout(height='25px', width='50%'),…"
      ]
     },
     "metadata": {},
     "output_type": "display_data"
    }
   ],
   "source": [
    "# Initialize spark application"
   ]
  },
  {
   "cell_type": "markdown",
   "metadata": {},
   "source": [
    "Set `username` to your GASPAR both locally and on the Spark driver."
   ]
  },
  {
   "cell_type": "code",
   "execution_count": 3,
   "metadata": {},
   "outputs": [],
   "source": [
    "%%local\n",
    "import os\n",
    "username = os.environ['JUPYTERHUB_USER']"
   ]
  },
  {
   "cell_type": "code",
   "execution_count": 4,
   "metadata": {},
   "outputs": [
    {
     "data": {
      "application/vnd.jupyter.widget-view+json": {
       "model_id": "",
       "version_major": 2,
       "version_minor": 0
      },
      "text/plain": [
       "FloatProgress(value=0.0, bar_style='info', description='Progress:', layout=Layout(height='25px', width='50%'),…"
      ]
     },
     "metadata": {},
     "output_type": "display_data"
    },
    {
     "name": "stdout",
     "output_type": "stream",
     "text": [
      "Successfully passed 'username' as 'username' to Spark kernel"
     ]
    }
   ],
   "source": [
    "%%send_to_spark -i username -t str -n username"
   ]
  },
  {
   "cell_type": "code",
   "execution_count": 5,
   "metadata": {},
   "outputs": [
    {
     "data": {
      "application/vnd.jupyter.widget-view+json": {
       "model_id": "",
       "version_major": 2,
       "version_minor": 0
      },
      "text/plain": [
       "FloatProgress(value=0.0, bar_style='info', description='Progress:', layout=Layout(height='25px', width='50%'),…"
      ]
     },
     "metadata": {},
     "output_type": "display_data"
    },
    {
     "name": "stdout",
     "output_type": "stream",
     "text": [
      "'boecuego'"
     ]
    }
   ],
   "source": [
    "username"
   ]
  },
  {
   "cell_type": "markdown",
   "metadata": {},
   "source": [
    "---"
   ]
  },
  {
   "cell_type": "markdown",
   "metadata": {},
   "source": [
    "## Create a Kafka client"
   ]
  },
  {
   "cell_type": "code",
   "execution_count": 6,
   "metadata": {
    "scrolled": true
   },
   "outputs": [
    {
     "data": {
      "application/vnd.jupyter.widget-view+json": {
       "model_id": "",
       "version_major": 2,
       "version_minor": 0
      },
      "text/plain": [
       "FloatProgress(value=0.0, bar_style='info', description='Progress:', layout=Layout(height='25px', width='50%'),…"
      ]
     },
     "metadata": {},
     "output_type": "display_data"
    }
   ],
   "source": [
    "from pykafka import KafkaClient\n",
    "from pykafka.common import OffsetType\n",
    "\n",
    "ZOOKEEPER_QUORUM = 'iccluster044.iccluster.epfl.ch:2181,'\\\n",
    "                   'iccluster054.iccluster.epfl.ch:2181,'\\\n",
    "                   'iccluster059.iccluster.epfl.ch:2181'\n",
    "\n",
    "client = KafkaClient(zookeeper_hosts=ZOOKEEPER_QUORUM)"
   ]
  },
  {
   "cell_type": "markdown",
   "metadata": {},
   "source": [
    "## Streams from Kafka"
   ]
  },
  {
   "cell_type": "code",
   "execution_count": 7,
   "metadata": {
    "scrolled": true
   },
   "outputs": [
    {
     "data": {
      "application/vnd.jupyter.widget-view+json": {
       "model_id": "",
       "version_major": 2,
       "version_minor": 0
      },
      "text/plain": [
       "FloatProgress(value=0.0, bar_style='info', description='Progress:', layout=Layout(height='25px', width='50%'),…"
      ]
     },
     "metadata": {},
     "output_type": "display_data"
    },
    {
     "name": "stdout",
     "output_type": "stream",
     "text": [
      "checkpoint created at hdfs:///user/boecuego/checkpoint/"
     ]
    }
   ],
   "source": [
    "# Define the checkpoint folder\n",
    "checkpoint = 'hdfs:///user/{}/checkpoint/'.format(username)\n",
    "print('checkpoint created at hdfs:///user/{}/checkpoint/'.format(username))"
   ]
  },
  {
   "cell_type": "code",
   "execution_count": 8,
   "metadata": {
    "scrolled": true
   },
   "outputs": [
    {
     "data": {
      "application/vnd.jupyter.widget-view+json": {
       "model_id": "",
       "version_major": 2,
       "version_minor": 0
      },
      "text/plain": [
       "FloatProgress(value=0.0, bar_style='info', description='Progress:', layout=Layout(height='25px', width='50%'),…"
      ]
     },
     "metadata": {},
     "output_type": "display_data"
    }
   ],
   "source": [
    "from pyspark.streaming import StreamingContext\n",
    "from pyspark.streaming.kafka import KafkaUtils\n",
    "\n",
    "# Create a StreamingContext with two working thread and batch interval of 10 seconds.\n",
    "# Each time you stop a StreamingContext, you will need to recreate it.\n",
    "ssc = StreamingContext(sc, 10)\n",
    "ssc.checkpoint(checkpoint)\n",
    "\n",
    "group_id = 'ns-{0}'.format(username)\n",
    "\n",
    "# Input streams\n",
    "arrival_stream = KafkaUtils.createStream(ssc, ZOOKEEPER_QUORUM, group_id, { 'ndovloketnl-arrivals': 1})\n",
    "departure_stream = KafkaUtils.createStream(ssc, ZOOKEEPER_QUORUM, group_id, { 'ndovloketnl-departures': 1})"
   ]
  },
  {
   "cell_type": "markdown",
   "metadata": {},
   "source": [
    "For now, let's just print the content of the streams. Note: the output may be shown after you run `ssc.stop`."
   ]
  },
  {
   "cell_type": "code",
   "execution_count": 9,
   "metadata": {
    "scrolled": true
   },
   "outputs": [
    {
     "data": {
      "application/vnd.jupyter.widget-view+json": {
       "model_id": "",
       "version_major": 2,
       "version_minor": 0
      },
      "text/plain": [
       "FloatProgress(value=0.0, bar_style='info', description='Progress:', layout=Layout(height='25px', width='50%'),…"
      ]
     },
     "metadata": {},
     "output_type": "display_data"
    }
   ],
   "source": [
    "arrival_stream.pprint()\n",
    "departure_stream.pprint()\n",
    "\n",
    "ssc.start()\n",
    "ssc.awaitTermination(timeout=10)"
   ]
  },
  {
   "cell_type": "code",
   "execution_count": 10,
   "metadata": {
    "scrolled": true
   },
   "outputs": [
    {
     "data": {
      "application/vnd.jupyter.widget-view+json": {
       "model_id": "",
       "version_major": 2,
       "version_minor": 0
      },
      "text/plain": [
       "FloatProgress(value=0.0, bar_style='info', description='Progress:', layout=Layout(height='25px', width='50%'),…"
      ]
     },
     "metadata": {},
     "output_type": "display_data"
    },
    {
     "name": "stdout",
     "output_type": "stream",
     "text": [
      "-------------------------------------------\n",
      "Time: 2020-05-05 00:21:20\n",
      "-------------------------------------------\n",
      "(None, u'{\"ns1:PutReisInformatieBoodschapIn\": {\"@xmlns:ns1\": \"urn:ndov:cdm:trein:reisinformatie:messages:dynamischeaankomststaat:1\", \"@xmlns:ns2\": \"urn:ndov:cdm:trein:reisinformatie:data:4\", \"ns2:ReisInformatieProductDAS\": {\"@TimeStamp\": \"2020-05-04T22:19:33.685Z\", \"@Versie\": \"6.1\", \"ns2:RIPAdministratie\": {\"ns2:ReisInformatieProductID\": \"2005050019332200002\", \"ns2:AbonnementId\": \"55\", \"ns2:ReisInformatieTijdstip\": \"2020-05-04T22:04:00.000Z\"}, \"ns2:DynamischeAankomstStaat\": {\"ns2:RitId\": \"2289\", \"ns2:RitDatum\": \"2020-05-04\", \"ns2:RitStation\": {\"ns2:StationCode\": \"HAD\", \"ns2:Type\": \"4\", \"ns2:KorteNaam\": \"Heemstede\", \"ns2:MiddelNaam\": \"Heemstede-A.\", \"ns2:LangeNaam\": \"Heemstede-Aerdenhout\", \"ns2:UICCode\": \"8400302\"}, \"ns2:TreinAankomst\": {\"ns2:TreinNummer\": \"2289\", \"ns2:TreinSoort\": {\"@Code\": \"IC\", \"#text\": \"Intercity\"}, \"ns2:TreinStatus\": \"2\", \"ns2:Vervoerder\": \"NS\", \"ns2:TreinHerkomst\": [{\"@InfoStatus\": \"Gepland\", \"ns2:StationCode\": \"VS\", \"ns2:Type\": \"5\", \"ns2:KorteNaam\": \"Vlissingen\", \"ns2:MiddelNaam\": \"Vlissingen\", \"ns2:LangeNaam\": \"Vlissingen\", \"ns2:UICCode\": \"8400652\"}, {\"@InfoStatus\": \"Actueel\", \"ns2:StationCode\": \"VS\", \"ns2:Type\": \"5\", \"ns2:KorteNaam\": \"Vlissingen\", \"ns2:MiddelNaam\": \"Vlissingen\", \"ns2:LangeNaam\": \"Vlissingen\", \"ns2:UICCode\": \"8400652\"}], \"ns2:PresentatieTreinHerkomst\": {\"ns2:Uitingen\": {\"ns2:Uiting\": \"Vlissingen\"}}, \"ns2:AankomstTijd\": [{\"@InfoStatus\": \"Gepland\", \"#text\": \"2020-05-04T22:04:00.000Z\"}, {\"@InfoStatus\": \"Actueel\", \"#text\": \"2020-05-04T22:21:56.000Z\"}], \"ns2:ExacteAankomstVertraging\": \"PT17M56S\", \"ns2:PresentatieAankomstVertraging\": {\"ns2:Uitingen\": {\"ns2:Uiting\": \"+17 min.\"}}, \"ns2:GedempteAankomstVertraging\": \"PT15M\", \"ns2:TreinAankomstSpoor\": [{\"@InfoStatus\": \"Gepland\", \"ns2:SpoorNummer\": \"1\"}, {\"@InfoStatus\": \"Actueel\", \"ns2:SpoorNummer\": \"1\"}], \"ns2:PresentatieTreinAankomstSpoor\": {\"ns2:Uitingen\": {\"ns2:Uiting\": \"1\"}}, \"ns2:VerkorteRouteHerkomst\": [{\"@InfoStatus\": \"Gepland\", \"ns2:Station\": [{\"ns2:StationCode\": \"RTD\", \"ns2:Type\": \"6\", \"ns2:KorteNaam\": \"Rotterdm C\", \"ns2:MiddelNaam\": \"Rotterdam C.\", \"ns2:LangeNaam\": \"Rotterdam Centraal\", \"ns2:UICCode\": \"8400530\"}, {\"ns2:StationCode\": \"DT\", \"ns2:Type\": \"5\", \"ns2:KorteNaam\": \"Delft\", \"ns2:MiddelNaam\": \"Delft\", \"ns2:LangeNaam\": \"Delft\", \"ns2:UICCode\": \"8400170\"}, {\"ns2:StationCode\": \"GV\", \"ns2:Type\": \"5\", \"ns2:KorteNaam\": \"Dn Haag HS\", \"ns2:MiddelNaam\": \"Den Haag HS\", \"ns2:LangeNaam\": \"Den Haag HS\", \"ns2:UICCode\": \"8400280\"}, {\"ns2:StationCode\": \"LEDN\", \"ns2:Type\": \"5\", \"ns2:KorteNaam\": \"Leiden C\", \"ns2:MiddelNaam\": \"Leiden C.\", \"ns2:LangeNaam\": \"Leiden Centraal\", \"ns2:UICCode\": \"8400390\"}]}, {\"@InfoStatus\": \"Actueel\", \"ns2:Station\": [{\"ns2:StationCode\": \"RTD\", \"ns2:Type\": \"6\", \"ns2:KorteNaam\": \"Rotterdm C\", \"ns2:MiddelNaam\": \"Rotterdam C.\", \"ns2:LangeNaam\": \"Rotterdam Centraal\", \"ns2:UICCode\": \"8400530\"}, {\"ns2:StationCode\": \"DT\", \"ns2:Type\": \"5\", \"ns2:KorteNaam\": \"Delft\", \"ns2:MiddelNaam\": \"Delft\", \"ns2:LangeNaam\": \"Delft\", \"ns2:UICCode\": \"8400170\"}, {\"ns2:StationCode\": \"GV\", \"ns2:Type\": \"5\", \"ns2:KorteNaam\": \"Dn Haag HS\", \"ns2:MiddelNaam\": \"Den Haag HS\", \"ns2:LangeNaam\": \"Den Haag HS\", \"ns2:UICCode\": \"8400280\"}, {\"ns2:StationCode\": \"LEDN\", \"ns2:Type\": \"5\", \"ns2:KorteNaam\": \"Leiden C\", \"ns2:MiddelNaam\": \"Leiden C.\", \"ns2:LangeNaam\": \"Leiden Centraal\", \"ns2:UICCode\": \"8400390\"}]}], \"ns2:PresentatieVerkorteRouteHerkomst\": {\"ns2:Uitingen\": {\"ns2:Uiting\": \"Rotterdam C., Delft, Den Haag HS, Leiden C.\"}}, \"ns2:WijzigingHerkomst\": [{\"ns2:WijzigingType\": \"11\"}, {\"ns2:WijzigingType\": \"40\"}]}}}}}')\n",
      "(None, u'{\"ns1:PutReisInformatieBoodschapIn\": {\"@xmlns:ns1\": \"urn:ndov:cdm:trein:reisinformatie:messages:dynamischeaankomststaat:1\", \"@xmlns:ns2\": \"urn:ndov:cdm:trein:reisinformatie:data:4\", \"ns2:ReisInformatieProductDAS\": {\"@TimeStamp\": \"2020-05-04T22:19:37.367Z\", \"@Versie\": \"6.1\", \"ns2:RIPAdministratie\": {\"ns2:ReisInformatieProductID\": \"2005050019372200003\", \"ns2:AbonnementId\": \"55\", \"ns2:ReisInformatieTijdstip\": \"2020-05-04T22:21:00.000Z\"}, \"ns2:DynamischeAankomstStaat\": {\"ns2:RitId\": \"6087\", \"ns2:RitDatum\": \"2020-05-04\", \"ns2:RitStation\": {\"ns2:StationCode\": \"TPSW\", \"ns2:Type\": \"0\", \"ns2:KorteNaam\": \"Passewaaij\", \"ns2:MiddelNaam\": \"Passewaaij\", \"ns2:LangeNaam\": \"Tiel Passewaaij\", \"ns2:UICCode\": \"8400600\"}, \"ns2:TreinAankomst\": {\"ns2:TreinNummer\": \"6087\", \"ns2:TreinSoort\": {\"@Code\": \"SPR\", \"#text\": \"Sprinter\"}, \"ns2:TreinStatus\": \"2\", \"ns2:Vervoerder\": \"NS\", \"ns2:TreinHerkomst\": [{\"@InfoStatus\": \"Gepland\", \"ns2:StationCode\": \"UT\", \"ns2:Type\": \"6\", \"ns2:KorteNaam\": \"Utrecht C\", \"ns2:MiddelNaam\": \"Utrecht C.\", \"ns2:LangeNaam\": \"Utrecht Centraal\", \"ns2:UICCode\": \"8400621\"}, {\"@InfoStatus\": \"Actueel\", \"ns2:StationCode\": \"UT\", \"ns2:Type\": \"6\", \"ns2:KorteNaam\": \"Utrecht C\", \"ns2:MiddelNaam\": \"Utrecht C.\", \"ns2:LangeNaam\": \"Utrecht Centraal\", \"ns2:UICCode\": \"8400621\"}], \"ns2:PresentatieTreinHerkomst\": {\"ns2:Uitingen\": {\"ns2:Uiting\": \"Utrecht C.\"}}, \"ns2:AankomstTijd\": [{\"@InfoStatus\": \"Gepland\", \"#text\": \"2020-05-04T22:21:00.000Z\"}, {\"@InfoStatus\": \"Actueel\", \"#text\": \"2020-05-04T22:21:00.000Z\"}], \"ns2:ExacteAankomstVertraging\": \"PT0S\", \"ns2:GedempteAankomstVertraging\": \"PT0S\", \"ns2:TreinAankomstSpoor\": [{\"@InfoStatus\": \"Gepland\", \"ns2:SpoorNummer\": \"1\"}, {\"@InfoStatus\": \"Actueel\", \"ns2:SpoorNummer\": \"1\"}], \"ns2:PresentatieTreinAankomstSpoor\": {\"ns2:Uitingen\": {\"ns2:Uiting\": \"1\"}}, \"ns2:VerkorteRouteHerkomst\": [{\"@InfoStatus\": \"Gepland\", \"ns2:Station\": [{\"ns2:StationCode\": \"UTVR\", \"ns2:Type\": \"1\", \"ns2:KorteNaam\": \"VaartscheR\", \"ns2:MiddelNaam\": \"Vaartsche Rijn\", \"ns2:LangeNaam\": \"Utrecht Vaartsche Rijn\", \"ns2:UICCode\": \"8400606\"}, {\"ns2:StationCode\": \"HTN\", \"ns2:Type\": \"1\", \"ns2:KorteNaam\": \"Houten\", \"ns2:MiddelNaam\": \"Houten\", \"ns2:LangeNaam\": \"Houten\", \"ns2:UICCode\": \"8400340\"}, {\"ns2:StationCode\": \"GDM\", \"ns2:Type\": \"1\", \"ns2:KorteNaam\": \"Geldermlsn\", \"ns2:MiddelNaam\": \"Geldermalsen\", \"ns2:LangeNaam\": \"Geldermalsen\", \"ns2:UICCode\": \"8400244\"}]}, {\"@InfoStatus\": \"Actueel\", \"ns2:Station\": [{\"ns2:StationCode\": \"UTVR\", \"ns2:Type\": \"1\", \"ns2:KorteNaam\": \"VaartscheR\", \"ns2:MiddelNaam\": \"Vaartsche Rijn\", \"ns2:LangeNaam\": \"Utrecht Vaartsche Rijn\", \"ns2:UICCode\": \"8400606\"}, {\"ns2:StationCode\": \"HTN\", \"ns2:Type\": \"1\", \"ns2:KorteNaam\": \"Houten\", \"ns2:MiddelNaam\": \"Houten\", \"ns2:LangeNaam\": \"Houten\", \"ns2:UICCode\": \"8400340\"}, {\"ns2:StationCode\": \"GDM\", \"ns2:Type\": \"1\", \"ns2:KorteNaam\": \"Geldermlsn\", \"ns2:MiddelNaam\": \"Geldermalsen\", \"ns2:LangeNaam\": \"Geldermalsen\", \"ns2:UICCode\": \"8400244\"}]}], \"ns2:PresentatieVerkorteRouteHerkomst\": {\"ns2:Uitingen\": {\"ns2:Uiting\": \"Vaartsche Rijn, Houten, Geldermalsen\"}}, \"ns2:WijzigingHerkomst\": {\"ns2:WijzigingType\": \"40\"}}}}}}')\n",
      "(None, u'{\"ns1:PutReisInformatieBoodschapIn\": {\"@xmlns:ns1\": \"urn:ndov:cdm:trein:reisinformatie:messages:dynamischeaankomststaat:1\", \"@xmlns:ns2\": \"urn:ndov:cdm:trein:reisinformatie:data:4\", \"ns2:ReisInformatieProductDAS\": {\"@TimeStamp\": \"2020-05-04T22:19:36.686Z\", \"@Versie\": \"6.1\", \"ns2:RIPAdministratie\": {\"ns2:ReisInformatieProductID\": \"2005050019362200002\", \"ns2:AbonnementId\": \"55\", \"ns2:ReisInformatieTijdstip\": \"2020-05-04T22:18:00.000Z\"}, \"ns2:DynamischeAankomstStaat\": {\"ns2:RitId\": \"2980\", \"ns2:RitDatum\": \"2020-05-04\", \"ns2:RitStation\": {\"ns2:StationCode\": \"BKF\", \"ns2:Type\": \"0\", \"ns2:KorteNaam\": \"Bovenk Flo\", \"ns2:MiddelNaam\": \"Bovenkarspel Fl.\", \"ns2:LangeNaam\": \"Bovenkarspel Flora\", \"ns2:UICCode\": \"8400230\"}, \"ns2:TreinAankomst\": {\"ns2:TreinNummer\": \"2980\", \"ns2:TreinSoort\": {\"@Code\": \"IC\", \"#text\": \"Intercity\"}, \"ns2:TreinStatus\": \"5\", \"ns2:Vervoerder\": \"NS\", \"ns2:TreinHerkomst\": [{\"@InfoStatus\": \"Gepland\", \"ns2:StationCode\": \"STD\", \"ns2:Type\": \"5\", \"ns2:KorteNaam\": \"Sittard\", \"ns2:MiddelNaam\": \"Sittard\", \"ns2:LangeNaam\": \"Sittard\", \"ns2:UICCode\": \"8400564\"}, {\"@InfoStatus\": \"Actueel\", \"ns2:StationCode\": \"STD\", \"ns2:Type\": \"5\", \"ns2:KorteNaam\": \"Sittard\", \"ns2:MiddelNaam\": \"Sittard\", \"ns2:LangeNaam\": \"Sittard\", \"ns2:UICCode\": \"8400564\"}], \"ns2:PresentatieTreinHerkomst\": {\"ns2:Uitingen\": {\"ns2:Uiting\": \"Sittard\"}}, \"ns2:AankomstTijd\": [{\"@InfoStatus\": \"Gepland\", \"#text\": \"2020-05-04T22:18:00.000Z\"}, {\"@InfoStatus\": \"Actueel\", \"#text\": \"2020-05-04T22:18:00.000Z\"}], \"ns2:ExacteAankomstVertraging\": \"PT0S\", \"ns2:GedempteAankomstVertraging\": \"PT0S\", \"ns2:TreinAankomstSpoor\": [{\"@InfoStatus\": \"Gepland\", \"ns2:SpoorNummer\": \"1\"}, {\"@InfoStatus\": \"Actueel\", \"ns2:SpoorNummer\": \"1\"}], \"ns2:PresentatieTreinAankomstSpoor\": {\"ns2:Uitingen\": {\"ns2:Uiting\": \"1\"}}, \"ns2:VerkorteRouteHerkomst\": [{\"@InfoStatus\": \"Gepland\", \"ns2:Station\": [{\"ns2:StationCode\": \"EHV\", \"ns2:Type\": \"6\", \"ns2:KorteNaam\": \"Eindhovn C\", \"ns2:MiddelNaam\": \"Eindhoven C.\", \"ns2:LangeNaam\": \"Eindhoven Centraal\", \"ns2:UICCode\": \"8400206\"}, {\"ns2:StationCode\": \"UT\", \"ns2:Type\": \"6\", \"ns2:KorteNaam\": \"Utrecht C\", \"ns2:MiddelNaam\": \"Utrecht C.\", \"ns2:LangeNaam\": \"Utrecht Centraal\", \"ns2:UICCode\": \"8400621\"}, {\"ns2:StationCode\": \"ASD\", \"ns2:Type\": \"6\", \"ns2:KorteNaam\": \"Amsterdm C\", \"ns2:MiddelNaam\": \"Amsterdam C.\", \"ns2:LangeNaam\": \"Amsterdam Centraal\", \"ns2:UICCode\": \"8400058\"}, {\"ns2:StationCode\": \"HN\", \"ns2:Type\": \"5\", \"ns2:KorteNaam\": \"Hoorn\", \"ns2:MiddelNaam\": \"Hoorn\", \"ns2:LangeNaam\": \"Hoorn\", \"ns2:UICCode\": \"8400337\"}]}, {\"@InfoStatus\": \"Actueel\", \"ns2:Station\": [{\"ns2:StationCode\": \"EHV\", \"ns2:Type\": \"6\", \"ns2:KorteNaam\": \"Eindhovn C\", \"ns2:MiddelNaam\": \"Eindhoven C.\", \"ns2:LangeNaam\": \"Eindhoven Centraal\", \"ns2:UICCode\": \"8400206\"}, {\"ns2:StationCode\": \"UT\", \"ns2:Type\": \"6\", \"ns2:KorteNaam\": \"Utrecht C\", \"ns2:MiddelNaam\": \"Utrecht C.\", \"ns2:LangeNaam\": \"Utrecht Centraal\", \"ns2:UICCode\": \"8400621\"}, {\"ns2:StationCode\": \"ASD\", \"ns2:Type\": \"6\", \"ns2:KorteNaam\": \"Amsterdm C\", \"ns2:MiddelNaam\": \"Amsterdam C.\", \"ns2:LangeNaam\": \"Amsterdam Centraal\", \"ns2:UICCode\": \"8400058\"}, {\"ns2:StationCode\": \"HN\", \"ns2:Type\": \"5\", \"ns2:KorteNaam\": \"Hoorn\", \"ns2:MiddelNaam\": \"Hoorn\", \"ns2:LangeNaam\": \"Hoorn\", \"ns2:UICCode\": \"8400337\"}]}], \"ns2:PresentatieVerkorteRouteHerkomst\": {\"ns2:Uitingen\": {\"ns2:Uiting\": \"Eindhoven C., Utrecht C., Amsterdam C., Hoorn\"}}, \"ns2:WijzigingHerkomst\": {\"ns2:WijzigingType\": \"40\"}}}}}}')\n",
      "(None, u'{\"ns1:PutReisInformatieBoodschapIn\": {\"@xmlns:ns1\": \"urn:ndov:cdm:trein:reisinformatie:messages:dynamischeaankomststaat:1\", \"@xmlns:ns2\": \"urn:ndov:cdm:trein:reisinformatie:data:4\", \"ns2:ReisInformatieProductDAS\": {\"@TimeStamp\": \"2020-05-04T22:19:37.920Z\", \"@Versie\": \"6.1\", \"ns2:RIPAdministratie\": {\"ns2:ReisInformatieProductID\": \"2005050019372300004\", \"ns2:AbonnementId\": \"55\", \"ns2:ReisInformatieTijdstip\": \"2020-05-04T22:21:00.000Z\"}, \"ns2:DynamischeAankomstStaat\": {\"ns2:RitId\": \"2986\", \"ns2:RitDatum\": \"2020-05-04\", \"ns2:RitStation\": {\"ns2:StationCode\": \"UT\", \"ns2:Type\": \"6\", \"ns2:KorteNaam\": \"Utrecht C\", \"ns2:MiddelNaam\": \"Utrecht C.\", \"ns2:LangeNaam\": \"Utrecht Centraal\", \"ns2:UICCode\": \"8400621\"}, \"ns2:TreinAankomst\": {\"ns2:TreinNummer\": \"2986\", \"ns2:TreinSoort\": {\"@Code\": \"IC\", \"#text\": \"Intercity\"}, \"ns2:TreinStatus\": \"0\", \"ns2:Vervoerder\": \"NS\", \"ns2:TreinHerkomst\": [{\"@InfoStatus\": \"Gepland\", \"ns2:StationCode\": \"STD\", \"ns2:Type\": \"5\", \"ns2:KorteNaam\": \"Sittard\", \"ns2:MiddelNaam\": \"Sittard\", \"ns2:LangeNaam\": \"Sittard\", \"ns2:UICCode\": \"8400564\"}, {\"@InfoStatus\": \"Actueel\", \"ns2:StationCode\": \"STD\", \"ns2:Type\": \"5\", \"ns2:KorteNaam\": \"Sittard\", \"ns2:MiddelNaam\": \"Sittard\", \"ns2:LangeNaam\": \"Sittard\", \"ns2:UICCode\": \"8400564\"}], \"ns2:PresentatieTreinHerkomst\": {\"ns2:Uitingen\": {\"ns2:Uiting\": \"Sittard\"}}, \"ns2:AankomstTijd\": [{\"@InfoStatus\": \"Gepland\", \"#text\": \"2020-05-04T22:21:00.000Z\"}, {\"@InfoStatus\": \"Actueel\", \"#text\": \"2020-05-04T22:21:29.000Z\"}], \"ns2:ExacteAankomstVertraging\": \"PT29S\", \"ns2:GedempteAankomstVertraging\": \"PT0S\", \"ns2:TreinAankomstSpoor\": [{\"@InfoStatus\": \"Gepland\", \"ns2:SpoorNummer\": \"5\"}, {\"@InfoStatus\": \"Actueel\", \"ns2:SpoorNummer\": \"5\"}], \"ns2:PresentatieTreinAankomstSpoor\": {\"ns2:Uitingen\": {\"ns2:Uiting\": \"5\"}}, \"ns2:VerkorteRouteHerkomst\": [{\"@InfoStatus\": \"Gepland\", \"ns2:Station\": [{\"ns2:StationCode\": \"RM\", \"ns2:Type\": \"5\", \"ns2:KorteNaam\": \"Roermond\", \"ns2:MiddelNaam\": \"Roermond\", \"ns2:LangeNaam\": \"Roermond\", \"ns2:UICCode\": \"8400523\"}, {\"ns2:StationCode\": \"WT\", \"ns2:Type\": \"4\", \"ns2:KorteNaam\": \"Weert\", \"ns2:MiddelNaam\": \"Weert\", \"ns2:LangeNaam\": \"Weert\", \"ns2:UICCode\": \"8400684\"}, {\"ns2:StationCode\": \"EHV\", \"ns2:Type\": \"6\", \"ns2:KorteNaam\": \"Eindhovn C\", \"ns2:MiddelNaam\": \"Eindhoven C.\", \"ns2:LangeNaam\": \"Eindhoven Centraal\", \"ns2:UICCode\": \"8400206\"}, {\"ns2:StationCode\": \"HT\", \"ns2:Type\": \"5\", \"ns2:KorteNaam\": \"Den Bosch\", \"ns2:MiddelNaam\": \"\\'s-Hertogenbosch\", \"ns2:LangeNaam\": \"\\'s-Hertogenbosch\", \"ns2:UICCode\": \"8400319\"}]}, {\"@InfoStatus\": \"Actueel\", \"ns2:Station\": [{\"ns2:StationCode\": \"RM\", \"ns2:Type\": \"5\", \"ns2:KorteNaam\": \"Roermond\", \"ns2:MiddelNaam\": \"Roermond\", \"ns2:LangeNaam\": \"Roermond\", \"ns2:UICCode\": \"8400523\"}, {\"ns2:StationCode\": \"WT\", \"ns2:Type\": \"4\", \"ns2:KorteNaam\": \"Weert\", \"ns2:MiddelNaam\": \"Weert\", \"ns2:LangeNaam\": \"Weert\", \"ns2:UICCode\": \"8400684\"}, {\"ns2:StationCode\": \"EHV\", \"ns2:Type\": \"6\", \"ns2:KorteNaam\": \"Eindhovn C\", \"ns2:MiddelNaam\": \"Eindhoven C.\", \"ns2:LangeNaam\": \"Eindhoven Centraal\", \"ns2:UICCode\": \"8400206\"}, {\"ns2:StationCode\": \"HT\", \"ns2:Type\": \"5\", \"ns2:KorteNaam\": \"Den Bosch\", \"ns2:MiddelNaam\": \"\\'s-Hertogenbosch\", \"ns2:LangeNaam\": \"\\'s-Hertogenbosch\", \"ns2:UICCode\": \"8400319\"}]}], \"ns2:PresentatieVerkorteRouteHerkomst\": {\"ns2:Uitingen\": {\"ns2:Uiting\": \"Roermond, Weert, Eindhoven C., \\'s-Hertogenbosch\"}}, \"ns2:WijzigingHerkomst\": {\"ns2:WijzigingType\": \"11\"}}}}}}')\n",
      "(None, u'{\"ns1:PutReisInformatieBoodschapIn\": {\"@xmlns:ns1\": \"urn:ndov:cdm:trein:reisinformatie:messages:dynamischeaankomststaat:1\", \"@xmlns:ns2\": \"urn:ndov:cdm:trein:reisinformatie:data:4\", \"ns2:ReisInformatieProductDAS\": {\"@TimeStamp\": \"2020-05-04T22:19:39.655Z\", \"@Versie\": \"6.1\", \"ns2:RIPAdministratie\": {\"ns2:ReisInformatieProductID\": \"2005050019392100002\", \"ns2:AbonnementId\": \"55\", \"ns2:ReisInformatieTijdstip\": \"2020-05-04T22:18:00.000Z\"}, \"ns2:DynamischeAankomstStaat\": {\"ns2:RitId\": \"37592\", \"ns2:RitDatum\": \"2020-05-04\", \"ns2:RitStation\": {\"ns2:StationCode\": \"SPM\", \"ns2:Type\": \"0\", \"ns2:KorteNaam\": \"Sappemr O\", \"ns2:MiddelNaam\": \"Sappemeer O.\", \"ns2:LangeNaam\": \"Sappemeer Oost\", \"ns2:UICCode\": \"8400545\"}, \"ns2:TreinAankomst\": {\"ns2:TreinNummer\": \"37592\", \"ns2:TreinSoort\": {\"@Code\": \"ST\", \"#text\": \"Stoptrein\"}, \"ns2:TreinStatus\": \"5\", \"ns2:Vervoerder\": \"Arriva\", \"ns2:TreinHerkomst\": [{\"@InfoStatus\": \"Gepland\", \"ns2:StationCode\": \"NSCH\", \"ns2:Type\": \"1\", \"ns2:KorteNaam\": \"Nweschans\", \"ns2:MiddelNaam\": \"Bad Nieuweschans\", \"ns2:LangeNaam\": \"Bad Nieuweschans\", \"ns2:UICCode\": \"8400457\"}, {\"@InfoStatus\": \"Actueel\", \"ns2:StationCode\": \"NSCH\", \"ns2:Type\": \"1\", \"ns2:KorteNaam\": \"Nweschans\", \"ns2:MiddelNaam\": \"Bad Nieuweschans\", \"ns2:LangeNaam\": \"Bad Nieuweschans\", \"ns2:UICCode\": \"8400457\"}], \"ns2:PresentatieTreinHerkomst\": {\"ns2:Uitingen\": {\"ns2:Uiting\": \"Bad Nieuweschans\"}}, \"ns2:AankomstTijd\": [{\"@InfoStatus\": \"Gepland\", \"#text\": \"2020-05-04T22:18:00.000Z\"}, {\"@InfoStatus\": \"Actueel\", \"#text\": \"2020-05-04T22:18:00.000Z\"}], \"ns2:ExacteAankomstVertraging\": \"PT0S\", \"ns2:GedempteAankomstVertraging\": \"PT0S\", \"ns2:TreinAankomstSpoor\": [{\"@InfoStatus\": \"Gepland\", \"ns2:SpoorNummer\": \"1\"}, {\"@InfoStatus\": \"Actueel\", \"ns2:SpoorNummer\": \"1\"}], \"ns2:PresentatieTreinAankomstSpoor\": {\"ns2:Uitingen\": {\"ns2:Uiting\": \"1\"}}, \"ns2:VerkorteRouteHerkomst\": [{\"@InfoStatus\": \"Gepland\", \"ns2:Station\": [{\"ns2:StationCode\": \"WS\", \"ns2:Type\": \"1\", \"ns2:KorteNaam\": \"Winschoten\", \"ns2:MiddelNaam\": \"Winschoten\", \"ns2:LangeNaam\": \"Winschoten\", \"ns2:UICCode\": \"8400696\"}, {\"ns2:StationCode\": \"ZB\", \"ns2:Type\": \"1\", \"ns2:KorteNaam\": \"Zuidbroek\", \"ns2:MiddelNaam\": \"Zuidbroek\", \"ns2:LangeNaam\": \"Zuidbroek\", \"ns2:UICCode\": \"8400742\"}]}, {\"@InfoStatus\": \"Actueel\", \"ns2:Station\": [{\"ns2:StationCode\": \"WS\", \"ns2:Type\": \"1\", \"ns2:KorteNaam\": \"Winschoten\", \"ns2:MiddelNaam\": \"Winschoten\", \"ns2:LangeNaam\": \"Winschoten\", \"ns2:UICCode\": \"8400696\"}, {\"ns2:StationCode\": \"ZB\", \"ns2:Type\": \"1\", \"ns2:KorteNaam\": \"Zuidbroek\", \"ns2:MiddelNaam\": \"Zuidbroek\", \"ns2:LangeNaam\": \"Zuidbroek\", \"ns2:UICCode\": \"8400742\"}]}], \"ns2:PresentatieVerkorteRouteHerkomst\": {\"ns2:Uitingen\": {\"ns2:Uiting\": \"Winschoten, Zuidbroek\"}}, \"ns2:WijzigingHerkomst\": {\"ns2:WijzigingType\": \"40\"}}}}}}')\n",
      "(None, u'{\"ns1:PutReisInformatieBoodschapIn\": {\"@xmlns:ns1\": \"urn:ndov:cdm:trein:reisinformatie:messages:dynamischeaankomststaat:1\", \"@xmlns:ns2\": \"urn:ndov:cdm:trein:reisinformatie:data:4\", \"ns2:ReisInformatieProductDAS\": {\"@TimeStamp\": \"2020-05-04T22:19:40.308Z\", \"@Versie\": \"6.1\", \"ns2:RIPAdministratie\": {\"ns2:ReisInformatieProductID\": \"2005050019402400003\", \"ns2:AbonnementId\": \"55\", \"ns2:ReisInformatieTijdstip\": \"2020-05-04T22:20:00.000Z\"}, \"ns2:DynamischeAankomstStaat\": {\"ns2:RitId\": \"4693\", \"ns2:RitDatum\": \"2020-05-04\", \"ns2:RitStation\": {\"ns2:StationCode\": \"NVP\", \"ns2:Type\": \"0\", \"ns2:KorteNaam\": \"Nw Vennep\", \"ns2:MiddelNaam\": \"Nieuw Vennep\", \"ns2:LangeNaam\": \"Nieuw Vennep\", \"ns2:UICCode\": \"8400460\"}, \"ns2:TreinAankomst\": {\"ns2:TreinNummer\": \"4693\", \"ns2:TreinSoort\": {\"@Code\": \"SPR\", \"#text\": \"Sprinter\"}, \"ns2:TreinStatus\": \"2\", \"ns2:Vervoerder\": \"NS\", \"ns2:TreinHerkomst\": [{\"@InfoStatus\": \"Gepland\", \"ns2:StationCode\": \"GVC\", \"ns2:Type\": \"6\", \"ns2:KorteNaam\": \"Den Haag C\", \"ns2:MiddelNaam\": \"Den Haag C.\", \"ns2:LangeNaam\": \"Den Haag Centraal\", \"ns2:UICCode\": \"8400282\"}, {\"@InfoStatus\": \"Actueel\", \"ns2:StationCode\": \"GVC\", \"ns2:Type\": \"6\", \"ns2:KorteNaam\": \"Den Haag C\", \"ns2:MiddelNaam\": \"Den Haag C.\", \"ns2:LangeNaam\": \"Den Haag Centraal\", \"ns2:UICCode\": \"8400282\"}], \"ns2:PresentatieTreinHerkomst\": {\"ns2:Uitingen\": {\"ns2:Uiting\": \"Den Haag C.\"}}, \"ns2:AankomstTijd\": [{\"@InfoStatus\": \"Gepland\", \"#text\": \"2020-05-04T22:20:00.000Z\"}, {\"@InfoStatus\": \"Actueel\", \"#text\": \"2020-05-04T22:21:07.000Z\"}], \"ns2:ExacteAankomstVertraging\": \"PT1M7S\", \"ns2:PresentatieAankomstVertraging\": {\"ns2:Uitingen\": {\"ns2:Uiting\": \"+1 min.\"}}, \"ns2:GedempteAankomstVertraging\": \"PT0S\", \"ns2:TreinAankomstSpoor\": [{\"@InfoStatus\": \"Gepland\", \"ns2:SpoorNummer\": \"2\"}, {\"@InfoStatus\": \"Actueel\", \"ns2:SpoorNummer\": \"2\"}], \"ns2:PresentatieTreinAankomstSpoor\": {\"ns2:Uitingen\": {\"ns2:Uiting\": \"2\"}}, \"ns2:VerkorteRouteHerkomst\": [{\"@InfoStatus\": \"Gepland\", \"ns2:Station\": [{\"ns2:StationCode\": \"LAA\", \"ns2:Type\": \"1\", \"ns2:KorteNaam\": \"Laan v NOI\", \"ns2:MiddelNaam\": \"Laan v NOI\", \"ns2:LangeNaam\": \"Den Haag Laan v NOI\", \"ns2:UICCode\": \"8400380\"}, {\"ns2:StationCode\": \"LEDN\", \"ns2:Type\": \"5\", \"ns2:KorteNaam\": \"Leiden C\", \"ns2:MiddelNaam\": \"Leiden C.\", \"ns2:LangeNaam\": \"Leiden Centraal\", \"ns2:UICCode\": \"8400390\"}]}, {\"@InfoStatus\": \"Actueel\", \"ns2:Station\": [{\"ns2:StationCode\": \"LAA\", \"ns2:Type\": \"1\", \"ns2:KorteNaam\": \"Laan v NOI\", \"ns2:MiddelNaam\": \"Laan v NOI\", \"ns2:LangeNaam\": \"Den Haag Laan v NOI\", \"ns2:UICCode\": \"8400380\"}, {\"ns2:StationCode\": \"LEDN\", \"ns2:Type\": \"5\", \"ns2:KorteNaam\": \"Leiden C\", \"ns2:MiddelNaam\": \"Leiden C.\", \"ns2:LangeNaam\": \"Leiden Centraal\", \"ns2:UICCode\": \"8400390\"}]}], \"ns2:PresentatieVerkorteRouteHerkomst\": {\"ns2:Uitingen\": {\"ns2:Uiting\": \"Laan v NOI, Leiden C.\"}}, \"ns2:WijzigingHerkomst\": [{\"ns2:WijzigingType\": \"11\"}, {\"ns2:WijzigingType\": \"40\"}]}}}}}')\n",
      "(None, u'{\"ns1:PutReisInformatieBoodschapIn\": {\"@xmlns:ns1\": \"urn:ndov:cdm:trein:reisinformatie:messages:dynamischeaankomststaat:1\", \"@xmlns:ns2\": \"urn:ndov:cdm:trein:reisinformatie:data:4\", \"ns2:ReisInformatieProductDAS\": {\"@TimeStamp\": \"2020-05-04T22:19:40.346Z\", \"@Versie\": \"6.1\", \"ns2:RIPAdministratie\": {\"ns2:ReisInformatieProductID\": \"2005050019402400005\", \"ns2:AbonnementId\": \"55\", \"ns2:ReisInformatieTijdstip\": \"2020-05-04T22:18:00.000Z\"}, \"ns2:DynamischeAankomstStaat\": {\"ns2:RitId\": \"4086\", \"ns2:RitDatum\": \"2020-05-04\", \"ns2:RitStation\": {\"ns2:StationCode\": \"GD\", \"ns2:Type\": \"5\", \"ns2:KorteNaam\": \"Gouda\", \"ns2:MiddelNaam\": \"Gouda\", \"ns2:LangeNaam\": \"Gouda\", \"ns2:UICCode\": \"8400258\"}, \"ns2:TreinAankomst\": {\"ns2:TreinNummer\": \"4086\", \"ns2:TreinSoort\": {\"@Code\": \"SPR\", \"#text\": \"Sprinter\"}, \"ns2:TreinStatus\": \"5\", \"ns2:Vervoerder\": \"NS\", \"ns2:TreinHerkomst\": [{\"@InfoStatus\": \"Gepland\", \"ns2:StationCode\": \"RTD\", \"ns2:Type\": \"6\", \"ns2:KorteNaam\": \"Rotterdm C\", \"ns2:MiddelNaam\": \"Rotterdam C.\", \"ns2:LangeNaam\": \"Rotterdam Centraal\", \"ns2:UICCode\": \"8400530\"}, {\"@InfoStatus\": \"Actueel\", \"ns2:StationCode\": \"RTD\", \"ns2:Type\": \"6\", \"ns2:KorteNaam\": \"Rotterdm C\", \"ns2:MiddelNaam\": \"Rotterdam C.\", \"ns2:LangeNaam\": \"Rotterdam Centraal\", \"ns2:UICCode\": \"8400530\"}], \"ns2:PresentatieTreinHerkomst\": {\"ns2:Uitingen\": {\"ns2:Uiting\": \"Rotterdam C.\"}}, \"ns2:AankomstTijd\": [{\"@InfoStatus\": \"Gepland\", \"#text\": \"2020-05-04T22:18:00.000Z\"}, {\"@InfoStatus\": \"Actueel\", \"#text\": \"2020-05-04T22:18:00.000Z\"}], \"ns2:ExacteAankomstVertraging\": \"PT0S\", \"ns2:GedempteAankomstVertraging\": \"PT0S\", \"ns2:TreinAankomstSpoor\": [{\"@InfoStatus\": \"Gepland\", \"ns2:SpoorNummer\": \"3\"}, {\"@InfoStatus\": \"Actueel\", \"ns2:SpoorNummer\": \"3\"}], \"ns2:PresentatieTreinAankomstSpoor\": {\"ns2:Uitingen\": {\"ns2:Uiting\": \"3\"}}, \"ns2:WijzigingHerkomst\": {\"ns2:WijzigingType\": \"40\"}}}}}}')\n",
      "(None, u'{\"ns1:PutReisInformatieBoodschapIn\": {\"@xmlns:ns1\": \"urn:ndov:cdm:trein:reisinformatie:messages:dynamischeaankomststaat:1\", \"@xmlns:ns2\": \"urn:ndov:cdm:trein:reisinformatie:data:4\", \"ns2:ReisInformatieProductDAS\": {\"@TimeStamp\": \"2020-05-04T22:19:42.588Z\", \"@Versie\": \"6.1\", \"ns2:RIPAdministratie\": {\"ns2:ReisInformatieProductID\": \"2005050019422200008\", \"ns2:AbonnementId\": \"55\", \"ns2:ReisInformatieTijdstip\": \"2020-05-04T22:29:00.000Z\"}, \"ns2:DynamischeAankomstStaat\": {\"ns2:RitId\": \"4882\", \"ns2:RitDatum\": \"2020-05-04\", \"ns2:RitStation\": {\"ns2:StationCode\": \"CAS\", \"ns2:Type\": \"4\", \"ns2:KorteNaam\": \"Castricum\", \"ns2:MiddelNaam\": \"Castricum\", \"ns2:LangeNaam\": \"Castricum\", \"ns2:UICCode\": \"8400151\"}, \"ns2:TreinAankomst\": {\"ns2:TreinNummer\": \"4882\", \"ns2:TreinSoort\": {\"@Code\": \"SPR\", \"#text\": \"Sprinter\"}, \"ns2:TreinStatus\": \"0\", \"ns2:Vervoerder\": \"NS\", \"ns2:TreinHerkomst\": [{\"@InfoStatus\": \"Gepland\", \"ns2:StationCode\": \"HN\", \"ns2:Type\": \"5\", \"ns2:KorteNaam\": \"Hoorn\", \"ns2:MiddelNaam\": \"Hoorn\", \"ns2:LangeNaam\": \"Hoorn\", \"ns2:UICCode\": \"8400337\"}, {\"@InfoStatus\": \"Actueel\", \"ns2:StationCode\": \"HN\", \"ns2:Type\": \"5\", \"ns2:KorteNaam\": \"Hoorn\", \"ns2:MiddelNaam\": \"Hoorn\", \"ns2:LangeNaam\": \"Hoorn\", \"ns2:UICCode\": \"8400337\"}], \"ns2:PresentatieTreinHerkomst\": {\"ns2:Uitingen\": {\"ns2:Uiting\": \"Hoorn\"}}, \"ns2:AankomstTijd\": [{\"@InfoStatus\": \"Gepland\", \"#text\": \"2020-05-04T22:29:00.000Z\"}, {\"@InfoStatus\": \"Actueel\", \"#text\": \"2020-05-04T22:29:00.000Z\"}], \"ns2:ExacteAankomstVertraging\": \"PT0S\", \"ns2:GedempteAankomstVertraging\": \"PT0S\", \"ns2:TreinAankomstSpoor\": [{\"@InfoStatus\": \"Gepland\", \"ns2:SpoorNummer\": \"2\"}, {\"@InfoStatus\": \"Actueel\", \"ns2:SpoorNummer\": \"2\"}], \"ns2:PresentatieTreinAankomstSpoor\": {\"ns2:Uitingen\": {\"ns2:Uiting\": \"2\"}}, \"ns2:VerkorteRouteHerkomst\": [{\"@InfoStatus\": \"Gepland\", \"ns2:Station\": [{\"ns2:StationCode\": \"HWD\", \"ns2:Type\": \"1\", \"ns2:KorteNaam\": \"Heerhugow\", \"ns2:MiddelNaam\": \"Heerhugowaard\", \"ns2:LangeNaam\": \"Heerhugowaard\", \"ns2:UICCode\": \"8400306\"}, {\"ns2:StationCode\": \"AMR\", \"ns2:Type\": \"5\", \"ns2:KorteNaam\": \"Alkmaar\", \"ns2:MiddelNaam\": \"Alkmaar\", \"ns2:LangeNaam\": \"Alkmaar\", \"ns2:UICCode\": \"8400050\"}]}, {\"@InfoStatus\": \"Actueel\", \"ns2:Station\": [{\"ns2:StationCode\": \"HWD\", \"ns2:Type\": \"1\", \"ns2:KorteNaam\": \"Heerhugow\", \"ns2:MiddelNaam\": \"Heerhugowaard\", \"ns2:LangeNaam\": \"Heerhugowaard\", \"ns2:UICCode\": \"8400306\"}, {\"ns2:StationCode\": \"AMR\", \"ns2:Type\": \"5\", \"ns2:KorteNaam\": \"Alkmaar\", \"ns2:MiddelNaam\": \"Alkmaar\", \"ns2:LangeNaam\": \"Alkmaar\", \"ns2:UICCode\": \"8400050\"}]}], \"ns2:PresentatieVerkorteRouteHerkomst\": {\"ns2:Uitingen\": {\"ns2:Uiting\": \"Heerhugowaard, Alkmaar\"}}}}}}}')\n",
      "(None, u'{\"ns1:PutReisInformatieBoodschapIn\": {\"@xmlns:ns1\": \"urn:ndov:cdm:trein:reisinformatie:messages:dynamischeaankomststaat:1\", \"@xmlns:ns2\": \"urn:ndov:cdm:trein:reisinformatie:data:4\", \"ns2:ReisInformatieProductDAS\": {\"@TimeStamp\": \"2020-05-04T22:19:42.597Z\", \"@Versie\": \"6.1\", \"ns2:RIPAdministratie\": {\"ns2:ReisInformatieProductID\": \"2005050019422200009\", \"ns2:AbonnementId\": \"55\", \"ns2:ReisInformatieTijdstip\": \"2020-05-04T22:24:00.000Z\"}, \"ns2:DynamischeAankomstStaat\": {\"ns2:RitId\": \"4882\", \"ns2:RitDatum\": \"2020-05-04\", \"ns2:RitStation\": {\"ns2:StationCode\": \"HLO\", \"ns2:Type\": \"0\", \"ns2:KorteNaam\": \"Heiloo\", \"ns2:MiddelNaam\": \"Heiloo\", \"ns2:LangeNaam\": \"Heiloo\", \"ns2:UICCode\": \"8400309\"}, \"ns2:TreinAankomst\": {\"ns2:TreinNummer\": \"4882\", \"ns2:TreinSoort\": {\"@Code\": \"SPR\", \"#text\": \"Sprinter\"}, \"ns2:TreinStatus\": \"0\", \"ns2:Vervoerder\": \"NS\", \"ns2:TreinHerkomst\": [{\"@InfoStatus\": \"Gepland\", \"ns2:StationCode\": \"HN\", \"ns2:Type\": \"5\", \"ns2:KorteNaam\": \"Hoorn\", \"ns2:MiddelNaam\": \"Hoorn\", \"ns2:LangeNaam\": \"Hoorn\", \"ns2:UICCode\": \"8400337\"}, {\"@InfoStatus\": \"Actueel\", \"ns2:StationCode\": \"HN\", \"ns2:Type\": \"5\", \"ns2:KorteNaam\": \"Hoorn\", \"ns2:MiddelNaam\": \"Hoorn\", \"ns2:LangeNaam\": \"Hoorn\", \"ns2:UICCode\": \"8400337\"}], \"ns2:PresentatieTreinHerkomst\": {\"ns2:Uitingen\": {\"ns2:Uiting\": \"Hoorn\"}}, \"ns2:AankomstTijd\": [{\"@InfoStatus\": \"Gepland\", \"#text\": \"2020-05-04T22:24:00.000Z\"}, {\"@InfoStatus\": \"Actueel\", \"#text\": \"2020-05-04T22:24:00.000Z\"}], \"ns2:ExacteAankomstVertraging\": \"PT0S\", \"ns2:GedempteAankomstVertraging\": \"PT0S\", \"ns2:TreinAankomstSpoor\": [{\"@InfoStatus\": \"Gepland\", \"ns2:SpoorNummer\": \"2\"}, {\"@InfoStatus\": \"Actueel\", \"ns2:SpoorNummer\": \"2\"}], \"ns2:PresentatieTreinAankomstSpoor\": {\"ns2:Uitingen\": {\"ns2:Uiting\": \"2\"}}, \"ns2:VerkorteRouteHerkomst\": [{\"@InfoStatus\": \"Gepland\", \"ns2:Station\": [{\"ns2:StationCode\": \"HWD\", \"ns2:Type\": \"1\", \"ns2:KorteNaam\": \"Heerhugow\", \"ns2:MiddelNaam\": \"Heerhugowaard\", \"ns2:LangeNaam\": \"Heerhugowaard\", \"ns2:UICCode\": \"8400306\"}, {\"ns2:StationCode\": \"AMR\", \"ns2:Type\": \"5\", \"ns2:KorteNaam\": \"Alkmaar\", \"ns2:MiddelNaam\": \"Alkmaar\", \"ns2:LangeNaam\": \"Alkmaar\", \"ns2:UICCode\": \"8400050\"}]}, {\"@InfoStatus\": \"Actueel\", \"ns2:Station\": [{\"ns2:StationCode\": \"HWD\", \"ns2:Type\": \"1\", \"ns2:KorteNaam\": \"Heerhugow\", \"ns2:MiddelNaam\": \"Heerhugowaard\", \"ns2:LangeNaam\": \"Heerhugowaard\", \"ns2:UICCode\": \"8400306\"}, {\"ns2:StationCode\": \"AMR\", \"ns2:Type\": \"5\", \"ns2:KorteNaam\": \"Alkmaar\", \"ns2:MiddelNaam\": \"Alkmaar\", \"ns2:LangeNaam\": \"Alkmaar\", \"ns2:UICCode\": \"8400050\"}]}], \"ns2:PresentatieVerkorteRouteHerkomst\": {\"ns2:Uitingen\": {\"ns2:Uiting\": \"Heerhugowaard, Alkmaar\"}}}}}}}')\n",
      "(None, u'{\"ns1:PutReisInformatieBoodschapIn\": {\"@xmlns:ns1\": \"urn:ndov:cdm:trein:reisinformatie:messages:dynamischeaankomststaat:1\", \"@xmlns:ns2\": \"urn:ndov:cdm:trein:reisinformatie:data:4\", \"ns2:ReisInformatieProductDAS\": {\"@TimeStamp\": \"2020-05-04T22:19:42.618Z\", \"@Versie\": \"6.1\", \"ns2:RIPAdministratie\": {\"ns2:ReisInformatieProductID\": \"2005050019422400006\", \"ns2:AbonnementId\": \"55\", \"ns2:ReisInformatieTijdstip\": \"2020-05-04T22:21:00.000Z\"}, \"ns2:DynamischeAankomstStaat\": {\"ns2:RitId\": \"3382\", \"ns2:RitDatum\": \"2020-05-04\", \"ns2:RitStation\": {\"ns2:StationCode\": \"PMR\", \"ns2:Type\": \"1\", \"ns2:KorteNaam\": \"Purmerend\", \"ns2:MiddelNaam\": \"Purmerend\", \"ns2:LangeNaam\": \"Purmerend\", \"ns2:UICCode\": \"8400508\"}, \"ns2:TreinAankomst\": {\"ns2:TreinNummer\": \"3382\", \"ns2:TreinSoort\": {\"@Code\": \"SPR\", \"#text\": \"Sprinter\"}, \"ns2:TreinStatus\": \"0\", \"ns2:Vervoerder\": \"NS\", \"ns2:TreinHerkomst\": [{\"@InfoStatus\": \"Gepland\", \"ns2:StationCode\": \"HFD\", \"ns2:Type\": \"0\", \"ns2:KorteNaam\": \"Hoofddorp\", \"ns2:MiddelNaam\": \"Hoofddorp\", \"ns2:LangeNaam\": \"Hoofddorp\", \"ns2:UICCode\": \"8400332\"}, {\"@InfoStatus\": \"Actueel\", \"ns2:StationCode\": \"HFD\", \"ns2:Type\": \"0\", \"ns2:KorteNaam\": \"Hoofddorp\", \"ns2:MiddelNaam\": \"Hoofddorp\", \"ns2:LangeNaam\": \"Hoofddorp\", \"ns2:UICCode\": \"8400332\"}], \"ns2:PresentatieTreinHerkomst\": {\"ns2:Uitingen\": {\"ns2:Uiting\": \"Hoofddorp\"}}, \"ns2:AankomstTijd\": [{\"@InfoStatus\": \"Gepland\", \"#text\": \"2020-05-04T22:21:00.000Z\"}, {\"@InfoStatus\": \"Actueel\", \"#text\": \"2020-05-04T22:22:12.000Z\"}], \"ns2:ExacteAankomstVertraging\": \"PT1M12S\", \"ns2:PresentatieAankomstVertraging\": {\"ns2:Uitingen\": {\"ns2:Uiting\": \"+1 min.\"}}, \"ns2:GedempteAankomstVertraging\": \"PT0S\", \"ns2:TreinAankomstSpoor\": [{\"@InfoStatus\": \"Gepland\", \"ns2:SpoorNummer\": \"2\"}, {\"@InfoStatus\": \"Actueel\", \"ns2:SpoorNummer\": \"2\"}], \"ns2:PresentatieTreinAankomstSpoor\": {\"ns2:Uitingen\": {\"ns2:Uiting\": \"2\"}}, \"ns2:VerkorteRouteHerkomst\": [{\"@InfoStatus\": \"Gepland\", \"ns2:Station\": [{\"ns2:StationCode\": \"SHL\", \"ns2:Type\": \"6\", \"ns2:KorteNaam\": \"Schiphol\", \"ns2:MiddelNaam\": \"Schiphol Airport\", \"ns2:LangeNaam\": \"Schiphol Airport\", \"ns2:UICCode\": \"8400561\"}, {\"ns2:StationCode\": \"ASS\", \"ns2:Type\": \"5\", \"ns2:KorteNaam\": \"Sloterdijk\", \"ns2:MiddelNaam\": \"Sloterdijk\", \"ns2:LangeNaam\": \"Amsterdam Sloterdijk\", \"ns2:UICCode\": \"8400059\"}, {\"ns2:StationCode\": \"ZD\", \"ns2:Type\": \"5\", \"ns2:KorteNaam\": \"Zaandam\", \"ns2:MiddelNaam\": \"Zaandam\", \"ns2:LangeNaam\": \"Zaandam\", \"ns2:UICCode\": \"8400731\"}]}, {\"@InfoStatus\": \"Actueel\", \"ns2:Station\": [{\"ns2:StationCode\": \"SHL\", \"ns2:Type\": \"6\", \"ns2:KorteNaam\": \"Schiphol\", \"ns2:MiddelNaam\": \"Schiphol Airport\", \"ns2:LangeNaam\": \"Schiphol Airport\", \"ns2:UICCode\": \"8400561\"}, {\"ns2:StationCode\": \"ASS\", \"ns2:Type\": \"5\", \"ns2:KorteNaam\": \"Sloterdijk\", \"ns2:MiddelNaam\": \"Sloterdijk\", \"ns2:LangeNaam\": \"Amsterdam Sloterdijk\", \"ns2:UICCode\": \"8400059\"}, {\"ns2:StationCode\": \"ZD\", \"ns2:Type\": \"5\", \"ns2:KorteNaam\": \"Zaandam\", \"ns2:MiddelNaam\": \"Zaandam\", \"ns2:LangeNaam\": \"Zaandam\", \"ns2:UICCode\": \"8400731\"}]}], \"ns2:PresentatieVerkorteRouteHerkomst\": {\"ns2:Uitingen\": {\"ns2:Uiting\": \"Schiphol Airport, Sloterdijk, Zaandam\"}}, \"ns2:WijzigingHerkomst\": {\"ns2:WijzigingType\": \"11\"}}}}}}')\n",
      "...\n",
      "\n",
      "-------------------------------------------\n",
      "Time: 2020-05-05 00:21:20\n",
      "-------------------------------------------\n",
      "(None, u'{\"ns1:PutReisInformatieBoodschapIn\": {\"@xmlns:ns1\": \"urn:ndov:cdm:trein:reisinformatie:messages:5\", \"@xmlns:ns2\": \"urn:ndov:cdm:trein:reisinformatie:data:4\", \"ns2:ReisInformatieProductDVS\": {\"@TimeStamp\": \"2020-05-04T22:19:30.672Z\", \"@Versie\": \"6.2\", \"ns2:RIPAdministratie\": {\"ns2:ReisInformatieProductID\": \"2005050019302400001\", \"ns2:AbonnementId\": \"54\", \"ns2:ReisInformatieTijdstip\": \"2020-05-04T22:19:00.000Z\"}, \"ns2:DynamischeVertrekStaat\": {\"ns2:RitId\": \"2291\", \"ns2:RitDatum\": \"2020-05-04\", \"ns2:RitStation\": {\"ns2:StationCode\": \"LEDN\", \"ns2:Type\": \"5\", \"ns2:KorteNaam\": \"Leiden C\", \"ns2:MiddelNaam\": \"Leiden C.\", \"ns2:LangeNaam\": \"Leiden Centraal\", \"ns2:UICCode\": \"8400390\"}, \"ns2:Trein\": {\"ns2:TreinNummer\": \"302291\", \"ns2:TreinSoort\": {\"@Code\": \"IC\", \"#text\": \"Intercity\"}, \"ns2:TreinFormule\": \"3\", \"ns2:TreinStatus\": \"5\", \"ns2:Vervoerder\": \"NS\", \"ns2:Reserveren\": \"N\", \"ns2:Toeslag\": \"N\", \"ns2:NietInstappen\": \"N\", \"ns2:AchterBlijvenAchtersteTreinDeel\": \"N\", \"ns2:RangeerBeweging\": \"N\", \"ns2:SpeciaalKaartje\": \"N\", \"ns2:TreinEindBestemming\": [{\"@InfoStatus\": \"Gepland\", \"ns2:StationCode\": \"ASD\", \"ns2:Type\": \"6\", \"ns2:KorteNaam\": \"Amsterdm C\", \"ns2:MiddelNaam\": \"Amsterdam C.\", \"ns2:LangeNaam\": \"Amsterdam Centraal\", \"ns2:UICCode\": \"8400058\"}, {\"@InfoStatus\": \"Actueel\", \"ns2:StationCode\": \"ASD\", \"ns2:Type\": \"6\", \"ns2:KorteNaam\": \"Amsterdm C\", \"ns2:MiddelNaam\": \"Amsterdam C.\", \"ns2:LangeNaam\": \"Amsterdam Centraal\", \"ns2:UICCode\": \"8400058\"}], \"ns2:PresentatieTreinEindBestemming\": {\"ns2:Uitingen\": {\"ns2:Uiting\": \"Amsterdam Centraal\"}}, \"ns2:VertrekTijd\": [{\"@InfoStatus\": \"Gepland\", \"#text\": \"2020-05-04T22:19:00.000Z\"}, {\"@InfoStatus\": \"Actueel\", \"#text\": \"2020-05-04T22:19:00.000Z\"}], \"ns2:ExacteVertrekVertraging\": \"PT0S\", \"ns2:GedempteVertrekVertraging\": \"PT0S\", \"ns2:TreinVertrekSpoor\": [{\"@InfoStatus\": \"Gepland\", \"ns2:SpoorNummer\": \"5\", \"ns2:SpoorFase\": \"b\"}, {\"@InfoStatus\": \"Actueel\", \"ns2:SpoorNummer\": \"5\", \"ns2:SpoorFase\": \"b\"}], \"ns2:PresentatieTreinVertrekSpoor\": {\"ns2:Uitingen\": {\"ns2:Uiting\": \"5b\"}}, \"ns2:VertrekRichting\": \"A\", \"ns2:AfstandPerronEindKopVertrekTrein\": \"0\", \"ns2:VerkorteRoute\": [{\"@InfoStatus\": \"Gepland\", \"ns2:Station\": [{\"ns2:StationCode\": \"HAD\", \"ns2:Type\": \"4\", \"ns2:KorteNaam\": \"Heemstede\", \"ns2:MiddelNaam\": \"Heemstede-A.\", \"ns2:LangeNaam\": \"Heemstede-Aerdenhout\", \"ns2:UICCode\": \"8400302\"}, {\"ns2:StationCode\": \"HLM\", \"ns2:Type\": \"5\", \"ns2:KorteNaam\": \"Haarlem\", \"ns2:MiddelNaam\": \"Haarlem\", \"ns2:LangeNaam\": \"Haarlem\", \"ns2:UICCode\": \"8400285\"}, {\"ns2:StationCode\": \"ASS\", \"ns2:Type\": \"5\", \"ns2:KorteNaam\": \"Sloterdijk\", \"ns2:MiddelNaam\": \"Sloterdijk\", \"ns2:LangeNaam\": \"Amsterdam Sloterdijk\", \"ns2:UICCode\": \"8400059\"}]}, {\"@InfoStatus\": \"Actueel\", \"ns2:Station\": [{\"ns2:StationCode\": \"HAD\", \"ns2:Type\": \"4\", \"ns2:KorteNaam\": \"Heemstede\", \"ns2:MiddelNaam\": \"Heemstede-A.\", \"ns2:LangeNaam\": \"Heemstede-Aerdenhout\", \"ns2:UICCode\": \"8400302\"}, {\"ns2:StationCode\": \"HLM\", \"ns2:Type\": \"5\", \"ns2:KorteNaam\": \"Haarlem\", \"ns2:MiddelNaam\": \"Haarlem\", \"ns2:LangeNaam\": \"Haarlem\", \"ns2:UICCode\": \"8400285\"}, {\"ns2:StationCode\": \"ASS\", \"ns2:Type\": \"5\", \"ns2:KorteNaam\": \"Sloterdijk\", \"ns2:MiddelNaam\": \"Sloterdijk\", \"ns2:LangeNaam\": \"Amsterdam Sloterdijk\", \"ns2:UICCode\": \"8400059\"}]}], \"ns2:PresentatieVerkorteRoute\": {\"ns2:Uitingen\": {\"ns2:Uiting\": \"Heemstede-A., Haarlem, Sloterdijk\"}}, \"ns2:TreinVleugel\": {\"ns2:TreinVleugelVertrekSpoor\": [{\"@InfoStatus\": \"Gepland\", \"ns2:SpoorNummer\": \"5\", \"ns2:SpoorFase\": \"b\"}, {\"@InfoStatus\": \"Actueel\", \"ns2:SpoorNummer\": \"5\", \"ns2:SpoorFase\": \"b\"}], \"ns2:PresentatieTreinVleugelVertrekSpoor\": {\"ns2:Uitingen\": {\"ns2:Uiting\": \"5b\"}}, \"ns2:TreinVleugelEindBestemming\": [{\"@InfoStatus\": \"Gepland\", \"ns2:StationCode\": \"ASD\", \"ns2:Type\": \"6\", \"ns2:KorteNaam\": \"Amsterdm C\", \"ns2:MiddelNaam\": \"Amsterdam C.\", \"ns2:LangeNaam\": \"Amsterdam Centraal\", \"ns2:UICCode\": \"8400058\"}, {\"@InfoStatus\": \"Actueel\", \"ns2:StationCode\": \"ASD\", \"ns2:Type\": \"6\", \"ns2:KorteNaam\": \"Amsterdm C\", \"ns2:MiddelNaam\": \"Amsterdam C.\", \"ns2:LangeNaam\": \"Amsterdam Centraal\", \"ns2:UICCode\": \"8400058\"}], \"ns2:PresentatieTreinVleugelEindBestemming\": {\"ns2:Uitingen\": {\"ns2:Uiting\": \"Amsterdam Centraal\"}}, \"ns2:StopStations\": [{\"@InfoStatus\": \"Gepland\", \"ns2:Station\": [{\"ns2:StationCode\": \"HAD\", \"ns2:Type\": \"4\", \"ns2:KorteNaam\": \"Heemstede\", \"ns2:MiddelNaam\": \"Heemstede-A.\", \"ns2:LangeNaam\": \"Heemstede-Aerdenhout\", \"ns2:UICCode\": \"8400302\"}, {\"ns2:StationCode\": \"HLM\", \"ns2:Type\": \"5\", \"ns2:KorteNaam\": \"Haarlem\", \"ns2:MiddelNaam\": \"Haarlem\", \"ns2:LangeNaam\": \"Haarlem\", \"ns2:UICCode\": \"8400285\"}, {\"ns2:StationCode\": \"ASS\", \"ns2:Type\": \"5\", \"ns2:KorteNaam\": \"Sloterdijk\", \"ns2:MiddelNaam\": \"Sloterdijk\", \"ns2:LangeNaam\": \"Amsterdam Sloterdijk\", \"ns2:UICCode\": \"8400059\"}, {\"ns2:StationCode\": \"ASD\", \"ns2:Type\": \"6\", \"ns2:KorteNaam\": \"Amsterdm C\", \"ns2:MiddelNaam\": \"Amsterdam C.\", \"ns2:LangeNaam\": \"Amsterdam Centraal\", \"ns2:UICCode\": \"8400058\"}]}, {\"@InfoStatus\": \"Actueel\", \"ns2:Station\": [{\"ns2:StationCode\": \"HAD\", \"ns2:Type\": \"4\", \"ns2:KorteNaam\": \"Heemstede\", \"ns2:MiddelNaam\": \"Heemstede-A.\", \"ns2:LangeNaam\": \"Heemstede-Aerdenhout\", \"ns2:UICCode\": \"8400302\"}, {\"ns2:StationCode\": \"HLM\", \"ns2:Type\": \"5\", \"ns2:KorteNaam\": \"Haarlem\", \"ns2:MiddelNaam\": \"Haarlem\", \"ns2:LangeNaam\": \"Haarlem\", \"ns2:UICCode\": \"8400285\"}, {\"ns2:StationCode\": \"ASS\", \"ns2:Type\": \"5\", \"ns2:KorteNaam\": \"Sloterdijk\", \"ns2:MiddelNaam\": \"Sloterdijk\", \"ns2:LangeNaam\": \"Amsterdam Sloterdijk\", \"ns2:UICCode\": \"8400059\"}, {\"ns2:StationCode\": \"ASD\", \"ns2:Type\": \"6\", \"ns2:KorteNaam\": \"Amsterdm C\", \"ns2:MiddelNaam\": \"Amsterdam C.\", \"ns2:LangeNaam\": \"Amsterdam Centraal\", \"ns2:UICCode\": \"8400058\"}]}], \"ns2:MaterieelDeelDVS\": {\"ns2:MaterieelSoort\": \"VIRM\", \"ns2:MaterieelAanduiding\": \"4\", \"ns2:MaterieelLengte\": \"10860\", \"ns2:MaterieelNummer\": \"000000-09579-0\", \"ns2:MaterieelDeelEindBestemming\": [{\"@InfoStatus\": \"Gepland\", \"ns2:StationCode\": \"ASD\", \"ns2:Type\": \"6\", \"ns2:KorteNaam\": \"Amsterdm C\", \"ns2:MiddelNaam\": \"Amsterdam C.\", \"ns2:LangeNaam\": \"Amsterdam Centraal\", \"ns2:UICCode\": \"8400058\"}, {\"@InfoStatus\": \"Actueel\", \"ns2:StationCode\": \"ASD\", \"ns2:Type\": \"6\", \"ns2:KorteNaam\": \"Amsterdm C\", \"ns2:MiddelNaam\": \"Amsterdam C.\", \"ns2:LangeNaam\": \"Amsterdam Centraal\", \"ns2:UICCode\": \"8400058\"}], \"ns2:PresentatieMaterieelDeelEindBestemming\": {\"ns2:Uitingen\": {\"ns2:Uiting\": \"Amsterdam Centraal\"}}}}, \"ns2:Wijziging\": {\"ns2:WijzigingType\": \"40\"}}}}}}')\n",
      "(None, u'{\"ns1:PutReisInformatieBoodschapIn\": {\"@xmlns:ns1\": \"urn:ndov:cdm:trein:reisinformatie:messages:5\", \"@xmlns:ns2\": \"urn:ndov:cdm:trein:reisinformatie:data:4\", \"ns2:ReisInformatieProductDVS\": {\"@TimeStamp\": \"2020-05-04T22:19:30.589Z\", \"@Versie\": \"6.2\", \"ns2:RIPAdministratie\": {\"ns2:ReisInformatieProductID\": \"2005050019302200001\", \"ns2:AbonnementId\": \"54\", \"ns2:ReisInformatieTijdstip\": \"2020-05-04T22:21:00.000Z\"}, \"ns2:DynamischeVertrekStaat\": {\"ns2:RitId\": \"37794\", \"ns2:RitDatum\": \"2020-05-04\", \"ns2:RitStation\": {\"ns2:StationCode\": \"STM\", \"ns2:Type\": \"0\", \"ns2:KorteNaam\": \"Stedum\", \"ns2:MiddelNaam\": \"Stedum\", \"ns2:LangeNaam\": \"Stedum\", \"ns2:UICCode\": \"8400576\"}, \"ns2:Trein\": {\"ns2:TreinNummer\": \"37794\", \"ns2:TreinSoort\": {\"@Code\": \"ST\", \"#text\": \"Stoptrein\"}, \"ns2:TreinFormule\": \"1\", \"ns2:TreinStatus\": \"2\", \"ns2:Vervoerder\": \"Arriva\", \"ns2:Reserveren\": \"N\", \"ns2:Toeslag\": \"N\", \"ns2:NietInstappen\": \"N\", \"ns2:AchterBlijvenAchtersteTreinDeel\": \"N\", \"ns2:RangeerBeweging\": \"N\", \"ns2:SpeciaalKaartje\": \"N\", \"ns2:TreinEindBestemming\": [{\"@InfoStatus\": \"Gepland\", \"ns2:StationCode\": \"GN\", \"ns2:Type\": \"5\", \"ns2:KorteNaam\": \"Groningen\", \"ns2:MiddelNaam\": \"Groningen\", \"ns2:LangeNaam\": \"Groningen\", \"ns2:UICCode\": \"8400263\"}, {\"@InfoStatus\": \"Actueel\", \"ns2:StationCode\": \"GN\", \"ns2:Type\": \"5\", \"ns2:KorteNaam\": \"Groningen\", \"ns2:MiddelNaam\": \"Groningen\", \"ns2:LangeNaam\": \"Groningen\", \"ns2:UICCode\": \"8400263\"}], \"ns2:PresentatieTreinEindBestemming\": {\"ns2:Uitingen\": {\"ns2:Uiting\": \"Groningen\"}}, \"ns2:VertrekTijd\": [{\"@InfoStatus\": \"Gepland\", \"#text\": \"2020-05-04T22:21:00.000Z\"}, {\"@InfoStatus\": \"Actueel\", \"#text\": \"2020-05-04T22:21:00.000Z\"}], \"ns2:ExacteVertrekVertraging\": \"PT0S\", \"ns2:GedempteVertrekVertraging\": \"PT0S\", \"ns2:TreinVertrekSpoor\": [{\"@InfoStatus\": \"Gepland\", \"ns2:SpoorNummer\": \"1\"}, {\"@InfoStatus\": \"Actueel\", \"ns2:SpoorNummer\": \"1\"}], \"ns2:PresentatieTreinVertrekSpoor\": {\"ns2:Uitingen\": {\"ns2:Uiting\": \"1\"}}, \"ns2:VertrekRichting\": \"A\", \"ns2:AfstandPerronEindKopVertrekTrein\": \"0\", \"ns2:TreinVleugel\": {\"ns2:TreinVleugelVertrekSpoor\": [{\"@InfoStatus\": \"Gepland\", \"ns2:SpoorNummer\": \"1\"}, {\"@InfoStatus\": \"Actueel\", \"ns2:SpoorNummer\": \"1\"}], \"ns2:PresentatieTreinVleugelVertrekSpoor\": {\"ns2:Uitingen\": {\"ns2:Uiting\": \"1\"}}, \"ns2:TreinVleugelEindBestemming\": [{\"@InfoStatus\": \"Gepland\", \"ns2:StationCode\": \"GN\", \"ns2:Type\": \"5\", \"ns2:KorteNaam\": \"Groningen\", \"ns2:MiddelNaam\": \"Groningen\", \"ns2:LangeNaam\": \"Groningen\", \"ns2:UICCode\": \"8400263\"}, {\"@InfoStatus\": \"Actueel\", \"ns2:StationCode\": \"GN\", \"ns2:Type\": \"5\", \"ns2:KorteNaam\": \"Groningen\", \"ns2:MiddelNaam\": \"Groningen\", \"ns2:LangeNaam\": \"Groningen\", \"ns2:UICCode\": \"8400263\"}], \"ns2:PresentatieTreinVleugelEindBestemming\": {\"ns2:Uitingen\": {\"ns2:Uiting\": \"Groningen\"}}, \"ns2:StopStations\": [{\"@InfoStatus\": \"Gepland\", \"ns2:Station\": [{\"ns2:StationCode\": \"BDM\", \"ns2:Type\": \"0\", \"ns2:KorteNaam\": \"Bedum\", \"ns2:MiddelNaam\": \"Bedum\", \"ns2:LangeNaam\": \"Bedum\", \"ns2:UICCode\": \"8400094\"}, {\"ns2:StationCode\": \"SWD\", \"ns2:Type\": \"0\", \"ns2:KorteNaam\": \"Sauwerd\", \"ns2:MiddelNaam\": \"Sauwerd\", \"ns2:LangeNaam\": \"Sauwerd\", \"ns2:UICCode\": \"8400547\"}, {\"ns2:StationCode\": \"GNN\", \"ns2:Type\": \"0\", \"ns2:KorteNaam\": \"Groningn N\", \"ns2:MiddelNaam\": \"Groningen N.\", \"ns2:LangeNaam\": \"Groningen Noord\", \"ns2:UICCode\": \"8400264\"}, {\"ns2:StationCode\": \"GN\", \"ns2:Type\": \"5\", \"ns2:KorteNaam\": \"Groningen\", \"ns2:MiddelNaam\": \"Groningen\", \"ns2:LangeNaam\": \"Groningen\", \"ns2:UICCode\": \"8400263\"}]}, {\"@InfoStatus\": \"Actueel\", \"ns2:Station\": [{\"ns2:StationCode\": \"BDM\", \"ns2:Type\": \"0\", \"ns2:KorteNaam\": \"Bedum\", \"ns2:MiddelNaam\": \"Bedum\", \"ns2:LangeNaam\": \"Bedum\", \"ns2:UICCode\": \"8400094\"}, {\"ns2:StationCode\": \"SWD\", \"ns2:Type\": \"0\", \"ns2:KorteNaam\": \"Sauwerd\", \"ns2:MiddelNaam\": \"Sauwerd\", \"ns2:LangeNaam\": \"Sauwerd\", \"ns2:UICCode\": \"8400547\"}, {\"ns2:StationCode\": \"GNN\", \"ns2:Type\": \"0\", \"ns2:KorteNaam\": \"Groningn N\", \"ns2:MiddelNaam\": \"Groningen N.\", \"ns2:LangeNaam\": \"Groningen Noord\", \"ns2:UICCode\": \"8400264\"}, {\"ns2:StationCode\": \"GN\", \"ns2:Type\": \"5\", \"ns2:KorteNaam\": \"Groningen\", \"ns2:MiddelNaam\": \"Groningen\", \"ns2:LangeNaam\": \"Groningen\", \"ns2:UICCode\": \"8400263\"}]}], \"ns2:MaterieelDeelDVS\": {\"ns2:MaterieelSoort\": \"GTW-D-ARR\", \"ns2:MaterieelAanduiding\": \"2/8\", \"ns2:MaterieelLengte\": \"5600\", \"ns2:MaterieelDeelEindBestemming\": [{\"@InfoStatus\": \"Gepland\", \"ns2:StationCode\": \"GN\", \"ns2:Type\": \"5\", \"ns2:KorteNaam\": \"Groningen\", \"ns2:MiddelNaam\": \"Groningen\", \"ns2:LangeNaam\": \"Groningen\", \"ns2:UICCode\": \"8400263\"}, {\"@InfoStatus\": \"Actueel\", \"ns2:StationCode\": \"GN\", \"ns2:Type\": \"5\", \"ns2:KorteNaam\": \"Groningen\", \"ns2:MiddelNaam\": \"Groningen\", \"ns2:LangeNaam\": \"Groningen\", \"ns2:UICCode\": \"8400263\"}], \"ns2:PresentatieMaterieelDeelEindBestemming\": {\"ns2:Uitingen\": {\"ns2:Uiting\": \"Groningen\"}}}}, \"ns2:Wijziging\": {\"ns2:WijzigingType\": \"40\"}}}}}}')\n",
      "(None, u'{\"ns1:PutReisInformatieBoodschapIn\": {\"@xmlns:ns1\": \"urn:ndov:cdm:trein:reisinformatie:messages:5\", \"@xmlns:ns2\": \"urn:ndov:cdm:trein:reisinformatie:data:4\", \"ns2:ReisInformatieProductDVS\": {\"@TimeStamp\": \"2020-05-04T22:19:33.649Z\", \"@Versie\": \"6.2\", \"ns2:RIPAdministratie\": {\"ns2:ReisInformatieProductID\": \"2005050019332200001\", \"ns2:AbonnementId\": \"54\", \"ns2:ReisInformatieTijdstip\": \"2020-05-04T22:04:00.000Z\"}, \"ns2:DynamischeVertrekStaat\": {\"ns2:RitId\": \"2289\", \"ns2:RitDatum\": \"2020-05-04\", \"ns2:RitStation\": {\"ns2:StationCode\": \"HAD\", \"ns2:Type\": \"4\", \"ns2:KorteNaam\": \"Heemstede\", \"ns2:MiddelNaam\": \"Heemstede-A.\", \"ns2:LangeNaam\": \"Heemstede-Aerdenhout\", \"ns2:UICCode\": \"8400302\"}, \"ns2:Trein\": {\"ns2:TreinNummer\": \"2289\", \"ns2:TreinSoort\": {\"@Code\": \"IC\", \"#text\": \"Intercity\"}, \"ns2:TreinFormule\": \"3\", \"ns2:TreinStatus\": \"2\", \"ns2:Vervoerder\": \"NS\", \"ns2:Reserveren\": \"N\", \"ns2:Toeslag\": \"N\", \"ns2:NietInstappen\": \"N\", \"ns2:AchterBlijvenAchtersteTreinDeel\": \"N\", \"ns2:RangeerBeweging\": \"N\", \"ns2:SpeciaalKaartje\": \"N\", \"ns2:TreinEindBestemming\": [{\"@InfoStatus\": \"Gepland\", \"ns2:StationCode\": \"ASD\", \"ns2:Type\": \"6\", \"ns2:KorteNaam\": \"Amsterdm C\", \"ns2:MiddelNaam\": \"Amsterdam C.\", \"ns2:LangeNaam\": \"Amsterdam Centraal\", \"ns2:UICCode\": \"8400058\"}, {\"@InfoStatus\": \"Actueel\", \"ns2:StationCode\": \"ASD\", \"ns2:Type\": \"6\", \"ns2:KorteNaam\": \"Amsterdm C\", \"ns2:MiddelNaam\": \"Amsterdam C.\", \"ns2:LangeNaam\": \"Amsterdam Centraal\", \"ns2:UICCode\": \"8400058\"}], \"ns2:PresentatieTreinEindBestemming\": {\"ns2:Uitingen\": {\"ns2:Uiting\": \"Amsterdam Centraal\"}}, \"ns2:VertrekTijd\": [{\"@InfoStatus\": \"Gepland\", \"#text\": \"2020-05-04T22:04:00.000Z\"}, {\"@InfoStatus\": \"Actueel\", \"#text\": \"2020-05-04T22:21:56.000Z\"}], \"ns2:ExacteVertrekVertraging\": \"PT17M56S\", \"ns2:PresentatieVertrekVertraging\": {\"ns2:Uitingen\": {\"ns2:Uiting\": \"+17 min.\"}}, \"ns2:GedempteVertrekVertraging\": \"PT15M\", \"ns2:TreinVertrekSpoor\": [{\"@InfoStatus\": \"Gepland\", \"ns2:SpoorNummer\": \"1\"}, {\"@InfoStatus\": \"Actueel\", \"ns2:SpoorNummer\": \"1\"}], \"ns2:PresentatieTreinVertrekSpoor\": {\"ns2:Uitingen\": {\"ns2:Uiting\": \"1\"}}, \"ns2:VertrekRichting\": \"A\", \"ns2:AfstandPerronEindKopVertrekTrein\": \"0\", \"ns2:VerkorteRoute\": [{\"@InfoStatus\": \"Gepland\", \"ns2:Station\": [{\"ns2:StationCode\": \"HLM\", \"ns2:Type\": \"5\", \"ns2:KorteNaam\": \"Haarlem\", \"ns2:MiddelNaam\": \"Haarlem\", \"ns2:LangeNaam\": \"Haarlem\", \"ns2:UICCode\": \"8400285\"}, {\"ns2:StationCode\": \"ASS\", \"ns2:Type\": \"5\", \"ns2:KorteNaam\": \"Sloterdijk\", \"ns2:MiddelNaam\": \"Sloterdijk\", \"ns2:LangeNaam\": \"Amsterdam Sloterdijk\", \"ns2:UICCode\": \"8400059\"}]}, {\"@InfoStatus\": \"Actueel\", \"ns2:Station\": [{\"ns2:StationCode\": \"HLM\", \"ns2:Type\": \"5\", \"ns2:KorteNaam\": \"Haarlem\", \"ns2:MiddelNaam\": \"Haarlem\", \"ns2:LangeNaam\": \"Haarlem\", \"ns2:UICCode\": \"8400285\"}, {\"ns2:StationCode\": \"ASS\", \"ns2:Type\": \"5\", \"ns2:KorteNaam\": \"Sloterdijk\", \"ns2:MiddelNaam\": \"Sloterdijk\", \"ns2:LangeNaam\": \"Amsterdam Sloterdijk\", \"ns2:UICCode\": \"8400059\"}]}], \"ns2:PresentatieVerkorteRoute\": {\"ns2:Uitingen\": {\"ns2:Uiting\": \"Haarlem, Sloterdijk\"}}, \"ns2:TreinVleugel\": {\"ns2:TreinVleugelVertrekSpoor\": [{\"@InfoStatus\": \"Gepland\", \"ns2:SpoorNummer\": \"1\"}, {\"@InfoStatus\": \"Actueel\", \"ns2:SpoorNummer\": \"1\"}], \"ns2:PresentatieTreinVleugelVertrekSpoor\": {\"ns2:Uitingen\": {\"ns2:Uiting\": \"1\"}}, \"ns2:TreinVleugelEindBestemming\": [{\"@InfoStatus\": \"Gepland\", \"ns2:StationCode\": \"ASD\", \"ns2:Type\": \"6\", \"ns2:KorteNaam\": \"Amsterdm C\", \"ns2:MiddelNaam\": \"Amsterdam C.\", \"ns2:LangeNaam\": \"Amsterdam Centraal\", \"ns2:UICCode\": \"8400058\"}, {\"@InfoStatus\": \"Actueel\", \"ns2:StationCode\": \"ASD\", \"ns2:Type\": \"6\", \"ns2:KorteNaam\": \"Amsterdm C\", \"ns2:MiddelNaam\": \"Amsterdam C.\", \"ns2:LangeNaam\": \"Amsterdam Centraal\", \"ns2:UICCode\": \"8400058\"}], \"ns2:PresentatieTreinVleugelEindBestemming\": {\"ns2:Uitingen\": {\"ns2:Uiting\": \"Amsterdam Centraal\"}}, \"ns2:StopStations\": [{\"@InfoStatus\": \"Gepland\", \"ns2:Station\": [{\"ns2:StationCode\": \"HLM\", \"ns2:Type\": \"5\", \"ns2:KorteNaam\": \"Haarlem\", \"ns2:MiddelNaam\": \"Haarlem\", \"ns2:LangeNaam\": \"Haarlem\", \"ns2:UICCode\": \"8400285\"}, {\"ns2:StationCode\": \"ASS\", \"ns2:Type\": \"5\", \"ns2:KorteNaam\": \"Sloterdijk\", \"ns2:MiddelNaam\": \"Sloterdijk\", \"ns2:LangeNaam\": \"Amsterdam Sloterdijk\", \"ns2:UICCode\": \"8400059\"}, {\"ns2:StationCode\": \"ASD\", \"ns2:Type\": \"6\", \"ns2:KorteNaam\": \"Amsterdm C\", \"ns2:MiddelNaam\": \"Amsterdam C.\", \"ns2:LangeNaam\": \"Amsterdam Centraal\", \"ns2:UICCode\": \"8400058\"}]}, {\"@InfoStatus\": \"Actueel\", \"ns2:Station\": [{\"ns2:StationCode\": \"HLM\", \"ns2:Type\": \"5\", \"ns2:KorteNaam\": \"Haarlem\", \"ns2:MiddelNaam\": \"Haarlem\", \"ns2:LangeNaam\": \"Haarlem\", \"ns2:UICCode\": \"8400285\"}, {\"ns2:StationCode\": \"ASS\", \"ns2:Type\": \"5\", \"ns2:KorteNaam\": \"Sloterdijk\", \"ns2:MiddelNaam\": \"Sloterdijk\", \"ns2:LangeNaam\": \"Amsterdam Sloterdijk\", \"ns2:UICCode\": \"8400059\"}, {\"ns2:StationCode\": \"ASD\", \"ns2:Type\": \"6\", \"ns2:KorteNaam\": \"Amsterdm C\", \"ns2:MiddelNaam\": \"Amsterdam C.\", \"ns2:LangeNaam\": \"Amsterdam Centraal\", \"ns2:UICCode\": \"8400058\"}]}], \"ns2:MaterieelDeelDVS\": {\"ns2:MaterieelSoort\": \"VIRM\", \"ns2:MaterieelAanduiding\": \"6\", \"ns2:MaterieelLengte\": \"16210\", \"ns2:MaterieelNummer\": \"000000-08667-0\", \"ns2:MaterieelDeelEindBestemming\": [{\"@InfoStatus\": \"Gepland\", \"ns2:StationCode\": \"ASD\", \"ns2:Type\": \"6\", \"ns2:KorteNaam\": \"Amsterdm C\", \"ns2:MiddelNaam\": \"Amsterdam C.\", \"ns2:LangeNaam\": \"Amsterdam Centraal\", \"ns2:UICCode\": \"8400058\"}, {\"@InfoStatus\": \"Actueel\", \"ns2:StationCode\": \"ASD\", \"ns2:Type\": \"6\", \"ns2:KorteNaam\": \"Amsterdm C\", \"ns2:MiddelNaam\": \"Amsterdam C.\", \"ns2:LangeNaam\": \"Amsterdam Centraal\", \"ns2:UICCode\": \"8400058\"}], \"ns2:PresentatieMaterieelDeelEindBestemming\": {\"ns2:Uitingen\": {\"ns2:Uiting\": \"Amsterdam Centraal\"}}}}, \"ns2:Wijziging\": [{\"ns2:WijzigingType\": \"10\", \"ns2:PresentatieWijziging\": {\"ns2:Uitingen\": [{\"@Taal\": \"nl\", \"ns2:Uiting\": {\"@Prioriteit\": \"10\", \"#text\": \"Later vertrek\"}}, {\"@Taal\": \"en\", \"ns2:Uiting\": {\"@Prioriteit\": \"10\", \"#text\": \"Delayed\"}}]}}, {\"ns2:WijzigingType\": \"40\"}]}, \"ns2:PresentatieOpmerkingen\": {\"ns2:Uitingen\": [{\"@Taal\": \"nl\", \"ns2:Uiting\": {\"@Prioriteit\": \"20\", \"@ReferentieType\": \"Wijziging\", \"@ReferentieWaarde\": \"10\", \"#text\": \"Later vertrek\"}}, {\"@Taal\": \"en\", \"ns2:Uiting\": {\"@Prioriteit\": \"20\", \"@ReferentieType\": \"Wijziging\", \"@ReferentieWaarde\": \"10\", \"#text\": \"Delayed\"}}]}}}}}')\n",
      "(None, u'{\"ns1:PutReisInformatieBoodschapIn\": {\"@xmlns:ns1\": \"urn:ndov:cdm:trein:reisinformatie:messages:5\", \"@xmlns:ns2\": \"urn:ndov:cdm:trein:reisinformatie:data:4\", \"ns2:ReisInformatieProductDVS\": {\"@TimeStamp\": \"2020-05-04T22:19:34.049Z\", \"@Versie\": \"6.2\", \"ns2:RIPAdministratie\": {\"ns2:ReisInformatieProductID\": \"2005050019342400000\", \"ns2:AbonnementId\": \"54\", \"ns2:ReisInformatieTijdstip\": \"2020-05-04T22:18:00.000Z\"}, \"ns2:DynamischeVertrekStaat\": {\"ns2:RitId\": \"2980\", \"ns2:RitDatum\": \"2020-05-04\", \"ns2:RitStation\": {\"ns2:StationCode\": \"BKF\", \"ns2:Type\": \"0\", \"ns2:KorteNaam\": \"Bovenk Flo\", \"ns2:MiddelNaam\": \"Bovenkarspel Fl.\", \"ns2:LangeNaam\": \"Bovenkarspel Flora\", \"ns2:UICCode\": \"8400230\"}, \"ns2:Trein\": {\"ns2:TreinNummer\": \"2980\", \"ns2:TreinSoort\": {\"@Code\": \"IC\", \"#text\": \"Intercity\"}, \"ns2:TreinFormule\": \"3\", \"ns2:TreinStatus\": \"2\", \"ns2:Vervoerder\": \"NS\", \"ns2:Reserveren\": \"N\", \"ns2:Toeslag\": \"N\", \"ns2:NietInstappen\": \"N\", \"ns2:AchterBlijvenAchtersteTreinDeel\": \"N\", \"ns2:RangeerBeweging\": \"N\", \"ns2:SpeciaalKaartje\": \"N\", \"ns2:TreinEindBestemming\": [{\"@InfoStatus\": \"Gepland\", \"ns2:StationCode\": \"EKZ\", \"ns2:Type\": \"0\", \"ns2:KorteNaam\": \"Enkhuizen\", \"ns2:MiddelNaam\": \"Enkhuizen\", \"ns2:LangeNaam\": \"Enkhuizen\", \"ns2:UICCode\": \"8400210\"}, {\"@InfoStatus\": \"Actueel\", \"ns2:StationCode\": \"EKZ\", \"ns2:Type\": \"0\", \"ns2:KorteNaam\": \"Enkhuizen\", \"ns2:MiddelNaam\": \"Enkhuizen\", \"ns2:LangeNaam\": \"Enkhuizen\", \"ns2:UICCode\": \"8400210\"}], \"ns2:PresentatieTreinEindBestemming\": {\"ns2:Uitingen\": {\"ns2:Uiting\": \"Enkhuizen\"}}, \"ns2:VertrekTijd\": [{\"@InfoStatus\": \"Gepland\", \"#text\": \"2020-05-04T22:18:00.000Z\"}, {\"@InfoStatus\": \"Actueel\", \"#text\": \"2020-05-04T22:19:00.000Z\"}], \"ns2:ExacteVertrekVertraging\": \"PT1M\", \"ns2:PresentatieVertrekVertraging\": {\"ns2:Uitingen\": {\"ns2:Uiting\": \"+1 min.\"}}, \"ns2:GedempteVertrekVertraging\": \"PT0S\", \"ns2:TreinVertrekSpoor\": [{\"@InfoStatus\": \"Gepland\", \"ns2:SpoorNummer\": \"1\"}, {\"@InfoStatus\": \"Actueel\", \"ns2:SpoorNummer\": \"1\"}], \"ns2:PresentatieTreinVertrekSpoor\": {\"ns2:Uitingen\": {\"ns2:Uiting\": \"1\"}}, \"ns2:VertrekRichting\": \"A\", \"ns2:AfstandPerronEindKopVertrekTrein\": \"0\", \"ns2:TreinVleugel\": {\"ns2:TreinVleugelVertrekSpoor\": [{\"@InfoStatus\": \"Gepland\", \"ns2:SpoorNummer\": \"1\"}, {\"@InfoStatus\": \"Actueel\", \"ns2:SpoorNummer\": \"1\"}], \"ns2:PresentatieTreinVleugelVertrekSpoor\": {\"ns2:Uitingen\": {\"ns2:Uiting\": \"1\"}}, \"ns2:TreinVleugelEindBestemming\": [{\"@InfoStatus\": \"Gepland\", \"ns2:StationCode\": \"EKZ\", \"ns2:Type\": \"0\", \"ns2:KorteNaam\": \"Enkhuizen\", \"ns2:MiddelNaam\": \"Enkhuizen\", \"ns2:LangeNaam\": \"Enkhuizen\", \"ns2:UICCode\": \"8400210\"}, {\"@InfoStatus\": \"Actueel\", \"ns2:StationCode\": \"EKZ\", \"ns2:Type\": \"0\", \"ns2:KorteNaam\": \"Enkhuizen\", \"ns2:MiddelNaam\": \"Enkhuizen\", \"ns2:LangeNaam\": \"Enkhuizen\", \"ns2:UICCode\": \"8400210\"}], \"ns2:PresentatieTreinVleugelEindBestemming\": {\"ns2:Uitingen\": {\"ns2:Uiting\": \"Enkhuizen\"}}, \"ns2:StopStations\": [{\"@InfoStatus\": \"Gepland\", \"ns2:Station\": {\"ns2:StationCode\": \"EKZ\", \"ns2:Type\": \"0\", \"ns2:KorteNaam\": \"Enkhuizen\", \"ns2:MiddelNaam\": \"Enkhuizen\", \"ns2:LangeNaam\": \"Enkhuizen\", \"ns2:UICCode\": \"8400210\"}}, {\"@InfoStatus\": \"Actueel\", \"ns2:Station\": {\"ns2:StationCode\": \"EKZ\", \"ns2:Type\": \"0\", \"ns2:KorteNaam\": \"Enkhuizen\", \"ns2:MiddelNaam\": \"Enkhuizen\", \"ns2:LangeNaam\": \"Enkhuizen\", \"ns2:UICCode\": \"8400210\"}}], \"ns2:MaterieelDeelDVS\": [{\"ns2:MaterieelSoort\": \"VIRM\", \"ns2:MaterieelAanduiding\": \"4\", \"ns2:MaterieelLengte\": \"10860\", \"ns2:MaterieelDeelVertrekPositie\": \"1\", \"ns2:MaterieelDeelVolgordeVertrek\": \"1\", \"ns2:MaterieelNummer\": \"000000-09510-0\", \"ns2:MaterieelDeelEindBestemming\": [{\"@InfoStatus\": \"Gepland\", \"ns2:StationCode\": \"EKZ\", \"ns2:Type\": \"0\", \"ns2:KorteNaam\": \"Enkhuizen\", \"ns2:MiddelNaam\": \"Enkhuizen\", \"ns2:LangeNaam\": \"Enkhuizen\", \"ns2:UICCode\": \"8400210\"}, {\"@InfoStatus\": \"Actueel\", \"ns2:StationCode\": \"EKZ\", \"ns2:Type\": \"0\", \"ns2:KorteNaam\": \"Enkhuizen\", \"ns2:MiddelNaam\": \"Enkhuizen\", \"ns2:LangeNaam\": \"Enkhuizen\", \"ns2:UICCode\": \"8400210\"}], \"ns2:PresentatieMaterieelDeelEindBestemming\": {\"ns2:Uitingen\": {\"ns2:Uiting\": \"Enkhuizen\"}}}, {\"ns2:MaterieelSoort\": \"VIRM\", \"ns2:MaterieelAanduiding\": \"4\", \"ns2:MaterieelLengte\": \"10860\", \"ns2:MaterieelDeelVertrekPositie\": \"3\", \"ns2:MaterieelDeelVolgordeVertrek\": \"2\", \"ns2:MaterieelNummer\": \"000000-09551-0\", \"ns2:MaterieelDeelEindBestemming\": [{\"@InfoStatus\": \"Gepland\", \"ns2:StationCode\": \"EKZ\", \"ns2:Type\": \"0\", \"ns2:KorteNaam\": \"Enkhuizen\", \"ns2:MiddelNaam\": \"Enkhuizen\", \"ns2:LangeNaam\": \"Enkhuizen\", \"ns2:UICCode\": \"8400210\"}, {\"@InfoStatus\": \"Actueel\", \"ns2:StationCode\": \"EKZ\", \"ns2:Type\": \"0\", \"ns2:KorteNaam\": \"Enkhuizen\", \"ns2:MiddelNaam\": \"Enkhuizen\", \"ns2:LangeNaam\": \"Enkhuizen\", \"ns2:UICCode\": \"8400210\"}], \"ns2:PresentatieMaterieelDeelEindBestemming\": {\"ns2:Uitingen\": {\"ns2:Uiting\": \"Enkhuizen\"}}}]}, \"ns2:Wijziging\": {\"ns2:WijzigingType\": \"10\", \"ns2:PresentatieWijziging\": {\"ns2:Uitingen\": [{\"@Taal\": \"nl\", \"ns2:Uiting\": {\"@Prioriteit\": \"10\", \"#text\": \"Later vertrek\"}}, {\"@Taal\": \"en\", \"ns2:Uiting\": {\"@Prioriteit\": \"10\", \"#text\": \"Delayed\"}}]}}}, \"ns2:PresentatieOpmerkingen\": {\"ns2:Uitingen\": [{\"@Taal\": \"nl\", \"ns2:Uiting\": {\"@Prioriteit\": \"20\", \"@ReferentieType\": \"Wijziging\", \"@ReferentieWaarde\": \"10\", \"#text\": \"Later vertrek\"}}, {\"@Taal\": \"en\", \"ns2:Uiting\": {\"@Prioriteit\": \"20\", \"@ReferentieType\": \"Wijziging\", \"@ReferentieWaarde\": \"10\", \"#text\": \"Delayed\"}}]}}}}}')\n",
      "(None, u'{\"ns1:PutReisInformatieBoodschapIn\": {\"@xmlns:ns1\": \"urn:ndov:cdm:trein:reisinformatie:messages:5\", \"@xmlns:ns2\": \"urn:ndov:cdm:trein:reisinformatie:data:4\", \"ns2:ReisInformatieProductDVS\": {\"@TimeStamp\": \"2020-05-04T22:19:36.662Z\", \"@Versie\": \"6.2\", \"ns2:RIPAdministratie\": {\"ns2:ReisInformatieProductID\": \"2005050019362200001\", \"ns2:AbonnementId\": \"54\", \"ns2:ReisInformatieTijdstip\": \"2020-05-04T22:18:00.000Z\"}, \"ns2:DynamischeVertrekStaat\": {\"ns2:RitId\": \"2980\", \"ns2:RitDatum\": \"2020-05-04\", \"ns2:RitStation\": {\"ns2:StationCode\": \"BKF\", \"ns2:Type\": \"0\", \"ns2:KorteNaam\": \"Bovenk Flo\", \"ns2:MiddelNaam\": \"Bovenkarspel Fl.\", \"ns2:LangeNaam\": \"Bovenkarspel Flora\", \"ns2:UICCode\": \"8400230\"}, \"ns2:Trein\": {\"ns2:TreinNummer\": \"2980\", \"ns2:TreinSoort\": {\"@Code\": \"IC\", \"#text\": \"Intercity\"}, \"ns2:TreinFormule\": \"3\", \"ns2:TreinStatus\": \"5\", \"ns2:Vervoerder\": \"NS\", \"ns2:Reserveren\": \"N\", \"ns2:Toeslag\": \"N\", \"ns2:NietInstappen\": \"N\", \"ns2:AchterBlijvenAchtersteTreinDeel\": \"N\", \"ns2:RangeerBeweging\": \"N\", \"ns2:SpeciaalKaartje\": \"N\", \"ns2:TreinEindBestemming\": [{\"@InfoStatus\": \"Gepland\", \"ns2:StationCode\": \"EKZ\", \"ns2:Type\": \"0\", \"ns2:KorteNaam\": \"Enkhuizen\", \"ns2:MiddelNaam\": \"Enkhuizen\", \"ns2:LangeNaam\": \"Enkhuizen\", \"ns2:UICCode\": \"8400210\"}, {\"@InfoStatus\": \"Actueel\", \"ns2:StationCode\": \"EKZ\", \"ns2:Type\": \"0\", \"ns2:KorteNaam\": \"Enkhuizen\", \"ns2:MiddelNaam\": \"Enkhuizen\", \"ns2:LangeNaam\": \"Enkhuizen\", \"ns2:UICCode\": \"8400210\"}], \"ns2:PresentatieTreinEindBestemming\": {\"ns2:Uitingen\": {\"ns2:Uiting\": \"Enkhuizen\"}}, \"ns2:VertrekTijd\": [{\"@InfoStatus\": \"Gepland\", \"#text\": \"2020-05-04T22:18:00.000Z\"}, {\"@InfoStatus\": \"Actueel\", \"#text\": \"2020-05-04T22:19:00.000Z\"}], \"ns2:ExacteVertrekVertraging\": \"PT1M\", \"ns2:PresentatieVertrekVertraging\": {\"ns2:Uitingen\": {\"ns2:Uiting\": \"+1 min.\"}}, \"ns2:GedempteVertrekVertraging\": \"PT0S\", \"ns2:TreinVertrekSpoor\": [{\"@InfoStatus\": \"Gepland\", \"ns2:SpoorNummer\": \"1\"}, {\"@InfoStatus\": \"Actueel\", \"ns2:SpoorNummer\": \"1\"}], \"ns2:PresentatieTreinVertrekSpoor\": {\"ns2:Uitingen\": {\"ns2:Uiting\": \"1\"}}, \"ns2:VertrekRichting\": \"A\", \"ns2:AfstandPerronEindKopVertrekTrein\": \"0\", \"ns2:TreinVleugel\": {\"ns2:TreinVleugelVertrekSpoor\": [{\"@InfoStatus\": \"Gepland\", \"ns2:SpoorNummer\": \"1\"}, {\"@InfoStatus\": \"Actueel\", \"ns2:SpoorNummer\": \"1\"}], \"ns2:PresentatieTreinVleugelVertrekSpoor\": {\"ns2:Uitingen\": {\"ns2:Uiting\": \"1\"}}, \"ns2:TreinVleugelEindBestemming\": [{\"@InfoStatus\": \"Gepland\", \"ns2:StationCode\": \"EKZ\", \"ns2:Type\": \"0\", \"ns2:KorteNaam\": \"Enkhuizen\", \"ns2:MiddelNaam\": \"Enkhuizen\", \"ns2:LangeNaam\": \"Enkhuizen\", \"ns2:UICCode\": \"8400210\"}, {\"@InfoStatus\": \"Actueel\", \"ns2:StationCode\": \"EKZ\", \"ns2:Type\": \"0\", \"ns2:KorteNaam\": \"Enkhuizen\", \"ns2:MiddelNaam\": \"Enkhuizen\", \"ns2:LangeNaam\": \"Enkhuizen\", \"ns2:UICCode\": \"8400210\"}], \"ns2:PresentatieTreinVleugelEindBestemming\": {\"ns2:Uitingen\": {\"ns2:Uiting\": \"Enkhuizen\"}}, \"ns2:StopStations\": [{\"@InfoStatus\": \"Gepland\", \"ns2:Station\": {\"ns2:StationCode\": \"EKZ\", \"ns2:Type\": \"0\", \"ns2:KorteNaam\": \"Enkhuizen\", \"ns2:MiddelNaam\": \"Enkhuizen\", \"ns2:LangeNaam\": \"Enkhuizen\", \"ns2:UICCode\": \"8400210\"}}, {\"@InfoStatus\": \"Actueel\", \"ns2:Station\": {\"ns2:StationCode\": \"EKZ\", \"ns2:Type\": \"0\", \"ns2:KorteNaam\": \"Enkhuizen\", \"ns2:MiddelNaam\": \"Enkhuizen\", \"ns2:LangeNaam\": \"Enkhuizen\", \"ns2:UICCode\": \"8400210\"}}], \"ns2:MaterieelDeelDVS\": [{\"ns2:MaterieelSoort\": \"VIRM\", \"ns2:MaterieelAanduiding\": \"4\", \"ns2:MaterieelLengte\": \"10860\", \"ns2:MaterieelDeelVertrekPositie\": \"1\", \"ns2:MaterieelDeelVolgordeVertrek\": \"1\", \"ns2:MaterieelNummer\": \"000000-09510-0\", \"ns2:MaterieelDeelEindBestemming\": [{\"@InfoStatus\": \"Gepland\", \"ns2:StationCode\": \"EKZ\", \"ns2:Type\": \"0\", \"ns2:KorteNaam\": \"Enkhuizen\", \"ns2:MiddelNaam\": \"Enkhuizen\", \"ns2:LangeNaam\": \"Enkhuizen\", \"ns2:UICCode\": \"8400210\"}, {\"@InfoStatus\": \"Actueel\", \"ns2:StationCode\": \"EKZ\", \"ns2:Type\": \"0\", \"ns2:KorteNaam\": \"Enkhuizen\", \"ns2:MiddelNaam\": \"Enkhuizen\", \"ns2:LangeNaam\": \"Enkhuizen\", \"ns2:UICCode\": \"8400210\"}], \"ns2:PresentatieMaterieelDeelEindBestemming\": {\"ns2:Uitingen\": {\"ns2:Uiting\": \"Enkhuizen\"}}}, {\"ns2:MaterieelSoort\": \"VIRM\", \"ns2:MaterieelAanduiding\": \"4\", \"ns2:MaterieelLengte\": \"10860\", \"ns2:MaterieelDeelVertrekPositie\": \"3\", \"ns2:MaterieelDeelVolgordeVertrek\": \"2\", \"ns2:MaterieelNummer\": \"000000-09551-0\", \"ns2:MaterieelDeelEindBestemming\": [{\"@InfoStatus\": \"Gepland\", \"ns2:StationCode\": \"EKZ\", \"ns2:Type\": \"0\", \"ns2:KorteNaam\": \"Enkhuizen\", \"ns2:MiddelNaam\": \"Enkhuizen\", \"ns2:LangeNaam\": \"Enkhuizen\", \"ns2:UICCode\": \"8400210\"}, {\"@InfoStatus\": \"Actueel\", \"ns2:StationCode\": \"EKZ\", \"ns2:Type\": \"0\", \"ns2:KorteNaam\": \"Enkhuizen\", \"ns2:MiddelNaam\": \"Enkhuizen\", \"ns2:LangeNaam\": \"Enkhuizen\", \"ns2:UICCode\": \"8400210\"}], \"ns2:PresentatieMaterieelDeelEindBestemming\": {\"ns2:Uitingen\": {\"ns2:Uiting\": \"Enkhuizen\"}}}]}, \"ns2:Wijziging\": [{\"ns2:WijzigingType\": \"10\", \"ns2:PresentatieWijziging\": {\"ns2:Uitingen\": [{\"@Taal\": \"nl\", \"ns2:Uiting\": {\"@Prioriteit\": \"10\", \"#text\": \"Later vertrek\"}}, {\"@Taal\": \"en\", \"ns2:Uiting\": {\"@Prioriteit\": \"10\", \"#text\": \"Delayed\"}}]}}, {\"ns2:WijzigingType\": \"40\"}]}, \"ns2:PresentatieOpmerkingen\": {\"ns2:Uitingen\": [{\"@Taal\": \"nl\", \"ns2:Uiting\": {\"@Prioriteit\": \"20\", \"@ReferentieType\": \"Wijziging\", \"@ReferentieWaarde\": \"10\", \"#text\": \"Later vertrek\"}}, {\"@Taal\": \"en\", \"ns2:Uiting\": {\"@Prioriteit\": \"20\", \"@ReferentieType\": \"Wijziging\", \"@ReferentieWaarde\": \"10\", \"#text\": \"Delayed\"}}]}}}}}')\n",
      "(None, u'{\"ns1:PutReisInformatieBoodschapIn\": {\"@xmlns:ns1\": \"urn:ndov:cdm:trein:reisinformatie:messages:5\", \"@xmlns:ns2\": \"urn:ndov:cdm:trein:reisinformatie:data:4\", \"ns2:ReisInformatieProductDVS\": {\"@TimeStamp\": \"2020-05-04T22:19:37.344Z\", \"@Versie\": \"6.2\", \"ns2:RIPAdministratie\": {\"ns2:ReisInformatieProductID\": \"2005050019372200002\", \"ns2:AbonnementId\": \"54\", \"ns2:ReisInformatieTijdstip\": \"2020-05-04T22:21:00.000Z\"}, \"ns2:DynamischeVertrekStaat\": {\"ns2:RitId\": \"6087\", \"ns2:RitDatum\": \"2020-05-04\", \"ns2:RitStation\": {\"ns2:StationCode\": \"TPSW\", \"ns2:Type\": \"0\", \"ns2:KorteNaam\": \"Passewaaij\", \"ns2:MiddelNaam\": \"Passewaaij\", \"ns2:LangeNaam\": \"Tiel Passewaaij\", \"ns2:UICCode\": \"8400600\"}, \"ns2:Trein\": {\"ns2:TreinNummer\": \"6087\", \"ns2:TreinSoort\": {\"@Code\": \"SPR\", \"#text\": \"Sprinter\"}, \"ns2:TreinFormule\": \"1\", \"ns2:TreinStatus\": \"2\", \"ns2:Vervoerder\": \"NS\", \"ns2:Reserveren\": \"N\", \"ns2:Toeslag\": \"N\", \"ns2:NietInstappen\": \"N\", \"ns2:AchterBlijvenAchtersteTreinDeel\": \"N\", \"ns2:RangeerBeweging\": \"N\", \"ns2:SpeciaalKaartje\": \"N\", \"ns2:TreinEindBestemming\": [{\"@InfoStatus\": \"Gepland\", \"ns2:StationCode\": \"TL\", \"ns2:Type\": \"1\", \"ns2:KorteNaam\": \"Tiel\", \"ns2:MiddelNaam\": \"Tiel\", \"ns2:LangeNaam\": \"Tiel\", \"ns2:UICCode\": \"8400596\"}, {\"@InfoStatus\": \"Actueel\", \"ns2:StationCode\": \"TL\", \"ns2:Type\": \"1\", \"ns2:KorteNaam\": \"Tiel\", \"ns2:MiddelNaam\": \"Tiel\", \"ns2:LangeNaam\": \"Tiel\", \"ns2:UICCode\": \"8400596\"}], \"ns2:PresentatieTreinEindBestemming\": {\"ns2:Uitingen\": {\"ns2:Uiting\": \"Tiel\"}}, \"ns2:VertrekTijd\": [{\"@InfoStatus\": \"Gepland\", \"#text\": \"2020-05-04T22:21:00.000Z\"}, {\"@InfoStatus\": \"Actueel\", \"#text\": \"2020-05-04T22:21:00.000Z\"}], \"ns2:ExacteVertrekVertraging\": \"PT0S\", \"ns2:GedempteVertrekVertraging\": \"PT0S\", \"ns2:TreinVertrekSpoor\": [{\"@InfoStatus\": \"Gepland\", \"ns2:SpoorNummer\": \"1\"}, {\"@InfoStatus\": \"Actueel\", \"ns2:SpoorNummer\": \"1\"}], \"ns2:PresentatieTreinVertrekSpoor\": {\"ns2:Uitingen\": {\"ns2:Uiting\": \"1\"}}, \"ns2:VertrekRichting\": \"A\", \"ns2:AfstandPerronEindKopVertrekTrein\": \"0\", \"ns2:TreinVleugel\": {\"ns2:TreinVleugelVertrekSpoor\": [{\"@InfoStatus\": \"Gepland\", \"ns2:SpoorNummer\": \"1\"}, {\"@InfoStatus\": \"Actueel\", \"ns2:SpoorNummer\": \"1\"}], \"ns2:PresentatieTreinVleugelVertrekSpoor\": {\"ns2:Uitingen\": {\"ns2:Uiting\": \"1\"}}, \"ns2:TreinVleugelEindBestemming\": [{\"@InfoStatus\": \"Gepland\", \"ns2:StationCode\": \"TL\", \"ns2:Type\": \"1\", \"ns2:KorteNaam\": \"Tiel\", \"ns2:MiddelNaam\": \"Tiel\", \"ns2:LangeNaam\": \"Tiel\", \"ns2:UICCode\": \"8400596\"}, {\"@InfoStatus\": \"Actueel\", \"ns2:StationCode\": \"TL\", \"ns2:Type\": \"1\", \"ns2:KorteNaam\": \"Tiel\", \"ns2:MiddelNaam\": \"Tiel\", \"ns2:LangeNaam\": \"Tiel\", \"ns2:UICCode\": \"8400596\"}], \"ns2:PresentatieTreinVleugelEindBestemming\": {\"ns2:Uitingen\": {\"ns2:Uiting\": \"Tiel\"}}, \"ns2:StopStations\": [{\"@InfoStatus\": \"Gepland\", \"ns2:Station\": {\"ns2:StationCode\": \"TL\", \"ns2:Type\": \"1\", \"ns2:KorteNaam\": \"Tiel\", \"ns2:MiddelNaam\": \"Tiel\", \"ns2:LangeNaam\": \"Tiel\", \"ns2:UICCode\": \"8400596\"}}, {\"@InfoStatus\": \"Actueel\", \"ns2:Station\": {\"ns2:StationCode\": \"TL\", \"ns2:Type\": \"1\", \"ns2:KorteNaam\": \"Tiel\", \"ns2:MiddelNaam\": \"Tiel\", \"ns2:LangeNaam\": \"Tiel\", \"ns2:UICCode\": \"8400596\"}}], \"ns2:MaterieelDeelDVS\": {\"ns2:MaterieelSoort\": \"SLT\", \"ns2:MaterieelAanduiding\": \"6\", \"ns2:MaterieelLengte\": \"10050\", \"ns2:MaterieelNummer\": \"000000-02601-0\", \"ns2:MaterieelDeelEindBestemming\": [{\"@InfoStatus\": \"Gepland\", \"ns2:StationCode\": \"TL\", \"ns2:Type\": \"1\", \"ns2:KorteNaam\": \"Tiel\", \"ns2:MiddelNaam\": \"Tiel\", \"ns2:LangeNaam\": \"Tiel\", \"ns2:UICCode\": \"8400596\"}, {\"@InfoStatus\": \"Actueel\", \"ns2:StationCode\": \"TL\", \"ns2:Type\": \"1\", \"ns2:KorteNaam\": \"Tiel\", \"ns2:MiddelNaam\": \"Tiel\", \"ns2:LangeNaam\": \"Tiel\", \"ns2:UICCode\": \"8400596\"}], \"ns2:PresentatieMaterieelDeelEindBestemming\": {\"ns2:Uitingen\": {\"ns2:Uiting\": \"Tiel\"}}}}, \"ns2:Wijziging\": {\"ns2:WijzigingType\": \"40\"}}}}}}')\n",
      "(None, u'{\"ns1:PutReisInformatieBoodschapIn\": {\"@xmlns:ns1\": \"urn:ndov:cdm:trein:reisinformatie:messages:5\", \"@xmlns:ns2\": \"urn:ndov:cdm:trein:reisinformatie:data:4\", \"ns2:ReisInformatieProductDVS\": {\"@TimeStamp\": \"2020-05-04T22:19:37.854Z\", \"@Versie\": \"6.2\", \"ns2:RIPAdministratie\": {\"ns2:ReisInformatieProductID\": \"2005050019372300001\", \"ns2:AbonnementId\": \"54\", \"ns2:ReisInformatieTijdstip\": \"2020-05-04T22:23:00.000Z\"}, \"ns2:DynamischeVertrekStaat\": {\"ns2:RitId\": \"2986\", \"ns2:RitDatum\": \"2020-05-04\", \"ns2:RitStation\": {\"ns2:StationCode\": \"UT\", \"ns2:Type\": \"6\", \"ns2:KorteNaam\": \"Utrecht C\", \"ns2:MiddelNaam\": \"Utrecht C.\", \"ns2:LangeNaam\": \"Utrecht Centraal\", \"ns2:UICCode\": \"8400621\"}, \"ns2:Trein\": {\"ns2:TreinNummer\": \"2986\", \"ns2:TreinSoort\": {\"@Code\": \"IC\", \"#text\": \"Intercity\"}, \"ns2:TreinFormule\": \"3\", \"ns2:TreinStatus\": \"0\", \"ns2:Vervoerder\": \"NS\", \"ns2:Reserveren\": \"N\", \"ns2:Toeslag\": \"N\", \"ns2:NietInstappen\": \"N\", \"ns2:AchterBlijvenAchtersteTreinDeel\": \"N\", \"ns2:RangeerBeweging\": \"N\", \"ns2:SpeciaalKaartje\": \"N\", \"ns2:ReisTip\": {\"ns2:ReisTipStation\": {\"ns2:StationCode\": \"ASB\", \"ns2:Type\": \"1\", \"ns2:KorteNaam\": \"Bijlmer A\", \"ns2:MiddelNaam\": \"Bijlmer ArenA\", \"ns2:LangeNaam\": \"Amsterdam Bijlmer ArenA\", \"ns2:UICCode\": \"8400074\"}, \"ns2:ReisTipCode\": \"STO\", \"ns2:PresentatieReisTip\": {\"ns2:Uitingen\": [{\"@Taal\": \"nl\", \"ns2:Uiting\": {\"@Prioriteit\": \"7\", \"#text\": \"Stopt ook in Bijlmer ArenA\"}}, {\"@Taal\": \"en\", \"ns2:Uiting\": {\"@Prioriteit\": \"7\", \"#text\": \"Also stopping in Bijlmer ArenA\"}}]}}, \"ns2:TreinEindBestemming\": [{\"@InfoStatus\": \"Gepland\", \"ns2:StationCode\": \"ASD\", \"ns2:Type\": \"6\", \"ns2:KorteNaam\": \"Amsterdm C\", \"ns2:MiddelNaam\": \"Amsterdam C.\", \"ns2:LangeNaam\": \"Amsterdam Centraal\", \"ns2:UICCode\": \"8400058\"}, {\"@InfoStatus\": \"Actueel\", \"ns2:StationCode\": \"ASD\", \"ns2:Type\": \"6\", \"ns2:KorteNaam\": \"Amsterdm C\", \"ns2:MiddelNaam\": \"Amsterdam C.\", \"ns2:LangeNaam\": \"Amsterdam Centraal\", \"ns2:UICCode\": \"8400058\"}], \"ns2:PresentatieTreinEindBestemming\": {\"ns2:Uitingen\": {\"ns2:Uiting\": \"Amsterdam Centraal\"}}, \"ns2:VertrekTijd\": [{\"@InfoStatus\": \"Gepland\", \"#text\": \"2020-05-04T22:23:00.000Z\"}, {\"@InfoStatus\": \"Actueel\", \"#text\": \"2020-05-04T22:23:29.000Z\"}], \"ns2:ExacteVertrekVertraging\": \"PT29S\", \"ns2:GedempteVertrekVertraging\": \"PT0S\", \"ns2:TreinVertrekSpoor\": [{\"@InfoStatus\": \"Gepland\", \"ns2:SpoorNummer\": \"5\"}, {\"@InfoStatus\": \"Actueel\", \"ns2:SpoorNummer\": \"5\"}], \"ns2:PresentatieTreinVertrekSpoor\": {\"ns2:Uitingen\": {\"ns2:Uiting\": \"5\"}}, \"ns2:VertrekRichting\": \"A\", \"ns2:AfstandPerronEindKopVertrekTrein\": \"0\", \"ns2:VerkorteRoute\": [{\"@InfoStatus\": \"Gepland\", \"ns2:Station\": {\"ns2:StationCode\": \"ASA\", \"ns2:Type\": \"4\", \"ns2:KorteNaam\": \"Amstel\", \"ns2:MiddelNaam\": \"Amstel\", \"ns2:LangeNaam\": \"Amsterdam Amstel\", \"ns2:UICCode\": \"8400057\"}}, {\"@InfoStatus\": \"Actueel\", \"ns2:Station\": {\"ns2:StationCode\": \"ASA\", \"ns2:Type\": \"4\", \"ns2:KorteNaam\": \"Amstel\", \"ns2:MiddelNaam\": \"Amstel\", \"ns2:LangeNaam\": \"Amsterdam Amstel\", \"ns2:UICCode\": \"8400057\"}}], \"ns2:PresentatieVerkorteRoute\": {\"ns2:Uitingen\": {\"ns2:Uiting\": \"Amstel\"}}, \"ns2:TreinVleugel\": {\"ns2:TreinVleugelVertrekSpoor\": [{\"@InfoStatus\": \"Gepland\", \"ns2:SpoorNummer\": \"5\"}, {\"@InfoStatus\": \"Actueel\", \"ns2:SpoorNummer\": \"5\"}], \"ns2:PresentatieTreinVleugelVertrekSpoor\": {\"ns2:Uitingen\": {\"ns2:Uiting\": \"5\"}}, \"ns2:TreinVleugelEindBestemming\": [{\"@InfoStatus\": \"Gepland\", \"ns2:StationCode\": \"ASD\", \"ns2:Type\": \"6\", \"ns2:KorteNaam\": \"Amsterdm C\", \"ns2:MiddelNaam\": \"Amsterdam C.\", \"ns2:LangeNaam\": \"Amsterdam Centraal\", \"ns2:UICCode\": \"8400058\"}, {\"@InfoStatus\": \"Actueel\", \"ns2:StationCode\": \"ASD\", \"ns2:Type\": \"6\", \"ns2:KorteNaam\": \"Amsterdm C\", \"ns2:MiddelNaam\": \"Amsterdam C.\", \"ns2:LangeNaam\": \"Amsterdam Centraal\", \"ns2:UICCode\": \"8400058\"}], \"ns2:PresentatieTreinVleugelEindBestemming\": {\"ns2:Uitingen\": {\"ns2:Uiting\": \"Amsterdam Centraal\"}}, \"ns2:StopStations\": [{\"@InfoStatus\": \"Gepland\", \"ns2:Station\": [{\"ns2:StationCode\": \"ASB\", \"ns2:Type\": \"1\", \"ns2:KorteNaam\": \"Bijlmer A\", \"ns2:MiddelNaam\": \"Bijlmer ArenA\", \"ns2:LangeNaam\": \"Amsterdam Bijlmer ArenA\", \"ns2:UICCode\": \"8400074\"}, {\"ns2:StationCode\": \"ASA\", \"ns2:Type\": \"4\", \"ns2:KorteNaam\": \"Amstel\", \"ns2:MiddelNaam\": \"Amstel\", \"ns2:LangeNaam\": \"Amsterdam Amstel\", \"ns2:UICCode\": \"8400057\"}, {\"ns2:StationCode\": \"ASD\", \"ns2:Type\": \"6\", \"ns2:KorteNaam\": \"Amsterdm C\", \"ns2:MiddelNaam\": \"Amsterdam C.\", \"ns2:LangeNaam\": \"Amsterdam Centraal\", \"ns2:UICCode\": \"8400058\"}]}, {\"@InfoStatus\": \"Actueel\", \"ns2:Station\": [{\"ns2:StationCode\": \"ASB\", \"ns2:Type\": \"1\", \"ns2:KorteNaam\": \"Bijlmer A\", \"ns2:MiddelNaam\": \"Bijlmer ArenA\", \"ns2:LangeNaam\": \"Amsterdam Bijlmer ArenA\", \"ns2:UICCode\": \"8400074\"}, {\"ns2:StationCode\": \"ASA\", \"ns2:Type\": \"4\", \"ns2:KorteNaam\": \"Amstel\", \"ns2:MiddelNaam\": \"Amstel\", \"ns2:LangeNaam\": \"Amsterdam Amstel\", \"ns2:UICCode\": \"8400057\"}, {\"ns2:StationCode\": \"ASD\", \"ns2:Type\": \"6\", \"ns2:KorteNaam\": \"Amsterdm C\", \"ns2:MiddelNaam\": \"Amsterdam C.\", \"ns2:LangeNaam\": \"Amsterdam Centraal\", \"ns2:UICCode\": \"8400058\"}]}], \"ns2:MaterieelDeelDVS\": {\"ns2:MaterieelSoort\": \"VIRM\", \"ns2:MaterieelAanduiding\": \"6\", \"ns2:MaterieelLengte\": \"16210\", \"ns2:MaterieelNummer\": \"000000-08702-0\", \"ns2:MaterieelDeelEindBestemming\": [{\"@InfoStatus\": \"Gepland\", \"ns2:StationCode\": \"ASD\", \"ns2:Type\": \"6\", \"ns2:KorteNaam\": \"Amsterdm C\", \"ns2:MiddelNaam\": \"Amsterdam C.\", \"ns2:LangeNaam\": \"Amsterdam Centraal\", \"ns2:UICCode\": \"8400058\"}, {\"@InfoStatus\": \"Actueel\", \"ns2:StationCode\": \"ASD\", \"ns2:Type\": \"6\", \"ns2:KorteNaam\": \"Amsterdm C\", \"ns2:MiddelNaam\": \"Amsterdam C.\", \"ns2:LangeNaam\": \"Amsterdam Centraal\", \"ns2:UICCode\": \"8400058\"}], \"ns2:PresentatieMaterieelDeelEindBestemming\": {\"ns2:Uitingen\": {\"ns2:Uiting\": \"Amsterdam Centraal\"}}}}, \"ns2:Wijziging\": {\"ns2:WijzigingType\": \"10\", \"ns2:PresentatieWijziging\": {\"ns2:Uitingen\": [{\"@Taal\": \"nl\", \"ns2:Uiting\": {\"@Prioriteit\": \"10\", \"#text\": \"Later vertrek\"}}, {\"@Taal\": \"en\", \"ns2:Uiting\": {\"@Prioriteit\": \"10\", \"#text\": \"Delayed\"}}]}}}, \"ns2:PresentatieOpmerkingen\": {\"ns2:Uitingen\": [{\"@Taal\": \"nl\", \"ns2:Uiting\": [{\"@Prioriteit\": \"13\", \"@ReferentieType\": \"ReisTip\", \"@ReferentieWaarde\": \"STO\", \"#text\": \"Stopt ook in Bijlmer ArenA\"}, {\"@Prioriteit\": \"20\", \"@ReferentieType\": \"Wijziging\", \"@ReferentieWaarde\": \"10\", \"#text\": \"Later vertrek\"}]}, {\"@Taal\": \"en\", \"ns2:Uiting\": [{\"@Prioriteit\": \"13\", \"@ReferentieType\": \"ReisTip\", \"@ReferentieWaarde\": \"STO\", \"#text\": \"Also stopping in Bijlmer ArenA\"}, {\"@Prioriteit\": \"20\", \"@ReferentieType\": \"Wijziging\", \"@ReferentieWaarde\": \"10\", \"#text\": \"Delayed\"}]}]}}}}}')\n",
      "(None, u'{\"ns1:PutReisInformatieBoodschapIn\": {\"@xmlns:ns1\": \"urn:ndov:cdm:trein:reisinformatie:messages:5\", \"@xmlns:ns2\": \"urn:ndov:cdm:trein:reisinformatie:data:4\", \"ns2:ReisInformatieProductDVS\": {\"@TimeStamp\": \"2020-05-04T22:19:39.635Z\", \"@Versie\": \"6.2\", \"ns2:RIPAdministratie\": {\"ns2:ReisInformatieProductID\": \"2005050019392100001\", \"ns2:AbonnementId\": \"54\", \"ns2:ReisInformatieTijdstip\": \"2020-05-04T22:18:00.000Z\"}, \"ns2:DynamischeVertrekStaat\": {\"ns2:RitId\": \"37592\", \"ns2:RitDatum\": \"2020-05-04\", \"ns2:RitStation\": {\"ns2:StationCode\": \"SPM\", \"ns2:Type\": \"0\", \"ns2:KorteNaam\": \"Sappemr O\", \"ns2:MiddelNaam\": \"Sappemeer O.\", \"ns2:LangeNaam\": \"Sappemeer Oost\", \"ns2:UICCode\": \"8400545\"}, \"ns2:Trein\": {\"ns2:TreinNummer\": \"37592\", \"ns2:TreinSoort\": {\"@Code\": \"ST\", \"#text\": \"Stoptrein\"}, \"ns2:TreinFormule\": \"1\", \"ns2:TreinStatus\": \"5\", \"ns2:Vervoerder\": \"Arriva\", \"ns2:Reserveren\": \"N\", \"ns2:Toeslag\": \"N\", \"ns2:NietInstappen\": \"N\", \"ns2:AchterBlijvenAchtersteTreinDeel\": \"N\", \"ns2:RangeerBeweging\": \"N\", \"ns2:SpeciaalKaartje\": \"N\", \"ns2:TreinEindBestemming\": [{\"@InfoStatus\": \"Gepland\", \"ns2:StationCode\": \"GN\", \"ns2:Type\": \"5\", \"ns2:KorteNaam\": \"Groningen\", \"ns2:MiddelNaam\": \"Groningen\", \"ns2:LangeNaam\": \"Groningen\", \"ns2:UICCode\": \"8400263\"}, {\"@InfoStatus\": \"Actueel\", \"ns2:StationCode\": \"GN\", \"ns2:Type\": \"5\", \"ns2:KorteNaam\": \"Groningen\", \"ns2:MiddelNaam\": \"Groningen\", \"ns2:LangeNaam\": \"Groningen\", \"ns2:UICCode\": \"8400263\"}], \"ns2:PresentatieTreinEindBestemming\": {\"ns2:Uitingen\": {\"ns2:Uiting\": \"Groningen\"}}, \"ns2:VertrekTijd\": [{\"@InfoStatus\": \"Gepland\", \"#text\": \"2020-05-04T22:18:00.000Z\"}, {\"@InfoStatus\": \"Actueel\", \"#text\": \"2020-05-04T22:18:00.000Z\"}], \"ns2:ExacteVertrekVertraging\": \"PT0S\", \"ns2:GedempteVertrekVertraging\": \"PT0S\", \"ns2:TreinVertrekSpoor\": [{\"@InfoStatus\": \"Gepland\", \"ns2:SpoorNummer\": \"1\"}, {\"@InfoStatus\": \"Actueel\", \"ns2:SpoorNummer\": \"1\"}], \"ns2:PresentatieTreinVertrekSpoor\": {\"ns2:Uitingen\": {\"ns2:Uiting\": \"1\"}}, \"ns2:VertrekRichting\": \"A\", \"ns2:AfstandPerronEindKopVertrekTrein\": \"0\", \"ns2:VerkorteRoute\": [{\"@InfoStatus\": \"Gepland\", \"ns2:Station\": {\"ns2:StationCode\": \"HGZ\", \"ns2:Type\": \"1\", \"ns2:KorteNaam\": \"Hoogezand\", \"ns2:MiddelNaam\": \"Hoogezand-Sap.\", \"ns2:LangeNaam\": \"Hoogezand-Sappemeer\", \"ns2:UICCode\": \"8400331\"}}, {\"@InfoStatus\": \"Actueel\", \"ns2:Station\": {\"ns2:StationCode\": \"HGZ\", \"ns2:Type\": \"1\", \"ns2:KorteNaam\": \"Hoogezand\", \"ns2:MiddelNaam\": \"Hoogezand-Sap.\", \"ns2:LangeNaam\": \"Hoogezand-Sappemeer\", \"ns2:UICCode\": \"8400331\"}}], \"ns2:PresentatieVerkorteRoute\": {\"ns2:Uitingen\": {\"ns2:Uiting\": \"Hoogezand-Sap.\"}}, \"ns2:TreinVleugel\": {\"ns2:TreinVleugelVertrekSpoor\": [{\"@InfoStatus\": \"Gepland\", \"ns2:SpoorNummer\": \"1\"}, {\"@InfoStatus\": \"Actueel\", \"ns2:SpoorNummer\": \"1\"}], \"ns2:PresentatieTreinVleugelVertrekSpoor\": {\"ns2:Uitingen\": {\"ns2:Uiting\": \"1\"}}, \"ns2:TreinVleugelEindBestemming\": [{\"@InfoStatus\": \"Gepland\", \"ns2:StationCode\": \"GN\", \"ns2:Type\": \"5\", \"ns2:KorteNaam\": \"Groningen\", \"ns2:MiddelNaam\": \"Groningen\", \"ns2:LangeNaam\": \"Groningen\", \"ns2:UICCode\": \"8400263\"}, {\"@InfoStatus\": \"Actueel\", \"ns2:StationCode\": \"GN\", \"ns2:Type\": \"5\", \"ns2:KorteNaam\": \"Groningen\", \"ns2:MiddelNaam\": \"Groningen\", \"ns2:LangeNaam\": \"Groningen\", \"ns2:UICCode\": \"8400263\"}], \"ns2:PresentatieTreinVleugelEindBestemming\": {\"ns2:Uitingen\": {\"ns2:Uiting\": \"Groningen\"}}, \"ns2:StopStations\": [{\"@InfoStatus\": \"Gepland\", \"ns2:Station\": [{\"ns2:StationCode\": \"HGZ\", \"ns2:Type\": \"1\", \"ns2:KorteNaam\": \"Hoogezand\", \"ns2:MiddelNaam\": \"Hoogezand-Sap.\", \"ns2:LangeNaam\": \"Hoogezand-Sappemeer\", \"ns2:UICCode\": \"8400331\"}, {\"ns2:StationCode\": \"MTH\", \"ns2:Type\": \"0\", \"ns2:KorteNaam\": \"Martenshk\", \"ns2:MiddelNaam\": \"Martenshoek\", \"ns2:LangeNaam\": \"Martenshoek\", \"ns2:UICCode\": \"8400430\"}, {\"ns2:StationCode\": \"KW\", \"ns2:Type\": \"0\", \"ns2:KorteNaam\": \"Kropswolde\", \"ns2:MiddelNaam\": \"Kropswolde\", \"ns2:LangeNaam\": \"Kropswolde\", \"ns2:UICCode\": \"8400369\"}, {\"ns2:StationCode\": \"GERP\", \"ns2:Type\": \"0\", \"ns2:KorteNaam\": \"Europapark\", \"ns2:MiddelNaam\": \"Europapark\", \"ns2:LangeNaam\": \"Groningen Europapark\", \"ns2:UICCode\": \"8400238\"}, {\"ns2:StationCode\": \"GN\", \"ns2:Type\": \"5\", \"ns2:KorteNaam\": \"Groningen\", \"ns2:MiddelNaam\": \"Groningen\", \"ns2:LangeNaam\": \"Groningen\", \"ns2:UICCode\": \"8400263\"}]}, {\"@InfoStatus\": \"Actueel\", \"ns2:Station\": [{\"ns2:StationCode\": \"HGZ\", \"ns2:Type\": \"1\", \"ns2:KorteNaam\": \"Hoogezand\", \"ns2:MiddelNaam\": \"Hoogezand-Sap.\", \"ns2:LangeNaam\": \"Hoogezand-Sappemeer\", \"ns2:UICCode\": \"8400331\"}, {\"ns2:StationCode\": \"MTH\", \"ns2:Type\": \"0\", \"ns2:KorteNaam\": \"Martenshk\", \"ns2:MiddelNaam\": \"Martenshoek\", \"ns2:LangeNaam\": \"Martenshoek\", \"ns2:UICCode\": \"8400430\"}, {\"ns2:StationCode\": \"KW\", \"ns2:Type\": \"0\", \"ns2:KorteNaam\": \"Kropswolde\", \"ns2:MiddelNaam\": \"Kropswolde\", \"ns2:LangeNaam\": \"Kropswolde\", \"ns2:UICCode\": \"8400369\"}, {\"ns2:StationCode\": \"GERP\", \"ns2:Type\": \"0\", \"ns2:KorteNaam\": \"Europapark\", \"ns2:MiddelNaam\": \"Europapark\", \"ns2:LangeNaam\": \"Groningen Europapark\", \"ns2:UICCode\": \"8400238\"}, {\"ns2:StationCode\": \"GN\", \"ns2:Type\": \"5\", \"ns2:KorteNaam\": \"Groningen\", \"ns2:MiddelNaam\": \"Groningen\", \"ns2:LangeNaam\": \"Groningen\", \"ns2:UICCode\": \"8400263\"}]}], \"ns2:MaterieelDeelDVS\": {\"ns2:MaterieelSoort\": \"GTW-D-ARR\", \"ns2:MaterieelAanduiding\": \"2/8\", \"ns2:MaterieelLengte\": \"5600\", \"ns2:MaterieelDeelEindBestemming\": [{\"@InfoStatus\": \"Gepland\", \"ns2:StationCode\": \"GN\", \"ns2:Type\": \"5\", \"ns2:KorteNaam\": \"Groningen\", \"ns2:MiddelNaam\": \"Groningen\", \"ns2:LangeNaam\": \"Groningen\", \"ns2:UICCode\": \"8400263\"}, {\"@InfoStatus\": \"Actueel\", \"ns2:StationCode\": \"GN\", \"ns2:Type\": \"5\", \"ns2:KorteNaam\": \"Groningen\", \"ns2:MiddelNaam\": \"Groningen\", \"ns2:LangeNaam\": \"Groningen\", \"ns2:UICCode\": \"8400263\"}], \"ns2:PresentatieMaterieelDeelEindBestemming\": {\"ns2:Uitingen\": {\"ns2:Uiting\": \"Groningen\"}}}}, \"ns2:Wijziging\": {\"ns2:WijzigingType\": \"40\"}}}}}}')\n",
      "(None, u'{\"ns1:PutReisInformatieBoodschapIn\": {\"@xmlns:ns1\": \"urn:ndov:cdm:trein:reisinformatie:messages:5\", \"@xmlns:ns2\": \"urn:ndov:cdm:trein:reisinformatie:data:4\", \"ns2:ReisInformatieProductDVS\": {\"@TimeStamp\": \"2020-05-04T22:19:40.296Z\", \"@Versie\": \"6.2\", \"ns2:RIPAdministratie\": {\"ns2:ReisInformatieProductID\": \"2005050019402400001\", \"ns2:AbonnementId\": \"54\", \"ns2:ReisInformatieTijdstip\": \"2020-05-04T22:20:00.000Z\"}, \"ns2:DynamischeVertrekStaat\": {\"ns2:RitId\": \"4693\", \"ns2:RitDatum\": \"2020-05-04\", \"ns2:RitStation\": {\"ns2:StationCode\": \"NVP\", \"ns2:Type\": \"0\", \"ns2:KorteNaam\": \"Nw Vennep\", \"ns2:MiddelNaam\": \"Nieuw Vennep\", \"ns2:LangeNaam\": \"Nieuw Vennep\", \"ns2:UICCode\": \"8400460\"}, \"ns2:Trein\": {\"ns2:TreinNummer\": \"4693\", \"ns2:TreinSoort\": {\"@Code\": \"SPR\", \"#text\": \"Sprinter\"}, \"ns2:TreinFormule\": \"1\", \"ns2:TreinStatus\": \"2\", \"ns2:Vervoerder\": \"NS\", \"ns2:Reserveren\": \"N\", \"ns2:Toeslag\": \"N\", \"ns2:NietInstappen\": \"N\", \"ns2:AchterBlijvenAchtersteTreinDeel\": \"N\", \"ns2:RangeerBeweging\": \"N\", \"ns2:SpeciaalKaartje\": \"N\", \"ns2:TreinEindBestemming\": [{\"@InfoStatus\": \"Gepland\", \"ns2:StationCode\": \"SHL\", \"ns2:Type\": \"6\", \"ns2:KorteNaam\": \"Schiphol\", \"ns2:MiddelNaam\": \"Schiphol Airport\", \"ns2:LangeNaam\": \"Schiphol Airport\", \"ns2:UICCode\": \"8400561\"}, {\"@InfoStatus\": \"Actueel\", \"ns2:StationCode\": \"SHL\", \"ns2:Type\": \"6\", \"ns2:KorteNaam\": \"Schiphol\", \"ns2:MiddelNaam\": \"Schiphol Airport\", \"ns2:LangeNaam\": \"Schiphol Airport\", \"ns2:UICCode\": \"8400561\"}], \"ns2:PresentatieTreinEindBestemming\": {\"ns2:Uitingen\": {\"ns2:Uiting\": \"Schiphol Airport\"}}, \"ns2:VertrekTijd\": [{\"@InfoStatus\": \"Gepland\", \"#text\": \"2020-05-04T22:20:00.000Z\"}, {\"@InfoStatus\": \"Actueel\", \"#text\": \"2020-05-04T22:21:07.000Z\"}], \"ns2:ExacteVertrekVertraging\": \"PT1M7S\", \"ns2:PresentatieVertrekVertraging\": {\"ns2:Uitingen\": {\"ns2:Uiting\": \"+1 min.\"}}, \"ns2:GedempteVertrekVertraging\": \"PT0S\", \"ns2:TreinVertrekSpoor\": [{\"@InfoStatus\": \"Gepland\", \"ns2:SpoorNummer\": \"2\"}, {\"@InfoStatus\": \"Actueel\", \"ns2:SpoorNummer\": \"2\"}], \"ns2:PresentatieTreinVertrekSpoor\": {\"ns2:Uitingen\": {\"ns2:Uiting\": \"2\"}}, \"ns2:VertrekRichting\": \"A\", \"ns2:AfstandPerronEindKopVertrekTrein\": \"0\", \"ns2:TreinVleugel\": {\"ns2:TreinVleugelVertrekSpoor\": [{\"@InfoStatus\": \"Gepland\", \"ns2:SpoorNummer\": \"2\"}, {\"@InfoStatus\": \"Actueel\", \"ns2:SpoorNummer\": \"2\"}], \"ns2:PresentatieTreinVleugelVertrekSpoor\": {\"ns2:Uitingen\": {\"ns2:Uiting\": \"2\"}}, \"ns2:TreinVleugelEindBestemming\": [{\"@InfoStatus\": \"Gepland\", \"ns2:StationCode\": \"SHL\", \"ns2:Type\": \"6\", \"ns2:KorteNaam\": \"Schiphol\", \"ns2:MiddelNaam\": \"Schiphol Airport\", \"ns2:LangeNaam\": \"Schiphol Airport\", \"ns2:UICCode\": \"8400561\"}, {\"@InfoStatus\": \"Actueel\", \"ns2:StationCode\": \"SHL\", \"ns2:Type\": \"6\", \"ns2:KorteNaam\": \"Schiphol\", \"ns2:MiddelNaam\": \"Schiphol Airport\", \"ns2:LangeNaam\": \"Schiphol Airport\", \"ns2:UICCode\": \"8400561\"}], \"ns2:PresentatieTreinVleugelEindBestemming\": {\"ns2:Uitingen\": {\"ns2:Uiting\": \"Schiphol Airport\"}}, \"ns2:StopStations\": [{\"@InfoStatus\": \"Gepland\", \"ns2:Station\": [{\"ns2:StationCode\": \"HFD\", \"ns2:Type\": \"0\", \"ns2:KorteNaam\": \"Hoofddorp\", \"ns2:MiddelNaam\": \"Hoofddorp\", \"ns2:LangeNaam\": \"Hoofddorp\", \"ns2:UICCode\": \"8400332\"}, {\"ns2:StationCode\": \"SHL\", \"ns2:Type\": \"6\", \"ns2:KorteNaam\": \"Schiphol\", \"ns2:MiddelNaam\": \"Schiphol Airport\", \"ns2:LangeNaam\": \"Schiphol Airport\", \"ns2:UICCode\": \"8400561\"}]}, {\"@InfoStatus\": \"Actueel\", \"ns2:Station\": [{\"ns2:StationCode\": \"HFD\", \"ns2:Type\": \"0\", \"ns2:KorteNaam\": \"Hoofddorp\", \"ns2:MiddelNaam\": \"Hoofddorp\", \"ns2:LangeNaam\": \"Hoofddorp\", \"ns2:UICCode\": \"8400332\"}, {\"ns2:StationCode\": \"SHL\", \"ns2:Type\": \"6\", \"ns2:KorteNaam\": \"Schiphol\", \"ns2:MiddelNaam\": \"Schiphol Airport\", \"ns2:LangeNaam\": \"Schiphol Airport\", \"ns2:UICCode\": \"8400561\"}]}], \"ns2:MaterieelDeelDVS\": {\"ns2:MaterieelSoort\": \"SLT\", \"ns2:MaterieelAanduiding\": \"6\", \"ns2:MaterieelLengte\": \"10050\", \"ns2:MaterieelNummer\": \"000000-02638-0\", \"ns2:MaterieelDeelEindBestemming\": [{\"@InfoStatus\": \"Gepland\", \"ns2:StationCode\": \"SHL\", \"ns2:Type\": \"6\", \"ns2:KorteNaam\": \"Schiphol\", \"ns2:MiddelNaam\": \"Schiphol Airport\", \"ns2:LangeNaam\": \"Schiphol Airport\", \"ns2:UICCode\": \"8400561\"}, {\"@InfoStatus\": \"Actueel\", \"ns2:StationCode\": \"SHL\", \"ns2:Type\": \"6\", \"ns2:KorteNaam\": \"Schiphol\", \"ns2:MiddelNaam\": \"Schiphol Airport\", \"ns2:LangeNaam\": \"Schiphol Airport\", \"ns2:UICCode\": \"8400561\"}], \"ns2:PresentatieMaterieelDeelEindBestemming\": {\"ns2:Uitingen\": {\"ns2:Uiting\": \"Schiphol Airport\"}}}}, \"ns2:Wijziging\": [{\"ns2:WijzigingType\": \"10\", \"ns2:PresentatieWijziging\": {\"ns2:Uitingen\": [{\"@Taal\": \"nl\", \"ns2:Uiting\": {\"@Prioriteit\": \"10\", \"#text\": \"Later vertrek\"}}, {\"@Taal\": \"en\", \"ns2:Uiting\": {\"@Prioriteit\": \"10\", \"#text\": \"Delayed\"}}]}}, {\"ns2:WijzigingType\": \"40\"}]}, \"ns2:PresentatieOpmerkingen\": {\"ns2:Uitingen\": [{\"@Taal\": \"nl\", \"ns2:Uiting\": {\"@Prioriteit\": \"20\", \"@ReferentieType\": \"Wijziging\", \"@ReferentieWaarde\": \"10\", \"#text\": \"Later vertrek\"}}, {\"@Taal\": \"en\", \"ns2:Uiting\": {\"@Prioriteit\": \"20\", \"@ReferentieType\": \"Wijziging\", \"@ReferentieWaarde\": \"10\", \"#text\": \"Delayed\"}}]}}}}}')\n",
      "(None, u'{\"ns1:PutReisInformatieBoodschapIn\": {\"@xmlns:ns1\": \"urn:ndov:cdm:trein:reisinformatie:messages:5\", \"@xmlns:ns2\": \"urn:ndov:cdm:trein:reisinformatie:data:4\", \"ns2:ReisInformatieProductDVS\": {\"@TimeStamp\": \"2020-05-04T22:19:40.335Z\", \"@Versie\": \"6.2\", \"ns2:RIPAdministratie\": {\"ns2:ReisInformatieProductID\": \"2005050019402400004\", \"ns2:AbonnementId\": \"54\", \"ns2:ReisInformatieTijdstip\": \"2020-05-04T22:19:00.000Z\"}, \"ns2:DynamischeVertrekStaat\": {\"ns2:RitId\": \"4086\", \"ns2:RitDatum\": \"2020-05-04\", \"ns2:RitStation\": {\"ns2:StationCode\": \"GD\", \"ns2:Type\": \"5\", \"ns2:KorteNaam\": \"Gouda\", \"ns2:MiddelNaam\": \"Gouda\", \"ns2:LangeNaam\": \"Gouda\", \"ns2:UICCode\": \"8400258\"}, \"ns2:Trein\": {\"ns2:TreinNummer\": \"4086\", \"ns2:TreinSoort\": {\"@Code\": \"SPR\", \"#text\": \"Sprinter\"}, \"ns2:TreinFormule\": \"1\", \"ns2:TreinStatus\": \"5\", \"ns2:Vervoerder\": \"NS\", \"ns2:Reserveren\": \"N\", \"ns2:Toeslag\": \"N\", \"ns2:NietInstappen\": \"N\", \"ns2:AchterBlijvenAchtersteTreinDeel\": \"N\", \"ns2:RangeerBeweging\": \"N\", \"ns2:SpeciaalKaartje\": \"N\", \"ns2:TreinEindBestemming\": [{\"@InfoStatus\": \"Gepland\", \"ns2:StationCode\": \"GDG\", \"ns2:Type\": \"0\", \"ns2:KorteNaam\": \"Goverwelle\", \"ns2:MiddelNaam\": \"Goverwelle\", \"ns2:LangeNaam\": \"Gouda Goverwelle\", \"ns2:UICCode\": \"8400257\"}, {\"@InfoStatus\": \"Actueel\", \"ns2:StationCode\": \"GDG\", \"ns2:Type\": \"0\", \"ns2:KorteNaam\": \"Goverwelle\", \"ns2:MiddelNaam\": \"Goverwelle\", \"ns2:LangeNaam\": \"Gouda Goverwelle\", \"ns2:UICCode\": \"8400257\"}], \"ns2:PresentatieTreinEindBestemming\": {\"ns2:Uitingen\": {\"ns2:Uiting\": \"Gouda Goverwelle\"}}, \"ns2:VertrekTijd\": [{\"@InfoStatus\": \"Gepland\", \"#text\": \"2020-05-04T22:19:00.000Z\"}, {\"@InfoStatus\": \"Actueel\", \"#text\": \"2020-05-04T22:19:00.000Z\"}], \"ns2:ExacteVertrekVertraging\": \"PT0S\", \"ns2:GedempteVertrekVertraging\": \"PT0S\", \"ns2:TreinVertrekSpoor\": [{\"@InfoStatus\": \"Gepland\", \"ns2:SpoorNummer\": \"3\"}, {\"@InfoStatus\": \"Actueel\", \"ns2:SpoorNummer\": \"3\"}], \"ns2:PresentatieTreinVertrekSpoor\": {\"ns2:Uitingen\": {\"ns2:Uiting\": \"3\"}}, \"ns2:VertrekRichting\": \"A\", \"ns2:AfstandPerronEindKopVertrekTrein\": \"0\", \"ns2:TreinVleugel\": {\"ns2:TreinVleugelVertrekSpoor\": [{\"@InfoStatus\": \"Gepland\", \"ns2:SpoorNummer\": \"3\"}, {\"@InfoStatus\": \"Actueel\", \"ns2:SpoorNummer\": \"3\"}], \"ns2:PresentatieTreinVleugelVertrekSpoor\": {\"ns2:Uitingen\": {\"ns2:Uiting\": \"3\"}}, \"ns2:TreinVleugelEindBestemming\": [{\"@InfoStatus\": \"Gepland\", \"ns2:StationCode\": \"GDG\", \"ns2:Type\": \"0\", \"ns2:KorteNaam\": \"Goverwelle\", \"ns2:MiddelNaam\": \"Goverwelle\", \"ns2:LangeNaam\": \"Gouda Goverwelle\", \"ns2:UICCode\": \"8400257\"}, {\"@InfoStatus\": \"Actueel\", \"ns2:StationCode\": \"GDG\", \"ns2:Type\": \"0\", \"ns2:KorteNaam\": \"Goverwelle\", \"ns2:MiddelNaam\": \"Goverwelle\", \"ns2:LangeNaam\": \"Gouda Goverwelle\", \"ns2:UICCode\": \"8400257\"}], \"ns2:PresentatieTreinVleugelEindBestemming\": {\"ns2:Uitingen\": {\"ns2:Uiting\": \"Gouda Goverwelle\"}}, \"ns2:StopStations\": [{\"@InfoStatus\": \"Gepland\", \"ns2:Station\": {\"ns2:StationCode\": \"GDG\", \"ns2:Type\": \"0\", \"ns2:KorteNaam\": \"Goverwelle\", \"ns2:MiddelNaam\": \"Goverwelle\", \"ns2:LangeNaam\": \"Gouda Goverwelle\", \"ns2:UICCode\": \"8400257\"}}, {\"@InfoStatus\": \"Actueel\", \"ns2:Station\": {\"ns2:StationCode\": \"GDG\", \"ns2:Type\": \"0\", \"ns2:KorteNaam\": \"Goverwelle\", \"ns2:MiddelNaam\": \"Goverwelle\", \"ns2:LangeNaam\": \"Gouda Goverwelle\", \"ns2:UICCode\": \"8400257\"}}], \"ns2:MaterieelDeelDVS\": {\"ns2:MaterieelSoort\": \"SLT\", \"ns2:MaterieelAanduiding\": \"4\", \"ns2:MaterieelLengte\": \"6940\", \"ns2:MaterieelNummer\": \"000000-02433-0\", \"ns2:MaterieelDeelEindBestemming\": [{\"@InfoStatus\": \"Gepland\", \"ns2:StationCode\": \"GDG\", \"ns2:Type\": \"0\", \"ns2:KorteNaam\": \"Goverwelle\", \"ns2:MiddelNaam\": \"Goverwelle\", \"ns2:LangeNaam\": \"Gouda Goverwelle\", \"ns2:UICCode\": \"8400257\"}, {\"@InfoStatus\": \"Actueel\", \"ns2:StationCode\": \"GDG\", \"ns2:Type\": \"0\", \"ns2:KorteNaam\": \"Goverwelle\", \"ns2:MiddelNaam\": \"Goverwelle\", \"ns2:LangeNaam\": \"Gouda Goverwelle\", \"ns2:UICCode\": \"8400257\"}], \"ns2:PresentatieMaterieelDeelEindBestemming\": {\"ns2:Uitingen\": {\"ns2:Uiting\": \"Gouda Goverwelle\"}}}}, \"ns2:Wijziging\": {\"ns2:WijzigingType\": \"40\"}}}}}}')\n",
      "..."
     ]
    }
   ],
   "source": [
    "ssc.stop(stopSparkContext=False)"
   ]
  },
  {
   "cell_type": "markdown",
   "metadata": {},
   "source": [
    "You will need to adjust the batch interval (10 seconds here) in accordance with the processing times. Use the spark UI to check if batches are not accumulating."
   ]
  },
  {
   "cell_type": "markdown",
   "metadata": {},
   "source": [
    "---"
   ]
  },
  {
   "cell_type": "markdown",
   "metadata": {},
   "source": [
    "# Part III - Live stopping time (20 points / 50)"
   ]
  },
  {
   "cell_type": "markdown",
   "metadata": {},
   "source": [
    "In this part, we will have a look at the two other streams, namely `ndovloketnl-arrivals` and `ndovloketnl-departures`. Each time a train arrives at or leaves a station, a message is generated. Let's have a look at the content."
   ]
  },
  {
   "cell_type": "code",
   "execution_count": 11,
   "metadata": {
    "scrolled": true
   },
   "outputs": [
    {
     "data": {
      "application/vnd.jupyter.widget-view+json": {
       "model_id": "",
       "version_major": 2,
       "version_minor": 0
      },
      "text/plain": [
       "FloatProgress(value=0.0, bar_style='info', description='Progress:', layout=Layout(height='25px', width='50%'),…"
      ]
     },
     "metadata": {},
     "output_type": "display_data"
    },
    {
     "name": "stdout",
     "output_type": "stream",
     "text": [
      "{\n",
      "  \"ns1:PutReisInformatieBoodschapIn\": {\n",
      "    \"@xmlns:ns1\": \"urn:ndov:cdm:trein:reisinformatie:messages:dynamischeaankomststaat:1\", \n",
      "    \"@xmlns:ns2\": \"urn:ndov:cdm:trein:reisinformatie:data:4\", \n",
      "    \"ns2:ReisInformatieProductDAS\": {\n",
      "      \"ns2:RIPAdministratie\": {\n",
      "        \"ns2:ReisInformatieTijdstip\": \"2020-04-17T10:54:00.000Z\", \n",
      "        \"ns2:ReisInformatieProductID\": \"2004171254422300001\", \n",
      "        \"ns2:AbonnementId\": \"55\"\n",
      "      }, \n",
      "      \"@TimeStamp\": \"2020-04-17T10:54:42.098Z\", \n",
      "      \"@Versie\": \"6.1\", \n",
      "      \"ns2:DynamischeAankomstStaat\": {\n",
      "        \"ns2:RitId\": \"6945\", \n",
      "        \"ns2:RitStation\": {\n",
      "          \"ns2:LangeNaam\": \"Utrecht Vaartsche Rijn\", \n",
      "          \"ns2:MiddelNaam\": \"Vaartsche Rijn\", \n",
      "          \"ns2:StationCode\": \"UTVR\", \n",
      "          \"ns2:Type\": \"1\", \n",
      "          \"ns2:UICCode\": \"8400606\", \n",
      "          \"ns2:KorteNaam\": \"VaartscheR\"\n",
      "        }, \n",
      "        \"ns2:TreinAankomst\": {\n",
      "          \"ns2:TreinHerkomst\": [\n",
      "            {\n",
      "              \"ns2:LangeNaam\": \"Den Haag Centraal\", \n",
      "              \"@InfoStatus\": \"Gepland\", \n",
      "              \"ns2:MiddelNaam\": \"Den Haag C.\", \n",
      "              \"ns2:StationCode\": \"GVC\", \n",
      "              \"ns2:Type\": \"6\", \n",
      "              \"ns2:UICCode\": \"8400282\", \n",
      "              \"ns2:KorteNaam\": \"Den Haag C\"\n",
      "            }, \n",
      "            {\n",
      "              \"ns2:LangeNaam\": \"Den Haag Centraal\", \n",
      "              \"@InfoStatus\": \"Actueel\", \n",
      "              \"ns2:MiddelNaam\": \"Den Haag C.\", \n",
      "              \"ns2:StationCode\": \"GVC\", \n",
      "              \"ns2:Type\": \"6\", \n",
      "              \"ns2:UICCode\": \"8400282\", \n",
      "              \"ns2:KorteNaam\": \"Den Haag C\"\n",
      "            }\n",
      "          ], \n",
      "          \"ns2:TreinSoort\": {\n",
      "            \"@Code\": \"SPR\", \n",
      "            \"#text\": \"Sprinter\"\n",
      "          }, \n",
      "          \"ns2:WijzigingHerkomst\": {\n",
      "            \"ns2:WijzigingType\": \"40\"\n",
      "          }, \n",
      "          \"ns2:VerkorteRouteHerkomst\": [\n",
      "            {\n",
      "              \"ns2:Station\": [\n",
      "                {\n",
      "                  \"ns2:LangeNaam\": \"Zoetermeer\", \n",
      "                  \"ns2:MiddelNaam\": \"Zoetermeer\", \n",
      "                  \"ns2:StationCode\": \"ZTM\", \n",
      "                  \"ns2:Type\": \"1\", \n",
      "                  \"ns2:UICCode\": \"8400741\", \n",
      "                  \"ns2:KorteNaam\": \"Zoetermeer\"\n",
      "                }, \n",
      "                {\n",
      "                  \"ns2:LangeNaam\": \"Gouda\", \n",
      "                  \"ns2:MiddelNaam\": \"Gouda\", \n",
      "                  \"ns2:StationCode\": \"GD\", \n",
      "                  \"ns2:Type\": \"5\", \n",
      "                  \"ns2:UICCode\": \"8400258\", \n",
      "                  \"ns2:KorteNaam\": \"Gouda\"\n",
      "                }, \n",
      "                {\n",
      "                  \"ns2:LangeNaam\": \"Woerden\", \n",
      "                  \"ns2:MiddelNaam\": \"Woerden\", \n",
      "                  \"ns2:StationCode\": \"WD\", \n",
      "                  \"ns2:Type\": \"1\", \n",
      "                  \"ns2:UICCode\": \"8400702\", \n",
      "                  \"ns2:KorteNaam\": \"Woerden\"\n",
      "                }, \n",
      "                {\n",
      "                  \"ns2:LangeNaam\": \"Utrecht Centraal\", \n",
      "                  \"ns2:MiddelNaam\": \"Utrecht C.\", \n",
      "                  \"ns2:StationCode\": \"UT\", \n",
      "                  \"ns2:Type\": \"6\", \n",
      "                  \"ns2:UICCode\": \"8400621\", \n",
      "                  \"ns2:KorteNaam\": \"Utrecht C\"\n",
      "                }\n",
      "              ], \n",
      "              \"@InfoStatus\": \"Gepland\"\n",
      "            }, \n",
      "            {\n",
      "              \"ns2:Station\": [\n",
      "                {\n",
      "                  \"ns2:LangeNaam\": \"Zoetermeer\", \n",
      "                  \"ns2:MiddelNaam\": \"Zoetermeer\", \n",
      "                  \"ns2:StationCode\": \"ZTM\", \n",
      "                  \"ns2:Type\": \"1\", \n",
      "                  \"ns2:UICCode\": \"8400741\", \n",
      "                  \"ns2:KorteNaam\": \"Zoetermeer\"\n",
      "                }, \n",
      "                {\n",
      "                  \"ns2:LangeNaam\": \"Gouda\", \n",
      "                  \"ns2:MiddelNaam\": \"Gouda\", \n",
      "                  \"ns2:StationCode\": \"GD\", \n",
      "                  \"ns2:Type\": \"5\", \n",
      "                  \"ns2:UICCode\": \"8400258\", \n",
      "                  \"ns2:KorteNaam\": \"Gouda\"\n",
      "                }, \n",
      "                {\n",
      "                  \"ns2:LangeNaam\": \"Woerden\", \n",
      "                  \"ns2:MiddelNaam\": \"Woerden\", \n",
      "                  \"ns2:StationCode\": \"WD\", \n",
      "                  \"ns2:Type\": \"1\", \n",
      "                  \"ns2:UICCode\": \"8400702\", \n",
      "                  \"ns2:KorteNaam\": \"Woerden\"\n",
      "                }, \n",
      "                {\n",
      "                  \"ns2:LangeNaam\": \"Utrecht Centraal\", \n",
      "                  \"ns2:MiddelNaam\": \"Utrecht C.\", \n",
      "                  \"ns2:StationCode\": \"UT\", \n",
      "                  \"ns2:Type\": \"6\", \n",
      "                  \"ns2:UICCode\": \"8400621\", \n",
      "                  \"ns2:KorteNaam\": \"Utrecht C\"\n",
      "                }\n",
      "              ], \n",
      "              \"@InfoStatus\": \"Actueel\"\n",
      "            }\n",
      "          ], \n",
      "          \"ns2:PresentatieTreinAankomstSpoor\": {\n",
      "            \"ns2:Uitingen\": {\n",
      "              \"ns2:Uiting\": \"4\"\n",
      "            }\n",
      "          }, \n",
      "          \"ns2:TreinStatus\": \"5\", \n",
      "          \"ns2:PresentatieVerkorteRouteHerkomst\": {\n",
      "            \"ns2:Uitingen\": {\n",
      "              \"ns2:Uiting\": \"Zoetermeer, Gouda, Woerden, Utrecht C.\"\n",
      "            }\n",
      "          }, \n",
      "          \"ns2:AankomstTijd\": [\n",
      "            {\n",
      "              \"@InfoStatus\": \"Gepland\", \n",
      "              \"#text\": \"2020-04-17T10:54:00.000Z\"\n",
      "            }, \n",
      "            {\n",
      "              \"@InfoStatus\": \"Actueel\", \n",
      "              \"#text\": \"2020-04-17T10:54:00.000Z\"\n",
      "            }\n",
      "          ], \n",
      "          \"ns2:TreinNummer\": \"6945\", \n",
      "          \"ns2:TreinAankomstSpoor\": [\n",
      "            {\n",
      "              \"@InfoStatus\": \"Gepland\", \n",
      "              \"ns2:SpoorNummer\": \"4\"\n",
      "            }, \n",
      "            {\n",
      "              \"@InfoStatus\": \"Actueel\", \n",
      "              \"ns2:SpoorNummer\": \"4\"\n",
      "            }\n",
      "          ], \n",
      "          \"ns2:PresentatieTreinHerkomst\": {\n",
      "            \"ns2:Uitingen\": {\n",
      "              \"ns2:Uiting\": \"Den Haag C.\"\n",
      "            }\n",
      "          }, \n",
      "          \"ns2:GedempteAankomstVertraging\": \"PT0S\", \n",
      "          \"ns2:ExacteAankomstVertraging\": \"PT0S\", \n",
      "          \"ns2:Vervoerder\": \"NS\"\n",
      "        }, \n",
      "        \"ns2:RitDatum\": \"2020-04-17\"\n",
      "      }\n",
      "    }\n",
      "  }\n",
      "}"
     ]
    }
   ],
   "source": [
    "import json\n",
    "from pykafka.common import OffsetType\n",
    "\n",
    "example_arrivals = client.topics[b'ndovloketnl-arrivals'].get_simple_consumer(\n",
    "    auto_offset_reset=OffsetType.EARLIEST,\n",
    "    reset_offset_on_start=True\n",
    ").consume()\n",
    "print(json.dumps(json.loads(example_arrivals.value), indent=2))"
   ]
  },
  {
   "cell_type": "code",
   "execution_count": 12,
   "metadata": {
    "scrolled": true
   },
   "outputs": [
    {
     "data": {
      "application/vnd.jupyter.widget-view+json": {
       "model_id": "",
       "version_major": 2,
       "version_minor": 0
      },
      "text/plain": [
       "FloatProgress(value=0.0, bar_style='info', description='Progress:', layout=Layout(height='25px', width='50%'),…"
      ]
     },
     "metadata": {},
     "output_type": "display_data"
    },
    {
     "name": "stdout",
     "output_type": "stream",
     "text": [
      "{\n",
      "  \"ns1:PutReisInformatieBoodschapIn\": {\n",
      "    \"@xmlns:ns1\": \"urn:ndov:cdm:trein:reisinformatie:messages:5\", \n",
      "    \"ns2:ReisInformatieProductDVS\": {\n",
      "      \"ns2:RIPAdministratie\": {\n",
      "        \"ns2:ReisInformatieTijdstip\": \"2020-04-23T15:32:00.000Z\", \n",
      "        \"ns2:ReisInformatieProductID\": \"2004231730412200003\", \n",
      "        \"ns2:AbonnementId\": \"54\"\n",
      "      }, \n",
      "      \"@TimeStamp\": \"2020-04-23T15:30:41.815Z\", \n",
      "      \"@Versie\": \"6.2\", \n",
      "      \"ns2:DynamischeVertrekStaat\": {\n",
      "        \"ns2:RitId\": \"7363\", \n",
      "        \"ns2:RitStation\": {\n",
      "          \"ns2:LangeNaam\": \"Maarssen\", \n",
      "          \"ns2:MiddelNaam\": \"Maarssen\", \n",
      "          \"ns2:StationCode\": \"MAS\", \n",
      "          \"ns2:Type\": \"0\", \n",
      "          \"ns2:UICCode\": \"8400419\", \n",
      "          \"ns2:KorteNaam\": \"Maarssen\"\n",
      "        }, \n",
      "        \"ns2:RitDatum\": \"2020-04-23\", \n",
      "        \"ns2:Trein\": {\n",
      "          \"ns2:VertrekRichting\": \"B\", \n",
      "          \"ns2:VertrekTijd\": [\n",
      "            {\n",
      "              \"@InfoStatus\": \"Gepland\", \n",
      "              \"#text\": \"2020-04-23T15:32:00.000Z\"\n",
      "            }, \n",
      "            {\n",
      "              \"@InfoStatus\": \"Actueel\", \n",
      "              \"#text\": \"2020-04-23T15:32:00.000Z\"\n",
      "            }\n",
      "          ], \n",
      "          \"ns2:RangeerBeweging\": \"N\", \n",
      "          \"ns2:PresentatieTreinVertrekSpoor\": {\n",
      "            \"ns2:Uitingen\": {\n",
      "              \"ns2:Uiting\": \"3\"\n",
      "            }\n",
      "          }, \n",
      "          \"ns2:NietInstappen\": \"N\", \n",
      "          \"ns2:PresentatieVerkorteRoute\": {\n",
      "            \"ns2:Uitingen\": {\n",
      "              \"ns2:Uiting\": \"Utrecht C., Vaartsche Rijn, Driebergen-Zeist, Maarn\"\n",
      "            }\n",
      "          }, \n",
      "          \"ns2:TreinStatus\": \"2\", \n",
      "          \"ns2:TreinNummer\": \"7363\", \n",
      "          \"ns2:ExacteVertrekVertraging\": \"PT0S\", \n",
      "          \"ns2:Wijziging\": {\n",
      "            \"ns2:WijzigingType\": \"40\"\n",
      "          }, \n",
      "          \"ns2:TreinVleugel\": {\n",
      "            \"ns2:PresentatieTreinVleugelVertrekSpoor\": {\n",
      "              \"ns2:Uitingen\": {\n",
      "                \"ns2:Uiting\": \"3\"\n",
      "              }\n",
      "            }, \n",
      "            \"ns2:TreinVleugelVertrekSpoor\": [\n",
      "              {\n",
      "                \"@InfoStatus\": \"Gepland\", \n",
      "                \"ns2:SpoorNummer\": \"3\"\n",
      "              }, \n",
      "              {\n",
      "                \"@InfoStatus\": \"Actueel\", \n",
      "                \"ns2:SpoorNummer\": \"3\"\n",
      "              }\n",
      "            ], \n",
      "            \"ns2:StopStations\": [\n",
      "              {\n",
      "                \"ns2:Station\": [\n",
      "                  {\n",
      "                    \"ns2:LangeNaam\": \"Utrecht Zuilen\", \n",
      "                    \"ns2:MiddelNaam\": \"Zuilen\", \n",
      "                    \"ns2:StationCode\": \"UTZL\", \n",
      "                    \"ns2:Type\": \"0\", \n",
      "                    \"ns2:UICCode\": \"8400613\", \n",
      "                    \"ns2:KorteNaam\": \"Zuilen\"\n",
      "                  }, \n",
      "                  {\n",
      "                    \"ns2:LangeNaam\": \"Utrecht Centraal\", \n",
      "                    \"ns2:MiddelNaam\": \"Utrecht C.\", \n",
      "                    \"ns2:StationCode\": \"UT\", \n",
      "                    \"ns2:Type\": \"6\", \n",
      "                    \"ns2:UICCode\": \"8400621\", \n",
      "                    \"ns2:KorteNaam\": \"Utrecht C\"\n",
      "                  }, \n",
      "                  {\n",
      "                    \"ns2:LangeNaam\": \"Utrecht Vaartsche Rijn\", \n",
      "                    \"ns2:MiddelNaam\": \"Vaartsche Rijn\", \n",
      "                    \"ns2:StationCode\": \"UTVR\", \n",
      "                    \"ns2:Type\": \"1\", \n",
      "                    \"ns2:UICCode\": \"8400606\", \n",
      "                    \"ns2:KorteNaam\": \"VaartscheR\"\n",
      "                  }, \n",
      "                  {\n",
      "                    \"ns2:LangeNaam\": \"Bunnik\", \n",
      "                    \"ns2:MiddelNaam\": \"Bunnik\", \n",
      "                    \"ns2:StationCode\": \"BNK\", \n",
      "                    \"ns2:Type\": \"0\", \n",
      "                    \"ns2:UICCode\": \"8400141\", \n",
      "                    \"ns2:KorteNaam\": \"Bunnik\"\n",
      "                  }, \n",
      "                  {\n",
      "                    \"ns2:LangeNaam\": \"Driebergen-Zeist\", \n",
      "                    \"ns2:MiddelNaam\": \"Driebergen-Zeist\", \n",
      "                    \"ns2:StationCode\": \"DB\", \n",
      "                    \"ns2:Type\": \"1\", \n",
      "                    \"ns2:UICCode\": \"8400182\", \n",
      "                    \"ns2:KorteNaam\": \"Driebergen\"\n",
      "                  }, \n",
      "                  {\n",
      "                    \"ns2:LangeNaam\": \"Maarn\", \n",
      "                    \"ns2:MiddelNaam\": \"Maarn\", \n",
      "                    \"ns2:StationCode\": \"MRN\", \n",
      "                    \"ns2:Type\": \"1\", \n",
      "                    \"ns2:UICCode\": \"8400417\", \n",
      "                    \"ns2:KorteNaam\": \"Maarn\"\n",
      "                  }, \n",
      "                  {\n",
      "                    \"ns2:LangeNaam\": \"Veenendaal West\", \n",
      "                    \"ns2:MiddelNaam\": \"Veenendaal W.\", \n",
      "                    \"ns2:StationCode\": \"VNDW\", \n",
      "                    \"ns2:Type\": \"0\", \n",
      "                    \"ns2:UICCode\": \"8400628\", \n",
      "                    \"ns2:KorteNaam\": \"Veenendl W\"\n",
      "                  }, \n",
      "                  {\n",
      "                    \"ns2:LangeNaam\": \"Veenendaal Centrum\", \n",
      "                    \"ns2:MiddelNaam\": \"Veenendaal C.\", \n",
      "                    \"ns2:StationCode\": \"VNDC\", \n",
      "                    \"ns2:Type\": \"1\", \n",
      "                    \"ns2:UICCode\": \"8400627\", \n",
      "                    \"ns2:KorteNaam\": \"Veenendl C\"\n",
      "                  }, \n",
      "                  {\n",
      "                    \"ns2:LangeNaam\": \"Rhenen\", \n",
      "                    \"ns2:MiddelNaam\": \"Rhenen\", \n",
      "                    \"ns2:StationCode\": \"RHN\", \n",
      "                    \"ns2:Type\": \"1\", \n",
      "                    \"ns2:UICCode\": \"8400517\", \n",
      "                    \"ns2:KorteNaam\": \"Rhenen\"\n",
      "                  }\n",
      "                ], \n",
      "                \"@InfoStatus\": \"Gepland\"\n",
      "              }, \n",
      "              {\n",
      "                \"ns2:Station\": [\n",
      "                  {\n",
      "                    \"ns2:LangeNaam\": \"Utrecht Zuilen\", \n",
      "                    \"ns2:MiddelNaam\": \"Zuilen\", \n",
      "                    \"ns2:StationCode\": \"UTZL\", \n",
      "                    \"ns2:Type\": \"0\", \n",
      "                    \"ns2:UICCode\": \"8400613\", \n",
      "                    \"ns2:KorteNaam\": \"Zuilen\"\n",
      "                  }, \n",
      "                  {\n",
      "                    \"ns2:LangeNaam\": \"Utrecht Centraal\", \n",
      "                    \"ns2:MiddelNaam\": \"Utrecht C.\", \n",
      "                    \"ns2:StationCode\": \"UT\", \n",
      "                    \"ns2:Type\": \"6\", \n",
      "                    \"ns2:UICCode\": \"8400621\", \n",
      "                    \"ns2:KorteNaam\": \"Utrecht C\"\n",
      "                  }, \n",
      "                  {\n",
      "                    \"ns2:LangeNaam\": \"Utrecht Vaartsche Rijn\", \n",
      "                    \"ns2:MiddelNaam\": \"Vaartsche Rijn\", \n",
      "                    \"ns2:StationCode\": \"UTVR\", \n",
      "                    \"ns2:Type\": \"1\", \n",
      "                    \"ns2:UICCode\": \"8400606\", \n",
      "                    \"ns2:KorteNaam\": \"VaartscheR\"\n",
      "                  }, \n",
      "                  {\n",
      "                    \"ns2:LangeNaam\": \"Bunnik\", \n",
      "                    \"ns2:MiddelNaam\": \"Bunnik\", \n",
      "                    \"ns2:StationCode\": \"BNK\", \n",
      "                    \"ns2:Type\": \"0\", \n",
      "                    \"ns2:UICCode\": \"8400141\", \n",
      "                    \"ns2:KorteNaam\": \"Bunnik\"\n",
      "                  }, \n",
      "                  {\n",
      "                    \"ns2:LangeNaam\": \"Driebergen-Zeist\", \n",
      "                    \"ns2:MiddelNaam\": \"Driebergen-Zeist\", \n",
      "                    \"ns2:StationCode\": \"DB\", \n",
      "                    \"ns2:Type\": \"1\", \n",
      "                    \"ns2:UICCode\": \"8400182\", \n",
      "                    \"ns2:KorteNaam\": \"Driebergen\"\n",
      "                  }, \n",
      "                  {\n",
      "                    \"ns2:LangeNaam\": \"Maarn\", \n",
      "                    \"ns2:MiddelNaam\": \"Maarn\", \n",
      "                    \"ns2:StationCode\": \"MRN\", \n",
      "                    \"ns2:Type\": \"1\", \n",
      "                    \"ns2:UICCode\": \"8400417\", \n",
      "                    \"ns2:KorteNaam\": \"Maarn\"\n",
      "                  }, \n",
      "                  {\n",
      "                    \"ns2:LangeNaam\": \"Veenendaal West\", \n",
      "                    \"ns2:MiddelNaam\": \"Veenendaal W.\", \n",
      "                    \"ns2:StationCode\": \"VNDW\", \n",
      "                    \"ns2:Type\": \"0\", \n",
      "                    \"ns2:UICCode\": \"8400628\", \n",
      "                    \"ns2:KorteNaam\": \"Veenendl W\"\n",
      "                  }, \n",
      "                  {\n",
      "                    \"ns2:LangeNaam\": \"Veenendaal Centrum\", \n",
      "                    \"ns2:MiddelNaam\": \"Veenendaal C.\", \n",
      "                    \"ns2:StationCode\": \"VNDC\", \n",
      "                    \"ns2:Type\": \"1\", \n",
      "                    \"ns2:UICCode\": \"8400627\", \n",
      "                    \"ns2:KorteNaam\": \"Veenendl C\"\n",
      "                  }, \n",
      "                  {\n",
      "                    \"ns2:LangeNaam\": \"Rhenen\", \n",
      "                    \"ns2:MiddelNaam\": \"Rhenen\", \n",
      "                    \"ns2:StationCode\": \"RHN\", \n",
      "                    \"ns2:Type\": \"1\", \n",
      "                    \"ns2:UICCode\": \"8400517\", \n",
      "                    \"ns2:KorteNaam\": \"Rhenen\"\n",
      "                  }\n",
      "                ], \n",
      "                \"@InfoStatus\": \"Actueel\"\n",
      "              }\n",
      "            ], \n",
      "            \"ns2:TreinVleugelEindBestemming\": [\n",
      "              {\n",
      "                \"ns2:LangeNaam\": \"Rhenen\", \n",
      "                \"@InfoStatus\": \"Gepland\", \n",
      "                \"ns2:MiddelNaam\": \"Rhenen\", \n",
      "                \"ns2:StationCode\": \"RHN\", \n",
      "                \"ns2:Type\": \"1\", \n",
      "                \"ns2:UICCode\": \"8400517\", \n",
      "                \"ns2:KorteNaam\": \"Rhenen\"\n",
      "              }, \n",
      "              {\n",
      "                \"ns2:LangeNaam\": \"Rhenen\", \n",
      "                \"@InfoStatus\": \"Actueel\", \n",
      "                \"ns2:MiddelNaam\": \"Rhenen\", \n",
      "                \"ns2:StationCode\": \"RHN\", \n",
      "                \"ns2:Type\": \"1\", \n",
      "                \"ns2:UICCode\": \"8400517\", \n",
      "                \"ns2:KorteNaam\": \"Rhenen\"\n",
      "              }\n",
      "            ], \n",
      "            \"ns2:MaterieelDeelDVS\": {\n",
      "              \"ns2:MaterieelLengte\": \"10050\", \n",
      "              \"ns2:MaterieelNummer\": \"000000-02656-0\", \n",
      "              \"ns2:PresentatieMaterieelDeelEindBestemming\": {\n",
      "                \"ns2:Uitingen\": {\n",
      "                  \"ns2:Uiting\": \"Rhenen\"\n",
      "                }\n",
      "              }, \n",
      "              \"ns2:MaterieelDeelEindBestemming\": [\n",
      "                {\n",
      "                  \"ns2:LangeNaam\": \"Rhenen\", \n",
      "                  \"@InfoStatus\": \"Gepland\", \n",
      "                  \"ns2:MiddelNaam\": \"Rhenen\", \n",
      "                  \"ns2:StationCode\": \"RHN\", \n",
      "                  \"ns2:Type\": \"1\", \n",
      "                  \"ns2:UICCode\": \"8400517\", \n",
      "                  \"ns2:KorteNaam\": \"Rhenen\"\n",
      "                }, \n",
      "                {\n",
      "                  \"ns2:LangeNaam\": \"Rhenen\", \n",
      "                  \"@InfoStatus\": \"Actueel\", \n",
      "                  \"ns2:MiddelNaam\": \"Rhenen\", \n",
      "                  \"ns2:StationCode\": \"RHN\", \n",
      "                  \"ns2:Type\": \"1\", \n",
      "                  \"ns2:UICCode\": \"8400517\", \n",
      "                  \"ns2:KorteNaam\": \"Rhenen\"\n",
      "                }\n",
      "              ], \n",
      "              \"ns2:MaterieelAanduiding\": \"6\", \n",
      "              \"ns2:MaterieelSoort\": \"SLT\"\n",
      "            }, \n",
      "            \"ns2:PresentatieTreinVleugelEindBestemming\": {\n",
      "              \"ns2:Uitingen\": {\n",
      "                \"ns2:Uiting\": \"Rhenen\"\n",
      "              }\n",
      "            }\n",
      "          }, \n",
      "          \"ns2:TreinEindBestemming\": [\n",
      "            {\n",
      "              \"ns2:LangeNaam\": \"Rhenen\", \n",
      "              \"@InfoStatus\": \"Gepland\", \n",
      "              \"ns2:MiddelNaam\": \"Rhenen\", \n",
      "              \"ns2:StationCode\": \"RHN\", \n",
      "              \"ns2:Type\": \"1\", \n",
      "              \"ns2:UICCode\": \"8400517\", \n",
      "              \"ns2:KorteNaam\": \"Rhenen\"\n",
      "            }, \n",
      "            {\n",
      "              \"ns2:LangeNaam\": \"Rhenen\", \n",
      "              \"@InfoStatus\": \"Actueel\", \n",
      "              \"ns2:MiddelNaam\": \"Rhenen\", \n",
      "              \"ns2:StationCode\": \"RHN\", \n",
      "              \"ns2:Type\": \"1\", \n",
      "              \"ns2:UICCode\": \"8400517\", \n",
      "              \"ns2:KorteNaam\": \"Rhenen\"\n",
      "            }\n",
      "          ], \n",
      "          \"ns2:AchterBlijvenAchtersteTreinDeel\": \"N\", \n",
      "          \"ns2:Reserveren\": \"N\", \n",
      "          \"ns2:AfstandPerronEindKopVertrekTrein\": \"0\", \n",
      "          \"ns2:VerkorteRoute\": [\n",
      "            {\n",
      "              \"ns2:Station\": [\n",
      "                {\n",
      "                  \"ns2:LangeNaam\": \"Utrecht Centraal\", \n",
      "                  \"ns2:MiddelNaam\": \"Utrecht C.\", \n",
      "                  \"ns2:StationCode\": \"UT\", \n",
      "                  \"ns2:Type\": \"6\", \n",
      "                  \"ns2:UICCode\": \"8400621\", \n",
      "                  \"ns2:KorteNaam\": \"Utrecht C\"\n",
      "                }, \n",
      "                {\n",
      "                  \"ns2:LangeNaam\": \"Utrecht Vaartsche Rijn\", \n",
      "                  \"ns2:MiddelNaam\": \"Vaartsche Rijn\", \n",
      "                  \"ns2:StationCode\": \"UTVR\", \n",
      "                  \"ns2:Type\": \"1\", \n",
      "                  \"ns2:UICCode\": \"8400606\", \n",
      "                  \"ns2:KorteNaam\": \"VaartscheR\"\n",
      "                }, \n",
      "                {\n",
      "                  \"ns2:LangeNaam\": \"Driebergen-Zeist\", \n",
      "                  \"ns2:MiddelNaam\": \"Driebergen-Zeist\", \n",
      "                  \"ns2:StationCode\": \"DB\", \n",
      "                  \"ns2:Type\": \"1\", \n",
      "                  \"ns2:UICCode\": \"8400182\", \n",
      "                  \"ns2:KorteNaam\": \"Driebergen\"\n",
      "                }, \n",
      "                {\n",
      "                  \"ns2:LangeNaam\": \"Maarn\", \n",
      "                  \"ns2:MiddelNaam\": \"Maarn\", \n",
      "                  \"ns2:StationCode\": \"MRN\", \n",
      "                  \"ns2:Type\": \"1\", \n",
      "                  \"ns2:UICCode\": \"8400417\", \n",
      "                  \"ns2:KorteNaam\": \"Maarn\"\n",
      "                }\n",
      "              ], \n",
      "              \"@InfoStatus\": \"Gepland\"\n",
      "            }, \n",
      "            {\n",
      "              \"ns2:Station\": [\n",
      "                {\n",
      "                  \"ns2:LangeNaam\": \"Utrecht Centraal\", \n",
      "                  \"ns2:MiddelNaam\": \"Utrecht C.\", \n",
      "                  \"ns2:StationCode\": \"UT\", \n",
      "                  \"ns2:Type\": \"6\", \n",
      "                  \"ns2:UICCode\": \"8400621\", \n",
      "                  \"ns2:KorteNaam\": \"Utrecht C\"\n",
      "                }, \n",
      "                {\n",
      "                  \"ns2:LangeNaam\": \"Utrecht Vaartsche Rijn\", \n",
      "                  \"ns2:MiddelNaam\": \"Vaartsche Rijn\", \n",
      "                  \"ns2:StationCode\": \"UTVR\", \n",
      "                  \"ns2:Type\": \"1\", \n",
      "                  \"ns2:UICCode\": \"8400606\", \n",
      "                  \"ns2:KorteNaam\": \"VaartscheR\"\n",
      "                }, \n",
      "                {\n",
      "                  \"ns2:LangeNaam\": \"Driebergen-Zeist\", \n",
      "                  \"ns2:MiddelNaam\": \"Driebergen-Zeist\", \n",
      "                  \"ns2:StationCode\": \"DB\", \n",
      "                  \"ns2:Type\": \"1\", \n",
      "                  \"ns2:UICCode\": \"8400182\", \n",
      "                  \"ns2:KorteNaam\": \"Driebergen\"\n",
      "                }, \n",
      "                {\n",
      "                  \"ns2:LangeNaam\": \"Maarn\", \n",
      "                  \"ns2:MiddelNaam\": \"Maarn\", \n",
      "                  \"ns2:StationCode\": \"MRN\", \n",
      "                  \"ns2:Type\": \"1\", \n",
      "                  \"ns2:UICCode\": \"8400417\", \n",
      "                  \"ns2:KorteNaam\": \"Maarn\"\n",
      "                }\n",
      "              ], \n",
      "              \"@InfoStatus\": \"Actueel\"\n",
      "            }\n",
      "          ], \n",
      "          \"ns2:TreinVertrekSpoor\": [\n",
      "            {\n",
      "              \"@InfoStatus\": \"Gepland\", \n",
      "              \"ns2:SpoorNummer\": \"3\"\n",
      "            }, \n",
      "            {\n",
      "              \"@InfoStatus\": \"Actueel\", \n",
      "              \"ns2:SpoorNummer\": \"3\"\n",
      "            }\n",
      "          ], \n",
      "          \"ns2:Toeslag\": \"N\", \n",
      "          \"ns2:TreinSoort\": {\n",
      "            \"@Code\": \"SPR\", \n",
      "            \"#text\": \"Sprinter\"\n",
      "          }, \n",
      "          \"ns2:TreinFormule\": \"1\", \n",
      "          \"ns2:PresentatieTreinEindBestemming\": {\n",
      "            \"ns2:Uitingen\": {\n",
      "              \"ns2:Uiting\": \"Rhenen\"\n",
      "            }\n",
      "          }, \n",
      "          \"ns2:SpeciaalKaartje\": \"N\", \n",
      "          \"ns2:Vervoerder\": \"NS\", \n",
      "          \"ns2:GedempteVertrekVertraging\": \"PT0S\"\n",
      "        }\n",
      "      }\n",
      "    }, \n",
      "    \"@xmlns:ns2\": \"urn:ndov:cdm:trein:reisinformatie:data:4\"\n",
      "  }\n",
      "}"
     ]
    }
   ],
   "source": [
    "example_departures = client.topics[b'ndovloketnl-departures'].get_simple_consumer(\n",
    "    auto_offset_reset=OffsetType.EARLIEST,\n",
    "    reset_offset_on_start=True\n",
    ").consume()\n",
    "print(json.dumps(json.loads(example_departures.value), indent=2))"
   ]
  },
  {
   "cell_type": "markdown",
   "metadata": {},
   "source": [
    "We can see that the messages have the following structure:\n",
    "\n",
    "```\n",
    "{\n",
    "  'ns1:PutReisInformatieBoodschapIn': {\n",
    "    'ns2:ReisInformatieProductDVS' or 'ns2:ReisInformatieProductDAS': {\n",
    "      'ns2:DynamischeVertrekStaat' or 'ns2:DynamischeAankomstStaat': {\n",
    "          'ns2:RitStation': <station_info>,\n",
    "          'ns2:Trein' or 'ns2:TreinAankomst': {\n",
    "              'ns2:VertrekTijd' or 'ns2:AankomstTijd': [<planned_and_actual_times>],\n",
    "              'ns2:TreinNummer': <train_number>,\n",
    "              'ns2:TreinSoort': <kind_of_train>,\n",
    "              ...\n",
    "          }\n",
    "           \n",
    "      }\n",
    "    }\n",
    "  }\n",
    "}\n",
    "```\n",
    "\n",
    "We can see also that the train stations have a long name `ns2:LangeNaam`, a medium name `ns2:MiddelNaam`, a short name `ns2:KorteNaam`, a station code `ns2:StationCode` and a kind of nummerical ID `ns2:UICCode`. When giving information about times, tracks, direction,... you will find sometimes the information twice with the status `Gepland` (which means planned, according to the schedule) and `Actueel`(which means the actual measured value). "
   ]
  },
  {
   "cell_type": "markdown",
   "metadata": {},
   "source": [
    "**Question III.a. (5/20)** We want to compute the time a train stays at a station and get a real-time histogram for a given time window. To begin with, you need to write some parsing functions that will allow you to get information from the data streams. We have prepare one function `parse_train_dep` for the stream `ndovloketnl-departures`, which returns a Key-Value pair."
   ]
  },
  {
   "cell_type": "code",
   "execution_count": 24,
   "metadata": {
    "scrolled": true
   },
   "outputs": [
    {
     "data": {
      "application/vnd.jupyter.widget-view+json": {
       "model_id": "",
       "version_major": 2,
       "version_minor": 0
      },
      "text/plain": [
       "FloatProgress(value=0.0, bar_style='info', description='Progress:', layout=Layout(height='25px', width='50%'),…"
      ]
     },
     "metadata": {},
     "output_type": "display_data"
    }
   ],
   "source": [
    "import json\n",
    "\n",
    "def parse_train_dep(s):\n",
    "    obj = json.loads(s)\n",
    "    tn = obj.get('ns1:PutReisInformatieBoodschapIn', {}).get('ns2:ReisInformatieProductDVS', {}).get('ns2:DynamischeVertrekStaat', {}).get('ns2:Trein', {}).get(\"ns2:TreinNummer\")\n",
    "    st = obj.get('ns1:PutReisInformatieBoodschapIn', {}).get('ns2:ReisInformatieProductDVS', {}).get('ns2:DynamischeVertrekStaat', {}).get('ns2:RitStation', {}).get(\"ns2:UICCode\")\n",
    "    if tn and st:\n",
    "        return [(\"{}-{}\".format(tn, st), obj)]\n",
    "    else:\n",
    "        return []"
   ]
  },
  {
   "cell_type": "markdown",
   "metadata": {},
   "source": [
    "__Q (1/5)__  Please check the function `parse_train_dep` above. Explain how we construct the Key and the Value, and why we construct them in this way."
   ]
  },
  {
   "cell_type": "markdown",
   "metadata": {},
   "source": [
    "__Answer__: For the key, you selected train number(TreinNummer) and Station Id (UICCode) and combined them such that TreinNummer-UICCode.Value is the object itself. So (Key,Value) is (TreinNummer-UICCode, json_object).\n",
    "For the keys you extracted the value from their nested positions.\n",
    "\n",
    "For example TreinNummer is nested like this:\n",
    "{'ns1:PutReisInformatieBoodschapIn':\n",
    "                {..\n",
    "                   'ns2:ReisInformatieProductDVS':\n",
    "                       {...\n",
    "                           'ns2:DynamischeVertrekStaat':\n",
    "                               {...\n",
    "                                   \n"
   ]
  },
  {
   "cell_type": "markdown",
   "metadata": {},
   "source": [
    "__Q (2/5)__ Take `parse_train_dep` as an example and write the function `parse_train_arr` for the stream `ndovloketnl-arrivals`. Make sure they have the same output format."
   ]
  },
  {
   "cell_type": "code",
   "execution_count": 25,
   "metadata": {
    "scrolled": true
   },
   "outputs": [
    {
     "data": {
      "application/vnd.jupyter.widget-view+json": {
       "model_id": "",
       "version_major": 2,
       "version_minor": 0
      },
      "text/plain": [
       "FloatProgress(value=0.0, bar_style='info', description='Progress:', layout=Layout(height='25px', width='50%'),…"
      ]
     },
     "metadata": {},
     "output_type": "display_data"
    }
   ],
   "source": [
    "def parse_train_arr(s):\n",
    "    obj = json.loads(s)\n",
    "    tn = obj.get('ns1:PutReisInformatieBoodschapIn', {}).get('ns2:ReisInformatieProductDAS', {}).get('ns2:DynamischeAankomstStaat', {}).get('ns2:TreinAankomst', {}).get(\"ns2:TreinNummer\")\n",
    "    st = obj.get('ns1:PutReisInformatieBoodschapIn', {}).get('ns2:ReisInformatieProductDAS', {}).get('ns2:DynamischeAankomstStaat', {}).get('ns2:RitStation', {}).get(\"ns2:UICCode\")\n",
    "    if tn and st:\n",
    "        return [(\"{}-{}\".format(tn, st), obj)]\n",
    "    else:\n",
    "        return []"
   ]
  },
  {
   "cell_type": "markdown",
   "metadata": {},
   "source": [
    "__Q (2/5)__ Another parsing function you may need is `get_actual_time`, which will allow you to extract the actual time from the fields of time information, which are `ns2:AankomstTijd` in the arrival stream and `ns2:VertrekTijd` in the departure stream. \n",
    "\n",
    "__Note:__ These two fields may be empty and they may not contain the actual time information. In both cases the function should return `None`."
   ]
  },
  {
   "cell_type": "code",
   "execution_count": 36,
   "metadata": {
    "scrolled": true
   },
   "outputs": [
    {
     "data": {
      "application/vnd.jupyter.widget-view+json": {
       "model_id": "",
       "version_major": 2,
       "version_minor": 0
      },
      "text/plain": [
       "FloatProgress(value=0.0, bar_style='info', description='Progress:', layout=Layout(height='25px', width='50%'),…"
      ]
     },
     "metadata": {},
     "output_type": "display_data"
    }
   ],
   "source": [
    "import datetime\n",
    "def get_actual_time(tab):\n",
    "    for t in tab:\n",
    "        try:\n",
    "            if t[\"@InfoStatus\"] == \"Actueel\":\n",
    "                at = datetime.datetime.strptime(t[\"#text\"][:-5], \"%Y-%m-%dT%H:%M:%S\") \n",
    "                return at\n",
    "        except:\n",
    "            return None\n",
    "        \n",
    "#Create function to seperate arrival and departure\n",
    "def get_actual_time_helper(s,t):\n",
    "    js = json.loads(s)\n",
    "    if t == \"departures\":\n",
    "        tab  = js.get('ns1:PutReisInformatieBoodschapIn', {}).get(\"ns2:ReisInformatieProductDVS\", {}).get(\"ns2:DynamischeVertrekStaat\", {}).get(\"ns2:Trein\", {}).get(\"ns2:VertrekTijd\",{})\n",
    "    else:\n",
    "        tab  = js.get('ns1:PutReisInformatieBoodschapIn', {}).get(\"ns2:ReisInformatieProductDAS\", {}).get(\"ns2:DynamischeAankomstStaat\", {}).get(\"ns2:TreinAankomst\", {}).get(\"ns2:AankomstTijd\",{})\n",
    "\n",
    "    return get_actual_time(tab)"
   ]
  },
  {
   "cell_type": "code",
   "execution_count": 38,
   "metadata": {},
   "outputs": [
    {
     "data": {
      "application/vnd.jupyter.widget-view+json": {
       "model_id": "",
       "version_major": 2,
       "version_minor": 0
      },
      "text/plain": [
       "FloatProgress(value=0.0, bar_style='info', description='Progress:', layout=Layout(height='25px', width='50%'),…"
      ]
     },
     "metadata": {},
     "output_type": "display_data"
    }
   ],
   "source": [
    "# Get the field of time in the departure stream\n",
    "example_json = json.loads(example_departures.value)\n",
    "tab = example_json.get('ns1:PutReisInformatieBoodschapIn', {}).get(\"ns2:ReisInformatieProductDVS\", {}).get(\"ns2:DynamischeVertrekStaat\", {}).get(\"ns2:Trein\", {}).get(\"ns2:VertrekTijd\",{})"
   ]
  },
  {
   "cell_type": "code",
   "execution_count": 39,
   "metadata": {},
   "outputs": [
    {
     "data": {
      "application/vnd.jupyter.widget-view+json": {
       "model_id": "",
       "version_major": 2,
       "version_minor": 0
      },
      "text/plain": [
       "FloatProgress(value=0.0, bar_style='info', description='Progress:', layout=Layout(height='25px', width='50%'),…"
      ]
     },
     "metadata": {},
     "output_type": "display_data"
    },
    {
     "name": "stdout",
     "output_type": "stream",
     "text": [
      "datetime.datetime(2020, 4, 23, 15, 32)"
     ]
    }
   ],
   "source": [
    "# Example results from `get_actual_time`\n",
    "get_actual_time(tab)"
   ]
  },
  {
   "cell_type": "markdown",
   "metadata": {},
   "source": [
    "**Question III.b. (5/20)** Create two Spark streams from the arrivals and departures where the records are in the form (Key, Value) using `parse_train_dep` and  `parse_train_arr`. "
   ]
  },
  {
   "cell_type": "code",
   "execution_count": 77,
   "metadata": {
    "scrolled": true
   },
   "outputs": [
    {
     "data": {
      "application/vnd.jupyter.widget-view+json": {
       "model_id": "",
       "version_major": 2,
       "version_minor": 0
      },
      "text/plain": [
       "FloatProgress(value=0.0, bar_style='info', description='Progress:', layout=Layout(height='25px', width='50%'),…"
      ]
     },
     "metadata": {},
     "output_type": "display_data"
    }
   ],
   "source": [
    "from pyspark.streaming import StreamingContext\n",
    "from pyspark.streaming.kafka import KafkaUtils\n",
    "\n",
    "# recreate the streaming context\n",
    "ssc = StreamingContext(sc, 10)\n",
    "ssc.checkpoint(checkpoint)\n",
    "\n",
    "group_id = 'ns-{0}'.format(username)\n",
    "\n",
    "# Input streams\n",
    "arrival_stream = KafkaUtils.createStream(ssc, ZOOKEEPER_QUORUM, group_id, { 'ndovloketnl-arrivals': 1})\n",
    "departure_stream = KafkaUtils.createStream(ssc, ZOOKEEPER_QUORUM, group_id, { 'ndovloketnl-departures': 1})"
   ]
  },
  {
   "cell_type": "code",
   "execution_count": 78,
   "metadata": {},
   "outputs": [
    {
     "data": {
      "application/vnd.jupyter.widget-view+json": {
       "model_id": "",
       "version_major": 2,
       "version_minor": 0
      },
      "text/plain": [
       "FloatProgress(value=0.0, bar_style='info', description='Progress:', layout=Layout(height='25px', width='50%'),…"
      ]
     },
     "metadata": {},
     "output_type": "display_data"
    }
   ],
   "source": [
    "arrival_stream_m = arrival_stream.map(lambda x :(parse_train_arr(x[1])[0][0],get_actual_time_helper(x[1],\"arrival\")))\n",
    "\n",
    "departure_stream_m = departure_stream.map(lambda x :(parse_train_dep(x[1])[0][0],get_actual_time_helper(x[1],\"departures\")))\n",
    "                                                     \n",
    "                                                     \n"
   ]
  },
  {
   "cell_type": "markdown",
   "metadata": {},
   "source": [
    "**Question III.c. (5/20)** \n",
    "Every 20 seconds, we want to have a list of trains that had departed from any train station after staying for 5 minutes or less at the station. Apply a window of 20s sliding interval on arrival and departure streams. Join two streams such that trains staying for 5 minutes or less (± 20 seconds error due to sliding interval) at any station are caught by the join in the RDD window of the joined stream (you can ignore late messages). \n",
    "\n",
    "__Hint:__\n",
    "- Check [here](https://spark.apache.org/docs/2.3.1/streaming-programming-guide.html#window-operations) for windowed computations in Spark Streaming.\n",
    "- Use the methods [reduceByKeyAndWindow](https://spark.apache.org/docs/2.3.1/api/python/pyspark.streaming.html?highlight=reducebykey#pyspark.streaming.DStream.reduceByKeyAndWindow) and [join](https://spark.apache.org/docs/2.3.1/api/python/pyspark.streaming.html?highlight=reducebykey#pyspark.streaming.DStream.join) on DStream objects.\n",
    "- Both windows should have `slideDuration` of 20s\n",
    "- You have to pick the sizes of windows `windowDuration` carefully. The sizes can be different: \n",
    "    - The trains staying for 5 minutes or less (± 20 seconds error due to sliding interval) must be in the joined stream.\n",
    "    - A same stay (i.e. one train at one station) is caught in the joined stream once and only once."
   ]
  },
  {
   "cell_type": "code",
   "execution_count": 79,
   "metadata": {
    "scrolled": true
   },
   "outputs": [
    {
     "data": {
      "application/vnd.jupyter.widget-view+json": {
       "model_id": "",
       "version_major": 2,
       "version_minor": 0
      },
      "text/plain": [
       "FloatProgress(value=0.0, bar_style='info', description='Progress:', layout=Layout(height='25px', width='50%'),…"
      ]
     },
     "metadata": {},
     "output_type": "display_data"
    }
   ],
   "source": [
    "#create arrival and departure stream, reducebykey so we have only one train for each window\n",
    "arrival_stream_windowr = arrival_stream_m.reduceByKeyAndWindow(lambda x,y:x,20, 20)\n",
    "departure_stream_windowr = departure_stream_m.reduceByKeyAndWindow(lambda x,y:x,60*5+20, 20)\n",
    "\n",
    "#join them\n",
    "joinedstream = arrival_stream_windowr.join(departure_stream_windowr)\n",
    "\n"
   ]
  },
  {
   "cell_type": "markdown",
   "metadata": {},
   "source": [
    "**Question III.d. (5/20)** On the joined stream, compute the length of each stay (you can round to the minute) and produce a stream of histograms. You don't need to plot them, a value/count array is enough, like:\n",
    "```\n",
    "-------------------------------------------\n",
    "Time: 2018-05-17 11:10:00\n",
    "-------------------------------------------\n",
    "(0.0, 110)\n",
    "(8.0, 2)\n",
    "(4.0, 3)\n",
    "\n",
    "-------------------------------------------\n",
    "Time: 2018-05-17 11:10:20\n",
    "-------------------------------------------\n",
    "(0.0, 46)\n",
    "(4.0, 2)\n",
    "(1.0, 5)\n",
    "```"
   ]
  },
  {
   "cell_type": "code",
   "execution_count": 80,
   "metadata": {
    "scrolled": true
   },
   "outputs": [
    {
     "data": {
      "application/vnd.jupyter.widget-view+json": {
       "model_id": "",
       "version_major": 2,
       "version_minor": 0
      },
      "text/plain": [
       "FloatProgress(value=0.0, bar_style='info', description='Progress:', layout=Layout(height='25px', width='50%'),…"
      ]
     },
     "metadata": {},
     "output_type": "display_data"
    }
   ],
   "source": [
    "def stay_min(x):\n",
    "    return round((x[1][1] - x[1][0]).total_seconds()/60)\n",
    "staystream = joinedstream.map(lambda x:(x[0],stay_min(x)))\n",
    "histograms_stream = staystream.map(lambda x : x[1]).countByValue()\n",
    "\n",
    "histograms_stream.pprint()"
   ]
  },
  {
   "cell_type": "code",
   "execution_count": 81,
   "metadata": {
    "scrolled": true
   },
   "outputs": [
    {
     "data": {
      "application/vnd.jupyter.widget-view+json": {
       "model_id": "",
       "version_major": 2,
       "version_minor": 0
      },
      "text/plain": [
       "FloatProgress(value=0.0, bar_style='info', description='Progress:', layout=Layout(height='25px', width='50%'),…"
      ]
     },
     "metadata": {},
     "output_type": "display_data"
    }
   ],
   "source": [
    "ssc.start() \n",
    "ssc.awaitTermination(timeout=200)#200"
   ]
  },
  {
   "cell_type": "code",
   "execution_count": 82,
   "metadata": {
    "scrolled": true
   },
   "outputs": [
    {
     "data": {
      "application/vnd.jupyter.widget-view+json": {
       "model_id": "",
       "version_major": 2,
       "version_minor": 0
      },
      "text/plain": [
       "FloatProgress(value=0.0, bar_style='info', description='Progress:', layout=Layout(height='25px', width='50%'),…"
      ]
     },
     "metadata": {},
     "output_type": "display_data"
    },
    {
     "name": "stdout",
     "output_type": "stream",
     "text": [
      "-------------------------------------------\n",
      "Time: 2020-05-05 01:11:50\n",
      "-------------------------------------------\n",
      "(0.0, 6)\n",
      "(2.0, 2)\n",
      "(1.0, 1)\n",
      "\n",
      "-------------------------------------------\n",
      "Time: 2020-05-05 01:12:00\n",
      "-------------------------------------------\n",
      "(0.0, 13)\n",
      "(2.0, 3)\n",
      "(1.0, 1)\n",
      "\n",
      "-------------------------------------------\n",
      "Time: 2020-05-05 01:12:10\n",
      "-------------------------------------------\n",
      "(0.0, 10)\n",
      "(2.0, 1)\n",
      "\n",
      "-------------------------------------------\n",
      "Time: 2020-05-05 01:12:20\n",
      "-------------------------------------------\n",
      "(0.0, 6)\n",
      "(2.0, 1)\n",
      "\n",
      "-------------------------------------------\n",
      "Time: 2020-05-05 01:12:30\n",
      "-------------------------------------------\n",
      "(0.0, 3)\n",
      "(2.0, 1)\n",
      "(1.0, 1)\n",
      "\n",
      "-------------------------------------------\n",
      "Time: 2020-05-05 01:12:40\n",
      "-------------------------------------------\n",
      "(0.0, 1)\n",
      "(1.0, 1)\n",
      "\n",
      "-------------------------------------------\n",
      "Time: 2020-05-05 01:12:50\n",
      "-------------------------------------------\n",
      "(0.0, 3)\n",
      "(1.0, 1)\n",
      "\n",
      "-------------------------------------------\n",
      "Time: 2020-05-05 01:13:00\n",
      "-------------------------------------------\n",
      "(0.0, 3)\n",
      "(1.0, 1)\n",
      "\n",
      "-------------------------------------------\n",
      "Time: 2020-05-05 01:13:10\n",
      "-------------------------------------------\n",
      "(1.0, 1)\n",
      "\n",
      "-------------------------------------------\n",
      "Time: 2020-05-05 01:13:20\n",
      "-------------------------------------------\n",
      "(0.0, 2)\n",
      "\n",
      "-------------------------------------------\n",
      "Time: 2020-05-05 01:13:30\n",
      "-------------------------------------------\n",
      "(0.0, 2)\n",
      "(1.0, 2)\n",
      "\n",
      "-------------------------------------------\n",
      "Time: 2020-05-05 01:13:40\n",
      "-------------------------------------------\n",
      "(1.0, 2)\n",
      "\n",
      "-------------------------------------------\n",
      "Time: 2020-05-05 01:13:50\n",
      "-------------------------------------------\n",
      "(0.0, 3)\n",
      "(2.0, 1)\n",
      "\n",
      "-------------------------------------------\n",
      "Time: 2020-05-05 01:14:00\n",
      "-------------------------------------------\n",
      "(0.0, 5)\n",
      "(2.0, 1)\n",
      "\n",
      "-------------------------------------------\n",
      "Time: 2020-05-05 01:14:10\n",
      "-------------------------------------------\n",
      "(0.0, 2)\n",
      "\n",
      "-------------------------------------------\n",
      "Time: 2020-05-05 01:14:20\n",
      "-------------------------------------------\n",
      "(1.0, 1)\n",
      "\n",
      "-------------------------------------------\n",
      "Time: 2020-05-05 01:14:30\n",
      "-------------------------------------------\n",
      "(0.0, 3)\n",
      "(1.0, 1)\n",
      "\n",
      "-------------------------------------------\n",
      "Time: 2020-05-05 01:14:40\n",
      "-------------------------------------------\n",
      "(0.0, 4)\n",
      "\n",
      "-------------------------------------------\n",
      "Time: 2020-05-05 01:14:50\n",
      "-------------------------------------------\n",
      "(0.0, 2)\n",
      "\n",
      "-------------------------------------------\n",
      "Time: 2020-05-05 01:15:00\n",
      "-------------------------------------------\n",
      "(0.0, 6)\n",
      "\n",
      "-------------------------------------------\n",
      "Time: 2020-05-05 01:15:10\n",
      "-------------------------------------------\n",
      "(0.0, 5)\n",
      "\n",
      "-------------------------------------------\n",
      "Time: 2020-05-05 01:15:20\n",
      "-------------------------------------------\n",
      "\n",
      "-------------------------------------------\n",
      "Time: 2020-05-05 01:15:30\n",
      "-------------------------------------------\n",
      "\n",
      "-------------------------------------------\n",
      "Time: 2020-05-05 01:15:40\n",
      "-------------------------------------------\n",
      "\n",
      "-------------------------------------------\n",
      "Time: 2020-05-05 01:15:50\n",
      "-------------------------------------------\n",
      "\n",
      "-------------------------------------------\n",
      "Time: 2020-05-05 01:16:00\n",
      "-------------------------------------------\n",
      "\n",
      "-------------------------------------------\n",
      "Time: 2020-05-05 01:16:10\n",
      "-------------------------------------------\n",
      "\n",
      "-------------------------------------------\n",
      "Time: 2020-05-05 01:16:20\n",
      "-------------------------------------------\n",
      "\n",
      "-------------------------------------------\n",
      "Time: 2020-05-05 01:16:30\n",
      "-------------------------------------------\n",
      "\n",
      "-------------------------------------------\n",
      "Time: 2020-05-05 01:16:40\n",
      "-------------------------------------------\n",
      "\n",
      "-------------------------------------------\n",
      "Time: 2020-05-05 01:16:50\n",
      "-------------------------------------------\n",
      "\n",
      "-------------------------------------------\n",
      "Time: 2020-05-05 01:17:00\n",
      "-------------------------------------------"
     ]
    }
   ],
   "source": [
    "ssc.stop(stopSparkContext=False, stopGraceFully=True)"
   ]
  },
  {
   "cell_type": "code",
   "execution_count": null,
   "metadata": {},
   "outputs": [],
   "source": []
  }
 ],
 "metadata": {
  "kernelspec": {
   "display_name": "PySpark",
   "language": "",
   "name": "pysparkkernel"
  },
  "language_info": {
   "codemirror_mode": {
    "name": "python",
    "version": 3
   },
   "mimetype": "text/x-python",
   "name": "pyspark",
   "pygments_lexer": "python3"
  }
 },
 "nbformat": 4,
 "nbformat_minor": 4
}
